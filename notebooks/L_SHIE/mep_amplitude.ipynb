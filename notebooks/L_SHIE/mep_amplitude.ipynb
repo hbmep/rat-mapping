{
 "cells": [
  {
   "cell_type": "code",
   "execution_count": 1,
   "metadata": {},
   "outputs": [],
   "source": [
    "import os\n",
    "import pickle\n",
    "import models\n",
    "\n",
    "import numpy as np\n",
    "import numpy.ma as ma\n",
    "import matplotlib.pyplot as plt\n",
    "import seaborn as sns\n",
    "from numpyro.diagnostics import hpdi\n",
    "\n",
    "from hbmep.nn import functional as F\n",
    "from hbmep.model.utils import Site as site\n",
    "\n",
    "from hbmep.config import Config\n",
    "from hbmep.model.utils import Site as site\n",
    "from scipy import stats\n",
    "\n",
    "from models import NonHierarchicalBayesianModel\n",
    "\n",
    "USER = os.environ[\"USER\"]\n",
    "\n",
    "# NORMALIZATION WILL BE ACROSS ELECTRODE"
   ]
  },
  {
   "cell_type": "code",
   "execution_count": 2,
   "metadata": {},
   "outputs": [
    {
     "name": "stderr",
     "output_type": "stream",
     "text": [
      "An NVIDIA GPU may be present on this machine, but a CUDA-enabled jaxlib is not installed. Falling back to cpu.\n"
     ]
    }
   ],
   "source": [
    "src = f\"/home/{USER}/repos/rat-mapping-paper/reports/non-hierarchical/L_SHIE/non_hierarchical_bayesian_model/inference.pkl\"\n",
    "with open(src, \"rb\") as f:\n",
    "    (\n",
    "        df,\n",
    "        encoder_dict,\n",
    "        model,\n",
    "        posterior_samples,\n",
    "    ) = pickle.load(f)"
   ]
  },
  {
   "cell_type": "code",
   "execution_count": 3,
   "metadata": {},
   "outputs": [],
   "source": [
    "a = posterior_samples[site.a]\n",
    "b = posterior_samples[site.b]\n",
    "L = posterior_samples[site.L]\n",
    "ell = posterior_samples[site.ell]\n",
    "H = posterior_samples[site.H]\n",
    "\n",
    "x = np.linspace(0, 500, 1000)\n",
    "\n",
    "named_params = [site.a, site.b, site.L, site.ell, site.H]\n",
    "params = [posterior_samples[param][ ...] for param in named_params]\n",
    "\n",
    "subjects = sorted(df['participant'].unique())\n",
    "# subjects = encoder_dict['participant'].inverse_transform(subjects)\n",
    "\n",
    "positions = sorted(df['compound_position'].unique())\n",
    "# positions = encoder_dict['compound_position'].inverse_transform(positions)\n",
    "positions\n",
    "\n",
    "charges = sorted(df[\"compound_charge_params\"].unique())     # Sort the encoded charges so they are in the same order as the posterior samples\n",
    "# charges = encoder_dict['compound_charge_params'].inverse_transform(charges)     # Then decode the charges, this maintains the order of the charges\n",
    "muscles = model.response"
   ]
  },
  {
   "cell_type": "code",
   "execution_count": 4,
   "metadata": {},
   "outputs": [
    {
     "data": {
      "text/plain": [
       "(4000, 8, 4, 2, 6)"
      ]
     },
     "execution_count": 4,
     "metadata": {},
     "output_type": "execute_result"
    }
   ],
   "source": [
    "a.shape"
   ]
  },
  {
   "cell_type": "code",
   "execution_count": 5,
   "metadata": {},
   "outputs": [
    {
     "data": {
      "text/plain": [
       "array(['-C6LC', 'C6LC-', 'C6LC-C6LX', 'C6LX-C6LC'], dtype=object)"
      ]
     },
     "execution_count": 5,
     "metadata": {},
     "output_type": "execute_result"
    }
   ],
   "source": [
    "encoder_dict['compound_position'].inverse_transform(positions)"
   ]
  },
  {
   "cell_type": "code",
   "execution_count": 19,
   "metadata": {},
   "outputs": [
    {
     "data": {
      "text/plain": [
       "array(['20-0-80-25', '50-0-50-100'], dtype=object)"
      ]
     },
     "execution_count": 19,
     "metadata": {},
     "output_type": "execute_result"
    }
   ],
   "source": [
    "encoder_dict['compound_charge_params'].inverse_transform(charges)"
   ]
  },
  {
   "cell_type": "code",
   "execution_count": 20,
   "metadata": {},
   "outputs": [],
   "source": [
    "norm_y = []\n",
    "norm_x = []\n",
    "charge_ind = 0\n",
    "target_position = 0\n",
    "\n",
    "for subject_ind, subject in enumerate(subjects):\n",
    "    for m_ind, m in enumerate(muscles):\n",
    "    # Fix the subject index and size index\n",
    "        a_temp = a[:, subject_ind, :, charge_ind, m_ind]\n",
    "        mean_thres = np.nanmean(a_temp[:,target_position,...],axis=(0))\n",
    "        curr_params = [\n",
    "            params[:, subject_ind, :, charge_ind, m_ind, None] for params in params\n",
    "        ]\n",
    "\n",
    "        x_temp = np.array([1.2*mean_thres])[None, None, None, :]\n",
    "\n",
    "        temp_thresh = F.rectified_logistic(\n",
    "            x_temp, #x_temp\n",
    "            *curr_params\n",
    "        )\n",
    "        \n",
    "        # Remove offset\n",
    "        temp_thresh = temp_thresh - curr_params[2]\n",
    "        norm_y.append(temp_thresh)\n",
    "        norm_x.append(x_temp)\n",
    "\n",
    "norm_x = np.array(norm_x)\n",
    "norm_x = norm_x.reshape(len(subjects), len(muscles), *norm_x.shape[2:])\n",
    "norm_y = np.array(norm_y)\n",
    "norm_y = norm_y.reshape(len(subjects), len(muscles), *norm_y.shape[2:])\n",
    "norm_y = ma.masked_invalid(norm_y)"
   ]
  },
  {
   "cell_type": "code",
   "execution_count": 21,
   "metadata": {},
   "outputs": [
    {
     "data": {
      "text/plain": [
       "(8, 6, 4000, 4, 1)"
      ]
     },
     "execution_count": 21,
     "metadata": {},
     "output_type": "execute_result"
    }
   ],
   "source": [
    "norm_y.shape"
   ]
  },
  {
   "cell_type": "code",
   "execution_count": 22,
   "metadata": {},
   "outputs": [],
   "source": [
    "y_means = ma.mean(norm_y, axis=(2,4))"
   ]
  },
  {
   "cell_type": "code",
   "execution_count": 23,
   "metadata": {},
   "outputs": [
    {
     "data": {
      "text/plain": [
       "(8, 6, 4)"
      ]
     },
     "execution_count": 23,
     "metadata": {},
     "output_type": "execute_result"
    }
   ],
   "source": [
    "y_means.shape"
   ]
  },
  {
   "cell_type": "code",
   "execution_count": 24,
   "metadata": {},
   "outputs": [],
   "source": [
    "y_diffs = y_means[:,:, :,None] - y_means[:,:,None,:]"
   ]
  },
  {
   "cell_type": "code",
   "execution_count": 25,
   "metadata": {},
   "outputs": [],
   "source": [
    "y_diffs_means = ma.mean(y_diffs,axis=1)"
   ]
  },
  {
   "cell_type": "code",
   "execution_count": 26,
   "metadata": {},
   "outputs": [
    {
     "data": {
      "text/plain": [
       "(8, 4, 4)"
      ]
     },
     "execution_count": 26,
     "metadata": {},
     "output_type": "execute_result"
    }
   ],
   "source": [
    "y_diffs_means.shape"
   ]
  },
  {
   "cell_type": "code",
   "execution_count": 27,
   "metadata": {},
   "outputs": [],
   "source": [
    "pvalues = []\n",
    "for i in range(len(positions)):\n",
    "    for i2 in range(len(positions)):\n",
    "        if i==i2:\n",
    "            pvalues.append(1)\n",
    "            continue\n",
    "        temp_p = stats.wilcoxon(y_diffs_means[:, i,i2], axis=0).pvalue\n",
    "        pvalues.append(temp_p)\n",
    "\n",
    "pvalues = np.array(pvalues)\n",
    "pvalues = pvalues.reshape(len(positions), len(positions))"
   ]
  },
  {
   "cell_type": "code",
   "execution_count": 17,
   "metadata": {},
   "outputs": [],
   "source": [
    "labels = encoder_dict['compound_position'].inverse_transform(positions)"
   ]
  },
  {
   "cell_type": "code",
   "execution_count": 28,
   "metadata": {},
   "outputs": [
    {
     "data": {
      "text/plain": [
       "<Axes: >"
      ]
     },
     "execution_count": 28,
     "metadata": {},
     "output_type": "execute_result"
    },
    {
     "data": {
      "image/png": "[encoded data removed]",
      "text/plain": [
       "<Figure size 640x480 with 2 Axes>"
      ]
     },
     "metadata": {},
     "output_type": "display_data"
    }
   ],
   "source": [
    "mask = np.tril(np.ones_like(pvalues), k=0).astype(bool)\n",
    "sns.heatmap(pvalues, xticklabels=labels, yticklabels=labels, mask = mask, annot=False)\n",
    "sns.heatmap(pvalues, xticklabels=labels, yticklabels=labels, mask = mask,annot=np.round(y_diffs_means.mean(axis=0).data, 3), annot_kws={'va':'top'}, fmt=\"\", cbar=False)\n",
    "sns.heatmap(pvalues, xticklabels=labels, yticklabels=labels, mask = mask,annot=np.round(pvalues, 3), annot_kws={'va':'bottom'}, fmt=\"\", cbar=False)"
   ]
  },
  {
   "cell_type": "code",
   "execution_count": 37,
   "metadata": {},
   "outputs": [
    {
     "data": {
      "text/plain": [
       "array(['20-0-80-25', '50-0-50-100'], dtype=object)"
      ]
     },
     "execution_count": 37,
     "metadata": {},
     "output_type": "execute_result"
    }
   ],
   "source": [
    "encoder_dict['compound_charge_params'].inverse_transform(charges)     # Then decode thcharges"
   ]
  }
 ],
 "metadata": {
  "kernelspec": {
   "display_name": ".venv",
   "language": "python",
   "name": "python3"
  },
  "language_info": {
   "codemirror_mode": {
    "name": "ipython",
    "version": 3
   },
   "file_extension": ".py",
   "mimetype": "text/x-python",
   "name": "python",
   "nbconvert_exporter": "python",
   "pygments_lexer": "ipython3",
   "version": "3.11.9"
  }
 },
 "nbformat": 4,
 "nbformat_minor": 2
}
