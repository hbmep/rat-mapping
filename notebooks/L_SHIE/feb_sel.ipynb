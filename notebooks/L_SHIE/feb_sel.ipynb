{
 "cells": [
  {
   "cell_type": "code",
   "execution_count": null,
   "metadata": {
    "vscode": {
     "languageId": "plaintext"
    }
   },
   "outputs": [],
   "source": [
    "def get_normalized_input_output():\n",
    "    norm_y = []\n",
    "    norm_x = []\n",
    "\n",
    "    for subject_ind, subject in enumerate(subjects):\n",
    "        # Fix the subject index and charge index\n",
    "        curr_params = [\n",
    "            params[:, subject_ind, :, :, :, None] for params in params\n",
    "        ]\n",
    "\n",
    "        # Take nanmean across posterior samples\n",
    "        temp = np.nanmean(curr_params[0], axis=0)\n",
    "\n",
    "        x_temp = np.linspace(0.,  , NUM_THRESHOLD_POINTS)\n",
    "        x_temp = x_temp[None, None, None, :]\n",
    "\n",
    "        temp_thresh = F.rectified_logistic(\n",
    "            x_temp,\n",
    "            *curr_params\n",
    "        )\n",
    "        # Remove offset\n",
    "        temp_thresh = temp_thresh - curr_params[2]\n",
    "        norm_y.append(temp_thresh)\n",
    "        norm_x.append(x_temp)\n",
    "\n",
    "    norm_x = np.array(norm_x)\n",
    "    norm_y = np.array(norm_y)\n",
    "    norm_y = ma.masked_invalid(norm_y)\n",
    "    return norm_x, norm_y\n",
    "\n",
    "-- hdi prob \n",
    "-- updating selectivity"
   ]
  }
 ],
 "metadata": {
  "language_info": {
   "name": "python"
  }
 },
 "nbformat": 4,
 "nbformat_minor": 2
}
