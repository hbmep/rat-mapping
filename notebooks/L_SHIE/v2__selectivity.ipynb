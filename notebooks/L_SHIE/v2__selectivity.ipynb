{
 "cells": [
  {
   "cell_type": "code",
   "execution_count": 1,
   "metadata": {},
   "outputs": [],
   "source": [
    "import os\n",
    "import pickle\n",
    "import models\n",
    "\n",
    "import numpy as np\n",
    "import numpy.ma as ma\n",
    "import matplotlib.pyplot as plt\n",
    "import seaborn as sns\n",
    "from numpyro.diagnostics import hpdi\n",
    "\n",
    "from hbmep.nn import functional as F\n",
    "from hbmep.model.utils import Site as site\n",
    "\n",
    "from hbmep.config import Config\n",
    "from hbmep.model.utils import Site as site\n",
    "from scipy import stats\n",
    "\n",
    "from models import NonHierarchicalBayesianModel\n",
    "\n",
    "USER = os.environ[\"USER\"]\n",
    "\n",
    "MAX_THRESHOLD_CONST = 3\n",
    "NUM_THRESHOLD_POINTS = 500\n",
    "\n",
    "\n"
   ]
  },
  {
   "cell_type": "code",
   "execution_count": 2,
   "metadata": {},
   "outputs": [
    {
     "name": "stderr",
     "output_type": "stream",
     "text": [
      "An NVIDIA GPU may be present on this machine, but a CUDA-enabled jaxlib is not installed. Falling back to cpu.\n"
     ]
    }
   ],
   "source": [
    "src = f\"/home/{USER}/repos/rat-mapping-paper/reports/non-hierarchical/L_SHIE/non_hierarchical_bayesian_model/inference.pkl\"\n",
    "with open(src, \"rb\") as f:\n",
    "    (\n",
    "        df,\n",
    "        encoder_dict,\n",
    "        model,\n",
    "        posterior_samples,\n",
    "    ) = pickle.load(f)"
   ]
  },
  {
   "cell_type": "code",
   "execution_count": null,
   "metadata": {},
   "outputs": [],
   "source": [
    "posterior"
   ]
  },
  {
   "cell_type": "code",
   "execution_count": 3,
   "metadata": {},
   "outputs": [
    {
     "data": {
      "text/plain": [
       "array(['20-0-80-25', '50-0-50-100'], dtype=object)"
      ]
     },
     "execution_count": 3,
     "metadata": {},
     "output_type": "execute_result"
    }
   ],
   "source": [
    "charges = sorted(df[\"compound_charge_params\"].unique())     # Sort the encoded charges so they are in the same order as the posterior samples\n",
    "charges = encoder_dict['compound_charge_params'].inverse_transform(charges)     # Then decode the charges, this maintains the order of the charges\n",
    "charges\n"
   ]
  },
  {
   "cell_type": "code",
   "execution_count": 4,
   "metadata": {},
   "outputs": [
    {
     "name": "stdout",
     "output_type": "stream",
     "text": [
      "a (4000, 8, 4, 2, 6)\n",
      "b (4000, 8, 4, 2, 6)\n",
      "L (4000, 8, 4, 2, 6)\n",
      "ℓ (4000, 8, 4, 2, 6)\n",
      "H (4000, 8, 4, 2, 6)\n"
     ]
    }
   ],
   "source": [
    "named_params = [site.a, site.b, site.L, site.ell, site.H]\n",
    "params = [posterior_samples[param][ ...] for param in named_params]\n",
    "\n",
    "for named_param, param in zip(named_params, params):\n",
    "    print(named_param, param.shape)\n"
   ]
  },
  {
   "cell_type": "code",
   "execution_count": 5,
   "metadata": {},
   "outputs": [
    {
     "data": {
      "text/plain": [
       "array(['amap01', 'amap02', 'amap03', 'amap04', 'amap05', 'amap06',\n",
       "       'amap07', 'amap08'], dtype=object)"
      ]
     },
     "execution_count": 5,
     "metadata": {},
     "output_type": "execute_result"
    }
   ],
   "source": [
    "subjects = sorted(df['participant'].unique())\n",
    "subjects = encoder_dict['participant'].inverse_transform(subjects)\n",
    "subjects\n"
   ]
  },
  {
   "cell_type": "code",
   "execution_count": 6,
   "metadata": {},
   "outputs": [
    {
     "data": {
      "text/plain": [
       "array(['-C6LC', 'C6LC-', 'C6LC-C6LX', 'C6LX-C6LC'], dtype=object)"
      ]
     },
     "execution_count": 6,
     "metadata": {},
     "output_type": "execute_result"
    }
   ],
   "source": [
    "positions = sorted(df['compound_position'].unique())\n",
    "positions = encoder_dict['compound_position'].inverse_transform(positions)\n",
    "positions\n"
   ]
  },
  {
   "cell_type": "code",
   "execution_count": null,
   "metadata": {},
   "outputs": [],
   "source": [
    "def get_normalized_input_output(charge_ind):\n",
    "    # charge_ind = 0\n",
    "    norm_y = []\n",
    "    norm_x = []\n",
    "\n",
    "    for subject_ind, subject in enumerate(subjects):\n",
    "        # Fix the subject index and charge index\n",
    "        curr_params = [\n",
    "            params[:, subject_ind, :, charge_ind, :, None] for params in params\n",
    "        ]\n",
    "\n",
    "        # Take nanmean across posterior samples\n",
    "        temp = np.nanmean(curr_params[0], axis=0)\n",
    "        # Take nanmedian across compound positions and muscles\n",
    "        median_threshold = np.nanmedian(temp)\n",
    "\n",
    "        x_temp = np.linspace(0.,  median_threshold * MAX_THRESHOLD_CONST, NUM_THRESHOLD_POINTS)\n",
    "        x_temp = x_temp[None, None, None, :]\n",
    "\n",
    "        temp_thresh = F.rectified_logistic(\n",
    "            x_temp,\n",
    "            *curr_params\n",
    "        )\n",
    "        # Remove offset\n",
    "        temp_thresh = temp_thresh - curr_params[2]\n",
    "        norm_y.append(temp_thresh)\n",
    "        norm_x.append(x_temp)\n",
    "\n",
    "    norm_x = np.array(norm_x)\n",
    "    norm_y = np.array(norm_y)\n",
    "    norm_y = ma.masked_invalid(norm_y)\n",
    "    return norm_x, norm_y\n"
   ]
  },
  {
   "cell_type": "code",
   "execution_count": 8,
   "metadata": {},
   "outputs": [
    {
     "name": "stdout",
     "output_type": "stream",
     "text": [
      "(8, 1, 1, 1, 500) (8, 4000, 4, 6, 500)\n"
     ]
    }
   ],
   "source": [
    "charge_ind = 0\n",
    "x, y = get_normalized_input_output(charge_ind=charge_ind)\n",
    "print(x.shape, y.shape)\n"
   ]
  },
  {
   "cell_type": "code",
   "execution_count": 9,
   "metadata": {},
   "outputs": [],
   "source": [
    "# Take the maximum curve value across positions and intensity values\n",
    "num_masked = y.mask.any(axis=(2, -1)).sum()\n",
    "y_max = ma.max(y, axis=(2, -1), keepdims=True)\n",
    "assert num_masked == y_max.mask.sum()\n"
   ]
  },
  {
   "cell_type": "code",
   "execution_count": 10,
   "metadata": {},
   "outputs": [],
   "source": [
    "# Normalize using the maximum value\n",
    "num_masked = y.mask.sum()\n",
    "y = ma.where(y_max, y / y_max, 0.)\n",
    "assert num_masked == y.mask.sum()\n"
   ]
  },
  {
   "cell_type": "code",
   "execution_count": 11,
   "metadata": {},
   "outputs": [],
   "source": [
    "p = ma.sum(y, axis=-2, keepdims=True)\n",
    "\n",
    "num_masked = y.mask.sum()\n",
    "p = ma.where(p, y / p, 1 / y.shape[-2])\n",
    "assert num_masked == p.mask.sum()\n"
   ]
  },
  {
   "cell_type": "code",
   "execution_count": 12,
   "metadata": {},
   "outputs": [],
   "source": [
    "num_masked = p.mask.sum()\n",
    "plogp = ma.where(p, p * ma.log(p), 0.)\n",
    "assert num_masked == plogp.mask.sum()\n"
   ]
  },
  {
   "cell_type": "code",
   "execution_count": 13,
   "metadata": {},
   "outputs": [
    {
     "data": {
      "text/plain": [
       "(8, 4000, 4, 500)"
      ]
     },
     "execution_count": 13,
     "metadata": {},
     "output_type": "execute_result"
    }
   ],
   "source": [
    "entropy = 1 + (plogp.sum(axis=-2) / np.log(y.shape[-2]))\n",
    "entropy.shape\n"
   ]
  },
  {
   "cell_type": "code",
   "execution_count": 14,
   "metadata": {},
   "outputs": [
    {
     "data": {
      "text/plain": [
       "(8, 4000, 4)"
      ]
     },
     "execution_count": 14,
     "metadata": {},
     "output_type": "execute_result"
    }
   ],
   "source": [
    "auc = np.trapz(y=entropy[...,:20], x=np.linspace(0, MAX_THRESHOLD_CONST, NUM_THRESHOLD_POINTS)[:20], axis=-1)\n",
    "auc.shape\n"
   ]
  },
  {
   "cell_type": "code",
   "execution_count": 15,
   "metadata": {},
   "outputs": [
    {
     "data": {
      "text/plain": [
       "750"
      ]
     },
     "execution_count": 15,
     "metadata": {},
     "output_type": "execute_result"
    }
   ],
   "source": [
    "df.pulse_amplitude.max()"
   ]
  },
  {
   "cell_type": "code",
   "execution_count": null,
   "metadata": {},
   "outputs": [
    {
     "data": {
      "text/plain": [
       "7590"
      ]
     },
     "execution_count": 44,
     "metadata": {},
     "output_type": "execute_result"
    }
   ],
   "source": [
    "330"
   ]
  },
  {
   "cell_type": "code",
   "execution_count": 22,
   "metadata": {},
   "outputs": [
    {
     "data": {
      "text/plain": [
       "(8, 4)"
      ]
     },
     "execution_count": 22,
     "metadata": {},
     "output_type": "execute_result"
    }
   ],
   "source": [
    "auc = auc.mean(axis=1)\n",
    "auc.shape\n"
   ]
  },
  {
   "cell_type": "code",
   "execution_count": 23,
   "metadata": {},
   "outputs": [
    {
     "data": {
      "text/plain": [
       "(8, 4, 4)"
      ]
     },
     "execution_count": 23,
     "metadata": {},
     "output_type": "execute_result"
    }
   ],
   "source": [
    "mat = auc[:, :, None] - auc[:, None, :]\n",
    "mat.shape\n"
   ]
  },
  {
   "cell_type": "code",
   "execution_count": 24,
   "metadata": {},
   "outputs": [
    {
     "data": {
      "text/plain": [
       "(4, 4)"
      ]
     },
     "execution_count": 24,
     "metadata": {},
     "output_type": "execute_result"
    }
   ],
   "source": [
    "test = stats.ttest_1samp(mat, popmean=0, axis=0)\n",
    "pvalues = test.pvalue\n",
    "pvalues.shape\n"
   ]
  },
  {
   "cell_type": "code",
   "execution_count": 25,
   "metadata": {},
   "outputs": [
    {
     "data": {
      "text/plain": [
       "-0.194106964185014"
      ]
     },
     "execution_count": 25,
     "metadata": {},
     "output_type": "execute_result"
    }
   ],
   "source": [
    "# verify order in heatmap\n",
    "(auc[:, 0] - auc[:, 3]).mean()"
   ]
  },
  {
   "cell_type": "code",
   "execution_count": 26,
   "metadata": {},
   "outputs": [
    {
     "data": {
      "text/plain": [
       "<Axes: >"
      ]
     },
     "execution_count": 26,
     "metadata": {},
     "output_type": "execute_result"
    },
    {
     "data": {
      "image/png": "[encoded data removed]",
      "text/plain": [
       "<Figure size 640x480 with 2 Axes>"
      ]
     },
     "metadata": {},
     "output_type": "display_data"
    }
   ],
   "source": [
    "sns.heatmap(pvalues, xticklabels=positions, yticklabels=positions, annot=False)\n",
    "sns.heatmap(pvalues, xticklabels=positions, yticklabels=positions, annot=np.round(mat.mean(axis=0).data, 3), annot_kws={'va':'top'}, fmt=\"\", cbar=False)\n",
    "sns.heatmap(pvalues, xticklabels=positions, yticklabels=positions, annot=np.round(pvalues, 3), annot_kws={'va':'bottom'}, fmt=\"\", cbar=False)\n"
   ]
  },
  {
   "cell_type": "code",
   "execution_count": 27,
   "metadata": {},
   "outputs": [],
   "source": [
    "# src = f\"/home/andres/repos/rat-mapping-paper/notebooks/L_SHIE/selectivity_means.pkl\"\n",
    "\n",
    "# with open(src, \"wb\") as f:\n",
    "#     pickle.dump([dashc , cdash, c_x, x_c], f)"
   ]
  }
 ],
 "metadata": {
  "kernelspec": {
   "display_name": ".venv",
   "language": "python",
   "name": "python3"
  },
  "language_info": {
   "codemirror_mode": {
    "name": "ipython",
    "version": 3
   },
   "file_extension": ".py",
   "mimetype": "text/x-python",
   "name": "python",
   "nbconvert_exporter": "python",
   "pygments_lexer": "ipython3",
   "version": "3.11.9"
  }
 },
 "nbformat": 4,
 "nbformat_minor": 2
}
