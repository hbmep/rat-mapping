{
 "cells": [
  {
   "cell_type": "code",
   "execution_count": 1,
   "metadata": {},
   "outputs": [],
   "source": [
    "import os\n",
    "import pickle\n",
    "import models\n",
    "\n",
    "import numpy as np\n",
    "import numpy.ma as ma\n",
    "import matplotlib.pyplot as plt\n",
    "import seaborn as sns\n",
    "from numpyro.diagnostics import hpdi\n",
    "\n",
    "from hbmep.nn import functional as F\n",
    "from hbmep.model.utils import Site as site\n",
    "\n",
    "from hbmep.config import Config\n",
    "from hbmep.model.utils import Site as site\n",
    "from scipy import stats\n",
    "\n",
    "from models import NonHierarchicalBayesianModel\n",
    "\n",
    "USER = os.environ[\"USER\"]"
   ]
  },
  {
   "cell_type": "code",
   "execution_count": 2,
   "metadata": {},
   "outputs": [
    {
     "name": "stderr",
     "output_type": "stream",
     "text": [
      "An NVIDIA GPU may be present on this machine, but a CUDA-enabled jaxlib is not installed. Falling back to cpu.\n"
     ]
    }
   ],
   "source": [
    "src = f\"/home/{USER}/repos/rat-mapping-paper/reports/non-hierarchical/J_RCML_000/non_hierarchical_bayesian_model/inference.pkl\"\n",
    "with open(src, \"rb\") as f:\n",
    "    (\n",
    "        df,\n",
    "        encoder_dict,\n",
    "        model,\n",
    "        posterior_samples,\n",
    "    ) = pickle.load(f)\n"
   ]
  },
  {
   "cell_type": "code",
   "execution_count": 3,
   "metadata": {},
   "outputs": [
    {
     "name": "stdout",
     "output_type": "stream",
     "text": [
      "8 21\n"
     ]
    }
   ],
   "source": [
    "subjects = encoder_dict[model.features[0]].inverse_transform(df.participant.unique())\n",
    "positions = encoder_dict[model.features[1]].inverse_transform(df.compound_position.unique())\n",
    "\n",
    "print(len(subjects), len(positions))\n"
   ]
  },
  {
   "cell_type": "code",
   "execution_count": 4,
   "metadata": {},
   "outputs": [
    {
     "data": {
      "text/plain": [
       "array(['C5M-C5L', 'C5M-C6L', 'C7L-C8L', '-C5M', 'C7M-C8L', 'C8M-C8L',\n",
       "       '-C8M', '-C6L', '-C7M', '-C8L', 'C7M-C8M', 'C5L-C6L', '-C5L',\n",
       "       'C6L-C7L', '-C7L', 'C7M-C7L', 'C6M-C7M', 'C5M-C6M', '-C6M',\n",
       "       'C6M-C7L', 'C6M-C6L'], dtype=object)"
      ]
     },
     "execution_count": 4,
     "metadata": {},
     "output_type": "execute_result"
    }
   ],
   "source": [
    "positions"
   ]
  },
  {
   "cell_type": "code",
   "execution_count": 5,
   "metadata": {},
   "outputs": [],
   "source": [
    "named_params = [site.a, site.b, site.L, site.ell, site.H]\n",
    "params = [posterior_samples[param][:400, ...] for param in named_params]\n"
   ]
  },
  {
   "cell_type": "code",
   "execution_count": 6,
   "metadata": {},
   "outputs": [
    {
     "data": {
      "text/plain": [
       "(500, 1, 1, 1, 1)"
      ]
     },
     "execution_count": 6,
     "metadata": {},
     "output_type": "execute_result"
    }
   ],
   "source": [
    "x = np.arange(0, 500, 1)\n",
    "x = x[:, *([None] * 4)]\n",
    "x.shape\n"
   ]
  },
  {
   "cell_type": "code",
   "execution_count": 7,
   "metadata": {},
   "outputs": [],
   "source": [
    "params = [param[None, ...] for param in params]\n"
   ]
  },
  {
   "cell_type": "code",
   "execution_count": 8,
   "metadata": {},
   "outputs": [
    {
     "data": {
      "text/plain": [
       "(1, 400, 8, 21, 6)"
      ]
     },
     "execution_count": 8,
     "metadata": {},
     "output_type": "execute_result"
    }
   ],
   "source": [
    "params[0].shape\n"
   ]
  },
  {
   "cell_type": "code",
   "execution_count": 9,
   "metadata": {},
   "outputs": [
    {
     "data": {
      "text/plain": [
       "(500, 400, 8, 21, 6)"
      ]
     },
     "execution_count": 9,
     "metadata": {},
     "output_type": "execute_result"
    }
   ],
   "source": [
    "y = F.rectified_logistic(\n",
    "    x, a=params[0], b=params[1], L=params[2], ell=params[3], H=params[4]\n",
    ")\n",
    "y = np.array(y)\n",
    "\n",
    "y = ma.masked_array(y, mask=np.isnan(y))\n",
    "y.shape\n"
   ]
  },
  {
   "cell_type": "code",
   "execution_count": 10,
   "metadata": {},
   "outputs": [],
   "source": [
    "# norm_y = []\n",
    "# norm_x = []\n",
    "\n",
    "# for subject_ind, subject in enumerate(subjects):\n",
    "#     curr_params = [\n",
    "#         param[:, subject_ind, :, :][:, :, :, None] for param in params\n",
    "#     ]\n",
    "#     constant = curr_params[0].mean() #do this for bvs\n",
    "\n",
    "#     x_temp = np.linspace(0., 5 * constant, 500)\n",
    "#     x_temp = x_temp[None, None, None, :]\n",
    "\n",
    "#     temp_thresh = F.rectified_logistic(\n",
    "#         x_temp,\n",
    "#         *curr_params\n",
    "#     )\n",
    "#     norm_y.append(temp_thresh)\n",
    "#     norm_x.append(x_temp)\n",
    "\n",
    "# norm_y = np.array(norm_y)\n",
    "# norm_x = np.array(norm_x)\n",
    "\n",
    "# print(norm_y.shape)\n",
    "# print(norm_x.shape)\n",
    "\n",
    "# norm_y = np.swapaxes(norm_y, 1, 2)\n",
    "# norm_x = np.swapaxes(norm_x, 1, 2)\n",
    "\n",
    "# print(norm_y.shape)\n",
    "# print(norm_x.shape)\n"
   ]
  },
  {
   "cell_type": "code",
   "execution_count": 11,
   "metadata": {},
   "outputs": [
    {
     "name": "stdout",
     "output_type": "stream",
     "text": [
      "[(12, '-C5L'), (7, '-C6L'), (14, '-C7L'), (9, '-C8L')]\n",
      "[12, 7, 14, 9]\n"
     ]
    }
   ],
   "source": [
    "cath_lat = [(i, cpos) for i, cpos in enumerate(positions) if cpos.split(\"-\")[1][-1] == \"L\" and cpos.split(\"-\")[0] == \"\"]\n",
    "cath_lat = sorted(cath_lat, key=lambda x: x[-1])\n",
    "print(cath_lat)\n",
    "\n",
    "cath_lat = [i for (i, _) in cath_lat]\n",
    "print(cath_lat)\n"
   ]
  },
  {
   "cell_type": "code",
   "execution_count": 12,
   "metadata": {},
   "outputs": [
    {
     "data": {
      "text/plain": [
       "(500, 400, 8, 4, 6)"
      ]
     },
     "execution_count": 12,
     "metadata": {},
     "output_type": "execute_result"
    }
   ],
   "source": [
    "y = y[..., cath_lat, :]\n",
    "y.shape\n"
   ]
  },
  {
   "cell_type": "code",
   "execution_count": 13,
   "metadata": {},
   "outputs": [
    {
     "data": {
      "text/plain": [
       "(1, 400, 8, 4, 6)"
      ]
     },
     "execution_count": 13,
     "metadata": {},
     "output_type": "execute_result"
    }
   ],
   "source": [
    "y_max = ma.max(y, axis=(0,), keepdims=True)\n",
    "y_max.shape\n"
   ]
  },
  {
   "cell_type": "code",
   "execution_count": 14,
   "metadata": {},
   "outputs": [
    {
     "data": {
      "text/plain": [
       "(500, 400, 8, 4, 6)"
      ]
     },
     "execution_count": 14,
     "metadata": {},
     "output_type": "execute_result"
    }
   ],
   "source": [
    "y = ma.where(y, y / y_max, 0.)\n",
    "y.shape\n"
   ]
  },
  {
   "cell_type": "code",
   "execution_count": 15,
   "metadata": {},
   "outputs": [
    {
     "data": {
      "text/plain": [
       "(500, 400, 8, 4, 6)"
      ]
     },
     "execution_count": 15,
     "metadata": {},
     "output_type": "execute_result"
    }
   ],
   "source": [
    "p = ma.sum(y, axis=-1, keepdims=True)\n",
    "p = ma.where(y, y / p, 0.)\n",
    "p.shape\n"
   ]
  },
  {
   "cell_type": "code",
   "execution_count": 16,
   "metadata": {},
   "outputs": [
    {
     "data": {
      "text/plain": [
       "(500, 400, 8, 4, 6)"
      ]
     },
     "execution_count": 16,
     "metadata": {},
     "output_type": "execute_result"
    }
   ],
   "source": [
    "plogp = ma.where(p, p * ma.log(p), 0.)\n",
    "plogp.shape\n"
   ]
  },
  {
   "cell_type": "code",
   "execution_count": 17,
   "metadata": {},
   "outputs": [
    {
     "data": {
      "text/plain": [
       "(500, 400, 8, 4)"
      ]
     },
     "execution_count": 17,
     "metadata": {},
     "output_type": "execute_result"
    }
   ],
   "source": [
    "entropy = ma.where(\n",
    "    ma.any(p, axis=-1, keepdims=True),\n",
    "    (\n",
    "        1\n",
    "        + (ma.sum(plogp, axis=-1, keepdims=True) / np.log(plogp.shape[-1]))\n",
    "    ),\n",
    "    0.\n",
    ")\n",
    "\n",
    "entropy = entropy[..., 0]\n",
    "entropy.shape\n"
   ]
  },
  {
   "cell_type": "code",
   "execution_count": 8,
   "metadata": {},
   "outputs": [
    {
     "data": {
      "text/plain": [
       "array(['C5M-C5L', 'C5M-C6L', 'C7L-C8L', '-C5M', 'C7M-C8L', 'C8M-C8L',\n",
       "       '-C8M', '-C6L', '-C7M', '-C8L', 'C7M-C8M', 'C5L-C6L', '-C5L',\n",
       "       'C6L-C7L', '-C7L', 'C7M-C7L', 'C6M-C7M', 'C5M-C6M', '-C6M',\n",
       "       'C6M-C7L', 'C6M-C6L'], dtype=object)"
      ]
     },
     "execution_count": 8,
     "metadata": {},
     "output_type": "execute_result"
    }
   ],
   "source": [
    "positions"
   ]
  },
  {
   "cell_type": "code",
   "execution_count": 7,
   "metadata": {},
   "outputs": [],
   "source": [
    "cath_mid = [(i, cpos) for i, cpos in enumerate(positions) if cpos.split(\"-\")[1][-1] == \"M\" and cpos.split(\"-\")[0] == \"\"]\n",
    "cath_lat = [(i, cpos) for i, cpos in enumerate(positions) if cpos.split(\"-\")[1][-1] == \"L\" and cpos.split(\"-\")[0] == \"\"]\n",
    "\n",
    "mid_mid = [(i, cpos) for i, cpos in enumerate(positions) if cpos.split(\"-\")[1][-1] == \"M\" and cpos.split(\"-\")[0] != \"\" and cpos.split(\"-\")[0][-1] == \"M\"]\n",
    "lat_lat = [(i, cpos) for i, cpos in enumerate(positions) if cpos.split(\"-\")[1][-1] == \"L\" and cpos.split(\"-\")[0] != \"\" and cpos.split(\"-\")[0][-1] == \"L\"]\n",
    "mid_lat = [(i, cpos) for i, cpos in enumerate(positions) if cpos.split(\"-\")[1][-1] == \"L\" and cpos.split(\"-\")[0] != \"\" and cpos.split(\"-\")[0][-1] == \"M\"]\n",
    "\n",
    "cath_mid = [i for (i, cpos) in cath_mid]\n",
    "cath_lat = [i for (i, cpos) in cath_lat]\n",
    "mid_mid = [i for (i, cpos) in mid_mid]\n",
    "lat_lat = [i for (i, cpos) in lat_lat]\n",
    "mid_lat = [i for (i, cpos) in mid_lat]"
   ]
  },
  {
   "cell_type": "code",
   "execution_count": 9,
   "metadata": {},
   "outputs": [
    {
     "data": {
      "text/plain": [
       "[7, 9, 12, 14]"
      ]
     },
     "execution_count": 9,
     "metadata": {},
     "output_type": "execute_result"
    }
   ],
   "source": [
    "cath_lat"
   ]
  },
  {
   "cell_type": "code",
   "execution_count": 10,
   "metadata": {},
   "outputs": [
    {
     "data": {
      "text/plain": [
       "array(['-C6L', '-C8L', '-C5L', '-C7L'], dtype=object)"
      ]
     },
     "execution_count": 10,
     "metadata": {},
     "output_type": "execute_result"
    }
   ],
   "source": [
    "np.array(positions)[cath_lat]"
   ]
  },
  {
   "cell_type": "code",
   "execution_count": 12,
   "metadata": {},
   "outputs": [],
   "source": [
    "cath_mid_entropy, cath_mid_x = get_entropy(cath_mid)\n",
    "cath_lat_entropy, cath_lat_x = get_entropy(cath_lat)\n",
    "mid_mid_entropy, mid_mid_x = get_entropy(mid_mid)\n",
    "lat_lat_entropy, lat_lat_x = get_entropy(lat_lat)\n",
    "mid_lat_entropy, mid_lat_x = get_entropy(mid_lat)"
   ]
  },
  {
   "cell_type": "code",
   "execution_count": 26,
   "metadata": {},
   "outputs": [
    {
     "data": {
      "text/plain": [
       "(8, 4, 400, 500)"
      ]
     },
     "execution_count": 26,
     "metadata": {},
     "output_type": "execute_result"
    }
   ],
   "source": [
    "cath_mid_entropy.shape"
   ]
  },
  {
   "cell_type": "code",
   "execution_count": 13,
   "metadata": {},
   "outputs": [],
   "source": [
    "def get_area_list(mix, entropy, x):\n",
    "    area_list = []\n",
    "    for subject_ind, subject in enumerate(subjects):\n",
    "\n",
    "        for cpos_ind in range(len(entropy[0,:,0,0])):\n",
    "            cpos = positions[mix[cpos_ind]]\n",
    "            x_temp = x[subject_ind, 0, ...].tolist()\n",
    "            \n",
    "            sample_integrals = entropy[subject_ind, cpos_ind, :, :]\n",
    "            sample_integrals_mean = sample_integrals.mean(axis=0)\n",
    "            \n",
    "            area = np.trapz(sample_integrals_mean, x_temp)\n",
    "            area_list.append((area))\n",
    "\n",
    "    # filt_positions = list(set((a[1] for a in area_list)))\n",
    "    area_list = np.array(area_list)\n",
    "    area_list = area_list.reshape(len(subjects), len(entropy[0,:,0,0]), *area_list.shape[1:])\n",
    "    return area_list"
   ]
  },
  {
   "cell_type": "code",
   "execution_count": 16,
   "metadata": {},
   "outputs": [
    {
     "name": "stderr",
     "output_type": "stream",
     "text": [
      "/tmp/ipykernel_1790907/3977285464.py:16: UserWarning: Warning: converting a masked element to nan.\n",
      "  area_list = np.array(area_list)\n"
     ]
    }
   ],
   "source": [
    "cath_mid_list = get_area_list(cath_mid, cath_mid_entropy, cath_mid_x)\n",
    "cath_lat_list = get_area_list(cath_lat, cath_lat_entropy, cath_lat_x)\n",
    "# mid_mid_list = get_area_list(mid_mid, mid_mid_entropy, mid_mid_x)\n",
    "# lat_lat_list = get_area_list(lat_lat, lat_lat_entropy, lat_lat_x)\n",
    "# mid_lat_list = get_area_list(mid_lat, mid_lat_entropy, mid_lat_x)"
   ]
  },
  {
   "cell_type": "code",
   "execution_count": 17,
   "metadata": {},
   "outputs": [
    {
     "data": {
      "text/plain": [
       "array([[        nan,         nan,         nan,         nan],\n",
       "       [        nan,         nan,         nan,         nan],\n",
       "       [        nan,         nan,         nan,         nan],\n",
       "       [17.98200421, 19.27162404, 23.52306667, 22.84036543],\n",
       "       [ 9.41572147,  8.20576207,  9.9555965 , 10.32166155],\n",
       "       [52.85556427, 72.01456922, 48.25866931, 24.22335774],\n",
       "       [22.20573364, 15.94846173, 19.87388737, 32.35204555],\n",
       "       [ 9.51518522, 24.798713  , 12.84131624,  6.37203329]])"
      ]
     },
     "execution_count": 17,
     "metadata": {},
     "output_type": "execute_result"
    }
   ],
   "source": [
    "cath_mid_list"
   ]
  },
  {
   "cell_type": "code",
   "execution_count": 116,
   "metadata": {},
   "outputs": [
    {
     "data": {
      "text/plain": [
       "array(['C5M-C5L', 'C5M-C6L', 'C7L-C8L', '-C5M', 'C7M-C8L', 'C8M-C8L',\n",
       "       '-C8M', '-C6L', '-C7M', '-C8L', 'C7M-C8M', 'C5L-C6L', '-C5L',\n",
       "       'C6L-C7L', '-C7L', 'C7M-C7L', 'C6M-C7M', 'C5M-C6M', '-C6M',\n",
       "       'C6M-C7L', 'C6M-C6L'], dtype=object)"
      ]
     },
     "execution_count": 116,
     "metadata": {},
     "output_type": "execute_result"
    }
   ],
   "source": [
    "positions"
   ]
  },
  {
   "cell_type": "code",
   "execution_count": 115,
   "metadata": {},
   "outputs": [
    {
     "data": {
      "text/plain": [
       "array([ 9, 10, 16,  1, 18, 20,  7,  2,  5,  6, 19,  8,  0, 12,  4, 17, 15,\n",
       "       11,  3, 14, 13])"
      ]
     },
     "execution_count": 115,
     "metadata": {},
     "output_type": "execute_result"
    }
   ],
   "source": [
    "coded_positions = df.compound_position.unique()\n",
    "coded_positions\n"
   ]
  },
  {
   "cell_type": "code",
   "execution_count": 27,
   "metadata": {},
   "outputs": [
    {
     "data": {
      "text/plain": [
       "[7, 9, 12, 14]"
      ]
     },
     "execution_count": 27,
     "metadata": {},
     "output_type": "execute_result"
    }
   ],
   "source": [
    "cath_lat"
   ]
  },
  {
   "cell_type": "code",
   "execution_count": 44,
   "metadata": {},
   "outputs": [
    {
     "data": {
      "text/html": [
       "<div>\n",
       "<style scoped>\n",
       "    .dataframe tbody tr th:only-of-type {\n",
       "        vertical-align: middle;\n",
       "    }\n",
       "\n",
       "    .dataframe tbody tr th {\n",
       "        vertical-align: top;\n",
       "    }\n",
       "\n",
       "    .dataframe thead th {\n",
       "        text-align: right;\n",
       "    }\n",
       "</style>\n",
       "<table border=\"1\" class=\"dataframe\">\n",
       "  <thead>\n",
       "    <tr style=\"text-align: right;\">\n",
       "      <th></th>\n",
       "      <th>pulse_amplitude</th>\n",
       "      <th>pulse_train_frequency</th>\n",
       "      <th>pulse_period</th>\n",
       "      <th>pulse_duration</th>\n",
       "      <th>pulse_count</th>\n",
       "      <th>train_delay</th>\n",
       "      <th>channel1_1</th>\n",
       "      <th>channel1_2</th>\n",
       "      <th>channel1_3</th>\n",
       "      <th>channel1_4</th>\n",
       "      <th>...</th>\n",
       "      <th>RBiceps</th>\n",
       "      <th>channel1_laterality</th>\n",
       "      <th>channel1_segment</th>\n",
       "      <th>channel2_laterality</th>\n",
       "      <th>channel2_segment</th>\n",
       "      <th>compound_position</th>\n",
       "      <th>compound_charge_params</th>\n",
       "      <th>participant</th>\n",
       "      <th>subdir_pattern</th>\n",
       "      <th>charge_param_error</th>\n",
       "    </tr>\n",
       "  </thead>\n",
       "  <tbody>\n",
       "  </tbody>\n",
       "</table>\n",
       "<p>0 rows × 44 columns</p>\n",
       "</div>"
      ],
      "text/plain": [
       "Empty DataFrame\n",
       "Columns: [pulse_amplitude, pulse_train_frequency, pulse_period, pulse_duration, pulse_count, train_delay, channel1_1, channel1_2, channel1_3, channel1_4, channel2_1, channel2_2, channel2_3, channel2_4, charge_params_1, charge_params_2, charge_params_3, charge_params_4, bank_check, run, enabled, channel_failA, channel_failB, channel_fail_comb, time_pulse, time, ix_onsets, LBiceps, LFCR, LECR, LTriceps, LADM, LDeltoid, LBicepsFemoris, RBiceps, channel1_laterality, channel1_segment, channel2_laterality, channel2_segment, compound_position, compound_charge_params, participant, subdir_pattern, charge_param_error]\n",
       "Index: []\n",
       "\n",
       "[0 rows x 44 columns]"
      ]
     },
     "execution_count": 44,
     "metadata": {},
     "output_type": "execute_result"
    }
   ],
   "source": [
    "df[(df[\"participant\"] == 0) & (df['compound_position'] == 14)]"
   ]
  }
 ],
 "metadata": {
  "kernelspec": {
   "display_name": "Python 3 (ipykernel)",
   "language": "python",
   "name": "python3"
  },
  "language_info": {
   "codemirror_mode": {
    "name": "ipython",
    "version": 3
   },
   "file_extension": ".py",
   "mimetype": "text/x-python",
   "name": "python",
   "nbconvert_exporter": "python",
   "pygments_lexer": "ipython3",
   "version": "3.11.9"
  }
 },
 "nbformat": 4,
 "nbformat_minor": 2
}
