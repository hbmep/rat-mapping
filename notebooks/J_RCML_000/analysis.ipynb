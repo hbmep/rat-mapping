{
 "cells": [
  {
   "cell_type": "code",
   "execution_count": 13,
   "metadata": {},
   "outputs": [],
   "source": [
    "import os\n",
    "import pandas as pd\n",
    "import numpy as np\n",
    "import pickle\n",
    "import matplotlib.pyplot as plt\n",
    "import seaborn as sns\n",
    "from scipy import stats\n",
    "import re\n",
    "import numpy.ma as ma\n",
    "\n",
    "from hbmep.config import Config\n",
    "from hbmep.model.utils import Site as site\n",
    "\n",
    "from models import NonHierarchicalBayesianModel\n",
    "from constants import (\n",
    "    DATA_PATH,\n",
    "    TOML_PATH\n",
    ")\n",
    "\n",
    "from sklearn.decomposition import PCA\n"
   ]
  },
  {
   "cell_type": "code",
   "execution_count": 14,
   "metadata": {},
   "outputs": [],
   "source": [
    "src = \"/home/andres/repos/rat-mapping-paper/notebooks/J_RCML_000/selectivity_means.pkl\"\n",
    "with open(src, \"rb\") as f:\n",
    "    cath_mid_list, cath_lat_list, mid_mid_list, lat_lat_list, mid_lat_list = pickle.load(f)"
   ]
  },
  {
   "cell_type": "code",
   "execution_count": 15,
   "metadata": {},
   "outputs": [],
   "source": [
    "src = f\"/home/andres/repos/rat-mapping-paper/reports/non-hierarchical/J_RCML_000/non_hierarchical_bayesian_model/inference.pkl\"\n",
    "with open(src, \"rb\") as f:\n",
    "    (\n",
    "        df,\n",
    "        encoder_dict,\n",
    "        model,\n",
    "        posterior_samples,\n",
    "    ) = pickle.load(f)\n",
    "    "
   ]
  },
  {
   "cell_type": "code",
   "execution_count": 16,
   "metadata": {},
   "outputs": [
    {
     "data": {
      "text/plain": [
       "dict_keys(['H', 'H_scale', 'L', 'L_scale', 'a', 'a_loc', 'a_scale', 'b', 'b_scale', 'c_1_scale', 'c_2_scale', 'c₁', 'c₂', 'ell_scale', 'ℓ'])"
      ]
     },
     "execution_count": 16,
     "metadata": {},
     "output_type": "execute_result"
    }
   ],
   "source": [
    "posterior_samples.keys()"
   ]
  },
  {
   "cell_type": "code",
   "execution_count": 17,
   "metadata": {},
   "outputs": [],
   "source": [
    "named_params = [site.a, site.b, site.L, site.ell, site.H]\n",
    "params = [posterior_samples[param][ ...] for param in named_params]\n",
    "\n",
    "a = params[0]\n"
   ]
  },
  {
   "cell_type": "code",
   "execution_count": 18,
   "metadata": {},
   "outputs": [],
   "source": [
    "positions = encoder_dict[model.features[1]].inverse_transform(df.compound_position.unique())\n"
   ]
  },
  {
   "cell_type": "code",
   "execution_count": 19,
   "metadata": {},
   "outputs": [],
   "source": [
    "cath_mid = [(i, cpos) for i, cpos in enumerate(positions) if cpos.split(\"-\")[1][-1] == \"M\" and cpos.split(\"-\")[0] == \"\"]\n",
    "cath_lat = [(i, cpos) for i, cpos in enumerate(positions) if cpos.split(\"-\")[1][-1] == \"L\" and cpos.split(\"-\")[0] == \"\"]\n",
    "\n",
    "mid_mid = [(i, cpos) for i, cpos in enumerate(positions) if cpos.split(\"-\")[1][-1] == \"M\" and cpos.split(\"-\")[0] != \"\" and cpos.split(\"-\")[0][-1] == \"M\"]\n",
    "lat_lat = [(i, cpos) for i, cpos in enumerate(positions) if cpos.split(\"-\")[1][-1] == \"L\" and cpos.split(\"-\")[0] != \"\" and cpos.split(\"-\")[0][-1] == \"L\"]\n",
    "mid_lat = [(i, cpos) for i, cpos in enumerate(positions) if cpos.split(\"-\")[1][-1] == \"L\" and cpos.split(\"-\")[0] != \"\" and cpos.split(\"-\")[0][-1] == \"M\"]\n",
    "\n",
    "cath_mid = [i for (i, cpos) in cath_mid]\n",
    "cath_lat = [i for (i, cpos) in cath_lat]\n",
    "mid_mid = [i for (i, cpos) in mid_mid]\n",
    "lat_lat = [i for (i, cpos) in lat_lat]\n",
    "mid_lat = [i for (i, cpos) in mid_lat]"
   ]
  },
  {
   "cell_type": "code",
   "execution_count": 20,
   "metadata": {},
   "outputs": [],
   "source": [
    "a = a/np.nanmedian(a, axis = (0,2,3), keepdims=True)"
   ]
  },
  {
   "cell_type": "code",
   "execution_count": 21,
   "metadata": {},
   "outputs": [
    {
     "data": {
      "text/plain": [
       "(4000, 8, 21, 6)"
      ]
     },
     "execution_count": 21,
     "metadata": {},
     "output_type": "execute_result"
    }
   ],
   "source": [
    "a.shape"
   ]
  },
  {
   "cell_type": "code",
   "execution_count": 22,
   "metadata": {},
   "outputs": [],
   "source": [
    "a_cath_mid = a[:,:, cath_mid, :]\n",
    "a_cath_lat = a[:,:, cath_lat, :]\n",
    "a_mid_mid = a[:,:, mid_mid, :]\n",
    "a_lat_lat = a[:,:, lat_lat, :]\n",
    "a_mid_lat = a[:,:, mid_lat, :]"
   ]
  },
  {
   "cell_type": "code",
   "execution_count": 23,
   "metadata": {},
   "outputs": [
    {
     "data": {
      "text/plain": [
       "(4000, 8, 4, 6)"
      ]
     },
     "execution_count": 23,
     "metadata": {},
     "output_type": "execute_result"
    }
   ],
   "source": [
    "a_cath_mid.shape"
   ]
  },
  {
   "cell_type": "code",
   "execution_count": 24,
   "metadata": {},
   "outputs": [],
   "source": [
    "a_cath_mid = np.nanmean(a_cath_mid, axis = (0,2,3))\n",
    "a_cath_lat = np.nanmean(a_cath_lat, axis = (0,2,3))\n",
    "a_mid_mid = np.nanmean(a_mid_mid, axis = (0,2,3))\n",
    "a_lat_lat = np.nanmean(a_lat_lat, axis = (0,2,3))\n",
    "a_mid_lat = np.nanmean(a_mid_lat, axis = (0,2,3))"
   ]
  },
  {
   "cell_type": "code",
   "execution_count": 25,
   "metadata": {},
   "outputs": [
    {
     "data": {
      "text/plain": [
       "array([1.02344862, 0.95084921, 0.84326228, 3.02167879, 1.09076514,\n",
       "       1.76739452, 1.23398926, 1.47748783])"
      ]
     },
     "execution_count": 25,
     "metadata": {},
     "output_type": "execute_result"
    }
   ],
   "source": [
    "a_cath_mid"
   ]
  },
  {
   "cell_type": "code",
   "execution_count": 26,
   "metadata": {},
   "outputs": [],
   "source": [
    "a_cath_mid_mean = np.nanmean(a_cath_mid, axis = (0))\n",
    "a_cath_lat_mean = np.nanmean(a_cath_lat, axis = (0))\n",
    "a_mid_mid_mean = np.nanmean(a_mid_mid, axis = (0))\n",
    "a_lat_lat_mean = np.nanmean(a_lat_lat, axis = (0))\n",
    "a_mid_lat_mean = np.nanmean(a_mid_lat, axis = (0))"
   ]
  },
  {
   "cell_type": "code",
   "execution_count": 27,
   "metadata": {},
   "outputs": [],
   "source": [
    "mean_list = np.array([a_cath_mid_mean, a_cath_lat_mean, a_mid_mid_mean, a_lat_lat_mean, a_mid_lat_mean])\n"
   ]
  },
  {
   "cell_type": "code",
   "execution_count": 28,
   "metadata": {},
   "outputs": [],
   "source": [
    "compile_list = np.concatenate((cath_mid_list, cath_lat_list, mid_mid_list, lat_lat_list, mid_lat_list), axis = 1)"
   ]
  },
  {
   "cell_type": "code",
   "execution_count": 29,
   "metadata": {},
   "outputs": [],
   "source": [
    "compile_list = compile_list/np.nanmedian(compile_list, axis = -1, keepdims = True)"
   ]
  },
  {
   "cell_type": "code",
   "execution_count": 30,
   "metadata": {},
   "outputs": [
    {
     "data": {
      "text/plain": [
       "(8, 4)"
      ]
     },
     "execution_count": 30,
     "metadata": {},
     "output_type": "execute_result"
    }
   ],
   "source": [
    "cath_lat_list.shape"
   ]
  },
  {
   "cell_type": "code",
   "execution_count": 31,
   "metadata": {},
   "outputs": [],
   "source": [
    "cath_mid_list = compile_list[:, :4]\n",
    "cath_lat_list = compile_list[:, 4:8]\n",
    "mid_mid_list = compile_list[:, 8:11]\n",
    "lat_lat_list = compile_list[:, 11:14]\n",
    "mid_lat_list = compile_list[:, 14:]"
   ]
  },
  {
   "cell_type": "code",
   "execution_count": 32,
   "metadata": {},
   "outputs": [],
   "source": [
    "sem_eff = []\n",
    "sem_sel = []"
   ]
  },
  {
   "cell_type": "code",
   "execution_count": 33,
   "metadata": {},
   "outputs": [],
   "source": [
    "sem_cm = np.std(np.nanmean(cath_mid_list, axis = (1)))/np.sqrt(len(cath_mid_list))\n",
    "sem_cl = np.std(np.nanmean(cath_lat_list, axis = (1)))/np.sqrt(len(cath_lat_list))\n",
    "sem_mm = np.std(np.nanmean(mid_mid_list, axis = (1)))/np.sqrt(len(mid_mid_list))\n",
    "sem_ll = np.std(np.nanmean(lat_lat_list, axis = (1)))/np.sqrt(len(lat_lat_list))\n",
    "sem_ml = np.std(np.nanmean(mid_lat_list, axis = (1)))/np.sqrt(len(mid_lat_list))"
   ]
  },
  {
   "cell_type": "code",
   "execution_count": 34,
   "metadata": {},
   "outputs": [],
   "source": [
    "sem_sel = [sem_cm, sem_cl, sem_mm, sem_ll, sem_ml]"
   ]
  },
  {
   "cell_type": "code",
   "execution_count": 35,
   "metadata": {},
   "outputs": [
    {
     "data": {
      "text/plain": [
       "(8,)"
      ]
     },
     "execution_count": 35,
     "metadata": {},
     "output_type": "execute_result"
    }
   ],
   "source": [
    "a_cath_mid.shape"
   ]
  },
  {
   "cell_type": "code",
   "execution_count": 36,
   "metadata": {},
   "outputs": [],
   "source": [
    "sem_cm_eff = np.std(a_cath_mid)/np.sqrt(len(a_cath_mid))\n",
    "sem_cl_eff = np.std(a_cath_lat)/np.sqrt(len(a_cath_lat))\n",
    "sem_mm_eff = np.std(a_mid_mid)/np.sqrt(len(a_mid_mid))\n",
    "sem_ll_eff = np.std(a_lat_lat)/np.sqrt(len(a_lat_lat))\n",
    "sem_ml_eff = np.std(a_mid_lat)/np.sqrt(len(a_mid_lat))\n",
    "\n",
    "sem_eff = [sem_cm_eff, sem_cl_eff, sem_mm_eff, sem_ll_eff, sem_ml_eff]"
   ]
  },
  {
   "cell_type": "code",
   "execution_count": 37,
   "metadata": {},
   "outputs": [],
   "source": [
    "compile_list = np.concatenate((cath_mid_list, cath_lat_list, mid_mid_list, lat_lat_list, mid_lat_list), axis = 1)"
   ]
  },
  {
   "cell_type": "code",
   "execution_count": 38,
   "metadata": {},
   "outputs": [
    {
     "data": {
      "text/plain": [
       "(8, 21)"
      ]
     },
     "execution_count": 38,
     "metadata": {},
     "output_type": "execute_result"
    }
   ],
   "source": [
    "compile_list.shape"
   ]
  },
  {
   "cell_type": "code",
   "execution_count": 39,
   "metadata": {},
   "outputs": [],
   "source": [
    "avg_sel_cath_mid = np.nanmean(cath_mid_list, axis = (0,1))\n",
    "avg_sel_cath_lat = np.nanmean(cath_lat_list, axis = (0,1))\n",
    "avg_sel_mid_mid = np.nanmean(mid_mid_list, axis = (0,1))\n",
    "avg_sel_lat_lat = np.nanmean(lat_lat_list, axis = (0,1))\n",
    "avg_sel_mid_lat = np.nanmean(mid_lat_list, axis = (0,1))\n",
    "avg_sel = np.array([avg_sel_cath_mid, avg_sel_cath_lat, avg_sel_mid_mid, avg_sel_lat_lat, avg_sel_mid_lat])"
   ]
  },
  {
   "cell_type": "code",
   "execution_count": 40,
   "metadata": {},
   "outputs": [],
   "source": [
    "colors = ['red', 'blue', 'green', 'purple', 'orange']\n"
   ]
  },
  {
   "cell_type": "code",
   "execution_count": 41,
   "metadata": {},
   "outputs": [],
   "source": [
    "mean_list = np.array([a_cath_mid_mean, a_cath_lat_mean, a_mid_mid_mean, a_lat_lat_mean, a_mid_lat_mean])\n"
   ]
  },
  {
   "cell_type": "code",
   "execution_count": 56,
   "metadata": {},
   "outputs": [
    {
     "data": {
      "text/plain": [
       "array([1.42610946, 1.20959176, 1.28194778, 1.10877828, 1.47778817])"
      ]
     },
     "execution_count": 56,
     "metadata": {},
     "output_type": "execute_result"
    }
   ],
   "source": [
    "mean_list"
   ]
  },
  {
   "cell_type": "code",
   "execution_count": 67,
   "metadata": {},
   "outputs": [
    {
     "data": {
      "text/plain": [
       "array([1.42610946, 1.20959176])"
      ]
     },
     "execution_count": 67,
     "metadata": {},
     "output_type": "execute_result"
    }
   ],
   "source": [
    "mean_list[:2]"
   ]
  },
  {
   "cell_type": "code",
   "execution_count": 42,
   "metadata": {},
   "outputs": [],
   "source": [
    "labels = [\"Cathode - Mid\", \"Cathode - Lat\", \"Mid - Mid\", \"Lat - Lat\", \"Mid - Lat\"]"
   ]
  },
  {
   "cell_type": "code",
   "execution_count": 68,
   "metadata": {},
   "outputs": [
    {
     "data": {
      "text/plain": [
       "Text(0.5, 0, 'Normalized Efficacy')"
      ]
     },
     "execution_count": 68,
     "metadata": {},
     "output_type": "execute_result"
    },
    {
     "data": {
      "image/png": "[encoded data removed]",
      "text/plain": [
       "<Figure size 640x480 with 1 Axes>"
      ]
     },
     "metadata": {},
     "output_type": "display_data"
    }
   ],
   "source": [
    "plt.errorbar(x = 1/mean_list[:2], y = avg_sel[:2], xerr = (sem_eff[:2]/mean_list[:2]**2), yerr= sem_sel[:2],fmt='^', capsize=5,ms = 10, ecolor='gray')\n",
    "plt.ylabel(\"Normalized Selectivity\")\n",
    "plt.xlabel(\"Normalized Efficacy\")\n",
    "\n",
    "# for i, txt in enumerate(labels):\n",
    "#     print(i, txt)\n",
    "#     plt.annotate(txt, (1/(mean_list[i]), avg_sel[i]))"
   ]
  },
  {
   "cell_type": "code",
   "execution_count": 63,
   "metadata": {},
   "outputs": [
    {
     "data": {
      "text/plain": [
       "1.2778635917314578"
      ]
     },
     "execution_count": 63,
     "metadata": {},
     "output_type": "execute_result"
    }
   ],
   "source": [
    "avg_sel[0]"
   ]
  }
 ],
 "metadata": {
  "kernelspec": {
   "display_name": ".venv",
   "language": "python",
   "name": "python3"
  },
  "language_info": {
   "codemirror_mode": {
    "name": "ipython",
    "version": 3
   },
   "file_extension": ".py",
   "mimetype": "text/x-python",
   "name": "python",
   "nbconvert_exporter": "python",
   "pygments_lexer": "ipython3",
   "version": "3.11.9"
  }
 },
 "nbformat": 4,
 "nbformat_minor": 2
}
