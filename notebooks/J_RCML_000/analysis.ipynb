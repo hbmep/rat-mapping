{
 "cells": [
  {
   "cell_type": "code",
   "execution_count": 1,
   "metadata": {},
   "outputs": [],
   "source": [
    "import os\n",
    "import pandas as pd\n",
    "import numpy as np\n",
    "import pickle\n",
    "import matplotlib.pyplot as plt\n",
    "import seaborn as sns\n",
    "from scipy import stats\n",
    "import re\n",
    "import numpy.ma as ma\n",
    "\n",
    "from hbmep.config import Config\n",
    "from hbmep.model.utils import Site as site\n",
    "\n",
    "from models import NonHierarchicalBayesianModel\n",
    "from constants import (\n",
    "    DATA_PATH,\n",
    "    TOML_PATH\n",
    ")"
   ]
  },
  {
   "cell_type": "code",
   "execution_count": 5,
   "metadata": {},
   "outputs": [],
   "source": [
    "config = Config(toml_path=TOML_PATH)\n",
    "model = NonHierarchicalBayesianModel(config=config)\n",
    "df = pd.read_csv(\"/home/andres/data/hbmep-processed/J_RCML_000/data.csv\")"
   ]
  },
  {
   "cell_type": "code",
   "execution_count": 10,
   "metadata": {},
   "outputs": [],
   "source": [
    "combinations = pickle.load(open('/home/andres/repos/rat-mapping-paper/reports/J_RCML_000/combine.pkl', 'rb'))"
   ]
  },
  {
   "cell_type": "code",
   "execution_count": 18,
   "metadata": {},
   "outputs": [
    {
     "data": {
      "text/plain": [
       "array(['C5M-C5L', 'C5M-C6L', 'C7L-C8L', '-C5M', 'C7M-C8L', 'C8M-C8L',\n",
       "       '-C8M', '-C6L', '-C7M', '-C8L', 'C7M-C8M', 'C5L-C6L', '-C5L',\n",
       "       'C6L-C7L', '-C7L', 'C7M-C7L', 'C6M-C7M', 'C5M-C6M', '-C6M',\n",
       "       'C6M-C7L', 'C6M-C6L'], dtype=object)"
      ]
     },
     "execution_count": 18,
     "metadata": {},
     "output_type": "execute_result"
    }
   ],
   "source": [
    "df['compound_position'].unique()"
   ]
  },
  {
   "cell_type": "code",
   "execution_count": 30,
   "metadata": {},
   "outputs": [],
   "source": [
    "subjects = df[\"participant\"].unique().tolist()\n",
    "positions = ['L', 'M']\n",
    "# levels = ['C6-C7', 'C7-C8', 'C7-C6', 'C8-C7']\n",
    "levels = ['C5-C6', 'C6-C7', 'C7-C8']\n",
    "# positions = [p for p in positions if (p.split('-')[1][2] in targets and p.split('-')[1][1] != \"7\")]\n",
    "muscles = model.response\n"
   ]
  },
  {
   "cell_type": "code",
   "execution_count": 31,
   "metadata": {},
   "outputs": [],
   "source": [
    "a = []\n",
    "mask = []\n",
    "for subject in subjects:\n",
    "    for position in positions:\n",
    "        for level in levels:\n",
    "            for muscle in muscles:\n",
    "                l, r = level.split('-')\n",
    "                pos = l + position + '-' + r + position\n",
    "                key = (subject, pos, muscle)\n",
    "                if key in combinations.keys():\n",
    "                    temp = combinations[key]['a']\n",
    "                    temp = temp.reshape(-1, 1)\n",
    "                    a.append(temp)\n",
    "                    mask.append(np.full((4000,1), False))  \n",
    "                else: \n",
    "                    mask.append(np.full((4000,1), True))\n",
    "                    a.append(np.zeros(4000).reshape(-1, 1))\n",
    "arr = np.array(a)\n",
    "arr = arr.reshape(len(subjects), len(positions),len(levels), len(muscles), *arr.shape[1:])\n",
    "mask = np.array(mask)\n",
    "mask = mask.reshape(len(subjects), len(positions),len(levels),len(muscles), *mask.shape[1:])\n",
    "\n",
    "arr = ma.masked_array(arr, mask=mask)\n",
    "arr = arr[..., 0]"
   ]
  },
  {
   "cell_type": "code",
   "execution_count": 32,
   "metadata": {},
   "outputs": [
    {
     "data": {
      "text/plain": [
       "(8, 2, 3, 6, 4000)"
      ]
     },
     "execution_count": 32,
     "metadata": {},
     "output_type": "execute_result"
    }
   ],
   "source": [
    "arr.shape #subs, positions, levels, muscles, posterior_samples"
   ]
  },
  {
   "cell_type": "code",
   "execution_count": 34,
   "metadata": {},
   "outputs": [
    {
     "data": {
      "text/plain": [
       "['LADM', 'LBiceps', 'LDeltoid', 'LECR', 'LFCR', 'LTriceps']"
      ]
     },
     "execution_count": 34,
     "metadata": {},
     "output_type": "execute_result"
    }
   ],
   "source": [
    "muscles"
   ]
  },
  {
   "cell_type": "code",
   "execution_count": 39,
   "metadata": {},
   "outputs": [
    {
     "data": {
      "text/plain": [
       "(8, 2, 3, 6, 4000)"
      ]
     },
     "execution_count": 39,
     "metadata": {},
     "output_type": "execute_result"
    }
   ],
   "source": [
    "arr.shape"
   ]
  },
  {
   "cell_type": "code",
   "execution_count": 42,
   "metadata": {},
   "outputs": [
    {
     "data": {
      "text/plain": [
       "(8, 2, 3, 1, 4000)"
      ]
     },
     "execution_count": 42,
     "metadata": {},
     "output_type": "execute_result"
    }
   ],
   "source": [
    "l_samples = arr[..., [0], :]\n",
    "l_samples.shape"
   ]
  },
  {
   "cell_type": "code",
   "execution_count": 40,
   "metadata": {},
   "outputs": [
    {
     "data": {
      "text/plain": [
       "(1, 8, 3, 4000)"
      ]
     },
     "execution_count": 40,
     "metadata": {},
     "output_type": "execute_result"
    }
   ],
   "source": [
    "l_samples = arr[:, 0, ..., [0], :] \n",
    "l_samples.shape"
   ]
  },
  {
   "cell_type": "code",
   "execution_count": 57,
   "metadata": {},
   "outputs": [
    {
     "data": {
      "text/plain": [
       "TtestResult(statistic=-0.7993128364071947, pvalue=0.7824321689827636, df=17)"
      ]
     },
     "execution_count": 57,
     "metadata": {},
     "output_type": "execute_result"
    }
   ],
   "source": [
    "muscle_ind = 3\n",
    "\n",
    "l_samples = arr[..., [muscle_ind], :] \n",
    "m_samples = arr[..., [muscle_ind], :]\n",
    "\n",
    "l_samples = l_samples[:, 0, ...] \n",
    "m_samples = m_samples[:, 1, ...] \n",
    "\n",
    "t = l_samples.mean(axis=-1) - m_samples.mean(axis=-1)\n",
    "ttest = stats.ttest_1samp(\n",
    "    t, popmean=0, alternative=\"greater\", axis=(0, 1, 2)\n",
    ")\n",
    "ttest"
   ]
  },
  {
   "cell_type": "code",
   "execution_count": null,
   "metadata": {},
   "outputs": [],
   "source": []
  }
 ],
 "metadata": {
  "kernelspec": {
   "display_name": "Python 3 (ipykernel)",
   "language": "python",
   "name": "python3"
  }
 },
 "nbformat": 4,
 "nbformat_minor": 2
}
