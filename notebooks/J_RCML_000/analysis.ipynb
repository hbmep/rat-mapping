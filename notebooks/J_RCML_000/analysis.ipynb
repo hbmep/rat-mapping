{
 "cells": [
  {
   "cell_type": "code",
   "execution_count": 1,
   "metadata": {},
   "outputs": [],
   "source": [
    "import os\n",
    "import pandas as pd\n",
    "import numpy as np\n",
    "import pickle\n",
    "import matplotlib.pyplot as plt\n",
    "import seaborn as sns\n",
    "from scipy import stats\n",
    "import re\n",
    "import numpy.ma as ma\n",
    "\n",
    "from hbmep.config import Config\n",
    "from hbmep.model.utils import Site as site\n",
    "\n",
    "from models import NonHierarchicalBayesianModel\n",
    "from constants import (\n",
    "    DATA_PATH,\n",
    "    TOML_PATH\n",
    ")\n",
    "\n",
    "from sklearn.decomposition import PCA\n"
   ]
  },
  {
   "cell_type": "code",
   "execution_count": 78,
   "metadata": {},
   "outputs": [],
   "source": [
    "src = \"/home/andres/repos/rat-mapping-paper/notebooks/J_RCML_000/selectivity_means.pkl\"\n",
    "with open(src, \"rb\") as f:\n",
    "    cath_mid_list, cath_lat_list, mid_mid_list, lat_lat_list, mid_lat_list = pickle.load(f)"
   ]
  },
  {
   "cell_type": "code",
   "execution_count": 3,
   "metadata": {},
   "outputs": [
    {
     "name": "stderr",
     "output_type": "stream",
     "text": [
      "An NVIDIA GPU may be present on this machine, but a CUDA-enabled jaxlib is not installed. Falling back to cpu.\n"
     ]
    }
   ],
   "source": [
    "src = f\"/home/andres/repos/rat-mapping-paper/reports/non-hierarchical/J_RCML_000/non_hierarchical_bayesian_model/inference.pkl\"\n",
    "with open(src, \"rb\") as f:\n",
    "    (\n",
    "        df,\n",
    "        encoder_dict,\n",
    "        model,\n",
    "        posterior_samples,\n",
    "    ) = pickle.load(f)\n",
    "    "
   ]
  },
  {
   "cell_type": "code",
   "execution_count": 58,
   "metadata": {},
   "outputs": [],
   "source": [
    "named_params = [site.a, site.b, site.L, site.ell, site.H]\n",
    "params = [posterior_samples[param][ ...] for param in named_params]\n",
    "\n",
    "a = params[0]"
   ]
  },
  {
   "cell_type": "code",
   "execution_count": 5,
   "metadata": {},
   "outputs": [],
   "source": [
    "positions = encoder_dict[model.features[1]].inverse_transform(df.compound_position.unique())\n"
   ]
  },
  {
   "cell_type": "code",
   "execution_count": 65,
   "metadata": {},
   "outputs": [],
   "source": [
    "cath_mid = [(i, cpos) for i, cpos in enumerate(positions) if cpos.split(\"-\")[1][-1] == \"M\" and cpos.split(\"-\")[0] == \"\"]\n",
    "cath_lat = [(i, cpos) for i, cpos in enumerate(positions) if cpos.split(\"-\")[1][-1] == \"L\" and cpos.split(\"-\")[0] == \"\"]\n",
    "\n",
    "mid_mid = [(i, cpos) for i, cpos in enumerate(positions) if cpos.split(\"-\")[1][-1] == \"M\" and cpos.split(\"-\")[0] != \"\" and cpos.split(\"-\")[0][-1] == \"M\"]\n",
    "lat_lat = [(i, cpos) for i, cpos in enumerate(positions) if cpos.split(\"-\")[1][-1] == \"L\" and cpos.split(\"-\")[0] != \"\" and cpos.split(\"-\")[0][-1] == \"L\"]\n",
    "mid_lat = [(i, cpos) for i, cpos in enumerate(positions) if cpos.split(\"-\")[1][-1] == \"L\" and cpos.split(\"-\")[0] != \"\" and cpos.split(\"-\")[0][-1] == \"M\"]\n",
    "\n",
    "cath_mid = [i for (i, cpos) in cath_mid]\n",
    "cath_lat = [i for (i, cpos) in cath_lat]\n",
    "mid_mid = [i for (i, cpos) in mid_mid]\n",
    "lat_lat = [i for (i, cpos) in lat_lat]\n",
    "mid_lat = [i for (i, cpos) in mid_lat]"
   ]
  },
  {
   "cell_type": "code",
   "execution_count": 59,
   "metadata": {},
   "outputs": [],
   "source": [
    "a = a/np.nanmedian(a, axis = (1,2,3), keepdims=True)"
   ]
  },
  {
   "cell_type": "code",
   "execution_count": 60,
   "metadata": {},
   "outputs": [
    {
     "data": {
      "text/plain": [
       "(4000, 8, 21, 6)"
      ]
     },
     "execution_count": 60,
     "metadata": {},
     "output_type": "execute_result"
    }
   ],
   "source": [
    "a.shape"
   ]
  },
  {
   "cell_type": "code",
   "execution_count": 107,
   "metadata": {},
   "outputs": [],
   "source": [
    "a_cath_mid = a[:,:, cath_mid, :]\n",
    "a_cath_lat = a[:,:, cath_lat, :]\n",
    "a_mid_mid = a[:,:, mid_mid, :]\n",
    "a_lat_lat = a[:,:, lat_lat, :]\n",
    "a_mid_lat = a[:,:, mid_lat, :]"
   ]
  },
  {
   "cell_type": "code",
   "execution_count": 103,
   "metadata": {},
   "outputs": [
    {
     "data": {
      "text/plain": [
       "(4000, 8, 4, 6)"
      ]
     },
     "execution_count": 103,
     "metadata": {},
     "output_type": "execute_result"
    }
   ],
   "source": [
    "a_cath_mid.shape"
   ]
  },
  {
   "cell_type": "code",
   "execution_count": 108,
   "metadata": {},
   "outputs": [
    {
     "name": "stderr",
     "output_type": "stream",
     "text": [
      "/tmp/ipykernel_1884376/1915660067.py:1: RuntimeWarning: Mean of empty slice\n",
      "  a_cath_mid = np.nanmean(a_cath_mid, axis = (0,3))\n",
      "/tmp/ipykernel_1884376/1915660067.py:2: RuntimeWarning: Mean of empty slice\n",
      "  a_cath_lat = np.nanmean(a_cath_lat, axis = (0,3))\n",
      "/tmp/ipykernel_1884376/1915660067.py:3: RuntimeWarning: Mean of empty slice\n",
      "  a_mid_mid = np.nanmean(a_mid_mid, axis = (0,3))\n",
      "/tmp/ipykernel_1884376/1915660067.py:4: RuntimeWarning: Mean of empty slice\n",
      "  a_lat_lat = np.nanmean(a_lat_lat, axis = (0,3))\n",
      "/tmp/ipykernel_1884376/1915660067.py:5: RuntimeWarning: Mean of empty slice\n",
      "  a_mid_lat = np.nanmean(a_mid_lat, axis = (0,3))\n"
     ]
    }
   ],
   "source": [
    "a_cath_mid = np.nanmean(a_cath_mid, axis = (0,3))\n",
    "a_cath_lat = np.nanmean(a_cath_lat, axis = (0,3))\n",
    "a_mid_mid = np.nanmean(a_mid_mid, axis = (0,3))\n",
    "a_lat_lat = np.nanmean(a_lat_lat, axis = (0,3))\n",
    "a_mid_lat = np.nanmean(a_mid_lat, axis = (0,3))"
   ]
  },
  {
   "cell_type": "code",
   "execution_count": 109,
   "metadata": {},
   "outputs": [
    {
     "data": {
      "text/plain": [
       "(8, 4)"
      ]
     },
     "execution_count": 109,
     "metadata": {},
     "output_type": "execute_result"
    }
   ],
   "source": [
    "a_cath_mid.shape"
   ]
  },
  {
   "cell_type": "code",
   "execution_count": 110,
   "metadata": {},
   "outputs": [],
   "source": [
    "a_cath_mid_mean = np.nanmean(a_cath_mid, axis = (0,1))\n",
    "a_cath_lat_mean = np.nanmean(a_cath_lat, axis = (0,1))\n",
    "a_mid_mid_mean = np.nanmean(a_mid_mid, axis = (0,1))\n",
    "a_lat_lat_mean = np.nanmean(a_lat_lat, axis = (0,1))\n",
    "a_mid_lat_mean = np.nanmean(a_mid_lat, axis = (0,1))"
   ]
  },
  {
   "cell_type": "code",
   "execution_count": 111,
   "metadata": {},
   "outputs": [],
   "source": [
    "mean_list = np.array([a_cath_mid_mean, a_cath_lat_mean, a_mid_mid_mean, a_lat_lat_mean, a_mid_lat_mean])\n"
   ]
  },
  {
   "cell_type": "code",
   "execution_count": 113,
   "metadata": {},
   "outputs": [
    {
     "data": {
      "text/plain": [
       "array([1.92383715, 1.65104702, 2.01514246, 1.29877509, 2.19562651])"
      ]
     },
     "execution_count": 113,
     "metadata": {},
     "output_type": "execute_result"
    }
   ],
   "source": [
    "mean_list"
   ]
  },
  {
   "cell_type": "code",
   "execution_count": 116,
   "metadata": {},
   "outputs": [],
   "source": [
    "cath_mid_list = cath_mid_list/ma.median(cath_mid_list, axis = -1, keepdims = True)\n",
    "cath_lat_list = cath_lat_list/ma.median(cath_lat_list, axis = -1, keepdims = True)\n",
    "mid_mid_list = mid_mid_list/ma.median(mid_mid_list, axis = -1, keepdims = True)\n",
    "lat_lat_list = lat_lat_list/ma.median(lat_lat_list, axis = -1, keepdims = True)\n",
    "mid_lat_list = mid_lat_list/ma.median(mid_lat_list, axis = -1, keepdims = True)"
   ]
  },
  {
   "cell_type": "code",
   "execution_count": 117,
   "metadata": {},
   "outputs": [
    {
     "data": {
      "text/plain": [
       "(8, 4)"
      ]
     },
     "execution_count": 117,
     "metadata": {},
     "output_type": "execute_result"
    }
   ],
   "source": [
    "cath_mid_list.shape"
   ]
  },
  {
   "cell_type": "code",
   "execution_count": 118,
   "metadata": {},
   "outputs": [],
   "source": [
    "avg_sel_cath_mid = np.nanmean(cath_mid_list, axis = (0,1))\n",
    "avg_sel_cath_lat = np.nanmean(cath_lat_list, axis = (0,1))\n",
    "avg_sel_mid_mid = np.nanmean(mid_mid_list, axis = (0,1))\n",
    "avg_sel_lat_lat = np.nanmean(lat_lat_list, axis = (0,1))\n",
    "avg_sel_mid_lat = np.nanmean(mid_lat_list, axis = (0,1))\n",
    "avg_sel = np.array([avg_sel_cath_mid, avg_sel_cath_lat, avg_sel_mid_mid, avg_sel_lat_lat, avg_sel_mid_lat])"
   ]
  },
  {
   "cell_type": "code",
   "execution_count": 119,
   "metadata": {},
   "outputs": [
    {
     "data": {
      "text/plain": [
       "<matplotlib.collections.PathCollection at 0x7f13e854e110>"
      ]
     },
     "execution_count": 119,
     "metadata": {},
     "output_type": "execute_result"
    },
    {
     "data": {
      "image/png": "[encoded data removed]",
      "text/plain": [
       "<Figure size 640x480 with 1 Axes>"
      ]
     },
     "metadata": {},
     "output_type": "display_data"
    }
   ],
   "source": [
    "plt.scatter(x = mean_list, y = avg_sel)"
   ]
  }
 ],
 "metadata": {
  "kernelspec": {
   "display_name": ".venv",
   "language": "python",
   "name": "python3"
  },
  "language_info": {
   "codemirror_mode": {
    "name": "ipython",
    "version": 3
   },
   "file_extension": ".py",
   "mimetype": "text/x-python",
   "name": "python",
   "nbconvert_exporter": "python",
   "pygments_lexer": "ipython3",
   "version": "3.11.9"
  }
 },
 "nbformat": 4,
 "nbformat_minor": 2
}
