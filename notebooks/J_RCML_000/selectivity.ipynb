{
 "cells": [
  {
   "cell_type": "code",
   "execution_count": 2,
   "metadata": {},
   "outputs": [],
   "source": [
    "import os\n",
    "import pickle\n",
    "import models\n",
    "\n",
    "import numpy as np\n",
    "import numpy.ma as ma\n",
    "import matplotlib.pyplot as plt\n",
    "import seaborn as sns\n",
    "from numpyro.diagnostics import hpdi\n",
    "\n",
    "from hbmep.nn import functional as F\n",
    "from hbmep.model.utils import Site as site\n",
    "\n",
    "from hbmep.config import Config\n",
    "from hbmep.model.utils import Site as site\n",
    "from scipy import stats\n",
    "\n",
    "from models import NonHierarchicalBayesianModel\n",
    "\n",
    "USER = os.environ[\"USER\"]"
   ]
  },
  {
   "cell_type": "code",
   "execution_count": 3,
   "metadata": {},
   "outputs": [
    {
     "name": "stderr",
     "output_type": "stream",
     "text": [
      "An NVIDIA GPU may be present on this machine, but a CUDA-enabled jaxlib is not installed. Falling back to cpu.\n"
     ]
    }
   ],
   "source": [
    "src = f\"/home/andres/repos/rat-mapping-paper/reports/non-hierarchical/J_RCML_000/non_hierarchical_bayesian_model/inference.pkl\"\n",
    "with open(src, \"rb\") as f:\n",
    "    (\n",
    "        df,\n",
    "        encoder_dict,\n",
    "        model,\n",
    "        posterior_samples,\n",
    "    ) = pickle.load(f)"
   ]
  },
  {
   "cell_type": "code",
   "execution_count": 4,
   "metadata": {},
   "outputs": [],
   "source": [
    "subjects = encoder_dict[model.features[0]].inverse_transform(df.participant.unique())\n",
    "# positions = df.compound_position.unique()\n",
    "positions = encoder_dict[model.features[1]].inverse_transform(df.compound_position.unique())\n"
   ]
  },
  {
   "cell_type": "code",
   "execution_count": 5,
   "metadata": {},
   "outputs": [
    {
     "data": {
      "text/plain": [
       "array(['C5M-C5L', 'C5M-C6L', 'C7L-C8L', '-C5M', 'C7M-C8L', 'C8M-C8L',\n",
       "       '-C8M', '-C6L', '-C7M', '-C8L', 'C7M-C8M', 'C5L-C6L', '-C5L',\n",
       "       'C6L-C7L', '-C7L', 'C7M-C7L', 'C6M-C7M', 'C5M-C6M', '-C6M',\n",
       "       'C6M-C7L', 'C6M-C6L'], dtype=object)"
      ]
     },
     "execution_count": 5,
     "metadata": {},
     "output_type": "execute_result"
    }
   ],
   "source": [
    "positions"
   ]
  },
  {
   "cell_type": "code",
   "execution_count": 29,
   "metadata": {},
   "outputs": [
    {
     "name": "stdout",
     "output_type": "stream",
     "text": [
      "a (400, 8, 21, 6)\n",
      "b (400, 8, 21, 6)\n",
      "L (400, 8, 21, 6)\n",
      "ℓ (400, 8, 21, 6)\n",
      "H (400, 8, 21, 6)\n"
     ]
    }
   ],
   "source": [
    "named_params = [site.a, site.b, site.L, site.ell, site.H]\n",
    "params = [posterior_samples[param][:400, ...] for param in named_params]\n",
    "\n",
    "for named_param, param in zip(named_params, params):\n",
    "    print(named_param, param.shape)\n"
   ]
  },
  {
   "cell_type": "code",
   "execution_count": 43,
   "metadata": {},
   "outputs": [
    {
     "data": {
      "text/plain": [
       "195.98087761653335"
      ]
     },
     "execution_count": 43,
     "metadata": {},
     "output_type": "execute_result"
    }
   ],
   "source": [
    "np.nanmean(params[0][:,0,...])"
   ]
  },
  {
   "cell_type": "code",
   "execution_count": 45,
   "metadata": {},
   "outputs": [
    {
     "name": "stdout",
     "output_type": "stream",
     "text": [
      "(8, 400, 21, 6, 500)\n",
      "(8, 1, 1, 1, 500)\n",
      "(8, 21, 400, 6, 500)\n",
      "(8, 1, 1, 1, 500)\n"
     ]
    }
   ],
   "source": [
    "norm_y = []\n",
    "norm_x = []\n",
    "\n",
    "for subject_ind,subject in enumerate(subjects):\n",
    "    curr_params = [\n",
    "        param[:, subject_ind, :, :][:, :, :, None] for param in params\n",
    "    ]\n",
    "    constant = np.nanmean(curr_params[0])\n",
    "\n",
    "    x_temp = np.linspace(0., 5 * constant, 500)\n",
    "    x_temp = x_temp[None, None, None, :]\n",
    "\n",
    "    temp_thresh = F.rectified_logistic(\n",
    "        x_temp,\n",
    "        *curr_params\n",
    "    )\n",
    "    temp_thresh = np.array(temp_thresh)\n",
    "    norm_y.append(temp_thresh)\n",
    "    norm_x.append(x_temp)\n",
    "\n",
    "norm_y = np.array(norm_y)\n",
    "norm_x = np.array(norm_x)\n",
    "\n",
    "print(norm_y.shape)\n",
    "print(norm_x.shape)\n",
    "\n",
    "norm_y = np.swapaxes(norm_y, 1, 2)\n",
    "norm_x = np.swapaxes(norm_x, 1, 2)\n",
    "\n",
    "print(norm_y.shape)\n",
    "print(norm_x.shape)"
   ]
  },
  {
   "cell_type": "code",
   "execution_count": 46,
   "metadata": {},
   "outputs": [
    {
     "data": {
      "text/plain": [
       "[7, 9, 12, 14]"
      ]
     },
     "execution_count": 46,
     "metadata": {},
     "output_type": "execute_result"
    }
   ],
   "source": [
    "cath_lat = [(i, cpos) for i, cpos in enumerate(positions) if cpos.split(\"-\")[1][-1] == \"L\" and cpos.split(\"-\")[0] == \"\"]\n",
    "cath_lat = [i for (i, cpos) in cath_lat]\n",
    "\n",
    "cath_lat\n"
   ]
  },
  {
   "cell_type": "code",
   "execution_count": 62,
   "metadata": {},
   "outputs": [],
   "source": [
    "def get_entropy(subset):\n",
    "    y = norm_y[:, subset, ...]\n",
    "    x = norm_x[:, :, 0, 0, :]\n",
    "\n",
    "    # print(y.shape)\n",
    "\n",
    "    y_max = ma.max(y, axis=(-1), keepdims=True) \n",
    "    y_max.shape\n",
    "\n",
    "    y = ma.where(y, y / y_max, 0.)\n",
    "    y.shape\n",
    "\n",
    "    p = ma.sum(y, axis=-2, keepdims=True)\n",
    "    p = ma.where(y, y / p, 0.)\n",
    "    p.shape\n",
    "\n",
    "    plogp = ma.where(p, p * ma.log(p), 0.)\n",
    "\n",
    "    entropy = ma.where(\n",
    "        ma.any(p, axis=-2, keepdims=True),\n",
    "        (\n",
    "            1\n",
    "            + (ma.sum(plogp, axis=-2, keepdims=True) / np.log(plogp.shape[-2]))\n",
    "        ),\n",
    "        0.\n",
    "    )\n",
    "    entropy = entropy[..., 0, :]\n",
    "    entropy.shape\n",
    "\n",
    "    return entropy, x"
   ]
  },
  {
   "cell_type": "code",
   "execution_count": 8,
   "metadata": {},
   "outputs": [
    {
     "data": {
      "text/plain": [
       "array(['C5M-C5L', 'C5M-C6L', 'C7L-C8L', '-C5M', 'C7M-C8L', 'C8M-C8L',\n",
       "       '-C8M', '-C6L', '-C7M', '-C8L', 'C7M-C8M', 'C5L-C6L', '-C5L',\n",
       "       'C6L-C7L', '-C7L', 'C7M-C7L', 'C6M-C7M', 'C5M-C6M', '-C6M',\n",
       "       'C6M-C7L', 'C6M-C6L'], dtype=object)"
      ]
     },
     "execution_count": 8,
     "metadata": {},
     "output_type": "execute_result"
    }
   ],
   "source": [
    "positions"
   ]
  },
  {
   "cell_type": "code",
   "execution_count": 55,
   "metadata": {},
   "outputs": [],
   "source": [
    "cath_mid = [(i, cpos) for i, cpos in enumerate(positions) if cpos.split(\"-\")[1][-1] == \"M\" and cpos.split(\"-\")[0] == \"\"]\n",
    "cath_lat = [(i, cpos) for i, cpos in enumerate(positions) if cpos.split(\"-\")[1][-1] == \"L\" and cpos.split(\"-\")[0] == \"\"]\n",
    "\n",
    "mid_mid = [(i, cpos) for i, cpos in enumerate(positions) if cpos.split(\"-\")[1][-1] == \"M\" and cpos.split(\"-\")[0] != \"\" and cpos.split(\"-\")[0][-1] == \"M\"]\n",
    "lat_lat = [(i, cpos) for i, cpos in enumerate(positions) if cpos.split(\"-\")[1][-1] == \"L\" and cpos.split(\"-\")[0] != \"\" and cpos.split(\"-\")[0][-1] == \"L\"]\n",
    "mid_lat = [(i, cpos) for i, cpos in enumerate(positions) if cpos.split(\"-\")[1][-1] == \"L\" and cpos.split(\"-\")[0] != \"\" and cpos.split(\"-\")[0][-1] == \"M\"]\n",
    "\n",
    "cath_mid = [i for (i, cpos) in cath_mid]\n",
    "cath_lat = [i for (i, cpos) in cath_lat]\n",
    "mid_mid = [i for (i, cpos) in mid_mid]\n",
    "lat_lat = [i for (i, cpos) in lat_lat]\n",
    "mid_lat = [i for (i, cpos) in mid_lat]"
   ]
  },
  {
   "cell_type": "code",
   "execution_count": 63,
   "metadata": {},
   "outputs": [],
   "source": [
    "cath_mid_entropy, cath_mid_x = get_entropy(cath_mid)\n",
    "cath_lat_entropy, cath_lat_x = get_entropy(cath_lat)\n",
    "mid_mid_entropy, mid_mid_x = get_entropy(mid_mid)\n",
    "lat_lat_entropy, lat_lat_x = get_entropy(lat_lat)\n",
    "mid_lat_entropy, mid_lat_x = get_entropy(mid_lat)"
   ]
  },
  {
   "cell_type": "code",
   "execution_count": 56,
   "metadata": {},
   "outputs": [
    {
     "data": {
      "text/plain": [
       "[10, 16, 17]"
      ]
     },
     "execution_count": 56,
     "metadata": {},
     "output_type": "execute_result"
    }
   ],
   "source": [
    "mid_mid"
   ]
  },
  {
   "cell_type": "code",
   "execution_count": 64,
   "metadata": {},
   "outputs": [],
   "source": [
    "def get_area_list(mix, entropy, x):\n",
    "    area_list = []\n",
    "    for subject_ind, subject in enumerate(subjects):\n",
    "\n",
    "        for cpos_ind in range(len(entropy[0,:,0,0])):\n",
    "            cpos = positions[mix[cpos_ind]]\n",
    "            x_temp = x[subject_ind, 0, ...].tolist()\n",
    "            \n",
    "            sample_integrals = entropy[subject_ind, cpos_ind, :, :]\n",
    "            sample_integrals_mean = sample_integrals.mean(axis=0)\n",
    "            \n",
    "            area = np.trapz(sample_integrals_mean, x_temp)\n",
    "            area_list.append((area))\n",
    "\n",
    "    # filt_positions = list(set((a[1] for a in area_list)))\n",
    "    area_list = np.array(area_list)\n",
    "    area_list = area_list.reshape(len(subjects), len(entropy[0,:,0,0]), *area_list.shape[1:])\n",
    "    return area_list"
   ]
  },
  {
   "cell_type": "code",
   "execution_count": 65,
   "metadata": {},
   "outputs": [
    {
     "name": "stderr",
     "output_type": "stream",
     "text": [
      "/tmp/ipykernel_1826860/3977285464.py:16: UserWarning: Warning: converting a masked element to nan.\n",
      "  area_list = np.array(area_list)\n"
     ]
    }
   ],
   "source": [
    "cath_mid_list = get_area_list(cath_mid, cath_mid_entropy, cath_mid_x)\n",
    "cath_lat_list = get_area_list(cath_lat, cath_lat_entropy, cath_lat_x)\n",
    "mid_mid_list = get_area_list(mid_mid, mid_mid_entropy, mid_mid_x)\n",
    "lat_lat_list = get_area_list(lat_lat, lat_lat_entropy, lat_lat_x)\n",
    "mid_lat_list = get_area_list(mid_lat, mid_lat_entropy, mid_lat_x)"
   ]
  },
  {
   "cell_type": "code",
   "execution_count": 71,
   "metadata": {},
   "outputs": [],
   "source": [
    "src = f\"/home/andres/repos/rat-mapping-paper/notebooks/J_RCML_000/selectivity_means.pkl\"\n",
    "\n",
    "with open(src, \"wb\") as f:\n",
    "    pickle.dump([cath_mid_list, cath_lat_list, mid_mid_list, lat_lat_list, mid_lat_list], f)"
   ]
  },
  {
   "cell_type": "code",
   "execution_count": 116,
   "metadata": {},
   "outputs": [
    {
     "data": {
      "text/plain": [
       "array(['C5M-C5L', 'C5M-C6L', 'C7L-C8L', '-C5M', 'C7M-C8L', 'C8M-C8L',\n",
       "       '-C8M', '-C6L', '-C7M', '-C8L', 'C7M-C8M', 'C5L-C6L', '-C5L',\n",
       "       'C6L-C7L', '-C7L', 'C7M-C7L', 'C6M-C7M', 'C5M-C6M', '-C6M',\n",
       "       'C6M-C7L', 'C6M-C6L'], dtype=object)"
      ]
     },
     "execution_count": 116,
     "metadata": {},
     "output_type": "execute_result"
    }
   ],
   "source": [
    "positions"
   ]
  },
  {
   "cell_type": "code",
   "execution_count": 115,
   "metadata": {},
   "outputs": [
    {
     "data": {
      "text/plain": [
       "array([ 9, 10, 16,  1, 18, 20,  7,  2,  5,  6, 19,  8,  0, 12,  4, 17, 15,\n",
       "       11,  3, 14, 13])"
      ]
     },
     "execution_count": 115,
     "metadata": {},
     "output_type": "execute_result"
    }
   ],
   "source": [
    "coded_positions = df.compound_position.unique()\n",
    "coded_positions\n"
   ]
  },
  {
   "cell_type": "code",
   "execution_count": 27,
   "metadata": {},
   "outputs": [
    {
     "data": {
      "text/plain": [
       "[7, 9, 12, 14]"
      ]
     },
     "execution_count": 27,
     "metadata": {},
     "output_type": "execute_result"
    }
   ],
   "source": [
    "cath_lat"
   ]
  },
  {
   "cell_type": "code",
   "execution_count": 44,
   "metadata": {},
   "outputs": [
    {
     "data": {
      "text/html": [
       "<div>\n",
       "<style scoped>\n",
       "    .dataframe tbody tr th:only-of-type {\n",
       "        vertical-align: middle;\n",
       "    }\n",
       "\n",
       "    .dataframe tbody tr th {\n",
       "        vertical-align: top;\n",
       "    }\n",
       "\n",
       "    .dataframe thead th {\n",
       "        text-align: right;\n",
       "    }\n",
       "</style>\n",
       "<table border=\"1\" class=\"dataframe\">\n",
       "  <thead>\n",
       "    <tr style=\"text-align: right;\">\n",
       "      <th></th>\n",
       "      <th>pulse_amplitude</th>\n",
       "      <th>pulse_train_frequency</th>\n",
       "      <th>pulse_period</th>\n",
       "      <th>pulse_duration</th>\n",
       "      <th>pulse_count</th>\n",
       "      <th>train_delay</th>\n",
       "      <th>channel1_1</th>\n",
       "      <th>channel1_2</th>\n",
       "      <th>channel1_3</th>\n",
       "      <th>channel1_4</th>\n",
       "      <th>...</th>\n",
       "      <th>RBiceps</th>\n",
       "      <th>channel1_laterality</th>\n",
       "      <th>channel1_segment</th>\n",
       "      <th>channel2_laterality</th>\n",
       "      <th>channel2_segment</th>\n",
       "      <th>compound_position</th>\n",
       "      <th>compound_charge_params</th>\n",
       "      <th>participant</th>\n",
       "      <th>subdir_pattern</th>\n",
       "      <th>charge_param_error</th>\n",
       "    </tr>\n",
       "  </thead>\n",
       "  <tbody>\n",
       "  </tbody>\n",
       "</table>\n",
       "<p>0 rows × 44 columns</p>\n",
       "</div>"
      ],
      "text/plain": [
       "Empty DataFrame\n",
       "Columns: [pulse_amplitude, pulse_train_frequency, pulse_period, pulse_duration, pulse_count, train_delay, channel1_1, channel1_2, channel1_3, channel1_4, channel2_1, channel2_2, channel2_3, channel2_4, charge_params_1, charge_params_2, charge_params_3, charge_params_4, bank_check, run, enabled, channel_failA, channel_failB, channel_fail_comb, time_pulse, time, ix_onsets, LBiceps, LFCR, LECR, LTriceps, LADM, LDeltoid, LBicepsFemoris, RBiceps, channel1_laterality, channel1_segment, channel2_laterality, channel2_segment, compound_position, compound_charge_params, participant, subdir_pattern, charge_param_error]\n",
       "Index: []\n",
       "\n",
       "[0 rows x 44 columns]"
      ]
     },
     "execution_count": 44,
     "metadata": {},
     "output_type": "execute_result"
    }
   ],
   "source": [
    "df[(df[\"participant\"] == 0) & (df['compound_position'] == 14)]"
   ]
  }
 ],
 "metadata": {
  "kernelspec": {
   "display_name": ".venv",
   "language": "python",
   "name": "python3"
  },
  "language_info": {
   "codemirror_mode": {
    "name": "ipython",
    "version": 3
   },
   "file_extension": ".py",
   "mimetype": "text/x-python",
   "name": "python",
   "nbconvert_exporter": "python",
   "pygments_lexer": "ipython3",
   "version": "3.11.9"
  }
 },
 "nbformat": 4,
 "nbformat_minor": 2
}
