{
 "cells": [
  {
   "cell_type": "code",
   "execution_count": 3,
   "metadata": {},
   "outputs": [
    {
     "name": "stderr",
     "output_type": "stream",
     "text": [
      "An NVIDIA GPU may be present on this machine, but a CUDA-enabled jaxlib is not installed. Falling back to cpu.\n"
     ]
    }
   ],
   "source": [
    "import os\n",
    "import pandas as pd\n",
    "import numpy as np\n",
    "import pickle\n",
    "import matplotlib.pyplot as plt\n",
    "import seaborn as sns\n",
    "from scipy import stats\n",
    "import re\n",
    "import numpy.ma as ma\n",
    "\n",
    "from hbmep.config import Config\n",
    "from hbmep.model.utils import Site as site\n",
    "\n",
    "from models import NonHierarchicalBayesianModel\n",
    "from constants import (\n",
    "    DATA_PATH,\n",
    "    TOML_PATH\n",
    ")\n",
    "\n",
    "config = Config(toml_path=TOML_PATH)\n",
    "model = NonHierarchicalBayesianModel(config=config)"
   ]
  },
  {
   "cell_type": "code",
   "execution_count": 2,
   "metadata": {},
   "outputs": [],
   "source": [
    "df_CIRC = pd.read_csv(\"/home/andres/data/hbmep-processed/L_CIRC/data.csv\")\n",
    "df_RCML = pd.read_csv(\"/home/andres/data/hbmep-processed/J_RCML_000/data.csv\")\n",
    "df_SHAP = pd.read_csv(\"/home/andres/data/hbmep-processed/J_SHAP/data.csv\")\n",
    "df_SMA_LAR = pd.read_csv(\"/home/andres/data/hbmep-processed/C_SMA_LAR/data.csv\")\n"
   ]
  },
  {
   "cell_type": "code",
   "execution_count": 5,
   "metadata": {},
   "outputs": [],
   "source": [
    "combination_CIRC = pickle.load(open(\"/home/andres/repos/rat-mapping-paper/reports/L_CIRC/combine.pkl\", \"rb\"))\n",
    "combination_RCML = pickle.load(open(\"/home/andres/repos/rat-mapping-paper/reports/J_RCML_000/combine.pkl\", \"rb\"))\n",
    "combination_SHAP = pickle.load(open(\"/home/andres/repos/rat-mapping-paper/reports/J_SHAP/combine.pkl\", \"rb\"))\n",
    "combination_SMA_LAR = pickle.load(open(\"/home/andres/repos/rat-mapping-paper/reports/C_SMA_LAR/combine.pkl\", \"rb\"))"
   ]
  },
  {
   "cell_type": "markdown",
   "metadata": {},
   "source": [
    "## Circ"
   ]
  },
  {
   "cell_type": "code",
   "execution_count": 11,
   "metadata": {},
   "outputs": [
    {
     "data": {
      "text/plain": [
       "(8, 3, 9, 6, 4000)"
      ]
     },
     "execution_count": 11,
     "metadata": {},
     "output_type": "execute_result"
    }
   ],
   "source": [
    "subjects_CIRC = df_CIRC['participant'].unique()\n",
    "combos_CIRC = ['Vertex', 'Radius', 'Diameter']\n",
    "electrodes_CIRC = ['C6LC', 'C6LE', 'C6LN', 'C6LNE', 'C6LNW', 'C6LS', 'C6LSE', 'C6LSW', 'C6LW']\n",
    "muscles_CIRC = model.response\n",
    "\n",
    "temp = ['C6LE-C6LW','C6LNE-C6LSW','C6LS-C6LN','C6LSE-C6LNW']\n",
    "ord = []\n",
    "arr_CIRC = []\n",
    "mask_CIRC = []\n",
    "for sub in subjects_CIRC:\n",
    "    for combo in combos_CIRC:\n",
    "        for elec in electrodes_CIRC:\n",
    "            for m in muscles_CIRC:\n",
    "                if combo == 'Vertex':\n",
    "                    position = '-'+elec\n",
    "                if combo == 'Radius':\n",
    "                    position = elec + '-' + 'C6LC'\n",
    "                if combo == 'Diameter':\n",
    "                    for e in electrodes_CIRC:\n",
    "                        if elec != e:\n",
    "                            temppos = elec + '-' + e\n",
    "                            if temppos in temp:\n",
    "                                position = temppos\n",
    "                key = (sub, position, m)\n",
    "                \n",
    "                if key in combination_CIRC.keys():\n",
    "                    tcomb = combination_CIRC[key]['a']\n",
    "                    tcomb = tcomb.reshape(-1, 1)\n",
    "                    arr_CIRC.append(tcomb)\n",
    "                    mask_CIRC.append(np.full((4000,1), False))\n",
    "                else:\n",
    "                    arr_CIRC.append(np.zeros(4000).reshape(-1, 1))\n",
    "                    mask_CIRC.append(np.full((4000, 1), True))\n",
    "                    \n",
    "arr_CIRC = np.array(arr_CIRC)\n",
    "arr_CIRC = arr_CIRC.reshape(len(subjects_CIRC), len(combos_CIRC),len(electrodes_CIRC), len(muscles_CIRC), *arr_CIRC.shape[1:])\n",
    "mask_CIRC = np.array(mask_CIRC)\n",
    "mask_CIRC = mask_CIRC.reshape(len(subjects_CIRC), len(combos_CIRC),len(electrodes_CIRC),len(muscles_CIRC), *mask_CIRC.shape[1:])\n",
    "\n",
    "arr_CIRC = ma.masked_array(arr_CIRC, mask=mask_CIRC)\n",
    "arr_CIRC = arr_CIRC[..., 0]\n",
    "                \n",
    "arr_CIRC.shape #subjects, combos, electrodes, muscles"
   ]
  },
  {
   "cell_type": "markdown",
   "metadata": {},
   "source": [
    "## Big v Small"
   ]
  },
  {
   "cell_type": "code",
   "execution_count": 9,
   "metadata": {},
   "outputs": [
    {
     "data": {
      "text/plain": [
       "(8, 2, 6, 2, 6, 4000)"
      ]
     },
     "execution_count": 9,
     "metadata": {},
     "output_type": "execute_result"
    }
   ],
   "source": [
    "subjects_BvS = df_SMA_LAR[\"participant\"].unique().tolist()\n",
    "sizes_BvS = ['S', 'B']\n",
    "positions_BvS = df_SMA_LAR.compound_position.unique().tolist()\n",
    "# positions = sorted([p for p in positions if (p.split('-')[0] == \"\" or p.split('-')[1] == \"\")])\n",
    "targets_BvS = ['LL','L', 'LM1', 'LM2','LM', 'M']\n",
    "levels_BvS = ['C5', 'C6']\n",
    "# positions = [p for p in positions if (p.split('-')[1][2] in targets and p.split('-')[1][1] != \"7\")]\n",
    "muscles_BvS = set([m[3] for m in combination_SMA_LAR.keys()])\n",
    "\n",
    "arr_BvS = []\n",
    "mask_BvS = []\n",
    "\n",
    "for subject in subjects_BvS:\n",
    "    for level in levels_BvS:\n",
    "        for target in targets_BvS:\n",
    "            for size in sizes_BvS:\n",
    "                for muscle in muscles_BvS:\n",
    "                    position = f\"-{level}{target}\"\n",
    "                    key = (subject, position, size, muscle)\n",
    "                    if key in combination_SMA_LAR.keys():\n",
    "                        currenta = combination_SMA_LAR[key]['a']\n",
    "                        currenta = currenta.reshape(-1, 1)\n",
    "                        arr_BvS.append(currenta)\n",
    "                        mask_BvS.append(np.full((4000, 1), False))\n",
    "                    else:\n",
    "                        arr_BvS.append(np.zeros(4000).reshape(-1, 1))\n",
    "                        mask_BvS.append(np.full((4000, 1), True))\n",
    "\n",
    "arr_BvS = np.array(arr_BvS)\n",
    "arr_BvS = arr_BvS.reshape(len(subjects_BvS), len(levels_BvS), len(targets_BvS), len(sizes_BvS), len(muscles_BvS), *arr_BvS.shape[1:])\n",
    "mask_BvS = np.array(mask_BvS)\n",
    "mask_BvS = mask_BvS.reshape(len(subjects_BvS), len(levels_BvS), len(targets_BvS), len(sizes_BvS), len(muscles_BvS), *mask_BvS.shape[1:])\n",
    "\n",
    "arr_BvS = ma.masked_array(arr_BvS, mask=mask_BvS)\n",
    "arr_BvS = arr_BvS[..., 0]\n",
    "\n",
    "arr_BvS.shape #subects, levels, targets, sizes, muscles"
   ]
  },
  {
   "cell_type": "markdown",
   "metadata": {},
   "source": [
    "## J_SHAP"
   ]
  },
  {
   "cell_type": "code",
   "execution_count": 16,
   "metadata": {},
   "outputs": [
    {
     "data": {
      "text/plain": [
       "(8, 3, 2, 3, 6, 4000)"
      ]
     },
     "execution_count": 16,
     "metadata": {},
     "output_type": "execute_result"
    }
   ],
   "source": [
    "subjects_SHAP = df_SHAP.participant.unique().tolist()\n",
    "charges_SHAP = df_SHAP.compound_charge_params.unique().tolist()\n",
    "charges_SHAP = [c for c in charges_SHAP if c != \"80-0-20-400\"]\n",
    "positions_SHAP = df_SHAP.compound_position.unique().tolist()\n",
    "\n",
    "# M-L, bipolar\n",
    "positions_SHAP = [p for p in positions_SHAP if not (\"\" in p.split(\"-\"))]\n",
    "positions_SHAP = [p for p in positions_SHAP if p.split('-')[0][-1] != p.split('-')[1][-1]]\n",
    "\n",
    "directions_SHAP = ['L-M', 'M-L']\n",
    "segments_SHAP = [\"C6\", \"C7\", \"C8\"]\n",
    "\n",
    "arr_SHAP = []\n",
    "mask_SHAP = []\n",
    "\n",
    "for subject in subjects_SHAP:\n",
    "    for segment in segments_SHAP:\n",
    "        for direction in directions_SHAP:\n",
    "            for charge in charges_SHAP:\n",
    "                for muscle in model.response:\n",
    "                    l, r = direction.split(\"-\")\n",
    "                    position = segment + l + \"-\" + segment + r\n",
    "\n",
    "                    c = (subject, position, charge, muscle)\n",
    "                    if c in combination_SHAP:\n",
    "                        current_a = combination_SHAP[c]['a']\n",
    "                        current_a = current_a.reshape(-1, 1)\n",
    "                        arr_SHAP.append(current_a)\n",
    "                        \n",
    "                        mask_SHAP.append(np.full((4000, 1), False))\n",
    "                        \n",
    "                    else:\n",
    "                        arr_SHAP.append(np.zeros(4000).reshape(-1, 1))\n",
    "                        mask_SHAP.append(np.full((4000, 1), True))\n",
    "                        \n",
    "arr_SHAP = np.array(arr_SHAP)\n",
    "arr_SHAP = arr_SHAP.reshape(len(subjects_SHAP), len(segments_SHAP), len(directions_SHAP), len(charges_SHAP), len(model.response), *arr_SHAP.shape[1:])      \n",
    "\n",
    "mask_SHAP = np.array(mask_SHAP)\n",
    "mask_SHAP = mask_SHAP.reshape(len(subjects_SHAP), len(segments_SHAP), len(directions_SHAP), len(charges_SHAP), len(model.response), *mask_SHAP.shape[1:])\n",
    "\n",
    "arr_SHAP = ma.masked_array(arr_SHAP, mask=mask_SHAP)\n",
    "arr_SHAP = arr_SHAP[..., 0]\n",
    "\n",
    "arr_SHAP.shape #subjects, segments, directions, charges, muscle"
   ]
  },
  {
   "cell_type": "markdown",
   "metadata": {},
   "source": [
    "## RCML"
   ]
  },
  {
   "cell_type": "code",
   "execution_count": 19,
   "metadata": {},
   "outputs": [
    {
     "data": {
      "text/plain": [
       "(8, 2, 4, 6, 4000)"
      ]
     },
     "execution_count": 19,
     "metadata": {},
     "output_type": "execute_result"
    }
   ],
   "source": [
    "subjects_RCML = df_RCML[\"participant\"].unique().tolist()\n",
    "positions_RCML = ['L', 'M']\n",
    "levels_RCML = ['C5', 'C6', 'C7', 'C8']\n",
    "# levels = ['C5-C6', 'C6-C7', 'C7-C8']\n",
    "# positions = [p for p in positions if (p.split('-')[1][2] in targets and p.split('-')[1][1] != \"7\")]\n",
    "muscles_RCML = model.response\n",
    "\n",
    "a = []\n",
    "mask_RCML = []\n",
    "for subject in subjects_RCML:\n",
    "    for position in positions_RCML:\n",
    "        for level in levels_RCML:\n",
    "            for muscle in muscles_RCML:\n",
    "                # l, r = level.split('-')\n",
    "                # pos = l + position + '-' + r + position\n",
    "                pos = '-' + level + position\n",
    "                key = (subject, pos, muscle)\n",
    "                if key in combination_RCML.keys():\n",
    "                    temp = combination_RCML[key]['a']\n",
    "                    temp = temp.reshape(-1, 1)\n",
    "                    a.append(temp)\n",
    "                    mask_RCML.append(np.full((4000,1), False))  \n",
    "                else: \n",
    "                    mask_RCML.append(np.full((4000,1), True))\n",
    "                    a.append(np.zeros(4000).reshape(-1, 1))\n",
    "arr_RCML = np.array(a)\n",
    "arr_RCML = arr_RCML.reshape(len(subjects_RCML), len(positions_RCML),len(levels_RCML), len(muscles_RCML), *arr_RCML.shape[1:])\n",
    "mask_RCML = np.array(mask_RCML)\n",
    "mask_RCML = mask_RCML.reshape(len(subjects_RCML), len(positions_RCML),len(levels_RCML),len(muscles_RCML), *mask_RCML.shape[1:])\n",
    "\n",
    "arr_RCML = ma.masked_array(arr_RCML, mask=mask_RCML)\n",
    "arr_RCML = arr_RCML[..., 0]\n",
    "\n",
    "arr_RCML.shape #subjects, positions, levels, muscle"
   ]
  },
  {
   "cell_type": "markdown",
   "metadata": {},
   "source": [
    "## Graphing"
   ]
  },
  {
   "cell_type": "code",
   "execution_count": null,
   "metadata": {},
   "outputs": [],
   "source": [
    "# arr_RCML -- subjects, positions, levels, muscle\n",
    "# arr_BvS -- subects, levels, targets, sizes, muscles\n",
    "# arr_SHAP -- subjects, levels, directions, charges, muscle\n",
    "# arr_CIRC -- subjects, combos, electrodes, muscles... combos is vertex/radius/diameter"
   ]
  },
  {
   "cell_type": "code",
   "execution_count": null,
   "metadata": {},
   "outputs": [],
   "source": [
    "big_electrodes = arr_BvS[:, :, :, 1, ...].mean(axis=-1)\n",
    "small_electrodes = arr_BvS[:, :, :, 0, ...].mean(axis=-1)\n",
    "\n",
    "\n",
    "b_mean = big_electrodes.mean()\n",
    "b_sem = stats.sem(big_electrodes.compressed())\n",
    "\n",
    "s_mean = small_electrodes.mean()\n",
    "s_sem = stats.sem(small_electrodes.compressed())\n",
    "\n",
    "x_labels = ['Big', 'Small']\n",
    "values = [b_mean, s_mean]\n",
    "sem = [b_sem, s_sem]\n",
    "# Convert x_labels to a numerical format for plotting\n",
    "x_numeric = np.array([0.5, 1.5])\n",
    "cols = ['black', 'red']\n",
    "\n",
    "# Create the scatter plot\n",
    "plt.figure(figsize=(8, 6))\n",
    "sns.scatterplot(x=x_numeric, y=values, s=100, hue = x_labels, palette=cols, edgecolor='black')\n",
    "\n",
    "# Add error bars\n",
    "plt.errorbar(x_numeric[0], values[0], yerr=sem[0], fmt='o', color='black', capsize=10, elinewidth=2)\n",
    "plt.errorbar(x_numeric[1], values[1], yerr=sem[1], fmt='o', color='red', capsize=10, elinewidth=2)\n",
    "\n",
    "# Customize the plot\n",
    "plt.xticks(ticks=x_numeric, labels=x_labels)\n",
    "plt.ylabel('Threshold')\n",
    "plt.xlabel('Size Category')\n",
    "# plt.title('Values with SEM for Big and Small')\n",
    "plt.xlim(0, 2)\n",
    "\n",
    "# Show plot\n",
    "plt.show()"
   ]
  },
  {
   "cell_type": "code",
   "execution_count": 73,
   "metadata": {},
   "outputs": [
    {
     "data": {
      "text/plain": [
       "TtestResult(statistic=-5.206337853932841, pvalue=2.5345282397048726e-07, df=700.0)"
      ]
     },
     "execution_count": 73,
     "metadata": {},
     "output_type": "execute_result"
    }
   ],
   "source": [
    "stats.ttest_ind(big_electrodes,small_electrodes,alternative=\"two-sided\", axis=(0, 1, 2,3))"
   ]
  },
  {
   "cell_type": "code",
   "execution_count": 59,
   "metadata": {},
   "outputs": [
    {
     "data": {
      "text/plain": [
       "<ErrorbarContainer object of 3 artists>"
      ]
     },
     "execution_count": 59,
     "metadata": {},
     "output_type": "execute_result"
    },
    {
     "data": {
      "image/png": "[encoded data removed]",
      "text/plain": [
       "<Figure size 640x480 with 1 Axes>"
      ]
     },
     "metadata": {},
     "output_type": "display_data"
    }
   ],
   "source": [
    "# To plot all together\n",
    "# arr_RCML -- subjects, positions, levels, muscle\n",
    "# arr_BvS -- subects, levels, targets, sizes, muscles\n",
    "# arr_SHAP -- subjects, levels, directions, charges, muscle\n",
    "# arr_CIRC -- subjects, combos, electrodes, muscles... combos is vertex/radius/diameter\n",
    "lat_mean = []\n",
    "med_mean = []\n",
    "\n",
    "lat_RCML = arr_RCML[:,0,...].mean(axis=-1)\n",
    "med_RCML = arr_RCML[:,1,...].mean(axis=-1)\n",
    "lat_mean.append(lat_RCML.mean())\n",
    "med_mean.append(med_RCML.mean())\n",
    "\n",
    "lat_BvS = arr_BvS[:,0,...].mean(axis=-1)\n",
    "\n",
    "\n",
    "\n",
    "\n",
    "\n",
    "categories = ['RCML', 'SHAP', 'CIRC']\n",
    "means1 = [10, 5]  # First set of means\n",
    "sem1 = [1, 0.5]   # SEMs for the first set of means\n",
    "\n",
    "means2 = [8, 6]   # Second set of means\n",
    "sem2 = [1.2, 0.7] # SEMs for the second set of means\n",
    "\n",
    "# Convert categories to a numerical format for plotting\n",
    "x_numeric = np.arange(len(categories))  # [0, 1]\n",
    "\n",
    "# Create the scatter plot\n",
    "plt.figure(figsize=(8, 6))\n",
    "\n",
    "# Plot the first set of means\n",
    "plt.scatter(x_numeric - 0.1, means1, color='black', s=100, edgecolor='black', label='Means 1')\n",
    "plt.errorbar(x_numeric - 0.1, means1, yerr=sem1, fmt='o', color='black', capsize=5, elinewidth=2)\n",
    "\n",
    "# Plot the second set of means\n",
    "plt.scatter(x_numeric + 0.1, means2, color='grey', s=100, edgecolor='black', label='Means 2')\n",
    "plt.errorbar(x_numeric + 0.1, means2, yerr=sem2, fmt='o', color='grey', capsize=5, elinewidth=2)\n",
    "\n",
    "# Customize the plot\n",
    "plt.xticks(ticks=x_numeric, labels=categories)\n",
    "plt.xlim(-0.5, len(categories) - 0.5)  # Adjust the limits to make space for both sets of points\n",
    "plt.ylabel('Value')\n",
    "plt.xlabel('Category')\n",
    "plt.title('Comparison of Two Sets of Means with SEM')\n",
    "\n",
    "# Add a legend\n",
    "plt.legend()\n",
    "\n",
    "# Show plot\n",
    "plt.show()\n"
   ]
  },
  {
   "cell_type": "code",
   "execution_count": 49,
   "metadata": {},
   "outputs": [
    {
     "data": {
      "text/plain": [
       "array([0.5, 1.5])"
      ]
     },
     "execution_count": 49,
     "metadata": {},
     "output_type": "execute_result"
    }
   ],
   "source": [
    "x_numeric"
   ]
  },
  {
   "cell_type": "code",
   "execution_count": 35,
   "metadata": {},
   "outputs": [
    {
     "data": {
      "text/plain": [
       "5.715521111627386"
      ]
     },
     "execution_count": 35,
     "metadata": {},
     "output_type": "execute_result"
    }
   ],
   "source": [
    "s_sem"
   ]
  }
 ],
 "metadata": {
  "kernelspec": {
   "display_name": ".venv",
   "language": "python",
   "name": "python3"
  },
  "language_info": {
   "codemirror_mode": {
    "name": "ipython",
    "version": 3
   },
   "file_extension": ".py",
   "mimetype": "text/x-python",
   "name": "python",
   "nbconvert_exporter": "python",
   "pygments_lexer": "ipython3",
   "version": "3.11.9"
  }
 },
 "nbformat": 4,
 "nbformat_minor": 2
}
