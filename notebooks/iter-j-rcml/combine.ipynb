{
 "cells": [
  {
   "cell_type": "code",
   "execution_count": 1,
   "metadata": {},
   "outputs": [],
   "source": [
    "import os\n",
    "import pickle\n",
    "import logging\n",
    "\n",
    "import pandas as pd\n",
    "import numpy as np\n",
    "\n",
    "from hbmep.config import Config\n",
    "from hbmep.model.utils import Site as site\n",
    "\n",
    "from paper.utils import setup_logging\n",
    "from models import NonHierarchicalBayesianModel\n",
    "from constants import (\n",
    "    TOML_PATH,\n",
    "    BUILD_DIR\n",
    ")\n"
   ]
  },
  {
   "cell_type": "code",
   "execution_count": 2,
   "metadata": {},
   "outputs": [
    {
     "data": {
      "text/plain": [
       "(7676, 44)"
      ]
     },
     "execution_count": 2,
     "metadata": {},
     "output_type": "execute_result"
    }
   ],
   "source": [
    "src = \"/home/vishu/data/hbmep-processed/rat/J_RCML/data.csv\"\n",
    "\n",
    "df = pd.read_csv(src)\n",
    "df.shape\n"
   ]
  },
  {
   "cell_type": "code",
   "execution_count": 3,
   "metadata": {},
   "outputs": [],
   "source": [
    "config = Config(toml_path=TOML_PATH)\n",
    "model = NonHierarchicalBayesianModel(config=config)\n"
   ]
  },
  {
   "cell_type": "code",
   "execution_count": 4,
   "metadata": {},
   "outputs": [
    {
     "data": {
      "text/plain": [
       "150"
      ]
     },
     "execution_count": 4,
     "metadata": {},
     "output_type": "execute_result"
    }
   ],
   "source": [
    "combinations = (\n",
    "    df[model.features]\n",
    "    .apply(tuple, axis=1)\n",
    "    .unique()\n",
    "    .tolist()\n",
    ")\n",
    "combinations = sorted(combinations)\n",
    "len(combinations)\n"
   ]
  },
  {
   "cell_type": "code",
   "execution_count": 5,
   "metadata": {},
   "outputs": [],
   "source": [
    "posterior_samples = {site.a: None}\n",
    "\n",
    "for c in combinations:\n",
    "    subject, position = c\n",
    "    dir = os.path.join(\n",
    "        BUILD_DIR,\n",
    "        f\"sub__{subject}\",\n",
    "        f\"pos__{position}\"\n",
    "    )\n",
    "\n",
    "    response_samples = None\n",
    "\n",
    "    for response in model.response:\n",
    "        src = os.path.join(\n",
    "            dir, f\"resp__{response}\", model.NAME, \"inference.pkl\"\n",
    "        )\n",
    "        with open(src, \"rb\") as f:\n",
    "            _, _, samples = pickle.load(f)\n",
    "\n",
    "        for u in posterior_samples.keys():\n",
    "            site_samples = samples[u].reshape(-1,)\n",
    "            site_samples = site_samples[:, None, None]\n",
    "\n",
    "            if response_samples is None:\n",
    "                response_samples = site_samples\n",
    "            else:\n",
    "                response_samples = np.concatenate(\n",
    "                    [response_samples, site_samples],\n",
    "                    axis=-1\n",
    "                )\n",
    "\n",
    "    if posterior_samples[site.a] is None:\n",
    "        posterior_samples[site.a] = response_samples\n",
    "    else:\n",
    "        posterior_samples[site.a] = np.concatenate(\n",
    "            [posterior_samples[site.a], response_samples],\n",
    "            axis=-2\n",
    "        )\n"
   ]
  },
  {
   "cell_type": "code",
   "execution_count": 6,
   "metadata": {},
   "outputs": [],
   "source": [
    "dest = os.path.join(BUILD_DIR, \"inference.pkl\")\n",
    "\n",
    "with open(dest, \"wb\") as f:\n",
    "    pickle.dump((combinations, posterior_samples,), f)\n"
   ]
  },
  {
   "cell_type": "code",
   "execution_count": null,
   "metadata": {},
   "outputs": [],
   "source": []
  }
 ],
 "metadata": {
  "kernelspec": {
   "display_name": "Python 3 (ipykernel)",
   "language": "python",
   "name": "python3"
  },
  "language_info": {
   "codemirror_mode": {
    "name": "ipython",
    "version": 3
   },
   "file_extension": ".py",
   "mimetype": "text/x-python",
   "name": "python",
   "nbconvert_exporter": "python",
   "pygments_lexer": "ipython3",
   "version": "3.11.9"
  }
 },
 "nbformat": 4,
 "nbformat_minor": 2
}
