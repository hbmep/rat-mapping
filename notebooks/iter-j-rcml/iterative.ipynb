{
 "cells": [
  {
   "cell_type": "code",
   "execution_count": 3,
   "metadata": {},
   "outputs": [],
   "source": [
    "import os\n",
    "import pickle\n",
    "\n",
    "import pandas as pd\n",
    "import numpy as np\n",
    "import numpy.ma as ma\n",
    "import matplotlib.pyplot as plt\n",
    "import seaborn as sns\n",
    "from scipy import stats\n",
    "\n",
    "from hbmep.config import Config\n",
    "from hbmep.model.utils import Site as site\n",
    "\n",
    "from models import NonHierarchicalBayesianModel\n",
    "from constants import (\n",
    "    TOML_PATH,\n",
    "    DATA_PATH,\n",
    "    BUILD_DIR,\n",
    ")\n"
   ]
  },
  {
   "cell_type": "code",
   "execution_count": 4,
   "metadata": {},
   "outputs": [
    {
     "name": "stdout",
     "output_type": "stream",
     "text": [
      "(7676, 44)\n"
     ]
    }
   ],
   "source": [
    "src = os.path.join(BUILD_DIR, \"inference.pkl\")\n",
    "with open(src, \"rb\") as f:\n",
    "    COMBINED_COMBINATIONS, COMBINED_POSTERIOR_SAMPLES = pickle.load(f)\n",
    "\n",
    "DATA = pd.read_csv(DATA_PATH)\n",
    "print(DATA.shape)\n",
    "\n",
    "config = Config(TOML_PATH)\n",
    "model = NonHierarchicalBayesianModel(config)\n"
   ]
  },
  {
   "cell_type": "code",
   "execution_count": 5,
   "metadata": {},
   "outputs": [],
   "source": [
    "combinations = [\n",
    "    u for u in COMBINED_COMBINATIONS\n",
    "    if \"\" in u[1].split(\"-\")\n",
    "]\n",
    "\n",
    "ind = [u in combinations for u in COMBINED_COMBINATIONS]\n",
    "combinations = [u for u, v in zip(COMBINED_COMBINATIONS, ind) if v]\n",
    "posterior_samples = {u: v[:, ind, ...] for u, v in COMBINED_POSTERIOR_SAMPLES.items()}\n"
   ]
  },
  {
   "cell_type": "code",
   "execution_count": 6,
   "metadata": {},
   "outputs": [],
   "source": [
    "subjects = sorted(DATA[\"participant\"].unique().tolist())\n",
    "directions = [\"-M\", \"-L\"]\n",
    "segments = [\"C5\", \"C6\", \"C7\", \"C8\"]\n",
    "\n",
    "a = None\n",
    "a_mask = None\n",
    "\n",
    "for subject in subjects:\n",
    "    for direction in directions:\n",
    "        for segment in segments:\n",
    "            compound_position = f\"-{segment}{direction[-1]}\"\n",
    "            curr_combination = (subject, compound_position)\n",
    "\n",
    "            if curr_combination in combinations:\n",
    "                ind = [c == curr_combination for c in combinations]\n",
    "                assert sum(ind) == 1\n",
    "                if a is None:\n",
    "                    a = posterior_samples[site.a][:, ind, ...]\n",
    "                    a_mask = np.full(a.shape, False)\n",
    "                else:\n",
    "                    a = np.concatenate([a, posterior_samples[site.a][:, ind, ...]], axis=1)\n",
    "                    a_mask = np.concatenate(\n",
    "                        [\n",
    "                            a_mask,\n",
    "                            np.full(\n",
    "                                (\n",
    "                                    posterior_samples[site.a].shape[0],\n",
    "                                    1,\n",
    "                                    posterior_samples[site.a].shape[-1]\n",
    "                                ),\n",
    "                                False\n",
    "                            )\n",
    "                        ],\n",
    "                        axis=1\n",
    "                    )\n",
    "            else:\n",
    "                if a is None:\n",
    "                    a = np.zeros((\n",
    "                        posterior_samples[site.a].shape[0],\n",
    "                        1,\n",
    "                        posterior_samples[site.a].shape[-1]\n",
    "                    ))\n",
    "                    a_mask = np.full(a.shape, True)\n",
    "                else:\n",
    "                    a = np.concatenate(\n",
    "                        [\n",
    "                            a,\n",
    "                            np.zeros((\n",
    "                                posterior_samples[site.a].shape[0],\n",
    "                                1,\n",
    "                                posterior_samples[site.a].shape[-1]\n",
    "                            ))\n",
    "                        ],\n",
    "                        axis=1\n",
    "                    )\n",
    "                    a_mask = np.concatenate(\n",
    "                        [\n",
    "                            a_mask,\n",
    "                            np.full(\n",
    "                                (\n",
    "                                    posterior_samples[site.a].shape[0],\n",
    "                                    1,\n",
    "                                    posterior_samples[site.a].shape[-1],\n",
    "                                ),\n",
    "                                True\n",
    "                            ),\n",
    "                        ],\n",
    "                        axis=1\n",
    "                    )\n",
    "\n",
    "\n",
    "a = a.reshape(\n",
    "    -1, len(subjects), len(directions), len(segments), *a.shape[2:]\n",
    ")\n",
    "a_mask = a_mask.reshape(\n",
    "    -1, len(subjects), len(directions), len(segments), *a_mask.shape[2:]\n",
    ")\n",
    "\n",
    "a = ma.masked_array(a, mask=a_mask)\n",
    "\n"
   ]
  },
  {
   "cell_type": "code",
   "execution_count": 11,
   "metadata": {},
   "outputs": [
    {
     "data": {
      "text/plain": [
       "array(['C5M-C5L', 'C5M-C6L', 'C7L-C8L', '-C5M', 'C7M-C8L', 'C8M-C8L',\n",
       "       '-C8M', '-C6L', '-C7M', '-C8L', 'C7M-C8M', 'C5L-C6L', '-C5L',\n",
       "       'C6L-C7L', '-C7L', 'C7M-C7L', 'C6M-C7M', 'C5M-C6M', '-C6M',\n",
       "       'C6M-C7L', 'C6M-C6L'], dtype=object)"
      ]
     },
     "execution_count": 11,
     "metadata": {},
     "output_type": "execute_result"
    }
   ],
   "source": [
    "df = DATA.copy()\n",
    "df.compound_position.unique()"
   ]
  },
  {
   "cell_type": "code",
   "execution_count": 9,
   "metadata": {},
   "outputs": [
    {
     "data": {
      "text/plain": [
       "{'-C5L', '-C5M', '-C6L', '-C6M', '-C7L', '-C7M', '-C8L', '-C8M'}"
      ]
     },
     "execution_count": 9,
     "metadata": {},
     "output_type": "execute_result"
    }
   ],
   "source": [
    "set([u[1] for u in combinations])"
   ]
  },
  {
   "cell_type": "code",
   "execution_count": 7,
   "metadata": {},
   "outputs": [],
   "source": [
    "arr = []\n",
    "arr_labels = []\n",
    "\n",
    "for l_direction_ind, l_direction in enumerate(directions):\n",
    "    label = l_direction\n",
    "    arr_labels.append(label)\n",
    "\n",
    "    for r_direction_ind, r_direction in enumerate(directions):\n",
    "        if l_direction_ind == r_direction_ind:\n",
    "            arr.append(1)\n",
    "            continue\n",
    "\n",
    "        l_samples = a[:, :, l_direction_ind, ...].mean(axis=0)\n",
    "        r_samples = a[:, :, r_direction_ind, ...].mean(axis=0)\n",
    "        pvalue = stats.ttest_1samp(l_samples - r_samples, popmean=0, alternative=\"less\", axis=(0, 1, 2)).pvalue\n",
    "        arr.append(pvalue)\n",
    "\n",
    "arr = np.array(arr)\n",
    "arr = arr.reshape(-1, len(arr_labels))\n",
    "arr_mask = np.diag(arr)\n"
   ]
  },
  {
   "cell_type": "code",
   "execution_count": 10,
   "metadata": {},
   "outputs": [
    {
     "data": {
      "image/png": "[encoded data removed]",
      "text/plain": [
       "<Figure size 500x400 with 1 Axes>"
      ]
     },
     "metadata": {},
     "output_type": "display_data"
    }
   ],
   "source": [
    "heatmap_kwargs = {\n",
    "    \"linewidths\":1, \"linecolor\":\"black\", \"cbar\": False, \"vmin\": 0, \"vmax\": 1\n",
    "}\n",
    "nrows, ncols = 1, 1\n",
    "fig, axes = plt.subplots(\n",
    "    nrows=nrows,\n",
    "    ncols=ncols,\n",
    "    figsize=(ncols * 5, nrows * 4),\n",
    "    constrained_layout=True,\n",
    "    squeeze=False\n",
    ")\n",
    "ax = axes[0, 0]\n",
    "sns.heatmap(arr, xticklabels=arr_labels, yticklabels=arr_labels, annot=True, ax=ax, mask=np.diag(arr_mask), **heatmap_kwargs)\n",
    "ax.tick_params(axis=\"x\", rotation=0)\n",
    "ax.tick_params(axis=\"y\", rotation=0)\n"
   ]
  },
  {
   "cell_type": "code",
   "execution_count": null,
   "metadata": {},
   "outputs": [],
   "source": []
  },
  {
   "cell_type": "code",
   "execution_count": null,
   "metadata": {},
   "outputs": [],
   "source": []
  },
  {
   "cell_type": "code",
   "execution_count": null,
   "metadata": {},
   "outputs": [],
   "source": []
  },
  {
   "cell_type": "code",
   "execution_count": 12,
   "metadata": {},
   "outputs": [],
   "source": [
    "combinations = [\n",
    "    u for u in COMBINED_COMBINATIONS\n",
    "    if \"\" not in u[1].split(\"-\")\n",
    "    and u[1].split(\"-\")[0][:-1] == u[1].split(\"-\")[1][:-1]\n",
    "]\n",
    "\n",
    "ind = [u in combinations for u in COMBINED_COMBINATIONS]\n",
    "combinations = [u for u, v in zip(COMBINED_COMBINATIONS, ind) if v]\n",
    "posterior_samples = {u: v[:, ind, ...] for u, v in COMBINED_POSTERIOR_SAMPLES.items()}\n"
   ]
  },
  {
   "cell_type": "code",
   "execution_count": 23,
   "metadata": {},
   "outputs": [
    {
     "data": {
      "text/plain": [
       "{'C5M-C5L', 'C6M-C6L', 'C7M-C7L', 'C8M-C8L'}"
      ]
     },
     "execution_count": 23,
     "metadata": {},
     "output_type": "execute_result"
    }
   ],
   "source": [
    "set([u[1] for u in combinations])"
   ]
  },
  {
   "cell_type": "code",
   "execution_count": 16,
   "metadata": {},
   "outputs": [],
   "source": [
    "subjects = sorted(DATA[\"participant\"].unique().tolist())\n",
    "directions = [\"-M\", \"-L\"]\n",
    "segments = [\"C5\", \"C6\", \"C7\", \"C8\"]\n",
    "\n",
    "a = None\n",
    "a_mask = None\n",
    "\n",
    "for subject in subjects:\n",
    "    for direction in directions:\n",
    "        for segment in segments:\n",
    "            if direction == \"-M\":\n",
    "                compound_position = f\"{segment}L-{segment}M\"\n",
    "            elif direction == \"-L\":\n",
    "                compound_position = f\"{segment}M-{segment}L\"\n",
    "            else:\n",
    "                raise ValueError(f\"Invalid direction: {direction}\")\n",
    "\n",
    "            curr_combination = (subject, compound_position)\n",
    "\n",
    "            if curr_combination in combinations:\n",
    "                ind = [c == curr_combination for c in combinations]\n",
    "                assert sum(ind) == 1\n",
    "                if a is None:\n",
    "                    a = posterior_samples[site.a][:, ind, ...]\n",
    "                    a_mask = np.full(a.shape, False)\n",
    "                else:\n",
    "                    a = np.concatenate([a, posterior_samples[site.a][:, ind, ...]], axis=1)\n",
    "                    a_mask = np.concatenate(\n",
    "                        [\n",
    "                            a_mask,\n",
    "                            np.full(\n",
    "                                (\n",
    "                                    posterior_samples[site.a].shape[0],\n",
    "                                    1,\n",
    "                                    posterior_samples[site.a].shape[-1]\n",
    "                                ),\n",
    "                                False\n",
    "                            )\n",
    "                        ],\n",
    "                        axis=1\n",
    "                    )\n",
    "            else:\n",
    "                if a is None:\n",
    "                    a = np.zeros((\n",
    "                        posterior_samples[site.a].shape[0],\n",
    "                        1,\n",
    "                        posterior_samples[site.a].shape[-1]\n",
    "                    ))\n",
    "                    a_mask = np.full(a.shape, True)\n",
    "                else:\n",
    "                    a = np.concatenate(\n",
    "                        [\n",
    "                            a,\n",
    "                            np.zeros((\n",
    "                                posterior_samples[site.a].shape[0],\n",
    "                                1,\n",
    "                                posterior_samples[site.a].shape[-1]\n",
    "                            ))\n",
    "                        ],\n",
    "                        axis=1\n",
    "                    )\n",
    "                    a_mask = np.concatenate(\n",
    "                        [\n",
    "                            a_mask,\n",
    "                            np.full(\n",
    "                                (\n",
    "                                    posterior_samples[site.a].shape[0],\n",
    "                                    1,\n",
    "                                    posterior_samples[site.a].shape[-1],\n",
    "                                ),\n",
    "                                True\n",
    "                            ),\n",
    "                        ],\n",
    "                        axis=1\n",
    "                    )\n",
    "\n",
    "\n",
    "a = a.reshape(\n",
    "    -1, len(subjects), len(directions), len(segments), *a.shape[2:]\n",
    ")\n",
    "a_mask = a_mask.reshape(\n",
    "    -1, len(subjects), len(directions), len(segments), *a_mask.shape[2:]\n",
    ")\n",
    "\n",
    "a = ma.masked_array(a, mask=a_mask)\n",
    "\n"
   ]
  },
  {
   "cell_type": "code",
   "execution_count": 19,
   "metadata": {},
   "outputs": [
    {
     "data": {
      "text/plain": [
       "(4000, 8, 2, 4, 6)"
      ]
     },
     "execution_count": 19,
     "metadata": {},
     "output_type": "execute_result"
    }
   ],
   "source": [
    "a.shape"
   ]
  },
  {
   "cell_type": "code",
   "execution_count": 17,
   "metadata": {},
   "outputs": [
    {
     "name": "stderr",
     "output_type": "stream",
     "text": [
      "/tmp/ipykernel_1048468/3863313537.py:15: SmallSampleWarning: One or more sample arguments is too small; all returned values will be NaN. See documentation for sample size requirements.\n",
      "  pvalue = stats.ttest_1samp(l_samples - r_samples, popmean=0, alternative=\"less\", axis=(0, 1, 2)).pvalue\n"
     ]
    }
   ],
   "source": [
    "arr = []\n",
    "arr_labels = []\n",
    "\n",
    "for l_direction_ind, l_direction in enumerate(directions):\n",
    "    label = l_direction\n",
    "    arr_labels.append(label)\n",
    "\n",
    "    for r_direction_ind, r_direction in enumerate(directions):\n",
    "        if l_direction_ind == r_direction_ind:\n",
    "            arr.append(1)\n",
    "            continue\n",
    "\n",
    "        l_samples = a[:, :, l_direction_ind, ...].mean(axis=0)\n",
    "        r_samples = a[:, :, r_direction_ind, ...].mean(axis=0)\n",
    "        pvalue = stats.ttest_1samp(l_samples - r_samples, popmean=0, alternative=\"less\", axis=(0, 1, 2)).pvalue\n",
    "        arr.append(pvalue)\n",
    "\n",
    "arr = np.array(arr)\n",
    "arr = arr.reshape(-1, len(arr_labels))\n",
    "arr_mask = np.diag(arr)\n"
   ]
  },
  {
   "cell_type": "code",
   "execution_count": 18,
   "metadata": {},
   "outputs": [
    {
     "data": {
      "image/png": "[encoded data removed]",
      "text/plain": [
       "<Figure size 500x400 with 1 Axes>"
      ]
     },
     "metadata": {},
     "output_type": "display_data"
    }
   ],
   "source": [
    "heatmap_kwargs = {\n",
    "    \"linewidths\":1, \"linecolor\":\"black\", \"cbar\": False, \"vmin\": 0, \"vmax\": 1\n",
    "}\n",
    "nrows, ncols = 1, 1\n",
    "fig, axes = plt.subplots(\n",
    "    nrows=nrows,\n",
    "    ncols=ncols,\n",
    "    figsize=(ncols * 5, nrows * 4),\n",
    "    constrained_layout=True,\n",
    "    squeeze=False\n",
    ")\n",
    "ax = axes[0, 0]\n",
    "sns.heatmap(arr, xticklabels=arr_labels, yticklabels=arr_labels, annot=True, ax=ax, mask=np.diag(arr_mask), **heatmap_kwargs)\n",
    "ax.tick_params(axis=\"x\", rotation=0)\n",
    "ax.tick_params(axis=\"y\", rotation=0)\n"
   ]
  },
  {
   "cell_type": "code",
   "execution_count": null,
   "metadata": {},
   "outputs": [],
   "source": []
  }
 ],
 "metadata": {
  "kernelspec": {
   "display_name": "Python 3 (ipykernel)",
   "language": "python",
   "name": "python3"
  },
  "language_info": {
   "codemirror_mode": {
    "name": "ipython",
    "version": 3
   },
   "file_extension": ".py",
   "mimetype": "text/x-python",
   "name": "python",
   "nbconvert_exporter": "python",
   "pygments_lexer": "ipython3",
   "version": "3.11.9"
  }
 },
 "nbformat": 4,
 "nbformat_minor": 2
}
