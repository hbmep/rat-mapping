{
 "cells": [
  {
   "cell_type": "code",
   "execution_count": 1,
   "metadata": {},
   "outputs": [],
   "source": [
    "import os\n",
    "import pickle\n",
    "\n",
    "import pandas as pd\n",
    "from pandas.testing import assert_frame_equal\n",
    "import numpy as np\n",
    "import numpy.ma as ma\n",
    "import matplotlib.pyplot as plt\n",
    "import seaborn as sns\n",
    "from scipy import stats\n",
    "\n",
    "from hbmep.config import Config\n",
    "from hbmep.model import BaseModel\n",
    "from hbmep.model.utils import Site as site\n",
    "\n",
    "# from models import HierarchicalBayesianModel\n",
    "from constants import (\n",
    "    TOML_PATH,\n",
    "    DATA_PATH,\n",
    "    BUILD_DIR,\n",
    "    INFERENCE_FILE\n",
    ")\n"
   ]
  },
  {
   "cell_type": "code",
   "execution_count": 2,
   "metadata": {},
   "outputs": [
    {
     "name": "stderr",
     "output_type": "stream",
     "text": [
      "An NVIDIA GPU may be present on this machine, but a CUDA-enabled jaxlib is not installed. Falling back to cpu.\n"
     ]
    }
   ],
   "source": [
    "config = Config(toml_path=TOML_PATH)\n",
    "config.BUILD_DIR = BUILD_DIR\n",
    "columns = config.FEATURES\n",
    "config.FEATURES = config.FEATURES[:1] + [config.FEATURES[1:]]\n",
    "model = BaseModel(config=config)\n"
   ]
  },
  {
   "cell_type": "code",
   "execution_count": 3,
   "metadata": {},
   "outputs": [],
   "source": [
    "data = pd.read_csv(DATA_PATH)\n",
    "positions_map = {\n",
    "    \"-C6LC\": \"-C\",\n",
    "    \"C6LC-\": \"C-\",\n",
    "    \"C6LC-C6LX\": \"C-X\",\n",
    "    \"C6LX-C6LC\": \"X-C\",\n",
    "}\n",
    "charges_map = {\n",
    "    \"50-0-50-100\": \"Biphasic\",\n",
    "    \"20-0-80-25\": \"Pseudo-Mono\"\n",
    "}\n",
    "data[model._features[1][0]] = data[model._features[1][0]].replace(positions_map)\n",
    "data[model._features[1][1]] = data[model._features[1][1]].replace(charges_map)\n"
   ]
  },
  {
   "cell_type": "code",
   "execution_count": 4,
   "metadata": {},
   "outputs": [
    {
     "name": "stdout",
     "output_type": "stream",
     "text": [
      "(3572, 46)\n",
      "64\n",
      "No missing conditions for any rat\n"
     ]
    }
   ],
   "source": [
    "ind = data[model._features[1]].apply(tuple, axis=1).isin([('-C', 'Biphasic')])\n",
    "assert data.loc[ind, model._features[1][0]].nunique() == 1\n",
    "data.loc[ind, model._features[1][0]] = \" -C\"\n",
    "\n",
    "df = data.copy()\n",
    "print(df.shape)\n",
    "\n",
    "t = sorted(df[columns].apply(tuple, axis=1).unique())\n",
    "print(len(t))\n",
    "print(\"No missing conditions for any rat\")\n"
   ]
  },
  {
   "cell_type": "code",
   "execution_count": null,
   "metadata": {},
   "outputs": [],
   "source": [
    "# REFERENCE = [(' -C6LC', '50-0-50-100')]\n",
    "# WITH_GROUND = [\n",
    "#     ('-C6LC', '20-0-80-25'),\n",
    "#     # ('-C6LC', '50-0-50-100'),\n",
    "#     ('C6LC-', '20-0-80-25'),\n",
    "#     ('C6LC-', '50-0-50-100'),\n",
    "# ]\n",
    "# NO_GROUND = [\n",
    "#     ('C6LC-C6LX', '20-0-80-25'),\n",
    "#     ('C6LC-C6LX', '50-0-50-100'),\n",
    "#     ('C6LX-C6LC', '20-0-80-25'),\n",
    "#     ('C6LX-C6LC', '50-0-50-100')\n",
    "# ]\n",
    "\n",
    "REFERENCE = [(' -C', 'Biphasic')]\n",
    "WITH_GROUND = [\n",
    "    ('-C', 'Pseudo-Mono'),\n",
    "    ('C-', 'Pseudo-Mono'),\n",
    "    ('C-', 'Biphasic'),\n",
    "]\n",
    "NO_GROUND = [\n",
    "    ('C-X', 'Pseudo-Mono'),\n",
    "    ('C-X', 'Biphasic'),\n",
    "    ('X-C', 'Pseudo-Mono'),\n",
    "    ('X-C', 'Biphasic')\n",
    "]\n"
   ]
  },
  {
   "cell_type": "code",
   "execution_count": 6,
   "metadata": {},
   "outputs": [
    {
     "data": {
      "text/plain": [
       "array([' -C___Biphasic', 'C-X___Biphasic', 'C-X___Pseudo-Mono',\n",
       "       'X-C___Biphasic', 'X-C___Pseudo-Mono'], dtype=object)"
      ]
     },
     "execution_count": 6,
     "metadata": {},
     "output_type": "execute_result"
    }
   ],
   "source": [
    "run_id = \"no-ground\"\n",
    "if run_id == \"no-ground\":\n",
    "    subset = REFERENCE + NO_GROUND\n",
    "\n",
    "ind = data[model._features[1]].apply(tuple, axis=1).isin(subset)\n",
    "df = data[ind].reset_index(drop=True).copy()\n",
    "\n",
    "df, encoder_dict = model.load(df=df)\n",
    "encoder_dict[model.features[1]].classes_\n"
   ]
  },
  {
   "cell_type": "code",
   "execution_count": 7,
   "metadata": {},
   "outputs": [
    {
     "data": {
      "text/plain": [
       "array([' -C___Biphasic', '-C___Pseudo-Mono', 'C-___Biphasic',\n",
       "       'C-___Pseudo-Mono'], dtype=object)"
      ]
     },
     "execution_count": 7,
     "metadata": {},
     "output_type": "execute_result"
    }
   ],
   "source": [
    "run_id = \"ground\"\n",
    "if run_id == \"ground\":\n",
    "    subset = REFERENCE + WITH_GROUND\n",
    "\n",
    "ind = data[model._features[1]].apply(tuple, axis=1).isin(subset)\n",
    "df = data[ind].reset_index(drop=True).copy()\n",
    "\n",
    "df, encoder_dict = model.load(df=df)\n",
    "encoder_dict[model.features[1]].classes_\n"
   ]
  },
  {
   "cell_type": "code",
   "execution_count": 8,
   "metadata": {},
   "outputs": [
    {
     "data": {
      "text/plain": [
       "array([' -C___Biphasic', '-C___Pseudo-Mono', 'C-X___Biphasic',\n",
       "       'C-X___Pseudo-Mono', 'C-___Biphasic', 'C-___Pseudo-Mono',\n",
       "       'X-C___Biphasic', 'X-C___Pseudo-Mono'], dtype=object)"
      ]
     },
     "execution_count": 8,
     "metadata": {},
     "output_type": "execute_result"
    }
   ],
   "source": [
    "run_id = \"all\"\n",
    "if run_id == \"all\":\n",
    "    subset = REFERENCE + NO_GROUND + WITH_GROUND\n",
    "\n",
    "ind = data[model._features[1]].apply(tuple, axis=1).isin(subset)\n",
    "df = data[ind].reset_index(drop=True).copy()\n",
    "\n",
    "df, encoder_dict = model.load(df=df)\n",
    "encoder_dict[model.features[1]].classes_\n"
   ]
  },
  {
   "cell_type": "code",
   "execution_count": null,
   "metadata": {},
   "outputs": [],
   "source": []
  }
 ],
 "metadata": {
  "kernelspec": {
   "display_name": "Python 3 (ipykernel)",
   "language": "python",
   "name": "python3"
  },
  "language_info": {
   "codemirror_mode": {
    "name": "ipython",
    "version": 3
   },
   "file_extension": ".py",
   "mimetype": "text/x-python",
   "name": "python",
   "nbconvert_exporter": "python",
   "pygments_lexer": "ipython3",
   "version": "3.11.9"
  }
 },
 "nbformat": 4,
 "nbformat_minor": 2
}
