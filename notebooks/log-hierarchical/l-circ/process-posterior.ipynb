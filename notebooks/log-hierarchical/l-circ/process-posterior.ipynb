{
 "cells": [
  {
   "cell_type": "code",
   "execution_count": 1,
   "metadata": {},
   "outputs": [],
   "source": [
    "import os\n",
    "import pickle\n",
    "\n",
    "import pandas as pd\n",
    "from pandas.testing import assert_frame_equal\n",
    "import numpy as np\n",
    "import numpy.ma as ma\n",
    "import matplotlib.pyplot as plt\n",
    "import seaborn as sns\n",
    "from scipy import stats\n",
    "\n",
    "from hbmep.config import Config\n",
    "from hbmep.model.utils import Site as site\n",
    "\n",
    "from models import HB\n",
    "from constants import (\n",
    "    TOML_PATH,\n",
    "    DATA_PATH,\n",
    "    BUILD_DIR,\n",
    "    INFERENCE_FILE\n",
    ")\n"
   ]
  },
  {
   "cell_type": "code",
   "execution_count": 2,
   "metadata": {},
   "outputs": [
    {
     "name": "stderr",
     "output_type": "stream",
     "text": [
      "An NVIDIA GPU may be present on this machine, but a CUDA-enabled jaxlib is not installed. Falling back to cpu.\n"
     ]
    }
   ],
   "source": [
    "DIR = \"/home/vishu/repos/rat-mapping-paper/reports/log-hierarchical/L_CIRC/hb__4000W_4000S_4C_4T_20D_0.95A_mixtureTrue\"\n",
    "\n",
    "d = {}\n",
    "df = None\n",
    "for response_ind in range(6):\n",
    "    src = os.path.join(DIR, f\"response_{response_ind}\", INFERENCE_FILE)\n",
    "    with open(src, \"rb\") as f:\n",
    "        df_current, encoder_dict, model, posterior_samples_current, = pickle.load(f)\n",
    "\n",
    "    if df is None:\n",
    "        df = df_current.copy()\n",
    "        posterior_samples = {u: v for u, v in posterior_samples_current.items() if v.ndim > 1}\n",
    "\n",
    "    else:\n",
    "        assert_frame_equal(df, df_current)\n",
    "        for u in posterior_samples.keys():\n",
    "            posterior_samples[u] = np.concatenate([posterior_samples[u], posterior_samples_current[u]], axis=-1)\n"
   ]
  },
  {
   "cell_type": "code",
   "execution_count": 3,
   "metadata": {},
   "outputs": [
    {
     "name": "stdout",
     "output_type": "stream",
     "text": [
      "H (4000, 8, 21, 6)\n",
      "H_raw (4000, 8, 21, 6)\n",
      "L (4000, 8, 21, 6)\n",
      "L_raw (4000, 8, 21, 6)\n",
      "a (4000, 8, 21, 6)\n",
      "a_raw (4000, 8, 21, 6)\n",
      "b (4000, 8, 21, 6)\n",
      "b_raw (4000, 8, 21, 6)\n",
      "c_1_raw (4000, 8, 21, 6)\n",
      "c_2_raw (4000, 8, 21, 6)\n",
      "c₁ (4000, 8, 21, 6)\n",
      "c₂ (4000, 8, 21, 6)\n",
      "ell_raw (4000, 8, 21, 6)\n",
      "µ (4000, 8946, 6)\n",
      "α (4000, 8946, 6)\n",
      "β (4000, 8946, 6)\n",
      "ℓ (4000, 8, 21, 6)\n"
     ]
    }
   ],
   "source": [
    "for u, v in posterior_samples.items():\n",
    "    print(u, v.shape)\n"
   ]
  },
  {
   "cell_type": "code",
   "execution_count": 4,
   "metadata": {},
   "outputs": [],
   "source": [
    "src = DATA_PATH\n",
    "data = pd.read_csv(src)\n",
    "\n",
    "config = Config(toml_path=TOML_PATH)\n",
    "model = HB(config=config)\n",
    "model.build_dir = DIR\n",
    "\n",
    "# Run inference\n",
    "ind = data[model.intensity] > 0\n",
    "data = data[ind].reset_index(drop=True).copy()\n",
    "data, encoder_dict = model.load(df=data)\n",
    "data[model.intensity] = np.log(data[model.intensity])\n",
    "assert_frame_equal(data, df)\n"
   ]
  },
  {
   "cell_type": "code",
   "execution_count": 5,
   "metadata": {},
   "outputs": [
    {
     "name": "stdout",
     "output_type": "stream",
     "text": [
      "Saved to /home/vishu/repos/rat-mapping-paper/reports/log-hierarchical/L_CIRC/hb__4000W_4000S_4C_4T_20D_0.95A_mixtureTrue/inference.pkl\n",
      "Saved to /home/vishu/repos/rat-mapping-paper/reports/log-hierarchical/L_CIRC/hb__4000W_4000S_4C_4T_20D_0.95A_mixtureTrue/model.pkl\n"
     ]
    }
   ],
   "source": [
    "dest = os.path.join(model.build_dir, INFERENCE_FILE)\n",
    "with open(dest, \"wb\") as f:\n",
    "    pickle.dump((data, encoder_dict, model.__dict__, posterior_samples,), f)\n",
    "\n",
    "print(f\"Saved to {dest}\")\n",
    "\n",
    "dest = os.path.join(model.build_dir, \"model.pkl\")\n",
    "with open(dest, \"wb\") as f:\n",
    "    pickle.dump((model,), f)\n",
    "\n",
    "print(f\"Saved to {dest}\")\n"
   ]
  },
  {
   "cell_type": "code",
   "execution_count": null,
   "metadata": {},
   "outputs": [],
   "source": []
  }
 ],
 "metadata": {
  "kernelspec": {
   "display_name": "Python 3 (ipykernel)",
   "language": "python",
   "name": "python3"
  },
  "language_info": {
   "codemirror_mode": {
    "name": "ipython",
    "version": 3
   },
   "file_extension": ".py",
   "mimetype": "text/x-python",
   "name": "python",
   "nbconvert_exporter": "python",
   "pygments_lexer": "ipython3",
   "version": "3.11.9"
  }
 },
 "nbformat": 4,
 "nbformat_minor": 2
}
