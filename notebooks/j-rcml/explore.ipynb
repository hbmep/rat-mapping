{
 "cells": [
  {
   "cell_type": "code",
   "execution_count": 1,
   "metadata": {},
   "outputs": [],
   "source": [
    "import os\n",
    "\n",
    "import pandas as pd\n",
    "import numpy as np\n",
    "\n"
   ]
  },
  {
   "cell_type": "code",
   "execution_count": 2,
   "metadata": {},
   "outputs": [],
   "source": [
    "from constants import (\n",
    "    DATA_PATH\n",
    ")\n"
   ]
  },
  {
   "cell_type": "code",
   "execution_count": 3,
   "metadata": {},
   "outputs": [],
   "source": [
    "df = pd.read_csv(DATA_PATH)\n"
   ]
  },
  {
   "cell_type": "code",
   "execution_count": 5,
   "metadata": {},
   "outputs": [
    {
     "data": {
      "text/plain": [
       "array(['C5M-C5L', 'C5M-C6L', 'C7L-C8L', '-C5M', 'C7M-C8L', 'C8M-C8L',\n",
       "       '-C8M', '-C6L', '-C7M', '-C8L', 'C7M-C8M', 'C5L-C6L', '-C5L',\n",
       "       'C6L-C7L', '-C7L', 'C7M-C7L', 'C6M-C7M', 'C5M-C6M', '-C6M',\n",
       "       'C6M-C7L', 'C6M-C6L'], dtype=object)"
      ]
     },
     "execution_count": 5,
     "metadata": {},
     "output_type": "execute_result"
    }
   ],
   "source": [
    "df.compound_position.unique()\n"
   ]
  },
  {
   "cell_type": "code",
   "execution_count": 7,
   "metadata": {},
   "outputs": [
    {
     "data": {
      "text/plain": [
       "21"
      ]
     },
     "execution_count": 7,
     "metadata": {},
     "output_type": "execute_result"
    }
   ],
   "source": [
    "compound_positions = df.compound_position.unique().tolist()\n",
    "len(compound_positions)\n"
   ]
  },
  {
   "cell_type": "code",
   "execution_count": 20,
   "metadata": {},
   "outputs": [
    {
     "data": {
      "text/plain": [
       "8"
      ]
     },
     "execution_count": 20,
     "metadata": {},
     "output_type": "execute_result"
    }
   ],
   "source": [
    "filtered_compound_positions = []\n",
    "\n",
    "for cpos in compound_positions:\n",
    "    l, r = cpos.split('-')\n",
    "    assert r != \"\"\n",
    "    if l == \"\":\n",
    "        filtered_compound_positions.append(cpos)\n",
    "\n",
    "len(filtered_compound_positions)\n"
   ]
  },
  {
   "cell_type": "code",
   "execution_count": 21,
   "metadata": {},
   "outputs": [
    {
     "data": {
      "text/plain": [
       "(3007, 44)"
      ]
     },
     "execution_count": 21,
     "metadata": {},
     "output_type": "execute_result"
    }
   ],
   "source": [
    "ind = df.compound_position.isin(filtered_compound_positions)\n",
    "df = df[ind].reset_index(drop=True).copy()\n",
    "\n",
    "df.shape\n"
   ]
  },
  {
   "cell_type": "code",
   "execution_count": 27,
   "metadata": {},
   "outputs": [],
   "source": [
    "df[\"segment\"] = df.channel2_segment\n",
    "df[\"laterality\"] = df.channel2_laterality\n"
   ]
  },
  {
   "cell_type": "code",
   "execution_count": 31,
   "metadata": {},
   "outputs": [
    {
     "data": {
      "text/plain": [
       "60"
      ]
     },
     "execution_count": 31,
     "metadata": {},
     "output_type": "execute_result"
    }
   ],
   "source": [
    "combinations = df[[\"participant\", \"segment\", \"laterality\"]].apply(tuple, axis=1).unique().tolist()\n",
    "len(combinations)\n"
   ]
  },
  {
   "cell_type": "code",
   "execution_count": 35,
   "metadata": {},
   "outputs": [
    {
     "data": {
      "text/plain": [
       "28"
      ]
     },
     "execution_count": 35,
     "metadata": {},
     "output_type": "execute_result"
    }
   ],
   "source": [
    "filtered_combinations = []\n",
    "\n",
    "for c in combinations:\n",
    "    subject, segment, laterality = c\n",
    "    if (subject, segment, \"L\") in combinations and (subject, segment, \"M\") in combinations:\n",
    "        filtered_combinations.append((subject, segment))\n",
    "\n",
    "filtered_combinations = set(filtered_combinations)\n",
    "filtered_combinations = list(filtered_combinations)\n",
    "len(filtered_combinations)\n"
   ]
  },
  {
   "cell_type": "code",
   "execution_count": 37,
   "metadata": {},
   "outputs": [
    {
     "data": {
      "text/plain": [
       "(2806, 46)"
      ]
     },
     "execution_count": 37,
     "metadata": {},
     "output_type": "execute_result"
    }
   ],
   "source": [
    "ind = df[['participant', 'segment']].apply(tuple, axis=1).isin(filtered_combinations)\n",
    "df = df[ind].reset_index(drop=True).copy()\n",
    "df.shape\n"
   ]
  },
  {
   "cell_type": "code",
   "execution_count": 38,
   "metadata": {},
   "outputs": [
    {
     "data": {
      "text/plain": [
       "[('amap01', 'C5', 'L'),\n",
       " ('amap01', 'C5', 'M'),\n",
       " ('amap01', 'C7', 'L'),\n",
       " ('amap01', 'C7', 'M'),\n",
       " ('amap01', 'C8', 'L'),\n",
       " ('amap01', 'C8', 'M'),\n",
       " ('amap02', 'C5', 'L'),\n",
       " ('amap02', 'C5', 'M'),\n",
       " ('amap02', 'C7', 'L'),\n",
       " ('amap02', 'C7', 'M'),\n",
       " ('amap02', 'C8', 'L'),\n",
       " ('amap02', 'C8', 'M'),\n",
       " ('amap03', 'C7', 'L'),\n",
       " ('amap03', 'C7', 'M'),\n",
       " ('amap03', 'C8', 'L'),\n",
       " ('amap03', 'C8', 'M'),\n",
       " ('amap04', 'C5', 'L'),\n",
       " ('amap04', 'C5', 'M'),\n",
       " ('amap04', 'C6', 'L'),\n",
       " ('amap04', 'C6', 'M'),\n",
       " ('amap04', 'C7', 'L'),\n",
       " ('amap04', 'C7', 'M'),\n",
       " ('amap04', 'C8', 'L'),\n",
       " ('amap04', 'C8', 'M'),\n",
       " ('amap05', 'C5', 'L'),\n",
       " ('amap05', 'C5', 'M'),\n",
       " ('amap05', 'C6', 'L'),\n",
       " ('amap05', 'C6', 'M'),\n",
       " ('amap05', 'C7', 'L'),\n",
       " ('amap05', 'C7', 'M'),\n",
       " ('amap05', 'C8', 'L'),\n",
       " ('amap05', 'C8', 'M'),\n",
       " ('amap06', 'C5', 'L'),\n",
       " ('amap06', 'C5', 'M'),\n",
       " ('amap06', 'C6', 'L'),\n",
       " ('amap06', 'C6', 'M'),\n",
       " ('amap06', 'C7', 'L'),\n",
       " ('amap06', 'C7', 'M'),\n",
       " ('amap06', 'C8', 'L'),\n",
       " ('amap06', 'C8', 'M'),\n",
       " ('amap07', 'C5', 'L'),\n",
       " ('amap07', 'C5', 'M'),\n",
       " ('amap07', 'C6', 'L'),\n",
       " ('amap07', 'C6', 'M'),\n",
       " ('amap07', 'C7', 'L'),\n",
       " ('amap07', 'C7', 'M'),\n",
       " ('amap07', 'C8', 'L'),\n",
       " ('amap07', 'C8', 'M'),\n",
       " ('amap08', 'C5', 'L'),\n",
       " ('amap08', 'C5', 'M'),\n",
       " ('amap08', 'C6', 'L'),\n",
       " ('amap08', 'C6', 'M'),\n",
       " ('amap08', 'C7', 'L'),\n",
       " ('amap08', 'C7', 'M'),\n",
       " ('amap08', 'C8', 'L'),\n",
       " ('amap08', 'C8', 'M')]"
      ]
     },
     "execution_count": 38,
     "metadata": {},
     "output_type": "execute_result"
    }
   ],
   "source": [
    "sorted(df[[\"participant\", \"segment\", \"laterality\"]].apply(tuple, axis=1).unique().tolist())\n"
   ]
  }
 ],
 "metadata": {
  "kernelspec": {
   "display_name": "Python 3 (ipykernel)",
   "language": "python",
   "name": "python3"
  },
  "language_info": {
   "codemirror_mode": {
    "name": "ipython",
    "version": 3
   },
   "file_extension": ".py",
   "mimetype": "text/x-python",
   "name": "python",
   "nbconvert_exporter": "python",
   "pygments_lexer": "ipython3",
   "version": "3.11.9"
  }
 },
 "nbformat": 4,
 "nbformat_minor": 2
}
