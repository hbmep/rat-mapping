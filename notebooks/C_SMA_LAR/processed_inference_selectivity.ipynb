{
 "cells": [
  {
   "cell_type": "code",
   "execution_count": 1,
   "metadata": {},
   "outputs": [],
   "source": [
    "import os\n",
    "import pickle\n",
    "\n",
    "import numpy as np\n",
    "import numpy.ma as ma\n",
    "\n",
    "from hbmep.nn import functional as F\n",
    "from hbmep.model.utils import Site as site\n",
    "\n",
    "from models import (\n",
    "    NonHierarchicalBayesianModel\n",
    ")\n",
    "\n",
    "USER = os.environ[\"USER\"]\n"
   ]
  },
  {
   "cell_type": "code",
   "execution_count": 2,
   "metadata": {},
   "outputs": [
    {
     "name": "stderr",
     "output_type": "stream",
     "text": [
      "An NVIDIA GPU may be present on this machine, but a CUDA-enabled jaxlib is not installed. Falling back to cpu.\n"
     ]
    }
   ],
   "source": [
    "src = f\"/home/{USER}/repos/rat-mapping-paper/reports/non-hierarchical/C_SMA_LAR/non_hierarchical_bayesian_model/processed_inference.pkl\"\n",
    "with open(src, \"rb\") as f:\n",
    "    (\n",
    "        df,\n",
    "        encoder_dict,\n",
    "        model,\n",
    "        posterior_samples,\n",
    "        y,\n",
    "        subjects,\n",
    "        compound_positions,\n",
    "        compound_size,\n",
    "    ) = pickle.load(f)\n"
   ]
  },
  {
   "cell_type": "code",
   "execution_count": 3,
   "metadata": {},
   "outputs": [
    {
     "data": {
      "text/plain": [
       "403"
      ]
     },
     "execution_count": 3,
     "metadata": {},
     "output_type": "execute_result"
    }
   ],
   "source": [
    "combinations = df[model.features].apply(tuple, axis=1).unique()\n",
    "combinations = sorted(combinations)\n",
    "len(combinations)\n"
   ]
  },
  {
   "cell_type": "code",
   "execution_count": 4,
   "metadata": {},
   "outputs": [
    {
     "data": {
      "text/plain": [
       "array([('C5', 'C5'), (nan, 'C5'), ('C6', 'C6'), ('C5', 'C6'), (nan, 'C6'),\n",
       "       ('C7', 'C7'), (nan, 'C7')], dtype=object)"
      ]
     },
     "execution_count": 4,
     "metadata": {},
     "output_type": "execute_result"
    }
   ],
   "source": [
    "df[[\"channel1_segment\", \"channel2_segment\"]].apply(tuple, axis=1).unique()\n"
   ]
  },
  {
   "cell_type": "code",
   "execution_count": 5,
   "metadata": {},
   "outputs": [
    {
     "data": {
      "text/plain": [
       "array([('M', 'LL'), (nan, 'LL'), ('M', 'LM'), (nan, 'M'), (nan, 'LM'),\n",
       "       (nan, 'L'), ('M', 'L'), ('LM', 'RR'), (nan, 'LM2'), ('RM', 'RR'),\n",
       "       ('M', 'RM'), ('LM1', 'L'), ('RM', 'R'), ('LM2', 'L'), ('LM', 'RM'),\n",
       "       ('LM1', 'LL'), (nan, 'R'), (nan, 'LM1'), ('LM2', 'LL'),\n",
       "       (nan, 'RR'), ('LM', 'M'), ('LM2', 'LM1'), ('LM2', 'M'),\n",
       "       ('M', 'RR'), ('R', 'RR'), ('M', 'R'), ('L', 'LL'), (nan, 'RM'),\n",
       "       ('LM', 'R'), ('LL', 'L'), ('M', 'LM2'), ('M', 'LM1'), ('LM', 'LL'),\n",
       "       ('LM', 'L')], dtype=object)"
      ]
     },
     "execution_count": 5,
     "metadata": {},
     "output_type": "execute_result"
    }
   ],
   "source": [
    "df[[\"channel1_designation\", \"channel2_designation\"]].apply(tuple, axis=1).unique()\n"
   ]
  },
  {
   "cell_type": "code",
   "execution_count": 6,
   "metadata": {},
   "outputs": [
    {
     "data": {
      "text/plain": [
       "(8, 2, 3, 6, 2, 400, 6, 1000)"
      ]
     },
     "execution_count": 6,
     "metadata": {},
     "output_type": "execute_result"
    }
   ],
   "source": [
    "contacts = [\"mono\", \"bi\"]   # Monopolar and bipolar\n",
    "positions = [\"C5\", \"C6\", \"C7\"]  # left and right positions are the same\n",
    "left_degrees = [\"LL\", \"L\", \"LM\", \"LM1\", \"LM2\", \"M\"]  # Right degree equals M incase of bipolar\n",
    "size = compound_size[:-1]   # Keeps only B and S\n",
    "\n",
    "arr = []\n",
    "for subject_ind, subject in enumerate(subjects):\n",
    "    for contact_ind, contact in enumerate(contacts):\n",
    "        for position_ind, position in enumerate(positions):\n",
    "            for left_degree_ind, left_degree in enumerate(left_degrees):\n",
    "                for size_ind, size_ in enumerate(size):\n",
    "                    if contact == \"mono\": cpos = f\"-{position}{left_degree}\"\n",
    "                    else: cpos = f\"{position}M-{position}{left_degree}\"\n",
    "\n",
    "                    combination = (subject, cpos, size)\n",
    "                    if combination in combinations:\n",
    "                        cpos_ind = [i for i, x in enumerate(compound_positions) if x == cpos]\n",
    "                        print(cpos, cpos_ind)\n",
    "                        assert len(cpos_ind) == 1\n",
    "                        cpos_ind = cpos_ind[0]\n",
    "                        # Append the response for this combination of shape\n",
    "                        # (n_samples, n_response, n_time) = (400, 6, 1000)\n",
    "                        assert np.isnan(y[:, subject_ind, cpos_ind, size_ind, ...]).sum() == 0\n",
    "                        arr.append(y[:, subject_ind, cpos_ind, size_ind, ...])\n",
    "\n",
    "                    else:\n",
    "                        # np.nan will work as mask\n",
    "                        arr.append(np.full((400, 6, 1000), np.nan))\n",
    "\n",
    "arr = np.array(arr)\n",
    "arr = arr.reshape(len(subjects), len(contacts), len(positions), len(left_degrees), len(size), *arr.shape[1:])\n",
    "arr.shape"
   ]
  },
  {
   "cell_type": "code",
   "execution_count": 8,
   "metadata": {},
   "outputs": [
    {
     "data": {
      "text/plain": [
       "(8, 2, 3, 6, 2, 400, 6, 1000)"
      ]
     },
     "execution_count": 8,
     "metadata": {},
     "output_type": "execute_result"
    }
   ],
   "source": [
    "arr = ma.masked_invalid(arr)\n",
    "arr.shape\n"
   ]
  },
  {
   "cell_type": "code",
   "execution_count": 9,
   "metadata": {},
   "outputs": [
    {
     "data": {
      "text/plain": [
       "(1000,)"
      ]
     },
     "execution_count": 9,
     "metadata": {},
     "output_type": "execute_result"
    }
   ],
   "source": [
    "x = np.arange(0, 500, .5)\n",
    "x.shape\n"
   ]
  },
  {
   "cell_type": "code",
   "execution_count": 11,
   "metadata": {},
   "outputs": [],
   "source": [
    "dest = os.path.join(model.build_dir, \"processed_inference_selectivity.pkl\")\n",
    "with open(dest, \"wb\") as f:\n",
    "    pickle.dump(\n",
    "        (\n",
    "            df,\n",
    "            encoder_dict,\n",
    "            model,\n",
    "            posterior_samples,\n",
    "            arr,\n",
    "            subjects,\n",
    "            contacts,\n",
    "            positions,\n",
    "            left_degrees,\n",
    "            size,\n",
    "            x\n",
    "        ),\n",
    "        f\n",
    "    )\n"
   ]
  },
  {
   "cell_type": "code",
   "execution_count": 12,
   "metadata": {},
   "outputs": [],
   "source": [
    "src = f\"/home/{USER}/repos/rat-mapping-paper/reports/non-hierarchical/C_SMA_LAR/non_hierarchical_bayesian_model/processed_inference_selectivity.pkl\"\n",
    "with open(src, \"rb\") as f:\n",
    "    (\n",
    "        df,\n",
    "        encoder_dict,\n",
    "        model,\n",
    "        posterior_samples,\n",
    "        arr,\n",
    "        subjects,\n",
    "        contacts,\n",
    "        positions,\n",
    "        left_degrees,\n",
    "        size,\n",
    "        x,\n",
    "    ) = pickle.load(f)\n"
   ]
  }
 ],
 "metadata": {
  "kernelspec": {
   "display_name": "Python 3 (ipykernel)",
   "language": "python",
   "name": "python3"
  },
  "language_info": {
   "codemirror_mode": {
    "name": "ipython",
    "version": 3
   },
   "file_extension": ".py",
   "mimetype": "text/x-python",
   "name": "python",
   "nbconvert_exporter": "python",
   "pygments_lexer": "ipython3",
   "version": "3.11.9"
  }
 },
 "nbformat": 4,
 "nbformat_minor": 2
}
