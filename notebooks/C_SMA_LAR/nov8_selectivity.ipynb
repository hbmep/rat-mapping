{
 "cells": [
  {
   "cell_type": "code",
   "execution_count": 1,
   "metadata": {},
   "outputs": [],
   "source": [
    "import os\n",
    "import pickle\n",
    "import models\n",
    "\n",
    "import numpy as np\n",
    "import numpy.ma as ma\n",
    "import matplotlib.pyplot as plt\n",
    "import seaborn as sns\n",
    "from numpyro.diagnostics import hpdi\n",
    "\n",
    "from hbmep.nn import functional as F\n",
    "from hbmep.model.utils import Site as site\n",
    "\n",
    "from hbmep.config import Config\n",
    "from hbmep.model.utils import Site as site\n",
    "from scipy import stats\n",
    "\n",
    "from models import NonHierarchicalBayesianModel\n",
    "\n",
    "USER = os.environ[\"USER\"]\n",
    "\n",
    "MAX_THRESHOLD_CONST = 3.17 #CONSTANT WILL BE mean of rats for stim max / threshold for EVERY possible combination... ma.mean(ma.median((stim_max/ma.mean(a, axis=0)),axis = (1,2,3)),axis =0)\n",
    "NUM_THRESHOLD_POINTS = 500\n",
    "\n",
    "# NORMALIZATION WILL BE ACROSS ELECTRODE\n"
   ]
  },
  {
   "cell_type": "code",
   "execution_count": 2,
   "metadata": {},
   "outputs": [
    {
     "name": "stderr",
     "output_type": "stream",
     "text": [
      "An NVIDIA GPU may be present on this machine, but a CUDA-enabled jaxlib is not installed. Falling back to cpu.\n"
     ]
    }
   ],
   "source": [
    "src = f\"/home/andres/repos/rat-mapping-paper/reports/C_SMA_LAR/non_hierarchical_bayesian_model/inference.pkl\"\n",
    "with open(src, \"rb\") as f:\n",
    "    (\n",
    "        df,\n",
    "        encoder_dict,\n",
    "        model,\n",
    "        posterior_samples,\n",
    "    ) = pickle.load(f)\n"
   ]
  },
  {
   "cell_type": "code",
   "execution_count": 3,
   "metadata": {},
   "outputs": [
    {
     "name": "stdout",
     "output_type": "stream",
     "text": [
      "a (400, 8, 70, 3, 6)\n",
      "b (400, 8, 70, 3, 6)\n",
      "L (400, 8, 70, 3, 6)\n",
      "ℓ (400, 8, 70, 3, 6)\n",
      "H (400, 8, 70, 3, 6)\n"
     ]
    }
   ],
   "source": [
    "a = posterior_samples[site.a]\n",
    "b = posterior_samples[site.b]\n",
    "L = posterior_samples[site.L]\n",
    "ell = posterior_samples[site.ell]\n",
    "H = posterior_samples[site.H]\n",
    "\n",
    "x = np.linspace(0, 500, 1000)\n",
    "\n",
    "named_params = [site.a, site.b, site.L, site.ell, site.H]\n",
    "params = [posterior_samples[param][:400, ...] for param in named_params]\n",
    "\n",
    "for named_param, param in zip(named_params, params):\n",
    "    \n",
    "    print(named_param, param.shape)"
   ]
  },
  {
   "cell_type": "code",
   "execution_count": 4,
   "metadata": {},
   "outputs": [
    {
     "data": {
      "text/plain": [
       "array(['amap01', 'amap02', 'amap03', 'amap04', 'amap05', 'amap06',\n",
       "       'amap07', 'amap08'], dtype=object)"
      ]
     },
     "execution_count": 4,
     "metadata": {},
     "output_type": "execute_result"
    }
   ],
   "source": [
    "subjects = sorted(df['participant'].unique())\n",
    "subjects = encoder_dict['participant'].inverse_transform(subjects)\n",
    "subjects"
   ]
  },
  {
   "cell_type": "code",
   "execution_count": 36,
   "metadata": {},
   "outputs": [
    {
     "data": {
      "text/plain": [
       "array(['-C5L', '-C5LL', '-C5LM', '-C5LM1', '-C5LM2', '-C5M', '-C6L',\n",
       "       '-C6LL', '-C6LM', '-C6LM1', '-C6LM2', '-C6M', '-C6R', '-C6RM',\n",
       "       '-C6RR', '-C7LM', '-C7M', '-C7R', '-C7RM', '-C7RR', 'C5L-C5LL',\n",
       "       'C5LM1-C5L', 'C5LM1-C5LL', 'C5LM2-C5L', 'C5LM2-C5LL',\n",
       "       'C5LM2-C5LM1', 'C5LM2-C5M', 'C5LM2-C6L', 'C5LM2-C6LL', 'C5M-C5L',\n",
       "       'C5M-C5LL', 'C5M-C5LM', 'C5M-C5LM1', 'C5M-C5LM2', 'C5M-C6L',\n",
       "       'C5M-C6LL', 'C6L-C6LL', 'C6LL-C6L', 'C6LM-C6L', 'C6LM-C6LL',\n",
       "       'C6LM-C6M', 'C6LM-C6R', 'C6LM-C6RM', 'C6LM-C6RR', 'C6LM1-C6L',\n",
       "       'C6LM1-C6LL', 'C6LM2-C6L', 'C6LM2-C6LL', 'C6LM2-C6LM1', 'C6M-C6L',\n",
       "       'C6M-C6LL', 'C6M-C6LM', 'C6M-C6LM1', 'C6M-C6LM2', 'C6M-C6R',\n",
       "       'C6M-C6RM', 'C6M-C6RR', 'C6R-C6RR', 'C6RM-C6R', 'C6RM-C6RR',\n",
       "       'C7LM-C7M', 'C7LM-C7R', 'C7LM-C7RM', 'C7LM-C7RR', 'C7M-C7R',\n",
       "       'C7M-C7RM', 'C7M-C7RR', 'C7R-C7RR', 'C7RM-C7R', 'C7RM-C7RR'],\n",
       "      dtype=object)"
      ]
     },
     "execution_count": 36,
     "metadata": {},
     "output_type": "execute_result"
    }
   ],
   "source": [
    "positions = sorted(df['compound_position'].unique())\n",
    "positions = encoder_dict['compound_position'].inverse_transform(positions)\n",
    "positions\n"
   ]
  },
  {
   "cell_type": "code",
   "execution_count": 46,
   "metadata": {},
   "outputs": [],
   "source": [
    "pos_inv = encoder_dict['compound_position'].transform(positions)\n",
    "p1 = pos_inv[:6]\n",
    "p2 = pos_inv[6:12]\n",
    "keys = [p1, p2]\n"
   ]
  },
  {
   "cell_type": "code",
   "execution_count": 53,
   "metadata": {},
   "outputs": [],
   "source": [
    "def get_normalized_input_output(size_ind):\n",
    "    norm_y = []\n",
    "    norm_x = []\n",
    "\n",
    "    for subject_ind, subject in enumerate(subjects):\n",
    "        for k in keys:\n",
    "            # Fix the subject index and size index\n",
    "            curr_params = [\n",
    "                params[:, subject_ind, k, size_ind, :, None] for params in params\n",
    "            ]\n",
    "\n",
    "            # Take nanmean across posterior samples\n",
    "            temp = np.nanmean(curr_params[0], axis=0)\n",
    "            # Take nanmedian across compound positions and muscles\n",
    "            median_threshold = np.nanmedian(temp)\n",
    "\n",
    "            x_temp = np.linspace(0.,  median_threshold * MAX_THRESHOLD_CONST, NUM_THRESHOLD_POINTS)\n",
    "            x_temp = x_temp[None, None, None, :]\n",
    "\n",
    "            temp_thresh = F.rectified_logistic(\n",
    "                x_temp, #x_temp\n",
    "                *curr_params\n",
    "            )\n",
    "            # Remove offset\n",
    "            temp_thresh = temp_thresh - curr_params[2]\n",
    "            norm_y.append(temp_thresh)\n",
    "            norm_x.append(x_temp)\n",
    "\n",
    "    norm_x = np.array(norm_x)\n",
    "    norm_x = norm_x.reshape(len(subjects), len(keys), *norm_x.shape[1:])\n",
    "    norm_y = np.array(norm_y)\n",
    "    norm_y = norm_y.reshape(len(subjects), len(keys), *norm_y.shape[1:])\n",
    "    norm_y = ma.masked_invalid(norm_y)\n",
    "    return norm_x, norm_y\n"
   ]
  },
  {
   "cell_type": "code",
   "execution_count": 54,
   "metadata": {},
   "outputs": [
    {
     "name": "stderr",
     "output_type": "stream",
     "text": [
      "/tmp/ipykernel_70526/1608856260.py:13: RuntimeWarning: Mean of empty slice\n",
      "  temp = np.nanmean(curr_params[0], axis=0)\n",
      "/home/andres/repos/rat-mapping-paper/.venv/lib/python3.11/site-packages/numpy/lib/nanfunctions.py:1217: RuntimeWarning: All-NaN slice encountered\n",
      "  return function_base._ureduce(a, func=_nanmedian, keepdims=keepdims,\n"
     ]
    }
   ],
   "source": [
    "x, y = get_normalized_input_output(1)"
   ]
  },
  {
   "cell_type": "code",
   "execution_count": 56,
   "metadata": {},
   "outputs": [
    {
     "data": {
      "text/plain": [
       "(8, 2, 400, 6, 6, 500)"
      ]
     },
     "execution_count": 56,
     "metadata": {},
     "output_type": "execute_result"
    }
   ],
   "source": [
    "y.shape"
   ]
  },
  {
   "cell_type": "code",
   "execution_count": null,
   "metadata": {},
   "outputs": [
    {
     "data": {
      "text/plain": [
       "19200"
      ]
     },
     "execution_count": 14,
     "metadata": {},
     "output_type": "execute_result"
    }
   ],
   "source": [
    "y.mask.any(axis=(2, -1)).sum()\n"
   ]
  },
  {
   "cell_type": "code",
   "execution_count": 65,
   "metadata": {},
   "outputs": [],
   "source": [
    "# Take the maximum curve value across positions and intensity values\n",
    "num_masked = y.mask.any(axis=(1, 3, -1)).sum()\n",
    "y_max = ma.max(y, axis=(1, 3, -1), keepdims=True)\n"
   ]
  },
  {
   "cell_type": "code",
   "execution_count": 66,
   "metadata": {},
   "outputs": [
    {
     "data": {
      "text/plain": [
       "19200"
      ]
     },
     "execution_count": 66,
     "metadata": {},
     "output_type": "execute_result"
    }
   ],
   "source": [
    "num_masked"
   ]
  },
  {
   "cell_type": "code",
   "execution_count": 67,
   "metadata": {},
   "outputs": [],
   "source": [
    "# Normalize using the maximum value\n",
    "num_masked = y.mask.sum()\n",
    "y = ma.where(y_max, y / y_max, 0.)\n"
   ]
  },
  {
   "cell_type": "code",
   "execution_count": 193,
   "metadata": {},
   "outputs": [
    {
     "data": {
      "text/plain": [
       "19131000"
      ]
     },
     "execution_count": 193,
     "metadata": {},
     "output_type": "execute_result"
    }
   ],
   "source": [
    "y[:,:,:,2,...].mask.sum()"
   ]
  },
  {
   "cell_type": "code",
   "execution_count": 199,
   "metadata": {},
   "outputs": [
    {
     "data": {
      "text/plain": [
       "(8, 2, 400, 6, 6, 500)"
      ]
     },
     "execution_count": 199,
     "metadata": {},
     "output_type": "execute_result"
    }
   ],
   "source": [
    "y.shape"
   ]
  },
  {
   "cell_type": "code",
   "execution_count": 194,
   "metadata": {},
   "outputs": [],
   "source": [
    "p = ma.sum(y, axis=-2, keepdims=True)\n",
    "\n",
    "num_masked = y.mask.sum()\n",
    "p = ma.where(p, y / p, 1 / y.shape[-2])\n",
    "\n"
   ]
  },
  {
   "cell_type": "code",
   "execution_count": 195,
   "metadata": {},
   "outputs": [],
   "source": [
    "num_masked = p.mask.sum()\n",
    "plogp = ma.where(p, p * ma.log(p), 0.)"
   ]
  },
  {
   "cell_type": "code",
   "execution_count": 198,
   "metadata": {},
   "outputs": [
    {
     "data": {
      "text/plain": [
       "18786000"
      ]
     },
     "execution_count": 198,
     "metadata": {},
     "output_type": "execute_result"
    }
   ],
   "source": [
    "plogp[:,:,:,2,...].mask.sum()"
   ]
  },
  {
   "cell_type": "code",
   "execution_count": 101,
   "metadata": {},
   "outputs": [
    {
     "data": {
      "text/plain": [
       "(8, 2, 400, 6, 500)"
      ]
     },
     "execution_count": 101,
     "metadata": {},
     "output_type": "execute_result"
    }
   ],
   "source": [
    "entropy = 1 + (plogp.sum(axis=-2) / ma.log(y.shape[-2]))\n",
    "entropy.shape"
   ]
  },
  {
   "cell_type": "code",
   "execution_count": 182,
   "metadata": {},
   "outputs": [
    {
     "data": {
      "text/plain": [
       "3131000"
      ]
     },
     "execution_count": 182,
     "metadata": {},
     "output_type": "execute_result"
    }
   ],
   "source": [
    "entropy[:,:,:,2,...].mask.sum()"
   ]
  },
  {
   "cell_type": "code",
   "execution_count": 188,
   "metadata": {},
   "outputs": [
    {
     "data": {
      "text/plain": [
       "(8, 2, 400, 6)"
      ]
     },
     "execution_count": 188,
     "metadata": {},
     "output_type": "execute_result"
    }
   ],
   "source": [
    "auc = np.trapz(y=entropy[...], x=np.linspace(0, MAX_THRESHOLD_CONST, NUM_THRESHOLD_POINTS), axis=-1)\n",
    "auc.shape\n"
   ]
  },
  {
   "cell_type": "code",
   "execution_count": 189,
   "metadata": {},
   "outputs": [
    {
     "data": {
      "text/plain": [
       "6262"
      ]
     },
     "execution_count": 189,
     "metadata": {},
     "output_type": "execute_result"
    }
   ],
   "source": [
    "auc[:,:,:,2].mask.sum()"
   ]
  },
  {
   "cell_type": "code",
   "execution_count": null,
   "metadata": {},
   "outputs": [
    {
     "data": {
      "text/plain": [
       "(8, 2, 6)"
      ]
     },
     "execution_count": 190,
     "metadata": {},
     "output_type": "execute_result"
    }
   ],
   "source": [
    "auc = auc.mean(axis=(2))\n",
    "auc.shape"
   ]
  },
  {
   "cell_type": "code",
   "execution_count": 192,
   "metadata": {},
   "outputs": [
    {
     "data": {
      "text/plain": [
       "13"
      ]
     },
     "execution_count": 192,
     "metadata": {},
     "output_type": "execute_result"
    }
   ],
   "source": [
    "auc[:,:,2].mask.sum()"
   ]
  },
  {
   "cell_type": "code",
   "execution_count": null,
   "metadata": {},
   "outputs": [
    {
     "data": {
      "text/plain": [
       "masked"
      ]
     },
     "execution_count": 131,
     "metadata": {},
     "output_type": "execute_result"
    }
   ],
   "source": [
    "auc[0,0,2]"
   ]
  },
  {
   "cell_type": "code",
   "execution_count": 133,
   "metadata": {},
   "outputs": [
    {
     "data": {
      "text/plain": [
       "(8, 2, 6, 6)"
      ]
     },
     "execution_count": 133,
     "metadata": {},
     "output_type": "execute_result"
    }
   ],
   "source": [
    "mat = auc[:, :, :, None] - auc[:, :, None, :]\n",
    "mat.shape\n"
   ]
  },
  {
   "cell_type": "code",
   "execution_count": 134,
   "metadata": {},
   "outputs": [
    {
     "data": {
      "text/plain": [
       "masked_array(data=[--, --, --, --, --, --],\n",
       "             mask=[ True,  True,  True,  True,  True,  True],\n",
       "       fill_value=1e+20,\n",
       "            dtype=float64)"
      ]
     },
     "execution_count": 134,
     "metadata": {},
     "output_type": "execute_result"
    }
   ],
   "source": [
    "mat[0,0,2,:]"
   ]
  },
  {
   "cell_type": "code",
   "execution_count": 135,
   "metadata": {},
   "outputs": [
    {
     "data": {
      "text/plain": [
       "(8, 6, 6)"
      ]
     },
     "execution_count": 135,
     "metadata": {},
     "output_type": "execute_result"
    }
   ],
   "source": [
    "mat = mat.mean(axis=1)\n",
    "mat.shape\n"
   ]
  },
  {
   "cell_type": "code",
   "execution_count": null,
   "metadata": {},
   "outputs": [
    {
     "data": {
      "text/plain": [
       "masked_array(data=[-1.3820746204751568, -1.861182538137384, 0.0,\n",
       "                   -1.1925391937388023, -1.1310792180251883,\n",
       "                   -1.1010514293731863],\n",
       "             mask=[False, False, False, False, False, False],\n",
       "       fill_value=1e+20)"
      ]
     },
     "execution_count": 161,
     "metadata": {},
     "output_type": "execute_result"
    }
   ],
   "source": [
    "mat[,2,:]"
   ]
  },
  {
   "cell_type": "code",
   "execution_count": 128,
   "metadata": {},
   "outputs": [
    {
     "data": {
      "text/plain": [
       "(6, 6)"
      ]
     },
     "execution_count": 128,
     "metadata": {},
     "output_type": "execute_result"
    }
   ],
   "source": [
    "test = stats.ttest_1samp(mat, popmean=0, axis=0)\n",
    "pvalues = test.pvalue\n",
    "pvalues.shape\n"
   ]
  },
  {
   "cell_type": "code",
   "execution_count": 145,
   "metadata": {},
   "outputs": [
    {
     "data": {
      "text/plain": [
       "array([0.05857296, 0.07939658,        nan, 0.08758373, 0.15916042,\n",
       "       0.08381142])"
      ]
     },
     "execution_count": 145,
     "metadata": {},
     "output_type": "execute_result"
    }
   ],
   "source": [
    "pvalues[2,:]"
   ]
  },
  {
   "cell_type": "code",
   "execution_count": 107,
   "metadata": {},
   "outputs": [
    {
     "data": {
      "text/plain": [
       "0.0009915119424026009"
      ]
     },
     "execution_count": 107,
     "metadata": {},
     "output_type": "execute_result"
    }
   ],
   "source": [
    "# verify order in heatmap\n",
    "(auc[:, :, 0] - auc[:, :, 3]).mean()"
   ]
  },
  {
   "cell_type": "code",
   "execution_count": 33,
   "metadata": {},
   "outputs": [
    {
     "data": {
      "text/plain": [
       "array([30,  1, 31,  5,  2,  0, 29, 43, 35,  4, 59, 55,  8, 21, 58, 23,  7,\n",
       "        6, 42, 27, 11, 22, 12,  3, 28, 14, 40, 24, 34, 25, 26, 56, 57, 54,\n",
       "       20, 13, 41, 37, 63, 69, 65, 15, 68, 62, 16, 17, 19, 60, 66, 67, 64,\n",
       "       18, 61, 50, 33, 32, 36, 49, 53, 45, 48, 44, 52, 47, 10, 46,  9, 39,\n",
       "       51, 38])"
      ]
     },
     "execution_count": 33,
     "metadata": {},
     "output_type": "execute_result"
    }
   ],
   "source": [
    "df.compound_position.unique()"
   ]
  },
  {
   "cell_type": "code",
   "execution_count": 82,
   "metadata": {},
   "outputs": [],
   "source": [
    "labels = ['L', 'LL', 'LM', 'LM1', 'LM2', 'M']"
   ]
  },
  {
   "cell_type": "code",
   "execution_count": 129,
   "metadata": {},
   "outputs": [
    {
     "data": {
      "text/plain": [
       "<Axes: >"
      ]
     },
     "execution_count": 129,
     "metadata": {},
     "output_type": "execute_result"
    },
    {
     "data": {
      "image/png": "[encoded data removed]",
      "text/plain": [
       "<Figure size 640x480 with 2 Axes>"
      ]
     },
     "metadata": {},
     "output_type": "display_data"
    }
   ],
   "source": [
    "mask = np.triu(np.ones_like(pvalues), k=1).astype(bool)\n",
    "sns.heatmap(pvalues, xticklabels=labels, yticklabels=labels, mask = mask, annot=False)\n",
    "sns.heatmap(pvalues, xticklabels=labels, yticklabels=labels, mask = mask,annot=np.round(mat.mean(axis=0).data, 3), annot_kws={'va':'top'}, fmt=\"\", cbar=False)\n",
    "sns.heatmap(pvalues, xticklabels=labels, yticklabels=labels, mask = mask,annot=np.round(pvalues, 3), annot_kws={'va':'bottom'}, fmt=\"\", cbar=False)\n"
   ]
  }
 ],
 "metadata": {
  "kernelspec": {
   "display_name": ".venv",
   "language": "python",
   "name": "python3"
  },
  "language_info": {
   "codemirror_mode": {
    "name": "ipython",
    "version": 3
   },
   "file_extension": ".py",
   "mimetype": "text/x-python",
   "name": "python",
   "nbconvert_exporter": "python",
   "pygments_lexer": "ipython3",
   "version": "3.11.9"
  }
 },
 "nbformat": 4,
 "nbformat_minor": 2
}
