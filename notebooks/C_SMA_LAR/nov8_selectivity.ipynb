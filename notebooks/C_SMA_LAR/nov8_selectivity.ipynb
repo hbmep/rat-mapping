{
 "cells": [
  {
   "cell_type": "code",
   "execution_count": 1,
   "metadata": {},
   "outputs": [],
   "source": [
    "import os\n",
    "import pickle\n",
    "import models\n",
    "\n",
    "import numpy as np\n",
    "import numpy.ma as ma\n",
    "import matplotlib.pyplot as plt\n",
    "import seaborn as sns\n",
    "from numpyro.diagnostics import hpdi\n",
    "\n",
    "from hbmep.nn import functional as F\n",
    "from hbmep.model.utils import Site as site\n",
    "\n",
    "from hbmep.config import Config\n",
    "from hbmep.model.utils import Site as site\n",
    "from scipy import stats\n",
    "\n",
    "from models import NonHierarchicalBayesianModel\n",
    "\n",
    "USER = os.environ[\"USER\"]\n",
    "\n",
    "MAX_THRESHOLD_CONST = 2.24#3.17 #CONSTANT WILL BE mean of rats for stim max / threshold for EVERY possible combination... ma.mean(ma.median((stim_max/ma.mean(a, axis=0)),axis = (1,2,3)),axis =0)\n",
    "NUM_THRESHOLD_POINTS = 500\n",
    "\n",
    "# NORMALIZATION WILL BE ACROSS ELECTRODE\n"
   ]
  },
  {
   "cell_type": "code",
   "execution_count": 2,
   "metadata": {},
   "outputs": [
    {
     "name": "stderr",
     "output_type": "stream",
     "text": [
      "An NVIDIA GPU may be present on this machine, but a CUDA-enabled jaxlib is not installed. Falling back to cpu.\n"
     ]
    }
   ],
   "source": [
    "src = f\"/home/andres/repos/rat-mapping-paper/reports/C_SMA_LAR/non_hierarchical_bayesian_model/inference.pkl\"\n",
    "with open(src, \"rb\") as f:\n",
    "    (\n",
    "        df,\n",
    "        encoder_dict,\n",
    "        model,\n",
    "        posterior_samples,\n",
    "    ) = pickle.load(f)\n"
   ]
  },
  {
   "cell_type": "code",
   "execution_count": 3,
   "metadata": {},
   "outputs": [
    {
     "name": "stdout",
     "output_type": "stream",
     "text": [
      "a (4000, 8, 70, 3, 6)\n",
      "b (4000, 8, 70, 3, 6)\n",
      "L (4000, 8, 70, 3, 6)\n",
      "ℓ (4000, 8, 70, 3, 6)\n",
      "H (4000, 8, 70, 3, 6)\n"
     ]
    }
   ],
   "source": [
    "a = posterior_samples[site.a]\n",
    "b = posterior_samples[site.b]\n",
    "L = posterior_samples[site.L]\n",
    "ell = posterior_samples[site.ell]\n",
    "H = posterior_samples[site.H]\n",
    "\n",
    "x = np.linspace(0, 500, 1000)\n",
    "\n",
    "named_params = [site.a, site.b, site.L, site.ell, site.H]\n",
    "params = [posterior_samples[param][ ...] for param in named_params]\n",
    "\n",
    "for named_param, param in zip(named_params, params):\n",
    "    \n",
    "    print(named_param, param.shape)"
   ]
  },
  {
   "cell_type": "code",
   "execution_count": 4,
   "metadata": {},
   "outputs": [
    {
     "data": {
      "text/plain": [
       "array(['amap01', 'amap02', 'amap03', 'amap04', 'amap05', 'amap06',\n",
       "       'amap07', 'amap08'], dtype=object)"
      ]
     },
     "execution_count": 4,
     "metadata": {},
     "output_type": "execute_result"
    }
   ],
   "source": [
    "subjects = sorted(df['participant'].unique())\n",
    "subjects = encoder_dict['participant'].inverse_transform(subjects)\n",
    "subjects"
   ]
  },
  {
   "cell_type": "code",
   "execution_count": 5,
   "metadata": {},
   "outputs": [
    {
     "data": {
      "text/plain": [
       "array(['-C5L', '-C5LL', '-C5LM', '-C5LM1', '-C5LM2', '-C5M', '-C6L',\n",
       "       '-C6LL', '-C6LM', '-C6LM1', '-C6LM2', '-C6M', '-C6R', '-C6RM',\n",
       "       '-C6RR', '-C7LM', '-C7M', '-C7R', '-C7RM', '-C7RR', 'C5L-C5LL',\n",
       "       'C5LM1-C5L', 'C5LM1-C5LL', 'C5LM2-C5L', 'C5LM2-C5LL',\n",
       "       'C5LM2-C5LM1', 'C5LM2-C5M', 'C5LM2-C6L', 'C5LM2-C6LL', 'C5M-C5L',\n",
       "       'C5M-C5LL', 'C5M-C5LM', 'C5M-C5LM1', 'C5M-C5LM2', 'C5M-C6L',\n",
       "       'C5M-C6LL', 'C6L-C6LL', 'C6LL-C6L', 'C6LM-C6L', 'C6LM-C6LL',\n",
       "       'C6LM-C6M', 'C6LM-C6R', 'C6LM-C6RM', 'C6LM-C6RR', 'C6LM1-C6L',\n",
       "       'C6LM1-C6LL', 'C6LM2-C6L', 'C6LM2-C6LL', 'C6LM2-C6LM1', 'C6M-C6L',\n",
       "       'C6M-C6LL', 'C6M-C6LM', 'C6M-C6LM1', 'C6M-C6LM2', 'C6M-C6R',\n",
       "       'C6M-C6RM', 'C6M-C6RR', 'C6R-C6RR', 'C6RM-C6R', 'C6RM-C6RR',\n",
       "       'C7LM-C7M', 'C7LM-C7R', 'C7LM-C7RM', 'C7LM-C7RR', 'C7M-C7R',\n",
       "       'C7M-C7RM', 'C7M-C7RR', 'C7R-C7RR', 'C7RM-C7R', 'C7RM-C7RR'],\n",
       "      dtype=object)"
      ]
     },
     "execution_count": 5,
     "metadata": {},
     "output_type": "execute_result"
    }
   ],
   "source": [
    "positions = sorted(df['compound_position'].unique())\n",
    "positions = encoder_dict['compound_position'].inverse_transform(positions)\n",
    "positions\n"
   ]
  },
  {
   "cell_type": "code",
   "execution_count": 6,
   "metadata": {},
   "outputs": [],
   "source": [
    "sizes = sorted(df['compound_size'].unique())"
   ]
  },
  {
   "cell_type": "code",
   "execution_count": 7,
   "metadata": {},
   "outputs": [],
   "source": [
    "sizes = sizes[:2]"
   ]
  },
  {
   "cell_type": "code",
   "execution_count": 8,
   "metadata": {},
   "outputs": [],
   "source": [
    "muscles = model.response"
   ]
  },
  {
   "cell_type": "code",
   "execution_count": 9,
   "metadata": {},
   "outputs": [],
   "source": [
    "pos_inv = encoder_dict['compound_position'].transform(positions)\n",
    "p1 = pos_inv[:6]\n",
    "p2 = pos_inv[6:12]\n",
    "keys = [p1, p2]"
   ]
  },
  {
   "cell_type": "code",
   "execution_count": 10,
   "metadata": {},
   "outputs": [],
   "source": [
    "poses = np.concatenate((p1, p2))"
   ]
  },
  {
   "cell_type": "code",
   "execution_count": 11,
   "metadata": {},
   "outputs": [
    {
     "data": {
      "text/plain": [
       "array([ 0,  1,  2,  3,  4,  5,  6,  7,  8,  9, 10, 11])"
      ]
     },
     "execution_count": 11,
     "metadata": {},
     "output_type": "execute_result"
    }
   ],
   "source": [
    "poses"
   ]
  },
  {
   "cell_type": "code",
   "execution_count": 12,
   "metadata": {},
   "outputs": [],
   "source": [
    "stim_max = []\n",
    "\n",
    "for s in subjects:\n",
    "    for p in poses:\n",
    "        for s in sizes:\n",
    "            for m in muscles: \n",
    "                temp = df[(df['participant'] == s) \n",
    "                        & (df['compound_position'] == p) \n",
    "                        & (df['compound_size'] == s)\n",
    "                        ]\n",
    "                temp = temp.loc[:,[m, 'pulse_amplitude']]\n",
    "                temp = temp.pulse_amplitude.max()\n",
    "                stim_max.append(temp)\n",
    "stim_max = ma.array(stim_max)\n",
    "stim_max = stim_max.reshape(len(subjects), len(poses), len(sizes), len(muscles))"
   ]
  },
  {
   "cell_type": "code",
   "execution_count": 13,
   "metadata": {},
   "outputs": [
    {
     "data": {
      "text/plain": [
       "(8, 12, 2, 6)"
      ]
     },
     "execution_count": 13,
     "metadata": {},
     "output_type": "execute_result"
    }
   ],
   "source": [
    "stim_max.shape"
   ]
  },
  {
   "cell_type": "code",
   "execution_count": 14,
   "metadata": {},
   "outputs": [
    {
     "data": {
      "text/plain": [
       "(4000, 8, 70, 3, 6)"
      ]
     },
     "execution_count": 14,
     "metadata": {},
     "output_type": "execute_result"
    }
   ],
   "source": [
    "a.shape"
   ]
  },
  {
   "cell_type": "code",
   "execution_count": 15,
   "metadata": {},
   "outputs": [],
   "source": [
    "atemp = a[:,:,:12,:2,:]"
   ]
  },
  {
   "cell_type": "code",
   "execution_count": 16,
   "metadata": {},
   "outputs": [],
   "source": [
    "atemp = ma.mean(atemp, axis=0)"
   ]
  },
  {
   "cell_type": "code",
   "execution_count": 17,
   "metadata": {},
   "outputs": [
    {
     "data": {
      "text/plain": [
       "2.2355382176103276"
      ]
     },
     "execution_count": 17,
     "metadata": {},
     "output_type": "execute_result"
    }
   ],
   "source": [
    "ma.mean(ma.median((stim_max/atemp),axis = (1,2,3)),axis = 0)"
   ]
  },
  {
   "cell_type": "code",
   "execution_count": 18,
   "metadata": {},
   "outputs": [],
   "source": [
    "def get_normalized_input_output():\n",
    "    norm_y = []\n",
    "    norm_x = []\n",
    "\n",
    "    for subject_ind, subject in enumerate(subjects):\n",
    "        for k in keys:\n",
    "            # Fix the subject index and size index\n",
    "            curr_params = [\n",
    "                params[:, subject_ind, k, :2, :, None] for params in params\n",
    "            ]\n",
    "\n",
    "            # Take nanmean across posterior samples\n",
    "            temp = np.nanmean(curr_params[0], axis=0)\n",
    "            # Take nanmedian across compound positions and muscles\n",
    "            median_threshold = np.nanmedian(temp)\n",
    "\n",
    "            x_temp = np.linspace(0.,  median_threshold * MAX_THRESHOLD_CONST, NUM_THRESHOLD_POINTS)\n",
    "            x_temp = x_temp[None, None, None, :]\n",
    "\n",
    "            temp_thresh = F.rectified_logistic(\n",
    "                x_temp, #x_temp\n",
    "                *curr_params\n",
    "            )\n",
    "            # Remove offset\n",
    "            temp_thresh = temp_thresh - curr_params[2]\n",
    "            norm_y.append(temp_thresh)\n",
    "            norm_x.append(x_temp)\n",
    "\n",
    "    norm_x = np.array(norm_x)\n",
    "    norm_x = norm_x.reshape(len(subjects), len(keys), *norm_x.shape[1:])\n",
    "    norm_y = np.array(norm_y)\n",
    "    norm_y = norm_y.reshape(len(subjects), len(keys), *norm_y.shape[1:])\n",
    "    norm_y = ma.masked_invalid(norm_y)\n",
    "    return norm_x, norm_y\n"
   ]
  },
  {
   "cell_type": "code",
   "execution_count": 19,
   "metadata": {},
   "outputs": [
    {
     "name": "stderr",
     "output_type": "stream",
     "text": [
      "/tmp/ipykernel_3986829/2111414865.py:13: RuntimeWarning: Mean of empty slice\n",
      "  temp = np.nanmean(curr_params[0], axis=0)\n",
      "/tmp/ipykernel_3986829/2111414865.py:13: RuntimeWarning: Mean of empty slice\n",
      "  temp = np.nanmean(curr_params[0], axis=0)\n"
     ]
    },
    {
     "data": {
      "text/plain": [
       "(8, 2, 4000, 6, 2, 6, 500)"
      ]
     },
     "execution_count": 19,
     "metadata": {},
     "output_type": "execute_result"
    }
   ],
   "source": [
    "x, y = get_normalized_input_output()\n",
    "\n",
    "y.shape"
   ]
  },
  {
   "cell_type": "code",
   "execution_count": 20,
   "metadata": {},
   "outputs": [],
   "source": [
    "# y_max = ma.max(y, axis=(1, 3,4, -1), keepdims=True)\n"
   ]
  },
  {
   "cell_type": "code",
   "execution_count": 21,
   "metadata": {},
   "outputs": [],
   "source": [
    "# y = ma.where(y_max, y / y_max, 0.)"
   ]
  },
  {
   "cell_type": "code",
   "execution_count": 22,
   "metadata": {},
   "outputs": [],
   "source": [
    "# y.shape"
   ]
  },
  {
   "cell_type": "code",
   "execution_count": 23,
   "metadata": {},
   "outputs": [],
   "source": [
    "big_ind = [0,1,2,2,5]\n",
    "small_ind = [0,1,3,4,5]"
   ]
  },
  {
   "cell_type": "code",
   "execution_count": 24,
   "metadata": {},
   "outputs": [],
   "source": [
    "y_big = y[...,big_ind,0,:,:]\n",
    "y_small = y[...,small_ind,1,:,:]"
   ]
  },
  {
   "cell_type": "code",
   "execution_count": 25,
   "metadata": {},
   "outputs": [
    {
     "data": {
      "text/plain": [
       "(8, 2, 4000, 5, 6, 500)"
      ]
     },
     "execution_count": 25,
     "metadata": {},
     "output_type": "execute_result"
    }
   ],
   "source": [
    "y_big.shape"
   ]
  },
  {
   "cell_type": "code",
   "execution_count": 26,
   "metadata": {},
   "outputs": [],
   "source": [
    "p_big = ma.sum(y_big, axis=-2, keepdims=True)\n",
    "p_big = ma.where(p_big, y_big / p_big, 1 / y_big.shape[-2])\n",
    "p_small = ma.sum(y_small, axis=-2, keepdims=True)\n",
    "p_small = ma.where(p_small, y_small / p_small, 1 / y_small.shape[-2])"
   ]
  },
  {
   "cell_type": "code",
   "execution_count": 27,
   "metadata": {},
   "outputs": [],
   "source": [
    "# p = ma.sum(y, axis=-2, keepdims=True)\n",
    "# p = ma.where(p, y / p, 1 / y.shape[-2])"
   ]
  },
  {
   "cell_type": "code",
   "execution_count": 28,
   "metadata": {},
   "outputs": [],
   "source": [
    "plogp_big = ma.where(p_big, p_big * ma.log(p_big), 0.)\n",
    "plogp_small = ma.where(p_small, p_small * ma.log(p_small), 0.)\n",
    "\n",
    "entropy_big = 1 + (plogp_big.sum(axis=-2) / ma.log(y_big.shape[-2]))\n",
    "entropy_small = 1 + (plogp_small.sum(axis=-2) / ma.log(y_small.shape[-2]))\n"
   ]
  },
  {
   "cell_type": "code",
   "execution_count": 29,
   "metadata": {},
   "outputs": [],
   "source": [
    "auc_big = np.trapz(y=entropy_big[...], x=np.linspace(0, MAX_THRESHOLD_CONST, NUM_THRESHOLD_POINTS), axis=-1)\n",
    "auc_small = np.trapz(y=entropy_small[...], x=np.linspace(0, MAX_THRESHOLD_CONST, NUM_THRESHOLD_POINTS), axis=-1)"
   ]
  },
  {
   "cell_type": "code",
   "execution_count": 30,
   "metadata": {},
   "outputs": [
    {
     "data": {
      "text/plain": [
       "(8, 2, 4000, 5)"
      ]
     },
     "execution_count": 30,
     "metadata": {},
     "output_type": "execute_result"
    }
   ],
   "source": [
    "auc_big.shape"
   ]
  },
  {
   "cell_type": "code",
   "execution_count": 31,
   "metadata": {},
   "outputs": [
    {
     "data": {
      "text/plain": [
       "(8, 2, 5)"
      ]
     },
     "execution_count": 31,
     "metadata": {},
     "output_type": "execute_result"
    }
   ],
   "source": [
    "auc_big = auc_big.mean(axis=(2))\n",
    "auc_small = auc_small.mean(axis=(2))\n",
    "auc_big.shape"
   ]
  },
  {
   "cell_type": "code",
   "execution_count": 33,
   "metadata": {},
   "outputs": [
    {
     "data": {
      "text/plain": [
       "(8,)"
      ]
     },
     "execution_count": 33,
     "metadata": {},
     "output_type": "execute_result"
    }
   ],
   "source": [
    "mat = auc_big - auc_small\n",
    "mat = mat.mean(axis=(1,2))\n",
    "mat.shape"
   ]
  },
  {
   "cell_type": "code",
   "execution_count": 34,
   "metadata": {},
   "outputs": [
    {
     "data": {
      "text/plain": [
       "masked_array(data=[-0.29247572613737083, -0.37060375221102876,\n",
       "                   -0.07240368126741362, 0.08819247751086592,\n",
       "                   -0.21377309659121801, -0.3076911824794817,\n",
       "                   0.07821630081213153, -0.2609445116266059],\n",
       "             mask=[False, False, False, False, False, False, False, False],\n",
       "       fill_value=1e+20)"
      ]
     },
     "execution_count": 34,
     "metadata": {},
     "output_type": "execute_result"
    }
   ],
   "source": [
    "mat"
   ]
  },
  {
   "cell_type": "code",
   "execution_count": 36,
   "metadata": {},
   "outputs": [],
   "source": [
    "src = f\"/home/andres/repos/rat-mapping-paper/notebooks/C_SMA_LAR/cst_selectivity_means.pkl\"\n",
    "\n",
    "with open(src, \"wb\") as f:\n",
    "    pickle.dump([auc_small, auc_big], f)"
   ]
  },
  {
   "cell_type": "code",
   "execution_count": 35,
   "metadata": {},
   "outputs": [
    {
     "data": {
      "text/plain": [
       "WilcoxonResult(statistic=5.0, pvalue=0.078125)"
      ]
     },
     "execution_count": 35,
     "metadata": {},
     "output_type": "execute_result"
    }
   ],
   "source": [
    "stats.wilcoxon(mat, axis=0)"
   ]
  },
  {
   "cell_type": "code",
   "execution_count": 56,
   "metadata": {},
   "outputs": [
    {
     "data": {
      "text/plain": [
       "(8, 2, 4000, 6, 2, 500)"
      ]
     },
     "execution_count": 56,
     "metadata": {},
     "output_type": "execute_result"
    }
   ],
   "source": [
    "plogp = ma.where(p, p * ma.log(p), 0.)\n",
    "\n",
    "entropy = 1 + (plogp.sum(axis=-2) / ma.log(y.shape[-2]))\n",
    "entropy.shape"
   ]
  },
  {
   "cell_type": "code",
   "execution_count": 57,
   "metadata": {},
   "outputs": [
    {
     "data": {
      "text/plain": [
       "(8, 2, 4000, 6, 2)"
      ]
     },
     "execution_count": 57,
     "metadata": {},
     "output_type": "execute_result"
    }
   ],
   "source": [
    "auc = np.trapz(y=entropy[...], x=np.linspace(0, MAX_THRESHOLD_CONST, NUM_THRESHOLD_POINTS), axis=-1)\n",
    "auc.shape"
   ]
  },
  {
   "cell_type": "code",
   "execution_count": 58,
   "metadata": {},
   "outputs": [
    {
     "data": {
      "text/plain": [
       "(8, 2, 6, 2)"
      ]
     },
     "execution_count": 58,
     "metadata": {},
     "output_type": "execute_result"
    }
   ],
   "source": [
    "auc = auc.mean(axis=(2))\n",
    "auc.shape"
   ]
  },
  {
   "cell_type": "code",
   "execution_count": 59,
   "metadata": {},
   "outputs": [],
   "source": [
    "mat = auc[:, :, :,0] - auc[:,:, :, 1]"
   ]
  },
  {
   "cell_type": "code",
   "execution_count": 61,
   "metadata": {},
   "outputs": [],
   "source": [
    "mat = mat.mean(axis=1)"
   ]
  },
  {
   "cell_type": "code",
   "execution_count": 62,
   "metadata": {},
   "outputs": [
    {
     "data": {
      "text/plain": [
       "(8, 6)"
      ]
     },
     "execution_count": 62,
     "metadata": {},
     "output_type": "execute_result"
    }
   ],
   "source": [
    "mat.shape"
   ]
  },
  {
   "cell_type": "code",
   "execution_count": null,
   "metadata": {},
   "outputs": [],
   "source": [
    "def plot_selectivity_comparison(size_ind):\n",
    "    x, y = get_normalized_input_output(size_ind)\n",
    "    num_masked = y.mask.any(axis=(1, 3, -1)).sum()\n",
    "    y_max = ma.max(y, axis=(1, 3, -1), keepdims=True)\n",
    "    \n",
    "    num_masked = y.mask.sum()\n",
    "    y = ma.where(y_max, y / y_max, 0.)\n",
    "    \n",
    "    p = ma.sum(y, axis=-2, keepdims=True)\n",
    "    p = ma.where(p, y / p, 1 / y.shape[-2])\n",
    "    \n",
    "    plogp = ma.where(p, p * ma.log(p), 0.)\n",
    "\n",
    "    entropy = 1 + (plogp.sum(axis=-2) / ma.log(y.shape[-2]))\n",
    "    \n",
    "    auc = np.trapz(y=entropy[...], x=np.linspace(0, MAX_THRESHOLD_CONST, NUM_THRESHOLD_POINTS), axis=-1)\n",
    "    auc = auc.mean(axis=(2))\n",
    "    \n",
    "    mat = auc[:, :, :, None] - auc[:, :, None, :]\n",
    "    mat = mat.mean(axis=1)\n",
    "    \n",
    "    pvalues = []\n",
    "    for i in range(6):\n",
    "        for i2 in range(6):\n",
    "            if i==i2:\n",
    "                pvalues.append(1)\n",
    "                continue\n",
    "            temp_p = stats.wilcoxon(mat[:, i,i2], axis=0).pvalue\n",
    "            pvalues.append(temp_p)\n",
    "\n",
    "    pvalues = np.array(pvalues)\n",
    "    pvalues = pvalues.reshape(6, 6)\n",
    "    \n",
    "    labels = ['L', 'LL', 'LM', 'LM1', 'LM2', 'M']\n",
    "    mask = np.tril(np.ones_like(pvalues), k=0).astype(bool)\n",
    "    sns.heatmap(pvalues, xticklabels=labels, yticklabels=labels, mask = mask, annot=False)\n",
    "    sns.heatmap(pvalues, xticklabels=labels, yticklabels=labels, mask = mask,annot=np.round(mat.mean(axis=0).data, 3), annot_kws={'va':'top'}, fmt=\"\", cbar=False)\n",
    "    sns.heatmap(pvalues, xticklabels=labels, yticklabels=labels, mask = mask,annot=np.round(pvalues, 3), annot_kws={'va':'bottom'}, fmt=\"\", cbar=False)"
   ]
  },
  {
   "cell_type": "code",
   "execution_count": null,
   "metadata": {},
   "outputs": [],
   "source": [
    "plot_selectivity_comparison(1)"
   ]
  },
  {
   "cell_type": "code",
   "execution_count": null,
   "metadata": {},
   "outputs": [],
   "source": [
    "x,y = get_normalized_input_output(1)\n",
    "\n",
    "y_max = ma.max(y, axis=(1, 3, -1), keepdims=True)\n",
    "\n",
    "y = ma.where(y_max, y / y_max, 0.)\n",
    "\n",
    "p = ma.sum(y, axis=-2, keepdims=True)\n",
    "p = ma.where(p, y / p, 1 / y.shape[-2])\n",
    "\n",
    "plogp = ma.where(p, p * ma.log(p), 0.)\n",
    "\n",
    "entropy = 1 + (plogp.sum(axis=-2) / ma.log(y.shape[-2]))\n",
    "\n",
    "auc = np.trapz(y=entropy[...], x=np.linspace(0, MAX_THRESHOLD_CONST, NUM_THRESHOLD_POINTS), axis=-1)\n",
    "auc = auc.mean(axis=(2))\n",
    "\n",
    "mat = auc[:, :, :, None] - auc[:, :, None, :]\n",
    "mat = mat.mean(axis=1) "
   ]
  },
  {
   "cell_type": "code",
   "execution_count": null,
   "metadata": {},
   "outputs": [],
   "source": [
    "auc.shape "
   ]
  }
 ],
 "metadata": {
  "kernelspec": {
   "display_name": ".venv",
   "language": "python",
   "name": "python3"
  },
  "language_info": {
   "codemirror_mode": {
    "name": "ipython",
    "version": 3
   },
   "file_extension": ".py",
   "mimetype": "text/x-python",
   "name": "python",
   "nbconvert_exporter": "python",
   "pygments_lexer": "ipython3",
   "version": "3.11.9"
  }
 },
 "nbformat": 4,
 "nbformat_minor": 2
}
