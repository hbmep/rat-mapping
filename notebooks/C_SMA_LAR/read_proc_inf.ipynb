{
 "cells": [
  {
   "cell_type": "code",
   "execution_count": 2,
   "metadata": {},
   "outputs": [],
   "source": [
    "import os\n",
    "import pickle\n",
    "\n",
    "import numpy as np\n",
    "import numpy.ma as ma\n",
    "\n",
    "from hbmep.nn import functional as F\n",
    "from hbmep.model.utils import Site as site\n",
    "\n",
    "from models import (\n",
    "    NonHierarchicalBayesianModel\n",
    ")"
   ]
  },
  {
   "cell_type": "code",
   "execution_count": 3,
   "metadata": {},
   "outputs": [
    {
     "name": "stderr",
     "output_type": "stream",
     "text": [
      "An NVIDIA GPU may be present on this machine, but a CUDA-enabled jaxlib is not installed. Falling back to cpu.\n"
     ]
    },
    {
     "ename": "KeyboardInterrupt",
     "evalue": "",
     "output_type": "error",
     "traceback": [
      "\u001b[0;31m---------------------------------------------------------------------------\u001b[0m",
      "\u001b[0;31mKeyboardInterrupt\u001b[0m                         Traceback (most recent call last)",
      "Cell \u001b[0;32mIn[3], line 12\u001b[0m\n\u001b[1;32m      1\u001b[0m src \u001b[38;5;241m=\u001b[39m \u001b[38;5;124m\"\u001b[39m\u001b[38;5;124m/home/andres/repos/rat-mapping-paper/reports/C_SMA_LAR/non_hierarchical_bayesian_model/processed_inference.pkl\u001b[39m\u001b[38;5;124m\"\u001b[39m\n\u001b[1;32m      2\u001b[0m \u001b[38;5;28;01mwith\u001b[39;00m \u001b[38;5;28mopen\u001b[39m(src, \u001b[38;5;124m\"\u001b[39m\u001b[38;5;124mrb\u001b[39m\u001b[38;5;124m\"\u001b[39m) \u001b[38;5;28;01mas\u001b[39;00m f:\n\u001b[1;32m      3\u001b[0m     (\n\u001b[1;32m      4\u001b[0m         df,\n\u001b[1;32m      5\u001b[0m         encoder_dict,\n\u001b[1;32m      6\u001b[0m         model,\n\u001b[1;32m      7\u001b[0m         posterior_samples,\n\u001b[1;32m      8\u001b[0m         y,\n\u001b[1;32m      9\u001b[0m         subjects_inv,\n\u001b[1;32m     10\u001b[0m         compound_positions_inv,\n\u001b[1;32m     11\u001b[0m         compound_size_inv,\n\u001b[0;32m---> 12\u001b[0m     ) \u001b[38;5;241m=\u001b[39m \u001b[43mpickle\u001b[49m\u001b[38;5;241;43m.\u001b[39;49m\u001b[43mload\u001b[49m\u001b[43m(\u001b[49m\u001b[43mf\u001b[49m\u001b[43m)\u001b[49m\n",
      "File \u001b[0;32m~/repos/rat-mapping-paper/.venv/lib/python3.11/site-packages/numpy/ma/core.py:6264\u001b[0m, in \u001b[0;36mMaskedArray.__setstate__\u001b[0;34m(self, state)\u001b[0m\n\u001b[1;32m   6261\u001b[0m     data_state \u001b[38;5;241m=\u001b[39m \u001b[38;5;28msuper\u001b[39m()\u001b[38;5;241m.\u001b[39m__reduce__()[\u001b[38;5;241m2\u001b[39m]\n\u001b[1;32m   6262\u001b[0m     \u001b[38;5;28;01mreturn\u001b[39;00m data_state \u001b[38;5;241m+\u001b[39m (getmaskarray(\u001b[38;5;28mself\u001b[39m)\u001b[38;5;241m.\u001b[39mtobytes(cf), \u001b[38;5;28mself\u001b[39m\u001b[38;5;241m.\u001b[39m_fill_value)\n\u001b[0;32m-> 6264\u001b[0m \u001b[38;5;28;01mdef\u001b[39;00m \u001b[38;5;21m__setstate__\u001b[39m(\u001b[38;5;28mself\u001b[39m, state):\n\u001b[1;32m   6265\u001b[0m \u001b[38;5;250m    \u001b[39m\u001b[38;5;124;03m\"\"\"Restore the internal state of the masked array, for\u001b[39;00m\n\u001b[1;32m   6266\u001b[0m \u001b[38;5;124;03m    pickling purposes.  ``state`` is typically the output of the\u001b[39;00m\n\u001b[1;32m   6267\u001b[0m \u001b[38;5;124;03m    ``__getstate__`` output, and is a 5-tuple:\u001b[39;00m\n\u001b[0;32m   (...)\u001b[0m\n\u001b[1;32m   6274\u001b[0m \n\u001b[1;32m   6275\u001b[0m \u001b[38;5;124;03m    \"\"\"\u001b[39;00m\n\u001b[1;32m   6276\u001b[0m     (_, shp, typ, isf, raw, msk, flv) \u001b[38;5;241m=\u001b[39m state\n",
      "\u001b[0;31mKeyboardInterrupt\u001b[0m: "
     ]
    }
   ],
   "source": [
    "src = \"/home/andres/repos/rat-mapping-paper/reports/C_SMA_LAR/non_hierarchical_bayesian_model/processed_inference.pkl\"\n",
    "with open(src, \"rb\") as f:\n",
    "    (\n",
    "        df,\n",
    "        encoder_dict,\n",
    "        model,\n",
    "        posterior_samples,\n",
    "        y,\n",
    "        subjects_inv,\n",
    "        compound_positions_inv,\n",
    "        compound_size_inv,\n",
    "    ) = pickle.load(f)\n"
   ]
  },
  {
   "cell_type": "code",
   "execution_count": null,
   "metadata": {},
   "outputs": [
    {
     "data": {
      "text/plain": [
       "(400, 8, 70, 3, 6)"
      ]
     },
     "execution_count": 4,
     "metadata": {},
     "output_type": "execute_result"
    }
   ],
   "source": [
    "a = posterior_samples[site.a]\n",
    "a.shape\n"
   ]
  },
  {
   "cell_type": "code",
   "execution_count": null,
   "metadata": {},
   "outputs": [
    {
     "data": {
      "text/plain": [
       "(400, 8, 70, 3, 6, 1000)"
      ]
     },
     "execution_count": 5,
     "metadata": {},
     "output_type": "execute_result"
    }
   ],
   "source": [
    "y.shape # samples, subjects, positions, sizes, muscles, x) "
   ]
  },
  {
   "cell_type": "code",
   "execution_count": null,
   "metadata": {},
   "outputs": [
    {
     "data": {
      "text/plain": [
       "(8, 70, 400, 3, 6, 1000)"
      ]
     },
     "execution_count": 6,
     "metadata": {},
     "output_type": "execute_result"
    }
   ],
   "source": [
    "y_swap = ma.swapaxes(y, 0, 1)\n",
    "y_swap = ma.swapaxes(y_swap, 1, 2)\n",
    "y_swap.shape"
   ]
  },
  {
   "cell_type": "code",
   "execution_count": null,
   "metadata": {},
   "outputs": [],
   "source": [
    "t = list(zip(subjects_inv, compound_positions_inv, compound_size_inv))\n"
   ]
  },
  {
   "cell_type": "code",
   "execution_count": null,
   "metadata": {},
   "outputs": [
    {
     "data": {
      "text/plain": [
       "['B', 'S', 'S-B']"
      ]
     },
     "execution_count": 8,
     "metadata": {},
     "output_type": "execute_result"
    }
   ],
   "source": [
    "compound_size_inv"
   ]
  },
  {
   "cell_type": "code",
   "execution_count": null,
   "metadata": {},
   "outputs": [],
   "source": [
    "y_temp= y[:, :, :, 0, ...]"
   ]
  },
  {
   "cell_type": "code",
   "execution_count": null,
   "metadata": {},
   "outputs": [],
   "source": [
    "temp_mean = ma.mean(y_temp[:, 1, ...], axis = 1)"
   ]
  },
  {
   "cell_type": "code",
   "execution_count": null,
   "metadata": {},
   "outputs": [
    {
     "data": {
      "text/plain": [
       "(400, 6, 1000)"
      ]
     },
     "execution_count": 11,
     "metadata": {},
     "output_type": "execute_result"
    }
   ],
   "source": [
    "temp_mean.shape"
   ]
  },
  {
   "cell_type": "code",
   "execution_count": null,
   "metadata": {},
   "outputs": [
    {
     "data": {
      "text/plain": [
       "['-C5L',\n",
       " '-C5LL',\n",
       " '-C5LM',\n",
       " '-C5LM1',\n",
       " '-C5LM2',\n",
       " '-C5M',\n",
       " '-C6L',\n",
       " '-C6LL',\n",
       " '-C6LM',\n",
       " '-C6LM1',\n",
       " '-C6LM2',\n",
       " '-C6M',\n",
       " '-C6R',\n",
       " '-C6RM',\n",
       " '-C6RR',\n",
       " '-C7LM',\n",
       " '-C7M',\n",
       " '-C7R',\n",
       " '-C7RM',\n",
       " '-C7RR',\n",
       " 'C5L-C5LL',\n",
       " 'C5LM1-C5L',\n",
       " 'C5LM1-C5LL',\n",
       " 'C5LM2-C5L',\n",
       " 'C5LM2-C5LL',\n",
       " 'C5LM2-C5LM1',\n",
       " 'C5LM2-C5M',\n",
       " 'C5LM2-C6L',\n",
       " 'C5LM2-C6LL',\n",
       " 'C5M-C5L',\n",
       " 'C5M-C5LL',\n",
       " 'C5M-C5LM',\n",
       " 'C5M-C5LM1',\n",
       " 'C5M-C5LM2',\n",
       " 'C5M-C6L',\n",
       " 'C5M-C6LL',\n",
       " 'C6L-C6LL',\n",
       " 'C6LL-C6L',\n",
       " 'C6LM-C6L',\n",
       " 'C6LM-C6LL',\n",
       " 'C6LM-C6M',\n",
       " 'C6LM-C6R',\n",
       " 'C6LM-C6RM',\n",
       " 'C6LM-C6RR',\n",
       " 'C6LM1-C6L',\n",
       " 'C6LM1-C6LL',\n",
       " 'C6LM2-C6L',\n",
       " 'C6LM2-C6LL',\n",
       " 'C6LM2-C6LM1',\n",
       " 'C6M-C6L',\n",
       " 'C6M-C6LL',\n",
       " 'C6M-C6LM',\n",
       " 'C6M-C6LM1',\n",
       " 'C6M-C6LM2',\n",
       " 'C6M-C6R',\n",
       " 'C6M-C6RM',\n",
       " 'C6M-C6RR',\n",
       " 'C6R-C6RR',\n",
       " 'C6RM-C6R',\n",
       " 'C6RM-C6RR',\n",
       " 'C7LM-C7M',\n",
       " 'C7LM-C7R',\n",
       " 'C7LM-C7RM',\n",
       " 'C7LM-C7RR',\n",
       " 'C7M-C7R',\n",
       " 'C7M-C7RM',\n",
       " 'C7M-C7RR',\n",
       " 'C7R-C7RR',\n",
       " 'C7RM-C7R',\n",
       " 'C7RM-C7RR']"
      ]
     },
     "execution_count": 12,
     "metadata": {},
     "output_type": "execute_result"
    }
   ],
   "source": [
    "compound_positions_inv"
   ]
  },
  {
   "cell_type": "code",
   "execution_count": null,
   "metadata": {},
   "outputs": [
    {
     "data": {
      "text/plain": [
       "(8, 70, 400, 3, 6, 1000)"
      ]
     },
     "execution_count": 13,
     "metadata": {},
     "output_type": "execute_result"
    }
   ],
   "source": [
    "y_swap.shape"
   ]
  },
  {
   "cell_type": "code",
   "execution_count": null,
   "metadata": {},
   "outputs": [],
   "source": [
    "y_big = y_swap[...,0,:,:]\n",
    "y_small = y_swap[...,1,:,:]"
   ]
  },
  {
   "cell_type": "code",
   "execution_count": 1,
   "metadata": {},
   "outputs": [
    {
     "ename": "NameError",
     "evalue": "name 'y_big' is not defined",
     "output_type": "error",
     "traceback": [
      "\u001b[0;31m---------------------------------------------------------------------------\u001b[0m",
      "\u001b[0;31mNameError\u001b[0m                                 Traceback (most recent call last)",
      "Cell \u001b[0;32mIn[1], line 2\u001b[0m\n\u001b[1;32m      1\u001b[0m \u001b[38;5;66;03m#400, 1000\u001b[39;00m\n\u001b[0;32m----> 2\u001b[0m \u001b[43my_big\u001b[49m\u001b[38;5;241m.\u001b[39mshape\n",
      "\u001b[0;31mNameError\u001b[0m: name 'y_big' is not defined"
     ]
    }
   ],
   "source": [
    "#400, 1000\n",
    "y_big.shape\n",
    "\n",
    "#not present append mask of shape 400,1000,6"
   ]
  },
  {
   "cell_type": "code",
   "execution_count": 15,
   "metadata": {},
   "outputs": [],
   "source": [
    "def get_entropy(arr):\n",
    "    y = arr[:, :, ...]\n",
    "    x = arr[:, :, 0, 0, :]\n",
    "\n",
    "    y_max = ma.max(y, axis=(1, -1), keepdims=True) \n",
    "\n",
    "    y = ma.where(y, y / y_max, 0.)\n",
    "\n",
    "    p = ma.sum(y, axis=-2, keepdims=True)\n",
    "    p = ma.where(y, y / p, 0.)\n",
    "\n",
    "    plogp = ma.where(p, p * ma.log(p), 0.)\n",
    "\n",
    "    entropy = ma.where(\n",
    "        ma.any(p, axis=-2, keepdims=True),\n",
    "        (\n",
    "            1\n",
    "            + (ma.sum(plogp, axis=-2, keepdims=True) / np.log(plogp.shape[-2]))\n",
    "        ),\n",
    "        0.\n",
    "    )\n",
    "    entropy = entropy[..., 0, :]\n",
    "\n",
    "    return entropy, x\n"
   ]
  },
  {
   "cell_type": "code",
   "execution_count": 17,
   "metadata": {},
   "outputs": [
    {
     "ename": "",
     "evalue": "",
     "output_type": "error",
     "traceback": [
      "\u001b[1;31mThe Kernel crashed while executing code in the current cell or a previous cell. \n",
      "\u001b[1;31mPlease review the code in the cell(s) to identify a possible cause of the failure. \n",
      "\u001b[1;31mClick <a href='https://aka.ms/vscodeJupyterKernelCrash'>here</a> for more info. \n",
      "\u001b[1;31mView Jupyter <a href='command:jupyter.viewOutput'>log</a> for further details."
     ]
    }
   ],
   "source": [
    "entropy_big, x_big = get_entropy(y_big)"
   ]
  }
 ],
 "metadata": {
  "kernelspec": {
   "display_name": ".venv",
   "language": "python",
   "name": "python3"
  },
  "language_info": {
   "codemirror_mode": {
    "name": "ipython",
    "version": 3
   },
   "file_extension": ".py",
   "mimetype": "text/x-python",
   "name": "python",
   "nbconvert_exporter": "python",
   "pygments_lexer": "ipython3",
   "version": "3.11.9"
  }
 },
 "nbformat": 4,
 "nbformat_minor": 2
}
