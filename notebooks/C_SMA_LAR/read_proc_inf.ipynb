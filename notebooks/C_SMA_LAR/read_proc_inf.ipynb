{
 "cells": [
  {
   "cell_type": "code",
   "execution_count": 1,
   "metadata": {},
   "outputs": [],
   "source": [
    "import os\n",
    "import pickle\n",
    "\n",
    "import numpy as np\n",
    "import numpy.ma as ma\n",
    "\n",
    "from hbmep.nn import functional as F\n",
    "from hbmep.model.utils import Site as site\n",
    "\n",
    "from models import (\n",
    "    NonHierarchicalBayesianModel\n",
    ")"
   ]
  },
  {
   "cell_type": "code",
   "execution_count": 2,
   "metadata": {},
   "outputs": [
    {
     "name": "stderr",
     "output_type": "stream",
     "text": [
      "An NVIDIA GPU may be present on this machine, but a CUDA-enabled jaxlib is not installed. Falling back to cpu.\n"
     ]
    }
   ],
   "source": [
    "src = \"/home/andres/repos/rat-mapping-paper/reports/C_SMA_LAR/non_hierarchical_bayesian_model/processed_inference.pkl\"\n",
    "with open(src, \"rb\") as f:\n",
    "    (\n",
    "        df,\n",
    "        encoder_dict,\n",
    "        model,\n",
    "        posterior_samples,\n",
    "        y,\n",
    "        subjects_inv,\n",
    "        compound_positions_inv,\n",
    "        compound_size_inv,\n",
    "    ) = pickle.load(f)\n"
   ]
  },
  {
   "cell_type": "code",
   "execution_count": 19,
   "metadata": {},
   "outputs": [
    {
     "data": {
      "text/plain": [
       "(400, 8, 70, 3, 6)"
      ]
     },
     "execution_count": 19,
     "metadata": {},
     "output_type": "execute_result"
    }
   ],
   "source": [
    "a = posterior_samples[site.a]\n",
    "a.shape\n"
   ]
  },
  {
   "cell_type": "code",
   "execution_count": 18,
   "metadata": {},
   "outputs": [
    {
     "data": {
      "text/plain": [
       "(400, 8, 70, 3, 6, 1000)"
      ]
     },
     "execution_count": 18,
     "metadata": {},
     "output_type": "execute_result"
    }
   ],
   "source": [
    "y.shape # samples, subjects, positions, sizes, muscles, x) "
   ]
  },
  {
   "cell_type": "code",
   "execution_count": 8,
   "metadata": {},
   "outputs": [
    {
     "data": {
      "text/plain": [
       "(8, 70, 400, 3, 6, 1000)"
      ]
     },
     "execution_count": 8,
     "metadata": {},
     "output_type": "execute_result"
    }
   ],
   "source": [
    "y_swap = ma.swapaxes(y, 0, 1)\n",
    "y_swap = ma.swapaxes(y_swap, 1, 2)\n",
    "y_swap.shape"
   ]
  },
  {
   "cell_type": "code",
   "execution_count": 3,
   "metadata": {},
   "outputs": [],
   "source": [
    "t = list(zip(subjects_inv, compound_positions_inv, compound_size_inv))\n"
   ]
  },
  {
   "cell_type": "code",
   "execution_count": 7,
   "metadata": {},
   "outputs": [
    {
     "data": {
      "text/plain": [
       "['B', 'S', 'S-B']"
      ]
     },
     "execution_count": 7,
     "metadata": {},
     "output_type": "execute_result"
    }
   ],
   "source": [
    "compound_size_inv"
   ]
  },
  {
   "cell_type": "code",
   "execution_count": 13,
   "metadata": {},
   "outputs": [],
   "source": [
    "y_temp= y[:, :, :, 0, ...]"
   ]
  },
  {
   "cell_type": "code",
   "execution_count": 14,
   "metadata": {},
   "outputs": [],
   "source": [
    "temp_mean = ma.mean(y_temp[:, 1, ...], axis = 1)"
   ]
  },
  {
   "cell_type": "code",
   "execution_count": 17,
   "metadata": {},
   "outputs": [
    {
     "data": {
      "text/plain": [
       "(400, 6, 1000)"
      ]
     },
     "execution_count": 17,
     "metadata": {},
     "output_type": "execute_result"
    }
   ],
   "source": [
    "temp_mean.shape"
   ]
  },
  {
   "cell_type": "code",
   "execution_count": 9,
   "metadata": {},
   "outputs": [
    {
     "data": {
      "text/plain": [
       "['-C5L',\n",
       " '-C5LL',\n",
       " '-C5LM',\n",
       " '-C5LM1',\n",
       " '-C5LM2',\n",
       " '-C5M',\n",
       " '-C6L',\n",
       " '-C6LL',\n",
       " '-C6LM',\n",
       " '-C6LM1',\n",
       " '-C6LM2',\n",
       " '-C6M',\n",
       " '-C6R',\n",
       " '-C6RM',\n",
       " '-C6RR',\n",
       " '-C7LM',\n",
       " '-C7M',\n",
       " '-C7R',\n",
       " '-C7RM',\n",
       " '-C7RR',\n",
       " 'C5L-C5LL',\n",
       " 'C5LM1-C5L',\n",
       " 'C5LM1-C5LL',\n",
       " 'C5LM2-C5L',\n",
       " 'C5LM2-C5LL',\n",
       " 'C5LM2-C5LM1',\n",
       " 'C5LM2-C5M',\n",
       " 'C5LM2-C6L',\n",
       " 'C5LM2-C6LL',\n",
       " 'C5M-C5L',\n",
       " 'C5M-C5LL',\n",
       " 'C5M-C5LM',\n",
       " 'C5M-C5LM1',\n",
       " 'C5M-C5LM2',\n",
       " 'C5M-C6L',\n",
       " 'C5M-C6LL',\n",
       " 'C6L-C6LL',\n",
       " 'C6LL-C6L',\n",
       " 'C6LM-C6L',\n",
       " 'C6LM-C6LL',\n",
       " 'C6LM-C6M',\n",
       " 'C6LM-C6R',\n",
       " 'C6LM-C6RM',\n",
       " 'C6LM-C6RR',\n",
       " 'C6LM1-C6L',\n",
       " 'C6LM1-C6LL',\n",
       " 'C6LM2-C6L',\n",
       " 'C6LM2-C6LL',\n",
       " 'C6LM2-C6LM1',\n",
       " 'C6M-C6L',\n",
       " 'C6M-C6LL',\n",
       " 'C6M-C6LM',\n",
       " 'C6M-C6LM1',\n",
       " 'C6M-C6LM2',\n",
       " 'C6M-C6R',\n",
       " 'C6M-C6RM',\n",
       " 'C6M-C6RR',\n",
       " 'C6R-C6RR',\n",
       " 'C6RM-C6R',\n",
       " 'C6RM-C6RR',\n",
       " 'C7LM-C7M',\n",
       " 'C7LM-C7R',\n",
       " 'C7LM-C7RM',\n",
       " 'C7LM-C7RR',\n",
       " 'C7M-C7R',\n",
       " 'C7M-C7RM',\n",
       " 'C7M-C7RR',\n",
       " 'C7R-C7RR',\n",
       " 'C7RM-C7R',\n",
       " 'C7RM-C7RR']"
      ]
     },
     "execution_count": 9,
     "metadata": {},
     "output_type": "execute_result"
    }
   ],
   "source": [
    "compound_positions_inv"
   ]
  },
  {
   "cell_type": "code",
   "execution_count": null,
   "metadata": {},
   "outputs": [],
   "source": [
    "#check for masks? \n",
    "\n",
    "def get_entropy(subset):\n",
    "    y = y[:, subset, ...]\n",
    "    x = y[:, subset, 0, 0, :]\n",
    "\n",
    "    y_max = ma.max(y, axis=(1, -1), keepdims=True) \n",
    "    y_max.shape\n",
    "\n",
    "    y = ma.where(y, y / y_max, 0.)\n",
    "    y.shape\n",
    "\n",
    "    p = ma.sum(y, axis=-2, keepdims=True)\n",
    "    p = ma.where(y, y / p, 0.)\n",
    "    p.shape\n",
    "\n",
    "    plogp = ma.where(p, p * ma.log(p), 0.)\n",
    "    plogp.shape\n",
    "\n",
    "    entropy = ma.where(\n",
    "        ma.any(p, axis=-2, keepdims=True),\n",
    "        (\n",
    "            1\n",
    "            + (ma.sum(plogp, axis=-2, keepdims=True) / np.log(plogp.shape[-2]))\n",
    "        ),\n",
    "        0.\n",
    "    )\n",
    "    entropy = entropy[..., 0, :]\n",
    "    entropy.shape\n",
    "\n",
    "    return entropy, x\n"
   ]
  }
 ],
 "metadata": {
  "kernelspec": {
   "display_name": ".venv",
   "language": "python",
   "name": "python3"
  },
  "language_info": {
   "codemirror_mode": {
    "name": "ipython",
    "version": 3
   },
   "file_extension": ".py",
   "mimetype": "text/x-python",
   "name": "python",
   "nbconvert_exporter": "python",
   "pygments_lexer": "ipython3",
   "version": "3.11.9"
  }
 },
 "nbformat": 4,
 "nbformat_minor": 2
}
