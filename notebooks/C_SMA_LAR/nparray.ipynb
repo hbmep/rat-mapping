{
 "cells": [
  {
   "cell_type": "code",
   "execution_count": 47,
   "metadata": {},
   "outputs": [],
   "source": [
    "import os\n",
    "import pandas as pd\n",
    "import numpy as np\n",
    "import pickle\n",
    "import matplotlib.pyplot as plt\n",
    "import seaborn as sns\n",
    "from scipy import stats\n",
    "import re\n",
    "\n",
    "file = open(\"/home/andres/repos/rat-mapping-paper/reports/C_SMA_LAR/combine.pkl\",\"rb\")\n",
    "combinations = pickle.load(file)"
   ]
  },
  {
   "cell_type": "code",
   "execution_count": 48,
   "metadata": {},
   "outputs": [],
   "source": [
    "df = pd.read_csv(\"/home/andres/data/hbmep-processed/C_SMA_LAR/data.csv\")"
   ]
  },
  {
   "cell_type": "code",
   "execution_count": 137,
   "metadata": {},
   "outputs": [
    {
     "data": {
      "text/plain": [
       "Index(['pulse_amplitude', 'pulse_train_frequency', 'pulse_period',\n",
       "       'pulse_duration', 'pulse_count', 'train_delay', 'channel1_1',\n",
       "       'channel1_2', 'channel1_3', 'channel1_4', 'channel2_1', 'channel2_2',\n",
       "       'channel2_3', 'channel2_4', 'charge_params_1', 'charge_params_2',\n",
       "       'charge_params_3', 'charge_params_4', 'bank_check', 'run', 'enabled',\n",
       "       'channel_failA', 'channel_failB', 'channel_fail_comb', 'time_pulse',\n",
       "       'time', 'ix_onsets', 'auc_2', 'auc_6', 'auc_5', 'auc_7', 'auc_1',\n",
       "       'auc_4', 'auc_3', 'auc_8', 'channel1_laterality', 'channel1_segment',\n",
       "       'channel1_designation', 'channel1_size', 'channel2_laterality',\n",
       "       'channel2_segment', 'channel2_designation', 'channel2_size',\n",
       "       'compound_position', 'compound_charge_params', 'compound_size',\n",
       "       'participant', 'subdir_pattern', 'charge_param_error'],\n",
       "      dtype='object')"
      ]
     },
     "execution_count": 137,
     "metadata": {},
     "output_type": "execute_result"
    }
   ],
   "source": [
    "df.columns"
   ]
  },
  {
   "cell_type": "code",
   "execution_count": 140,
   "metadata": {},
   "outputs": [],
   "source": [
    "positions = df.compound_position.unique().tolist()\n",
    "positions = [p for p in positions if (p.split('-')[0] < p.split('-')[1])]"
   ]
  },
  {
   "cell_type": "code",
   "execution_count": 141,
   "metadata": {},
   "outputs": [
    {
     "data": {
      "text/plain": [
       "['-C5LL',\n",
       " '-C5M',\n",
       " '-C5LM',\n",
       " '-C5L',\n",
       " 'C6LM-C6RR',\n",
       " 'C5M-C6LL',\n",
       " '-C5LM2',\n",
       " 'C6RM-C6RR',\n",
       " 'C6M-C6RM',\n",
       " '-C6LM',\n",
       " '-C6LL',\n",
       " '-C6L',\n",
       " 'C6LM-C6RM',\n",
       " 'C5LM2-C6L',\n",
       " '-C6M',\n",
       " '-C6R',\n",
       " '-C5LM1',\n",
       " 'C5LM2-C6LL',\n",
       " '-C6RR',\n",
       " 'C6LM-C6M',\n",
       " 'C5M-C6L',\n",
       " 'C5LM2-C5M',\n",
       " 'C6M-C6RR',\n",
       " 'C6R-C6RR',\n",
       " 'C6M-C6R',\n",
       " 'C5L-C5LL',\n",
       " '-C6RM',\n",
       " 'C6LM-C6R',\n",
       " 'C7LM-C7RR',\n",
       " 'C7RM-C7RR',\n",
       " 'C7M-C7RM',\n",
       " '-C7LM',\n",
       " 'C7LM-C7RM',\n",
       " '-C7M',\n",
       " '-C7R',\n",
       " '-C7RR',\n",
       " 'C7LM-C7M',\n",
       " 'C7M-C7RR',\n",
       " 'C7R-C7RR',\n",
       " 'C7M-C7R',\n",
       " '-C7RM',\n",
       " 'C7LM-C7R',\n",
       " 'C6L-C6LL',\n",
       " '-C6LM2',\n",
       " '-C6LM1']"
      ]
     },
     "execution_count": 141,
     "metadata": {},
     "output_type": "execute_result"
    }
   ],
   "source": [
    "positions"
   ]
  },
  {
   "cell_type": "code",
   "execution_count": 2,
   "metadata": {},
   "outputs": [
    {
     "data": {
      "text/plain": [
       "{'-C5L',\n",
       " '-C5LL',\n",
       " '-C5LM',\n",
       " '-C5LM1',\n",
       " '-C5LM2',\n",
       " '-C5M',\n",
       " '-C6L',\n",
       " '-C6LL',\n",
       " '-C6LM',\n",
       " '-C6LM1',\n",
       " '-C6LM2',\n",
       " '-C6M',\n",
       " '-C6R',\n",
       " '-C6RM',\n",
       " '-C6RR',\n",
       " '-C7LM',\n",
       " '-C7M',\n",
       " '-C7R',\n",
       " '-C7RM',\n",
       " '-C7RR',\n",
       " 'C5L-C5LL',\n",
       " 'C5LM1-C5L',\n",
       " 'C5LM1-C5LL',\n",
       " 'C5LM2-C5L',\n",
       " 'C5LM2-C5LL',\n",
       " 'C5LM2-C5LM1',\n",
       " 'C5LM2-C5M',\n",
       " 'C5LM2-C6L',\n",
       " 'C5LM2-C6LL',\n",
       " 'C5M-C5L',\n",
       " 'C5M-C5LL',\n",
       " 'C5M-C5LM',\n",
       " 'C5M-C5LM1',\n",
       " 'C5M-C5LM2',\n",
       " 'C5M-C6L',\n",
       " 'C5M-C6LL',\n",
       " 'C6L-C6LL',\n",
       " 'C6LL-C6L',\n",
       " 'C6LM-C6L',\n",
       " 'C6LM-C6LL',\n",
       " 'C6LM-C6M',\n",
       " 'C6LM-C6R',\n",
       " 'C6LM-C6RM',\n",
       " 'C6LM-C6RR',\n",
       " 'C6LM1-C6L',\n",
       " 'C6LM1-C6LL',\n",
       " 'C6LM2-C6L',\n",
       " 'C6LM2-C6LL',\n",
       " 'C6LM2-C6LM1',\n",
       " 'C6M-C6L',\n",
       " 'C6M-C6LL',\n",
       " 'C6M-C6LM',\n",
       " 'C6M-C6LM1',\n",
       " 'C6M-C6LM2',\n",
       " 'C6M-C6R',\n",
       " 'C6M-C6RM',\n",
       " 'C6M-C6RR',\n",
       " 'C6R-C6RR',\n",
       " 'C6RM-C6R',\n",
       " 'C6RM-C6RR',\n",
       " 'C7LM-C7M',\n",
       " 'C7LM-C7R',\n",
       " 'C7LM-C7RM',\n",
       " 'C7LM-C7RR',\n",
       " 'C7M-C7R',\n",
       " 'C7M-C7RM',\n",
       " 'C7M-C7RR',\n",
       " 'C7R-C7RR',\n",
       " 'C7RM-C7R',\n",
       " 'C7RM-C7RR'}"
      ]
     },
     "execution_count": 2,
     "metadata": {},
     "output_type": "execute_result"
    }
   ],
   "source": []
  },
  {
   "cell_type": "code",
   "execution_count": 3,
   "metadata": {},
   "outputs": [
    {
     "data": {
      "text/plain": [
       "[('amap03', '-C5L', 'S'),\n",
       " ('amap01', 'C5LM2-C5LM1', 'S'),\n",
       " ('amap07', '-C5LM', 'B'),\n",
       " ('amap05', 'C5L-C5LL', 'S'),\n",
       " ('amap02', '-C5L', 'B'),\n",
       " ('amap02', 'C5M-C5L', 'B'),\n",
       " ('amap06', 'C5M-C5L', 'S'),\n",
       " ('amap02', '-C7RR', 'B'),\n",
       " ('amap03', 'C6L-C6LL', 'B'),\n",
       " ('amap03', '-C5LL', 'B'),\n",
       " ('amap02', 'C5LM2-C5M', 'S'),\n",
       " ('amap08', 'C5LM2-C5LM1', 'S'),\n",
       " ('amap05', 'C6LM2-C6LL', 'S'),\n",
       " ('amap07', '-C6R', 'B'),\n",
       " ('amap06', 'C5M-C5LM2', 'S'),\n",
       " ('amap08', 'C5M-C5LL', 'S'),\n",
       " ('amap05', 'C6M-C6RR', 'B'),\n",
       " ('amap08', 'C5LM1-C5LL', 'S'),\n",
       " ('amap01', 'C5M-C6L', 'S-B'),\n",
       " ('amap03', 'C5M-C5L', 'S'),\n",
       " ('amap08', 'C6M-C6L', 'S'),\n",
       " ('amap08', 'C5M-C5LM1', 'S'),\n",
       " ('amap04', 'C5M-C5L', 'S'),\n",
       " ('amap07', 'C5L-C5LL', 'S'),\n",
       " ('amap01', 'C5M-C5LM', 'B'),\n",
       " ('amap02', '-C7LM', 'B'),\n",
       " ('amap08', '-C6RR', 'B'),\n",
       " ('amap05', 'C6RM-C6RR', 'B'),\n",
       " ('amap06', '-C6M', 'S'),\n",
       " ('amap07', 'C6M-C6LM', 'B'),\n",
       " ('amap01', 'C7RM-C7RR', 'B'),\n",
       " ('amap02', 'C5M-C5LL', 'B'),\n",
       " ('amap01', 'C5LM1-C5LL', 'S'),\n",
       " ('amap04', 'C5M-C5LL', 'S'),\n",
       " ('amap06', 'C6M-C6LM1', 'S'),\n",
       " ('amap02', 'C6M-C6RR', 'B'),\n",
       " ('amap08', 'C5M-C5LM', 'B'),\n",
       " ('amap02', '-C6R', 'B'),\n",
       " ('amap04', 'C5M-C5LM2', 'S'),\n",
       " ('amap01', '-C6L', 'B'),\n",
       " ('amap05', 'C6M-C6LL', 'S'),\n",
       " ('amap02', 'C5LM2-C5L', 'S'),\n",
       " ('amap01', '-C6RR', 'B'),\n",
       " ('amap08', 'C6M-C6LM2', 'S'),\n",
       " ('amap02', 'C5L-C5LL', 'S'),\n",
       " ('amap05', '-C6RM', 'B'),\n",
       " ('amap01', 'C5M-C6LL', 'S-B'),\n",
       " ('amap08', 'C6M-C6L', 'B'),\n",
       " ('amap01', '-C6LL', 'B'),\n",
       " ('amap06', '-C5M', 'S'),\n",
       " ('amap05', '-C5L', 'S'),\n",
       " ('amap04', '-C6M', 'S'),\n",
       " ('amap08', '-C6L', 'B'),\n",
       " ('amap02', 'C7LM-C7R', 'B'),\n",
       " ('amap06', '-C6M', 'B'),\n",
       " ('amap03', 'C5M-C5LL', 'B'),\n",
       " ('amap07', 'C6RM-C6RR', 'B'),\n",
       " ('amap08', 'C6M-C6LM', 'B'),\n",
       " ('amap07', '-C6LM', 'B'),\n",
       " ('amap04', 'C6M-C6LM1', 'S'),\n",
       " ('amap07', 'C6LM2-C6LL', 'S'),\n",
       " ('amap05', '-C5LL', 'B'),\n",
       " ('amap01', '-C5LM2', 'S'),\n",
       " ('amap07', 'C6L-C6LL', 'S'),\n",
       " ('amap03', 'C5M-C5LM2', 'S'),\n",
       " ('amap08', '-C6M', 'S'),\n",
       " ('amap05', 'C6RM-C6R', 'B'),\n",
       " ('amap04', 'C5M-C5LL', 'B'),\n",
       " ('amap08', '-C6LL', 'B'),\n",
       " ('amap02', 'C5LM2-C5LL', 'S'),\n",
       " ('amap03', 'C6M-C6L', 'B'),\n",
       " ('amap06', 'C6M-C6RM', 'B'),\n",
       " ('amap02', '-C7M', 'B'),\n",
       " ('amap03', '-C5M', 'S'),\n",
       " ('amap01', '-C7RM', 'B'),\n",
       " ('amap01', 'C6LL-C6L', 'B'),\n",
       " ('amap05', 'C6M-C6LL', 'B'),\n",
       " ('amap08', '-C6LM1', 'S'),\n",
       " ('amap02', 'C6LM-C6M', 'B'),\n",
       " ('amap02', '-C5M', 'B'),\n",
       " ('amap02', '-C5LM1', 'S'),\n",
       " ('amap07', 'C6M-C6LL', 'S'),\n",
       " ('amap01', '-C5M', 'S'),\n",
       " ('amap08', '-C5LM2', 'S'),\n",
       " ('amap08', 'C6LM-C6L', 'B'),\n",
       " ('amap04', '-C5M', 'S'),\n",
       " ('amap07', '-C6RM', 'B'),\n",
       " ('amap01', 'C5LM2-C6LL', 'S-B'),\n",
       " ('amap01', 'C7LM-C7RM', 'B'),\n",
       " ('amap04', '-C6M', 'B'),\n",
       " ('amap07', '-C5L', 'S'),\n",
       " ('amap03', 'C6M-C6RM', 'B'),\n",
       " ('amap01', 'C6R-C6RR', 'B'),\n",
       " ('amap01', 'C7LM-C7RR', 'B'),\n",
       " ('amap01', 'C7RM-C7R', 'B'),\n",
       " ('amap02', '-C5LL', 'S'),\n",
       " ('amap01', 'C5LM1-C5L', 'S'),\n",
       " ('amap04', 'C6M-C6RM', 'B'),\n",
       " ('amap03', 'C5LM2-C5LL', 'S'),\n",
       " ('amap07', 'C6L-C6LL', 'B'),\n",
       " ('amap07', '-C5LL', 'B'),\n",
       " ('amap01', 'C7M-C7RR', 'B'),\n",
       " ('amap04', 'C5LM1-C5L', 'S'),\n",
       " ('amap06', 'C6LM2-C6L', 'S'),\n",
       " ('amap04', '-C6LM1', 'S'),\n",
       " ('amap05', 'C5M-C5LL', 'B'),\n",
       " ('amap01', 'C7R-C7RR', 'B'),\n",
       " ('amap08', 'C6M-C6LM1', 'S'),\n",
       " ('amap08', 'C6R-C6RR', 'B'),\n",
       " ('amap03', '-C5LM1', 'S'),\n",
       " ('amap07', 'C6M-C6LL', 'B'),\n",
       " ('amap08', 'C5LM1-C5L', 'S'),\n",
       " ('amap02', '-C6RM', 'B'),\n",
       " ('amap03', '-C6M', 'B'),\n",
       " ('amap02', '-C5L', 'S'),\n",
       " ('amap08', 'C6RM-C6RR', 'B'),\n",
       " ('amap07', '-C5L', 'B'),\n",
       " ('amap03', 'C6LM2-C6L', 'S'),\n",
       " ('amap06', 'C6LM1-C6LL', 'S'),\n",
       " ('amap01', 'C6M-C6RM', 'B'),\n",
       " ('amap03', '-C5LL', 'S'),\n",
       " ('amap08', 'C6LM1-C6LL', 'S'),\n",
       " ('amap02', '-C5LL', 'B'),\n",
       " ('amap05', 'C6LM1-C6L', 'S'),\n",
       " ('amap04', 'C6LM2-C6L', 'S'),\n",
       " ('amap06', '-C6LM2', 'S'),\n",
       " ('amap05', 'C5M-C5LM2', 'S'),\n",
       " ('amap02', 'C5M-C6L', 'S-B'),\n",
       " ('amap06', 'C5M-C5LM1', 'S'),\n",
       " ('amap06', 'C5LM1-C5LL', 'S'),\n",
       " ('amap03', 'C6LM1-C6LL', 'S'),\n",
       " ('amap02', 'C6LM-C6RM', 'B'),\n",
       " ('amap06', '-C6L', 'S'),\n",
       " ('amap01', 'C7M-C7R', 'B'),\n",
       " ('amap05', '-C5LM1', 'S'),\n",
       " ('amap04', 'C6LM1-C6LL', 'S'),\n",
       " ('amap07', 'C5LM2-C5L', 'S'),\n",
       " ('amap05', 'C5LM2-C5L', 'S'),\n",
       " ('amap06', '-C6RR', 'B'),\n",
       " ('amap04', '-C6LL', 'S'),\n",
       " ('amap07', 'C5M-C5L', 'B'),\n",
       " ('amap06', 'C5LM2-C5LM1', 'S'),\n",
       " ('amap08', 'C6RM-C6R', 'B'),\n",
       " ('amap07', 'C6LM1-C6L', 'S'),\n",
       " ('amap02', 'C7LM-C7M', 'B'),\n",
       " ('amap03', 'C5LM1-C5LL', 'S'),\n",
       " ('amap04', '-C6LM2', 'S'),\n",
       " ('amap07', 'C5M-C5LL', 'B'),\n",
       " ('amap01', '-C7R', 'B'),\n",
       " ('amap08', 'C6LM2-C6LM1', 'S'),\n",
       " ('amap05', 'C6L-C6LL', 'S'),\n",
       " ('amap04', 'C5LM1-C5LL', 'S'),\n",
       " ('amap04', 'C5M-C5LM1', 'S'),\n",
       " ('amap06', 'C6M-C6LM2', 'S'),\n",
       " ('amap07', 'C5M-C5LM2', 'S'),\n",
       " ('amap08', 'C6M-C6R', 'B'),\n",
       " ('amap04', '-C6L', 'S'),\n",
       " ('amap06', 'C6M-C6L', 'S'),\n",
       " ('amap03', 'C5LM2-C5LM1', 'S'),\n",
       " ('amap08', '-C5L', 'B'),\n",
       " ('amap07', '-C5LM1', 'S'),\n",
       " ('amap04', '-C6RR', 'B'),\n",
       " ('amap05', '-C5M', 'B'),\n",
       " ('amap08', '-C6L', 'S'),\n",
       " ('amap05', '-C6M', 'B'),\n",
       " ('amap04', 'C5LM2-C5LM1', 'S'),\n",
       " ('amap03', 'C5M-C5LL', 'S'),\n",
       " ('amap04', '-C6LL', 'B'),\n",
       " ('amap03', '-C6LM2', 'S'),\n",
       " ('amap02', 'C7RM-C7RR', 'B'),\n",
       " ('amap05', '-C5LL', 'S'),\n",
       " ('amap01', 'C6M-C6R', 'B'),\n",
       " ('amap08', '-C6LL', 'S'),\n",
       " ('amap04', 'C6M-C6LM2', 'S'),\n",
       " ('amap03', 'C6M-C6L', 'S'),\n",
       " ('amap03', 'C5M-C5LM1', 'S'),\n",
       " ('amap06', 'C6R-C6RR', 'B'),\n",
       " ('amap01', '-C5LM', 'B'),\n",
       " ('amap03', '-C6L', 'S'),\n",
       " ('amap05', 'C5LM2-C5LL', 'S'),\n",
       " ('amap04', 'C6M-C6L', 'S'),\n",
       " ('amap07', 'C6M-C6RR', 'B'),\n",
       " ('amap08', 'C6M-C6LL', 'B'),\n",
       " ('amap02', '-C5M', 'S'),\n",
       " ('amap06', '-C5LM2', 'S'),\n",
       " ('amap02', 'C5LM2-C6LL', 'S-B'),\n",
       " ('amap03', '-C6RR', 'B'),\n",
       " ('amap02', 'C7LM-C7RM', 'B'),\n",
       " ('amap08', '-C5LM', 'B'),\n",
       " ('amap03', '-C6LL', 'B'),\n",
       " ('amap07', '-C5M', 'B'),\n",
       " ('amap07', '-C6M', 'B'),\n",
       " ('amap05', 'C5LM2-C5LM1', 'S'),\n",
       " ('amap03', 'C6M-C6LM2', 'S'),\n",
       " ('amap07', '-C5LL', 'S'),\n",
       " ('amap04', 'C6R-C6RR', 'B'),\n",
       " ('amap07', 'C6LM-C6LL', 'B'),\n",
       " ('amap08', '-C6R', 'B'),\n",
       " ('amap03', '-C5LM2', 'S'),\n",
       " ('amap05', 'C5M-C5LL', 'S'),\n",
       " ('amap02', 'C5LM2-C6L', 'S-B'),\n",
       " ('amap06', 'C5LM1-C5L', 'S'),\n",
       " ('amap06', '-C6LM1', 'S'),\n",
       " ('amap03', '-C6L', 'B'),\n",
       " ('amap06', 'C5L-C5LL', 'S'),\n",
       " ('amap07', 'C5LM2-C5LL', 'S'),\n",
       " ('amap04', '-C5LM2', 'S'),\n",
       " ('amap01', 'C7M-C7RM', 'B'),\n",
       " ('amap05', 'C5M-C5LM1', 'S'),\n",
       " ('amap08', 'C5L-C5LL', 'S'),\n",
       " ('amap01', 'C7LM-C7R', 'B'),\n",
       " ('amap03', '-C6M', 'S'),\n",
       " ('amap02', '-C6M', 'B'),\n",
       " ('amap06', 'C6RM-C6RR', 'B'),\n",
       " ('amap01', 'C5LM2-C5M', 'S'),\n",
       " ('amap05', 'C5M-C5L', 'S'),\n",
       " ('amap06', 'C6LM2-C6LL', 'S'),\n",
       " ('amap03', 'C6M-C6LM1', 'S'),\n",
       " ('amap03', '-C6LM1', 'S'),\n",
       " ('amap02', 'C7LM-C7RR', 'B'),\n",
       " ('amap08', 'C6LM1-C6L', 'S'),\n",
       " ('amap08', 'C6LM2-C6LL', 'S'),\n",
       " ('amap03', 'C6R-C6RR', 'B'),\n",
       " ('amap03', 'C5L-C5LL', 'S'),\n",
       " ('amap02', 'C6M-C6RM', 'B'),\n",
       " ('amap01', 'C5L-C5LL', 'S'),\n",
       " ('amap08', 'C6M-C6RR', 'B'),\n",
       " ('amap04', 'C5L-C5LL', 'S'),\n",
       " ('amap05', 'C5LM1-C5LL', 'S'),\n",
       " ('amap05', 'C6M-C6LM2', 'S'),\n",
       " ('amap01', 'C6LM-C6R', 'B'),\n",
       " ('amap01', '-C7LM', 'B'),\n",
       " ('amap04', 'C6LM2-C6LL', 'S'),\n",
       " ('amap08', '-C6LM', 'B'),\n",
       " ('amap07', 'C5LM2-C5LM1', 'S'),\n",
       " ('amap05', '-C6RR', 'B'),\n",
       " ('amap07', 'C5M-C5L', 'S'),\n",
       " ('amap01', 'C6M-C6RR', 'B'),\n",
       " ('amap06', 'C6LM2-C6LM1', 'S'),\n",
       " ('amap05', '-C6LL', 'B'),\n",
       " ('amap03', 'C5LM1-C5L', 'S'),\n",
       " ('amap06', '-C6LL', 'S'),\n",
       " ('amap07', 'C5M-C5LM', 'B'),\n",
       " ('amap07', 'C5M-C5LL', 'S'),\n",
       " ('amap02', 'C5LM1-C5LL', 'S'),\n",
       " ('amap07', '-C6LM2', 'S'),\n",
       " ('amap03', 'C6RM-C6RR', 'B'),\n",
       " ('amap05', '-C5LM2', 'S'),\n",
       " ('amap01', 'C6RM-C6RR', 'B'),\n",
       " ('amap01', '-C5L', 'S'),\n",
       " ('amap06', 'C6M-C6R', 'B'),\n",
       " ('amap01', '-C6LM', 'B'),\n",
       " ('amap04', 'C6RM-C6RR', 'B'),\n",
       " ('amap08', '-C5L', 'S'),\n",
       " ('amap07', '-C6L', 'B'),\n",
       " ('amap02', 'C5LM2-C5LM1', 'S'),\n",
       " ('amap02', 'C5M-C6LL', 'S-B'),\n",
       " ('amap01', '-C5LL', 'B'),\n",
       " ('amap05', '-C5M', 'S'),\n",
       " ('amap04', 'C6LM2-C6LM1', 'S'),\n",
       " ('amap05', '-C6M', 'S'),\n",
       " ('amap04', '-C5LL', 'B'),\n",
       " ('amap07', '-C6RR', 'B'),\n",
       " ('amap06', 'C6RM-C6R', 'B'),\n",
       " ('amap07', '-C6LL', 'B'),\n",
       " ('amap03', 'C6M-C6R', 'B'),\n",
       " ('amap05', 'C6M-C6LM1', 'S'),\n",
       " ('amap01', '-C6RM', 'B'),\n",
       " ('amap05', 'C6R-C6RR', 'B'),\n",
       " ('amap08', 'C6L-C6LL', 'B'),\n",
       " ('amap07', 'C6M-C6LM2', 'S'),\n",
       " ('amap04', 'C6M-C6R', 'B'),\n",
       " ('amap01', 'C6LM-C6RM', 'B'),\n",
       " ('amap05', 'C5LM1-C5L', 'S'),\n",
       " ('amap05', '-C6LM1', 'S'),\n",
       " ('amap07', '-C5LM2', 'S'),\n",
       " ('amap08', 'C6M-C6LL', 'S'),\n",
       " ('amap07', 'C6LM-C6L', 'B'),\n",
       " ('amap01', '-C5L', 'B'),\n",
       " ('amap03', 'C6RM-C6R', 'B'),\n",
       " ('amap02', '-C6L', 'B'),\n",
       " ('amap01', '-C7RR', 'B'),\n",
       " ('amap01', 'C6LM-C6RR', 'B'),\n",
       " ('amap08', '-C6RM', 'B'),\n",
       " ('amap07', 'C6M-C6L', 'B'),\n",
       " ('amap01', 'C6RM-C6R', 'B'),\n",
       " ('amap03', 'C6LM2-C6LM1', 'S'),\n",
       " ('amap02', '-C6RR', 'B'),\n",
       " ('amap08', 'C5M-C5L', 'S'),\n",
       " ('amap04', 'C6RM-C6R', 'B'),\n",
       " ('amap03', '-C6LL', 'S'),\n",
       " ('amap02', 'C5M-C5LM', 'B'),\n",
       " ('amap07', '-C5M', 'S'),\n",
       " ('amap07', '-C6M', 'S'),\n",
       " ('amap02', '-C6LL', 'B'),\n",
       " ('amap08', '-C5LL', 'B'),\n",
       " ('amap03', 'C6M-C6LL', 'B'),\n",
       " ('amap07', 'C6M-C6LM1', 'S'),\n",
       " ('amap05', 'C6M-C6RM', 'B'),\n",
       " ('amap06', '-C6R', 'B'),\n",
       " ('amap07', 'C6R-C6RR', 'B'),\n",
       " ('amap02', '-C5LM2', 'S'),\n",
       " ('amap02', '-C5LM', 'B'),\n",
       " ('amap07', 'C5LM1-C5L', 'S'),\n",
       " ('amap03', '-C5L', 'B'),\n",
       " ('amap07', '-C6LM1', 'S'),\n",
       " ('amap02', '-C7RM', 'B'),\n",
       " ('amap01', 'C7LM-C7M', 'B'),\n",
       " ('amap08', 'C5M-C5L', 'B'),\n",
       " ('amap01', 'C5M-C5LL', 'B'),\n",
       " ('amap06', 'C6LM1-C6L', 'S'),\n",
       " ('amap03', '-C6R', 'B'),\n",
       " ('amap05', 'C6LM1-C6LL', 'S'),\n",
       " ('amap01', '-C6R', 'B'),\n",
       " ('amap04', '-C6R', 'B'),\n",
       " ('amap05', 'C6LM2-C6L', 'S'),\n",
       " ('amap02', 'C6R-C6RR', 'B'),\n",
       " ('amap02', 'C7RM-C7R', 'B'),\n",
       " ('amap07', 'C6M-C6RM', 'B'),\n",
       " ('amap08', 'C5M-C5LL', 'B'),\n",
       " ('amap05', '-C6LM2', 'S'),\n",
       " ('amap03', 'C5M-C5L', 'B'),\n",
       " ('amap06', 'C6M-C6RR', 'B'),\n",
       " ('amap02', 'C7M-C7RR', 'B'),\n",
       " ('amap01', 'C5M-C5L', 'B'),\n",
       " ('amap06', '-C5LM1', 'S'),\n",
       " ('amap02', 'C7R-C7RR', 'B'),\n",
       " ('amap02', 'C6LL-C6L', 'B'),\n",
       " ('amap02', 'C6RM-C6RR', 'B'),\n",
       " ('amap02', 'C7M-C7RM', 'B'),\n",
       " ('amap06', 'C5LM2-C5L', 'S'),\n",
       " ('amap05', '-C6L', 'S'),\n",
       " ('amap08', '-C5M', 'S'),\n",
       " ('amap08', 'C5LM2-C5L', 'S'),\n",
       " ('amap05', 'C6LM2-C6LM1', 'S'),\n",
       " ('amap03', 'C6M-C6RR', 'B'),\n",
       " ('amap07', 'C6LM1-C6LL', 'S'),\n",
       " ('amap06', '-C5LL', 'S'),\n",
       " ('amap05', '-C6LL', 'S'),\n",
       " ('amap01', '-C7M', 'B'),\n",
       " ('amap08', 'C6LM-C6LL', 'B'),\n",
       " ('amap02', 'C5LM1-C5L', 'S'),\n",
       " ('amap07', 'C6LM2-C6L', 'S'),\n",
       " ('amap04', 'C6M-C6RR', 'B'),\n",
       " ('amap01', 'C6LM-C6M', 'B'),\n",
       " ('amap01', '-C5LM1', 'S'),\n",
       " ('amap03', 'C5LM2-C5L', 'S'),\n",
       " ('amap06', 'C5LM2-C5LL', 'S'),\n",
       " ('amap08', 'C5M-C5LM2', 'S'),\n",
       " ('amap04', '-C5LM1', 'S'),\n",
       " ('amap06', 'C6M-C6LL', 'S'),\n",
       " ('amap05', 'C6M-C6R', 'B'),\n",
       " ('amap02', '-C6LM', 'B'),\n",
       " ('amap01', 'C5LM2-C5L', 'S'),\n",
       " ('amap04', 'C5LM2-C5L', 'S'),\n",
       " ('amap01', '-C6M', 'B'),\n",
       " ('amap03', 'C6LM1-C6L', 'S'),\n",
       " ('amap03', 'C6LM2-C6LL', 'S'),\n",
       " ('amap06', '-C6RM', 'B'),\n",
       " ('amap07', 'C5M-C5LM1', 'S'),\n",
       " ('amap02', 'C6LM-C6R', 'B'),\n",
       " ('amap05', 'C6M-C6L', 'S'),\n",
       " ('amap06', '-C5L', 'S'),\n",
       " ('amap08', '-C5M', 'B'),\n",
       " ('amap08', '-C5LM1', 'S'),\n",
       " ('amap07', '-C6L', 'S'),\n",
       " ('amap01', '-C5LL', 'S'),\n",
       " ('amap04', 'C6LM1-C6L', 'S'),\n",
       " ('amap04', '-C5LL', 'S'),\n",
       " ('amap01', 'C5LM2-C6L', 'S-B'),\n",
       " ('amap07', 'C6LM2-C6LM1', 'S'),\n",
       " ('amap08', '-C6M', 'B'),\n",
       " ('amap08', 'C6M-C6RM', 'B'),\n",
       " ('amap07', '-C6LL', 'S'),\n",
       " ('amap02', '-C7R', 'B'),\n",
       " ('amap06', 'C6L-C6LL', 'S'),\n",
       " ('amap04', 'C5LM2-C5LL', 'S'),\n",
       " ('amap08', 'C6L-C6LL', 'S'),\n",
       " ('amap03', '-C5M', 'B'),\n",
       " ('amap04', 'C6M-C6LL', 'S'),\n",
       " ('amap08', 'C5LM2-C5LL', 'S'),\n",
       " ('amap01', '-C5M', 'B'),\n",
       " ('amap04', '-C6RM', 'B'),\n",
       " ('amap07', 'C5LM1-C5LL', 'S'),\n",
       " ('amap07', 'C6M-C6R', 'B'),\n",
       " ('amap04', '-C5M', 'B'),\n",
       " ('amap04', '-C5L', 'S'),\n",
       " ('amap02', 'C6LM-C6RR', 'B'),\n",
       " ('amap02', 'C6RM-C6R', 'B'),\n",
       " ('amap02', 'C7M-C7R', 'B'),\n",
       " ('amap07', 'C6M-C6L', 'S'),\n",
       " ('amap03', 'C6L-C6LL', 'S'),\n",
       " ('amap07', 'C6RM-C6R', 'B'),\n",
       " ('amap01', 'C5LM2-C5LL', 'S'),\n",
       " ('amap04', 'C6L-C6LL', 'S'),\n",
       " ('amap08', 'C6LM2-C6L', 'S'),\n",
       " ('amap06', 'C5M-C5LL', 'S'),\n",
       " ('amap08', '-C5LL', 'S'),\n",
       " ('amap03', 'C6M-C6LL', 'S'),\n",
       " ('amap05', '-C6R', 'B'),\n",
       " ('amap08', '-C6LM2', 'S'),\n",
       " ('amap03', '-C6RM', 'B'),\n",
       " ('amap02', 'C6M-C6R', 'B')]"
      ]
     },
     "execution_count": 3,
     "metadata": {},
     "output_type": "execute_result"
    }
   ],
   "source": [
    "combinations_no_response = [(c[0], c[1], c[2]) for c in combinations]\n",
    "combinations_no_response = list(set(combinations_no_response))\n",
    "\n",
    "responses = list(set([u[3] for u in combinations.keys()]))\n",
    "combinations_no_response\n"
   ]
  },
  {
   "cell_type": "code",
   "execution_count": 4,
   "metadata": {},
   "outputs": [],
   "source": [
    "arr = None\n",
    "\n",
    "for muscle in responses:\n",
    "    arr_muscle = None\n",
    "\n",
    "    for c in combinations_no_response:\n",
    "        a = combinations[(*c, muscle)][\"a\"]\n",
    "        a = a[:, 0, 0, 0, 0]\n",
    "\n",
    "        if arr_muscle is None:\n",
    "            arr_muscle = a[:, None]\n",
    "        else:\n",
    "            # concatenate now\n",
    "            arr_muscle = np.concatenate([arr_muscle, a[:, None]], axis=-1)\n",
    "\n",
    "    if arr is None:\n",
    "        arr = arr_muscle[:,:, None]\n",
    "\n",
    "    else:\n",
    "        arr = np.concatenate([arr, arr_muscle[:,:, None]], axis = -1)"
   ]
  },
  {
   "cell_type": "code",
   "execution_count": 5,
   "metadata": {},
   "outputs": [
    {
     "data": {
      "text/plain": [
       "(4000, 403, 6)"
      ]
     },
     "execution_count": 5,
     "metadata": {},
     "output_type": "execute_result"
    }
   ],
   "source": [
    "arr.shape"
   ]
  },
  {
   "cell_type": "code",
   "execution_count": 6,
   "metadata": {},
   "outputs": [],
   "source": [
    "ind = []\n",
    "\n",
    "for c in combinations_no_response:\n",
    "    if c == combinations_no_response[0]: \n",
    "        ind.append(True)\n",
    "    else:\n",
    "        ind.append(False)\n",
    "\n",
    "ind = np.array(ind)\n"
   ]
  },
  {
   "cell_type": "code",
   "execution_count": 7,
   "metadata": {},
   "outputs": [
    {
     "data": {
      "text/plain": [
       "(4000, 403, 6)"
      ]
     },
     "execution_count": 7,
     "metadata": {},
     "output_type": "execute_result"
    }
   ],
   "source": [
    "arr.shape"
   ]
  },
  {
   "cell_type": "code",
   "execution_count": 8,
   "metadata": {},
   "outputs": [],
   "source": [
    "ind = [\n",
    "    True for u in combinations_no_response if u == combinations_no_response[0]\n",
    "]\n",
    "\n",
    "\n",
    "mask = np.array([bool(re.search(r'.+-.+', s[1])) for s in combinations_no_response])\n",
    "filter_noGround = arr[:,mask,:]\n",
    "\n"
   ]
  },
  {
   "cell_type": "code",
   "execution_count": 9,
   "metadata": {},
   "outputs": [
    {
     "data": {
      "text/plain": [
       "(4000, 252, 6)"
      ]
     },
     "execution_count": 9,
     "metadata": {},
     "output_type": "execute_result"
    }
   ],
   "source": [
    "filter_noGround.shape"
   ]
  },
  {
   "cell_type": "code",
   "execution_count": 10,
   "metadata": {},
   "outputs": [
    {
     "ename": "ValueError",
     "evalue": "Array shapes are incompatible for broadcasting.",
     "output_type": "error",
     "traceback": [
      "\u001b[0;31m---------------------------------------------------------------------------\u001b[0m",
      "\u001b[0;31mValueError\u001b[0m                                Traceback (most recent call last)",
      "Cell \u001b[0;32mIn[10], line 11\u001b[0m\n\u001b[1;32m      9\u001b[0m m2 \u001b[38;5;241m=\u001b[39m np\u001b[38;5;241m.\u001b[39marray([\u001b[38;5;28mbool\u001b[39m(p \u001b[38;5;129;01min\u001b[39;00m s[\u001b[38;5;241m1\u001b[39m]) \u001b[38;5;28;01mfor\u001b[39;00m s \u001b[38;5;129;01min\u001b[39;00m combinations_no_response])\n\u001b[1;32m     10\u001b[0m comp_filt \u001b[38;5;241m=\u001b[39m arr[:,m2,:]\n\u001b[0;32m---> 11\u001b[0m ttest, pval \u001b[38;5;241m=\u001b[39m \u001b[43mstats\u001b[49m\u001b[38;5;241;43m.\u001b[39;49m\u001b[43mttest_ind\u001b[49m\u001b[43m(\u001b[49m\u001b[43mpos_filt\u001b[49m\u001b[43m,\u001b[49m\u001b[43m \u001b[49m\u001b[43mcomp_filt\u001b[49m\u001b[43m)\u001b[49m\n\u001b[1;32m     12\u001b[0m ttest_all\u001b[38;5;241m.\u001b[39mappend(ttest)\n\u001b[1;32m     13\u001b[0m pval_all\u001b[38;5;241m.\u001b[39mappend(pval)\n",
      "File \u001b[0;32m~/repos/rat-mapping-paper/.venv/lib/python3.11/site-packages/scipy/stats/_axis_nan_policy.py:483\u001b[0m, in \u001b[0;36m_axis_nan_policy_factory.<locals>.axis_nan_policy_decorator.<locals>.axis_nan_policy_wrapper\u001b[0;34m(***failed resolving arguments***)\u001b[0m\n\u001b[1;32m    481\u001b[0m     samples \u001b[38;5;241m=\u001b[39m [np\u001b[38;5;241m.\u001b[39masarray(sample\u001b[38;5;241m.\u001b[39mravel()) \u001b[38;5;28;01mfor\u001b[39;00m sample \u001b[38;5;129;01min\u001b[39;00m samples]\n\u001b[1;32m    482\u001b[0m \u001b[38;5;28;01melse\u001b[39;00m:\n\u001b[0;32m--> 483\u001b[0m     samples \u001b[38;5;241m=\u001b[39m \u001b[43m_broadcast_arrays\u001b[49m\u001b[43m(\u001b[49m\u001b[43msamples\u001b[49m\u001b[43m,\u001b[49m\u001b[43m \u001b[49m\u001b[43maxis\u001b[49m\u001b[38;5;241;43m=\u001b[39;49m\u001b[43maxis\u001b[49m\u001b[43m)\u001b[49m\n\u001b[1;32m    484\u001b[0m     axis \u001b[38;5;241m=\u001b[39m np\u001b[38;5;241m.\u001b[39matleast_1d(axis)\n\u001b[1;32m    485\u001b[0m     n_axes \u001b[38;5;241m=\u001b[39m \u001b[38;5;28mlen\u001b[39m(axis)\n",
      "File \u001b[0;32m~/repos/rat-mapping-paper/.venv/lib/python3.11/site-packages/scipy/stats/_axis_nan_policy.py:18\u001b[0m, in \u001b[0;36m_broadcast_arrays\u001b[0;34m(arrays, axis)\u001b[0m\n\u001b[1;32m     14\u001b[0m \u001b[38;5;28;01mdef\u001b[39;00m \u001b[38;5;21m_broadcast_arrays\u001b[39m(arrays, axis\u001b[38;5;241m=\u001b[39m\u001b[38;5;28;01mNone\u001b[39;00m):\n\u001b[1;32m     15\u001b[0m \u001b[38;5;250m    \u001b[39m\u001b[38;5;124;03m\"\"\"\u001b[39;00m\n\u001b[1;32m     16\u001b[0m \u001b[38;5;124;03m    Broadcast shapes of arrays, ignoring incompatibility of specified axes\u001b[39;00m\n\u001b[1;32m     17\u001b[0m \u001b[38;5;124;03m    \"\"\"\u001b[39;00m\n\u001b[0;32m---> 18\u001b[0m     new_shapes \u001b[38;5;241m=\u001b[39m \u001b[43m_broadcast_array_shapes\u001b[49m\u001b[43m(\u001b[49m\u001b[43marrays\u001b[49m\u001b[43m,\u001b[49m\u001b[43m \u001b[49m\u001b[43maxis\u001b[49m\u001b[38;5;241;43m=\u001b[39;49m\u001b[43maxis\u001b[49m\u001b[43m)\u001b[49m\n\u001b[1;32m     19\u001b[0m     \u001b[38;5;28;01mif\u001b[39;00m axis \u001b[38;5;129;01mis\u001b[39;00m \u001b[38;5;28;01mNone\u001b[39;00m:\n\u001b[1;32m     20\u001b[0m         new_shapes \u001b[38;5;241m=\u001b[39m [new_shapes]\u001b[38;5;241m*\u001b[39m\u001b[38;5;28mlen\u001b[39m(arrays)\n",
      "File \u001b[0;32m~/repos/rat-mapping-paper/.venv/lib/python3.11/site-packages/scipy/stats/_axis_nan_policy.py:30\u001b[0m, in \u001b[0;36m_broadcast_array_shapes\u001b[0;34m(arrays, axis)\u001b[0m\n\u001b[1;32m     26\u001b[0m \u001b[38;5;250m\u001b[39m\u001b[38;5;124;03m\"\"\"\u001b[39;00m\n\u001b[1;32m     27\u001b[0m \u001b[38;5;124;03mBroadcast shapes of arrays, ignoring incompatibility of specified axes\u001b[39;00m\n\u001b[1;32m     28\u001b[0m \u001b[38;5;124;03m\"\"\"\u001b[39;00m\n\u001b[1;32m     29\u001b[0m shapes \u001b[38;5;241m=\u001b[39m [np\u001b[38;5;241m.\u001b[39masarray(arr)\u001b[38;5;241m.\u001b[39mshape \u001b[38;5;28;01mfor\u001b[39;00m arr \u001b[38;5;129;01min\u001b[39;00m arrays]\n\u001b[0;32m---> 30\u001b[0m \u001b[38;5;28;01mreturn\u001b[39;00m \u001b[43m_broadcast_shapes\u001b[49m\u001b[43m(\u001b[49m\u001b[43mshapes\u001b[49m\u001b[43m,\u001b[49m\u001b[43m \u001b[49m\u001b[43maxis\u001b[49m\u001b[43m)\u001b[49m\n",
      "File \u001b[0;32m~/repos/rat-mapping-paper/.venv/lib/python3.11/site-packages/scipy/stats/_axis_nan_policy.py:81\u001b[0m, in \u001b[0;36m_broadcast_shapes\u001b[0;34m(shapes, axis)\u001b[0m\n\u001b[1;32m     77\u001b[0m \u001b[38;5;66;03m# Among all arrays, there can only be one unique non-1 shape element.\u001b[39;00m\n\u001b[1;32m     78\u001b[0m \u001b[38;5;66;03m# Therefore, if any non-1 shape element does not match what we found\u001b[39;00m\n\u001b[1;32m     79\u001b[0m \u001b[38;5;66;03m# above, the arrays must not be broadcastable after all.\u001b[39;00m\n\u001b[1;32m     80\u001b[0m \u001b[38;5;28;01mif\u001b[39;00m np\u001b[38;5;241m.\u001b[39many(\u001b[38;5;241m~\u001b[39m((new_shapes \u001b[38;5;241m==\u001b[39m \u001b[38;5;241m1\u001b[39m) \u001b[38;5;241m|\u001b[39m (new_shapes \u001b[38;5;241m==\u001b[39m new_shape))):\n\u001b[0;32m---> 81\u001b[0m     \u001b[38;5;28;01mraise\u001b[39;00m \u001b[38;5;167;01mValueError\u001b[39;00m(\u001b[38;5;124m\"\u001b[39m\u001b[38;5;124mArray shapes are incompatible for broadcasting.\u001b[39m\u001b[38;5;124m\"\u001b[39m)\n\u001b[1;32m     83\u001b[0m \u001b[38;5;28;01mif\u001b[39;00m axis \u001b[38;5;129;01mis\u001b[39;00m \u001b[38;5;129;01mnot\u001b[39;00m \u001b[38;5;28;01mNone\u001b[39;00m:\n\u001b[1;32m     84\u001b[0m     \u001b[38;5;66;03m# Add back the shape elements that were ignored\u001b[39;00m\n\u001b[1;32m     85\u001b[0m     new_axis \u001b[38;5;241m=\u001b[39m axis \u001b[38;5;241m-\u001b[39m np\u001b[38;5;241m.\u001b[39marange(\u001b[38;5;28mlen\u001b[39m(axis))\n",
      "\u001b[0;31mValueError\u001b[0m: Array shapes are incompatible for broadcasting."
     ]
    }
   ],
   "source": [
    "# def des_pos(pos):\n",
    "positions = list(set([c[1] for c in combinations_no_response]))\n",
    "mask = np.array([bool(\"-C6R\" in s[1]) for s in combinations_no_response])\n",
    "pos_filt = arr[:,mask,:]\n",
    "ttest_all = []\n",
    "pval_all = []\n",
    "m2 = []\n",
    "for p in positions:\n",
    "    m2 = np.array([bool(p in s[1]) for s in combinations_no_response])\n",
    "    comp_filt = arr[:,m2,:]\n",
    "    ttest, pval = stats.ttest_ind(pos_filt, comp_filt)\n",
    "    ttest_all.append(ttest)\n",
    "    pval_all.append(pval)\n"
   ]
  },
  {
   "cell_type": "code",
   "execution_count": null,
   "metadata": {},
   "outputs": [],
   "source": [
    "positions = list(set([c[1] for c in combinations_no_response]))\n",
    "mask = np.array([bool(s[1].split(\"-\")[0][2:] == \"M\" and s[1].split(\"-\")[1][2:] == \"LL\") for s in combinations_no_response])\n",
    "pos_filt = arr[:,mask,:]\n",
    "pos_filt = pos_filt.mean(axis = 0).reshape(-1,)\n",
    "ttest_all = []\n",
    "pval_all = []\n",
    "m2 = []\n",
    "\n",
    "b = np.array([bool(s[2] == \"B\" ) for s in combinations_no_response])\n",
    "s = np.array([bool(s[2] == \"S\" ) for s in combinations_no_response])\n",
    "big = arr[:,b,:] \n",
    "small = arr[:,s,:]\n",
    "\n",
    "for p in positions:\n",
    "    m2 = np.array([bool(p in s[1]) for s in combinations_no_response])\n",
    "    comp_filt = arr[:,m2,:]\n",
    "    comp_filt = comp_filt.mean(axis = 0).reshape(-1,)\n",
    "    ttest, pval = stats.ttest_ind(pos_filt, comp_filt)\n",
    "    ttest_all.append(ttest)\n",
    "    pval_all.append(pval)"
   ]
  },
  {
   "cell_type": "code",
   "execution_count": null,
   "metadata": {},
   "outputs": [
    {
     "data": {
      "text/plain": [
       "{'-C5L',\n",
       " '-C5LL',\n",
       " '-C5LM',\n",
       " '-C5LM1',\n",
       " '-C5LM2',\n",
       " '-C5M',\n",
       " '-C6L',\n",
       " '-C6LL',\n",
       " '-C6LM',\n",
       " '-C6LM1',\n",
       " '-C6LM2',\n",
       " '-C6M',\n",
       " '-C6R',\n",
       " '-C6RM',\n",
       " '-C6RR',\n",
       " '-C7LM',\n",
       " '-C7M',\n",
       " '-C7R',\n",
       " '-C7RM',\n",
       " '-C7RR',\n",
       " 'C5L-C5LL',\n",
       " 'C5LM1-C5L',\n",
       " 'C5LM1-C5LL',\n",
       " 'C5LM2-C5L',\n",
       " 'C5LM2-C5LL',\n",
       " 'C5LM2-C5LM1',\n",
       " 'C5LM2-C5M',\n",
       " 'C5LM2-C6L',\n",
       " 'C5LM2-C6LL',\n",
       " 'C5M-C5L',\n",
       " 'C5M-C5LL',\n",
       " 'C5M-C5LM',\n",
       " 'C5M-C5LM1',\n",
       " 'C5M-C5LM2',\n",
       " 'C5M-C6L',\n",
       " 'C5M-C6LL',\n",
       " 'C6L-C6LL',\n",
       " 'C6LL-C6L',\n",
       " 'C6LM-C6L',\n",
       " 'C6LM-C6LL',\n",
       " 'C6LM-C6M',\n",
       " 'C6LM-C6R',\n",
       " 'C6LM-C6RM',\n",
       " 'C6LM-C6RR',\n",
       " 'C6LM1-C6L',\n",
       " 'C6LM1-C6LL',\n",
       " 'C6LM2-C6L',\n",
       " 'C6LM2-C6LL',\n",
       " 'C6LM2-C6LM1',\n",
       " 'C6M-C6L',\n",
       " 'C6M-C6LL',\n",
       " 'C6M-C6LM',\n",
       " 'C6M-C6LM1',\n",
       " 'C6M-C6LM2',\n",
       " 'C6M-C6R',\n",
       " 'C6M-C6RM',\n",
       " 'C6M-C6RR',\n",
       " 'C6R-C6RR',\n",
       " 'C6RM-C6R',\n",
       " 'C6RM-C6RR',\n",
       " 'C7LM-C7M',\n",
       " 'C7LM-C7R',\n",
       " 'C7LM-C7RM',\n",
       " 'C7LM-C7RR',\n",
       " 'C7M-C7R',\n",
       " 'C7M-C7RM',\n",
       " 'C7M-C7RR',\n",
       " 'C7R-C7RR',\n",
       " 'C7RM-C7R',\n",
       " 'C7RM-C7RR'}"
      ]
     },
     "execution_count": 11,
     "metadata": {},
     "output_type": "execute_result"
    }
   ],
   "source": [
    "set([k[1] for k in combinations.keys()])"
   ]
  },
  {
   "cell_type": "code",
   "execution_count": null,
   "metadata": {},
   "outputs": [],
   "source": [
    "dictBool = {}\n",
    "\n",
    "dictBool[('LL', 'S')] = np.array([bool(re.search(r'.+-', s[1]) and s[1].split(\"-\")[1][2:] == \"LL\" and s[2] == \"S\") for s in combinations_no_response])\n",
    "dictBool[('L', 'S')]  = np.array([bool(re.search(r'.+-', s[1]) and s[1].split(\"-\")[1][2:] == \"L\" and s[2] == \"S\") for s in combinations_no_response])\n",
    "dictBool[('LM1', 'S')]  = np.array([bool(re.search(r'.+-', s[1]) and s[1].split(\"-\")[1][2:] == \"LM1\" and s[2] == \"S\") for s in combinations_no_response])\n",
    "dictBool[('LM2', 'S')]  = np.array([bool(re.search(r'.+-', s[1]) and s[1].split(\"-\")[1][2:] == \"LM2\" and s[2] == \"S\") for s in combinations_no_response])\n",
    "dictBool[('M', 'S')]  = np.array([bool(re.search(r'.+-', s[1]) and s[1].split(\"-\")[1][2:] == \"M\" and s[2] == \"S\") for s in combinations_no_response])\n",
    "dictBool[('LL', 'B')]  = np.array([bool(re.search(r'.+-', s[1]) and s[1].split(\"-\")[1][2:] == \"LL\" and s[2] == \"B\") for s in combinations_no_response])\n",
    "dictBool[('L', 'B')] = np.array([bool(re.search(r'.+-', s[1]) and s[1].split(\"-\")[1][2:] == \"L\" and s[2] == \"B\") for s in combinations_no_response])\n",
    "dictBool[('LM', 'B')] = np.array([bool(re.search(r'.+-', s[1]) and s[1].split(\"-\")[1][2:] == \"LM\" and s[2] == \"B\") for s in combinations_no_response])\n",
    "dictBool[('M', 'B')] = np.array([bool(re.search(r'.+-', s[1]) and s[1].split(\"-\")[1][2:] == \"M\" and s[2] == \"B\") for s in combinations_no_response])\n"
   ]
  },
  {
   "cell_type": "code",
   "execution_count": null,
   "metadata": {},
   "outputs": [],
   "source": [
    "#BIG V SMALL\n",
    "\n",
    "def bvs(pos, which):\n",
    "    for k,v in dictBool.items():\n",
    "        value = []\n",
    "        if pos == \"LM1\" and k[0] == pos:\n",
    "                S = arr[:,v,:].mean(axis = 0).reshape(-1,)\n",
    "                for k1, v1 in dictBool.items():\n",
    "                    if k1[1] == \"B\" and k1[0] == \"LM\":\n",
    "                        B = arr[:,v1,:].mean(axis = 0).reshape(-1,)\n",
    "                        tbvs, pbvs = stats.ttest_ind(B,S, alternative=\"less\")\n",
    "                        if pbvs < 0.05:\n",
    "                            value.append(f\"{k1} is more effective than {k} (p = {pbvs})\")\n",
    "                        else: value.append(f\"No significant difference for {k1} vs {k} (p = {pbvs})\")\n",
    "                    else: pass\n",
    "                return value\n",
    "        \n",
    "        elif which == \"S\":\n",
    "            if k[0] == pos and k[1] == which:\n",
    "                tar = arr[:,v,:]\n",
    "                for k1,v1 in dictBool.items():\n",
    "                    if k1[0] != pos and k1[1] == which:\n",
    "                        a1 = arr[:,v,:].mean(axis = 0).reshape(-1,)\n",
    "                        a2 = arr[:,v1,:] .mean(axis = 0).reshape(-1,)\n",
    "                        tbvs, pbvs = stats.ttest_ind(a1,a2, alternative=\"less\")\n",
    "                        if pbvs < 0.05:\n",
    "                            value.append(f\"{k} is more effective than {k1} (p = {pbvs})\")\n",
    "                        else: value.append(f\"No significant difference for {k} vs {k1} (p = {pbvs})\")\n",
    "                return value\n",
    "\n",
    "        if which == \"B\":\n",
    "            if k[0] == pos and k[1] == which:\n",
    "                tar = arr[:,v,:]\n",
    "                for k1,v1 in dictBool.items():\n",
    "                    if k1[0] != pos and k1[1] == \"B\":\n",
    "                        a1 = arr[:,v,:].mean(axis = 0).reshape(-1,)\n",
    "                        a2 = arr[:,v1,:] .mean(axis = 0).reshape(-1,)\n",
    "                        tbvs, pbvs = stats.ttest_ind(a1,a2, alternative=\"less\")\n",
    "                        if pbvs < 0.05:\n",
    "                            value.append(f\"{k} is more effective than {k1} (p = {pbvs})\")\n",
    "                        else: value.append(f\"No significant difference for {k} vs {k1} (p = {pbvs})\")            \n",
    "                return value\n",
    "        \n",
    "\n",
    "        if which == \"C\" and k[0] == pos and k[1] == \"B\":\n",
    "            B = arr[:,v,:].mean(axis = 0).reshape(-1,)\n",
    "            for k1, v1 in dictBool.items():\n",
    "                if k1[1] == \"S\":\n",
    "                    S = arr[:,v1,:].mean(axis = 0).reshape(-1,)\n",
    "                    tbvs, pbvs = stats.ttest_ind(B,S, alternative=\"less\")\n",
    "                    if pbvs < 0.05:\n",
    "                        value.append(f\"{k} is more effective than {k1} (p = {pbvs})\")\n",
    "                    else: value.append(f\"No significant difference for {k} vs {k1} (p = {pbvs})\")\n",
    "                else: pass\n",
    "            return value\n",
    "\n",
    "    return value\n",
    "        \n"
   ]
  },
  {
   "cell_type": "code",
   "execution_count": null,
   "metadata": {},
   "outputs": [
    {
     "data": {
      "text/plain": [
       "[(('LL', 'B'),\n",
       "  array([264.40417776, 467.06206121, 346.04692723, 300.46342753,\n",
       "         359.87656757, 329.06335282, 213.39713513,  31.22251554,\n",
       "         276.49040866,  36.0255197 , 335.50643072, 227.10614353,\n",
       "           4.06515395,  35.36949324,  26.07359311,  39.01212246,\n",
       "           4.89788716,  11.74714148,  60.32123002,  87.8865519 ,\n",
       "          30.62194698,  21.47773727,  33.86850966,  50.63043115,\n",
       "         374.92241303, 537.01194164, 520.43190336, 655.77448519,\n",
       "         382.87681283, 435.70211516, 128.54175969, 121.13111031,\n",
       "          56.54138437,  55.44290908,  61.60672379,  58.20256493,\n",
       "         203.25927669,  52.02457113, 218.0570508 ,  46.7571204 ,\n",
       "         317.95354503, 213.7579201 , 284.21351861, 120.78116726,\n",
       "         172.87112921,  53.67934554, 245.11737067, 235.55995774,\n",
       "          93.60436179, 148.15813628, 117.39034302, 124.0616805 ,\n",
       "          98.20155048,  80.50772726,  97.30114101, 151.69172808,\n",
       "         119.00392249, 130.15657873, 106.29204131,  99.12993903,\n",
       "          35.41738953,  72.2712055 ,  38.98777038,  44.24590002,\n",
       "          25.69481006,  25.52801333,  65.89422716, 164.25605724,\n",
       "          72.67935221,  51.70816877,  74.83817511,  51.53306598,\n",
       "         168.22906774, 154.84319053, 116.3585585 , 173.60582127,\n",
       "         182.92082007, 179.43128386,  13.3666129 ,  90.52519227,\n",
       "          25.50094925,  21.01088403,  24.7586422 ,  12.77664209,\n",
       "         103.8911574 , 476.04003988,  39.78787635,  62.31960358,\n",
       "          74.23101292,  88.18786628, 110.99665044,  63.25692114,\n",
       "          22.07984214,  38.83451468,  22.49690286,  81.65397862])),\n",
       " (('LL', 'S'),\n",
       "  array([148.65441508,  90.20294894,  62.68448663,  31.43852406,\n",
       "          42.90675095,  41.95724643, 466.56135875, 131.80153307,\n",
       "          93.05208353, 120.6370164 , 423.130309  ,  72.82293045,\n",
       "         111.90733333, 135.73511935,  68.29220039, 121.6667733 ,\n",
       "         110.32448998,  83.43611115, 307.78205122, 223.49499147,\n",
       "         314.63733062, 179.27811939, 195.67815881, 254.94786991,\n",
       "         206.43042619, 256.10039999, 134.7685076 , 125.10299838,\n",
       "         289.10904337, 226.83586894, 269.63543059, 148.55315034,\n",
       "          83.06890029, 199.43919041, 450.2880885 ,  96.45539494,\n",
       "         139.82187732,  34.47098576,  33.71879084,  16.34099221,\n",
       "          22.40569296,  15.7403621 , 465.41955711,  79.8165262 ,\n",
       "          82.60534884, 107.59111308, 149.22756523,  50.50519607,\n",
       "          85.55494691,  94.96709107, 104.83677205,  77.41582055,\n",
       "         109.4545959 ,  81.88175013, 348.35645902,  68.0220394 ,\n",
       "         331.7622838 ,  69.14672303, 248.29103288, 285.20003517,\n",
       "         275.50148665, 595.93507657, 477.66385045, 357.69459974,\n",
       "         428.31199081, 259.39242816,  45.29314093, 355.95880655,\n",
       "          24.93856232,  20.3388665 , 251.58266854, 106.73448681,\n",
       "          50.46122578, 265.92890583,  34.42946478,  32.81251156,\n",
       "         296.13055455,  39.72249149, 111.82036818, 411.61482969,\n",
       "          78.07805523,  80.78141356, 371.06445467,  51.73458742,\n",
       "         279.06344307, 593.86368268, 394.5353007 , 323.80865516,\n",
       "         208.11341509, 350.45888704, 239.22697473, 275.2278356 ,\n",
       "         295.41857328, 101.66518912,  57.98217352, 203.45987301,\n",
       "         223.3588268 , 179.59646837,  91.59872993,  66.80703492,\n",
       "         118.24844617,  94.89671051, 141.34827114, 532.68620884,\n",
       "         106.28700236, 164.53846123, 236.49728767, 194.48119626,\n",
       "         275.42836092, 427.19044931, 238.15325867, 274.90745948,\n",
       "         372.65897309, 226.4934118 , 637.48147788, 722.80169654,\n",
       "         657.45878434, 643.99649484, 642.73613506, 572.2454126 ,\n",
       "          50.18566809,  65.5107918 ,  38.80338608,  19.51819991,\n",
       "          26.69637461,  13.18592971, 336.69078875, 122.06613204,\n",
       "         255.48933088, 257.56955284, 349.12673597, 251.54043109,\n",
       "         315.34031336,  80.77384604, 348.33443325, 331.20735447,\n",
       "         382.02742229, 330.46057944,  33.86094353,  50.96279876,\n",
       "          38.98323625,  53.04471937,  33.23122355, 218.28487301,\n",
       "         156.90728148, 416.14084785, 140.58178872, 189.31434175,\n",
       "         361.05896559, 134.13857324, 151.66402985, 428.79114084,\n",
       "         153.74130625, 158.67047011, 246.00115864, 144.56452532,\n",
       "         414.66921705, 530.97622135, 474.82300883, 378.53038951,\n",
       "         441.59939343, 282.84522603, 449.07787834,  60.63451519,\n",
       "          46.72281927,  71.40708367, 228.49880081,  39.77888022,\n",
       "         270.78291259, 466.05210997, 303.11638434, 308.73429179,\n",
       "         236.80510395, 318.88926406, 159.90923315, 137.97632096,\n",
       "          89.81778796,  94.06450593,  88.69492565,  72.38256195,\n",
       "          47.74680495,  66.79340153,  47.20118108,  64.25427675,\n",
       "          35.35572684,  25.47121743, 206.91689844,  56.29245113,\n",
       "          59.38870848,  76.50124068, 175.66858366, 205.53992554,\n",
       "         143.18897661, 135.72656894, 207.73705036, 120.83675198,\n",
       "         151.7225239 , 161.86635243, 741.7878324 , 508.87703008,\n",
       "         616.93339793, 466.99857993, 741.99961513, 531.02936097,\n",
       "          47.0053716 ,  52.24252473,  41.70895908,  50.99375517,\n",
       "          19.95525174, 279.42981696, 226.17415737,  45.26059401,\n",
       "          59.18186733,  59.20700283,  73.65447458,  33.84972894,\n",
       "         234.20559498, 210.73837643, 203.77036683, 217.0186854 ,\n",
       "         262.13586657, 230.19340548, 438.92798392,  55.99184661,\n",
       "         345.70334487, 453.45291916, 415.63843803, 413.17700216,\n",
       "         339.84117807, 321.62796486, 359.84933476, 215.73865065,\n",
       "         356.74172259, 362.66902208, 275.38352868, 173.33210648,\n",
       "         376.36229966, 294.11544013, 297.3984416 , 313.40262706,\n",
       "         528.89665489, 209.43661618, 669.52609774, 336.49988011,\n",
       "         451.18948734, 452.27569522, 156.82107795,  98.96904544,\n",
       "         248.30915386,  92.54657947, 262.36143922,  95.9399813 ,\n",
       "         151.68489967, 330.89972949, 160.74187866, 134.36397661,\n",
       "         208.92866479, 119.02532501, 383.10555298, 655.18421463,\n",
       "         511.17426012, 331.29704435, 514.05634367, 239.76089726,\n",
       "         413.52688481, 356.2620693 , 553.76894741, 422.17310714,\n",
       "         306.63974561, 541.22626816, 288.84692628, 171.85763635,\n",
       "         303.68266426, 299.48636756, 237.07321051, 203.20896752,\n",
       "         475.21770283, 202.68817765, 485.03650736, 359.24581958,\n",
       "         511.82904223, 453.5524169 , 194.23094616, 231.40970615,\n",
       "         638.2243035 , 705.26694894, 361.56194703, 361.79467916,\n",
       "          56.97198921, 402.46599048,  56.39321564,  24.66419368,\n",
       "         328.76837336,  84.89950042, 396.67856531,  52.12491013,\n",
       "          38.78213126,  51.18631908, 368.48685093,  16.01838827,\n",
       "         465.61495007, 123.18580825, 125.00960681, 145.7831247 ,\n",
       "         252.86096827, 117.36733371, 130.00290087, 344.74383407,\n",
       "         159.22008093, 123.00000984, 124.30089127, 123.11159717,\n",
       "         664.8580597 , 669.6043815 , 656.09265335, 645.02706294,\n",
       "         645.63119131, 563.20774609, 319.24470938, 696.90342457,\n",
       "         656.99706788, 633.1387873 , 272.79135645, 657.9851231 ]))]"
      ]
     },
     "execution_count": 31,
     "metadata": {},
     "output_type": "execute_result"
    }
   ],
   "source": [
    "#this is one sided t test\n",
    "a, q = bvs('LL', 'C')\n",
    "q\n"
   ]
  },
  {
   "cell_type": "markdown",
   "metadata": {},
   "source": []
  },
  {
   "cell_type": "code",
   "execution_count": null,
   "metadata": {},
   "outputs": [],
   "source": [
    "p = [p[0] for p in dictBool.keys()]\n",
    "mydict = {}\n",
    "\n",
    "for val in p:\n",
    "    small = bvs(val, \"S\")\n",
    "    big = bvs(val,\"B\")\n",
    "    mydict[val, \"S\"] = small\n",
    "    mydict[val, \"B\"] = big\n",
    "    combo= bvs(val,\"C\")\n",
    "    mydict[val, \"Big vs Small\"] = combo\n"
   ]
  },
  {
   "cell_type": "code",
   "execution_count": null,
   "metadata": {},
   "outputs": [
    {
     "data": {
      "text/plain": [
       "[(('M', 'S'),\n",
       "  array([232.40604696, 434.24463775, 228.93739997, 374.26399181,\n",
       "         390.9087966 , 230.37812821, 112.75861865,  61.24262269,\n",
       "          64.04186662,  36.27853084,  36.53236929,  33.61182677])),\n",
       " (('LL', 'S'),\n",
       "  array([148.65441508,  90.20294894,  62.68448663,  31.43852406,\n",
       "          42.90675095,  41.95724643, 466.56135875, 131.80153307,\n",
       "          93.05208353, 120.6370164 , 423.130309  ,  72.82293045,\n",
       "         111.90733333, 135.73511935,  68.29220039, 121.6667733 ,\n",
       "         110.32448998,  83.43611115, 307.78205122, 223.49499147,\n",
       "         314.63733062, 179.27811939, 195.67815881, 254.94786991,\n",
       "         206.43042619, 256.10039999, 134.7685076 , 125.10299838,\n",
       "         289.10904337, 226.83586894, 269.63543059, 148.55315034,\n",
       "          83.06890029, 199.43919041, 450.2880885 ,  96.45539494,\n",
       "         139.82187732,  34.47098576,  33.71879084,  16.34099221,\n",
       "          22.40569296,  15.7403621 , 465.41955711,  79.8165262 ,\n",
       "          82.60534884, 107.59111308, 149.22756523,  50.50519607,\n",
       "          85.55494691,  94.96709107, 104.83677205,  77.41582055,\n",
       "         109.4545959 ,  81.88175013, 348.35645902,  68.0220394 ,\n",
       "         331.7622838 ,  69.14672303, 248.29103288, 285.20003517,\n",
       "         275.50148665, 595.93507657, 477.66385045, 357.69459974,\n",
       "         428.31199081, 259.39242816,  45.29314093, 355.95880655,\n",
       "          24.93856232,  20.3388665 , 251.58266854, 106.73448681,\n",
       "          50.46122578, 265.92890583,  34.42946478,  32.81251156,\n",
       "         296.13055455,  39.72249149, 111.82036818, 411.61482969,\n",
       "          78.07805523,  80.78141356, 371.06445467,  51.73458742,\n",
       "         279.06344307, 593.86368268, 394.5353007 , 323.80865516,\n",
       "         208.11341509, 350.45888704, 239.22697473, 275.2278356 ,\n",
       "         295.41857328, 101.66518912,  57.98217352, 203.45987301,\n",
       "         223.3588268 , 179.59646837,  91.59872993,  66.80703492,\n",
       "         118.24844617,  94.89671051, 141.34827114, 532.68620884,\n",
       "         106.28700236, 164.53846123, 236.49728767, 194.48119626,\n",
       "         275.42836092, 427.19044931, 238.15325867, 274.90745948,\n",
       "         372.65897309, 226.4934118 , 637.48147788, 722.80169654,\n",
       "         657.45878434, 643.99649484, 642.73613506, 572.2454126 ,\n",
       "          50.18566809,  65.5107918 ,  38.80338608,  19.51819991,\n",
       "          26.69637461,  13.18592971, 336.69078875, 122.06613204,\n",
       "         255.48933088, 257.56955284, 349.12673597, 251.54043109,\n",
       "         315.34031336,  80.77384604, 348.33443325, 331.20735447,\n",
       "         382.02742229, 330.46057944,  33.86094353,  50.96279876,\n",
       "          38.98323625,  53.04471937,  33.23122355, 218.28487301,\n",
       "         156.90728148, 416.14084785, 140.58178872, 189.31434175,\n",
       "         361.05896559, 134.13857324, 151.66402985, 428.79114084,\n",
       "         153.74130625, 158.67047011, 246.00115864, 144.56452532,\n",
       "         414.66921705, 530.97622135, 474.82300883, 378.53038951,\n",
       "         441.59939343, 282.84522603, 449.07787834,  60.63451519,\n",
       "          46.72281927,  71.40708367, 228.49880081,  39.77888022,\n",
       "         270.78291259, 466.05210997, 303.11638434, 308.73429179,\n",
       "         236.80510395, 318.88926406, 159.90923315, 137.97632096,\n",
       "          89.81778796,  94.06450593,  88.69492565,  72.38256195,\n",
       "          47.74680495,  66.79340153,  47.20118108,  64.25427675,\n",
       "          35.35572684,  25.47121743, 206.91689844,  56.29245113,\n",
       "          59.38870848,  76.50124068, 175.66858366, 205.53992554,\n",
       "         143.18897661, 135.72656894, 207.73705036, 120.83675198,\n",
       "         151.7225239 , 161.86635243, 741.7878324 , 508.87703008,\n",
       "         616.93339793, 466.99857993, 741.99961513, 531.02936097,\n",
       "          47.0053716 ,  52.24252473,  41.70895908,  50.99375517,\n",
       "          19.95525174, 279.42981696, 226.17415737,  45.26059401,\n",
       "          59.18186733,  59.20700283,  73.65447458,  33.84972894,\n",
       "         234.20559498, 210.73837643, 203.77036683, 217.0186854 ,\n",
       "         262.13586657, 230.19340548, 438.92798392,  55.99184661,\n",
       "         345.70334487, 453.45291916, 415.63843803, 413.17700216,\n",
       "         339.84117807, 321.62796486, 359.84933476, 215.73865065,\n",
       "         356.74172259, 362.66902208, 275.38352868, 173.33210648,\n",
       "         376.36229966, 294.11544013, 297.3984416 , 313.40262706,\n",
       "         528.89665489, 209.43661618, 669.52609774, 336.49988011,\n",
       "         451.18948734, 452.27569522, 156.82107795,  98.96904544,\n",
       "         248.30915386,  92.54657947, 262.36143922,  95.9399813 ,\n",
       "         151.68489967, 330.89972949, 160.74187866, 134.36397661,\n",
       "         208.92866479, 119.02532501, 383.10555298, 655.18421463,\n",
       "         511.17426012, 331.29704435, 514.05634367, 239.76089726,\n",
       "         413.52688481, 356.2620693 , 553.76894741, 422.17310714,\n",
       "         306.63974561, 541.22626816, 288.84692628, 171.85763635,\n",
       "         303.68266426, 299.48636756, 237.07321051, 203.20896752,\n",
       "         475.21770283, 202.68817765, 485.03650736, 359.24581958,\n",
       "         511.82904223, 453.5524169 , 194.23094616, 231.40970615,\n",
       "         638.2243035 , 705.26694894, 361.56194703, 361.79467916,\n",
       "          56.97198921, 402.46599048,  56.39321564,  24.66419368,\n",
       "         328.76837336,  84.89950042, 396.67856531,  52.12491013,\n",
       "          38.78213126,  51.18631908, 368.48685093,  16.01838827,\n",
       "         465.61495007, 123.18580825, 125.00960681, 145.7831247 ,\n",
       "         252.86096827, 117.36733371, 130.00290087, 344.74383407,\n",
       "         159.22008093, 123.00000984, 124.30089127, 123.11159717,\n",
       "         664.8580597 , 669.6043815 , 656.09265335, 645.02706294,\n",
       "         645.63119131, 563.20774609, 319.24470938, 696.90342457,\n",
       "         656.99706788, 633.1387873 , 272.79135645, 657.9851231 ])),\n",
       " (('M', 'S'),\n",
       "  array([232.40604696, 434.24463775, 228.93739997, 374.26399181,\n",
       "         390.9087966 , 230.37812821, 112.75861865,  61.24262269,\n",
       "          64.04186662,  36.27853084,  36.53236929,  33.61182677])),\n",
       " (('L', 'S'),\n",
       "  array([333.12777519,  20.66203305, 195.4763409 , 198.99976205,\n",
       "         291.06636312, 215.3604942 ,  70.55552354, 230.67997583,\n",
       "         299.52281377, 369.30821955,  39.94480494,  66.34884455,\n",
       "         277.99533238, 572.94173224, 347.63203241, 223.92357352,\n",
       "         337.76413974, 332.0675103 , 178.56079789, 253.49273154,\n",
       "         127.78272445, 114.91017959, 155.90005368,  79.89349479,\n",
       "         448.27279057, 288.90635049, 441.53639535, 243.44424641,\n",
       "         283.80993112, 401.94542191, 165.25634461, 435.27551578,\n",
       "         162.81821487, 213.60421279, 351.35139105, 131.53568024,\n",
       "         474.81878278, 116.21202417,  92.43063675, 140.67011701,\n",
       "         178.57647174,  66.47848728, 203.21945022, 354.31237752,\n",
       "         269.54159653, 298.84575331, 375.92495329, 211.1536295 ,\n",
       "          90.37290537, 133.17410794,  85.36302786, 111.75344546,\n",
       "          93.2085346 ,  95.28321608, 191.26534465, 215.41731215,\n",
       "         223.98870431, 187.74267652, 224.44204497, 163.11946832,\n",
       "         353.35795276, 793.32605842, 581.89367057, 481.54851342,\n",
       "         458.05572298, 276.09574866, 366.6760064 ,  68.61219604,\n",
       "          67.27089421,  60.93332825,  38.51936914,  37.56852275,\n",
       "         118.09388887, 689.65094554, 318.29519274, 233.31380664,\n",
       "         170.66858524, 658.39601073, 142.27405537, 446.69334795,\n",
       "         668.78743589, 726.75731583, 489.74544508, 726.84441095,\n",
       "          82.23002633, 176.25166077, 478.02487953, 399.75972144,\n",
       "          86.35070176,  74.74325435, 101.25372294, 175.13918062,\n",
       "          72.34206922, 110.98395355, 104.43393322, 124.57957382,\n",
       "         114.6731191 ,  52.6206606 ,  62.96789784,  37.4925266 ,\n",
       "          37.51460528,  33.09082872, 477.73477883, 106.01089203,\n",
       "         102.02237403, 151.31566524, 295.44246023,  95.5849021 ,\n",
       "          58.77172073,  63.97704523,  46.36946051,  46.85225316,\n",
       "          59.42624355,  34.83234647, 260.26529194, 157.04923084,\n",
       "         201.10524403, 111.42449624,  68.5473152 ,  37.38176726,\n",
       "         357.65934452, 168.75314848,  84.82539991, 108.00163968,\n",
       "         174.09839892,  67.37787221,  54.65738022, 251.80061069,\n",
       "          51.5686975 ,  47.87837755, 136.96058856,  44.21629109,\n",
       "         182.8918639 ,  72.98222716, 749.93118416, 463.26604652,\n",
       "         279.49548959, 730.44269859, 242.16000812, 130.31876972,\n",
       "         213.76810933,  88.04884686,  84.82821837,  54.61769688,\n",
       "         218.74965747, 264.70161697, 216.65304774, 172.91310571,\n",
       "         209.37472211, 223.20876718, 246.59846766, 269.29041495,\n",
       "         220.26637307, 280.2737867 , 332.70699809, 236.07030189,\n",
       "         232.5703575 , 134.65608106, 257.99688952, 109.65065368,\n",
       "          43.36885278,  51.091287  , 144.8866866 , 166.54860839,\n",
       "          67.72411166,  35.96438162,  37.58843692,  30.83433062,\n",
       "          60.0323235 , 137.85544362,  78.57965612,  75.61736729,\n",
       "          98.68353836,  77.40006461, 194.99860223, 360.0102614 ,\n",
       "         375.18049993, 340.34349738, 155.63706874, 120.38289102,\n",
       "         149.88699118, 204.92877617, 150.75170356, 216.37323764,\n",
       "         259.56890374,  96.44258714,  77.08870071, 421.08485862,\n",
       "          44.24295258,  46.80296647, 203.13679556,  32.20531311,\n",
       "         239.10730683, 456.14114184, 303.07344166, 337.53258369,\n",
       "         330.35243893, 313.74407857, 157.02301665, 433.61006655,\n",
       "         155.62738006, 187.88261771, 255.95316112, 102.49744841,\n",
       "          69.89127574, 392.75312317,  90.30921005,  36.64507779,\n",
       "         141.57671782,  32.42622542, 375.63658532, 628.07281801,\n",
       "         634.39287509, 601.84827369, 345.87856048, 341.25565807,\n",
       "         203.94026319, 164.16963943, 126.21135565, 133.62703313,\n",
       "         164.65775609, 133.33534179, 214.15693744, 321.62548816,\n",
       "         167.51483668, 174.32428054, 260.68926388, 199.93152558,\n",
       "          24.3817685 ,  87.66042706,  45.49115279,  56.11200261,\n",
       "          32.84274919, 295.9451592 , 316.09414124,  82.70123327,\n",
       "          54.36266089,  46.70127496,  23.24775445,  22.49260599])),\n",
       " (('M', 'S'),\n",
       "  array([232.40604696, 434.24463775, 228.93739997, 374.26399181,\n",
       "         390.9087966 , 230.37812821, 112.75861865,  61.24262269,\n",
       "          64.04186662,  36.27853084,  36.53236929,  33.61182677])),\n",
       " (('LM1', 'S'),\n",
       "  array([168.60480179, 268.25997903, 684.94090253, 258.35775777,\n",
       "         222.97838592, 644.2640533 , 147.78420076, 141.56628135,\n",
       "          62.25605259,  54.43098533,  63.76643607,  53.77824829,\n",
       "         229.44790697, 279.28821532, 285.76800291, 102.76179056,\n",
       "         120.05888812,  87.02858302, 273.66450659, 196.20589355,\n",
       "         463.22027663, 362.41898259, 110.38086305, 183.82954327,\n",
       "         472.25549677, 131.25823156,  71.08265808,  78.71159216,\n",
       "         336.87964798,  41.35668131, 464.09321436, 243.50591847,\n",
       "         119.76439304, 238.82397836, 375.66460963,  70.109299  ,\n",
       "         672.84660228, 194.92788879, 658.73068537, 592.63959385,\n",
       "         633.15916367, 572.04567712,  96.22947022, 411.91571966,\n",
       "          88.71707276,  82.01518365, 150.72582924,  95.54220921,\n",
       "          69.65037279, 215.03971821, 201.910281  , 483.18831703,\n",
       "         251.30059404, 158.50559221, 330.40234697, 421.49681362,\n",
       "         267.59375319, 116.67034148, 105.85143272, 107.19393085,\n",
       "         226.15813552,  72.64211163, 465.03909846, 438.94106597,\n",
       "         112.95299104,  91.23618265, 427.07261904, 229.99944183,\n",
       "         102.91558163, 138.89802377, 446.15973192, 116.61458295,\n",
       "         262.26882673, 381.79148287, 246.72514908, 249.38108198,\n",
       "         302.03372893, 254.8573671 , 231.41870825, 297.059818  ,\n",
       "         203.71223154, 233.30424501, 298.80296317, 225.86136648,\n",
       "         330.85733202,  83.18560361, 526.81912595, 418.96241837,\n",
       "         294.02326939, 416.58687443, 144.05956084, 436.40307798,\n",
       "         121.8513138 , 298.08966898, 419.46981158, 159.83403725,\n",
       "          98.27874565, 369.59234003,  67.57560708,  68.93733246,\n",
       "         245.20616146, 112.33074971,  68.31650311, 258.40554237,\n",
       "          99.06635243,  75.07822026,  78.89525869,  85.49921193,\n",
       "         622.48763546, 625.95515435, 569.52027955, 586.25495726,\n",
       "         619.81038917, 552.55154879, 110.01920982,  93.27875889,\n",
       "          99.0426898 , 113.126894  , 100.47156812, 136.19562198,\n",
       "         100.80945689, 121.4465338 , 120.50228186,  73.70287163,\n",
       "          38.8844285 ,  32.04267185, 315.82498013, 560.42733085,\n",
       "         451.90605574, 315.8110708 , 381.17935227, 398.83044479,\n",
       "          44.17275562,  93.94184125, 166.18286649,  72.51719685,\n",
       "         161.99480147,  39.78942332, 274.00186373, 280.64261263,\n",
       "         301.80879264, 278.63258294, 392.7933076 , 211.74440581,\n",
       "         157.56079185, 280.84557651, 191.66237598, 140.07733298,\n",
       "         129.75485212, 148.63822057,  39.62804095,  72.47222035,\n",
       "          68.45894462,  60.84353985,  51.72871019, 122.1519596 ])),\n",
       " (('M', 'S'),\n",
       "  array([232.40604696, 434.24463775, 228.93739997, 374.26399181,\n",
       "         390.9087966 , 230.37812821, 112.75861865,  61.24262269,\n",
       "          64.04186662,  36.27853084,  36.53236929,  33.61182677])),\n",
       " (('LM2', 'S'),\n",
       "  array([301.5348352 ,  84.90442631, 209.67313564, 281.23914017,\n",
       "         294.70517385, 238.93813455, 344.86513789, 138.82821415,\n",
       "         235.23587402, 173.37537794, 177.68445003, 300.28160908,\n",
       "         216.29554305, 273.89995034, 496.86050643, 401.47242842,\n",
       "         112.92477123,  88.22319944, 130.61734541, 399.31778971,\n",
       "         632.44710745, 728.40632209, 220.05552568, 743.23275001,\n",
       "         301.95992083, 293.11724361, 281.42717634, 249.45698384,\n",
       "         240.50557197, 141.76732403, 319.14059956,  89.28120281,\n",
       "         134.31766597, 192.72459617, 392.03142344, 109.48618959,\n",
       "         169.99224055, 302.77415859, 458.97895508, 655.63147432,\n",
       "         340.24318392, 487.14054655, 234.42866785, 250.38022362,\n",
       "         435.36189101, 177.80127101, 490.96007185, 283.66294449,\n",
       "         170.80439496, 399.01770143, 180.60895717, 174.20367668,\n",
       "          83.20129896,  42.42110404,  71.07668211,  36.14972746,\n",
       "          60.17654871,  45.63750239,  60.88303326,  53.48732719,\n",
       "          72.62712105, 374.6427134 ,  55.61491196,  51.36713358,\n",
       "         176.98723439,  51.34437828, 463.56350436, 178.2148618 ,\n",
       "         158.14615048, 197.85076626, 205.89288687, 120.17538701]))]"
      ]
     },
     "execution_count": 35,
     "metadata": {},
     "output_type": "execute_result"
    }
   ],
   "source": [
    "ts"
   ]
  },
  {
   "cell_type": "code",
   "execution_count": null,
   "metadata": {},
   "outputs": [
    {
     "data": {
      "text/plain": [
       "dict_keys([('LL', 'S'), ('LL', 'B'), ('LL', 'Big vs Small'), ('L', 'S'), ('L', 'B'), ('L', 'Big vs Small'), ('LM1', 'S'), ('LM1', 'B'), ('LM1', 'Big vs Small'), ('LM2', 'S'), ('LM2', 'B'), ('LM2', 'Big vs Small'), ('M', 'S'), ('M', 'B'), ('M', 'Big vs Small'), ('LM', 'S'), ('LM', 'B'), ('LM', 'Big vs Small')])"
      ]
     },
     "execution_count": 15,
     "metadata": {},
     "output_type": "execute_result"
    }
   ],
   "source": [
    "mydict.keys()"
   ]
  },
  {
   "cell_type": "code",
   "execution_count": null,
   "metadata": {},
   "outputs": [],
   "source": [
    "for k,v in dictBool.items():\n",
    "    if k[0] == \"L\" and k[1] == \"S\":\n",
    "        tar = arr[:,v,:]\n",
    "        for k1,v1 in dictBool.items():\n",
    "            if k1[0] != \"LL\" and k1[1] == \"S\":\n",
    "                a1 = arr[:,v,:].mean(axis = 0).reshape(-1,)\n",
    "                a2 = arr[:,v1,:] .mean(axis = 0).reshape(-1,)\n",
    "                tbvs, pbvs = stats.ttest_ind(a1,a2, alternative=\"less\")\n",
    "                print(f\"The p value for {k} vs {k1} is {pbvs}\")\n",
    "    else: pass"
   ]
  },
  {
   "cell_type": "code",
   "execution_count": null,
   "metadata": {},
   "outputs": [],
   "source": [
    "def filter_dict_by_strings(data, search_string):\n",
    "    # Create a new dictionary to store the filtered results\n",
    "    if not isinstance(data, dict):\n",
    "        raise ValueError(\"Input data should be a dictionary.\")\n",
    "    \n",
    "    filtered_dict = {}\n",
    "    \n",
    "    # Iterate over each key-value pair in the original dictionary\n",
    "    for key, value_list in data.items():\n",
    "        if not isinstance(value_list, list):\n",
    "            print(f\"Skipping key '{key}' because the value is not a list.\")\n",
    "            continue\n",
    "        # Filter the value list for the search strings\n",
    "        filtered_values = [item for item in value_list if search_string in item]\n",
    "        \n",
    "        # Add the filtered values to the new dictionary if not empty\n",
    "        if filtered_values:\n",
    "            filtered_dict[key] = filtered_values\n",
    "    \n",
    "    return filtered_dict\n",
    "\n",
    "# a = filter_dict_by_strings(mydict, \"effective\")   "
   ]
  },
  {
   "cell_type": "code",
   "execution_count": null,
   "metadata": {},
   "outputs": [],
   "source": [
    "b = bvs('LM1', 'S')\n"
   ]
  },
  {
   "cell_type": "code",
   "execution_count": null,
   "metadata": {},
   "outputs": [
    {
     "data": {
      "text/plain": [
       "{('M-LL',\n",
       "  'Big vs Small'): [\"('M-LL', 'B') is more effective than ('M-LL', 'S') (p = 0.0038092487500114634)\"],\n",
       " ('M-L',\n",
       "  'B'): [\"('M-L', 'B') is more effective than ('M-LL', 'B') (p = 0.0002966804667118571)\", \"('M-L', 'B') is more effective than ('M-LM', 'B') (p = 0.0022280145873721817)\"],\n",
       " ('M-L',\n",
       "  'Big vs Small'): [\"('M-L', 'B') is more effective than ('M-L', 'S') (p = 1.8820580235937052e-08)\"]}"
      ]
     },
     "execution_count": 81,
     "metadata": {},
     "output_type": "execute_result"
    }
   ],
   "source": [
    "a"
   ]
  },
  {
   "cell_type": "code",
   "execution_count": null,
   "metadata": {},
   "outputs": [
    {
     "data": {
      "text/plain": [
       "{('LL',\n",
       "  'Big vs Small'): [\"('LL', 'B') is more effective than ('LL', 'S') (p = 1.502948464049102e-07)\"],\n",
       " ('L',\n",
       "  'S'): [\"('L', 'S') is more effective than ('LL', 'S') (p = 0.00872552925447256)\", \"('L', 'S') is more effective than ('LM1', 'S') (p = 0.045480155030513086)\"],\n",
       " ('L',\n",
       "  'B'): [\"('L', 'B') is more effective than ('LL', 'B') (p = 0.001596414263979888)\", \"('L', 'B') is more effective than ('LM', 'B') (p = 0.002980601929033017)\"],\n",
       " ('L',\n",
       "  'Big vs Small'): [\"('L', 'B') is more effective than ('L', 'S') (p = 1.0939669470057542e-09)\"],\n",
       " ('LM1',\n",
       "  'S'): [\"('LM', 'B') is more effective than ('LM1', 'S') (p = 0.0016625618682520197)\"],\n",
       " ('LM1',\n",
       "  'B'): [\"('LM', 'B') is more effective than ('LM1', 'S') (p = 0.0016625618682520197)\"],\n",
       " ('LM1',\n",
       "  'Big vs Small'): [\"('LM', 'B') is more effective than ('LM1', 'S') (p = 0.0016625618682520197)\"],\n",
       " ('M',\n",
       "  'B'): [\"('M', 'B') is more effective than ('LL', 'B') (p = 0.03316568236739899)\", \"('M', 'B') is more effective than ('LM', 'B') (p = 0.03339990628806914)\"],\n",
       " ('M',\n",
       "  'Big vs Small'): [\"('M', 'B') is more effective than ('M', 'S') (p = 0.0033359733003669695)\"]}"
      ]
     },
     "execution_count": 21,
     "metadata": {},
     "output_type": "execute_result"
    }
   ],
   "source": [
    "a"
   ]
  },
  {
   "cell_type": "code",
   "execution_count": null,
   "metadata": {},
   "outputs": [
    {
     "data": {
      "text/plain": [
       "dict_keys([('LL', 'S'), ('L', 'S'), ('LM1', 'S'), ('LM2', 'S'), ('M', 'S'), ('LL', 'B'), ('L', 'B'), ('LM', 'B'), ('M', 'B')])"
      ]
     },
     "execution_count": 22,
     "metadata": {},
     "output_type": "execute_result"
    }
   ],
   "source": [
    "dictBool.keys()"
   ]
  },
  {
   "cell_type": "code",
   "execution_count": null,
   "metadata": {},
   "outputs": [
    {
     "name": "stdout",
     "output_type": "stream",
     "text": [
      "(4000, 26, 6)\n",
      "(4000, 6, 6)\n"
     ]
    }
   ],
   "source": [
    "left, right = ('LM1', 'S'), ('LM', 'B')\n",
    "left, right = dictBool[left], dictBool[right]\n",
    "\n",
    "left, right = arr[:, left, ...], arr[:, right, ...]\n",
    "\n",
    "print(left.shape)\n",
    "print(right.shape)\n"
   ]
  },
  {
   "cell_type": "code",
   "execution_count": null,
   "metadata": {},
   "outputs": [],
   "source": [
    "left = left.mean(axis=0).reshape(-1,)\n",
    "right = right.mean(axis=0).reshape(-1,)\n"
   ]
  },
  {
   "cell_type": "code",
   "execution_count": null,
   "metadata": {},
   "outputs": [
    {
     "name": "stderr",
     "output_type": "stream",
     "text": [
      "/home/andres/repos/rat-mapping-paper/.venv/lib/python3.11/site-packages/scipy/stats/_stats_py.py:6951: RuntimeWarning: invalid value encountered in scalar divide\n",
      "  svar = ((n1 - 1) * v1 + (n2 - 1) * v2) / df\n"
     ]
    },
    {
     "data": {
      "text/plain": [
       "TtestResult(statistic=nan, pvalue=nan, df=0.0)"
      ]
     },
     "execution_count": 20,
     "metadata": {},
     "output_type": "execute_result"
    }
   ],
   "source": [
    "stats.ttest_ind(left, right, alternative=\"greater\")"
   ]
  },
  {
   "cell_type": "code",
   "execution_count": null,
   "metadata": {},
   "outputs": [
    {
     "data": {
      "text/plain": [
       "[('amap02', 'C6LM-C6R', 'B'),\n",
       " ('amap03', '-C6M', 'S'),\n",
       " ('amap02', '-C6LL', 'B'),\n",
       " ('amap06', '-C6LM1', 'S'),\n",
       " ('amap04', 'C6M-C6LL', 'S'),\n",
       " ('amap08', 'C6M-C6LM2', 'S'),\n",
       " ('amap02', 'C7LM-C7RR', 'B'),\n",
       " ('amap06', 'C6LM2-C6L', 'S'),\n",
       " ('amap05', 'C6M-C6L', 'S'),\n",
       " ('amap05', 'C6LM1-C6LL', 'S'),\n",
       " ('amap02', 'C5LM2-C6L', 'S-B'),\n",
       " ('amap07', '-C5LL', 'B'),\n",
       " ('amap01', '-C6RM', 'B'),\n",
       " ('amap02', 'C6M-C6RR', 'B'),\n",
       " ('amap01', '-C5L', 'B'),\n",
       " ('amap06', 'C6M-C6RM', 'B'),\n",
       " ('amap07', '-C6LM', 'B'),\n",
       " ('amap01', 'C5M-C6L', 'S-B'),\n",
       " ('amap05', 'C5LM2-C5LL', 'S'),\n",
       " ('amap06', '-C6M', 'B'),\n",
       " ('amap07', 'C6M-C6LM1', 'S'),\n",
       " ('amap02', 'C7M-C7R', 'B'),\n",
       " ('amap08', 'C5LM1-C5L', 'S'),\n",
       " ('amap05', 'C6RM-C6RR', 'B'),\n",
       " ('amap01', 'C5M-C5LL', 'B'),\n",
       " ('amap04', '-C6M', 'S'),\n",
       " ('amap01', 'C5M-C6LL', 'S-B'),\n",
       " ('amap03', '-C5L', 'S'),\n",
       " ('amap02', '-C5M', 'B'),\n",
       " ('amap04', '-C5LL', 'B'),\n",
       " ('amap07', 'C6LM1-C6LL', 'S'),\n",
       " ('amap07', 'C6M-C6L', 'S'),\n",
       " ('amap07', '-C5LL', 'S'),\n",
       " ('amap05', 'C5LM1-C5LL', 'S'),\n",
       " ('amap06', '-C6LL', 'S'),\n",
       " ('amap08', 'C5LM2-C5LL', 'S'),\n",
       " ('amap01', '-C5L', 'S'),\n",
       " ('amap07', 'C6M-C6LM', 'B'),\n",
       " ('amap05', 'C6M-C6LM2', 'S'),\n",
       " ('amap05', '-C5LL', 'S'),\n",
       " ('amap02', 'C6M-C6RM', 'B'),\n",
       " ('amap07', 'C5M-C5LL', 'S'),\n",
       " ('amap04', 'C6M-C6LM1', 'S'),\n",
       " ('amap08', 'C5LM2-C5LM1', 'S'),\n",
       " ('amap08', 'C6RM-C6RR', 'B'),\n",
       " ('amap01', 'C7RM-C7RR', 'B'),\n",
       " ('amap02', '-C6M', 'B'),\n",
       " ('amap08', 'C5M-C5LM', 'B'),\n",
       " ('amap08', 'C5LM2-C5L', 'S'),\n",
       " ('amap03', 'C6LM2-C6L', 'S'),\n",
       " ('amap01', 'C7LM-C7RM', 'B'),\n",
       " ('amap03', '-C6LL', 'B'),\n",
       " ('amap05', 'C6M-C6LL', 'B'),\n",
       " ('amap03', 'C6LM2-C6LM1', 'S'),\n",
       " ('amap04', 'C6LM1-C6LL', 'S'),\n",
       " ('amap04', 'C6M-C6L', 'S'),\n",
       " ('amap08', 'C6L-C6LL', 'B'),\n",
       " ('amap05', 'C5LM2-C5LM1', 'S'),\n",
       " ('amap05', 'C5LM1-C5L', 'S'),\n",
       " ('amap03', 'C6M-C6RR', 'B'),\n",
       " ('amap08', '-C5LM1', 'S'),\n",
       " ('amap03', '-C5LM2', 'S'),\n",
       " ('amap03', 'C6M-C6R', 'B'),\n",
       " ('amap04', 'C5M-C5LL', 'S'),\n",
       " ('amap01', 'C7M-C7R', 'B'),\n",
       " ('amap08', 'C6M-C6LL', 'B'),\n",
       " ('amap03', 'C6RM-C6R', 'B'),\n",
       " ('amap01', '-C5LM2', 'S'),\n",
       " ('amap07', 'C6M-C6LL', 'B'),\n",
       " ('amap01', 'C6M-C6R', 'B'),\n",
       " ('amap03', '-C5M', 'B'),\n",
       " ('amap05', 'C6M-C6LL', 'S'),\n",
       " ('amap03', 'C6LM1-C6L', 'S'),\n",
       " ('amap08', 'C5M-C5L', 'B'),\n",
       " ('amap01', 'C6RM-C6R', 'B'),\n",
       " ('amap08', '-C6LM2', 'S'),\n",
       " ('amap04', 'C6M-C6RR', 'B'),\n",
       " ('amap05', 'C5LM2-C5L', 'S'),\n",
       " ('amap04', 'C6LM2-C6LL', 'S'),\n",
       " ('amap07', 'C5M-C5LM1', 'S'),\n",
       " ('amap01', '-C5LM1', 'S'),\n",
       " ('amap08', '-C6RR', 'B'),\n",
       " ('amap02', '-C7M', 'B'),\n",
       " ('amap05', '-C6LM2', 'S'),\n",
       " ('amap07', '-C6L', 'B'),\n",
       " ('amap07', 'C6LM2-C6LL', 'S'),\n",
       " ('amap05', '-C6L', 'S'),\n",
       " ('amap08', 'C6M-C6LL', 'S'),\n",
       " ('amap06', 'C6LM2-C6LM1', 'S'),\n",
       " ('amap06', '-C6RM', 'B'),\n",
       " ('amap04', '-C5M', 'B'),\n",
       " ('amap02', 'C5M-C6L', 'S-B'),\n",
       " ('amap02', '-C6RM', 'B'),\n",
       " ('amap03', '-C6R', 'B'),\n",
       " ('amap04', '-C6LM1', 'S'),\n",
       " ('amap06', '-C5L', 'S'),\n",
       " ('amap02', 'C7RM-C7RR', 'B'),\n",
       " ('amap02', '-C5L', 'B'),\n",
       " ('amap04', '-C6LL', 'B'),\n",
       " ('amap03', '-C6RR', 'B'),\n",
       " ('amap04', 'C5M-C5LM1', 'S'),\n",
       " ('amap02', 'C5LM2-C5M', 'S'),\n",
       " ('amap07', '-C6LL', 'S'),\n",
       " ('amap08', 'C5L-C5LL', 'S'),\n",
       " ('amap02', 'C7LM-C7RM', 'B'),\n",
       " ('amap07', '-C6LM1', 'S'),\n",
       " ('amap03', 'C6M-C6RM', 'B'),\n",
       " ('amap01', '-C6R', 'B'),\n",
       " ('amap06', 'C5LM1-C5LL', 'S'),\n",
       " ('amap06', 'C6RM-C6R', 'B'),\n",
       " ('amap08', '-C6L', 'S'),\n",
       " ('amap01', '-C6RR', 'B'),\n",
       " ('amap02', 'C5LM1-C5LL', 'S'),\n",
       " ('amap07', '-C6L', 'S'),\n",
       " ('amap01', '-C5LM', 'B'),\n",
       " ('amap05', 'C5L-C5LL', 'S'),\n",
       " ('amap08', '-C5LL', 'B'),\n",
       " ('amap08', 'C6M-C6LM', 'B'),\n",
       " ('amap01', 'C6M-C6RM', 'B'),\n",
       " ('amap02', 'C5LM2-C5LL', 'S'),\n",
       " ('amap04', '-C5M', 'S'),\n",
       " ('amap03', 'C6L-C6LL', 'S'),\n",
       " ('amap08', '-C6LM', 'B'),\n",
       " ('amap03', 'C5M-C5LM2', 'S'),\n",
       " ('amap02', 'C6RM-C6RR', 'B'),\n",
       " ('amap02', '-C5L', 'S'),\n",
       " ('amap04', '-C6LL', 'S'),\n",
       " ('amap02', '-C5LM2', 'S'),\n",
       " ('amap07', '-C5M', 'S'),\n",
       " ('amap04', 'C6M-C6RM', 'B'),\n",
       " ('amap06', '-C5LM2', 'S'),\n",
       " ('amap03', '-C6RM', 'B'),\n",
       " ('amap02', 'C6RM-C6R', 'B'),\n",
       " ('amap04', '-C6M', 'B'),\n",
       " ('amap07', 'C5L-C5LL', 'S'),\n",
       " ('amap08', 'C6M-C6L', 'B'),\n",
       " ('amap08', 'C6LM1-C6LL', 'S'),\n",
       " ('amap03', '-C5L', 'B'),\n",
       " ('amap07', 'C6M-C6L', 'B'),\n",
       " ('amap08', '-C5LL', 'S'),\n",
       " ('amap06', '-C5LM1', 'S'),\n",
       " ('amap03', 'C5M-C5L', 'S'),\n",
       " ('amap07', '-C6M', 'S'),\n",
       " ('amap03', 'C6R-C6RR', 'B'),\n",
       " ('amap03', 'C5LM1-C5LL', 'S'),\n",
       " ('amap08', 'C5M-C5LL', 'S'),\n",
       " ('amap05', '-C5LL', 'B'),\n",
       " ('amap07', 'C5M-C5LL', 'B'),\n",
       " ('amap08', 'C6M-C6LM1', 'S'),\n",
       " ('amap03', 'C6M-C6LM2', 'S'),\n",
       " ('amap02', 'C5LM2-C5LM1', 'S'),\n",
       " ('amap06', 'C6M-C6R', 'B'),\n",
       " ('amap01', 'C5LM2-C5M', 'S'),\n",
       " ('amap01', 'C6R-C6RR', 'B'),\n",
       " ('amap05', 'C5M-C5LL', 'B'),\n",
       " ('amap08', 'C6M-C6L', 'S'),\n",
       " ('amap05', 'C6M-C6LM1', 'S'),\n",
       " ('amap06', 'C6L-C6LL', 'S'),\n",
       " ('amap01', '-C7M', 'B'),\n",
       " ('amap02', '-C6R', 'B'),\n",
       " ('amap08', 'C6LM2-C6LL', 'S'),\n",
       " ('amap06', 'C6LM1-C6L', 'S'),\n",
       " ('amap06', '-C6R', 'B'),\n",
       " ('amap03', 'C6RM-C6RR', 'B'),\n",
       " ('amap02', '-C5LM1', 'S'),\n",
       " ('amap07', '-C5L', 'S'),\n",
       " ('amap04', 'C5M-C5LL', 'B'),\n",
       " ('amap06', '-C6RR', 'B'),\n",
       " ('amap08', 'C5M-C5LM1', 'S'),\n",
       " ('amap05', 'C5M-C5LL', 'S'),\n",
       " ('amap02', 'C6M-C6R', 'B'),\n",
       " ('amap03', '-C5LM1', 'S'),\n",
       " ('amap02', 'C6LM-C6RR', 'B'),\n",
       " ('amap06', 'C5M-C5L', 'S'),\n",
       " ('amap03', 'C5LM2-C5LL', 'S'),\n",
       " ('amap02', 'C7R-C7RR', 'B'),\n",
       " ('amap02', 'C5M-C5L', 'B'),\n",
       " ('amap01', 'C5LM1-C5LL', 'S'),\n",
       " ('amap08', 'C6M-C6RR', 'B'),\n",
       " ('amap02', '-C7R', 'B'),\n",
       " ('amap05', '-C6LL', 'B'),\n",
       " ('amap05', 'C5M-C5LM1', 'S'),\n",
       " ('amap06', 'C5M-C5LM2', 'S'),\n",
       " ('amap01', 'C5LM2-C5LL', 'S'),\n",
       " ('amap02', 'C6LL-C6L', 'B'),\n",
       " ('amap05', 'C6M-C6RR', 'B'),\n",
       " ('amap02', '-C6RR', 'B'),\n",
       " ('amap05', 'C6LM2-C6LL', 'S'),\n",
       " ('amap01', 'C6RM-C6RR', 'B'),\n",
       " ('amap07', 'C6RM-C6R', 'B'),\n",
       " ('amap08', '-C5M', 'B'),\n",
       " ('amap01', 'C5M-C5LM', 'B'),\n",
       " ('amap08', '-C6LM1', 'S'),\n",
       " ('amap01', '-C7RM', 'B'),\n",
       " ('amap01', 'C5LM1-C5L', 'S'),\n",
       " ('amap08', '-C6LL', 'B'),\n",
       " ('amap06', 'C6R-C6RR', 'B'),\n",
       " ('amap07', 'C6LM2-C6L', 'S'),\n",
       " ('amap07', '-C6LL', 'B'),\n",
       " ('amap05', '-C5M', 'B'),\n",
       " ('amap04', '-C5L', 'S'),\n",
       " ('amap05', '-C6LL', 'S'),\n",
       " ('amap03', 'C6M-C6LL', 'B'),\n",
       " ('amap05', '-C6LM1', 'S'),\n",
       " ('amap08', '-C6L', 'B'),\n",
       " ('amap07', 'C6M-C6RR', 'B'),\n",
       " ('amap03', 'C5LM2-C5LM1', 'S'),\n",
       " ('amap08', '-C6M', 'B'),\n",
       " ('amap02', '-C5LM', 'B'),\n",
       " ('amap04', '-C5LM2', 'S'),\n",
       " ('amap01', 'C7LM-C7R', 'B'),\n",
       " ('amap04', 'C6RM-C6R', 'B'),\n",
       " ('amap06', 'C6M-C6LM2', 'S'),\n",
       " ('amap03', 'C5LM2-C5L', 'S'),\n",
       " ('amap06', '-C5LL', 'S'),\n",
       " ('amap07', 'C6M-C6R', 'B'),\n",
       " ('amap08', '-C5M', 'S'),\n",
       " ('amap03', 'C6L-C6LL', 'B'),\n",
       " ('amap01', 'C5LM2-C5LM1', 'S'),\n",
       " ('amap05', '-C6M', 'B'),\n",
       " ('amap04', 'C6LM2-C6L', 'S'),\n",
       " ('amap08', '-C6LL', 'S'),\n",
       " ('amap01', 'C5LM2-C5L', 'S'),\n",
       " ('amap01', 'C6LM-C6RR', 'B'),\n",
       " ('amap03', '-C6L', 'S'),\n",
       " ('amap06', 'C6M-C6LM1', 'S'),\n",
       " ('amap02', 'C6R-C6RR', 'B'),\n",
       " ('amap07', '-C5M', 'B'),\n",
       " ('amap04', 'C6LM2-C6LM1', 'S'),\n",
       " ('amap05', '-C5M', 'S'),\n",
       " ('amap07', 'C6LM1-C6L', 'S'),\n",
       " ('amap07', '-C6R', 'B'),\n",
       " ('amap03', 'C6M-C6LL', 'S'),\n",
       " ('amap06', 'C5LM1-C5L', 'S'),\n",
       " ('amap02', 'C5LM2-C6LL', 'S-B'),\n",
       " ('amap01', 'C7RM-C7R', 'B'),\n",
       " ('amap01', '-C7LM', 'B'),\n",
       " ('amap01', '-C7R', 'B'),\n",
       " ('amap08', '-C6M', 'S'),\n",
       " ('amap04', 'C6M-C6R', 'B'),\n",
       " ('amap07', 'C6M-C6RM', 'B'),\n",
       " ('amap01', '-C7RR', 'B'),\n",
       " ('amap02', '-C5LL', 'S'),\n",
       " ('amap03', 'C5M-C5L', 'B'),\n",
       " ('amap07', 'C6LM-C6LL', 'B'),\n",
       " ('amap07', '-C6M', 'B'),\n",
       " ('amap05', '-C6M', 'S'),\n",
       " ('amap06', 'C5LM2-C5LL', 'S'),\n",
       " ('amap03', '-C6LM2', 'S'),\n",
       " ('amap08', 'C5M-C5LL', 'B'),\n",
       " ('amap04', 'C6LM1-C6L', 'S'),\n",
       " ('amap04', '-C6R', 'B'),\n",
       " ('amap06', 'C5LM2-C5LM1', 'S'),\n",
       " ('amap06', 'C6RM-C6RR', 'B'),\n",
       " ('amap01', 'C7R-C7RR', 'B'),\n",
       " ('amap01', 'C5M-C5L', 'B'),\n",
       " ('amap03', '-C5LL', 'B'),\n",
       " ('amap06', 'C5LM2-C5L', 'S'),\n",
       " ('amap07', 'C5M-C5LM2', 'S'),\n",
       " ('amap02', 'C5LM1-C5L', 'S'),\n",
       " ('amap07', '-C5LM', 'B'),\n",
       " ('amap01', 'C5L-C5LL', 'S'),\n",
       " ('amap01', 'C6LL-C6L', 'B'),\n",
       " ('amap06', 'C6LM2-C6LL', 'S'),\n",
       " ('amap04', 'C6L-C6LL', 'S'),\n",
       " ('amap07', '-C5L', 'B'),\n",
       " ('amap07', 'C6R-C6RR', 'B'),\n",
       " ('amap01', '-C5M', 'S'),\n",
       " ('amap03', 'C6LM1-C6LL', 'S'),\n",
       " ('amap03', 'C6M-C6L', 'S'),\n",
       " ('amap04', 'C5M-C5LM2', 'S'),\n",
       " ('amap04', '-C6RR', 'B'),\n",
       " ('amap03', '-C5LL', 'S'),\n",
       " ('amap02', 'C5M-C5LM', 'B'),\n",
       " ('amap02', 'C5LM2-C5L', 'S'),\n",
       " ('amap08', 'C6LM2-C6LM1', 'S'),\n",
       " ('amap01', 'C5LM2-C6LL', 'S-B'),\n",
       " ('amap02', '-C7RM', 'B'),\n",
       " ('amap03', 'C5M-C5LL', 'S'),\n",
       " ('amap06', '-C6LM2', 'S'),\n",
       " ('amap07', '-C6RM', 'B'),\n",
       " ('amap02', '-C7LM', 'B'),\n",
       " ('amap08', '-C5L', 'S'),\n",
       " ('amap04', 'C6R-C6RR', 'B'),\n",
       " ('amap05', 'C6LM2-C6LM1', 'S'),\n",
       " ('amap01', '-C5LL', 'B'),\n",
       " ('amap05', '-C6RM', 'B'),\n",
       " ('amap03', 'C6M-C6LM1', 'S'),\n",
       " ('amap08', 'C6RM-C6R', 'B'),\n",
       " ('amap06', 'C6M-C6LL', 'S'),\n",
       " ('amap05', '-C5L', 'S'),\n",
       " ('amap01', '-C6LM', 'B'),\n",
       " ('amap02', 'C7LM-C7R', 'B'),\n",
       " ('amap07', 'C6LM-C6L', 'B'),\n",
       " ('amap07', 'C5LM1-C5LL', 'S'),\n",
       " ('amap05', '-C5LM2', 'S'),\n",
       " ('amap02', 'C7LM-C7M', 'B'),\n",
       " ('amap06', '-C5M', 'S'),\n",
       " ('amap02', 'C7M-C7RM', 'B'),\n",
       " ('amap04', '-C6RM', 'B'),\n",
       " ('amap07', 'C6M-C6LM2', 'S'),\n",
       " ('amap02', 'C7RM-C7R', 'B'),\n",
       " ('amap06', 'C5L-C5LL', 'S'),\n",
       " ('amap05', '-C5LM1', 'S'),\n",
       " ('amap07', 'C6LM2-C6LM1', 'S'),\n",
       " ('amap07', 'C5LM2-C5LL', 'S'),\n",
       " ('amap01', '-C5LL', 'S'),\n",
       " ('amap06', '-C6L', 'S'),\n",
       " ('amap04', 'C5M-C5L', 'S'),\n",
       " ('amap01', 'C6LM-C6M', 'B'),\n",
       " ('amap06', '-C6M', 'S'),\n",
       " ('amap02', '-C6L', 'B'),\n",
       " ('amap08', '-C5LM2', 'S'),\n",
       " ('amap03', 'C5LM1-C5L', 'S'),\n",
       " ('amap07', 'C6RM-C6RR', 'B'),\n",
       " ('amap04', 'C5LM1-C5LL', 'S'),\n",
       " ('amap07', 'C5LM1-C5L', 'S'),\n",
       " ('amap07', '-C5LM2', 'S'),\n",
       " ('amap07', 'C5M-C5LM', 'B'),\n",
       " ('amap02', '-C7RR', 'B'),\n",
       " ('amap01', 'C7M-C7RR', 'B'),\n",
       " ('amap02', '-C5M', 'S'),\n",
       " ('amap04', 'C6M-C6LM2', 'S'),\n",
       " ('amap04', '-C5LL', 'S'),\n",
       " ('amap08', 'C6LM2-C6L', 'S'),\n",
       " ('amap05', 'C6RM-C6R', 'B'),\n",
       " ('amap03', '-C6L', 'B'),\n",
       " ('amap03', 'C6LM2-C6LL', 'S'),\n",
       " ('amap01', '-C6LL', 'B'),\n",
       " ('amap07', '-C5LM1', 'S'),\n",
       " ('amap08', 'C6M-C6RM', 'B'),\n",
       " ('amap02', 'C5L-C5LL', 'S'),\n",
       " ('amap05', '-C6R', 'B'),\n",
       " ('amap05', 'C6LM2-C6L', 'S'),\n",
       " ('amap01', 'C6M-C6RR', 'B'),\n",
       " ('amap08', 'C6LM-C6LL', 'B'),\n",
       " ('amap05', '-C6RR', 'B'),\n",
       " ('amap04', 'C6RM-C6RR', 'B'),\n",
       " ('amap01', 'C6LM-C6RM', 'B'),\n",
       " ('amap04', 'C5LM1-C5L', 'S'),\n",
       " ('amap06', 'C6LM1-C6LL', 'S'),\n",
       " ('amap08', 'C6M-C6R', 'B'),\n",
       " ('amap05', 'C6M-C6RM', 'B'),\n",
       " ('amap07', 'C5LM2-C5L', 'S'),\n",
       " ('amap03', 'C5M-C5LM1', 'S'),\n",
       " ('amap03', '-C6LL', 'S'),\n",
       " ('amap02', '-C5LL', 'B'),\n",
       " ('amap07', 'C5LM2-C5LM1', 'S'),\n",
       " ('amap08', 'C6L-C6LL', 'S'),\n",
       " ('amap01', 'C6LM-C6R', 'B'),\n",
       " ('amap05', 'C6M-C6R', 'B'),\n",
       " ('amap06', 'C5M-C5LL', 'S'),\n",
       " ('amap02', '-C6LM', 'B'),\n",
       " ('amap04', '-C5LM1', 'S'),\n",
       " ('amap07', '-C6LM2', 'S'),\n",
       " ('amap08', 'C6LM1-C6L', 'S'),\n",
       " ('amap08', '-C6R', 'B'),\n",
       " ('amap01', 'C7LM-C7RR', 'B'),\n",
       " ('amap02', 'C5M-C5LL', 'B'),\n",
       " ('amap04', 'C5LM2-C5LL', 'S'),\n",
       " ('amap01', 'C5LM2-C6L', 'S-B'),\n",
       " ('amap07', 'C6L-C6LL', 'B'),\n",
       " ('amap02', 'C5M-C6LL', 'S-B'),\n",
       " ('amap05', 'C6L-C6LL', 'S'),\n",
       " ('amap05', 'C5M-C5LM2', 'S'),\n",
       " ('amap07', '-C6RR', 'B'),\n",
       " ('amap01', '-C6L', 'B'),\n",
       " ('amap05', 'C6LM1-C6L', 'S'),\n",
       " ('amap06', 'C6M-C6L', 'S'),\n",
       " ('amap04', 'C5LM2-C5L', 'S'),\n",
       " ('amap07', 'C6M-C6LL', 'S'),\n",
       " ('amap03', '-C5M', 'S'),\n",
       " ('amap04', 'C5LM2-C5LM1', 'S'),\n",
       " ('amap03', '-C6LM1', 'S'),\n",
       " ('amap08', 'C5M-C5L', 'S'),\n",
       " ('amap01', 'C7LM-C7M', 'B'),\n",
       " ('amap04', '-C6LM2', 'S'),\n",
       " ('amap01', '-C5M', 'B'),\n",
       " ('amap01', 'C7M-C7RM', 'B'),\n",
       " ('amap03', 'C5L-C5LL', 'S'),\n",
       " ('amap03', 'C6M-C6L', 'B'),\n",
       " ('amap07', 'C5M-C5L', 'B'),\n",
       " ('amap07', 'C6L-C6LL', 'S'),\n",
       " ('amap08', 'C5M-C5LM2', 'S'),\n",
       " ('amap05', 'C5M-C5L', 'S'),\n",
       " ('amap02', 'C7M-C7RR', 'B'),\n",
       " ('amap08', '-C5LM', 'B'),\n",
       " ('amap03', '-C6M', 'B'),\n",
       " ('amap06', 'C5M-C5LM1', 'S'),\n",
       " ('amap08', '-C6RM', 'B'),\n",
       " ('amap03', 'C5M-C5LL', 'B'),\n",
       " ('amap06', 'C6M-C6RR', 'B'),\n",
       " ('amap08', '-C5L', 'B'),\n",
       " ('amap01', '-C6M', 'B'),\n",
       " ('amap08', 'C6R-C6RR', 'B'),\n",
       " ('amap02', 'C6LM-C6RM', 'B'),\n",
       " ('amap04', 'C5L-C5LL', 'S'),\n",
       " ('amap02', 'C6LM-C6M', 'B'),\n",
       " ('amap08', 'C6LM-C6L', 'B'),\n",
       " ('amap07', 'C5M-C5L', 'S'),\n",
       " ('amap08', 'C5LM1-C5LL', 'S'),\n",
       " ('amap04', '-C6L', 'S'),\n",
       " ('amap05', 'C6R-C6RR', 'B')]"
      ]
     },
     "execution_count": 21,
     "metadata": {},
     "output_type": "execute_result"
    }
   ],
   "source": [
    "left, right = ('LM1', 'S'), ('LM', 'B')\n",
    "left, right = dictBool[left], dictBool[right]\n",
    "\n",
    "combinations_no_response\n"
   ]
  },
  {
   "cell_type": "code",
   "execution_count": null,
   "metadata": {},
   "outputs": [
    {
     "data": {
      "text/plain": [
       "[('amap07', 'C6M-C6LM1', 'S'),\n",
       " ('amap04', 'C6M-C6LM1', 'S'),\n",
       " ('amap08', 'C5LM2-C5LM1', 'S'),\n",
       " ('amap03', 'C6LM2-C6LM1', 'S'),\n",
       " ('amap05', 'C5LM2-C5LM1', 'S'),\n",
       " ('amap07', 'C5M-C5LM1', 'S'),\n",
       " ('amap06', 'C6LM2-C6LM1', 'S'),\n",
       " ('amap04', 'C5M-C5LM1', 'S'),\n",
       " ('amap08', 'C6M-C6LM1', 'S'),\n",
       " ('amap02', 'C5LM2-C5LM1', 'S'),\n",
       " ('amap05', 'C6M-C6LM1', 'S'),\n",
       " ('amap08', 'C5M-C5LM1', 'S'),\n",
       " ('amap05', 'C5M-C5LM1', 'S'),\n",
       " ('amap03', 'C5LM2-C5LM1', 'S'),\n",
       " ('amap01', 'C5LM2-C5LM1', 'S'),\n",
       " ('amap06', 'C6M-C6LM1', 'S'),\n",
       " ('amap04', 'C6LM2-C6LM1', 'S'),\n",
       " ('amap06', 'C5LM2-C5LM1', 'S'),\n",
       " ('amap08', 'C6LM2-C6LM1', 'S'),\n",
       " ('amap05', 'C6LM2-C6LM1', 'S'),\n",
       " ('amap03', 'C6M-C6LM1', 'S'),\n",
       " ('amap07', 'C6LM2-C6LM1', 'S'),\n",
       " ('amap03', 'C5M-C5LM1', 'S'),\n",
       " ('amap07', 'C5LM2-C5LM1', 'S'),\n",
       " ('amap04', 'C5LM2-C5LM1', 'S'),\n",
       " ('amap06', 'C5M-C5LM1', 'S')]"
      ]
     },
     "execution_count": 22,
     "metadata": {},
     "output_type": "execute_result"
    }
   ],
   "source": [
    "[u for u, b in zip(combinations_no_response, left) if b]"
   ]
  },
  {
   "cell_type": "markdown",
   "metadata": {},
   "source": [
    "# Lateral vs Medial"
   ]
  },
  {
   "cell_type": "code",
   "execution_count": null,
   "metadata": {},
   "outputs": [],
   "source": [
    "dictBool = {}\n",
    "\n",
    "dictBool[('M-LL', 'S')] = np.array([bool(s[1].split(\"-\")[0][2:] == \"M\" and s[1].split(\"-\")[1][2:] == \"LL\" and s[2] == \"S\") for s in combinations_no_response])\n",
    "dictBool[('M-L', 'S')]  = np.array([bool(s[1].split(\"-\")[0][2:] == \"M\" and s[1].split(\"-\")[1][2:] == \"L\" and s[2] == \"S\") for s in combinations_no_response])\n",
    "dictBool[('M-LM1', 'S')]  = np.array([bool(s[1].split(\"-\")[0][2:] == \"M\" and s[1].split(\"-\")[1][2:] == \"LM1\" and s[2] == \"S\") for s in combinations_no_response])\n",
    "dictBool[('M-LM2', 'S')]  = np.array([bool(s[1].split(\"-\")[0][2:] == \"M\" and s[1].split(\"-\")[1][2:] == \"LM2\" and s[2] == \"S\") for s in combinations_no_response])\n",
    "dictBool[('M-M', 'S')]  = np.array([bool(s[1].split(\"-\")[0][2:] == \"M\" and s[1].split(\"-\")[1][2:] == \"M\" and s[2] == \"S\") for s in combinations_no_response])\n",
    "dictBool[('M-LL', 'B')]  = np.array([bool(s[1].split(\"-\")[0][2:] == \"M\" and s[1].split(\"-\")[1][2:] == \"LL\" and s[2] == \"B\") for s in combinations_no_response])\n",
    "dictBool[('M-L', 'B')] = np.array([bool(s[1].split(\"-\")[0][2:] == \"M\" and s[1].split(\"-\")[1][2:] == \"L\" and s[2] == \"B\") for s in combinations_no_response])\n",
    "dictBool[('M-LM', 'B')] = np.array([bool(s[1].split(\"-\")[0][2:] == \"M\" and s[1].split(\"-\")[1][2:] == \"LM\" and s[2] == \"B\") for s in combinations_no_response])\n",
    "dictBool[('M-M', 'B')] = np.array([bool(s[1].split(\"-\")[0][2:] == \"M\" and s[1].split(\"-\")[1][2:] == \"M\" and s[2] == \"B\") for s in combinations_no_response])"
   ]
  },
  {
   "cell_type": "code",
   "execution_count": null,
   "metadata": {},
   "outputs": [
    {
     "data": {
      "text/plain": [
       "{('M-LL',\n",
       "  'S'): [\"No significant difference for ('M-LL', 'S') vs ('M-L', 'S') (p = 0.8067021255541749)\", \"No significant difference for ('M-LL', 'S') vs ('M-LM1', 'S') (p = 0.32842767298269626)\", \"No significant difference for ('M-LL', 'S') vs ('M-LM2', 'S') (p = 0.33478527697588767)\", \"No significant difference for ('M-LL', 'S') vs ('M-M', 'S') (p = nan)\"],\n",
       " ('M-LL',\n",
       "  'B'): [\"No significant difference for ('M-LL', 'B') vs ('M-L', 'B') (p = 0.9997033195332882)\", \"No significant difference for ('M-LL', 'B') vs ('M-LM', 'B') (p = 0.6373787933104573)\", \"No significant difference for ('M-LL', 'B') vs ('M-M', 'B') (p = nan)\"],\n",
       " ('M-LL',\n",
       "  'Big vs Small'): [\"('M-LL', 'B') is more effective than ('M-LL', 'S') (p = 0.0038092487500114634)\", \"('M-LL', 'B') is more effective than ('M-L', 'S') (p = 0.021010603979913382)\", \"('M-LL', 'B') is more effective than ('M-LM1', 'S') (p = 0.0008296010230258683)\", \"('M-LL', 'B') is more effective than ('M-LM2', 'S') (p = 0.0007172801778900192)\", \"No significant difference for ('M-LL', 'B') vs ('M-M', 'S') (p = nan)\"],\n",
       " ('M-L',\n",
       "  'S'): [\"No significant difference for ('M-L', 'S') vs ('M-LL', 'S') (p = 0.19329787444582508)\", \"No significant difference for ('M-L', 'S') vs ('M-LM1', 'S') (p = 0.0878350936652759)\", \"No significant difference for ('M-L', 'S') vs ('M-LM2', 'S') (p = 0.08756405558593233)\", \"No significant difference for ('M-L', 'S') vs ('M-M', 'S') (p = nan)\"],\n",
       " ('M-L',\n",
       "  'B'): [\"('M-L', 'B') is more effective than ('M-LL', 'B') (p = 0.0002966804667118571)\", \"('M-L', 'B') is more effective than ('M-LM', 'B') (p = 0.0022280145873721817)\", \"No significant difference for ('M-L', 'B') vs ('M-M', 'B') (p = nan)\"],\n",
       " ('M-L',\n",
       "  'Big vs Small'): [\"('M-L', 'B') is more effective than ('M-LL', 'S') (p = 1.4520361340004122e-08)\", \"('M-L', 'B') is more effective than ('M-L', 'S') (p = 1.8820580235937052e-08)\", \"('M-L', 'B') is more effective than ('M-LM1', 'S') (p = 7.84076393853262e-10)\", \"('M-L', 'B') is more effective than ('M-LM2', 'S') (p = 2.89401340800061e-10)\", \"No significant difference for ('M-L', 'B') vs ('M-M', 'S') (p = nan)\"],\n",
       " ('M-LM1',\n",
       "  'S'): [\"No significant difference for ('M-LM1', 'S') vs ('M-LL', 'S') (p = 0.6715723270173037)\", \"No significant difference for ('M-LM1', 'S') vs ('M-L', 'S') (p = 0.912164906334724)\", \"No significant difference for ('M-LM1', 'S') vs ('M-LM2', 'S') (p = 0.5104042315359871)\", \"No significant difference for ('M-LM1', 'S') vs ('M-M', 'S') (p = nan)\"],\n",
       " ('M-LM1', 'B'): [],\n",
       " ('M-LM1', 'Big vs Small'): [],\n",
       " ('M-LM2',\n",
       "  'S'): [\"No significant difference for ('M-LM2', 'S') vs ('M-LL', 'S') (p = 0.6652147230241123)\", \"No significant difference for ('M-LM2', 'S') vs ('M-L', 'S') (p = 0.9124359444140677)\", \"No significant difference for ('M-LM2', 'S') vs ('M-LM1', 'S') (p = 0.48959576846401276)\", \"No significant difference for ('M-LM2', 'S') vs ('M-M', 'S') (p = nan)\"],\n",
       " ('M-LM2', 'B'): [],\n",
       " ('M-LM2', 'Big vs Small'): [],\n",
       " ('M-M',\n",
       "  'S'): [\"No significant difference for ('M-M', 'S') vs ('M-LL', 'S') (p = nan)\", \"No significant difference for ('M-M', 'S') vs ('M-L', 'S') (p = nan)\", \"No significant difference for ('M-M', 'S') vs ('M-LM1', 'S') (p = nan)\", \"No significant difference for ('M-M', 'S') vs ('M-LM2', 'S') (p = nan)\"],\n",
       " ('M-M',\n",
       "  'B'): [\"No significant difference for ('M-M', 'B') vs ('M-LL', 'B') (p = nan)\", \"No significant difference for ('M-M', 'B') vs ('M-L', 'B') (p = nan)\", \"No significant difference for ('M-M', 'B') vs ('M-LM', 'B') (p = nan)\"],\n",
       " ('M-M',\n",
       "  'Big vs Small'): [\"No significant difference for ('M-M', 'B') vs ('M-LL', 'S') (p = nan)\", \"No significant difference for ('M-M', 'B') vs ('M-L', 'S') (p = nan)\", \"No significant difference for ('M-M', 'B') vs ('M-LM1', 'S') (p = nan)\", \"No significant difference for ('M-M', 'B') vs ('M-LM2', 'S') (p = nan)\", \"No significant difference for ('M-M', 'B') vs ('M-M', 'S') (p = nan)\"],\n",
       " ('M-LM', 'S'): [],\n",
       " ('M-LM',\n",
       "  'B'): [\"No significant difference for ('M-LM', 'B') vs ('M-LL', 'B') (p = 0.3626212066895427)\", \"No significant difference for ('M-LM', 'B') vs ('M-L', 'B') (p = 0.9977719854126278)\", \"No significant difference for ('M-LM', 'B') vs ('M-M', 'B') (p = nan)\"],\n",
       " ('M-LM',\n",
       "  'Big vs Small'): [\"('M-LM', 'B') is more effective than ('M-LL', 'S') (p = 0.006345656557455098)\", \"('M-LM', 'B') is more effective than ('M-L', 'S') (p = 0.019921603339017522)\", \"('M-LM', 'B') is more effective than ('M-LM1', 'S') (p = 0.0019147982697178697)\", \"('M-LM', 'B') is more effective than ('M-LM2', 'S') (p = 0.0015965036740012743)\", \"No significant difference for ('M-LM', 'B') vs ('M-M', 'S') (p = nan)\"]}"
      ]
     },
     "execution_count": 87,
     "metadata": {},
     "output_type": "execute_result"
    }
   ],
   "source": [
    "p = [p[0] for p in dictBool.keys()]\n",
    "lvm = {}\n",
    "\n",
    "for val in p:\n",
    "    small = bvs(val, \"S\")\n",
    "    big = bvs(val,\"B\")\n",
    "    lvm[val, \"S\"] = small\n",
    "    lvm[val, \"B\"] = big\n",
    "    combo = bvs(val,\"C\")\n",
    "    lvm[val, \"Big vs Small\"] = combo\n",
    "\n",
    "\n",
    "# lvm = filter_dict_by_strings(lvm, \"effective\")\n",
    "lvm\n"
   ]
  },
  {
   "cell_type": "code",
   "execution_count": null,
   "metadata": {},
   "outputs": [
    {
     "ename": "NameError",
     "evalue": "name 'n' is not defined",
     "output_type": "error",
     "traceback": [
      "\u001b[0;31m---------------------------------------------------------------------------\u001b[0m",
      "\u001b[0;31mNameError\u001b[0m                                 Traceback (most recent call last)",
      "Cell \u001b[0;32mIn[16], line 17\u001b[0m\n\u001b[1;32m     13\u001b[0m fig, ax \u001b[38;5;241m=\u001b[39m plt\u001b[38;5;241m.\u001b[39msubplots()\n\u001b[1;32m     15\u001b[0m ax\u001b[38;5;241m.\u001b[39mscatter(val, y)\n\u001b[0;32m---> 17\u001b[0m \u001b[38;5;28;01mfor\u001b[39;00m i, txt \u001b[38;5;129;01min\u001b[39;00m \u001b[38;5;28menumerate\u001b[39m(\u001b[43mn\u001b[49m):\n\u001b[1;32m     18\u001b[0m     ax\u001b[38;5;241m.\u001b[39mannotate(txt, (val[i], y[i]))\n\u001b[1;32m     19\u001b[0m plt\u001b[38;5;241m.\u001b[39mscatter(val,y)\n",
      "\u001b[0;31mNameError\u001b[0m: name 'n' is not defined"
     ]
    },
    {
     "data": {
      "image/png": "[encoded data removed]",
      "text/plain": [
       "<Figure size 640x480 with 1 Axes>"
      ]
     },
     "metadata": {},
     "output_type": "display_data"
    }
   ],
   "source": [
    "target = {}\n",
    "MLL= arr[:, dictBool[(('M-LL', 'S'))], ...].mean(axis = 0).reshape(-1,)\n",
    "MLM1 = arr[:, dictBool[(('M-LM1', 'S'))], ...].mean(axis = 0).reshape(-1,)\n",
    "MLM2 = arr[:, dictBool[(('M-LM2', 'S'))], ...].mean(axis = 0).reshape(-1,)\n",
    "ML = arr[:, dictBool[(('M-L', 'S'))], ...].mean(axis = 0).reshape(-1,)\n",
    "target.update({'MLL':MLL, 'ML':ML, 'MLM1':MLM1,'MLM2':MLM2})\n",
    "\n",
    "\n",
    "val = [c[1] for c in target]\n",
    "y=[0,0,0,0]\n",
    "\n",
    "\n",
    "fig, ax = plt.subplots()\n",
    "\n",
    "ax.scatter(val, y)\n",
    "\n",
    "for i, txt in enumerate(n):\n",
    "    ax.annotate(txt, (val[i], y[i]))\n",
    "plt.scatter(val,y)\n",
    "\n"
   ]
  },
  {
   "cell_type": "code",
   "execution_count": null,
   "metadata": {},
   "outputs": [
    {
     "data": {
      "text/plain": [
       "[('amap04', 'C6M-C6L', 'S'),\n",
       " ('amap04', 'C5M-C5L', 'S'),\n",
       " ('amap07', 'C6M-C6L', 'S'),\n",
       " ('amap06', 'C6M-C6L', 'S'),\n",
       " ('amap07', 'C5M-C5L', 'S'),\n",
       " ('amap05', 'C5M-C5L', 'S'),\n",
       " ('amap05', 'C6M-C6L', 'S'),\n",
       " ('amap03', 'C6M-C6L', 'S'),\n",
       " ('amap03', 'C5M-C5L', 'S'),\n",
       " ('amap06', 'C5M-C5L', 'S'),\n",
       " ('amap08', 'C6M-C6L', 'S'),\n",
       " ('amap08', 'C5M-C5L', 'S')]"
      ]
     },
     "execution_count": 17,
     "metadata": {},
     "output_type": "execute_result"
    }
   ],
   "source": [
    "[u for u, b in zip(combinations_no_response, dictBool[('M-L', 'S')]) if b]"
   ]
  },
  {
   "cell_type": "code",
   "execution_count": null,
   "metadata": {},
   "outputs": [
    {
     "data": {
      "text/plain": [
       "<matplotlib.legend.Legend at 0x7f1d8da9b750>"
      ]
     },
     "execution_count": 18,
     "metadata": {},
     "output_type": "execute_result"
    },
    {
     "data": {
      "image/png": "[encoded data removed]",
      "text/plain": [
       "<Figure size 640x480 with 1 Axes>"
      ]
     },
     "metadata": {},
     "output_type": "display_data"
    }
   ],
   "source": [
    "ind = dictBool[('M-L', 'S')]\n",
    "t = (arr[:, ind, ...])\n",
    "samples = t.mean(axis=(-1, -2))\n",
    "sns.kdeplot(samples)\n",
    "plt.axvline(samples.mean(), label=f\"{samples.mean()}\")\n",
    "plt.legend()"
   ]
  },
  {
   "cell_type": "code",
   "execution_count": null,
   "metadata": {},
   "outputs": [
    {
     "data": {
      "text/plain": [
       "<matplotlib.legend.Legend at 0x7f1ba8914bd0>"
      ]
     },
     "execution_count": 19,
     "metadata": {},
     "output_type": "execute_result"
    },
    {
     "data": {
      "image/png": "[encoded data removed]",
      "text/plain": [
       "<Figure size 640x480 with 1 Axes>"
      ]
     },
     "metadata": {},
     "output_type": "display_data"
    }
   ],
   "source": [
    "ind = dictBool[('M-LL', 'S')]\n",
    "t = (arr[:, ind, ...])\n",
    "samples = t.mean(axis=(-1, -2))\n",
    "sns.kdeplot(samples)\n",
    "plt.axvline(samples.mean(), label=f\"{samples.mean()}\")\n",
    "plt.legend()\n"
   ]
  },
  {
   "cell_type": "code",
   "execution_count": null,
   "metadata": {},
   "outputs": [
    {
     "data": {
      "text/plain": [
       "<matplotlib.legend.Legend at 0x7f1bf1e5dbd0>"
      ]
     },
     "execution_count": 20,
     "metadata": {},
     "output_type": "execute_result"
    },
    {
     "data": {
      "image/png": "[encoded data removed]",
      "text/plain": [
       "<Figure size 640x480 with 1 Axes>"
      ]
     },
     "metadata": {},
     "output_type": "display_data"
    }
   ],
   "source": [
    "ind = dictBool[('M-L', 'S')]\n",
    "t = (arr[:, ind, ...])\n",
    "samples = t.mean(axis=(-1, -2))\n",
    "sns.kdeplot(samples)\n",
    "plt.axvline(samples.mean(), label=f\"{samples.mean()}\")\n",
    "plt.legend()"
   ]
  },
  {
   "cell_type": "code",
   "execution_count": null,
   "metadata": {},
   "outputs": [
    {
     "name": "stderr",
     "output_type": "stream",
     "text": [
      "/home/andres/repos/rat-mapping-paper/.venv/lib/python3.11/site-packages/seaborn/_decorators.py:36: FutureWarning: Pass the following variable as a keyword arg: x. From version 0.12, the only valid positional argument will be `data`, and passing other arguments without an explicit keyword will result in an error or misinterpretation.\n",
      "  warnings.warn(\n",
      "/home/andres/repos/rat-mapping-paper/.venv/lib/python3.11/site-packages/seaborn/_decorators.py:36: FutureWarning: Pass the following variable as a keyword arg: x. From version 0.12, the only valid positional argument will be `data`, and passing other arguments without an explicit keyword will result in an error or misinterpretation.\n",
      "  warnings.warn(\n",
      "/home/andres/repos/rat-mapping-paper/.venv/lib/python3.11/site-packages/seaborn/_decorators.py:36: FutureWarning: Pass the following variable as a keyword arg: x. From version 0.12, the only valid positional argument will be `data`, and passing other arguments without an explicit keyword will result in an error or misinterpretation.\n",
      "  warnings.warn(\n",
      "/home/andres/repos/rat-mapping-paper/.venv/lib/python3.11/site-packages/seaborn/_decorators.py:36: FutureWarning: Pass the following variable as a keyword arg: x. From version 0.12, the only valid positional argument will be `data`, and passing other arguments without an explicit keyword will result in an error or misinterpretation.\n",
      "  warnings.warn(\n"
     ]
    },
    {
     "data": {
      "image/png": "[encoded data removed]",
      "text/plain": [
       "<Figure size 640x480 with 1 Axes>"
      ]
     },
     "metadata": {},
     "output_type": "display_data"
    }
   ],
   "source": [
    "for i, alignment in enumerate([\"M-L\", \"M-LL\", \"M-LM1\", \"M-LM2\"]):\n",
    "    ind = dictBool[(alignment, 'S')]\n",
    "    t = (arr[:, ind, ...])\n",
    "    samples = t.mean(axis=(-1, -2))\n",
    "    sns.scatterplot(samples)\n",
    "    ax.axvline(samples.mean(), label=f\"{samples.mean()}\")\n",
    "    ax.legend()\n",
    "    ax.set_title((alignment, 'S'))\n",
    "    \n",
    "\n"
   ]
  },
  {
   "cell_type": "code",
   "execution_count": null,
   "metadata": {},
   "outputs": [
    {
     "data": {
      "text/plain": [
       "[('M-L', 210.8659537039674, 26.74844948559197, 'S'),\n",
       " ('M-LL', 234.2970661662456, 17.053038134699534, 'S'),\n",
       " ('M-LM1', 247.14450411792308, 28.789959032641004, 'S'),\n",
       " ('M-LM2', 246.41229553952834, 39.499372764414126, 'S')]"
      ]
     },
     "execution_count": 162,
     "metadata": {},
     "output_type": "execute_result"
    }
   ],
   "source": [
    "points = []\n",
    "sem = []\n",
    "for i, alignment in enumerate([\"M-L\", \"M-LL\", \"M-LM1\", \"M-LM2\"]):\n",
    "    ind = dictBool[(alignment, 'S')]\n",
    "    t = (arr[:, ind, ...])\n",
    "    samples = t.mean(axis=(-1, -2))\n",
    "    points.append((alignment,samples.mean(),(np.std(samples)*2),'S'))\n",
    "\n",
    "# sns.scatterplot(y=points)\n",
    "points\n",
    "    "
   ]
  },
  {
   "cell_type": "code",
   "execution_count": null,
   "metadata": {},
   "outputs": [],
   "source": [
    "for i, alignment in enumerate([\"M-L\", \"M-LL\", \"M-LM\"]):\n",
    "    ind = dictBool[(alignment, 'B')]\n",
    "    t = (arr[:, ind, ...])\n",
    "    samples = t.mean(axis=(-1, -2))\n",
    "    points.append((alignment,samples.mean(),(np.std(samples)*2),  'B'))\n",
    "    \n"
   ]
  },
  {
   "cell_type": "code",
   "execution_count": null,
   "metadata": {},
   "outputs": [
    {
     "data": {
      "text/plain": [
       "[('M-L', 210.8659537039674, 26.74844948559197, 'S'),\n",
       " ('M-LL', 234.2970661662456, 17.053038134699534, 'S'),\n",
       " ('M-LM1', 247.14450411792308, 28.789959032641004, 'S'),\n",
       " ('M-LM2', 246.41229553952834, 39.499372764414126, 'S'),\n",
       " ('M-L', 76.72815932837517, 9.669471282083688, 'B'),\n",
       " ('M-LL', 158.82228682796872, 26.538193234766595, 'B'),\n",
       " ('M-LM', 147.88095224665048, 29.11315824265616, 'B')]"
      ]
     },
     "execution_count": 164,
     "metadata": {},
     "output_type": "execute_result"
    }
   ],
   "source": [
    "points"
   ]
  },
  {
   "cell_type": "code",
   "execution_count": null,
   "metadata": {},
   "outputs": [
    {
     "data": {
      "text/plain": [
       "[0.21149149872089867,\n",
       " 0.13483295900178888,\n",
       " 0.22763306662714278,\n",
       " 0.31230900127430367,\n",
       " 0.07645343982977826,\n",
       " 0.2098290692919911,\n",
       " 0.23018850018034123]"
      ]
     },
     "execution_count": 117,
     "metadata": {},
     "output_type": "execute_result"
    }
   ],
   "source": [
    "sem"
   ]
  },
  {
   "cell_type": "code",
   "execution_count": null,
   "metadata": {},
   "outputs": [
    {
     "data": {
      "text/plain": [
       "<ErrorbarContainer object of 3 artists>"
      ]
     },
     "execution_count": 159,
     "metadata": {},
     "output_type": "execute_result"
    },
    {
     "data": {
      "image/png": "[encoded data removed]",
      "text/plain": [
       "<Figure size 640x480 with 1 Axes>"
      ]
     },
     "metadata": {},
     "output_type": "display_data"
    }
   ],
   "source": [
    "plt.errorbar(['B', 'C', 'B'], [0, 2, 3], yerr=[.2, .1, .5], fmt='o', color='black', elinewidth=3, capsize=5)"
   ]
  },
  {
   "cell_type": "code",
   "execution_count": null,
   "metadata": {},
   "outputs": [
    {
     "data": {
      "text/plain": [
       "<ErrorbarContainer object of 3 artists>"
      ]
     },
     "execution_count": 161,
     "metadata": {},
     "output_type": "execute_result"
    },
    {
     "data": {
      "image/png": "[encoded data removed]",
      "text/plain": [
       "<Figure size 640x480 with 1 Axes>"
      ]
     },
     "metadata": {},
     "output_type": "display_data"
    }
   ],
   "source": [
    "plt.errorbar(ypoint, xpoint, yerr=[i / 10 for i in range(1, 8)], fmt='o', color='black', elinewidth=3, capsize=5)\n"
   ]
  },
  {
   "cell_type": "code",
   "execution_count": null,
   "metadata": {},
   "outputs": [
    {
     "data": {
      "text/plain": [
       "['S', 'S', 'S', 'S', 'B', 'B', 'B']"
      ]
     },
     "execution_count": 136,
     "metadata": {},
     "output_type": "execute_result"
    }
   ],
   "source": [
    "ypoint"
   ]
  },
  {
   "cell_type": "code",
   "execution_count": null,
   "metadata": {},
   "outputs": [
    {
     "data": {
      "text/plain": [
       "[0.21149149872089867,\n",
       " 0.13483295900178888,\n",
       " 0.22763306662714278,\n",
       " 0.31230900127430367,\n",
       " 0.07645343982977826,\n",
       " 0.2098290692919911,\n",
       " 0.23018850018034123]"
      ]
     },
     "execution_count": 142,
     "metadata": {},
     "output_type": "execute_result"
    }
   ],
   "source": [
    "sem"
   ]
  },
  {
   "cell_type": "code",
   "execution_count": null,
   "metadata": {},
   "outputs": [
    {
     "data": {
      "text/plain": [
       "[210.8659537039674,\n",
       " 234.2970661662456,\n",
       " 247.14450411792308,\n",
       " 246.41229553952834,\n",
       " 76.72815932837517,\n",
       " 158.82228682796872,\n",
       " 147.88095224665048]"
      ]
     },
     "execution_count": 137,
     "metadata": {},
     "output_type": "execute_result"
    }
   ],
   "source": [
    "xpoint"
   ]
  },
  {
   "cell_type": "code",
   "execution_count": null,
   "metadata": {},
   "outputs": [
    {
     "data": {
      "text/plain": [
       "['M-L', 'M-LL', 'M-LM1', 'M-LM2', 'M-L', 'M-LL', 'M-LM']"
      ]
     },
     "execution_count": 192,
     "metadata": {},
     "output_type": "execute_result"
    }
   ],
   "source": [
    "col"
   ]
  },
  {
   "cell_type": "code",
   "execution_count": null,
   "metadata": {},
   "outputs": [],
   "source": [
    "ypoint_new = [0, .1, .2, .3, 1, 1.1,1.2]"
   ]
  },
  {
   "cell_type": "code",
   "execution_count": null,
   "metadata": {},
   "outputs": [
    {
     "ename": "ValueError",
     "evalue": "['blue', 'red', 'green', 'darkgreen', 'blue', 'red', 'lime'] is not a valid value for color",
     "output_type": "error",
     "traceback": [
      "\u001b[0;31m---------------------------------------------------------------------------\u001b[0m",
      "\u001b[0;31mValueError\u001b[0m                                Traceback (most recent call last)",
      "Cell \u001b[0;32mIn[195], line 9\u001b[0m\n\u001b[1;32m      5\u001b[0m sem \u001b[38;5;241m=\u001b[39m [x[\u001b[38;5;241m2\u001b[39m] \u001b[38;5;28;01mfor\u001b[39;00m x \u001b[38;5;129;01min\u001b[39;00m points]\n\u001b[1;32m      7\u001b[0m \u001b[38;5;66;03m# sns.swarmplot(x = ypoint,y=xpoint, hue = col)\u001b[39;00m\n\u001b[1;32m      8\u001b[0m \u001b[38;5;66;03m# plt.xlim((-1,2))\u001b[39;00m\n\u001b[0;32m----> 9\u001b[0m \u001b[43mplt\u001b[49m\u001b[38;5;241;43m.\u001b[39;49m\u001b[43merrorbar\u001b[49m\u001b[43m(\u001b[49m\u001b[43mypoint_new\u001b[49m\u001b[43m,\u001b[49m\u001b[43m \u001b[49m\u001b[43mxpoint\u001b[49m\u001b[43m,\u001b[49m\u001b[43m \u001b[49m\u001b[43myerr\u001b[49m\u001b[38;5;241;43m=\u001b[39;49m\u001b[43msem\u001b[49m\u001b[43m,\u001b[49m\u001b[43m \u001b[49m\u001b[43mfmt\u001b[49m\u001b[38;5;241;43m=\u001b[39;49m\u001b[38;5;124;43m'\u001b[39;49m\u001b[38;5;124;43mo\u001b[39;49m\u001b[38;5;124;43m'\u001b[39;49m\u001b[43m,\u001b[49m\u001b[43m \u001b[49m\u001b[43mcolor\u001b[49m\u001b[38;5;241;43m=\u001b[39;49m\u001b[38;5;124;43m'\u001b[39;49m\u001b[38;5;124;43mblack\u001b[39;49m\u001b[38;5;124;43m'\u001b[39;49m\u001b[43m,\u001b[49m\u001b[43m \u001b[49m\u001b[43melinewidth\u001b[49m\u001b[38;5;241;43m=\u001b[39;49m\u001b[38;5;241;43m1\u001b[39;49m\u001b[43m,\u001b[49m\u001b[43m \u001b[49m\u001b[43mcapsize\u001b[49m\u001b[38;5;241;43m=\u001b[39;49m\u001b[38;5;241;43m4\u001b[39;49m\u001b[43m,\u001b[49m\u001b[43m \u001b[49m\u001b[43mecolor\u001b[49m\u001b[43m \u001b[49m\u001b[38;5;241;43m=\u001b[39;49m\u001b[43m \u001b[49m\u001b[43mcols\u001b[49m\u001b[43m)\u001b[49m\n\u001b[1;32m     10\u001b[0m sns\u001b[38;5;241m.\u001b[39mdespine()\n\u001b[1;32m     11\u001b[0m plt\u001b[38;5;241m.\u001b[39mxticks([\u001b[38;5;241m0.15\u001b[39m, \u001b[38;5;241m1.1\u001b[39m], [\u001b[38;5;124m\"\u001b[39m\u001b[38;5;124mS\u001b[39m\u001b[38;5;124m\"\u001b[39m, \u001b[38;5;124m\"\u001b[39m\u001b[38;5;124mB\u001b[39m\u001b[38;5;124m\"\u001b[39m])\n",
      "File \u001b[0;32m~/repos/rat-mapping-paper/.venv/lib/python3.11/site-packages/matplotlib/pyplot.py:2537\u001b[0m, in \u001b[0;36merrorbar\u001b[0;34m(x, y, yerr, xerr, fmt, ecolor, elinewidth, capsize, barsabove, lolims, uplims, xlolims, xuplims, errorevery, capthick, data, **kwargs)\u001b[0m\n\u001b[1;32m   2531\u001b[0m \u001b[38;5;129m@_copy_docstring_and_deprecators\u001b[39m(Axes\u001b[38;5;241m.\u001b[39merrorbar)\n\u001b[1;32m   2532\u001b[0m \u001b[38;5;28;01mdef\u001b[39;00m \u001b[38;5;21merrorbar\u001b[39m(\n\u001b[1;32m   2533\u001b[0m         x, y, yerr\u001b[38;5;241m=\u001b[39m\u001b[38;5;28;01mNone\u001b[39;00m, xerr\u001b[38;5;241m=\u001b[39m\u001b[38;5;28;01mNone\u001b[39;00m, fmt\u001b[38;5;241m=\u001b[39m\u001b[38;5;124m'\u001b[39m\u001b[38;5;124m'\u001b[39m, ecolor\u001b[38;5;241m=\u001b[39m\u001b[38;5;28;01mNone\u001b[39;00m,\n\u001b[1;32m   2534\u001b[0m         elinewidth\u001b[38;5;241m=\u001b[39m\u001b[38;5;28;01mNone\u001b[39;00m, capsize\u001b[38;5;241m=\u001b[39m\u001b[38;5;28;01mNone\u001b[39;00m, barsabove\u001b[38;5;241m=\u001b[39m\u001b[38;5;28;01mFalse\u001b[39;00m, lolims\u001b[38;5;241m=\u001b[39m\u001b[38;5;28;01mFalse\u001b[39;00m,\n\u001b[1;32m   2535\u001b[0m         uplims\u001b[38;5;241m=\u001b[39m\u001b[38;5;28;01mFalse\u001b[39;00m, xlolims\u001b[38;5;241m=\u001b[39m\u001b[38;5;28;01mFalse\u001b[39;00m, xuplims\u001b[38;5;241m=\u001b[39m\u001b[38;5;28;01mFalse\u001b[39;00m, errorevery\u001b[38;5;241m=\u001b[39m\u001b[38;5;241m1\u001b[39m,\n\u001b[1;32m   2536\u001b[0m         capthick\u001b[38;5;241m=\u001b[39m\u001b[38;5;28;01mNone\u001b[39;00m, \u001b[38;5;241m*\u001b[39m, data\u001b[38;5;241m=\u001b[39m\u001b[38;5;28;01mNone\u001b[39;00m, \u001b[38;5;241m*\u001b[39m\u001b[38;5;241m*\u001b[39mkwargs):\n\u001b[0;32m-> 2537\u001b[0m     \u001b[38;5;28;01mreturn\u001b[39;00m \u001b[43mgca\u001b[49m\u001b[43m(\u001b[49m\u001b[43m)\u001b[49m\u001b[38;5;241;43m.\u001b[39;49m\u001b[43merrorbar\u001b[49m\u001b[43m(\u001b[49m\n\u001b[1;32m   2538\u001b[0m \u001b[43m        \u001b[49m\u001b[43mx\u001b[49m\u001b[43m,\u001b[49m\u001b[43m \u001b[49m\u001b[43my\u001b[49m\u001b[43m,\u001b[49m\u001b[43m \u001b[49m\u001b[43myerr\u001b[49m\u001b[38;5;241;43m=\u001b[39;49m\u001b[43myerr\u001b[49m\u001b[43m,\u001b[49m\u001b[43m \u001b[49m\u001b[43mxerr\u001b[49m\u001b[38;5;241;43m=\u001b[39;49m\u001b[43mxerr\u001b[49m\u001b[43m,\u001b[49m\u001b[43m \u001b[49m\u001b[43mfmt\u001b[49m\u001b[38;5;241;43m=\u001b[39;49m\u001b[43mfmt\u001b[49m\u001b[43m,\u001b[49m\u001b[43m \u001b[49m\u001b[43mecolor\u001b[49m\u001b[38;5;241;43m=\u001b[39;49m\u001b[43mecolor\u001b[49m\u001b[43m,\u001b[49m\n\u001b[1;32m   2539\u001b[0m \u001b[43m        \u001b[49m\u001b[43melinewidth\u001b[49m\u001b[38;5;241;43m=\u001b[39;49m\u001b[43melinewidth\u001b[49m\u001b[43m,\u001b[49m\u001b[43m \u001b[49m\u001b[43mcapsize\u001b[49m\u001b[38;5;241;43m=\u001b[39;49m\u001b[43mcapsize\u001b[49m\u001b[43m,\u001b[49m\u001b[43m \u001b[49m\u001b[43mbarsabove\u001b[49m\u001b[38;5;241;43m=\u001b[39;49m\u001b[43mbarsabove\u001b[49m\u001b[43m,\u001b[49m\n\u001b[1;32m   2540\u001b[0m \u001b[43m        \u001b[49m\u001b[43mlolims\u001b[49m\u001b[38;5;241;43m=\u001b[39;49m\u001b[43mlolims\u001b[49m\u001b[43m,\u001b[49m\u001b[43m \u001b[49m\u001b[43muplims\u001b[49m\u001b[38;5;241;43m=\u001b[39;49m\u001b[43muplims\u001b[49m\u001b[43m,\u001b[49m\u001b[43m \u001b[49m\u001b[43mxlolims\u001b[49m\u001b[38;5;241;43m=\u001b[39;49m\u001b[43mxlolims\u001b[49m\u001b[43m,\u001b[49m\n\u001b[1;32m   2541\u001b[0m \u001b[43m        \u001b[49m\u001b[43mxuplims\u001b[49m\u001b[38;5;241;43m=\u001b[39;49m\u001b[43mxuplims\u001b[49m\u001b[43m,\u001b[49m\u001b[43m \u001b[49m\u001b[43merrorevery\u001b[49m\u001b[38;5;241;43m=\u001b[39;49m\u001b[43merrorevery\u001b[49m\u001b[43m,\u001b[49m\u001b[43m \u001b[49m\u001b[43mcapthick\u001b[49m\u001b[38;5;241;43m=\u001b[39;49m\u001b[43mcapthick\u001b[49m\u001b[43m,\u001b[49m\n\u001b[1;32m   2542\u001b[0m \u001b[43m        \u001b[49m\u001b[38;5;241;43m*\u001b[39;49m\u001b[38;5;241;43m*\u001b[39;49m\u001b[43m(\u001b[49m\u001b[43m{\u001b[49m\u001b[38;5;124;43m\"\u001b[39;49m\u001b[38;5;124;43mdata\u001b[39;49m\u001b[38;5;124;43m\"\u001b[39;49m\u001b[43m:\u001b[49m\u001b[43m \u001b[49m\u001b[43mdata\u001b[49m\u001b[43m}\u001b[49m\u001b[43m \u001b[49m\u001b[38;5;28;43;01mif\u001b[39;49;00m\u001b[43m \u001b[49m\u001b[43mdata\u001b[49m\u001b[43m \u001b[49m\u001b[38;5;129;43;01mis\u001b[39;49;00m\u001b[43m \u001b[49m\u001b[38;5;129;43;01mnot\u001b[39;49;00m\u001b[43m \u001b[49m\u001b[38;5;28;43;01mNone\u001b[39;49;00m\u001b[43m \u001b[49m\u001b[38;5;28;43;01melse\u001b[39;49;00m\u001b[43m \u001b[49m\u001b[43m{\u001b[49m\u001b[43m}\u001b[49m\u001b[43m)\u001b[49m\u001b[43m,\u001b[49m\u001b[43m \u001b[49m\u001b[38;5;241;43m*\u001b[39;49m\u001b[38;5;241;43m*\u001b[39;49m\u001b[43mkwargs\u001b[49m\u001b[43m)\u001b[49m\n",
      "File \u001b[0;32m~/repos/rat-mapping-paper/.venv/lib/python3.11/site-packages/matplotlib/__init__.py:1442\u001b[0m, in \u001b[0;36m_preprocess_data.<locals>.inner\u001b[0;34m(ax, data, *args, **kwargs)\u001b[0m\n\u001b[1;32m   1439\u001b[0m \u001b[38;5;129m@functools\u001b[39m\u001b[38;5;241m.\u001b[39mwraps(func)\n\u001b[1;32m   1440\u001b[0m \u001b[38;5;28;01mdef\u001b[39;00m \u001b[38;5;21minner\u001b[39m(ax, \u001b[38;5;241m*\u001b[39margs, data\u001b[38;5;241m=\u001b[39m\u001b[38;5;28;01mNone\u001b[39;00m, \u001b[38;5;241m*\u001b[39m\u001b[38;5;241m*\u001b[39mkwargs):\n\u001b[1;32m   1441\u001b[0m     \u001b[38;5;28;01mif\u001b[39;00m data \u001b[38;5;129;01mis\u001b[39;00m \u001b[38;5;28;01mNone\u001b[39;00m:\n\u001b[0;32m-> 1442\u001b[0m         \u001b[38;5;28;01mreturn\u001b[39;00m \u001b[43mfunc\u001b[49m\u001b[43m(\u001b[49m\u001b[43max\u001b[49m\u001b[43m,\u001b[49m\u001b[43m \u001b[49m\u001b[38;5;241;43m*\u001b[39;49m\u001b[38;5;28;43mmap\u001b[39;49m\u001b[43m(\u001b[49m\u001b[43msanitize_sequence\u001b[49m\u001b[43m,\u001b[49m\u001b[43m \u001b[49m\u001b[43margs\u001b[49m\u001b[43m)\u001b[49m\u001b[43m,\u001b[49m\u001b[43m \u001b[49m\u001b[38;5;241;43m*\u001b[39;49m\u001b[38;5;241;43m*\u001b[39;49m\u001b[43mkwargs\u001b[49m\u001b[43m)\u001b[49m\n\u001b[1;32m   1444\u001b[0m     bound \u001b[38;5;241m=\u001b[39m new_sig\u001b[38;5;241m.\u001b[39mbind(ax, \u001b[38;5;241m*\u001b[39margs, \u001b[38;5;241m*\u001b[39m\u001b[38;5;241m*\u001b[39mkwargs)\n\u001b[1;32m   1445\u001b[0m     auto_label \u001b[38;5;241m=\u001b[39m (bound\u001b[38;5;241m.\u001b[39marguments\u001b[38;5;241m.\u001b[39mget(label_namer)\n\u001b[1;32m   1446\u001b[0m                   \u001b[38;5;129;01mor\u001b[39;00m bound\u001b[38;5;241m.\u001b[39mkwargs\u001b[38;5;241m.\u001b[39mget(label_namer))\n",
      "File \u001b[0;32m~/repos/rat-mapping-paper/.venv/lib/python3.11/site-packages/matplotlib/axes/_axes.py:3664\u001b[0m, in \u001b[0;36mAxes.errorbar\u001b[0;34m(self, x, y, yerr, xerr, fmt, ecolor, elinewidth, capsize, barsabove, lolims, uplims, xlolims, xuplims, errorevery, capthick, **kwargs)\u001b[0m\n\u001b[1;32m   3658\u001b[0m indep_masked, lo_masked, hi_masked \u001b[38;5;241m=\u001b[39m apply_mask(\n\u001b[1;32m   3659\u001b[0m     [indep, low, high], nolims \u001b[38;5;241m&\u001b[39m everymask)\n\u001b[1;32m   3660\u001b[0m \u001b[38;5;28;01mfor\u001b[39;00m lh_masked \u001b[38;5;129;01min\u001b[39;00m [lo_masked, hi_masked]:\n\u001b[1;32m   3661\u001b[0m     \u001b[38;5;66;03m# Since this has to work for x and y as dependent data, we\u001b[39;00m\n\u001b[1;32m   3662\u001b[0m     \u001b[38;5;66;03m# first set both x and y to the independent variable and\u001b[39;00m\n\u001b[1;32m   3663\u001b[0m     \u001b[38;5;66;03m# overwrite the respective dependent data in a second step.\u001b[39;00m\n\u001b[0;32m-> 3664\u001b[0m     line \u001b[38;5;241m=\u001b[39m \u001b[43mmlines\u001b[49m\u001b[38;5;241;43m.\u001b[39;49m\u001b[43mLine2D\u001b[49m\u001b[43m(\u001b[49m\u001b[43mindep_masked\u001b[49m\u001b[43m,\u001b[49m\u001b[43m \u001b[49m\u001b[43mindep_masked\u001b[49m\u001b[43m,\u001b[49m\n\u001b[1;32m   3665\u001b[0m \u001b[43m                         \u001b[49m\u001b[43mmarker\u001b[49m\u001b[38;5;241;43m=\u001b[39;49m\u001b[43mmarker\u001b[49m\u001b[43m,\u001b[49m\u001b[43m \u001b[49m\u001b[38;5;241;43m*\u001b[39;49m\u001b[38;5;241;43m*\u001b[39;49m\u001b[43meb_cap_style\u001b[49m\u001b[43m)\u001b[49m\n\u001b[1;32m   3666\u001b[0m     line\u001b[38;5;241m.\u001b[39mset(\u001b[38;5;241m*\u001b[39m\u001b[38;5;241m*\u001b[39m{\u001b[38;5;124mf\u001b[39m\u001b[38;5;124m\"\u001b[39m\u001b[38;5;132;01m{\u001b[39;00mdep_axis\u001b[38;5;132;01m}\u001b[39;00m\u001b[38;5;124mdata\u001b[39m\u001b[38;5;124m\"\u001b[39m: lh_masked})\n\u001b[1;32m   3667\u001b[0m     caplines[dep_axis]\u001b[38;5;241m.\u001b[39mappend(line)\n",
      "File \u001b[0;32m~/repos/rat-mapping-paper/.venv/lib/python3.11/site-packages/matplotlib/_api/deprecation.py:454\u001b[0m, in \u001b[0;36mmake_keyword_only.<locals>.wrapper\u001b[0;34m(*args, **kwargs)\u001b[0m\n\u001b[1;32m    448\u001b[0m \u001b[38;5;28;01mif\u001b[39;00m \u001b[38;5;28mlen\u001b[39m(args) \u001b[38;5;241m>\u001b[39m name_idx:\n\u001b[1;32m    449\u001b[0m     warn_deprecated(\n\u001b[1;32m    450\u001b[0m         since, message\u001b[38;5;241m=\u001b[39m\u001b[38;5;124m\"\u001b[39m\u001b[38;5;124mPassing the \u001b[39m\u001b[38;5;132;01m%(name)s\u001b[39;00m\u001b[38;5;124m \u001b[39m\u001b[38;5;132;01m%(obj_type)s\u001b[39;00m\u001b[38;5;124m \u001b[39m\u001b[38;5;124m\"\u001b[39m\n\u001b[1;32m    451\u001b[0m         \u001b[38;5;124m\"\u001b[39m\u001b[38;5;124mpositionally is deprecated since Matplotlib \u001b[39m\u001b[38;5;132;01m%(since)s\u001b[39;00m\u001b[38;5;124m; the \u001b[39m\u001b[38;5;124m\"\u001b[39m\n\u001b[1;32m    452\u001b[0m         \u001b[38;5;124m\"\u001b[39m\u001b[38;5;124mparameter will become keyword-only \u001b[39m\u001b[38;5;132;01m%(removal)s\u001b[39;00m\u001b[38;5;124m.\u001b[39m\u001b[38;5;124m\"\u001b[39m,\n\u001b[1;32m    453\u001b[0m         name\u001b[38;5;241m=\u001b[39mname, obj_type\u001b[38;5;241m=\u001b[39m\u001b[38;5;124mf\u001b[39m\u001b[38;5;124m\"\u001b[39m\u001b[38;5;124mparameter of \u001b[39m\u001b[38;5;132;01m{\u001b[39;00mfunc\u001b[38;5;241m.\u001b[39m\u001b[38;5;18m__name__\u001b[39m\u001b[38;5;132;01m}\u001b[39;00m\u001b[38;5;124m()\u001b[39m\u001b[38;5;124m\"\u001b[39m)\n\u001b[0;32m--> 454\u001b[0m \u001b[38;5;28;01mreturn\u001b[39;00m \u001b[43mfunc\u001b[49m\u001b[43m(\u001b[49m\u001b[38;5;241;43m*\u001b[39;49m\u001b[43margs\u001b[49m\u001b[43m,\u001b[49m\u001b[43m \u001b[49m\u001b[38;5;241;43m*\u001b[39;49m\u001b[38;5;241;43m*\u001b[39;49m\u001b[43mkwargs\u001b[49m\u001b[43m)\u001b[49m\n",
      "File \u001b[0;32m~/repos/rat-mapping-paper/.venv/lib/python3.11/site-packages/matplotlib/lines.py:362\u001b[0m, in \u001b[0;36mLine2D.__init__\u001b[0;34m(self, xdata, ydata, linewidth, linestyle, color, gapcolor, marker, markersize, markeredgewidth, markeredgecolor, markerfacecolor, markerfacecoloralt, fillstyle, antialiased, dash_capstyle, solid_capstyle, dash_joinstyle, solid_joinstyle, pickradius, drawstyle, markevery, **kwargs)\u001b[0m\n\u001b[1;32m    359\u001b[0m \u001b[38;5;28mself\u001b[39m\u001b[38;5;241m.\u001b[39mset_drawstyle(drawstyle)\n\u001b[1;32m    361\u001b[0m \u001b[38;5;28mself\u001b[39m\u001b[38;5;241m.\u001b[39m_color \u001b[38;5;241m=\u001b[39m \u001b[38;5;28;01mNone\u001b[39;00m\n\u001b[0;32m--> 362\u001b[0m \u001b[38;5;28;43mself\u001b[39;49m\u001b[38;5;241;43m.\u001b[39;49m\u001b[43mset_color\u001b[49m\u001b[43m(\u001b[49m\u001b[43mcolor\u001b[49m\u001b[43m)\u001b[49m\n\u001b[1;32m    363\u001b[0m \u001b[38;5;28;01mif\u001b[39;00m marker \u001b[38;5;129;01mis\u001b[39;00m \u001b[38;5;28;01mNone\u001b[39;00m:\n\u001b[1;32m    364\u001b[0m     marker \u001b[38;5;241m=\u001b[39m \u001b[38;5;124m'\u001b[39m\u001b[38;5;124mnone\u001b[39m\u001b[38;5;124m'\u001b[39m  \u001b[38;5;66;03m# Default.\u001b[39;00m\n",
      "File \u001b[0;32m~/repos/rat-mapping-paper/.venv/lib/python3.11/site-packages/matplotlib/lines.py:1060\u001b[0m, in \u001b[0;36mLine2D.set_color\u001b[0;34m(self, color)\u001b[0m\n\u001b[1;32m   1052\u001b[0m \u001b[38;5;28;01mdef\u001b[39;00m \u001b[38;5;21mset_color\u001b[39m(\u001b[38;5;28mself\u001b[39m, color):\n\u001b[1;32m   1053\u001b[0m \u001b[38;5;250m    \u001b[39m\u001b[38;5;124;03m\"\"\"\u001b[39;00m\n\u001b[1;32m   1054\u001b[0m \u001b[38;5;124;03m    Set the color of the line.\u001b[39;00m\n\u001b[1;32m   1055\u001b[0m \n\u001b[0;32m   (...)\u001b[0m\n\u001b[1;32m   1058\u001b[0m \u001b[38;5;124;03m    color : color\u001b[39;00m\n\u001b[1;32m   1059\u001b[0m \u001b[38;5;124;03m    \"\"\"\u001b[39;00m\n\u001b[0;32m-> 1060\u001b[0m     \u001b[43mmcolors\u001b[49m\u001b[38;5;241;43m.\u001b[39;49m\u001b[43m_check_color_like\u001b[49m\u001b[43m(\u001b[49m\u001b[43mcolor\u001b[49m\u001b[38;5;241;43m=\u001b[39;49m\u001b[43mcolor\u001b[49m\u001b[43m)\u001b[49m\n\u001b[1;32m   1061\u001b[0m     \u001b[38;5;28mself\u001b[39m\u001b[38;5;241m.\u001b[39m_color \u001b[38;5;241m=\u001b[39m color\n\u001b[1;32m   1062\u001b[0m     \u001b[38;5;28mself\u001b[39m\u001b[38;5;241m.\u001b[39mstale \u001b[38;5;241m=\u001b[39m \u001b[38;5;28;01mTrue\u001b[39;00m\n",
      "File \u001b[0;32m~/repos/rat-mapping-paper/.venv/lib/python3.11/site-packages/matplotlib/colors.py:243\u001b[0m, in \u001b[0;36m_check_color_like\u001b[0;34m(**kwargs)\u001b[0m\n\u001b[1;32m    241\u001b[0m \u001b[38;5;28;01mfor\u001b[39;00m k, v \u001b[38;5;129;01min\u001b[39;00m kwargs\u001b[38;5;241m.\u001b[39mitems():\n\u001b[1;32m    242\u001b[0m     \u001b[38;5;28;01mif\u001b[39;00m \u001b[38;5;129;01mnot\u001b[39;00m is_color_like(v):\n\u001b[0;32m--> 243\u001b[0m         \u001b[38;5;28;01mraise\u001b[39;00m \u001b[38;5;167;01mValueError\u001b[39;00m(\u001b[38;5;124mf\u001b[39m\u001b[38;5;124m\"\u001b[39m\u001b[38;5;132;01m{\u001b[39;00mv\u001b[38;5;132;01m!r}\u001b[39;00m\u001b[38;5;124m is not a valid value for \u001b[39m\u001b[38;5;132;01m{\u001b[39;00mk\u001b[38;5;132;01m}\u001b[39;00m\u001b[38;5;124m\"\u001b[39m)\n",
      "\u001b[0;31mValueError\u001b[0m: ['blue', 'red', 'green', 'darkgreen', 'blue', 'red', 'lime'] is not a valid value for color"
     ]
    },
    {
     "data": {
      "image/png": "[encoded data removed]",
      "text/plain": [
       "<Figure size 640x480 with 1 Axes>"
      ]
     },
     "metadata": {},
     "output_type": "display_data"
    }
   ],
   "source": [
    "xpoint = [x[1] for x in points]\n",
    "ypoint = [x[3] for x in points]\n",
    "col = [x[0] for x in points]\n",
    "sem = [x[2] for x in points]\n",
    "\n",
    "# sns.swarmplot(x = ypoint,y=xpoint, hue = col)\n",
    "# plt.xlim((-1,2))\n",
    "plt.errorbar(ypoint_new, xpoint, yerr=sem, fmt='o', color='black', elinewidth=1, capsize=4, ecolor = cols)\n",
    "sns.despine()\n",
    "\n",
    "plt.xticks([0.15, 1.1], [\"S\", \"B\"])\n",
    "plt.ylabel(\"Threshold Value\")\n",
    "plt.title(\"Threshold Value by Size and Laterality\")"
   ]
  },
  {
   "cell_type": "code",
   "execution_count": null,
   "metadata": {},
   "outputs": [],
   "source": [
    "from matplotlib.lines import Line2D"
   ]
  },
  {
   "cell_type": "code",
   "execution_count": null,
   "metadata": {},
   "outputs": [
    {
     "data": {
      "text/plain": [
       "Text(0.5, 1.0, 'Threshold Value by Size and Laterality')"
      ]
     },
     "execution_count": 205,
     "metadata": {},
     "output_type": "execute_result"
    },
    {
     "data": {
      "image/png": "[encoded data removed]",
      "text/plain": [
       "<Figure size 640x480 with 1 Axes>"
      ]
     },
     "metadata": {},
     "output_type": "display_data"
    }
   ],
   "source": [
    "labels = ['M-L', 'M-LL', 'M-LM1', 'M-LM2', 'M-L', 'M-LL', 'M-LM']\n",
    "\n",
    "color_dict = {'M-L': 'blue', 'M-LL': 'red', 'M-LM1': 'green', 'M-LM2': 'darkgreen', 'M-LM': 'lime'}\n",
    "colors = [color_dict[label] for label in labels]\n",
    "\n",
    "for y, x, e, c in zip(ypoint_new, xpoint, sem, colors):\n",
    "    plt.errorbar(y, x, yerr=e, fmt='o', color=c, elinewidth=1, capsize=4, ecolor=c)\n",
    "    \n",
    "unique_labels = list(color_dict.keys())\n",
    "legend_handles = [Line2D([0], [0], marker='o', color='w', markerfacecolor=color_dict[label], markersize=10, label=label)\n",
    "                  for label in unique_labels]\n",
    "plt.legend(handles=legend_handles, title='Data Points')\n",
    "\n",
    "\n",
    "sns.despine()\n",
    "plt.xticks([0.15, 1.1], [\"S\", \"B\"])\n",
    "plt.ylabel(\"Threshold Value\")\n",
    "plt.title(\"Threshold Value by Size and Laterality\")\n"
   ]
  },
  {
   "cell_type": "code",
   "execution_count": 43,
   "metadata": {},
   "outputs": [
    {
     "ename": "NameError",
     "evalue": "name 'combinations' is not defined",
     "output_type": "error",
     "traceback": [
      "\u001b[0;31m---------------------------------------------------------------------------\u001b[0m",
      "\u001b[0;31mNameError\u001b[0m                                 Traceback (most recent call last)",
      "Cell \u001b[0;32mIn[43], line 1\u001b[0m\n\u001b[0;32m----> 1\u001b[0m \u001b[43mcombinations\u001b[49m\u001b[38;5;241m.\u001b[39mkeys()\n",
      "\u001b[0;31mNameError\u001b[0m: name 'combinations' is not defined"
     ]
    }
   ],
   "source": [
    "combinations.keys()"
   ]
  },
  {
   "cell_type": "markdown",
   "metadata": {},
   "source": [
    "Attempt at masked array for this analysis"
   ]
  },
  {
   "cell_type": "code",
   "execution_count": 136,
   "metadata": {},
   "outputs": [],
   "source": [
    "subjects = df.participant.unique().tolist()\n",
    "positions = df.compound_position.unique().tolist()\n",
    "sizes = ['S', 'B']\n",
    "segments = [\"C5\", \"C6\"]\n",
    "electrodes = ['M-LL', 'M-L', 'M-LM1', 'M-LM2', 'M-LM']\n",
    "positions = [p for p in positions if not (\"\" in p.split(\"-\"))]\n",
    "positions = [p for p in positions if p.split('-')[0][-1] != p.split('-')[1][-1]]\n",
    "\n",
    "muscles = list(set([k[3] for k in combinations.keys()]))"
   ]
  },
  {
   "cell_type": "code",
   "execution_count": 55,
   "metadata": {},
   "outputs": [],
   "source": [
    "import numpy.ma as ma"
   ]
  },
  {
   "cell_type": "code",
   "execution_count": 59,
   "metadata": {},
   "outputs": [],
   "source": [
    "a = []\n",
    "mask = []\n",
    "\n",
    "for s in subjects:\n",
    "    for seg in segments:\n",
    "        for e in electrodes:\n",
    "            for size in sizes:\n",
    "                for muscle in muscles:\n",
    "                    l, r = e.split(\"-\")\n",
    "                    position = seg + l + \"-\" + seg + r\n",
    "                    comb = (s, position, size, muscle)\n",
    "                    if (comb in combinations.keys()):\n",
    "                        current_a = combinations[comb]['a']\n",
    "                        current_a = current_a.reshape(-1, 1)\n",
    "                        a.append(current_a)\n",
    "                        mask.append(np.full((4000, 1), False))\n",
    "                        \n",
    "                    else:\n",
    "                        a.append(np.zeros(4000).reshape(-1, 1))\n",
    "                        mask.append(np.full((4000, 1), True))\n",
    "                        \n",
    "a = np.array(a)\n",
    "a = a.reshape(len(subjects), len(segments), len(electrodes), len(sizes), len(muscles), *a.shape[1:])      \n",
    "\n",
    "mask = np.array(mask)\n",
    "mask = mask.reshape(len(subjects), len(segments), len(electrodes), len(sizes), len(muscles), *mask.shape[1:])\n",
    "\n",
    "a = ma.masked_array(a, mask=mask)\n",
    "a = a[..., 0]"
   ]
  },
  {
   "cell_type": "code",
   "execution_count": 60,
   "metadata": {},
   "outputs": [
    {
     "data": {
      "text/plain": [
       "(8, 2, 5, 2, 6, 4000)"
      ]
     },
     "execution_count": 60,
     "metadata": {},
     "output_type": "execute_result"
    }
   ],
   "source": [
    "a.shape"
   ]
  },
  {
   "cell_type": "code",
   "execution_count": 61,
   "metadata": {},
   "outputs": [],
   "source": [
    "from numpyro.diagnostics import hpdi"
   ]
  },
  {
   "cell_type": "code",
   "execution_count": 74,
   "metadata": {},
   "outputs": [],
   "source": [
    "alpha = .05"
   ]
  },
  {
   "cell_type": "code",
   "execution_count": 75,
   "metadata": {},
   "outputs": [
    {
     "name": "stderr",
     "output_type": "stream",
     "text": [
      "/tmp/ipykernel_266051/3053086444.py:34: FutureWarning: Format strings passed to MaskedConstant are ignored, but in future may error or produce different behavior\n",
      "  f\"{t.mean():.3f}\\n({ci.low:.2f}, {ci.high:.2f})\"\n",
      "/tmp/ipykernel_266051/3053086444.py:47: UserWarning: Warning: converting a masked element to nan.\n",
      "  means = np.array(means)\n"
     ]
    }
   ],
   "source": [
    "#subjects, segments, electrodes, sizes, muscle, posterior samples\n",
    "pvalues = []\n",
    "data = [] \n",
    "means = []\n",
    "mask = []\n",
    "labels = []\n",
    "\n",
    "for b_sizeind, b_s in enumerate(sizes):\n",
    "    for b_electrodeind, b_j in enumerate(electrodes):\n",
    "        label = f\"{b_s}-{b_j}\"\n",
    "        labels.append(label)\n",
    "        \n",
    "        for s_sizeind, s_s in enumerate(sizes):\n",
    "            for s_electrodeind, s_j in enumerate(electrodes):\n",
    "                \n",
    "                if (b_sizeind == s_sizeind) and (s_electrodeind == b_electrodeind):\n",
    "                    pvalues.append(1)\n",
    "                    mask.append(True)\n",
    "                    data.append(label)\n",
    "                    means.append(0)\n",
    "                    continue\n",
    "        \n",
    "                mask.append(False)\n",
    "                bsamp = a[..., b_electrodeind, b_sizeind, :, :]\n",
    "                ssamp = a[..., s_electrodeind, s_sizeind, :, :] #sub, seg, muscles, posterior samples\n",
    "                \n",
    "                t = bsamp.mean(axis = -1) - ssamp.mean(axis = -1)   # sub, seg, muscle\n",
    "                ttest = stats.ttest_1samp(t, popmean=0, axis=(0,1,2), alternative = \"two-sided\")\n",
    "\n",
    "                pvalues.append(ttest.pvalue)\n",
    "                ci = ttest.confidence_interval(1 - alpha)\n",
    "                t = bsamp - ssamp\n",
    "                data.append(\n",
    "                    f\"{t.mean():.3f}\\n({ci.low:.2f}, {ci.high:.2f})\"\n",
    "                )\n",
    "                means.append(t.mean())   \n",
    "\n",
    "pvalues = np.array(pvalues)\n",
    "pvalues = pvalues.reshape(10,10)    \n",
    "\n",
    "mask = np.array(mask)\n",
    "mask = mask.reshape(10,10)\n",
    "\n",
    "data = np.array(data)\n",
    "data = data.reshape(10,10)\n",
    "\n",
    "means = np.array(means)\n",
    "means = means.reshape(10,10)"
   ]
  },
  {
   "cell_type": "code",
   "execution_count": 76,
   "metadata": {},
   "outputs": [],
   "source": [
    "labels = [e for e in labels if e not in ['S-M-LM', 'B-M-LM1', 'B-M-LM2']]"
   ]
  },
  {
   "cell_type": "code",
   "execution_count": 77,
   "metadata": {},
   "outputs": [
    {
     "data": {
      "text/plain": [
       "(7, 7)"
      ]
     },
     "execution_count": 77,
     "metadata": {},
     "output_type": "execute_result"
    }
   ],
   "source": [
    "m2 = means\n",
    "check = np.all((np.isnan(m2)) | (m2 == 0), axis=1)\n",
    "m2 = m2[~check]\n",
    "data = data[~check]\n",
    "pvalues = pvalues[~check]\n",
    "mask = mask[~check]\n",
    "\n",
    "m2.shape\n",
    "\n",
    "check = np.all((np.isnan(m2)) | (m2 == 0), axis=0)\n",
    "m2 = m2[:,~check]\n",
    "data = data[:,~check]\n",
    "pvalues = pvalues[:,~check]\n",
    "mask = mask[:,~check]\n",
    "m2.shape"
   ]
  },
  {
   "cell_type": "code",
   "execution_count": 78,
   "metadata": {},
   "outputs": [
    {
     "data": {
      "image/png": "[encoded data removed]",
      "text/plain": [
       "<Figure size 1500x500 with 1 Axes>"
      ]
     },
     "metadata": {},
     "output_type": "display_data"
    }
   ],
   "source": [
    "#  cbar=True, cbar_kws = dict(use_gridspec=False,location=\"top\", shrink = 0.2)\n",
    "mask2= mask\n",
    "mask2 = np.tril(np.ones_like(mask2), k=-1)\n",
    "mask2 = mask2\n",
    "\n",
    "plt.figure(figsize=(15, 5))\n",
    "values = means\n",
    "handles = []\n",
    "cmap = 'coolwarm'\n",
    "ax=sns.heatmap(m2, xticklabels=labels, yticklabels=labels, mask = mask2, annot=data, fmt= \"\",cbar = False,center = 0, cmap = \"coolwarm\")\n",
    "plt.xticks(rotation=45);\n",
    "hatch_mask = pvalues > alpha\n",
    "\n",
    "for i in range (pvalues.shape[0]):\n",
    "  for j in range(pvalues.shape[1]):\n",
    "      if hatch_mask[i, j]:\n",
    "        ax.add_patch(plt.Rectangle((j, i), 1, 1, fill=False, hatch='////', edgecolor='white'))\n",
    "handles.append(plt.Rectangle((0, 0), 0, 0, color='white', ec='black',\n",
    "                    hatch='', label=\"Significant\"))\n",
    "handles.append(plt.Rectangle((0, 0), 0, 0, color='white', ec='black',\n",
    "                    hatch='////', label=\"Not Significant\"))\n",
    "handles.append(plt.Rectangle((0, 0), 0, 0, color='blue', ec='black',\n",
    "                    hatch='', label=\"Row Element Lower Threshold\"))\n",
    "handles.append(plt.Rectangle((0, 0), 0, 0, color='Red', ec='black',\n",
    "                    hatch='', label=\"Row Element Higher Threshold\"))\n",
    "\n",
    "ax.legend(handles=handles, loc='lower left', bbox_to_anchor=(1, .8),\n",
    "          handlelength=2, handleheight=2, frameon=False)\n",
    "\n",
    "\n",
    "ax.tick_params(left= False,labelleft = False, bottom= False,labelbottom= False, right=True, top=True, labelright=True, labeltop=True, labelrotation=0)\n",
    "ax.legend(handles=handles, loc='lower left',\n",
    "          handlelength=2, handleheight=2, frameon=False)\n",
    "\n",
    "plt.show()\n",
    "# sns.color_palette(\"vlag\", as_cmap=True)"
   ]
  }
 ],
 "metadata": {
  "kernelspec": {
   "display_name": "Python 3 (ipykernel)",
   "language": "python",
   "name": "python3"
  },
  "language_info": {
   "codemirror_mode": {
    "name": "ipython",
    "version": 3
   },
   "file_extension": ".py",
   "mimetype": "text/x-python",
   "name": "python",
   "nbconvert_exporter": "python",
   "pygments_lexer": "ipython3",
   "version": "3.11.9"
  }
 },
 "nbformat": 4,
 "nbformat_minor": 2
}
