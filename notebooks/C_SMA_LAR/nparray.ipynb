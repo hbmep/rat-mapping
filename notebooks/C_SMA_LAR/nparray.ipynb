{
 "cells": [
  {
   "cell_type": "code",
   "execution_count": 27,
   "metadata": {},
   "outputs": [],
   "source": [
    "import os\n",
    "import pandas as pd\n",
    "import numpy as np\n",
    "import pickle\n",
    "import matplotlib.pyplot as plt\n",
    "import seaborn as sns\n",
    "from scipy import stats\n",
    "import re\n",
    "\n",
    "file = open(\"/home/andres/repos/rat-mapping-paper/reports/C_SMA_LAR/combine.pkl\",\"rb\")\n",
    "combinations = pickle.load(file)"
   ]
  },
  {
   "cell_type": "code",
   "execution_count": null,
   "metadata": {},
   "outputs": [],
   "source": [
    "combinations_no_response = [(c[0], c[1], c[2]) for c in combinations]\n",
    "combinations_no_response = list(set(combinations_no_response))\n",
    "\n",
    "responses = list(set([u[3] for u in combinations.keys()]))\n",
    "combinations_no_response\n"
   ]
  },
  {
   "cell_type": "code",
   "execution_count": 176,
   "metadata": {},
   "outputs": [],
   "source": [
    "arr = None\n",
    "\n",
    "for muscle in responses:\n",
    "    arr_muscle = None\n",
    "\n",
    "    for c in combinations_no_response:\n",
    "        a = combinations[(*c, muscle)][\"a\"]\n",
    "        a = a[:, 0, 0, 0, 0]\n",
    "\n",
    "        if arr_muscle is None:\n",
    "            arr_muscle = a[:, None]\n",
    "        else:\n",
    "            # concatenate now\n",
    "            arr_muscle = np.concatenate([arr_muscle, a[:, None]], axis=-1)\n",
    "\n",
    "    if arr is None:\n",
    "        arr = arr_muscle[:,:, None]\n",
    "\n",
    "    else:\n",
    "        arr = np.concatenate([arr, arr_muscle[:,:, None]], axis = -1)"
   ]
  },
  {
   "cell_type": "code",
   "execution_count": 177,
   "metadata": {},
   "outputs": [],
   "source": [
    "ind = []\n",
    "\n",
    "for c in combinations_no_response:\n",
    "    if c == combinations_no_response[0]: \n",
    "        ind.append(True)\n",
    "    else:\n",
    "        ind.append(False)\n",
    "\n",
    "ind = np.array(ind)\n"
   ]
  },
  {
   "cell_type": "code",
   "execution_count": 178,
   "metadata": {},
   "outputs": [
    {
     "data": {
      "text/plain": [
       "(4000, 1, 6)"
      ]
     },
     "execution_count": 178,
     "metadata": {},
     "output_type": "execute_result"
    }
   ],
   "source": [
    "arr[:, ind, :].shape"
   ]
  },
  {
   "cell_type": "code",
   "execution_count": 93,
   "metadata": {},
   "outputs": [],
   "source": [
    "ind = [\n",
    "    True for u in combinations_no_response if u == combinations_no_response[0]\n",
    "]\n",
    "\n",
    "\n",
    "mask = np.array([bool(re.search(r'.+-.+', s[1])) for s in combinations_no_response])\n",
    "filter_noGround = arr[:,mask,:]\n",
    "\n"
   ]
  },
  {
   "cell_type": "code",
   "execution_count": 94,
   "metadata": {},
   "outputs": [
    {
     "data": {
      "text/plain": [
       "(4000, 252, 6)"
      ]
     },
     "execution_count": 94,
     "metadata": {},
     "output_type": "execute_result"
    }
   ],
   "source": [
    "filter_noGround.shape"
   ]
  },
  {
   "cell_type": "code",
   "execution_count": null,
   "metadata": {},
   "outputs": [],
   "source": [
    "# def des_pos(pos):\n",
    "positions = list(set([c[1] for c in combinations_no_response]))\n",
    "mask = np.array([bool(\"-C6R\" in s[1]) for s in combinations_no_response])\n",
    "pos_filt = arr[:,mask,:]\n",
    "ttest_all = []\n",
    "pval_all = []\n",
    "m2 = []\n",
    "for p in positions:\n",
    "    m2 = np.array([bool(p in s[1]) for s in combinations_no_response])\n",
    "    comp_filt = arr[:,m2,:]\n",
    "    ttest, pval = stats.ttest_ind(pos_filt, comp_filt)\n",
    "    ttest_all.append(ttest)\n",
    "    pval_all.append(pval)\n"
   ]
  },
  {
   "cell_type": "code",
   "execution_count": 442,
   "metadata": {},
   "outputs": [],
   "source": [
    "positions = list(set([c[1] for c in combinations_no_response]))\n",
    "mask = np.array([bool(s[1].split(\"-\")[0][2:] == \"M\" and s[1].split(\"-\")[1][2:] == \"LL\") for s in combinations_no_response])\n",
    "pos_filt = arr[:,mask,:]\n",
    "pos_filt = pos_filt.mean(axis = 0).reshape(-1,)\n",
    "ttest_all = []\n",
    "pval_all = []\n",
    "m2 = []\n",
    "\n",
    "b = np.array([bool(s[2] == \"B\" ) for s in combinations_no_response])\n",
    "s = np.array([bool(s[2] == \"S\" ) for s in combinations_no_response])\n",
    "big = arr[:,b,:] \n",
    "small = arr[:,s,:]\n",
    "\n",
    "for p in positions:\n",
    "    m2 = np.array([bool(p in s[1]) for s in combinations_no_response])\n",
    "    comp_filt = arr[:,m2,:]\n",
    "    comp_filt = comp_filt.mean(axis = 0).reshape(-1,)\n",
    "    ttest, pval = stats.ttest_ind(pos_filt, comp_filt)\n",
    "    ttest_all.append(ttest)\n",
    "    pval_all.append(pval)"
   ]
  },
  {
   "cell_type": "code",
   "execution_count": 192,
   "metadata": {},
   "outputs": [],
   "source": [
    "dictBool = {}\n",
    "\n",
    "dictBool[('LL', 'S')] = np.array([bool(re.search(r'.+-', s[1]) and s[1].split(\"-\")[1][2:] == \"LL\" and s[2] == \"S\") for s in combinations_no_response])\n",
    "dictBool[('L', 'S')]  = np.array([bool(re.search(r'.+-', s[1]) and s[1].split(\"-\")[1][2:] == \"L\" and s[2] == \"S\") for s in combinations_no_response])\n",
    "dictBool[('LM1', 'S')]  = np.array([bool(re.search(r'.+-', s[1]) and s[1].split(\"-\")[1][2:] == \"LM1\" and s[2] == \"S\") for s in combinations_no_response])\n",
    "dictBool[('LM2', 'S')]  = np.array([bool(re.search(r'.+-', s[1]) and s[1].split(\"-\")[1][2:] == \"LM2\" and s[2] == \"S\") for s in combinations_no_response])\n",
    "dictBool[('M', 'S')]  = np.array([bool(re.search(r'.+-', s[1]) and s[1].split(\"-\")[1][2:] == \"M\" and s[2] == \"S\") for s in combinations_no_response])\n",
    "dictBool[('LL', 'B')]  = np.array([bool(re.search(r'.+-', s[1]) and s[1].split(\"-\")[1][2:] == \"LL\" and s[2] == \"B\") for s in combinations_no_response])\n",
    "dictBool[('L', 'B')] = np.array([bool(re.search(r'.+-', s[1]) and s[1].split(\"-\")[1][2:] == \"L\" and s[2] == \"B\") for s in combinations_no_response])\n",
    "dictBool[('LM', 'B')] = np.array([bool(re.search(r'.+-', s[1]) and s[1].split(\"-\")[1][2:] == \"LM\" and s[2] == \"B\") for s in combinations_no_response])\n",
    "dictBool[('M', 'B')] = np.array([bool(re.search(r'.+-', s[1]) and s[1].split(\"-\")[1][2:] == \"M\" and s[2] == \"B\") for s in combinations_no_response])\n"
   ]
  },
  {
   "cell_type": "code",
   "execution_count": 419,
   "metadata": {},
   "outputs": [],
   "source": [
    "#BIG V SMALL\n",
    "\n",
    "def bvs(pos, which):\n",
    "    for k,v in dictBool.items():\n",
    "        value = []\n",
    "        if pos == \"LM1\" and k[0] == pos:\n",
    "                S = arr[:,v,:].mean(axis = 0).reshape(-1,)\n",
    "                for k1, v1 in dictBool.items():\n",
    "                    if k1[1] == \"B\" and k1[0] == \"LM\":\n",
    "                        B = arr[:,v1,:].mean(axis = 0).reshape(-1,)\n",
    "                        tbvs, pbvs = stats.ttest_ind(B,S, alternative=\"less\")\n",
    "                        if pbvs < 0.05:\n",
    "                            value.append(f\"{k1} is more effective than {k} (p = {pbvs})\")\n",
    "                        else: value.append(f\"No significant difference for {k1} vs {k} (p = {pbvs})\")\n",
    "                    else: pass\n",
    "                return value\n",
    "        \n",
    "        elif which == \"S\":\n",
    "            if k[0] == pos and k[1] == which:\n",
    "                tar = arr[:,v,:]\n",
    "                for k1,v1 in dictBool.items():\n",
    "                    if k1[0] != pos and k1[1] == which:\n",
    "                        a1 = arr[:,v,:].mean(axis = 0).reshape(-1,)\n",
    "                        a2 = arr[:,v1,:] .mean(axis = 0).reshape(-1,)\n",
    "                        tbvs, pbvs = stats.ttest_ind(a1,a2, alternative=\"less\")\n",
    "                        if pbvs < 0.05:\n",
    "                            value.append(f\"{k} is more effective than {k1} (p = {pbvs})\")\n",
    "                        else: value.append(f\"No significant difference for {k} vs {k1} (p = {pbvs})\")\n",
    "                return value\n",
    "\n",
    "        if which == \"B\":\n",
    "            if k[0] == pos and k[1] == which:\n",
    "                tar = arr[:,v,:]\n",
    "                for k1,v1 in dictBool.items():\n",
    "                    if k1[0] != pos and k1[1] == \"B\":\n",
    "                        a1 = arr[:,v,:].mean(axis = 0).reshape(-1,)\n",
    "                        a2 = arr[:,v1,:] .mean(axis = 0).reshape(-1,)\n",
    "                        tbvs, pbvs = stats.ttest_ind(a1,a2, alternative=\"less\")\n",
    "                        if pbvs < 0.05:\n",
    "                            value.append(f\"{k} is more effective than {k1} (p = {pbvs})\")\n",
    "                        else: value.append(f\"No significant difference for {k} vs {k1} (p = {pbvs})\")            \n",
    "                return value\n",
    "        \n",
    "\n",
    "        if which == \"C\" and k[0] == pos and k[1] == \"B\":\n",
    "            B = arr[:,v,:].mean(axis = 0).reshape(-1,)\n",
    "                \n",
    "            for k1, v1 in dictBool.items():\n",
    "                if k1[1] == \"S\" and k1[0] == pos:\n",
    "                    S = arr[:,v1,:].mean(axis = 0).reshape(-1,)\n",
    "                    tbvs, pbvs = stats.ttest_ind(B,S, alternative=\"less\")\n",
    "                    if pbvs < 0.05:\n",
    "                        value.append(f\"{k} is more effective than {k1} (p = {pbvs})\")\n",
    "                    else: value.append(f\"No significant difference for {k} vs {k1} (p = {pbvs})\")\n",
    "                else: pass\n",
    "            return value\n",
    "\n",
    "    return value\n",
    "        \n"
   ]
  },
  {
   "cell_type": "code",
   "execution_count": 332,
   "metadata": {},
   "outputs": [
    {
     "data": {
      "text/plain": [
       "[\"No significant difference for ('LL', 'S') vs ('L', 'S') (p = 0.9912744707455274)\",\n",
       " \"No significant difference for ('LL', 'S') vs ('LM1', 'S') (p = 0.6438061648748665)\",\n",
       " \"No significant difference for ('LL', 'S') vs ('LM2', 'S') (p = 0.4888663387867556)\",\n",
       " \"No significant difference for ('LL', 'S') vs ('M', 'S') (p = 0.8684579070636069)\"]"
      ]
     },
     "execution_count": 332,
     "metadata": {},
     "output_type": "execute_result"
    }
   ],
   "source": [
    "#this is one sided t test\n",
    "a = bvs('LL', 'S')\n",
    "a"
   ]
  },
  {
   "cell_type": "markdown",
   "metadata": {},
   "source": []
  },
  {
   "cell_type": "code",
   "execution_count": 423,
   "metadata": {},
   "outputs": [],
   "source": [
    "p = [p[0] for p in dictBool.keys()]\n",
    "mydict = {}\n",
    "\n",
    "for val in p:\n",
    "    small = bvs(val, \"S\")\n",
    "    big = bvs(val,\"B\")\n",
    "    mydict[val, \"S\"] = small\n",
    "    mydict[val, \"B\"] = big\n",
    "    combo = bvs(val,\"C\")\n",
    "    mydict[val, \"Big vs Small\"] = combo\n"
   ]
  },
  {
   "cell_type": "code",
   "execution_count": 371,
   "metadata": {},
   "outputs": [
    {
     "data": {
      "text/plain": [
       "dict_keys([('LL', 'S'), ('LL', 'B'), ('LL', 'Big vs Small'), ('L', 'S'), ('L', 'B'), ('L', 'Big vs Small'), ('LM1', 'S'), ('LM1', 'B'), ('LM1', 'Big vs Small'), ('LM2', 'S'), ('LM2', 'B'), ('LM2', 'Big vs Small'), ('M', 'S'), ('M', 'B'), ('M', 'Big vs Small'), ('LM', 'S'), ('LM', 'B'), ('LM', 'Big vs Small')])"
      ]
     },
     "execution_count": 371,
     "metadata": {},
     "output_type": "execute_result"
    }
   ],
   "source": [
    "mydict.keys()"
   ]
  },
  {
   "cell_type": "code",
   "execution_count": 424,
   "metadata": {},
   "outputs": [
    {
     "name": "stdout",
     "output_type": "stream",
     "text": [
      "The p value for ('LL', 'S') vs ('L', 'S') is 0.9912744707455274\n",
      "The p value for ('LL', 'S') vs ('LM1', 'S') is 0.6438061648748665\n",
      "The p value for ('LL', 'S') vs ('LM2', 'S') is 0.4888663387867556\n",
      "The p value for ('LL', 'S') vs ('M', 'S') is 0.8684579070636069\n"
     ]
    }
   ],
   "source": [
    "for k,v in dictBool.items():\n",
    "    if k[0] == \"LL\" and k[1] == \"S\":\n",
    "        tar = arr[:,v,:]\n",
    "        for k1,v1 in dictBool.items():\n",
    "            if k1[0] != \"LL\" and k1[1] == \"S\":\n",
    "                a1 = arr[:,v,:].mean(axis = 0).reshape(-1,)\n",
    "                a2 = arr[:,v1,:] .mean(axis = 0).reshape(-1,)\n",
    "                tbvs, pbvs = stats.ttest_ind(a1,a2, alternative=\"less\")\n",
    "                print(f\"The p value for {k} vs {k1} is {pbvs}\")\n",
    "    else: pass"
   ]
  },
  {
   "cell_type": "code",
   "execution_count": 425,
   "metadata": {},
   "outputs": [],
   "source": [
    "def filter_dict_by_strings(data, search_string):\n",
    "    # Create a new dictionary to store the filtered results\n",
    "    if not isinstance(data, dict):\n",
    "        raise ValueError(\"Input data should be a dictionary.\")\n",
    "    \n",
    "    filtered_dict = {}\n",
    "    \n",
    "    # Iterate over each key-value pair in the original dictionary\n",
    "    for key, value_list in data.items():\n",
    "        if not isinstance(value_list, list):\n",
    "            print(f\"Skipping key '{key}' because the value is not a list.\")\n",
    "            continue\n",
    "        # Filter the value list for the search strings\n",
    "        filtered_values = [item for item in value_list if search_string in item]\n",
    "        \n",
    "        # Add the filtered values to the new dictionary if not empty\n",
    "        if filtered_values:\n",
    "            filtered_dict[key] = filtered_values\n",
    "    \n",
    "    return filtered_dict\n",
    "\n",
    "a = filter_dict_by_strings(mydict, \"effective\")   "
   ]
  },
  {
   "cell_type": "code",
   "execution_count": 383,
   "metadata": {},
   "outputs": [],
   "source": [
    "b = bvs('LM1', 'S')\n"
   ]
  },
  {
   "cell_type": "code",
   "execution_count": 426,
   "metadata": {},
   "outputs": [
    {
     "data": {
      "text/plain": [
       "{('LL',\n",
       "  'Big vs Small'): [\"('LL', 'B') is more effective than ('LL', 'S') (p = 1.502948464049102e-07)\"],\n",
       " ('L',\n",
       "  'S'): [\"('L', 'S') is more effective than ('LL', 'S') (p = 0.00872552925447256)\", \"('L', 'S') is more effective than ('LM1', 'S') (p = 0.04548015503051278)\"],\n",
       " ('L',\n",
       "  'B'): [\"('L', 'B') is more effective than ('LL', 'B') (p = 0.001596414263979888)\", \"('L', 'B') is more effective than ('LM', 'B') (p = 0.0029806019290330226)\"],\n",
       " ('L',\n",
       "  'Big vs Small'): [\"('L', 'B') is more effective than ('L', 'S') (p = 1.0939669470057542e-09)\"],\n",
       " ('LM1',\n",
       "  'S'): [\"('LM', 'B') is more effective than ('LM1', 'S') (p = 0.0016625618682520119)\"],\n",
       " ('LM1',\n",
       "  'B'): [\"('LM', 'B') is more effective than ('LM1', 'S') (p = 0.0016625618682520119)\"],\n",
       " ('LM1',\n",
       "  'Big vs Small'): [\"('LM', 'B') is more effective than ('LM1', 'S') (p = 0.0016625618682520119)\"],\n",
       " ('M',\n",
       "  'B'): [\"('M', 'B') is more effective than ('LL', 'B') (p = 0.033165682367399016)\", \"('M', 'B') is more effective than ('LM', 'B') (p = 0.03339990628806914)\"],\n",
       " ('M',\n",
       "  'Big vs Small'): [\"('M', 'B') is more effective than ('M', 'S') (p = 0.0033359733003669695)\"]}"
      ]
     },
     "execution_count": 426,
     "metadata": {},
     "output_type": "execute_result"
    }
   ],
   "source": [
    "a"
   ]
  },
  {
   "cell_type": "code",
   "execution_count": 389,
   "metadata": {},
   "outputs": [
    {
     "data": {
      "text/plain": [
       "{('LL',\n",
       "  'Big vs Small'): [\"('LL', 'B') is more effective than ('LL', 'S') (p = 1.502948464049102e-07)\"],\n",
       " ('L',\n",
       "  'S'): [\"('L', 'S') is more effective than ('LL', 'S') (p = 0.00872552925447256)\", \"('L', 'S') is more effective than ('LM1', 'S') (p = 0.04548015503051278)\"],\n",
       " ('L',\n",
       "  'B'): [\"('L', 'B') is more effective than ('LL', 'B') (p = 0.001596414263979888)\", \"('L', 'B') is more effective than ('LM', 'B') (p = 0.0029806019290330226)\"],\n",
       " ('L',\n",
       "  'Big vs Small'): [\"('L', 'B') is more effective than ('L', 'S') (p = 1.0939669470057542e-09)\"],\n",
       " ('LM1',\n",
       "  'S'): [\"('LM1', 'S') is more effective than ('LM', 'B') (p = 0.0016625618682520119)\"],\n",
       " ('LM1',\n",
       "  'B'): [\"('LM1', 'S') is more effective than ('LM', 'B') (p = 0.0016625618682520119)\"],\n",
       " ('LM1',\n",
       "  'Big vs Small'): [\"('LM1', 'S') is more effective than ('LM', 'B') (p = 0.0016625618682520119)\"],\n",
       " ('M',\n",
       "  'B'): [\"('M', 'B') is more effective than ('LL', 'B') (p = 0.033165682367399016)\", \"('M', 'B') is more effective than ('LM', 'B') (p = 0.03339990628806914)\"],\n",
       " ('M',\n",
       "  'Big vs Small'): [\"('M', 'B') is more effective than ('M', 'S') (p = 0.0033359733003669695)\"]}"
      ]
     },
     "execution_count": 389,
     "metadata": {},
     "output_type": "execute_result"
    }
   ],
   "source": [
    "a"
   ]
  },
  {
   "cell_type": "code",
   "execution_count": 395,
   "metadata": {},
   "outputs": [
    {
     "data": {
      "text/plain": [
       "dict_keys([('LL', 'S'), ('L', 'S'), ('LM1', 'S'), ('LM2', 'S'), ('M', 'S'), ('LL', 'B'), ('L', 'B'), ('LM', 'B'), ('M', 'B')])"
      ]
     },
     "execution_count": 395,
     "metadata": {},
     "output_type": "execute_result"
    }
   ],
   "source": [
    "dictBool.keys()"
   ]
  },
  {
   "cell_type": "code",
   "execution_count": 402,
   "metadata": {},
   "outputs": [
    {
     "name": "stdout",
     "output_type": "stream",
     "text": [
      "(4000, 26, 6)\n",
      "(4000, 6, 6)\n"
     ]
    }
   ],
   "source": [
    "left, right = ('LM1', 'S'), ('LM', 'B')\n",
    "left, right = dictBool[left], dictBool[right]\n",
    "\n",
    "left, right = arr[:, left, ...], arr[:, right, ...]\n",
    "\n",
    "print(left.shape)\n",
    "print(right.shape)\n"
   ]
  },
  {
   "cell_type": "code",
   "execution_count": 403,
   "metadata": {},
   "outputs": [
    {
     "data": {
      "text/plain": [
       "<function scipy.stats._stats_py.ttest_1samp(a, popmean, axis=0, nan_policy='propagate', alternative='two-sided', *, keepdims=False)>"
      ]
     },
     "execution_count": 403,
     "metadata": {},
     "output_type": "execute_result"
    }
   ],
   "source": [
    "left = left.mean(axis=0).reshape(-1,)\n",
    "right = right.mean(axis=0).reshape(-1,)\n"
   ]
  },
  {
   "cell_type": "code",
   "execution_count": 407,
   "metadata": {},
   "outputs": [
    {
     "data": {
      "text/plain": [
       "TtestResult(statistic=2.9735651994417744, pvalue=0.0016625618682520119, df=190.0)"
      ]
     },
     "execution_count": 407,
     "metadata": {},
     "output_type": "execute_result"
    }
   ],
   "source": [
    "stats.ttest_ind(left, right, alternative=\"greater\")"
   ]
  },
  {
   "cell_type": "code",
   "execution_count": 428,
   "metadata": {},
   "outputs": [
    {
     "data": {
      "text/plain": [
       "[('amap03', '-C6LM2', 'S'),\n",
       " ('amap07', 'C6R-C6RR', 'B'),\n",
       " ('amap06', 'C6RM-C6R', 'B'),\n",
       " ('amap04', 'C6R-C6RR', 'B'),\n",
       " ('amap05', '-C6M', 'B'),\n",
       " ('amap05', '-C5LL', 'S'),\n",
       " ('amap07', 'C6M-C6RR', 'B'),\n",
       " ('amap02', '-C7R', 'B'),\n",
       " ('amap03', 'C6M-C6L', 'B'),\n",
       " ('amap07', 'C6RM-C6RR', 'B'),\n",
       " ('amap08', 'C5LM2-C5LL', 'S'),\n",
       " ('amap04', '-C6M', 'S'),\n",
       " ('amap04', 'C6RM-C6RR', 'B'),\n",
       " ('amap02', 'C7LM-C7M', 'B'),\n",
       " ('amap03', '-C6L', 'S'),\n",
       " ('amap03', '-C5LM1', 'S'),\n",
       " ('amap07', 'C5LM1-C5L', 'S'),\n",
       " ('amap04', 'C5LM1-C5L', 'S'),\n",
       " ('amap04', 'C6M-C6R', 'B'),\n",
       " ('amap02', '-C7RM', 'B'),\n",
       " ('amap06', '-C6M', 'B'),\n",
       " ('amap03', '-C5LM2', 'S'),\n",
       " ('amap08', '-C5LL', 'B'),\n",
       " ('amap06', 'C5LM2-C5LL', 'S'),\n",
       " ('amap08', '-C5L', 'B'),\n",
       " ('amap07', 'C6LM-C6LL', 'B'),\n",
       " ('amap02', 'C6LL-C6L', 'B'),\n",
       " ('amap08', '-C6LM', 'B'),\n",
       " ('amap08', '-C5LM2', 'S'),\n",
       " ('amap02', 'C5LM1-C5LL', 'S'),\n",
       " ('amap02', 'C5LM2-C6LL', 'S-B'),\n",
       " ('amap03', 'C5L-C5LL', 'S'),\n",
       " ('amap02', 'C5M-C5LL', 'B'),\n",
       " ('amap04', '-C5LM1', 'S'),\n",
       " ('amap05', 'C6M-C6RM', 'B'),\n",
       " ('amap05', 'C6M-C6LL', 'B'),\n",
       " ('amap07', 'C5M-C5L', 'S'),\n",
       " ('amap02', '-C5M', 'B'),\n",
       " ('amap08', 'C5LM2-C5LM1', 'S'),\n",
       " ('amap08', 'C6LM2-C6LL', 'S'),\n",
       " ('amap04', '-C6L', 'S'),\n",
       " ('amap04', 'C6M-C6LM1', 'S'),\n",
       " ('amap08', 'C6LM1-C6LL', 'S'),\n",
       " ('amap01', 'C7RM-C7RR', 'B'),\n",
       " ('amap04', 'C6M-C6LL', 'S'),\n",
       " ('amap08', 'C5M-C5LL', 'S'),\n",
       " ('amap02', 'C7RM-C7RR', 'B'),\n",
       " ('amap04', 'C6M-C6RM', 'B'),\n",
       " ('amap04', '-C5L', 'S'),\n",
       " ('amap03', 'C6LM1-C6L', 'S'),\n",
       " ('amap04', 'C5LM2-C5L', 'S'),\n",
       " ('amap02', 'C5LM2-C5M', 'S'),\n",
       " ('amap07', '-C6LM2', 'S'),\n",
       " ('amap06', 'C6LM1-C6LL', 'S'),\n",
       " ('amap05', '-C6LL', 'S'),\n",
       " ('amap02', '-C6R', 'B'),\n",
       " ('amap07', 'C6M-C6L', 'B'),\n",
       " ('amap03', '-C5M', 'S'),\n",
       " ('amap05', 'C6LM1-C6LL', 'S'),\n",
       " ('amap05', 'C6LM2-C6L', 'S'),\n",
       " ('amap07', '-C5LM1', 'S'),\n",
       " ('amap03', 'C6L-C6LL', 'S'),\n",
       " ('amap03', 'C5LM1-C5LL', 'S'),\n",
       " ('amap03', 'C5M-C5LL', 'B'),\n",
       " ('amap07', 'C6M-C6LM1', 'S'),\n",
       " ('amap06', '-C6LL', 'S'),\n",
       " ('amap08', '-C5M', 'S'),\n",
       " ('amap06', 'C5M-C5LL', 'S'),\n",
       " ('amap08', 'C6M-C6RR', 'B'),\n",
       " ('amap02', '-C5LL', 'S'),\n",
       " ('amap07', 'C6M-C6LM', 'B'),\n",
       " ('amap02', 'C6M-C6R', 'B'),\n",
       " ('amap01', 'C6RM-C6R', 'B'),\n",
       " ('amap04', 'C6L-C6LL', 'S'),\n",
       " ('amap01', '-C6RR', 'B'),\n",
       " ('amap04', 'C5LM1-C5LL', 'S'),\n",
       " ('amap01', '-C6RM', 'B'),\n",
       " ('amap04', 'C5M-C5LL', 'B'),\n",
       " ('amap04', 'C6M-C6LM2', 'S'),\n",
       " ('amap07', '-C6L', 'S'),\n",
       " ('amap08', '-C6LL', 'B'),\n",
       " ('amap03', '-C5M', 'B'),\n",
       " ('amap07', 'C6M-C6LL', 'S'),\n",
       " ('amap05', 'C6LM2-C6LM1', 'S'),\n",
       " ('amap04', 'C6LM1-C6L', 'S'),\n",
       " ('amap01', 'C5LM2-C5LL', 'S'),\n",
       " ('amap03', '-C6M', 'S'),\n",
       " ('amap02', '-C6M', 'B'),\n",
       " ('amap03', 'C6RM-C6RR', 'B'),\n",
       " ('amap02', 'C5M-C5L', 'B'),\n",
       " ('amap08', 'C6R-C6RR', 'B'),\n",
       " ('amap01', '-C7LM', 'B'),\n",
       " ('amap03', 'C5LM1-C5L', 'S'),\n",
       " ('amap01', 'C7M-C7RR', 'B'),\n",
       " ('amap02', '-C7LM', 'B'),\n",
       " ('amap04', '-C6R', 'B'),\n",
       " ('amap01', 'C7RM-C7R', 'B'),\n",
       " ('amap07', 'C6L-C6LL', 'S'),\n",
       " ('amap05', 'C5M-C5LM2', 'S'),\n",
       " ('amap08', 'C6RM-C6RR', 'B'),\n",
       " ('amap06', '-C6RR', 'B'),\n",
       " ('amap07', 'C5LM1-C5LL', 'S'),\n",
       " ('amap07', 'C5M-C5LL', 'B'),\n",
       " ('amap08', 'C5LM1-C5L', 'S'),\n",
       " ('amap05', 'C5M-C5LM1', 'S'),\n",
       " ('amap01', '-C6LM', 'B'),\n",
       " ('amap06', '-C6RM', 'B'),\n",
       " ('amap07', 'C6M-C6LM2', 'S'),\n",
       " ('amap02', 'C7M-C7R', 'B'),\n",
       " ('amap08', 'C6LM-C6LL', 'B'),\n",
       " ('amap05', 'C6RM-C6R', 'B'),\n",
       " ('amap01', 'C5M-C6LL', 'S-B'),\n",
       " ('amap03', 'C6M-C6LM1', 'S'),\n",
       " ('amap02', '-C6L', 'B'),\n",
       " ('amap07', 'C6LM1-C6L', 'S'),\n",
       " ('amap05', '-C6RR', 'B'),\n",
       " ('amap02', 'C6M-C6RM', 'B'),\n",
       " ('amap05', '-C6RM', 'B'),\n",
       " ('amap01', 'C6LM-C6M', 'B'),\n",
       " ('amap06', 'C6M-C6L', 'S'),\n",
       " ('amap01', '-C5LL', 'B'),\n",
       " ('amap08', 'C5M-C5L', 'S'),\n",
       " ('amap03', '-C5LL', 'S'),\n",
       " ('amap07', '-C6R', 'B'),\n",
       " ('amap03', 'C6M-C6R', 'B'),\n",
       " ('amap03', '-C5L', 'S'),\n",
       " ('amap02', '-C5L', 'B'),\n",
       " ('amap08', 'C6M-C6LM1', 'S'),\n",
       " ('amap01', '-C5LM', 'B'),\n",
       " ('amap05', 'C6M-C6L', 'S'),\n",
       " ('amap07', '-C5M', 'B'),\n",
       " ('amap01', '-C5LM2', 'S'),\n",
       " ('amap06', '-C6LM1', 'S'),\n",
       " ('amap04', '-C5M', 'B'),\n",
       " ('amap05', 'C5LM2-C5LL', 'S'),\n",
       " ('amap06', 'C5M-C5L', 'S'),\n",
       " ('amap07', '-C6M', 'S'),\n",
       " ('amap01', 'C5LM2-C5LM1', 'S'),\n",
       " ('amap08', '-C6LM2', 'S'),\n",
       " ('amap05', '-C6LM1', 'S'),\n",
       " ('amap08', 'C6M-C6L', 'B'),\n",
       " ('amap03', 'C5M-C5L', 'B'),\n",
       " ('amap06', '-C6LM2', 'S'),\n",
       " ('amap07', 'C6LM-C6L', 'B'),\n",
       " ('amap08', '-C6L', 'S'),\n",
       " ('amap08', 'C6M-C6LL', 'S'),\n",
       " ('amap03', 'C6M-C6RM', 'B'),\n",
       " ('amap01', 'C7LM-C7R', 'B'),\n",
       " ('amap03', 'C6M-C6LL', 'B'),\n",
       " ('amap08', '-C5LM', 'B'),\n",
       " ('amap03', 'C5LM2-C5L', 'S'),\n",
       " ('amap05', '-C6LM2', 'S'),\n",
       " ('amap06', '-C6L', 'S'),\n",
       " ('amap06', 'C6M-C6LL', 'S'),\n",
       " ('amap05', '-C5LL', 'B'),\n",
       " ('amap06', '-C5LM2', 'S'),\n",
       " ('amap08', 'C6M-C6LM', 'B'),\n",
       " ('amap01', '-C5M', 'S'),\n",
       " ('amap01', '-C6LL', 'B'),\n",
       " ('amap07', '-C5LL', 'S'),\n",
       " ('amap03', 'C6LM2-C6L', 'S'),\n",
       " ('amap04', '-C6M', 'B'),\n",
       " ('amap04', '-C5LL', 'S'),\n",
       " ('amap07', 'C6M-C6R', 'B'),\n",
       " ('amap06', 'C5LM2-C5LM1', 'S'),\n",
       " ('amap01', '-C7M', 'B'),\n",
       " ('amap03', '-C6L', 'B'),\n",
       " ('amap06', 'C6LM2-C6LL', 'S'),\n",
       " ('amap08', '-C5LM1', 'S'),\n",
       " ('amap05', '-C5LM2', 'S'),\n",
       " ('amap05', 'C5LM2-C5LM1', 'S'),\n",
       " ('amap05', 'C6LM2-C6LL', 'S'),\n",
       " ('amap06', '-C5LM1', 'S'),\n",
       " ('amap05', 'C5M-C5LL', 'S'),\n",
       " ('amap02', '-C6RM', 'B'),\n",
       " ('amap04', '-C6LL', 'S'),\n",
       " ('amap01', 'C6LM-C6RM', 'B'),\n",
       " ('amap08', 'C5L-C5LL', 'S'),\n",
       " ('amap01', 'C7M-C7RM', 'B'),\n",
       " ('amap07', 'C5M-C5LM', 'B'),\n",
       " ('amap01', 'C7R-C7RR', 'B'),\n",
       " ('amap07', 'C5M-C5L', 'B'),\n",
       " ('amap04', 'C6LM2-C6L', 'S'),\n",
       " ('amap03', 'C6M-C6LM2', 'S'),\n",
       " ('amap07', 'C6M-C6RM', 'B'),\n",
       " ('amap08', 'C6L-C6LL', 'S'),\n",
       " ('amap01', 'C5M-C6L', 'S-B'),\n",
       " ('amap01', 'C7LM-C7RR', 'B'),\n",
       " ('amap06', 'C5L-C5LL', 'S'),\n",
       " ('amap08', 'C5LM1-C5LL', 'S'),\n",
       " ('amap01', 'C6R-C6RR', 'B'),\n",
       " ('amap08', 'C5M-C5LL', 'B'),\n",
       " ('amap07', '-C5L', 'S'),\n",
       " ('amap07', 'C5LM2-C5L', 'S'),\n",
       " ('amap01', '-C7RR', 'B'),\n",
       " ('amap06', '-C5M', 'S'),\n",
       " ('amap01', 'C6M-C6RR', 'B'),\n",
       " ('amap08', 'C6LM1-C6L', 'S'),\n",
       " ('amap02', 'C6RM-C6R', 'B'),\n",
       " ('amap01', 'C6RM-C6RR', 'B'),\n",
       " ('amap06', 'C6M-C6RR', 'B'),\n",
       " ('amap02', '-C6RR', 'B'),\n",
       " ('amap03', 'C6LM2-C6LM1', 'S'),\n",
       " ('amap05', '-C5M', 'S'),\n",
       " ('amap05', '-C6LL', 'B'),\n",
       " ('amap01', 'C5LM1-C5L', 'S'),\n",
       " ('amap03', '-C6R', 'B'),\n",
       " ('amap03', '-C6RR', 'B'),\n",
       " ('amap08', 'C6LM-C6L', 'B'),\n",
       " ('amap02', 'C6LM-C6RR', 'B'),\n",
       " ('amap06', 'C6LM1-C6L', 'S'),\n",
       " ('amap03', 'C6L-C6LL', 'B'),\n",
       " ('amap02', 'C5LM2-C5LL', 'S'),\n",
       " ('amap04', 'C6LM1-C6LL', 'S'),\n",
       " ('amap08', '-C5M', 'B'),\n",
       " ('amap03', 'C5M-C5LM2', 'S'),\n",
       " ('amap02', 'C7M-C7RR', 'B'),\n",
       " ('amap08', '-C6M', 'S'),\n",
       " ('amap02', '-C5LL', 'B'),\n",
       " ('amap06', 'C6R-C6RR', 'B'),\n",
       " ('amap02', 'C7RM-C7R', 'B'),\n",
       " ('amap07', '-C6LL', 'S'),\n",
       " ('amap02', '-C6LM', 'B'),\n",
       " ('amap05', 'C6R-C6RR', 'B'),\n",
       " ('amap01', '-C5L', 'S'),\n",
       " ('amap06', 'C6RM-C6RR', 'B'),\n",
       " ('amap03', '-C6RM', 'B'),\n",
       " ('amap06', 'C5LM1-C5L', 'S'),\n",
       " ('amap07', 'C6LM2-C6L', 'S'),\n",
       " ('amap05', 'C6M-C6RR', 'B'),\n",
       " ('amap07', '-C6L', 'B'),\n",
       " ('amap05', '-C6M', 'S'),\n",
       " ('amap07', 'C6M-C6LL', 'B'),\n",
       " ('amap02', 'C5M-C6LL', 'S-B'),\n",
       " ('amap05', 'C6RM-C6RR', 'B'),\n",
       " ('amap03', 'C5M-C5LM1', 'S'),\n",
       " ('amap02', 'C6LM-C6M', 'B'),\n",
       " ('amap05', 'C6M-C6LM1', 'S'),\n",
       " ('amap05', 'C5LM1-C5L', 'S'),\n",
       " ('amap03', 'C6M-C6L', 'S'),\n",
       " ('amap03', '-C6M', 'B'),\n",
       " ('amap01', '-C5LM1', 'S'),\n",
       " ('amap04', 'C6LM2-C6LM1', 'S'),\n",
       " ('amap03', 'C5LM2-C5LL', 'S'),\n",
       " ('amap01', 'C6LM-C6R', 'B'),\n",
       " ('amap04', '-C6RR', 'B'),\n",
       " ('amap04', '-C6RM', 'B'),\n",
       " ('amap01', 'C5LM2-C6L', 'S-B'),\n",
       " ('amap03', 'C6RM-C6R', 'B'),\n",
       " ('amap01', 'C5M-C5LM', 'B'),\n",
       " ('amap06', '-C6M', 'S'),\n",
       " ('amap03', '-C6LM1', 'S'),\n",
       " ('amap02', '-C5LM2', 'S'),\n",
       " ('amap08', '-C5LL', 'S'),\n",
       " ('amap07', 'C6L-C6LL', 'B'),\n",
       " ('amap01', 'C7LM-C7RM', 'B'),\n",
       " ('amap08', '-C5L', 'S'),\n",
       " ('amap08', 'C6M-C6R', 'B'),\n",
       " ('amap06', 'C6M-C6LM1', 'S'),\n",
       " ('amap02', 'C5LM2-C5LM1', 'S'),\n",
       " ('amap04', 'C6M-C6L', 'S'),\n",
       " ('amap01', 'C5LM2-C5L', 'S'),\n",
       " ('amap01', 'C5L-C5LL', 'S'),\n",
       " ('amap04', 'C5M-C5LM2', 'S'),\n",
       " ('amap05', 'C5M-C5L', 'S'),\n",
       " ('amap04', 'C5LM2-C5LL', 'S'),\n",
       " ('amap05', '-C6L', 'S'),\n",
       " ('amap06', 'C6M-C6R', 'B'),\n",
       " ('amap05', 'C6M-C6LL', 'S'),\n",
       " ('amap02', '-C5M', 'S'),\n",
       " ('amap04', '-C6LM1', 'S'),\n",
       " ('amap04', 'C5M-C5L', 'S'),\n",
       " ('amap07', 'C6LM2-C6LM1', 'S'),\n",
       " ('amap05', '-C5L', 'S'),\n",
       " ('amap02', 'C7LM-C7R', 'B'),\n",
       " ('amap04', 'C6RM-C6R', 'B'),\n",
       " ('amap08', 'C5M-C5LM', 'B'),\n",
       " ('amap07', '-C6RM', 'B'),\n",
       " ('amap08', 'C5M-C5L', 'B'),\n",
       " ('amap01', 'C7LM-C7M', 'B'),\n",
       " ('amap03', '-C5LL', 'B'),\n",
       " ('amap03', '-C5L', 'B'),\n",
       " ('amap08', 'C6M-C6RM', 'B'),\n",
       " ('amap01', '-C7RM', 'B'),\n",
       " ('amap08', 'C5LM2-C5L', 'S'),\n",
       " ('amap04', '-C6LM2', 'S'),\n",
       " ('amap04', 'C5M-C5LM1', 'S'),\n",
       " ('amap05', '-C5LM1', 'S'),\n",
       " ('amap06', '-C5L', 'S'),\n",
       " ('amap07', 'C6M-C6L', 'S'),\n",
       " ('amap07', '-C6M', 'B'),\n",
       " ('amap07', 'C5M-C5LM2', 'S'),\n",
       " ('amap02', 'C7M-C7RM', 'B'),\n",
       " ('amap03', '-C6LL', 'S'),\n",
       " ('amap02', '-C6LL', 'B'),\n",
       " ('amap06', 'C6M-C6RM', 'B'),\n",
       " ('amap03', 'C5LM2-C5LM1', 'S'),\n",
       " ('amap01', 'C5LM1-C5LL', 'S'),\n",
       " ('amap03', 'C6LM2-C6LL', 'S'),\n",
       " ('amap02', '-C7M', 'B'),\n",
       " ('amap01', 'C5M-C5LL', 'B'),\n",
       " ('amap06', 'C5LM2-C5L', 'S'),\n",
       " ('amap01', '-C7R', 'B'),\n",
       " ('amap03', 'C6LM1-C6LL', 'S'),\n",
       " ('amap03', 'C5M-C5LL', 'S'),\n",
       " ('amap07', '-C6LM1', 'S'),\n",
       " ('amap07', '-C6RR', 'B'),\n",
       " ('amap02', 'C6R-C6RR', 'B'),\n",
       " ('amap08', 'C6LM2-C6L', 'S'),\n",
       " ('amap08', '-C6L', 'B'),\n",
       " ('amap05', 'C5LM2-C5L', 'S'),\n",
       " ('amap02', 'C6M-C6RR', 'B'),\n",
       " ('amap04', '-C5LM2', 'S'),\n",
       " ('amap05', 'C5L-C5LL', 'S'),\n",
       " ('amap08', 'C6M-C6LL', 'B'),\n",
       " ('amap06', 'C6LM2-C6L', 'S'),\n",
       " ('amap04', 'C5LM2-C5LM1', 'S'),\n",
       " ('amap02', 'C6LM-C6RM', 'B'),\n",
       " ('amap01', 'C6LL-C6L', 'B'),\n",
       " ('amap04', 'C6LM2-C6LL', 'S'),\n",
       " ('amap05', 'C6L-C6LL', 'S'),\n",
       " ('amap07', 'C5LM2-C5LL', 'S'),\n",
       " ('amap02', 'C7R-C7RR', 'B'),\n",
       " ('amap04', 'C5M-C5LL', 'S'),\n",
       " ('amap04', 'C5L-C5LL', 'S'),\n",
       " ('amap07', 'C5M-C5LM1', 'S'),\n",
       " ('amap01', '-C6R', 'B'),\n",
       " ('amap01', 'C5LM2-C6LL', 'S-B'),\n",
       " ('amap02', 'C5M-C6L', 'S-B'),\n",
       " ('amap01', '-C5M', 'B'),\n",
       " ('amap02', 'C7LM-C7RR', 'B'),\n",
       " ('amap05', 'C6LM1-C6L', 'S'),\n",
       " ('amap07', '-C5LL', 'B'),\n",
       " ('amap08', '-C6LL', 'S'),\n",
       " ('amap02', '-C7RR', 'B'),\n",
       " ('amap03', '-C6LL', 'B'),\n",
       " ('amap04', '-C5LL', 'B'),\n",
       " ('amap07', 'C6RM-C6R', 'B'),\n",
       " ('amap08', 'C6M-C6LM2', 'S'),\n",
       " ('amap06', 'C6L-C6LL', 'S'),\n",
       " ('amap07', '-C6LM', 'B'),\n",
       " ('amap03', 'C6M-C6RR', 'B'),\n",
       " ('amap07', '-C5LM', 'B'),\n",
       " ('amap02', 'C6RM-C6RR', 'B'),\n",
       " ('amap07', '-C5LM2', 'S'),\n",
       " ('amap02', 'C5LM1-C5L', 'S'),\n",
       " ('amap01', 'C5LM2-C5M', 'S'),\n",
       " ('amap06', 'C6M-C6LM2', 'S'),\n",
       " ('amap05', 'C5LM1-C5LL', 'S'),\n",
       " ('amap05', 'C5M-C5LL', 'B'),\n",
       " ('amap07', 'C5LM2-C5LM1', 'S'),\n",
       " ('amap07', 'C6LM2-C6LL', 'S'),\n",
       " ('amap08', 'C6LM2-C6LM1', 'S'),\n",
       " ('amap08', '-C6R', 'B'),\n",
       " ('amap04', '-C6LL', 'B'),\n",
       " ('amap07', 'C5M-C5LL', 'S'),\n",
       " ('amap05', 'C6M-C6LM2', 'S'),\n",
       " ('amap06', 'C6LM2-C6LM1', 'S'),\n",
       " ('amap08', 'C6L-C6LL', 'B'),\n",
       " ('amap06', 'C5LM1-C5LL', 'S'),\n",
       " ('amap07', '-C5L', 'B'),\n",
       " ('amap03', 'C6R-C6RR', 'B'),\n",
       " ('amap08', 'C5M-C5LM2', 'S'),\n",
       " ('amap05', '-C6R', 'B'),\n",
       " ('amap02', '-C5LM', 'B'),\n",
       " ('amap01', '-C6M', 'B'),\n",
       " ('amap01', '-C5LL', 'S'),\n",
       " ('amap01', 'C6M-C6R', 'B'),\n",
       " ('amap05', '-C5M', 'B'),\n",
       " ('amap08', '-C6RR', 'B'),\n",
       " ('amap02', '-C5L', 'S'),\n",
       " ('amap07', 'C5L-C5LL', 'S'),\n",
       " ('amap06', 'C5M-C5LM2', 'S'),\n",
       " ('amap07', '-C5M', 'S'),\n",
       " ('amap04', '-C5M', 'S'),\n",
       " ('amap07', 'C6LM1-C6LL', 'S'),\n",
       " ('amap08', '-C6RM', 'B'),\n",
       " ('amap06', '-C6R', 'B'),\n",
       " ('amap01', 'C6LM-C6RR', 'B'),\n",
       " ('amap04', 'C6M-C6RR', 'B'),\n",
       " ('amap02', '-C5LM1', 'S'),\n",
       " ('amap02', 'C6LM-C6R', 'B'),\n",
       " ('amap01', 'C7M-C7R', 'B'),\n",
       " ('amap08', 'C5M-C5LM1', 'S'),\n",
       " ('amap05', 'C6M-C6R', 'B'),\n",
       " ('amap01', 'C5M-C5L', 'B'),\n",
       " ('amap02', 'C5LM2-C6L', 'S-B'),\n",
       " ('amap08', 'C6M-C6L', 'S'),\n",
       " ('amap02', 'C5M-C5LM', 'B'),\n",
       " ('amap08', '-C6M', 'B'),\n",
       " ('amap01', '-C6L', 'B'),\n",
       " ('amap03', 'C5M-C5L', 'S'),\n",
       " ('amap01', 'C6M-C6RM', 'B'),\n",
       " ('amap02', 'C7LM-C7RM', 'B'),\n",
       " ('amap08', 'C6RM-C6R', 'B'),\n",
       " ('amap03', 'C6M-C6LL', 'S'),\n",
       " ('amap06', 'C5M-C5LM1', 'S'),\n",
       " ('amap07', '-C6LL', 'B'),\n",
       " ('amap08', '-C6LM1', 'S'),\n",
       " ('amap02', 'C5LM2-C5L', 'S'),\n",
       " ('amap06', '-C5LL', 'S'),\n",
       " ('amap02', 'C5L-C5LL', 'S'),\n",
       " ('amap01', '-C5L', 'B')]"
      ]
     },
     "execution_count": 428,
     "metadata": {},
     "output_type": "execute_result"
    }
   ],
   "source": [
    "left, right = ('LM1', 'S'), ('LM', 'B')\n",
    "left, right = dictBool[left], dictBool[right]\n",
    "\n",
    "combinations_no_response\n"
   ]
  },
  {
   "cell_type": "code",
   "execution_count": null,
   "metadata": {},
   "outputs": [],
   "source": [
    "[u for u, b in zip(combinations_no_response, left) if b]"
   ]
  },
  {
   "cell_type": "markdown",
   "metadata": {},
   "source": [
    "# Lateral vs Medial"
   ]
  },
  {
   "cell_type": "code",
   "execution_count": 449,
   "metadata": {},
   "outputs": [],
   "source": [
    "dictBool = {}\n",
    "\n",
    "dictBool[('M-LL', 'S')] = np.array([bool(s[1].split(\"-\")[0][2:] == \"M\" and s[1].split(\"-\")[1][2:] == \"LL\" and s[2] == \"S\") for s in combinations_no_response])\n",
    "dictBool[('M-L', 'S')]  = np.array([bool(s[1].split(\"-\")[0][2:] == \"M\" and s[1].split(\"-\")[1][2:] == \"L\" and s[2] == \"S\") for s in combinations_no_response])\n",
    "dictBool[('M-LM1', 'S')]  = np.array([bool(s[1].split(\"-\")[0][2:] == \"M\" and s[1].split(\"-\")[1][2:] == \"LM1\" and s[2] == \"S\") for s in combinations_no_response])\n",
    "dictBool[('M-LM2', 'S')]  = np.array([bool(s[1].split(\"-\")[0][2:] == \"M\" and s[1].split(\"-\")[1][2:] == \"LM2\" and s[2] == \"S\") for s in combinations_no_response])\n",
    "dictBool[('M-M', 'S')]  = np.array([bool(s[1].split(\"-\")[0][2:] == \"M\" and s[1].split(\"-\")[1][2:] == \"M\" and s[2] == \"S\") for s in combinations_no_response])\n",
    "dictBool[('M-LL', 'B')]  = np.array([bool(s[1].split(\"-\")[0][2:] == \"M\" and s[1].split(\"-\")[1][2:] == \"LL\" and s[2] == \"B\") for s in combinations_no_response])\n",
    "dictBool[('M-L', 'B')] = np.array([bool(s[1].split(\"-\")[0][2:] == \"M\" and s[1].split(\"-\")[1][2:] == \"L\" and s[2] == \"B\") for s in combinations_no_response])\n",
    "dictBool[('M-LM', 'B')] = np.array([bool(s[1].split(\"-\")[0][2:] == \"M\" and s[1].split(\"-\")[1][2:] == \"LM\" and s[2] == \"B\") for s in combinations_no_response])\n",
    "dictBool[('M-M', 'B')] = np.array([bool(s[1].split(\"-\")[0][2:] == \"M\" and s[1].split(\"-\")[1][2:] == \"M\" and s[2] == \"B\") for s in combinations_no_response])"
   ]
  },
  {
   "cell_type": "code",
   "execution_count": 450,
   "metadata": {},
   "outputs": [
    {
     "data": {
      "text/plain": [
       "{('M-LL',\n",
       "  'Big vs Small'): [\"('M-LL', 'B') is more effective than ('M-LL', 'S') (p = 0.0038092487500114634)\"],\n",
       " ('M-L',\n",
       "  'B'): [\"('M-L', 'B') is more effective than ('M-LL', 'B') (p = 0.0002966804667118571)\", \"('M-L', 'B') is more effective than ('M-LM', 'B') (p = 0.0022280145873721817)\"],\n",
       " ('M-L',\n",
       "  'Big vs Small'): [\"('M-L', 'B') is more effective than ('M-L', 'S') (p = 1.8820580235937052e-08)\"]}"
      ]
     },
     "execution_count": 450,
     "metadata": {},
     "output_type": "execute_result"
    }
   ],
   "source": [
    "p = [p[0] for p in dictBool.keys()]\n",
    "lvm = {}\n",
    "\n",
    "for val in p:\n",
    "    small = bvs(val, \"S\")\n",
    "    big = bvs(val,\"B\")\n",
    "    lvm[val, \"S\"] = small\n",
    "    lvm[val, \"B\"] = big\n",
    "    combo = bvs(val,\"C\")\n",
    "    lvm[val, \"Big vs Small\"] = combo\n",
    "\n",
    "\n",
    "lvm = filter_dict_by_strings(lvm, \"effective\")\n",
    "lvm\n"
   ]
  },
  {
   "cell_type": "code",
   "execution_count": 521,
   "metadata": {},
   "outputs": [
    {
     "data": {
      "text/plain": [
       "<matplotlib.collections.PathCollection at 0x7f8b4293c4d0>"
      ]
     },
     "execution_count": 521,
     "metadata": {},
     "output_type": "execute_result"
    },
    {
     "data": {
      "image/png": "[encoded data removed]",
      "text/plain": [
       "<Figure size 640x480 with 1 Axes>"
      ]
     },
     "metadata": {},
     "output_type": "display_data"
    }
   ],
   "source": [
    "target = {}\n",
    "MLL= arr[:, dictBool[(('M-LL', 'S'))], ...].mean(axis = 0).reshape(-1,)\n",
    "MLM1 = arr[:, dictBool[(('M-LM1', 'S'))], ...].mean(axis = 0).reshape(-1,)\n",
    "MLM2 = arr[:, dictBool[(('M-LM2', 'S'))], ...].mean(axis = 0).reshape(-1,)\n",
    "ML = arr[:, dictBool[(('M-L', 'S'))], ...].mean(axis = 0).reshape(-1,)\n",
    "target.update({'MLL':MLL, 'ML':ML, 'MLM1':MLM1,'MLM2':MLM2})\n",
    "\n",
    "\n",
    "val = [c[1] for c in target]\n",
    "y=[0,0,0,0]\n",
    "\n",
    "\n",
    "fig, ax = plt.subplots()\n",
    "\n",
    "ax.scatter(val, y)\n",
    "\n",
    "for i, txt in enumerate(n):\n",
    "    ax.annotate(txt, (val[i], y[i]))\n",
    "plt.scatter(val,y)\n",
    "\n"
   ]
  },
  {
   "cell_type": "code",
   "execution_count": 511,
   "metadata": {},
   "outputs": [
    {
     "data": {
      "text/plain": [
       "[('amap07', 'C5M-C5L', 'S'),\n",
       " ('amap06', 'C6M-C6L', 'S'),\n",
       " ('amap08', 'C5M-C5L', 'S'),\n",
       " ('amap05', 'C6M-C6L', 'S'),\n",
       " ('amap06', 'C5M-C5L', 'S'),\n",
       " ('amap03', 'C6M-C6L', 'S'),\n",
       " ('amap04', 'C6M-C6L', 'S'),\n",
       " ('amap05', 'C5M-C5L', 'S'),\n",
       " ('amap04', 'C5M-C5L', 'S'),\n",
       " ('amap07', 'C6M-C6L', 'S'),\n",
       " ('amap08', 'C6M-C6L', 'S'),\n",
       " ('amap03', 'C5M-C5L', 'S')]"
      ]
     },
     "execution_count": 511,
     "metadata": {},
     "output_type": "execute_result"
    }
   ],
   "source": [
    "[u for u, b in zip(combinations_no_response, dictBool[('M-L', 'S')]) if b]"
   ]
  },
  {
   "cell_type": "code",
   "execution_count": 530,
   "metadata": {},
   "outputs": [
    {
     "data": {
      "text/plain": [
       "<matplotlib.legend.Legend at 0x7f8b4266a6d0>"
      ]
     },
     "execution_count": 530,
     "metadata": {},
     "output_type": "execute_result"
    },
    {
     "data": {
      "image/png": "[encoded data removed]",
      "text/plain": [
       "<Figure size 640x480 with 1 Axes>"
      ]
     },
     "metadata": {},
     "output_type": "display_data"
    }
   ],
   "source": [
    "ind = dictBool[('M-L', 'S')]\n",
    "t = (arr[:, ind, ...])\n",
    "samples = t.mean(axis=(-1, -2))\n",
    "sns.kdeplot(samples)\n",
    "plt.axvline(samples.mean(), label=f\"{samples.mean()}\")\n",
    "plt.legend()"
   ]
  },
  {
   "cell_type": "code",
   "execution_count": 529,
   "metadata": {},
   "outputs": [
    {
     "data": {
      "text/plain": [
       "<matplotlib.legend.Legend at 0x7f8b43d24310>"
      ]
     },
     "execution_count": 529,
     "metadata": {},
     "output_type": "execute_result"
    },
    {
     "data": {
      "image/png": "[encoded data removed]",
      "text/plain": [
       "<Figure size 640x480 with 1 Axes>"
      ]
     },
     "metadata": {},
     "output_type": "display_data"
    }
   ],
   "source": [
    "ind = dictBool[('M-LL', 'S')]\n",
    "t = (arr[:, ind, ...])\n",
    "samples = t.mean(axis=(-1, -2))\n",
    "sns.kdeplot(samples)\n",
    "plt.axvline(samples.mean(), label=f\"{samples.mean()}\")\n",
    "plt.legend()\n"
   ]
  },
  {
   "cell_type": "code",
   "execution_count": null,
   "metadata": {},
   "outputs": [],
   "source": [
    "ind = dictBool[('M-L', 'S')]\n",
    "t = (arr[:, ind, ...])\n",
    "samples = t.mean(axis=(-1, -2))\n",
    "sns.kdeplot(samples)\n",
    "plt.axvline(samples.mean(), label=f\"{samples.mean()}\")\n",
    "plt.legend()"
   ]
  },
  {
   "cell_type": "code",
   "execution_count": 535,
   "metadata": {},
   "outputs": [
    {
     "data": {
      "image/png": "[encoded data removed]",
      "text/plain": [
       "<Figure size 1400x300 with 4 Axes>"
      ]
     },
     "metadata": {},
     "output_type": "display_data"
    }
   ],
   "source": [
    "nrows, ncols = 1, 4\n",
    "fig, axes = plt.subplots(\n",
    "    nrows=nrows,\n",
    "    ncols=ncols,\n",
    "    figsize=(14, 3),\n",
    "    constrained_layout=True,\n",
    "    squeeze=False\n",
    ")\n",
    "\n",
    "for i, alignment in enumerate([\"M-L\", \"M-LL\", \"M-LM1\", \"M-LM2\"]):\n",
    "    ax = axes[0, i]\n",
    "\n",
    "    ind = dictBool[(alignment, 'S')]\n",
    "    t = (arr[:, ind, ...])\n",
    "    samples = t.mean(axis=(-1, -2))\n",
    "    sns.kdeplot(samples, ax=ax)\n",
    "    ax.axvline(samples.mean(), label=f\"{samples.mean()}\")\n",
    "    ax.legend()\n",
    "    ax.set_title((alignment, 'S'))\n",
    "\n"
   ]
  }
 ],
 "metadata": {
  "kernelspec": {
   "display_name": "Python 3 (ipykernel)",
   "language": "python",
   "name": "python3"
  },
  "language_info": {
   "codemirror_mode": {
    "name": "ipython",
    "version": 3
   },
   "file_extension": ".py",
   "mimetype": "text/x-python",
   "name": "python",
   "nbconvert_exporter": "python",
   "pygments_lexer": "ipython3",
   "version": "3.11.9"
  }
 },
 "nbformat": 4,
 "nbformat_minor": 2
}
