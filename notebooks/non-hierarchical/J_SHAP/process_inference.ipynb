{
 "cells": [
  {
   "cell_type": "code",
   "execution_count": 1,
   "metadata": {},
   "outputs": [],
   "source": [
    "import os\n",
    "import pickle\n",
    "\n",
    "import numpy as np\n",
    "import numpy.ma as ma\n",
    "\n",
    "from hbmep.nn import functional as F\n",
    "from hbmep.model.utils import Site as site\n",
    "\n",
    "from models import (\n",
    "    NonHierarchicalBayesianModel\n",
    ")\n"
   ]
  },
  {
   "cell_type": "code",
   "execution_count": 2,
   "metadata": {},
   "outputs": [
    {
     "name": "stderr",
     "output_type": "stream",
     "text": [
      "An NVIDIA GPU may be present on this machine, but a CUDA-enabled jaxlib is not installed. Falling back to cpu.\n"
     ]
    }
   ],
   "source": [
    "src = \"/home/vishu/repos/rat-mapping-paper/reports/non-hierarchical/C_SMA_LAR/non_hierarchical_bayesian_model/inference.pkl\"\n",
    "\n",
    "with open(src, \"rb\") as f:\n",
    "    df, encoder_dict, model, posterior_samples, = pickle.load(f)\n",
    "\n"
   ]
  },
  {
   "cell_type": "code",
   "execution_count": 3,
   "metadata": {},
   "outputs": [
    {
     "data": {
      "text/plain": [
       "(1, 1, 1, 1, 1, 1000)"
      ]
     },
     "execution_count": 3,
     "metadata": {},
     "output_type": "execute_result"
    }
   ],
   "source": [
    "named_params = [site.a, site.b, site.L, site.ell, site.H]\n",
    "\n",
    "x = np.arange(0, 500, .5)\n",
    "x = x[*([None] * posterior_samples[site.a].ndim), :]\n",
    "x.shape\n"
   ]
  },
  {
   "cell_type": "code",
   "execution_count": 4,
   "metadata": {},
   "outputs": [],
   "source": [
    "posterior_samples = {\n",
    "    u: v.reshape(4, -1, *v.shape[1:]) for u, v in posterior_samples.items() if u in named_params\n",
    "}\n",
    "posterior_samples = {\n",
    "    u: v[:, -100:, ...] for u, v in posterior_samples.items()\n",
    "}\n",
    "posterior_samples = {\n",
    "    u: v.reshape(-1, *v.shape[2:]) for u, v in posterior_samples.items()\n",
    "}\n"
   ]
  },
  {
   "cell_type": "code",
   "execution_count": 5,
   "metadata": {},
   "outputs": [
    {
     "data": {
      "text/plain": [
       "(400, 8, 70, 3, 6, 1000)"
      ]
     },
     "execution_count": 5,
     "metadata": {},
     "output_type": "execute_result"
    }
   ],
   "source": [
    "y = F.rectified_logistic(\n",
    "    x,\n",
    "    *(posterior_samples[named_param][..., None] for named_param in named_params)\n",
    ")\n",
    "y = np.array(y)\n",
    "y.shape\n"
   ]
  },
  {
   "cell_type": "code",
   "execution_count": 6,
   "metadata": {},
   "outputs": [
    {
     "data": {
      "text/plain": [
       "(400, 8, 70, 3, 6)"
      ]
     },
     "execution_count": 6,
     "metadata": {},
     "output_type": "execute_result"
    }
   ],
   "source": [
    "L = posterior_samples[site.L]\n",
    "L.shape\n"
   ]
  },
  {
   "cell_type": "code",
   "execution_count": 7,
   "metadata": {},
   "outputs": [
    {
     "data": {
      "text/plain": [
       "(400, 8, 70, 3, 6, 1000)"
      ]
     },
     "execution_count": 7,
     "metadata": {},
     "output_type": "execute_result"
    }
   ],
   "source": [
    "y = y - L[..., None]\n",
    "y.shape\n"
   ]
  },
  {
   "cell_type": "code",
   "execution_count": 8,
   "metadata": {},
   "outputs": [],
   "source": [
    "subjects = sorted(df[model.features[0]].unique())\n",
    "subjects_inv = [encoder_dict[model.features[0]].inverse_transform([subject]).item() for subject in subjects]\n",
    "\n",
    "compound_positions = sorted(df[model.features[1]].unique())\n",
    "compound_positions_inv = [encoder_dict[model.features[1]].inverse_transform([cpos]).item() for cpos in compound_positions]\n",
    "\n",
    "compound_size = sorted(df[model.features[2]].unique())\n",
    "compound_size_inv = [encoder_dict[model.features[2]].inverse_transform([csize]).item() for csize in compound_size]\n",
    "\n",
    "combinations = df[model.features].apply(tuple, axis=1).unique().tolist()\n"
   ]
  },
  {
   "cell_type": "code",
   "execution_count": 11,
   "metadata": {},
   "outputs": [],
   "source": [
    "posterior_samples = {\n",
    "    u: ma.masked_array(v, mask=np.isnan(v)) for u, v in posterior_samples.items()\n",
    "}\n",
    "y = ma.masked_array(y, mask=np.isnan(y))\n"
   ]
  },
  {
   "cell_type": "code",
   "execution_count": 13,
   "metadata": {},
   "outputs": [],
   "source": [
    "dest = os.path.join(model.build_dir, \"processed_inference.pkl\")\n",
    "\n",
    "with open(dest, \"wb\") as f:\n",
    "    pickle.dump(\n",
    "        (df, encoder_dict, model, posterior_samples, y, subjects_inv, compound_positions_inv, compound_size_inv,),\n",
    "        f\n",
    "    )\n"
   ]
  },
  {
   "cell_type": "code",
   "execution_count": null,
   "metadata": {},
   "outputs": [],
   "source": []
  }
 ],
 "metadata": {
  "kernelspec": {
   "display_name": "Python 3 (ipykernel)",
   "language": "python",
   "name": "python3"
  },
  "language_info": {
   "codemirror_mode": {
    "name": "ipython",
    "version": 3
   },
   "file_extension": ".py",
   "mimetype": "text/x-python",
   "name": "python",
   "nbconvert_exporter": "python",
   "pygments_lexer": "ipython3",
   "version": "3.11.9"
  }
 },
 "nbformat": 4,
 "nbformat_minor": 2
}
