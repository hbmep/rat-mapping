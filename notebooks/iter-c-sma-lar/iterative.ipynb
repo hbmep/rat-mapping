{
 "cells": [
  {
   "cell_type": "code",
   "execution_count": 3,
   "metadata": {},
   "outputs": [],
   "source": [
    "import os\n",
    "import pickle\n",
    "\n",
    "import pandas as pd\n",
    "import numpy as np\n",
    "import numpy.ma as ma\n",
    "import matplotlib.pyplot as plt\n",
    "import seaborn as sns\n",
    "from scipy import stats\n",
    "\n",
    "from hbmep.config import Config\n",
    "from hbmep.model.utils import Site as site\n",
    "\n",
    "from models import NonHierarchicalBayesianModel\n",
    "from constants import (\n",
    "    TOML_PATH,\n",
    "    DATA_PATH,\n",
    "    BUILD_DIR,\n",
    ")\n",
    "\n",
    "\n",
    "COLUMNS = [\"participant\", \"compound_position\", \"compound_charge_params\"]\n"
   ]
  },
  {
   "cell_type": "code",
   "execution_count": 4,
   "metadata": {},
   "outputs": [
    {
     "name": "stdout",
     "output_type": "stream",
     "text": [
      "(16440, 44)\n"
     ]
    }
   ],
   "source": [
    "src = os.path.join(BUILD_DIR, \"inference.pkl\")\n",
    "with open(src, \"rb\") as f:\n",
    "    COMBINED_COMBINATIONS, COMBINED_POSTERIOR_SAMPLES = pickle.load(f)\n",
    "\n",
    "DATA = pd.read_csv(DATA_PATH)\n",
    "print(DATA.shape)\n",
    "\n",
    "config = Config(TOML_PATH)\n",
    "model = NonHierarchicalBayesianModel(config)\n"
   ]
  },
  {
   "cell_type": "markdown",
   "metadata": {},
   "source": [
    "## Midline - Lateral"
   ]
  },
  {
   "cell_type": "code",
   "execution_count": 5,
   "metadata": {},
   "outputs": [],
   "source": [
    "combinations = [\n",
    "    c for c in COMBINED_COMBINATIONS if (\n",
    "        # Remove 80-0-20-400 charge\n",
    "        c[2] != \"80-0-20-400\" and\n",
    "        # Remove ground contacts\n",
    "        \"\" not in c[1].split(\"-\") and\n",
    "        # At the same segment\n",
    "        c[1].split(\"-\")[0][:-1] == c[1].split(\"-\")[1][:-1]\n",
    "    )\n",
    "]\n",
    "\n",
    "combinations;\n",
    "\n",
    "ind = [c in combinations for c in COMBINED_COMBINATIONS]\n",
    "posterior_samples = {\n",
    "    u: v[:, ind, ...] for u, v in COMBINED_POSTERIOR_SAMPLES.items()\n",
    "}\n"
   ]
  },
  {
   "cell_type": "code",
   "execution_count": 6,
   "metadata": {},
   "outputs": [
    {
     "data": {
      "text/plain": [
       "(4000, 8, 2, 3, 3, 6)"
      ]
     },
     "execution_count": 6,
     "metadata": {},
     "output_type": "execute_result"
    }
   ],
   "source": [
    "directions = [\"L-M\", \"M-L\"]\n",
    "segments = [\"C6\", \"C7\", \"C8\"]\n",
    "charges = ['20-0-80-25', '50-0-50-0', '50-0-50-100']\n",
    "subjects = sorted(DATA[\"participant\"].unique().tolist())\n",
    "\n",
    "a = None\n",
    "a_mask = None\n",
    "\n",
    "for subject in subjects:\n",
    "    for direction in directions:\n",
    "        for segment in segments:\n",
    "            for charge in charges:\n",
    "                compound_position = f\"{segment}{direction[:-1]}{segment}{direction[-1]}\"\n",
    "                curr_combination = (subject, compound_position, charge)\n",
    "                if curr_combination in combinations:\n",
    "                    ind = [c == curr_combination for c in combinations]\n",
    "                    assert sum(ind) == 1\n",
    "                    if a is None:\n",
    "                        a = posterior_samples[site.a][:, ind, ...]\n",
    "                        a_mask = np.full(a.shape, False)\n",
    "                    else:\n",
    "                        a = np.concatenate([a, posterior_samples[site.a][:, ind, ...]], axis=1)\n",
    "                        a_mask = np.concatenate(\n",
    "                            [\n",
    "                                a_mask,\n",
    "                                np.full(\n",
    "                                    (\n",
    "                                        posterior_samples[site.a].shape[0],\n",
    "                                        1,\n",
    "                                        posterior_samples[site.a].shape[-1]\n",
    "                                    ),\n",
    "                                    False\n",
    "                                )\n",
    "                            ],\n",
    "                            axis=1\n",
    "                        )\n",
    "                else:\n",
    "                    if a is None:\n",
    "                        a = np.zeros((\n",
    "                            posterior_samples[site.a].shape[0],\n",
    "                            1,\n",
    "                            posterior_samples[site.a].shape[-1]\n",
    "                        ))\n",
    "                        a_mask = np.full(a.shape, True)\n",
    "                    else:\n",
    "                        a = np.concatenate(\n",
    "                            [\n",
    "                                a,\n",
    "                                np.zeros((\n",
    "                                    posterior_samples[site.a].shape[0],\n",
    "                                    1,\n",
    "                                    posterior_samples[site.a].shape[-1]\n",
    "                                ))\n",
    "                            ],\n",
    "                            axis=1\n",
    "                        )\n",
    "                        a_mask = np.concatenate(\n",
    "                            [\n",
    "                                a_mask,\n",
    "                                np.full(\n",
    "                                    (\n",
    "                                        posterior_samples[site.a].shape[0],\n",
    "                                        1,\n",
    "                                        posterior_samples[site.a].shape[-1],\n",
    "                                    ),\n",
    "                                    True\n",
    "                                ),\n",
    "                            ],\n",
    "                            axis=1\n",
    "                        )\n",
    "\n",
    "\n",
    "a = a.reshape(\n",
    "    -1, len(subjects), len(directions), len(segments), len(charges), *a.shape[2:]\n",
    ")\n",
    "a_mask = a_mask.reshape(\n",
    "    -1, len(subjects), len(directions), len(segments), len(charges), *a_mask.shape[2:]\n",
    ")\n",
    "\n",
    "a = ma.masked_array(a, mask=a_mask)\n",
    "a.shape\n"
   ]
  },
  {
   "cell_type": "code",
   "execution_count": 48,
   "metadata": {},
   "outputs": [],
   "source": [
    "def _heatmap_horizontal(segments_ind):\n",
    "    arr = []\n",
    "    arr_labels = []\n",
    "\n",
    "    for l_direction_ind, l_direction in enumerate(directions):\n",
    "        for l_charge_ind, l_charge in enumerate(charges):\n",
    "            match l_charge:\n",
    "                case \"20-0-80-25\": l_charge_name = \"P. Mono\"\n",
    "                case \"50-0-50-0\": l_charge_name = \"Monophasic\"\n",
    "                case \"50-0-50-100\": l_charge_name = \"Biphasic\"\n",
    "                case _: raise ValueError(f\"Unknown charge: {l_charge}\")\n",
    "            label = f\"{l_direction}\\n{l_charge_name}\"\n",
    "            arr_labels.append(label)\n",
    "\n",
    "            for r_direction_ind, r_direction in enumerate(directions):\n",
    "                for r_charge_ind, r_charge in enumerate(charges):\n",
    "                    if (l_direction_ind == r_direction_ind) and (l_charge_ind == r_charge_ind):\n",
    "                        arr.append(1)\n",
    "                        continue\n",
    "\n",
    "                    l_samples = a[:, :, l_direction_ind, segments_ind, l_charge_ind, ...].mean(axis=0)\n",
    "                    r_samples = a[:, :, r_direction_ind, segments_ind, r_charge_ind, ...].mean(axis=0)\n",
    "                    pvalue = stats.ttest_1samp(l_samples - r_samples, popmean=0, alternative=\"less\", axis=(0, 1, 2)).pvalue\n",
    "                    arr.append(pvalue)\n",
    "\n",
    "    arr = np.array(arr)\n",
    "    arr = arr.reshape(-1, len(arr_labels))\n",
    "    arr_mask = np.diag(arr)\n",
    "    return arr, arr_labels, arr_mask\n"
   ]
  },
  {
   "cell_type": "code",
   "execution_count": 74,
   "metadata": {},
   "outputs": [
    {
     "ename": "ValueError",
     "evalue": "Mask must have the same shape as data.",
     "output_type": "error",
     "traceback": [
      "\u001b[0;31m---------------------------------------------------------------------------\u001b[0m",
      "\u001b[0;31mValueError\u001b[0m                                Traceback (most recent call last)",
      "Cell \u001b[0;32mIn[74], line 17\u001b[0m\n\u001b[1;32m     15\u001b[0m arr, arr_labels, arr_mask \u001b[38;5;241m=\u001b[39m _heatmap_horizontal(segments_ind)\n\u001b[1;32m     16\u001b[0m ax \u001b[38;5;241m=\u001b[39m axes[segment_ind \u001b[38;5;241m/\u001b[39m\u001b[38;5;241m/\u001b[39m ncols, segment_ind \u001b[38;5;241m%\u001b[39m ncols]\n\u001b[0;32m---> 17\u001b[0m \u001b[43msns\u001b[49m\u001b[38;5;241;43m.\u001b[39;49m\u001b[43mheatmap\u001b[49m\u001b[43m(\u001b[49m\u001b[43marr\u001b[49m\u001b[43m,\u001b[49m\u001b[43m \u001b[49m\u001b[43mxticklabels\u001b[49m\u001b[38;5;241;43m=\u001b[39;49m\u001b[43marr_labels\u001b[49m\u001b[43m,\u001b[49m\u001b[43m \u001b[49m\u001b[43myticklabels\u001b[49m\u001b[38;5;241;43m=\u001b[39;49m\u001b[43marr_labels\u001b[49m\u001b[43m,\u001b[49m\u001b[43m \u001b[49m\u001b[43mannot\u001b[49m\u001b[38;5;241;43m=\u001b[39;49m\u001b[38;5;28;43;01mTrue\u001b[39;49;00m\u001b[43m,\u001b[49m\u001b[43m \u001b[49m\u001b[43max\u001b[49m\u001b[38;5;241;43m=\u001b[39;49m\u001b[43max\u001b[49m\u001b[43m,\u001b[49m\u001b[43m \u001b[49m\u001b[43mmask\u001b[49m\u001b[38;5;241;43m=\u001b[39;49m\u001b[43mnp\u001b[49m\u001b[38;5;241;43m.\u001b[39;49m\u001b[43mdiag\u001b[49m\u001b[43m(\u001b[49m\u001b[43marr_mask\u001b[49m\u001b[43m)\u001b[49m\u001b[43m,\u001b[49m\u001b[43m \u001b[49m\u001b[38;5;241;43m*\u001b[39;49m\u001b[38;5;241;43m*\u001b[39;49m\u001b[43mheatmap_kwargs\u001b[49m\u001b[43m)\u001b[49m\n\u001b[1;32m     18\u001b[0m ax\u001b[38;5;241m.\u001b[39mtick_params(axis\u001b[38;5;241m=\u001b[39m\u001b[38;5;124m\"\u001b[39m\u001b[38;5;124mx\u001b[39m\u001b[38;5;124m\"\u001b[39m, rotation\u001b[38;5;241m=\u001b[39m\u001b[38;5;241m0\u001b[39m)\n\u001b[1;32m     19\u001b[0m \u001b[38;5;28;01mmatch\u001b[39;00m segment:\n",
      "File \u001b[0;32m~/repos/rat-mapping-paper/.venv/lib/python3.11/site-packages/seaborn/matrix.py:446\u001b[0m, in \u001b[0;36mheatmap\u001b[0;34m(data, vmin, vmax, cmap, center, robust, annot, fmt, annot_kws, linewidths, linecolor, cbar, cbar_kws, cbar_ax, square, xticklabels, yticklabels, mask, ax, **kwargs)\u001b[0m\n\u001b[1;32m    365\u001b[0m \u001b[38;5;250m\u001b[39m\u001b[38;5;124;03m\"\"\"Plot rectangular data as a color-encoded matrix.\u001b[39;00m\n\u001b[1;32m    366\u001b[0m \n\u001b[1;32m    367\u001b[0m \u001b[38;5;124;03mThis is an Axes-level function and will draw the heatmap into the\u001b[39;00m\n\u001b[0;32m   (...)\u001b[0m\n\u001b[1;32m    443\u001b[0m \n\u001b[1;32m    444\u001b[0m \u001b[38;5;124;03m\"\"\"\u001b[39;00m\n\u001b[1;32m    445\u001b[0m \u001b[38;5;66;03m# Initialize the plotter object\u001b[39;00m\n\u001b[0;32m--> 446\u001b[0m plotter \u001b[38;5;241m=\u001b[39m \u001b[43m_HeatMapper\u001b[49m\u001b[43m(\u001b[49m\u001b[43mdata\u001b[49m\u001b[43m,\u001b[49m\u001b[43m \u001b[49m\u001b[43mvmin\u001b[49m\u001b[43m,\u001b[49m\u001b[43m \u001b[49m\u001b[43mvmax\u001b[49m\u001b[43m,\u001b[49m\u001b[43m \u001b[49m\u001b[43mcmap\u001b[49m\u001b[43m,\u001b[49m\u001b[43m \u001b[49m\u001b[43mcenter\u001b[49m\u001b[43m,\u001b[49m\u001b[43m \u001b[49m\u001b[43mrobust\u001b[49m\u001b[43m,\u001b[49m\u001b[43m \u001b[49m\u001b[43mannot\u001b[49m\u001b[43m,\u001b[49m\u001b[43m \u001b[49m\u001b[43mfmt\u001b[49m\u001b[43m,\u001b[49m\n\u001b[1;32m    447\u001b[0m \u001b[43m                      \u001b[49m\u001b[43mannot_kws\u001b[49m\u001b[43m,\u001b[49m\u001b[43m \u001b[49m\u001b[43mcbar\u001b[49m\u001b[43m,\u001b[49m\u001b[43m \u001b[49m\u001b[43mcbar_kws\u001b[49m\u001b[43m,\u001b[49m\u001b[43m \u001b[49m\u001b[43mxticklabels\u001b[49m\u001b[43m,\u001b[49m\n\u001b[1;32m    448\u001b[0m \u001b[43m                      \u001b[49m\u001b[43myticklabels\u001b[49m\u001b[43m,\u001b[49m\u001b[43m \u001b[49m\u001b[43mmask\u001b[49m\u001b[43m)\u001b[49m\n\u001b[1;32m    450\u001b[0m \u001b[38;5;66;03m# Add the pcolormesh kwargs here\u001b[39;00m\n\u001b[1;32m    451\u001b[0m kwargs[\u001b[38;5;124m\"\u001b[39m\u001b[38;5;124mlinewidths\u001b[39m\u001b[38;5;124m\"\u001b[39m] \u001b[38;5;241m=\u001b[39m linewidths\n",
      "File \u001b[0;32m~/repos/rat-mapping-paper/.venv/lib/python3.11/site-packages/seaborn/matrix.py:113\u001b[0m, in \u001b[0;36m_HeatMapper.__init__\u001b[0;34m(self, data, vmin, vmax, cmap, center, robust, annot, fmt, annot_kws, cbar, cbar_kws, xticklabels, yticklabels, mask)\u001b[0m\n\u001b[1;32m    110\u001b[0m     data \u001b[38;5;241m=\u001b[39m pd\u001b[38;5;241m.\u001b[39mDataFrame(plot_data)\n\u001b[1;32m    112\u001b[0m \u001b[38;5;66;03m# Validate the mask and convert to DataFrame\u001b[39;00m\n\u001b[0;32m--> 113\u001b[0m mask \u001b[38;5;241m=\u001b[39m \u001b[43m_matrix_mask\u001b[49m\u001b[43m(\u001b[49m\u001b[43mdata\u001b[49m\u001b[43m,\u001b[49m\u001b[43m \u001b[49m\u001b[43mmask\u001b[49m\u001b[43m)\u001b[49m\n\u001b[1;32m    115\u001b[0m plot_data \u001b[38;5;241m=\u001b[39m np\u001b[38;5;241m.\u001b[39mma\u001b[38;5;241m.\u001b[39mmasked_where(np\u001b[38;5;241m.\u001b[39masarray(mask), plot_data)\n\u001b[1;32m    117\u001b[0m \u001b[38;5;66;03m# Get good names for the rows and columns\u001b[39;00m\n",
      "File \u001b[0;32m~/repos/rat-mapping-paper/.venv/lib/python3.11/site-packages/seaborn/matrix.py:75\u001b[0m, in \u001b[0;36m_matrix_mask\u001b[0;34m(data, mask)\u001b[0m\n\u001b[1;32m     72\u001b[0m \u001b[38;5;28;01mif\u001b[39;00m \u001b[38;5;28misinstance\u001b[39m(mask, np\u001b[38;5;241m.\u001b[39mndarray):\n\u001b[1;32m     73\u001b[0m     \u001b[38;5;66;03m# For array masks, ensure that shape matches data then convert\u001b[39;00m\n\u001b[1;32m     74\u001b[0m     \u001b[38;5;28;01mif\u001b[39;00m mask\u001b[38;5;241m.\u001b[39mshape \u001b[38;5;241m!=\u001b[39m data\u001b[38;5;241m.\u001b[39mshape:\n\u001b[0;32m---> 75\u001b[0m         \u001b[38;5;28;01mraise\u001b[39;00m \u001b[38;5;167;01mValueError\u001b[39;00m(\u001b[38;5;124m\"\u001b[39m\u001b[38;5;124mMask must have the same shape as data.\u001b[39m\u001b[38;5;124m\"\u001b[39m)\n\u001b[1;32m     77\u001b[0m     mask \u001b[38;5;241m=\u001b[39m pd\u001b[38;5;241m.\u001b[39mDataFrame(mask,\n\u001b[1;32m     78\u001b[0m                         index\u001b[38;5;241m=\u001b[39mdata\u001b[38;5;241m.\u001b[39mindex,\n\u001b[1;32m     79\u001b[0m                         columns\u001b[38;5;241m=\u001b[39mdata\u001b[38;5;241m.\u001b[39mcolumns,\n\u001b[1;32m     80\u001b[0m                         dtype\u001b[38;5;241m=\u001b[39m\u001b[38;5;28mbool\u001b[39m)\n\u001b[1;32m     82\u001b[0m \u001b[38;5;28;01melif\u001b[39;00m \u001b[38;5;28misinstance\u001b[39m(mask, pd\u001b[38;5;241m.\u001b[39mDataFrame):\n\u001b[1;32m     83\u001b[0m     \u001b[38;5;66;03m# For DataFrame masks, ensure that semantic labels match data\u001b[39;00m\n",
      "\u001b[0;31mValueError\u001b[0m: Mask must have the same shape as data."
     ]
    },
    {
     "data": {
      "image/png": "[encoded data removed]",
      "text/plain": [
       "<Figure size 1600x800 with 4 Axes>"
      ]
     },
     "metadata": {},
     "output_type": "display_data"
    }
   ],
   "source": [
    "heatmap_kwargs = {\n",
    "    \"linewidths\":1, \"linecolor\":\"black\", \"cbar\": False, \"vmin\": 0, \"vmax\": 1\n",
    "}\n",
    "\n",
    "nrows, ncols = 2, 2\n",
    "fig, axes = plt.subplots(\n",
    "    nrows=nrows,\n",
    "    ncols=ncols,\n",
    "    figsize=(ncols * 8, nrows * 4),\n",
    "    squeeze=False,\n",
    ")\n",
    "\n",
    "for segment_ind, segment in enumerate(segments):\n",
    "    segments_ind = [segment_ind]\n",
    "    arr, arr_labels, arr_mask = _heatmap_horizontal(segments_ind)\n",
    "    ax = axes[segment_ind // ncols, segment_ind % ncols]\n",
    "    sns.heatmap(arr, xticklabels=arr_labels, yticklabels=arr_labels, annot=True, ax=ax, mask=np.diag(arr_mask), **heatmap_kwargs)\n",
    "    ax.tick_params(axis=\"x\", rotation=0)\n",
    "    match segment:\n",
    "        case \"C6\": num_rats = 5\n",
    "        case \"C7\": num_rats = 8\n",
    "        case \"C8\": num_rats = 3\n",
    "        case _: raise ValueError(f\"Unknown segment: {segment}\")\n",
    "    ax.set_title(f\"Segment {segment} - {num_rats} rats\")\n",
    "\n",
    "ax = axes[-1, -1]\n",
    "segments_ind = [0, 1, 2]\n",
    "arr, arr_labels, arr_mask = _heatmap_horizontal(segments_ind)\n",
    "sns.heatmap(arr, xticklabels=arr_labels, yticklabels=arr_labels, annot=True, ax=ax, mask=np.diag(arr_mask), **heatmap_kwargs)\n",
    "ax.tick_params(axis=\"x\", rotation=0)\n",
    "ax.set_title(f\"All segments: {', '.join(segments)}\");\n",
    "\n",
    "fig.subplots_adjust(left=None, bottom=None, right=None, top=None, wspace=.2, hspace=.35)\n"
   ]
  },
  {
   "cell_type": "markdown",
   "metadata": {},
   "source": [
    "## Vertical"
   ]
  },
  {
   "cell_type": "code",
   "execution_count": 52,
   "metadata": {},
   "outputs": [],
   "source": [
    "combinations = [\n",
    "    c for c in COMBINED_COMBINATIONS if (\n",
    "        # Remove 80-0-20-400 charge\n",
    "        c[2] != \"80-0-20-400\" and\n",
    "        # Remove ground contacts\n",
    "        \"\" not in c[1].split(\"-\") and\n",
    "        # Not at the same segment\n",
    "        c[1].split(\"-\")[0][:-1] != c[1].split(\"-\")[1][:-1]\n",
    "    )\n",
    "]\n",
    "\n",
    "combinations;\n",
    "\n",
    "ind = [c in combinations for c in COMBINED_COMBINATIONS]\n",
    "posterior_samples = {\n",
    "    u: v[:, ind, ...] for u, v in COMBINED_POSTERIOR_SAMPLES.items()\n",
    "}\n"
   ]
  },
  {
   "cell_type": "code",
   "execution_count": 53,
   "metadata": {},
   "outputs": [
    {
     "data": {
      "text/plain": [
       "{'C6L-C7L', 'C7L-C6L', 'C7L-C8L', 'C8L-C7L'}"
      ]
     },
     "execution_count": 53,
     "metadata": {},
     "output_type": "execute_result"
    }
   ],
   "source": [
    "set([u[1] for u in combinations])"
   ]
  },
  {
   "cell_type": "code",
   "execution_count": 54,
   "metadata": {},
   "outputs": [
    {
     "data": {
      "text/plain": [
       "(4000, 8, 2, 2, 3, 6)"
      ]
     },
     "execution_count": 54,
     "metadata": {},
     "output_type": "execute_result"
    }
   ],
   "source": [
    "directions = [\"R-C\", \"C-R\"]\n",
    "segments = [\"C6-C7\", \"C7-C8\"]\n",
    "charges = ['20-0-80-25', '50-0-50-0', '50-0-50-100']\n",
    "subjects = sorted(DATA[\"participant\"].unique().tolist())\n",
    "\n",
    "a = None\n",
    "a_mask = None\n",
    "\n",
    "for subject in subjects:\n",
    "    for direction in directions:\n",
    "        for segment in segments:\n",
    "            for charge in charges:\n",
    "                compound_position = segment.split(\"-\")\n",
    "                if direction == \"C-R\":\n",
    "                    compound_position = compound_position[::-1]\n",
    "                compound_position = (\n",
    "                    f\"{compound_position[0]}L-{compound_position[1]}L\"\n",
    "                )\n",
    "                curr_combination = (subject, compound_position, charge)\n",
    "                if curr_combination in combinations:\n",
    "                    ind = [c == curr_combination for c in combinations]\n",
    "                    assert sum(ind) == 1\n",
    "                    if a is None:\n",
    "                        a = posterior_samples[site.a][:, ind, ...]\n",
    "                        a_mask = np.full(a.shape, False)\n",
    "                    else:\n",
    "                        a = np.concatenate([a, posterior_samples[site.a][:, ind, ...]], axis=1)\n",
    "                        a_mask = np.concatenate(\n",
    "                            [\n",
    "                                a_mask,\n",
    "                                np.full(\n",
    "                                    (\n",
    "                                        posterior_samples[site.a].shape[0],\n",
    "                                        1,\n",
    "                                        posterior_samples[site.a].shape[-1]\n",
    "                                    ),\n",
    "                                    False\n",
    "                                )\n",
    "                            ],\n",
    "                            axis=1\n",
    "                        )\n",
    "                else:\n",
    "                    if a is None:\n",
    "                        a = np.zeros((\n",
    "                            posterior_samples[site.a].shape[0],\n",
    "                            1,\n",
    "                            posterior_samples[site.a].shape[-1]\n",
    "                        ))\n",
    "                        a_mask = np.full(a.shape, True)\n",
    "                    else:\n",
    "                        a = np.concatenate(\n",
    "                            [\n",
    "                                a,\n",
    "                                np.zeros((\n",
    "                                    posterior_samples[site.a].shape[0],\n",
    "                                    1,\n",
    "                                    posterior_samples[site.a].shape[-1]\n",
    "                                ))\n",
    "                            ],\n",
    "                            axis=1\n",
    "                        )\n",
    "                        a_mask = np.concatenate(\n",
    "                            [\n",
    "                                a_mask,\n",
    "                                np.full(\n",
    "                                    (\n",
    "                                        posterior_samples[site.a].shape[0],\n",
    "                                        1,\n",
    "                                        posterior_samples[site.a].shape[-1],\n",
    "                                    ),\n",
    "                                    True\n",
    "                                ),\n",
    "                            ],\n",
    "                            axis=1\n",
    "                        )\n",
    "\n",
    "\n",
    "a = a.reshape(\n",
    "    -1, len(subjects), len(directions), len(segments), len(charges), *a.shape[2:]\n",
    ")\n",
    "a_mask = a_mask.reshape(\n",
    "    -1, len(subjects), len(directions), len(segments), len(charges), *a_mask.shape[2:]\n",
    ")\n",
    "\n",
    "a = ma.masked_array(a, mask=a_mask)\n",
    "a.shape\n"
   ]
  },
  {
   "cell_type": "code",
   "execution_count": 58,
   "metadata": {},
   "outputs": [],
   "source": [
    "def _heatmap_horizontal(segments_ind):\n",
    "    arr = []\n",
    "    arr_labels = []\n",
    "\n",
    "    for l_direction_ind, l_direction in enumerate(directions):\n",
    "        for l_charge_ind, l_charge in enumerate(charges):\n",
    "            match l_charge:\n",
    "                case \"20-0-80-25\": l_charge_name = \"P. Mono\"\n",
    "                case \"50-0-50-0\": l_charge_name = \"Monophasic\"\n",
    "                case \"50-0-50-100\": l_charge_name = \"Biphasic\"\n",
    "                case _: raise ValueError(f\"Unknown charge: {l_charge}\")\n",
    "            label = f\"{l_direction}\\n{l_charge_name}\"\n",
    "            arr_labels.append(label)\n",
    "\n",
    "            for r_direction_ind, r_direction in enumerate(directions):\n",
    "                for r_charge_ind, r_charge in enumerate(charges):\n",
    "                    if (l_direction_ind == r_direction_ind) and (l_charge_ind == r_charge_ind):\n",
    "                        arr.append(1)\n",
    "                        continue\n",
    "\n",
    "                    l_samples = a[:, :, l_direction_ind, segments_ind, l_charge_ind, ...].mean(axis=0)\n",
    "                    r_samples = a[:, :, r_direction_ind, segments_ind, r_charge_ind, ...].mean(axis=0)\n",
    "                    pvalue = stats.ttest_1samp(l_samples - r_samples, popmean=0, alternative=\"less\", axis=(0, 1, 2)).pvalue\n",
    "                    arr.append(pvalue)\n",
    "\n",
    "    arr = np.array(arr)\n",
    "    arr = arr.reshape(-1, len(arr_labels))\n",
    "    arr_mask = np.triu(arr)\n",
    "    return arr, arr_labels, arr_mask\n"
   ]
  },
  {
   "cell_type": "code",
   "execution_count": 73,
   "metadata": {},
   "outputs": [
    {
     "data": {
      "image/png": "[encoded data removed]",
      "text/plain": [
       "<Figure size 1600x800 with 4 Axes>"
      ]
     },
     "metadata": {},
     "output_type": "display_data"
    }
   ],
   "source": [
    "heatmap_kwargs = {\n",
    "    \"linewidths\":1, \"linecolor\":\"black\", \"cbar\": False, \"vmin\": 0, \"vmax\": 1\n",
    "}\n",
    "\n",
    "nrows, ncols = 2, 2\n",
    "fig, axes = plt.subplots(\n",
    "    nrows=nrows,\n",
    "    ncols=ncols,\n",
    "    figsize=(ncols * 8, nrows * 4),\n",
    "    squeeze=False\n",
    ")\n",
    "\n",
    "for segment_ind, segment in enumerate(segments):\n",
    "    segments_ind = [segment_ind]\n",
    "    arr, arr_labels, arr_mask = _heatmap_horizontal(segments_ind)\n",
    "    ax = axes[segment_ind // ncols, segment_ind % ncols]\n",
    "    sns.heatmap(arr, xticklabels=arr_labels, yticklabels=arr_labels, annot=True, ax=ax, mask=np.diag(np.diag(arr)), **heatmap_kwargs)\n",
    "    ax.tick_params(axis=\"x\", rotation=0)\n",
    "    match segment:\n",
    "        case \"C6-C7\": num_rats = 5\n",
    "        case \"C7-C8\": num_rats = 3\n",
    "        case _: raise ValueError(f\"Unknown segment: {segment}\")\n",
    "    ax.set_title(f\"Segment: {segment} - {num_rats} rats\")\n",
    "\n",
    "ax = axes[-1, 0]\n",
    "segments_ind = [0, 1]\n",
    "arr, arr_labels, arr_mask = _heatmap_horizontal(segments_ind)\n",
    "sns.heatmap(arr, xticklabels=arr_labels, yticklabels=arr_labels, annot=True, ax=ax, mask=np.diag(np.diag(arr)), **heatmap_kwargs)\n",
    "ax.tick_params(axis=\"x\", rotation=0)\n",
    "ax.set_title(f\"All segments: {', '.join(segments)}\");\n",
    "\n",
    "ax = axes[-1, -1]\n",
    "ax.spines[['right', 'top', 'left', 'bottom']].set_visible(False)\n",
    "ax.tick_params(axis=\"both\", which=\"both\", bottom=False, left=False, labelbottom=False, labelleft=False)\n",
    "\n",
    "fig.subplots_adjust(left=None, bottom=None, right=None, top=None, wspace=.2, hspace=.35)\n"
   ]
  },
  {
   "cell_type": "code",
   "execution_count": 24,
   "metadata": {},
   "outputs": [
    {
     "data": {
      "text/plain": [
       "array(['C7M-C7L', 'C7L-', 'C8L-C7L', 'C8L-C8M', '-C8L', 'C8L-', 'C7L-C8L',\n",
       "       'C7L-C7M', 'C8M-C8L', '-C7L', 'C6M-C6L', 'C6L-C6M', '-C6L',\n",
       "       'C7L-C6L', 'C6L-', 'C6L-C7L'], dtype=object)"
      ]
     },
     "execution_count": 24,
     "metadata": {},
     "output_type": "execute_result"
    }
   ],
   "source": [
    "DATA.compound_position.unique()"
   ]
  },
  {
   "cell_type": "code",
   "execution_count": null,
   "metadata": {},
   "outputs": [],
   "source": [
    "def filter_data(keep_combinations):\n",
    "    df = DATA.copy()\n",
    "    ind = (\n",
    "        df[COLUMNS[1:]]\n",
    "        .apply(tuple, axis=1)\n",
    "        .isin(keep_combinations)\n",
    "    )\n",
    "    df = df[ind].reset_index(drop=True).copy()\n",
    "\n",
    "    combinations = [\n",
    "        (position, charge) in keep_combinations\n",
    "        for subject, position, charge in COMBINED_COMBINATIONS\n",
    "    ]\n",
    "    posterior_samples = {\n",
    "        u: v[:, combinations, ...]\n",
    "        for u, v in COMBINED_POSTERIOR_SAMPLES.items()\n",
    "    }\n",
    "    combinations = [u for u, v in zip(COMBINED_COMBINATIONS, combinations) if v]\n",
    "    return df, combinations, posterior_samples\n"
   ]
  },
  {
   "cell_type": "markdown",
   "metadata": {},
   "source": [
    "### C6"
   ]
  },
  {
   "cell_type": "code",
   "execution_count": null,
   "metadata": {},
   "outputs": [
    {
     "name": "stdout",
     "output_type": "stream",
     "text": [
      "[('C6L-C6M', '20-0-80-25'), ('C6L-C6M', '50-0-50-0'), ('C6L-C6M', '50-0-50-100'), ('C6M-C6L', '20-0-80-25'), ('C6M-C6L', '50-0-50-0'), ('C6M-C6L', '50-0-50-100')]\n",
      "(1700, 44)\n"
     ]
    }
   ],
   "source": [
    "segment = \"C6\"\n",
    "\n",
    "keep_combinations = [\n",
    "    (f'{segment}L-{segment}M', '20-0-80-25'),\n",
    "    (f'{segment}L-{segment}M', '50-0-50-0'),\n",
    "    (f'{segment}L-{segment}M', '50-0-50-100'),\n",
    "    (f'{segment}M-{segment}L', '20-0-80-25'),\n",
    "    (f'{segment}M-{segment}L', '50-0-50-0'),\n",
    "    (f'{segment}M-{segment}L', '50-0-50-100')\n",
    "]\n",
    "print(keep_combinations)\n",
    "\n",
    "df, combinations, posterior_samples = filter_data(keep_combinations)\n",
    "print(df.shape)\n",
    "\n",
    "subjects = sorted(df[COLUMNS[0]].unique())\n",
    "positions = sorted(df[COLUMNS[1]].unique())\n",
    "charges = sorted(df[COLUMNS[2]].unique())\n",
    "\n",
    "a = None\n",
    "for subject in subjects:\n",
    "    for position in positions:\n",
    "        for charge in charges:\n",
    "            ind = [(subject, position, charge) == u for u in combinations]\n",
    "            assert sum(ind) == 1\n",
    "            if a is None:\n",
    "                a = posterior_samples[site.a][:, ind, ...]\n",
    "            else:\n",
    "                a = np.concatenate([a, posterior_samples[site.a][:, ind, ...]], axis=1)\n",
    "a = a.reshape(-1, len(subjects), len(positions), len(charges), *a.shape[2:])\n"
   ]
  },
  {
   "cell_type": "code",
   "execution_count": null,
   "metadata": {},
   "outputs": [
    {
     "name": "stdout",
     "output_type": "stream",
     "text": [
      "C6L-C6M\n",
      "20-0-80-25\t<\t50-0-50-0:\t0.14793920528642757\n",
      "20-0-80-25\t<\t50-0-50-100:\t0.8274810020121071\n",
      "50-0-50-0\t<\t20-0-80-25:\t0.8520607947135724\n",
      "50-0-50-0\t<\t50-0-50-100:\t0.9510321493122068\n",
      "50-0-50-100\t<\t20-0-80-25:\t0.172518997987893\n",
      "50-0-50-100\t<\t50-0-50-0:\t0.04896785068779322\n"
     ]
    }
   ],
   "source": [
    "ind = 0\n",
    "print(f\"{positions[ind]}\")\n",
    "\n",
    "for i, l in enumerate(charges):\n",
    "    for j, r in enumerate(charges):\n",
    "        if l == r: continue\n",
    "        l_samples = a[:, :, ind, ...].mean(axis=0)[:, i, :]\n",
    "        r_samples = a[:, :, ind, ...].mean(axis=0)[:, j, :]\n",
    "        pvalue = stats.ttest_1samp(l_samples - r_samples, popmean=0, alternative=\"less\", axis=(0, 1)).pvalue\n",
    "        print(\n",
    "            f\"{l}\\t<\\t{r}:\\t{pvalue}\"\n",
    "        )\n"
   ]
  },
  {
   "cell_type": "code",
   "execution_count": null,
   "metadata": {},
   "outputs": [
    {
     "name": "stdout",
     "output_type": "stream",
     "text": [
      "C6M-C6L\n",
      "20-0-80-25\t<\t50-0-50-0:\t0.26696554047407195\n",
      "20-0-80-25\t<\t50-0-50-100:\t0.9999939475335555\n",
      "50-0-50-0\t<\t20-0-80-25:\t0.7330344595259279\n",
      "50-0-50-0\t<\t50-0-50-100:\t0.9999911144505081\n",
      "50-0-50-100\t<\t20-0-80-25:\t6.052466444464677e-06\n",
      "50-0-50-100\t<\t50-0-50-0:\t8.8855494918964e-06\n"
     ]
    }
   ],
   "source": [
    "ind = 1\n",
    "print(f\"{positions[ind]}\")\n",
    "\n",
    "for i, l in enumerate(charges):\n",
    "    for j, r in enumerate(charges):\n",
    "        if l == r: continue\n",
    "        l_samples = a[:, :, ind, ...].mean(axis=0)[:, i, :]\n",
    "        r_samples = a[:, :, ind, ...].mean(axis=0)[:, j, :]\n",
    "        pvalue = stats.ttest_1samp(l_samples - r_samples, popmean=0, alternative=\"less\", axis=(0, 1)).pvalue\n",
    "        print(\n",
    "            f\"{l}\\t<\\t{r}:\\t{pvalue}\"\n",
    "        )\n"
   ]
  },
  {
   "cell_type": "code",
   "execution_count": null,
   "metadata": {},
   "outputs": [
    {
     "name": "stdout",
     "output_type": "stream",
     "text": [
      "\n",
      "20-0-80-25\n",
      "C6L-C6M\t\t<\tC6M-C6L:\t0.006694745092699479\n",
      "C6M-C6L\t\t<\tC6L-C6M:\t0.9933052549073005\n",
      "\n",
      "50-0-50-0\n",
      "C6L-C6M\t\t<\tC6M-C6L:\t0.08821828462729775\n",
      "C6M-C6L\t\t<\tC6L-C6M:\t0.9117817153727023\n",
      "\n",
      "50-0-50-100\n",
      "C6L-C6M\t\t<\tC6M-C6L:\t0.999489549259464\n",
      "C6M-C6L\t\t<\tC6L-C6M:\t0.0005104507405359901\n"
     ]
    }
   ],
   "source": [
    "for i, charge in enumerate(charges):\n",
    "    print(f\"\\n{charge}\")\n",
    "    l_samples = a.mean(axis=0)[:, 0, i, :]\n",
    "    r_samples = a.mean(axis=0)[:, 1, i, :]\n",
    "    pvalue = stats.ttest_1samp(l_samples - r_samples, popmean=0, alternative=\"less\", axis=(0, 1)).pvalue\n",
    "    print(\n",
    "        f\"{positions[0]}\\t\\t<\\t{positions[1]}:\\t{pvalue}\"\n",
    "    )\n",
    "    pvalue = stats.ttest_1samp(-(l_samples - r_samples), popmean=0, alternative=\"less\", axis=(0, 1 )).pvalue\n",
    "    print(\n",
    "        f\"{positions[1]}\\t\\t<\\t{positions[0]}:\\t{pvalue}\"\n",
    "    )\n"
   ]
  },
  {
   "cell_type": "markdown",
   "metadata": {},
   "source": [
    "### C7"
   ]
  },
  {
   "cell_type": "code",
   "execution_count": null,
   "metadata": {},
   "outputs": [
    {
     "name": "stdout",
     "output_type": "stream",
     "text": [
      "[('C7L-C7M', '20-0-80-25'), ('C7L-C7M', '50-0-50-0'), ('C7L-C7M', '50-0-50-100'), ('C7M-C7L', '20-0-80-25'), ('C7M-C7L', '50-0-50-0'), ('C7M-C7L', '50-0-50-100')]\n",
      "(2538, 44)\n"
     ]
    }
   ],
   "source": [
    "segment = \"C7\"\n",
    "\n",
    "keep_combinations = [\n",
    "    (f'{segment}L-{segment}M', '20-0-80-25'),\n",
    "    (f'{segment}L-{segment}M', '50-0-50-0'),\n",
    "    (f'{segment}L-{segment}M', '50-0-50-100'),\n",
    "    (f'{segment}M-{segment}L', '20-0-80-25'),\n",
    "    (f'{segment}M-{segment}L', '50-0-50-0'),\n",
    "    (f'{segment}M-{segment}L', '50-0-50-100')\n",
    "]\n",
    "print(keep_combinations)\n",
    "\n",
    "df, combinations, posterior_samples = filter_data(keep_combinations)\n",
    "print(df.shape)\n",
    "\n",
    "subjects = sorted(df[COLUMNS[0]].unique())\n",
    "positions = sorted(df[COLUMNS[1]].unique())\n",
    "charges = sorted(df[COLUMNS[2]].unique())\n",
    "\n",
    "a = None\n",
    "for subject in subjects:\n",
    "    for position in positions:\n",
    "        for charge in charges:\n",
    "            ind = [(subject, position, charge) == u for u in combinations]\n",
    "            assert sum(ind) == 1\n",
    "            if a is None:\n",
    "                a = posterior_samples[site.a][:, ind, ...]\n",
    "            else:\n",
    "                a = np.concatenate([a, posterior_samples[site.a][:, ind, ...]], axis=1)\n",
    "a = a.reshape(-1, len(subjects), len(positions), len(charges), *a.shape[2:])\n"
   ]
  },
  {
   "cell_type": "code",
   "execution_count": null,
   "metadata": {},
   "outputs": [
    {
     "name": "stdout",
     "output_type": "stream",
     "text": [
      "C7L-C7M\n",
      "20-0-80-25\t<\t50-0-50-0:\t0.01655868339747997\n",
      "20-0-80-25\t<\t50-0-50-100:\t0.9972770669479791\n",
      "50-0-50-0\t<\t20-0-80-25:\t0.9834413166025201\n",
      "50-0-50-0\t<\t50-0-50-100:\t0.9998204541013415\n",
      "50-0-50-100\t<\t20-0-80-25:\t0.002722933052020838\n",
      "50-0-50-100\t<\t50-0-50-0:\t0.00017954589865860462\n"
     ]
    }
   ],
   "source": [
    "ind = 0\n",
    "print(f\"{positions[ind]}\")\n",
    "\n",
    "for i, l in enumerate(charges):\n",
    "    for j, r in enumerate(charges):\n",
    "        if l == r: continue\n",
    "        l_samples = a[:, :, ind, ...].mean(axis=0)[:, i, :]\n",
    "        r_samples = a[:, :, ind, ...].mean(axis=0)[:, j, :]\n",
    "        pvalue = stats.ttest_1samp(l_samples - r_samples, popmean=0, alternative=\"less\", axis=(0, 1)).pvalue\n",
    "        print(\n",
    "            f\"{l}\\t<\\t{r}:\\t{pvalue}\"\n",
    "        )\n"
   ]
  },
  {
   "cell_type": "code",
   "execution_count": null,
   "metadata": {},
   "outputs": [
    {
     "name": "stdout",
     "output_type": "stream",
     "text": [
      "C7M-C7L\n",
      "20-0-80-25\t<\t50-0-50-0:\t0.00019613924377859693\n",
      "20-0-80-25\t<\t50-0-50-100:\t0.9647021304501868\n",
      "50-0-50-0\t<\t20-0-80-25:\t0.9998038607562214\n",
      "50-0-50-0\t<\t50-0-50-100:\t0.999959643225194\n",
      "50-0-50-100\t<\t20-0-80-25:\t0.035297869549813156\n",
      "50-0-50-100\t<\t50-0-50-0:\t4.0356774805902716e-05\n"
     ]
    }
   ],
   "source": [
    "ind = 1\n",
    "print(f\"{positions[ind]}\")\n",
    "\n",
    "for i, l in enumerate(charges):\n",
    "    for j, r in enumerate(charges):\n",
    "        if l == r: continue\n",
    "        l_samples = a[:, :, ind, ...].mean(axis=0)[:, i, :]\n",
    "        r_samples = a[:, :, ind, ...].mean(axis=0)[:, j, :]\n",
    "        pvalue = stats.ttest_1samp(l_samples - r_samples, popmean=0, alternative=\"less\", axis=(0, 1)).pvalue\n",
    "        print(\n",
    "            f\"{l}\\t<\\t{r}:\\t{pvalue}\"\n",
    "        )\n"
   ]
  },
  {
   "cell_type": "code",
   "execution_count": null,
   "metadata": {},
   "outputs": [
    {
     "name": "stdout",
     "output_type": "stream",
     "text": [
      "\n",
      "20-0-80-25\n",
      "C7L-C7M\t\t<\tC7M-C7L:\t0.03433866720964922\n",
      "C7M-C7L\t\t<\tC7L-C7M:\t0.9656613327903507\n",
      "\n",
      "50-0-50-0\n",
      "C7L-C7M\t\t<\tC7M-C7L:\t0.024988469217498404\n",
      "C7M-C7L\t\t<\tC7L-C7M:\t0.9750115307825016\n",
      "\n",
      "50-0-50-100\n",
      "C7L-C7M\t\t<\tC7M-C7L:\t0.00016024548851842194\n",
      "C7M-C7L\t\t<\tC7L-C7M:\t0.9998397545114815\n"
     ]
    }
   ],
   "source": [
    "for i, charge in enumerate(charges):\n",
    "    print(f\"\\n{charge}\")\n",
    "    l_samples = a.mean(axis=0)[:, 0, i, :]\n",
    "    r_samples = a.mean(axis=0)[:, 1, i, :]\n",
    "    pvalue = stats.ttest_1samp(l_samples - r_samples, popmean=0, alternative=\"less\", axis=(0, 1)).pvalue\n",
    "    print(\n",
    "        f\"{positions[0]}\\t\\t<\\t{positions[1]}:\\t{pvalue}\"\n",
    "    )\n",
    "    pvalue = stats.ttest_1samp(-(l_samples - r_samples), popmean=0, alternative=\"less\", axis=(0, 1 )).pvalue\n",
    "    print(\n",
    "        f\"{positions[1]}\\t\\t<\\t{positions[0]}:\\t{pvalue}\"\n",
    "    )\n"
   ]
  },
  {
   "cell_type": "markdown",
   "metadata": {},
   "source": [
    "### C8"
   ]
  },
  {
   "cell_type": "code",
   "execution_count": null,
   "metadata": {},
   "outputs": [
    {
     "name": "stdout",
     "output_type": "stream",
     "text": [
      "[('C8L-C8M', '20-0-80-25'), ('C8L-C8M', '50-0-50-0'), ('C8L-C8M', '50-0-50-100'), ('C8M-C8L', '20-0-80-25'), ('C8M-C8L', '50-0-50-0'), ('C8M-C8L', '50-0-50-100')]\n",
      "(918, 44)\n"
     ]
    }
   ],
   "source": [
    "segment = \"C8\"\n",
    "\n",
    "keep_combinations = [\n",
    "    (f'{segment}L-{segment}M', '20-0-80-25'),\n",
    "    (f'{segment}L-{segment}M', '50-0-50-0'),\n",
    "    (f'{segment}L-{segment}M', '50-0-50-100'),\n",
    "    (f'{segment}M-{segment}L', '20-0-80-25'),\n",
    "    (f'{segment}M-{segment}L', '50-0-50-0'),\n",
    "    (f'{segment}M-{segment}L', '50-0-50-100')\n",
    "]\n",
    "print(keep_combinations)\n",
    "\n",
    "df, combinations, posterior_samples = filter_data(keep_combinations)\n",
    "print(df.shape)\n",
    "\n",
    "subjects = sorted(df[COLUMNS[0]].unique())\n",
    "positions = sorted(df[COLUMNS[1]].unique())\n",
    "charges = sorted(df[COLUMNS[2]].unique())\n",
    "\n",
    "a = None\n",
    "for subject in subjects:\n",
    "    for position in positions:\n",
    "        for charge in charges:\n",
    "            ind = [(subject, position, charge) == u for u in combinations]\n",
    "            assert sum(ind) == 1\n",
    "            if a is None:\n",
    "                a = posterior_samples[site.a][:, ind, ...]\n",
    "            else:\n",
    "                a = np.concatenate([a, posterior_samples[site.a][:, ind, ...]], axis=1)\n",
    "a = a.reshape(-1, len(subjects), len(positions), len(charges), *a.shape[2:])\n"
   ]
  },
  {
   "cell_type": "code",
   "execution_count": null,
   "metadata": {},
   "outputs": [
    {
     "name": "stdout",
     "output_type": "stream",
     "text": [
      "C8L-C8M\n",
      "20-0-80-25\t<\t50-0-50-0:\t0.9045188548538926\n",
      "20-0-80-25\t<\t50-0-50-100:\t0.5484505883682095\n",
      "50-0-50-0\t<\t20-0-80-25:\t0.09548114514610742\n",
      "50-0-50-0\t<\t50-0-50-100:\t0.07904059840151013\n",
      "50-0-50-100\t<\t20-0-80-25:\t0.4515494116317905\n",
      "50-0-50-100\t<\t50-0-50-0:\t0.9209594015984899\n"
     ]
    }
   ],
   "source": [
    "ind = 0\n",
    "print(f\"{positions[ind]}\")\n",
    "\n",
    "for i, l in enumerate(charges):\n",
    "    for j, r in enumerate(charges):\n",
    "        if l == r: continue\n",
    "        l_samples = a[:, :, ind, ...].mean(axis=0)[:, i, :]\n",
    "        r_samples = a[:, :, ind, ...].mean(axis=0)[:, j, :]\n",
    "        pvalue = stats.ttest_1samp(l_samples - r_samples, popmean=0, alternative=\"less\", axis=(0, 1)).pvalue\n",
    "        print(\n",
    "            f\"{l}\\t<\\t{r}:\\t{pvalue}\"\n",
    "        )\n"
   ]
  },
  {
   "cell_type": "code",
   "execution_count": null,
   "metadata": {},
   "outputs": [
    {
     "name": "stdout",
     "output_type": "stream",
     "text": [
      "C8M-C8L\n",
      "20-0-80-25\t<\t50-0-50-0:\t0.6918855408725308\n",
      "20-0-80-25\t<\t50-0-50-100:\t0.5087228495675026\n",
      "50-0-50-0\t<\t20-0-80-25:\t0.3081144591274692\n",
      "50-0-50-0\t<\t50-0-50-100:\t0.31413492689380174\n",
      "50-0-50-100\t<\t20-0-80-25:\t0.4912771504324975\n",
      "50-0-50-100\t<\t50-0-50-0:\t0.6858650731061982\n"
     ]
    }
   ],
   "source": [
    "ind = 1\n",
    "print(f\"{positions[ind]}\")\n",
    "\n",
    "for i, l in enumerate(charges):\n",
    "    for j, r in enumerate(charges):\n",
    "        if l == r: continue\n",
    "        l_samples = a[:, :, ind, ...].mean(axis=0)[:, i, :]\n",
    "        r_samples = a[:, :, ind, ...].mean(axis=0)[:, j, :]\n",
    "        pvalue = stats.ttest_1samp(l_samples - r_samples, popmean=0, alternative=\"less\", axis=(0, 1)).pvalue\n",
    "        print(\n",
    "            f\"{l}\\t<\\t{r}:\\t{pvalue}\"\n",
    "        )\n"
   ]
  },
  {
   "cell_type": "code",
   "execution_count": null,
   "metadata": {},
   "outputs": [
    {
     "name": "stdout",
     "output_type": "stream",
     "text": [
      "\n",
      "20-0-80-25\n",
      "C8L-C8M\t\t<\tC8M-C8L:\t0.4745788154831838\n",
      "C8M-C8L\t\t<\tC8L-C8M:\t0.5254211845168162\n",
      "\n",
      "50-0-50-0\n",
      "C8L-C8M\t\t<\tC8M-C8L:\t0.12327170570132633\n",
      "C8M-C8L\t\t<\tC8L-C8M:\t0.8767282942986736\n",
      "\n",
      "50-0-50-100\n",
      "C8L-C8M\t\t<\tC8M-C8L:\t0.4131853706816174\n",
      "C8M-C8L\t\t<\tC8L-C8M:\t0.5868146293183825\n"
     ]
    }
   ],
   "source": [
    "for i, charge in enumerate(charges):\n",
    "    print(f\"\\n{charge}\")\n",
    "    l_samples = a.mean(axis=0)[:, 0, i, :]\n",
    "    r_samples = a.mean(axis=0)[:, 1, i, :]\n",
    "    pvalue = stats.ttest_1samp(l_samples - r_samples, popmean=0, alternative=\"less\", axis=(0, 1)).pvalue\n",
    "    print(\n",
    "        f\"{positions[0]}\\t\\t<\\t{positions[1]}:\\t{pvalue}\"\n",
    "    )\n",
    "    pvalue = stats.ttest_1samp(-(l_samples - r_samples), popmean=0, alternative=\"less\", axis=(0, 1 )).pvalue\n",
    "    print(\n",
    "        f\"{positions[1]}\\t\\t<\\t{positions[0]}:\\t{pvalue}\"\n",
    "    )\n"
   ]
  }
 ],
 "metadata": {
  "kernelspec": {
   "display_name": "Python 3 (ipykernel)",
   "language": "python",
   "name": "python3"
  },
  "language_info": {
   "codemirror_mode": {
    "name": "ipython",
    "version": 3
   },
   "file_extension": ".py",
   "mimetype": "text/x-python",
   "name": "python",
   "nbconvert_exporter": "python",
   "pygments_lexer": "ipython3",
   "version": "3.11.9"
  }
 },
 "nbformat": 4,
 "nbformat_minor": 2
}
