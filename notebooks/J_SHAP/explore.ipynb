{
 "cells": [
  {
   "cell_type": "code",
   "execution_count": 10,
   "metadata": {},
   "outputs": [],
   "source": [
    "import os\n",
    "import numpy as np\n",
    "import pandas as pd\n",
    "import pickle\n",
    "from scipy import stats \n",
    "import matplotlib.pyplot as plt\n",
    "import seaborn as sns\n",
    "import re\n"
   ]
  },
  {
   "cell_type": "code",
   "execution_count": 11,
   "metadata": {},
   "outputs": [],
   "source": [
    "src = \"/home/andres/data/hbmep-processed/J_SHAP/data.csv\"\n",
    "df = pd.read_csv(src)"
   ]
  },
  {
   "cell_type": "code",
   "execution_count": 12,
   "metadata": {},
   "outputs": [
    {
     "data": {
      "text/plain": [
       "(16440, 44)"
      ]
     },
     "execution_count": 12,
     "metadata": {},
     "output_type": "execute_result"
    }
   ],
   "source": [
    "df.shape"
   ]
  },
  {
   "cell_type": "code",
   "execution_count": 13,
   "metadata": {},
   "outputs": [],
   "source": [
    "columns = [\"part\"]"
   ]
  },
  {
   "cell_type": "code",
   "execution_count": 14,
   "metadata": {},
   "outputs": [
    {
     "data": {
      "text/plain": [
       "Index(['pulse_amplitude', 'pulse_train_frequency', 'pulse_period',\n",
       "       'pulse_duration', 'pulse_count', 'train_delay', 'channel1_1',\n",
       "       'channel1_2', 'channel1_3', 'channel1_4', 'channel2_1', 'channel2_2',\n",
       "       'channel2_3', 'channel2_4', 'charge_params_1', 'charge_params_2',\n",
       "       'charge_params_3', 'charge_params_4', 'bank_check', 'run', 'enabled',\n",
       "       'channel_failA', 'channel_failB', 'channel_fail_comb', 'time_pulse',\n",
       "       'time', 'ix_onsets', 'auc_2', 'auc_6', 'auc_5', 'auc_7', 'auc_1',\n",
       "       'auc_4', 'auc_3', 'auc_8', 'channel1_laterality', 'channel1_segment',\n",
       "       'channel2_laterality', 'channel2_segment', 'compound_position',\n",
       "       'compound_charge_params', 'participant', 'subdir_pattern',\n",
       "       'charge_param_error'],\n",
       "      dtype='object')"
      ]
     },
     "execution_count": 14,
     "metadata": {},
     "output_type": "execute_result"
    }
   ],
   "source": [
    "df.columns"
   ]
  },
  {
   "cell_type": "code",
   "execution_count": 15,
   "metadata": {},
   "outputs": [],
   "source": [
    "file = open(\"/home/andres/repos/rat-mapping-paper/reports/J_SHAP/combine.pkl\",\"rb\")\n",
    "combo = pickle.load(file)"
   ]
  },
  {
   "cell_type": "code",
   "execution_count": 16,
   "metadata": {},
   "outputs": [],
   "source": [
    "def threshold_array(shape):\n",
    "    my_dict = {\n",
    "    (key[0], key[1], key[3]): value[\"a\"].mean() for  key,value in combo.items() if key[2] == shape\n",
    "    }\n",
    "    keys, values = zip(*my_dict.items())\n",
    "    axis0 = np.unique([key[0] for key in keys])\n",
    "    axis1 = [\"Deltoid\", \"Biceps\", \"Triceps\", \"ECR\", \"FCR\", \"ADM\"][::-1]\n",
    "    pos_L = np.zeros((len(axis0), len(axis1)))\n",
    "    pos_M = np.zeros((len(axis0), len(axis1)))\n",
    "    for key, value in zip(keys, values):\n",
    "        if key[1].split(\"-\")[0][2:] == \"L\":\n",
    "            pos_L[np.where(axis0 == key[0])[0], np.where(np.array(axis1) == key[2][1:])[0]] = 1/value \n",
    "        elif key[1].split(\"-\")[0][2:] == \"M\":\n",
    "            pos_M[np.where(axis0 == key[0])[0], np.where(np.array(axis1) == key[2][1:])[0]] = 1/value \n",
    "    return(pos_L, pos_M, axis0, axis1)"
   ]
  },
  {
   "cell_type": "code",
   "execution_count": 17,
   "metadata": {},
   "outputs": [],
   "source": [
    "arr = None\n",
    "responses = list(set([u[3] for u in combo.keys()]))\n",
    "combinations_no_response = [(c[0], c[1], c[2]) for c in combo]\n",
    "combinations_no_response = set(combinations_no_response)\n",
    "combinations_no_response = list(combinations_no_response)\n",
    "for muscle in responses:\n",
    "    arr_muscle = None\n",
    "\n",
    "    for c in combinations_no_response:\n",
    "        a = combo[(*c, muscle)][\"a\"]\n",
    "        a = a[:, 0, 0, 0, 0]\n",
    "\n",
    "        if arr_muscle is None:\n",
    "            arr_muscle = a[:, None]\n",
    "        else:\n",
    "            # concatenate now\n",
    "            arr_muscle = np.concatenate([arr_muscle, a[:, None]], axis=-1)\n",
    "\n",
    "    if arr is None:\n",
    "        arr = arr_muscle[:,:, None]\n",
    "\n",
    "    else:\n",
    "        arr = np.concatenate([arr, arr_muscle[:,:, None]], axis = -1) "
   ]
  },
  {
   "cell_type": "code",
   "execution_count": 18,
   "metadata": {},
   "outputs": [
    {
     "data": {
      "text/plain": [
       "(4000, 320, 6)"
      ]
     },
     "execution_count": 18,
     "metadata": {},
     "output_type": "execute_result"
    }
   ],
   "source": [
    "arr.shape"
   ]
  },
  {
   "cell_type": "code",
   "execution_count": 19,
   "metadata": {},
   "outputs": [
    {
     "data": {
      "text/plain": [
       "[('amap06', 'C7M-C7L', '80-0-20-400'),\n",
       " ('amap08', 'C6L-C6M', '50-0-50-100'),\n",
       " ('amap04', 'C7M-C7L', '50-0-50-100'),\n",
       " ('amap06', '-C7L', '20-0-80-25'),\n",
       " ('amap06', 'C7M-C7L', '50-0-50-0'),\n",
       " ('amap03', '-C8L', '80-0-20-400'),\n",
       " ('amap01', 'C7L-', '20-0-80-25'),\n",
       " ('amap05', '-C7L', '20-0-80-25'),\n",
       " ('amap06', 'C7L-C7M', '50-0-50-100'),\n",
       " ('amap03', '-C8L', '50-0-50-0'),\n",
       " ('amap08', 'C7L-C7M', '50-0-50-100'),\n",
       " ('amap06', '-C7L', '80-0-20-400'),\n",
       " ('amap07', 'C7L-C6L', '20-0-80-25'),\n",
       " ('amap01', 'C7M-C7L', '50-0-50-100'),\n",
       " ('amap06', '-C6L', '50-0-50-100'),\n",
       " ('amap05', 'C7L-C7M', '50-0-50-100'),\n",
       " ('amap05', '-C7L', '80-0-20-400'),\n",
       " ('amap02', 'C7L-C8L', '20-0-80-25'),\n",
       " ('amap05', '-C6L', '50-0-50-100'),\n",
       " ('amap05', 'C7M-C7L', '20-0-80-25'),\n",
       " ('amap02', 'C8L-C7L', '50-0-50-100'),\n",
       " ('amap03', 'C8M-C8L', '50-0-50-100'),\n",
       " ('amap03', 'C8L-C8M', '80-0-20-400'),\n",
       " ('amap04', 'C7L-C6L', '20-0-80-25'),\n",
       " ('amap08', 'C6L-', '50-0-50-100'),\n",
       " ('amap06', 'C7L-', '50-0-50-100'),\n",
       " ('amap03', 'C7L-C7M', '50-0-50-100'),\n",
       " ('amap03', 'C8L-C8M', '50-0-50-0'),\n",
       " ('amap07', 'C6L-', '50-0-50-100'),\n",
       " ('amap04', 'C6M-C6L', '50-0-50-100'),\n",
       " ('amap05', 'C7L-', '50-0-50-100'),\n",
       " ('amap08', '-C7L', '80-0-20-400'),\n",
       " ('amap04', 'C7L-C6L', '80-0-20-400'),\n",
       " ('amap03', 'C8L-', '20-0-80-25'),\n",
       " ('amap02', 'C8M-C8L', '20-0-80-25'),\n",
       " ('amap07', 'C7L-C7M', '50-0-50-100'),\n",
       " ('amap08', '-C7L', '50-0-50-0'),\n",
       " ('amap03', 'C8L-', '80-0-20-400'),\n",
       " ('amap03', 'C7M-C7L', '80-0-20-400'),\n",
       " ('amap06', 'C6M-C6L', '20-0-80-25'),\n",
       " ('amap02', 'C8L-', '50-0-50-100'),\n",
       " ('amap08', 'C7M-C7L', '80-0-20-400'),\n",
       " ('amap03', 'C7M-C7L', '50-0-50-0'),\n",
       " ('amap05', 'C6M-C6L', '20-0-80-25'),\n",
       " ('amap03', '-C7L', '80-0-20-400'),\n",
       " ('amap08', 'C7M-C7L', '50-0-50-0'),\n",
       " ('amap06', 'C6M-C6L', '80-0-20-400'),\n",
       " ('amap04', 'C6L-C6M', '20-0-80-25'),\n",
       " ('amap06', 'C7M-C7L', '50-0-50-100'),\n",
       " ('amap03', '-C7L', '50-0-50-0'),\n",
       " ('amap02', 'C7L-C7M', '20-0-80-25'),\n",
       " ('amap05', 'C6M-C6L', '80-0-20-400'),\n",
       " ('amap06', 'C6L-', '80-0-20-400'),\n",
       " ('amap04', 'C6L-C6M', '80-0-20-400'),\n",
       " ('amap03', '-C8L', '50-0-50-100'),\n",
       " ('amap07', '-C7L', '50-0-50-0'),\n",
       " ('amap05', 'C6L-', '80-0-20-400'),\n",
       " ('amap06', 'C6L-', '50-0-50-0'),\n",
       " ('amap07', 'C7M-C7L', '80-0-20-400'),\n",
       " ('amap05', 'C6L-', '50-0-50-0'),\n",
       " ('amap02', 'C7L-', '20-0-80-25'),\n",
       " ('amap07', 'C7M-C7L', '50-0-50-0'),\n",
       " ('amap06', 'C7L-C6L', '20-0-80-25'),\n",
       " ('amap07', 'C6M-C6L', '80-0-20-400'),\n",
       " ('amap03', 'C8L-C8M', '50-0-50-100'),\n",
       " ('amap05', 'C7L-C6L', '20-0-80-25'),\n",
       " ('amap02', 'C7L-', '80-0-20-400'),\n",
       " ('amap07', 'C6M-C6L', '50-0-50-0'),\n",
       " ('amap01', 'C7L-C8L', '80-0-20-400'),\n",
       " ('amap04', 'C7L-C7M', '20-0-80-25'),\n",
       " ('amap08', '-C7L', '50-0-50-100'),\n",
       " ('amap02', 'C7L-', '50-0-50-0'),\n",
       " ('amap04', 'C7L-C6L', '50-0-50-100'),\n",
       " ('amap02', '-C8L', '20-0-80-25'),\n",
       " ('amap01', 'C7L-C8L', '50-0-50-0'),\n",
       " ('amap08', 'C7L-', '20-0-80-25'),\n",
       " ('amap01', 'C8M-C8L', '20-0-80-25'),\n",
       " ('amap08', 'C6M-C6L', '80-0-20-400'),\n",
       " ('amap01', 'C7L-C7M', '20-0-80-25'),\n",
       " ('amap03', 'C7M-C7L', '50-0-50-100'),\n",
       " ('amap08', 'C7M-C7L', '50-0-50-100'),\n",
       " ('amap04', 'C6L-C7L', '80-0-20-400'),\n",
       " ('amap01', 'C8M-C8L', '80-0-20-400'),\n",
       " ('amap07', 'C6L-C7L', '20-0-80-25'),\n",
       " ('amap08', 'C6L-C7L', '20-0-80-25'),\n",
       " ('amap08', 'C6M-C6L', '50-0-50-0'),\n",
       " ('amap07', '-C6L', '20-0-80-25'),\n",
       " ('amap03', '-C7L', '50-0-50-100'),\n",
       " ('amap04', 'C7L-', '20-0-80-25'),\n",
       " ('amap01', 'C7L-C7M', '80-0-20-400'),\n",
       " ('amap04', 'C6L-C7L', '50-0-50-0'),\n",
       " ('amap06', 'C6M-C6L', '50-0-50-100'),\n",
       " ('amap01', 'C8M-C8L', '50-0-50-0'),\n",
       " ('amap02', 'C8L-C8M', '20-0-80-25'),\n",
       " ('amap03', 'C8L-C7L', '80-0-20-400'),\n",
       " ('amap07', 'C6L-C7L', '80-0-20-400'),\n",
       " ('amap04', '-C6L', '20-0-80-25'),\n",
       " ('amap01', 'C7L-C7M', '50-0-50-0'),\n",
       " ('amap05', 'C6M-C6L', '50-0-50-100'),\n",
       " ('amap07', '-C7L', '50-0-50-100'),\n",
       " ('amap04', 'C7L-', '80-0-20-400'),\n",
       " ('amap06', 'C6L-', '50-0-50-100'),\n",
       " ('amap02', '-C7L', '20-0-80-25'),\n",
       " ('amap03', 'C8L-C7L', '50-0-50-0'),\n",
       " ('amap07', 'C7L-', '20-0-80-25'),\n",
       " ('amap05', 'C6L-', '50-0-50-100'),\n",
       " ('amap04', '-C6L', '80-0-20-400'),\n",
       " ('amap08', 'C7L-C6L', '20-0-80-25'),\n",
       " ('amap01', 'C7L-', '80-0-20-400'),\n",
       " ('amap07', 'C7M-C7L', '50-0-50-100'),\n",
       " ('amap04', '-C6L', '50-0-50-0'),\n",
       " ('amap02', 'C7M-C7L', '20-0-80-25'),\n",
       " ('amap06', '-C7L', '50-0-50-0'),\n",
       " ('amap06', 'C6L-C6M', '20-0-80-25'),\n",
       " ('amap07', 'C7L-C6L', '80-0-20-400'),\n",
       " ('amap08', 'C7L-C6L', '80-0-20-400'),\n",
       " ('amap01', 'C7L-', '50-0-50-0'),\n",
       " ('amap01', '-C8L', '20-0-80-25'),\n",
       " ('amap05', '-C7L', '50-0-50-0'),\n",
       " ('amap07', 'C6M-C6L', '50-0-50-100'),\n",
       " ('amap02', 'C7L-C8L', '80-0-20-400'),\n",
       " ('amap07', 'C7L-C6L', '50-0-50-0'),\n",
       " ('amap08', 'C7L-C6L', '50-0-50-0'),\n",
       " ('amap05', 'C7M-C7L', '80-0-20-400'),\n",
       " ('amap01', '-C8L', '80-0-20-400'),\n",
       " ('amap02', 'C7L-', '50-0-50-100'),\n",
       " ('amap01', 'C7L-C8L', '50-0-50-100'),\n",
       " ('amap02', 'C7L-C8L', '50-0-50-0'),\n",
       " ('amap05', 'C7M-C7L', '50-0-50-0'),\n",
       " ('amap04', 'C7L-C6L', '50-0-50-0'),\n",
       " ('amap02', 'C8M-C8L', '80-0-20-400'),\n",
       " ('amap08', 'C6M-C6L', '50-0-50-100'),\n",
       " ('amap04', 'C6L-C7L', '50-0-50-100'),\n",
       " ('amap03', 'C8L-', '50-0-50-0'),\n",
       " ('amap01', 'C8M-C8L', '50-0-50-100'),\n",
       " ('amap02', 'C8M-C8L', '50-0-50-0'),\n",
       " ('amap01', 'C7L-C7M', '50-0-50-100'),\n",
       " ('amap03', 'C7L-C8L', '20-0-80-25'),\n",
       " ('amap04', '-C7L', '20-0-80-25'),\n",
       " ('amap03', 'C8L-C7L', '50-0-50-100'),\n",
       " ('amap01', 'C8L-', '20-0-80-25'),\n",
       " ('amap06', 'C6L-C7L', '20-0-80-25'),\n",
       " ('amap06', 'C6M-C6L', '50-0-50-0'),\n",
       " ('amap07', 'C6L-C7L', '50-0-50-100'),\n",
       " ('amap01', 'C8L-C8M', '20-0-80-25'),\n",
       " ('amap04', 'C7L-', '50-0-50-100'),\n",
       " ('amap05', 'C6L-C7L', '20-0-80-25'),\n",
       " ('amap05', 'C6M-C6L', '50-0-50-0'),\n",
       " ('amap07', 'C6L-C6M', '20-0-80-25'),\n",
       " ('amap08', 'C6L-C6M', '20-0-80-25'),\n",
       " ('amap01', '-C7L', '20-0-80-25'),\n",
       " ('amap02', 'C7L-C7M', '80-0-20-400'),\n",
       " ('amap04', '-C6L', '50-0-50-100'),\n",
       " ('amap06', 'C6L-C7L', '80-0-20-400'),\n",
       " ('amap04', 'C6L-C6M', '50-0-50-0'),\n",
       " ('amap04', 'C7M-C7L', '20-0-80-25'),\n",
       " ('amap01', 'C8L-C8M', '80-0-20-400'),\n",
       " ('amap06', '-C7L', '50-0-50-100'),\n",
       " ('amap01', 'C7L-', '50-0-50-100'),\n",
       " ('amap05', 'C6L-C7L', '80-0-20-400'),\n",
       " ('amap02', 'C7L-C7M', '50-0-50-0'),\n",
       " ('amap07', 'C6L-C6M', '80-0-20-400'),\n",
       " ('amap08', 'C6L-C6M', '80-0-20-400'),\n",
       " ('amap06', 'C6L-C7L', '50-0-50-0'),\n",
       " ('amap05', '-C7L', '50-0-50-100'),\n",
       " ('amap06', 'C7L-C7M', '20-0-80-25'),\n",
       " ('amap01', '-C7L', '80-0-20-400'),\n",
       " ('amap01', 'C8L-C8M', '50-0-50-0'),\n",
       " ('amap08', 'C7L-C7M', '20-0-80-25'),\n",
       " ('amap07', 'C7L-C6L', '50-0-50-100'),\n",
       " ('amap08', 'C7L-C6L', '50-0-50-100'),\n",
       " ('amap01', 'C7M-C7L', '20-0-80-25'),\n",
       " ('amap05', 'C6L-C7L', '50-0-50-0'),\n",
       " ('amap06', '-C6L', '20-0-80-25'),\n",
       " ('amap07', 'C6L-C6M', '50-0-50-0'),\n",
       " ('amap02', 'C7L-C8L', '50-0-50-100'),\n",
       " ('amap05', '-C6L', '20-0-80-25'),\n",
       " ('amap08', 'C7L-C7M', '80-0-20-400'),\n",
       " ('amap05', 'C7M-C7L', '50-0-50-100'),\n",
       " ('amap06', 'C7L-C6L', '80-0-20-400'),\n",
       " ('amap01', 'C7M-C7L', '80-0-20-400'),\n",
       " ('amap02', 'C8L-C7L', '20-0-80-25'),\n",
       " ('amap03', 'C8M-C8L', '20-0-80-25'),\n",
       " ('amap08', 'C6L-', '20-0-80-25'),\n",
       " ('amap05', 'C7L-C6L', '80-0-20-400'),\n",
       " ('amap06', 'C7L-C6L', '50-0-50-0'),\n",
       " ('amap06', 'C7L-', '20-0-80-25'),\n",
       " ('amap03', 'C7L-C7M', '20-0-80-25'),\n",
       " ('amap04', 'C6M-C6L', '20-0-80-25'),\n",
       " ('amap05', 'C7L-C6L', '50-0-50-0'),\n",
       " ('amap05', 'C7L-', '20-0-80-25'),\n",
       " ('amap04', 'C7L-C7M', '80-0-20-400'),\n",
       " ('amap03', 'C8M-C8L', '80-0-20-400'),\n",
       " ('amap03', 'C8L-', '50-0-50-100'),\n",
       " ('amap02', '-C8L', '80-0-20-400'),\n",
       " ('amap02', 'C8M-C8L', '50-0-50-100'),\n",
       " ('amap07', 'C7L-C7M', '20-0-80-25'),\n",
       " ('amap08', 'C7L-', '80-0-20-400'),\n",
       " ('amap04', 'C6L-', '20-0-80-25'),\n",
       " ('amap04', 'C7L-C7M', '50-0-50-0'),\n",
       " ('amap02', '-C8L', '50-0-50-0'),\n",
       " ('amap02', 'C8L-', '20-0-80-25'),\n",
       " ('amap08', 'C7L-', '50-0-50-0'),\n",
       " ('amap07', 'C7L-C7M', '80-0-20-400'),\n",
       " ('amap03', 'C7L-', '20-0-80-25'),\n",
       " ('amap04', 'C6L-', '80-0-20-400'),\n",
       " ('amap08', 'C6L-C7L', '80-0-20-400'),\n",
       " ('amap07', '-C6L', '80-0-20-400'),\n",
       " ('amap04', 'C6L-C6M', '50-0-50-100'),\n",
       " ('amap04', 'C6L-', '50-0-50-0'),\n",
       " ('amap02', 'C8L-C8M', '80-0-20-400'),\n",
       " ('amap07', 'C6L-C7L', '50-0-50-0'),\n",
       " ('amap03', 'C7L-', '80-0-20-400'),\n",
       " ('amap08', 'C6L-C7L', '50-0-50-0'),\n",
       " ('amap07', '-C6L', '50-0-50-0'),\n",
       " ('amap04', 'C7L-', '50-0-50-0'),\n",
       " ('amap02', 'C7L-C7M', '50-0-50-100'),\n",
       " ('amap06', 'C6L-C7L', '50-0-50-100'),\n",
       " ('amap08', '-C6L', '20-0-80-25'),\n",
       " ('amap02', '-C7L', '80-0-20-400'),\n",
       " ('amap01', 'C8L-C8M', '50-0-50-100'),\n",
       " ('amap02', 'C8L-C8M', '50-0-50-0'),\n",
       " ('amap03', 'C7L-', '50-0-50-0'),\n",
       " ('amap03', '-C8L', '20-0-80-25'),\n",
       " ('amap07', 'C7L-', '80-0-20-400'),\n",
       " ('amap05', 'C6L-C7L', '50-0-50-100'),\n",
       " ('amap07', 'C6L-C6M', '50-0-50-100'),\n",
       " ('amap01', '-C7L', '50-0-50-100'),\n",
       " ('amap02', '-C7L', '50-0-50-0'),\n",
       " ('amap08', '-C6L', '80-0-20-400'),\n",
       " ('amap07', 'C7L-', '50-0-50-0'),\n",
       " ('amap05', 'C6L-C6M', '20-0-80-25'),\n",
       " ('amap02', 'C7M-C7L', '80-0-20-400'),\n",
       " ('amap06', 'C6L-C6M', '80-0-20-400'),\n",
       " ('amap08', '-C6L', '50-0-50-0'),\n",
       " ('amap06', 'C7L-C6L', '50-0-50-100'),\n",
       " ('amap02', 'C7M-C7L', '50-0-50-0'),\n",
       " ('amap05', 'C6L-C6M', '80-0-20-400'),\n",
       " ('amap06', 'C6L-C6M', '50-0-50-0'),\n",
       " ('amap03', 'C8L-C8M', '20-0-80-25'),\n",
       " ('amap01', 'C8L-C7L', '20-0-80-25'),\n",
       " ('amap01', '-C8L', '50-0-50-0'),\n",
       " ('amap05', 'C7L-C6L', '50-0-50-100'),\n",
       " ('amap05', 'C6L-C6M', '50-0-50-0'),\n",
       " ('amap08', '-C7L', '20-0-80-25'),\n",
       " ('amap04', 'C7L-C7M', '50-0-50-100'),\n",
       " ('amap01', 'C8L-C7L', '80-0-20-400'),\n",
       " ('amap02', '-C8L', '50-0-50-100'),\n",
       " ('amap08', 'C7L-', '50-0-50-100'),\n",
       " ('amap01', 'C8L-C7L', '50-0-50-0'),\n",
       " ('amap03', 'C7M-C7L', '20-0-80-25'),\n",
       " ('amap08', 'C7M-C7L', '20-0-80-25'),\n",
       " ('amap04', 'C6L-', '50-0-50-100'),\n",
       " ('amap08', 'C6L-C7L', '50-0-50-100'),\n",
       " ('amap07', '-C6L', '50-0-50-100'),\n",
       " ('amap03', '-C7L', '20-0-80-25'),\n",
       " ('amap03', 'C7L-C8L', '80-0-20-400'),\n",
       " ('amap04', '-C7L', '80-0-20-400'),\n",
       " ('amap02', 'C8L-C8M', '50-0-50-100'),\n",
       " ('amap03', 'C7L-', '50-0-50-100'),\n",
       " ('amap01', 'C8L-', '80-0-20-400'),\n",
       " ('amap07', '-C7L', '20-0-80-25'),\n",
       " ('amap03', 'C7L-C8L', '50-0-50-0'),\n",
       " ('amap06', 'C6L-', '20-0-80-25'),\n",
       " ('amap02', '-C7L', '50-0-50-100'),\n",
       " ('amap04', '-C7L', '50-0-50-0'),\n",
       " ('amap01', 'C8L-', '50-0-50-0'),\n",
       " ('amap07', 'C7L-', '50-0-50-100'),\n",
       " ('amap05', 'C6L-', '20-0-80-25'),\n",
       " ('amap04', 'C7M-C7L', '80-0-20-400'),\n",
       " ('amap07', '-C7L', '80-0-20-400'),\n",
       " ('amap08', '-C6L', '50-0-50-100'),\n",
       " ('amap05', 'C7L-C7M', '20-0-80-25'),\n",
       " ('amap07', 'C7M-C7L', '20-0-80-25'),\n",
       " ('amap08', 'C6L-C6M', '50-0-50-0'),\n",
       " ('amap01', '-C7L', '50-0-50-0'),\n",
       " ('amap02', 'C7M-C7L', '50-0-50-100'),\n",
       " ('amap04', 'C7M-C7L', '50-0-50-0'),\n",
       " ('amap06', 'C7L-C7M', '80-0-20-400'),\n",
       " ('amap06', 'C6L-C6M', '50-0-50-100'),\n",
       " ('amap01', '-C8L', '50-0-50-100'),\n",
       " ('amap06', '-C6L', '80-0-20-400'),\n",
       " ('amap05', 'C7L-C7M', '80-0-20-400'),\n",
       " ('amap06', 'C7L-C7M', '50-0-50-0'),\n",
       " ('amap05', 'C6L-C6M', '50-0-50-100'),\n",
       " ('amap07', 'C6M-C6L', '20-0-80-25'),\n",
       " ('amap08', 'C7L-C7M', '50-0-50-0'),\n",
       " ('amap01', 'C7M-C7L', '50-0-50-0'),\n",
       " ('amap05', '-C6L', '80-0-20-400'),\n",
       " ('amap06', '-C6L', '50-0-50-0'),\n",
       " ('amap05', 'C7L-C7M', '50-0-50-0'),\n",
       " ('amap02', 'C8L-C7L', '80-0-20-400'),\n",
       " ('amap07', 'C6L-', '20-0-80-25'),\n",
       " ('amap01', 'C7L-C8L', '20-0-80-25'),\n",
       " ('amap05', '-C6L', '50-0-50-0'),\n",
       " ('amap08', 'C6L-', '80-0-20-400'),\n",
       " ('amap06', 'C7L-', '80-0-20-400'),\n",
       " ('amap01', 'C8L-C7L', '50-0-50-100'),\n",
       " ('amap02', 'C8L-C7L', '50-0-50-0'),\n",
       " ('amap03', 'C7L-C7M', '80-0-20-400'),\n",
       " ('amap03', 'C8M-C8L', '50-0-50-0'),\n",
       " ('amap07', 'C6L-', '80-0-20-400'),\n",
       " ('amap04', 'C6M-C6L', '80-0-20-400'),\n",
       " ('amap08', 'C6L-', '50-0-50-0'),\n",
       " ('amap05', 'C7L-', '80-0-20-400'),\n",
       " ('amap06', 'C7L-', '50-0-50-0'),\n",
       " ('amap03', 'C7L-C7M', '50-0-50-0'),\n",
       " ('amap08', 'C6M-C6L', '20-0-80-25'),\n",
       " ('amap07', 'C6L-', '50-0-50-0'),\n",
       " ('amap04', 'C6L-C7L', '20-0-80-25'),\n",
       " ('amap04', 'C6M-C6L', '50-0-50-0'),\n",
       " ('amap05', 'C7L-', '50-0-50-0'),\n",
       " ('amap07', 'C7L-C7M', '50-0-50-0'),\n",
       " ('amap02', 'C8L-', '80-0-20-400'),\n",
       " ('amap03', 'C7L-C8L', '50-0-50-100'),\n",
       " ('amap06', 'C7M-C7L', '20-0-80-25'),\n",
       " ('amap04', '-C7L', '50-0-50-100'),\n",
       " ('amap03', 'C8L-C7L', '20-0-80-25'),\n",
       " ('amap01', 'C8L-', '50-0-50-100'),\n",
       " ('amap02', 'C8L-', '50-0-50-0')]"
      ]
     },
     "execution_count": 19,
     "metadata": {},
     "output_type": "execute_result"
    }
   ],
   "source": [
    "combinations_no_response"
   ]
  },
  {
   "cell_type": "code",
   "execution_count": 20,
   "metadata": {},
   "outputs": [
    {
     "data": {
      "text/plain": [
       "320"
      ]
     },
     "execution_count": 20,
     "metadata": {},
     "output_type": "execute_result"
    }
   ],
   "source": [
    "df[['participant','compound_position', 'compound_charge_params']].apply(tuple, axis = 1).nunique()"
   ]
  },
  {
   "cell_type": "code",
   "execution_count": 21,
   "metadata": {},
   "outputs": [],
   "source": [
    "pmono20 = np.array([bool(re.search(r'20-0-80-25', s[2])) for s in combinations_no_response])\n",
    "pmono80 = np.array([bool(re.search(r'80-0-20-400', s[2])) for s in combinations_no_response])\n",
    "mono = np.array([bool(re.search(r'50-0-50-100', s[2])) for s in combinations_no_response])\n",
    "bip = np.array([bool(re.search(r'50-0-50-0', s[2])) for s in combinations_no_response])\n",
    "\n",
    "lat = np.array([bool(s[1].split(\"-\")[1][2:] == \"L\") for s in combinations_no_response])\n",
    "med = np.array([bool(s[1].split(\"-\")[1][2:] == \"M\") for s in combinations_no_response])"
   ]
  },
  {
   "cell_type": "code",
   "execution_count": 22,
   "metadata": {},
   "outputs": [],
   "source": [
    "dictBool = {}\n",
    "\n",
    "dictBool[('lateral pmono20')] = np.array([bool(re.search(r'20-0-80-25', s[2]) and s[1].split(\"-\")[0][2:] == \"L\") for s in combinations_no_response])\n",
    "dictBool[('lateral pmono80')] = np.array([bool(re.search(r'80-0-20-400', s[2])and s[1].split(\"-\")[0][2:] == \"L\") for s in combinations_no_response])\n",
    "dictBool[('lateral mono')] = np.array([bool(re.search(r'50-0-50-100', s[2])and s[1].split(\"-\")[0][2:] == \"L\") for s in combinations_no_response])\n",
    "dictBool[('lateral bip')] = np.array([bool(re.search(r'50-0-50-0', s[2])and s[1].split(\"-\")[0][2:] == \"L\") for s in combinations_no_response])\n",
    "\n",
    "dictBool[('medial pmono20')] = np.array([bool(re.search(r'20-0-80-25', s[2])and s[1].split(\"-\")[0][2:] == \"M\") for s in combinations_no_response])\n",
    "dictBool[('medial pmono80')] = np.array([bool(re.search(r'80-0-20-400', s[2])and s[1].split(\"-\")[0][2:] == \"M\") for s in combinations_no_response])\n",
    "dictBool[('medial mono')] = np.array([bool(re.search(r'50-0-50-100', s[2])and s[1].split(\"-\")[0][2:] == \"M\") for s in combinations_no_response])\n",
    "dictBool[('medial bip')] = np.array([bool(re.search(r'50-0-50-0', s[2])and s[1].split(\"-\")[0][2:] == \"M\") for s in combinations_no_response])"
   ]
  },
  {
   "cell_type": "code",
   "execution_count": 23,
   "metadata": {},
   "outputs": [],
   "source": [
    "value = []\n",
    "for b,v in dictBool.items():\n",
    "    for b1, v1 in dictBool.items():\n",
    "        A = arr[:,v,:].mean(axis = 0).reshape(-1,)\n",
    "        B = arr[:,v1,:].mean(axis = 0).reshape(-1,)\n",
    "        tbvs, pbvs = stats.ttest_ind(B,A, alternative=\"less\")\n",
    "        if pbvs < 0.05:\n",
    "            value.append(f\"{b1} is more effective than {b} (p = {pbvs})\")\n",
    "        else: value.append(f\"No significant difference for {b1} vs {b} (p = {pbvs})\")"
   ]
  },
  {
   "cell_type": "code",
   "execution_count": 24,
   "metadata": {},
   "outputs": [
    {
     "data": {
      "text/plain": [
       "0.9999996519248618"
      ]
     },
     "execution_count": 24,
     "metadata": {},
     "output_type": "execute_result"
    }
   ],
   "source": [
    "A = arr[:,mono,:].mean(axis = 0).reshape(-1,)\n",
    "B = arr[:,bip,:].mean(axis = 0).reshape(-1,)\n",
    "\n",
    "tbvs, pbvs = stats.ttest_ind(B,A, alternative=\"less\")\n",
    "\n",
    "pbvs"
   ]
  },
  {
   "cell_type": "code",
   "execution_count": 25,
   "metadata": {},
   "outputs": [
    {
     "data": {
      "text/plain": [
       "['No significant difference for lateral pmono20 vs lateral pmono20 (p = 0.5)',\n",
       " 'lateral pmono80 is more effective than lateral pmono20 (p = 3.330377595485794e-06)',\n",
       " 'lateral mono is more effective than lateral pmono20 (p = 1.2607569257320152e-06)',\n",
       " 'No significant difference for lateral bip vs lateral pmono20 (p = 0.6194876254034895)',\n",
       " 'No significant difference for medial pmono20 vs lateral pmono20 (p = 0.7546825256613645)',\n",
       " 'No significant difference for medial pmono80 vs lateral pmono20 (p = 0.5194488960869695)',\n",
       " 'No significant difference for medial mono vs lateral pmono20 (p = 0.05064605808544234)',\n",
       " 'No significant difference for medial bip vs lateral pmono20 (p = 0.9528543236723797)',\n",
       " 'No significant difference for lateral pmono20 vs lateral pmono80 (p = 0.9999966696224045)',\n",
       " 'No significant difference for lateral pmono80 vs lateral pmono80 (p = 0.5)',\n",
       " 'No significant difference for lateral mono vs lateral pmono80 (p = 0.4339799782774766)',\n",
       " 'No significant difference for lateral bip vs lateral pmono80 (p = 0.9999996498384647)',\n",
       " 'No significant difference for medial pmono20 vs lateral pmono80 (p = 0.9999733872556013)',\n",
       " 'No significant difference for medial pmono80 vs lateral pmono80 (p = 0.9996711156584076)',\n",
       " 'No significant difference for medial mono vs lateral pmono80 (p = 0.9188301457491227)',\n",
       " 'No significant difference for medial bip vs lateral pmono80 (p = 0.9999998834066476)',\n",
       " 'No significant difference for lateral pmono20 vs lateral mono (p = 0.9999987392430743)',\n",
       " 'No significant difference for lateral pmono80 vs lateral mono (p = 0.5660200217225234)',\n",
       " 'No significant difference for lateral mono vs lateral mono (p = 0.5)',\n",
       " 'No significant difference for lateral bip vs lateral mono (p = 0.9999998869158038)',\n",
       " 'No significant difference for medial pmono20 vs lateral mono (p = 0.9999881987694191)',\n",
       " 'No significant difference for medial pmono80 vs lateral mono (p = 0.9998333096657859)',\n",
       " 'No significant difference for medial mono vs lateral mono (p = 0.9373014369260806)',\n",
       " 'No significant difference for medial bip vs lateral mono (p = 0.9999999630601298)',\n",
       " 'No significant difference for lateral pmono20 vs lateral bip (p = 0.38051237459651055)',\n",
       " 'lateral pmono80 is more effective than lateral bip (p = 3.5016153534658377e-07)',\n",
       " 'lateral mono is more effective than lateral bip (p = 1.130841961930851e-07)',\n",
       " 'No significant difference for lateral bip vs lateral bip (p = 0.5)',\n",
       " 'No significant difference for medial pmono20 vs lateral bip (p = 0.6919440975301829)',\n",
       " 'No significant difference for medial pmono80 vs lateral bip (p = 0.4333877595435012)',\n",
       " 'medial mono is more effective than lateral bip (p = 0.028078062414603804)',\n",
       " 'No significant difference for medial bip vs lateral bip (p = 0.9360571293287688)',\n",
       " 'No significant difference for lateral pmono20 vs medial pmono20 (p = 0.24531747433863554)',\n",
       " 'lateral pmono80 is more effective than medial pmono20 (p = 2.6612744398764203e-05)',\n",
       " 'lateral mono is more effective than medial pmono20 (p = 1.1801230580841936e-05)',\n",
       " 'No significant difference for lateral bip vs medial pmono20 (p = 0.30805590246981707)',\n",
       " 'No significant difference for medial pmono20 vs medial pmono20 (p = 0.5)',\n",
       " 'No significant difference for medial pmono80 vs medial pmono20 (p = 0.3021544926987001)',\n",
       " 'medial mono is more effective than medial pmono20 (p = 0.036629402864860425)',\n",
       " 'No significant difference for medial bip vs medial pmono20 (p = 0.7802846800749904)',\n",
       " 'No significant difference for lateral pmono20 vs medial pmono80 (p = 0.48055110391303046)',\n",
       " 'lateral pmono80 is more effective than medial pmono80 (p = 0.000328884341592395)',\n",
       " 'lateral mono is more effective than medial pmono80 (p = 0.00016669033421413116)',\n",
       " 'No significant difference for lateral bip vs medial pmono80 (p = 0.5666122404564988)',\n",
       " 'No significant difference for medial pmono20 vs medial pmono80 (p = 0.6978455073012999)',\n",
       " 'No significant difference for medial pmono80 vs medial pmono80 (p = 0.5)',\n",
       " 'No significant difference for medial mono vs medial pmono80 (p = 0.08924713089863354)',\n",
       " 'No significant difference for medial bip vs medial pmono80 (p = 0.9080146401146364)',\n",
       " 'No significant difference for lateral pmono20 vs medial mono (p = 0.9493539419145577)',\n",
       " 'No significant difference for lateral pmono80 vs medial mono (p = 0.08116985425087728)',\n",
       " 'No significant difference for lateral mono vs medial mono (p = 0.06269856307391936)',\n",
       " 'No significant difference for lateral bip vs medial mono (p = 0.9719219375853961)',\n",
       " 'No significant difference for medial pmono20 vs medial mono (p = 0.9633705971351395)',\n",
       " 'No significant difference for medial pmono80 vs medial mono (p = 0.9107528691013664)',\n",
       " 'No significant difference for medial mono vs medial mono (p = 0.5)',\n",
       " 'No significant difference for medial bip vs medial mono (p = 0.9949502813545283)',\n",
       " 'lateral pmono20 is more effective than medial bip (p = 0.04714567632762029)',\n",
       " 'lateral pmono80 is more effective than medial bip (p = 1.1659335243530082e-07)',\n",
       " 'lateral mono is more effective than medial bip (p = 3.6939870189732915e-08)',\n",
       " 'No significant difference for lateral bip vs medial bip (p = 0.06394287067123124)',\n",
       " 'No significant difference for medial pmono20 vs medial bip (p = 0.2197153199250096)',\n",
       " 'No significant difference for medial pmono80 vs medial bip (p = 0.09198535988536362)',\n",
       " 'medial mono is more effective than medial bip (p = 0.005049718645471715)',\n",
       " 'No significant difference for medial bip vs medial bip (p = 0.5)']"
      ]
     },
     "execution_count": 25,
     "metadata": {},
     "output_type": "execute_result"
    }
   ],
   "source": [
    "value"
   ]
  },
  {
   "cell_type": "code",
   "execution_count": 26,
   "metadata": {},
   "outputs": [
    {
     "data": {
      "text/plain": [
       "{'-C6L',\n",
       " '-C7L',\n",
       " '-C8L',\n",
       " 'C6L-',\n",
       " 'C6L-C6M',\n",
       " 'C6L-C7L',\n",
       " 'C6M-C6L',\n",
       " 'C7L-',\n",
       " 'C7L-C6L',\n",
       " 'C7L-C7M',\n",
       " 'C7L-C8L',\n",
       " 'C7M-C7L',\n",
       " 'C8L-',\n",
       " 'C8L-C7L',\n",
       " 'C8L-C8M',\n",
       " 'C8M-C8L'}"
      ]
     },
     "execution_count": 26,
     "metadata": {},
     "output_type": "execute_result"
    }
   ],
   "source": [
    "a = set(u[1] for u in combinations_no_response)\n",
    "a"
   ]
  },
  {
   "cell_type": "code",
   "execution_count": 27,
   "metadata": {},
   "outputs": [],
   "source": [
    "C61 = np.array([bool(re.search(r'50-0-50-0', s[2]) and (\"C6\" in s[1].split(\"-\")[0][0:] or \"C6\" in s[1].split(\"-\")[1][0:])) for s in combinations_no_response])\n",
    "C71 = np.array([bool(re.search(r'50-0-50-0', s[2]) and (\"C7\" in s[1].split(\"-\")[0][0:] or \"C7\" in s[1].split(\"-\")[1][0:])) for s in combinations_no_response])\n",
    "C81 = np.array([bool(re.search(r'50-0-50-0', s[2]) and (\"C8\" in s[1].split(\"-\")[0][0:] or \"C8\" in s[1].split(\"-\")[1][0:])) for s in combinations_no_response])\n",
    "\n",
    "C62 = np.array([bool(re.search(r'20-0-80-25', s[2]) and (\"C6\" in s[1].split(\"-\")[0][0:] or \"C6\" in s[1].split(\"-\")[1][0:])) for s in combinations_no_response])\n",
    "C72 = np.array([bool(re.search(r'20-0-80-25', s[2]) and (\"C7\" in s[1].split(\"-\")[0][0:] or \"C7\" in s[1].split(\"-\")[1][0:])) for s in combinations_no_response])\n",
    "C82 = np.array([bool(re.search(r'20-0-80-25', s[2]) and (\"C8\" in s[1].split(\"-\")[0][0:] or \"C8\" in s[1].split(\"-\")[1][0:])) for s in combinations_no_response])\n",
    "\n",
    "C63 = np.array([bool(re.search(r'80-0-20-400', s[2]) and (\"C6\" in s[1].split(\"-\")[0][0:] or \"C6\" in s[1].split(\"-\")[1][0:])) for s in combinations_no_response])\n",
    "C73 = np.array([bool(re.search(r'80-0-20-400', s[2]) and (\"C7\" in s[1].split(\"-\")[0][0:] or \"C7\" in s[1].split(\"-\")[1][0:])) for s in combinations_no_response])\n",
    "C83 = np.array([bool(re.search(r'80-0-20-400', s[2]) and (\"C8\" in s[1].split(\"-\")[0][0:] or \"C8\" in s[1].split(\"-\")[1][0:])) for s in combinations_no_response])\n",
    "\n",
    "C64 = np.array([bool(re.search(r'50-0-50-100', s[2]) and (\"C6\" in s[1].split(\"-\")[0][0:] or \"C6\" in s[1].split(\"-\")[1][0:])) for s in combinations_no_response])\n",
    "C74 = np.array([bool(re.search(r'50-0-50-100', s[2]) and (\"C7\" in s[1].split(\"-\")[0][0:] or \"C7\" in s[1].split(\"-\")[1][0:])) for s in combinations_no_response])\n",
    "C84 = np.array([bool(re.search(r'50-0-50-100', s[2]) and (\"C8\" in s[1].split(\"-\")[0][0:] or \"C8\" in s[1].split(\"-\")[1][0:])) for s in combinations_no_response])"
   ]
  },
  {
   "cell_type": "code",
   "execution_count": 28,
   "metadata": {},
   "outputs": [
    {
     "data": {
      "text/plain": [
       "2.9022671961367066e-12"
      ]
     },
     "execution_count": 28,
     "metadata": {},
     "output_type": "execute_result"
    }
   ],
   "source": [
    "C = arr[:,C71,:].mean(axis = 0).reshape(-1,)\n",
    "D = arr[:,C81,:].mean(axis = 0).reshape(-1,)\n",
    "\n",
    "tbvs, pbvs = stats.ttest_ind(C,D, alternative=\"less\")\n",
    "\n",
    "pbvs"
   ]
  },
  {
   "cell_type": "code",
   "execution_count": null,
   "metadata": {},
   "outputs": [],
   "source": []
  },
  {
   "cell_type": "code",
   "execution_count": 29,
   "metadata": {},
   "outputs": [
    {
     "data": {
      "text/plain": [
       "48"
      ]
     },
     "execution_count": 29,
     "metadata": {},
     "output_type": "execute_result"
    }
   ],
   "source": [
    "C74.sum()"
   ]
  },
  {
   "cell_type": "code",
   "execution_count": 30,
   "metadata": {},
   "outputs": [
    {
     "ename": "NameError",
     "evalue": "name 'mask' is not defined",
     "output_type": "error",
     "traceback": [
      "\u001b[0;31m---------------------------------------------------------------------------\u001b[0m",
      "\u001b[0;31mNameError\u001b[0m                                 Traceback (most recent call last)",
      "Cell \u001b[0;32mIn[30], line 1\u001b[0m\n\u001b[0;32m----> 1\u001b[0m arr[:,\u001b[43mmask\u001b[49m,:]\u001b[38;5;241m.\u001b[39mshape\n",
      "\u001b[0;31mNameError\u001b[0m: name 'mask' is not defined"
     ]
    }
   ],
   "source": [
    "arr[:,mask,:].shape"
   ]
  },
  {
   "cell_type": "code",
   "execution_count": null,
   "metadata": {},
   "outputs": [],
   "source": [
    "L, M = threshold_array(\"20-0-80-25\")"
   ]
  },
  {
   "cell_type": "code",
   "execution_count": null,
   "metadata": {},
   "outputs": [
    {
     "data": {
      "text/plain": [
       "array([0.92528306, 0.38606512, 0.67930961, 0.50053072, 0.51280737,\n",
       "       0.35147554])"
      ]
     },
     "execution_count": 31,
     "metadata": {},
     "output_type": "execute_result"
    }
   ],
   "source": [
    "ttest_values, pscores = stats.ttest_ind(L, M)\n",
    "pscores\n"
   ]
  },
  {
   "cell_type": "markdown",
   "metadata": {},
   "source": [
    "Graphing if we want group comparison"
   ]
  },
  {
   "cell_type": "code",
   "execution_count": null,
   "metadata": {},
   "outputs": [],
   "source": [
    "def graph_arr(charge):\n",
    "    L, M, subject, muscle = threshold_array(charge)\n",
    "    sub_meanS = np.median(L, axis=0)\n",
    "    rowS = np.vsplit(L,len(subject))\n",
    "    rowS = [i.tolist() for i in rowS]\n",
    "    sub_meanL = np.median(M, axis=0)\n",
    "    rowL = np.vsplit(M,len(subject))\n",
    "    rowL = [i.tolist() for i in rowL]\n",
    "    for xval_ind, xval in enumerate(rowS):\n",
    "        # plt.plot(xval[0], muscle, linestyle='dashed', marker=\".\", markersize=20, alpha =0.3, color = \"pink\")\n",
    "        plt.plot(sub_meanS,muscle, color = \"red\", linestyle='dashed', marker=\".\", markersize=20, label=\"Lateral\" if xval_ind == 0 else None)\n",
    "        # plt.legend('Lateral')\n",
    "    for xval_ind,xval in enumerate(rowL):\n",
    "        # plt.plot(xval[0], muscle, linestyle='dashed', marker=\".\", markersize=25, alpha =0.3, color = \"blue\")\n",
    "        plt.plot(sub_meanL,muscle, color = \"black\", linestyle='dashed', marker=\".\", markersize=20, label=\"Medial\" if xval_ind == 1 else None)\n",
    "        # plt.legend('Medial')\n",
    "    plt.yticks(weight ='bold',style = 'italic')\n",
    "    plt.xlabel('Efficacy')\n",
    "    plt.legend()\n",
    "    plt.show()\n",
    "    "
   ]
  },
  {
   "cell_type": "code",
   "execution_count": null,
   "metadata": {},
   "outputs": [],
   "source": [
    "graph_arr(\"20-0-80-25\")"
   ]
  },
  {
   "cell_type": "markdown",
   "metadata": {},
   "source": [
    "## Rostral Caudal"
   ]
  },
  {
   "cell_type": "code",
   "execution_count": null,
   "metadata": {},
   "outputs": [
    {
     "data": {
      "text/plain": [
       "{'-C6L',\n",
       " '-C7L',\n",
       " '-C8L',\n",
       " 'C6L-',\n",
       " 'C6L-C6M',\n",
       " 'C6L-C7L',\n",
       " 'C6M-C6L',\n",
       " 'C7L-',\n",
       " 'C7L-C6L',\n",
       " 'C7L-C7M',\n",
       " 'C7L-C8L',\n",
       " 'C7M-C7L',\n",
       " 'C8L-',\n",
       " 'C8L-C7L',\n",
       " 'C8L-C8M',\n",
       " 'C8M-C8L'}"
      ]
     },
     "execution_count": 9,
     "metadata": {},
     "output_type": "execute_result"
    }
   ],
   "source": [
    "a"
   ]
  },
  {
   "cell_type": "code",
   "execution_count": 32,
   "metadata": {},
   "outputs": [],
   "source": [
    "C67b = np.array([bool(re.search(r'50-0-50-0', s[2]) and (\"C6\" in s[1].split(\"-\")[0][0:] and \"C7\" in s[1].split(\"-\")[1][0:])) for s in combinations_no_response])\n",
    "C76b = np.array([bool(re.search(r'50-0-50-0', s[2]) and (\"C7\" in s[1].split(\"-\")[0][0:] and \"C6\" in s[1].split(\"-\")[1][0:])) for s in combinations_no_response])\n",
    "C78b = np.array([bool(re.search(r'50-0-50-0', s[2]) and (\"C7\" in s[1].split(\"-\")[0][0:] and \"C8\" in s[1].split(\"-\")[1][0:])) for s in combinations_no_response])\n",
    "C87b = np.array([bool(re.search(r'50-0-50-0', s[2]) and (\"C8\" in s[1].split(\"-\")[0][0:] and \"C7\" in s[1].split(\"-\")[1][0:])) for s in combinations_no_response])\n",
    "\n",
    "C67m = np.array([bool(re.search(r'50-0-50-100', s[2]) and (\"C6\" in s[1].split(\"-\")[0][0:] and \"C7\" in s[1].split(\"-\")[1][0:])) for s in combinations_no_response])\n",
    "C76m = np.array([bool(re.search(r'50-0-50-100', s[2]) and (\"C7\" in s[1].split(\"-\")[0][0:] and \"C6\" in s[1].split(\"-\")[1][0:])) for s in combinations_no_response])\n",
    "C78m = np.array([bool(re.search(r'50-0-50-100', s[2]) and (\"C7\" in s[1].split(\"-\")[0][0:] and \"C8\" in s[1].split(\"-\")[1][0:])) for s in combinations_no_response])\n",
    "C87m = np.array([bool(re.search(r'50-0-50-100', s[2]) and (\"C8\" in s[1].split(\"-\")[0][0:] and \"C7\" in s[1].split(\"-\")[1][0:])) for s in combinations_no_response])\n",
    "\n",
    "C67p80 = np.array([bool(re.search(r'80-0-20-400', s[2]) and (\"C6\" in s[1].split(\"-\")[0][0:] and \"C7\" in s[1].split(\"-\")[1][0:])) for s in combinations_no_response])\n",
    "C76p80 = np.array([bool(re.search(r'80-0-20-400', s[2]) and (\"C7\" in s[1].split(\"-\")[0][0:] and \"C6\" in s[1].split(\"-\")[1][0:])) for s in combinations_no_response])\n",
    "C78p80 = np.array([bool(re.search(r'80-0-20-400', s[2]) and (\"C7\" in s[1].split(\"-\")[0][0:] and \"C8\" in s[1].split(\"-\")[1][0:])) for s in combinations_no_response])\n",
    "C87p80 = np.array([bool(re.search(r'80-0-20-400', s[2]) and (\"C8\" in s[1].split(\"-\")[0][0:] and \"C7\" in s[1].split(\"-\")[1][0:])) for s in combinations_no_response])\n",
    "\n",
    "C67p20 = np.array([bool(re.search(r'20-0-80-25', s[2]) and (\"C6\" in s[1].split(\"-\")[0][0:] and \"C7\" in s[1].split(\"-\")[1][0:])) for s in combinations_no_response])\n",
    "C76p20 = np.array([bool(re.search(r'20-0-80-25', s[2]) and (\"C7\" in s[1].split(\"-\")[0][0:] and \"C6\" in s[1].split(\"-\")[1][0:])) for s in combinations_no_response])\n",
    "C78p20 = np.array([bool(re.search(r'20-0-80-25', s[2]) and (\"C7\" in s[1].split(\"-\")[0][0:] and \"C8\" in s[1].split(\"-\")[1][0:])) for s in combinations_no_response])\n",
    "C87p20 = np.array([bool(re.search(r'20-0-80-25', s[2]) and (\"C8\" in s[1].split(\"-\")[0][0:] and \"C7\" in s[1].split(\"-\")[1][0:])) for s in combinations_no_response])\n"
   ]
  },
  {
   "cell_type": "code",
   "execution_count": 47,
   "metadata": {},
   "outputs": [
    {
     "data": {
      "text/plain": [
       "(4000, 192, 6)"
      ]
     },
     "execution_count": 47,
     "metadata": {},
     "output_type": "execute_result"
    }
   ],
   "source": [
    "rostral = np.array([bool(re.search(r'50-0-50-100', s[2]) and (s[1].split(\"-\")[0][:2] != s[1].split(\"-\")[1][:2]))for s in combinations_no_response])\n",
    "diff = np.array([bool(s[1].split(\"-\")[0][:2] != s[1].split(\"-\")[1][:2]) for s in combinations_no_response])\n",
    "\n",
    "arr[:,diff,:].shape"
   ]
  }
 ],
 "metadata": {
  "kernelspec": {
   "display_name": ".venv",
   "language": "python",
   "name": "python3"
  },
  "language_info": {
   "codemirror_mode": {
    "name": "ipython",
    "version": 3
   },
   "file_extension": ".py",
   "mimetype": "text/x-python",
   "name": "python",
   "nbconvert_exporter": "python",
   "pygments_lexer": "ipython3",
   "version": "3.11.9"
  }
 },
 "nbformat": 4,
 "nbformat_minor": 2
}
