{
 "cells": [
  {
   "cell_type": "code",
   "execution_count": 3,
   "metadata": {},
   "outputs": [],
   "source": [
    "import os\n",
    "import numpy as np\n",
    "import pandas as pd\n",
    "import pickle\n",
    "from scipy import stats \n",
    "import matplotlib.pyplot as plt\n",
    "import seaborn as sns\n",
    "import re\n"
   ]
  },
  {
   "cell_type": "code",
   "execution_count": 4,
   "metadata": {},
   "outputs": [],
   "source": [
    "src = \"/home/andres/data/hbmep-processed/J_SHAP/data.csv\"\n",
    "df = pd.read_csv(src)"
   ]
  },
  {
   "cell_type": "code",
   "execution_count": 4,
   "metadata": {},
   "outputs": [
    {
     "data": {
      "text/plain": [
       "(16440, 44)"
      ]
     },
     "execution_count": 4,
     "metadata": {},
     "output_type": "execute_result"
    }
   ],
   "source": [
    "df.shape"
   ]
  },
  {
   "cell_type": "code",
   "execution_count": 5,
   "metadata": {},
   "outputs": [],
   "source": [
    "columns = [\"part\"]"
   ]
  },
  {
   "cell_type": "code",
   "execution_count": 6,
   "metadata": {},
   "outputs": [
    {
     "data": {
      "text/plain": [
       "Index(['pulse_amplitude', 'pulse_train_frequency', 'pulse_period',\n",
       "       'pulse_duration', 'pulse_count', 'train_delay', 'channel1_1',\n",
       "       'channel1_2', 'channel1_3', 'channel1_4', 'channel2_1', 'channel2_2',\n",
       "       'channel2_3', 'channel2_4', 'charge_params_1', 'charge_params_2',\n",
       "       'charge_params_3', 'charge_params_4', 'bank_check', 'run', 'enabled',\n",
       "       'channel_failA', 'channel_failB', 'channel_fail_comb', 'time_pulse',\n",
       "       'time', 'ix_onsets', 'auc_2', 'auc_6', 'auc_5', 'auc_7', 'auc_1',\n",
       "       'auc_4', 'auc_3', 'auc_8', 'channel1_laterality', 'channel1_segment',\n",
       "       'channel2_laterality', 'channel2_segment', 'compound_position',\n",
       "       'compound_charge_params', 'participant', 'subdir_pattern',\n",
       "       'charge_param_error'],\n",
       "      dtype='object')"
      ]
     },
     "execution_count": 6,
     "metadata": {},
     "output_type": "execute_result"
    }
   ],
   "source": [
    "df.columns"
   ]
  },
  {
   "cell_type": "code",
   "execution_count": 5,
   "metadata": {},
   "outputs": [],
   "source": [
    "file = open(\"/home/andres/repos/rat-mapping-paper/reports/J_SHAP/combine.pkl\",\"rb\")\n",
    "combo = pickle.load(file)"
   ]
  },
  {
   "cell_type": "code",
   "execution_count": 6,
   "metadata": {},
   "outputs": [],
   "source": [
    "def threshold_array(shape):\n",
    "    my_dict = {\n",
    "    (key[0], key[1], key[3]): value[\"a\"].mean() for  key,value in combo.items() if key[2] == shape\n",
    "    }\n",
    "    keys, values = zip(*my_dict.items())\n",
    "    axis0 = np.unique([key[0] for key in keys])\n",
    "    axis1 = [\"Deltoid\", \"Biceps\", \"Triceps\", \"ECR\", \"FCR\", \"ADM\"][::-1]\n",
    "    pos_L = np.zeros((len(axis0), len(axis1)))\n",
    "    pos_M = np.zeros((len(axis0), len(axis1)))\n",
    "    for key, value in zip(keys, values):\n",
    "        if key[1].split(\"-\")[0][2:] == \"L\":\n",
    "            pos_L[np.where(axis0 == key[0])[0], np.where(np.array(axis1) == key[2][1:])[0]] = 1/value \n",
    "        elif key[1].split(\"-\")[0][2:] == \"M\":\n",
    "            pos_M[np.where(axis0 == key[0])[0], np.where(np.array(axis1) == key[2][1:])[0]] = 1/value \n",
    "    return(pos_L, pos_M, axis0, axis1)"
   ]
  },
  {
   "cell_type": "code",
   "execution_count": 7,
   "metadata": {},
   "outputs": [],
   "source": [
    "arr = None\n",
    "responses = list(set([u[3] for u in combo.keys()]))\n",
    "combinations_no_response = [(c[0], c[1], c[2]) for c in combo]\n",
    "combinations_no_response = set(combinations_no_response)\n",
    "combinations_no_response = list(combinations_no_response)\n",
    "for muscle in responses:\n",
    "    arr_muscle = None\n",
    "\n",
    "    for c in combinations_no_response:\n",
    "        a = combo[(*c, muscle)][\"a\"]\n",
    "        a = a[:, 0, 0, 0, 0]\n",
    "\n",
    "        if arr_muscle is None:\n",
    "            arr_muscle = a[:, None]\n",
    "        else:\n",
    "            # concatenate now\n",
    "            arr_muscle = np.concatenate([arr_muscle, a[:, None]], axis=-1)\n",
    "\n",
    "    if arr is None:\n",
    "        arr = arr_muscle[:,:, None]\n",
    "\n",
    "    else:\n",
    "        arr = np.concatenate([arr, arr_muscle[:,:, None]], axis = -1) "
   ]
  },
  {
   "cell_type": "code",
   "execution_count": 10,
   "metadata": {},
   "outputs": [
    {
     "data": {
      "text/plain": [
       "(4000, 320, 6)"
      ]
     },
     "execution_count": 10,
     "metadata": {},
     "output_type": "execute_result"
    }
   ],
   "source": [
    "arr.shape"
   ]
  },
  {
   "cell_type": "code",
   "execution_count": 11,
   "metadata": {},
   "outputs": [
    {
     "data": {
      "text/plain": [
       "[('amap04', 'C7L-C6L', '50-0-50-0'),\n",
       " ('amap03', 'C7L-C7M', '80-0-20-400'),\n",
       " ('amap03', '-C7L', '20-0-80-25'),\n",
       " ('amap02', 'C8M-C8L', '50-0-50-100'),\n",
       " ('amap07', 'C6M-C6L', '50-0-50-100'),\n",
       " ('amap02', 'C7L-C8L', '50-0-50-0'),\n",
       " ('amap01', 'C8L-C7L', '20-0-80-25'),\n",
       " ('amap06', 'C7L-', '50-0-50-0'),\n",
       " ('amap08', '-C6L', '50-0-50-0'),\n",
       " ('amap02', 'C8L-C8M', '50-0-50-100'),\n",
       " ('amap03', 'C8L-', '80-0-20-400'),\n",
       " ('amap05', 'C7L-', '80-0-20-400'),\n",
       " ('amap02', 'C7L-C8L', '20-0-80-25'),\n",
       " ('amap08', '-C7L', '80-0-20-400'),\n",
       " ('amap06', 'C7L-', '20-0-80-25'),\n",
       " ('amap04', '-C7L', '50-0-50-100'),\n",
       " ('amap07', '-C6L', '80-0-20-400'),\n",
       " ('amap03', 'C7L-C7M', '50-0-50-0'),\n",
       " ('amap08', 'C7L-C7M', '80-0-20-400'),\n",
       " ('amap06', 'C6M-C6L', '80-0-20-400'),\n",
       " ('amap04', 'C6M-C6L', '20-0-80-25'),\n",
       " ('amap02', 'C7L-', '80-0-20-400'),\n",
       " ('amap03', 'C7L-C8L', '50-0-50-0'),\n",
       " ('amap05', 'C6L-C6M', '20-0-80-25'),\n",
       " ('amap05', 'C7L-', '50-0-50-0'),\n",
       " ('amap06', '-C7L', '50-0-50-0'),\n",
       " ('amap08', '-C7L', '50-0-50-0'),\n",
       " ('amap04', 'C7M-C7L', '80-0-20-400'),\n",
       " ('amap01', 'C8M-C8L', '80-0-20-400'),\n",
       " ('amap03', 'C8L-C8M', '50-0-50-100'),\n",
       " ('amap05', '-C6L', '80-0-20-400'),\n",
       " ('amap08', 'C7L-C6L', '50-0-50-0'),\n",
       " ('amap06', 'C6L-', '50-0-50-100'),\n",
       " ('amap06', '-C6L', '20-0-80-25'),\n",
       " ('amap06', 'C7M-C7L', '50-0-50-100'),\n",
       " ('amap08', 'C6L-', '50-0-50-100'),\n",
       " ('amap06', 'C6M-C6L', '50-0-50-0'),\n",
       " ('amap07', 'C7L-C6L', '80-0-20-400'),\n",
       " ('amap01', 'C8L-C8M', '80-0-20-400'),\n",
       " ('amap07', 'C6L-', '20-0-80-25'),\n",
       " ('amap02', 'C7L-', '50-0-50-0'),\n",
       " ('amap07', 'C7M-C7L', '20-0-80-25'),\n",
       " ('amap06', 'C7L-C7M', '80-0-20-400'),\n",
       " ('amap06', 'C6L-C7L', '50-0-50-100'),\n",
       " ('amap08', 'C6L-C7L', '50-0-50-100'),\n",
       " ('amap08', 'C7L-C6L', '20-0-80-25'),\n",
       " ('amap04', 'C7L-C7M', '50-0-50-100'),\n",
       " ('amap07', 'C6L-C7L', '20-0-80-25'),\n",
       " ('amap03', 'C7L-', '80-0-20-400'),\n",
       " ('amap01', 'C8L-', '50-0-50-100'),\n",
       " ('amap02', 'C8L-C7L', '50-0-50-100'),\n",
       " ('amap02', 'C8L-', '50-0-50-100'),\n",
       " ('amap04', 'C6L-', '50-0-50-0'),\n",
       " ('amap04', 'C7M-C7L', '50-0-50-0'),\n",
       " ('amap01', 'C7M-C7L', '20-0-80-25'),\n",
       " ('amap01', 'C8M-C8L', '50-0-50-0'),\n",
       " ('amap05', '-C6L', '50-0-50-0'),\n",
       " ('amap01', '-C8L', '80-0-20-400'),\n",
       " ('amap04', 'C6L-C7L', '50-0-50-0'),\n",
       " ('amap02', '-C8L', '80-0-20-400'),\n",
       " ('amap01', 'C8L-C8M', '50-0-50-0'),\n",
       " ('amap08', 'C6L-C6M', '80-0-20-400'),\n",
       " ('amap05', '-C7L', '80-0-20-400'),\n",
       " ('amap06', 'C7L-C7M', '50-0-50-0'),\n",
       " ('amap04', 'C6L-C6M', '50-0-50-100'),\n",
       " ('amap08', 'C6M-C6L', '50-0-50-100'),\n",
       " ('amap03', '-C8L', '80-0-20-400'),\n",
       " ('amap05', 'C7L-C7M', '80-0-20-400'),\n",
       " ('amap02', '-C7L', '80-0-20-400'),\n",
       " ('amap04', 'C7L-', '20-0-80-25'),\n",
       " ('amap03', 'C8L-C7L', '50-0-50-100'),\n",
       " ('amap03', 'C8L-', '50-0-50-100'),\n",
       " ('amap07', 'C7L-', '50-0-50-100'),\n",
       " ('amap02', '-C8L', '50-0-50-0'),\n",
       " ('amap06', 'C6L-C6M', '50-0-50-0'),\n",
       " ('amap03', '-C7L', '80-0-20-400'),\n",
       " ('amap02', 'C8M-C8L', '50-0-50-0'),\n",
       " ('amap02', 'C7L-C7M', '80-0-20-400'),\n",
       " ('amap08', 'C6L-C6M', '50-0-50-0'),\n",
       " ('amap03', 'C7M-C7L', '20-0-80-25'),\n",
       " ('amap05', '-C7L', '50-0-50-0'),\n",
       " ('amap01', 'C8L-C7L', '80-0-20-400'),\n",
       " ('amap07', '-C6L', '50-0-50-100'),\n",
       " ('amap07', '-C7L', '50-0-50-100'),\n",
       " ('amap03', '-C8L', '50-0-50-0'),\n",
       " ('amap05', 'C7L-C6L', '50-0-50-0'),\n",
       " ('amap03', 'C8M-C8L', '50-0-50-0'),\n",
       " ('amap08', 'C7L-C7M', '50-0-50-100'),\n",
       " ('amap01', 'C7L-', '50-0-50-100'),\n",
       " ('amap05', 'C6L-', '50-0-50-100'),\n",
       " ('amap02', 'C8M-C8L', '20-0-80-25'),\n",
       " ('amap07', 'C6M-C6L', '20-0-80-25'),\n",
       " ('amap02', 'C7L-C8L', '80-0-20-400'),\n",
       " ('amap02', '-C7L', '50-0-50-0'),\n",
       " ('amap06', 'C7L-', '80-0-20-400'),\n",
       " ('amap05', 'C6L-C7L', '50-0-50-100'),\n",
       " ('amap08', 'C7M-C7L', '50-0-50-0'),\n",
       " ('amap05', 'C7L-C6L', '20-0-80-25'),\n",
       " ('amap03', 'C8M-C8L', '20-0-80-25'),\n",
       " ('amap02', 'C8L-C8M', '20-0-80-25'),\n",
       " ('amap03', '-C7L', '50-0-50-0'),\n",
       " ('amap04', '-C7L', '20-0-80-25'),\n",
       " ('amap01', 'C8L-C7L', '50-0-50-0'),\n",
       " ('amap05', 'C6L-C6M', '80-0-20-400'),\n",
       " ('amap01', '-C7L', '50-0-50-100'),\n",
       " ('amap03', 'C7L-', '50-0-50-100'),\n",
       " ('amap03', 'C7L-C8L', '80-0-20-400'),\n",
       " ('amap06', '-C6L', '80-0-20-400'),\n",
       " ('amap06', '-C7L', '80-0-20-400'),\n",
       " ('amap04', 'C6M-C6L', '50-0-50-0'),\n",
       " ('amap07', 'C6L-', '80-0-20-400'),\n",
       " ('amap03', 'C8L-C8M', '20-0-80-25'),\n",
       " ('amap07', 'C7M-C7L', '80-0-20-400'),\n",
       " ('amap04', '-C6L', '50-0-50-100'),\n",
       " ('amap01', '-C8L', '50-0-50-100'),\n",
       " ('amap08', 'C7L-C6L', '80-0-20-400'),\n",
       " ('amap06', 'C7M-C7L', '20-0-80-25'),\n",
       " ('amap08', 'C6L-', '20-0-80-25'),\n",
       " ('amap07', 'C6L-C7L', '80-0-20-400'),\n",
       " ('amap05', 'C6L-C6M', '50-0-50-0'),\n",
       " ('amap05', 'C6M-C6L', '50-0-50-100'),\n",
       " ('amap08', 'C6L-C7L', '20-0-80-25'),\n",
       " ('amap01', 'C7L-C8L', '50-0-50-100'),\n",
       " ('amap01', 'C7M-C7L', '80-0-20-400'),\n",
       " ('amap04', 'C7L-C7M', '20-0-80-25'),\n",
       " ('amap07', 'C7L-C7M', '50-0-50-100'),\n",
       " ('amap05', 'C7L-C7M', '50-0-50-100'),\n",
       " ('amap01', 'C8L-', '20-0-80-25'),\n",
       " ('amap08', 'C7L-', '50-0-50-100'),\n",
       " ('amap02', 'C8L-C7L', '20-0-80-25'),\n",
       " ('amap06', '-C6L', '50-0-50-0'),\n",
       " ('amap07', 'C6L-', '50-0-50-0'),\n",
       " ('amap04', 'C6L-', '80-0-20-400'),\n",
       " ('amap07', 'C7M-C7L', '50-0-50-0'),\n",
       " ('amap05', 'C7M-C7L', '50-0-50-0'),\n",
       " ('amap01', 'C7L-C7M', '50-0-50-100'),\n",
       " ('amap07', 'C6L-C7L', '50-0-50-0'),\n",
       " ('amap04', 'C6L-C7L', '80-0-20-400'),\n",
       " ('amap02', 'C7L-C7M', '50-0-50-100'),\n",
       " ('amap04', 'C6L-C6M', '20-0-80-25'),\n",
       " ('amap07', 'C6L-C6M', '50-0-50-100'),\n",
       " ('amap08', 'C6M-C6L', '20-0-80-25'),\n",
       " ('amap04', 'C7L-C6L', '50-0-50-100'),\n",
       " ('amap05', 'C7M-C7L', '20-0-80-25'),\n",
       " ('amap01', 'C7M-C7L', '50-0-50-0'),\n",
       " ('amap02', 'C7M-C7L', '50-0-50-0'),\n",
       " ('amap03', 'C8L-C7L', '50-0-50-0'),\n",
       " ('amap02', 'C7L-C8L', '50-0-50-100'),\n",
       " ('amap03', 'C7M-C7L', '80-0-20-400'),\n",
       " ('amap06', 'C7L-', '50-0-50-100'),\n",
       " ('amap08', '-C6L', '50-0-50-100'),\n",
       " ('amap02', 'C7M-C7L', '20-0-80-25'),\n",
       " ('amap03', 'C8L-C7L', '20-0-80-25'),\n",
       " ('amap03', 'C8L-', '20-0-80-25'),\n",
       " ('amap07', 'C7L-', '20-0-80-25'),\n",
       " ('amap06', 'C6L-C6M', '80-0-20-400'),\n",
       " ('amap06', 'C7L-C6L', '50-0-50-0'),\n",
       " ('amap02', 'C8M-C8L', '80-0-20-400'),\n",
       " ('amap07', '-C7L', '20-0-80-25'),\n",
       " ('amap03', 'C7L-C7M', '50-0-50-100'),\n",
       " ('amap08', 'C7L-C7M', '20-0-80-25'),\n",
       " ('amap05', 'C7L-C6L', '80-0-20-400'),\n",
       " ('amap07', 'C6L-C6M', '50-0-50-0'),\n",
       " ('amap04', 'C7L-', '50-0-50-0'),\n",
       " ('amap01', 'C7L-', '20-0-80-25'),\n",
       " ('amap03', 'C8M-C8L', '80-0-20-400'),\n",
       " ('amap02', 'C8L-C8M', '80-0-20-400'),\n",
       " ('amap05', 'C6L-', '20-0-80-25'),\n",
       " ('amap06', 'C7L-C6L', '20-0-80-25'),\n",
       " ('amap03', 'C7M-C7L', '50-0-50-0'),\n",
       " ('amap05', 'C6L-C7L', '20-0-80-25'),\n",
       " ('amap04', '-C7L', '80-0-20-400'),\n",
       " ('amap08', 'C7M-C7L', '80-0-20-400'),\n",
       " ('amap03', 'C7L-C8L', '50-0-50-100'),\n",
       " ('amap05', 'C7L-', '50-0-50-100'),\n",
       " ('amap06', '-C7L', '50-0-50-100'),\n",
       " ('amap08', '-C7L', '50-0-50-100'),\n",
       " ('amap07', 'C6M-C6L', '50-0-50-0'),\n",
       " ('amap08', 'C7L-C6L', '50-0-50-100'),\n",
       " ('amap02', 'C8L-C8M', '50-0-50-0'),\n",
       " ('amap06', 'C6M-C6L', '50-0-50-100'),\n",
       " ('amap02', 'C7L-', '50-0-50-100'),\n",
       " ('amap04', '-C6L', '50-0-50-0'),\n",
       " ('amap03', 'C8L-C8M', '80-0-20-400'),\n",
       " ('amap04', '-C7L', '50-0-50-0'),\n",
       " ('amap01', '-C7L', '20-0-80-25'),\n",
       " ('amap08', 'C6L-', '80-0-20-400'),\n",
       " ('amap04', 'C6L-', '50-0-50-100'),\n",
       " ('amap04', 'C6M-C6L', '80-0-20-400'),\n",
       " ('amap04', '-C6L', '20-0-80-25'),\n",
       " ('amap04', 'C7M-C7L', '50-0-50-100'),\n",
       " ('amap01', 'C8M-C8L', '50-0-50-100'),\n",
       " ('amap01', 'C7L-C8L', '50-0-50-0'),\n",
       " ('amap01', '-C8L', '20-0-80-25'),\n",
       " ('amap05', '-C6L', '50-0-50-100'),\n",
       " ('amap08', 'C6L-C7L', '80-0-20-400'),\n",
       " ('amap04', 'C7L-C7M', '80-0-20-400'),\n",
       " ('amap04', 'C6L-C7L', '50-0-50-100'),\n",
       " ('amap07', 'C7L-C6L', '50-0-50-100'),\n",
       " ('amap01', 'C8L-', '80-0-20-400'),\n",
       " ('amap01', 'C8L-C8M', '50-0-50-100'),\n",
       " ('amap02', 'C8L-C7L', '80-0-20-400'),\n",
       " ('amap06', 'C7L-C7M', '50-0-50-100'),\n",
       " ('amap05', 'C6M-C6L', '20-0-80-25'),\n",
       " ('amap01', 'C7L-C8L', '20-0-80-25'),\n",
       " ('amap03', 'C8L-C8M', '50-0-50-0'),\n",
       " ('amap07', 'C7L-C7M', '20-0-80-25'),\n",
       " ('amap06', 'C6L-', '50-0-50-0'),\n",
       " ('amap08', 'C7L-', '20-0-80-25'),\n",
       " ('amap06', 'C7M-C7L', '50-0-50-0'),\n",
       " ('amap08', 'C6L-', '50-0-50-0'),\n",
       " ('amap04', 'C6L-C6M', '80-0-20-400'),\n",
       " ('amap06', 'C6L-C7L', '50-0-50-0'),\n",
       " ('amap08', 'C6M-C6L', '80-0-20-400'),\n",
       " ('amap08', 'C6L-C7L', '50-0-50-0'),\n",
       " ('amap05', 'C7M-C7L', '80-0-20-400'),\n",
       " ('amap04', 'C7L-C7M', '50-0-50-0'),\n",
       " ('amap01', 'C7L-C7M', '20-0-80-25'),\n",
       " ('amap06', 'C6L-', '20-0-80-25'),\n",
       " ('amap02', 'C7L-C7M', '20-0-80-25'),\n",
       " ('amap02', '-C8L', '50-0-50-100'),\n",
       " ('amap06', 'C6L-C6M', '50-0-50-100'),\n",
       " ('amap01', 'C8L-', '50-0-50-0'),\n",
       " ('amap08', 'C6L-C6M', '50-0-50-100'),\n",
       " ('amap05', '-C7L', '50-0-50-100'),\n",
       " ('amap02', 'C8L-C7L', '50-0-50-0'),\n",
       " ('amap02', 'C8L-', '50-0-50-0'),\n",
       " ('amap07', 'C6L-C6M', '20-0-80-25'),\n",
       " ('amap04', 'C7L-C6L', '20-0-80-25'),\n",
       " ('amap06', 'C6L-C7L', '20-0-80-25'),\n",
       " ('amap03', '-C8L', '50-0-50-100'),\n",
       " ('amap05', 'C7L-C6L', '50-0-50-100'),\n",
       " ('amap03', 'C8M-C8L', '50-0-50-100'),\n",
       " ('amap02', 'C7M-C7L', '80-0-20-400'),\n",
       " ('amap03', 'C8L-C7L', '80-0-20-400'),\n",
       " ('amap07', 'C7L-', '80-0-20-400'),\n",
       " ('amap02', 'C8L-', '20-0-80-25'),\n",
       " ('amap02', '-C7L', '50-0-50-100'),\n",
       " ('amap04', 'C6L-C6M', '50-0-50-0'),\n",
       " ('amap08', '-C6L', '20-0-80-25'),\n",
       " ('amap08', 'C7M-C7L', '50-0-50-100'),\n",
       " ('amap08', 'C6M-C6L', '50-0-50-0'),\n",
       " ('amap07', '-C7L', '80-0-20-400'),\n",
       " ('amap01', 'C7L-', '80-0-20-400'),\n",
       " ('amap05', 'C6L-', '80-0-20-400'),\n",
       " ('amap03', '-C7L', '50-0-50-100'),\n",
       " ('amap06', 'C7L-C6L', '80-0-20-400'),\n",
       " ('amap01', 'C8L-C7L', '50-0-50-100'),\n",
       " ('amap03', 'C7L-C7M', '20-0-80-25'),\n",
       " ('amap05', 'C6L-C7L', '80-0-20-400'),\n",
       " ('amap03', 'C8L-', '50-0-50-0'),\n",
       " ('amap07', 'C7L-', '50-0-50-0'),\n",
       " ('amap04', 'C7L-', '80-0-20-400'),\n",
       " ('amap07', '-C6L', '50-0-50-0'),\n",
       " ('amap07', '-C7L', '50-0-50-0'),\n",
       " ('amap03', 'C7L-C8L', '20-0-80-25'),\n",
       " ('amap08', 'C7L-C7M', '50-0-50-0'),\n",
       " ('amap05', 'C7L-', '20-0-80-25'),\n",
       " ('amap06', '-C7L', '20-0-80-25'),\n",
       " ('amap01', 'C7L-', '50-0-50-0'),\n",
       " ('amap05', 'C6L-', '50-0-50-0'),\n",
       " ('amap08', '-C7L', '20-0-80-25'),\n",
       " ('amap04', 'C6M-C6L', '50-0-50-100'),\n",
       " ('amap07', 'C6M-C6L', '80-0-20-400'),\n",
       " ('amap07', '-C6L', '20-0-80-25'),\n",
       " ('amap05', 'C6L-C7L', '50-0-50-0'),\n",
       " ('amap01', '-C7L', '80-0-20-400'),\n",
       " ('amap06', 'C6M-C6L', '20-0-80-25'),\n",
       " ('amap02', 'C7L-', '20-0-80-25'),\n",
       " ('amap05', 'C6L-C6M', '50-0-50-100'),\n",
       " ('amap04', '-C6L', '80-0-20-400'),\n",
       " ('amap07', 'C7L-C6L', '50-0-50-0'),\n",
       " ('amap06', '-C6L', '50-0-50-100'),\n",
       " ('amap04', 'C6L-', '20-0-80-25'),\n",
       " ('amap04', 'C7M-C7L', '20-0-80-25'),\n",
       " ('amap07', 'C6L-', '50-0-50-100'),\n",
       " ('amap01', 'C8M-C8L', '20-0-80-25'),\n",
       " ('amap07', 'C7M-C7L', '50-0-50-100'),\n",
       " ('amap05', 'C6M-C6L', '80-0-20-400'),\n",
       " ('amap05', '-C6L', '20-0-80-25'),\n",
       " ('amap05', 'C7M-C7L', '50-0-50-100'),\n",
       " ('amap01', 'C7L-C8L', '80-0-20-400'),\n",
       " ('amap01', '-C7L', '50-0-50-0'),\n",
       " ('amap07', 'C7L-C7M', '80-0-20-400'),\n",
       " ('amap04', 'C6L-C7L', '20-0-80-25'),\n",
       " ('amap03', 'C7L-', '50-0-50-0'),\n",
       " ('amap07', 'C6L-C7L', '50-0-50-100'),\n",
       " ('amap07', 'C7L-C6L', '20-0-80-25'),\n",
       " ('amap01', 'C8L-C8M', '20-0-80-25'),\n",
       " ('amap08', 'C7L-', '80-0-20-400'),\n",
       " ('amap06', 'C7L-C7M', '20-0-80-25'),\n",
       " ('amap01', 'C7M-C7L', '50-0-50-100'),\n",
       " ('amap02', 'C7M-C7L', '50-0-50-100'),\n",
       " ('amap03', 'C7L-', '20-0-80-25'),\n",
       " ('amap01', '-C8L', '50-0-50-0'),\n",
       " ('amap01', 'C7L-C7M', '80-0-20-400'),\n",
       " ('amap06', 'C6L-', '80-0-20-400'),\n",
       " ('amap06', 'C7M-C7L', '80-0-20-400'),\n",
       " ('amap07', 'C6L-C6M', '80-0-20-400'),\n",
       " ('amap05', 'C6M-C6L', '50-0-50-0'),\n",
       " ('amap04', 'C7L-C6L', '80-0-20-400'),\n",
       " ('amap06', 'C6L-C7L', '80-0-20-400'),\n",
       " ('amap07', 'C7L-C7M', '50-0-50-0'),\n",
       " ('amap02', '-C8L', '20-0-80-25'),\n",
       " ('amap05', 'C7L-C7M', '50-0-50-0'),\n",
       " ('amap06', 'C6L-C6M', '20-0-80-25'),\n",
       " ('amap08', 'C6L-C6M', '20-0-80-25'),\n",
       " ('amap08', 'C7L-', '50-0-50-0'),\n",
       " ('amap05', '-C7L', '20-0-80-25'),\n",
       " ('amap06', 'C7L-C6L', '50-0-50-100'),\n",
       " ('amap02', 'C8L-', '80-0-20-400'),\n",
       " ('amap03', '-C8L', '20-0-80-25'),\n",
       " ('amap08', '-C6L', '80-0-20-400'),\n",
       " ('amap04', 'C7L-', '50-0-50-100'),\n",
       " ('amap05', 'C7L-C7M', '20-0-80-25'),\n",
       " ('amap01', 'C7L-C7M', '50-0-50-0'),\n",
       " ('amap02', 'C7L-C7M', '50-0-50-0'),\n",
       " ('amap02', '-C7L', '20-0-80-25'),\n",
       " ('amap03', 'C7M-C7L', '50-0-50-100'),\n",
       " ('amap08', 'C7M-C7L', '20-0-80-25')]"
      ]
     },
     "execution_count": 11,
     "metadata": {},
     "output_type": "execute_result"
    }
   ],
   "source": [
    "combinations_no_response"
   ]
  },
  {
   "cell_type": "code",
   "execution_count": 8,
   "metadata": {},
   "outputs": [
    {
     "data": {
      "text/plain": [
       "320"
      ]
     },
     "execution_count": 8,
     "metadata": {},
     "output_type": "execute_result"
    }
   ],
   "source": [
    "df[['participant','compound_position', 'compound_charge_params']].apply(tuple, axis = 1).nunique()"
   ]
  },
  {
   "cell_type": "code",
   "execution_count": 9,
   "metadata": {},
   "outputs": [],
   "source": [
    "pmono20 = np.array([bool(re.search(r'20-0-80-25', s[2])) for s in combinations_no_response])\n",
    "pmono80 = np.array([bool(re.search(r'80-0-20-400', s[2])) for s in combinations_no_response])\n",
    "mono = np.array([bool(re.search(r'50-0-50-100', s[2])) for s in combinations_no_response])\n",
    "bip = np.array([bool(re.search(r'50-0-50-0', s[2])) for s in combinations_no_response])\n",
    "\n",
    "lat = np.array([bool(s[1].split(\"-\")[1][2:] == \"L\") for s in combinations_no_response])\n",
    "med = np.array([bool(s[1].split(\"-\")[1][2:] == \"M\") for s in combinations_no_response])\n",
    "\n"
   ]
  },
  {
   "cell_type": "code",
   "execution_count": 14,
   "metadata": {},
   "outputs": [],
   "source": [
    "dictBool = {}\n",
    "\n",
    "dictBool[('lateral pmono20')] = np.array([bool(re.search(r'20-0-80-25', s[2]) and re.search(r'.+-.+', s[1]) and s[1].split(\"-\")[0][2:] == \"L\") for s in combinations_no_response])\n",
    "dictBool[('lateral pmono80')] = np.array([bool(re.search(r'80-0-20-400', s[2])and re.search(r'.+-.+', s[1]) and s[1].split(\"-\")[0][2:] == \"L\") for s in combinations_no_response])\n",
    "dictBool[('lateral bip')] = np.array([bool(re.search(r'50-0-50-100', s[2])and re.search(r'.+-.+', s[1]) and s[1].split(\"-\")[0][2:] == \"L\") for s in combinations_no_response])\n",
    "dictBool[('lateral mono')] = np.array([bool(re.search(r'50-0-50-0', s[2])and re.search(r'.+-.+', s[1]) and s[1].split(\"-\")[0][2:] == \"L\") for s in combinations_no_response])\n",
    "\n",
    "dictBool[('medial pmono20')] = np.array([bool(re.search(r'20-0-80-25', s[2])and re.search(r'.+-.+', s[1]) and s[1].split(\"-\")[0][2:] == \"M\") for s in combinations_no_response])\n",
    "dictBool[('medial pmono80')] = np.array([bool(re.search(r'80-0-20-400', s[2])and re.search(r'.+-.+', s[1]) and s[1].split(\"-\")[0][2:] == \"M\") for s in combinations_no_response])\n",
    "dictBool[('medial bip')] = np.array([bool(re.search(r'50-0-50-100', s[2])and re.search(r'.+-.+', s[1]) and s[1].split(\"-\")[0][2:] == \"M\") for s in combinations_no_response])\n",
    "dictBool[('medial mono')] = np.array([bool(re.search(r'50-0-50-0', s[2])and re.search(r'.+-.+', s[1]) and s[1].split(\"-\")[0][2:] == \"M\") for s in combinations_no_response])\n"
   ]
  },
  {
   "cell_type": "code",
   "execution_count": 15,
   "metadata": {},
   "outputs": [],
   "source": [
    "value = []\n",
    "for b,v in dictBool.items():\n",
    "    for b1, v1 in dictBool.items():\n",
    "        A = arr[:,v,:].mean(axis = 0).reshape(-1,)\n",
    "        B = arr[:,v1,:].mean(axis = 0).reshape(-1,)\n",
    "        tbvs, pbvs = stats.ttest_ind(B,A, alternative=\"less\")\n",
    "        if pbvs < 0.05:\n",
    "            value.append(f\"{b1} is more effective than {b} (p = {pbvs})\")\n",
    "        else: value.append(f\"No significant difference for {b1} vs {b} (p = {pbvs})\")"
   ]
  },
  {
   "cell_type": "code",
   "execution_count": 16,
   "metadata": {},
   "outputs": [
    {
     "data": {
      "text/plain": [
       "0.9999996519248618"
      ]
     },
     "execution_count": 16,
     "metadata": {},
     "output_type": "execute_result"
    }
   ],
   "source": [
    "A = arr[:,mono,:].mean(axis = 0).reshape(-1,)\n",
    "B = arr[:,bip,:].mean(axis = 0).reshape(-1,)\n",
    "\n",
    "tbvs, pbvs = stats.ttest_ind(B,A, alternative=\"less\")\n",
    "\n",
    "pbvs"
   ]
  },
  {
   "cell_type": "code",
   "execution_count": 17,
   "metadata": {},
   "outputs": [
    {
     "data": {
      "text/plain": [
       "['No significant difference for lateral pmono20 vs lateral pmono20 (p = 0.5)',\n",
       " 'No significant difference for lateral pmono80 vs lateral pmono20 (p = 0.24885073758223752)',\n",
       " 'No significant difference for lateral bip vs lateral pmono20 (p = 0.13371095690032497)',\n",
       " 'No significant difference for lateral mono vs lateral pmono20 (p = 0.7217150520969153)',\n",
       " 'No significant difference for medial pmono20 vs lateral pmono20 (p = 0.997775474786967)',\n",
       " 'No significant difference for medial pmono80 vs lateral pmono20 (p = 0.9884524148383962)',\n",
       " 'No significant difference for medial bip vs lateral pmono20 (p = 0.6939039894212642)',\n",
       " 'No significant difference for medial mono vs lateral pmono20 (p = 0.9999413360281021)',\n",
       " 'No significant difference for lateral pmono20 vs lateral pmono80 (p = 0.7511492624177625)',\n",
       " 'No significant difference for lateral pmono80 vs lateral pmono80 (p = 0.5)',\n",
       " 'No significant difference for lateral bip vs lateral pmono80 (p = 0.339606902913121)',\n",
       " 'No significant difference for lateral mono vs lateral pmono80 (p = 0.8955544000431135)',\n",
       " 'No significant difference for medial pmono20 vs lateral pmono80 (p = 0.9996249976045884)',\n",
       " 'No significant difference for medial pmono80 vs lateral pmono80 (p = 0.9975490873881747)',\n",
       " 'No significant difference for medial bip vs lateral pmono80 (p = 0.8466768167220943)',\n",
       " 'No significant difference for medial mono vs lateral pmono80 (p = 0.9999941777775313)',\n",
       " 'No significant difference for lateral pmono20 vs lateral bip (p = 0.866289043099675)',\n",
       " 'No significant difference for lateral pmono80 vs lateral bip (p = 0.660393097086879)',\n",
       " 'No significant difference for lateral bip vs lateral bip (p = 0.5)',\n",
       " 'No significant difference for lateral mono vs lateral bip (p = 0.9549669568177647)',\n",
       " 'No significant difference for medial pmono20 vs lateral bip (p = 0.9999267077764904)',\n",
       " 'No significant difference for medial pmono80 vs lateral bip (p = 0.9993986639915792)',\n",
       " 'No significant difference for medial bip vs lateral bip (p = 0.9144812652281118)',\n",
       " 'No significant difference for medial mono vs lateral bip (p = 0.9999993798203514)',\n",
       " 'No significant difference for lateral pmono20 vs lateral mono (p = 0.27828494790308456)',\n",
       " 'No significant difference for lateral pmono80 vs lateral mono (p = 0.10444559995688645)',\n",
       " 'lateral bip is more effective than lateral mono (p = 0.04503304318223531)',\n",
       " 'No significant difference for lateral mono vs lateral mono (p = 0.5)',\n",
       " 'No significant difference for medial pmono20 vs lateral mono (p = 0.9905114955350128)',\n",
       " 'No significant difference for medial pmono80 vs lateral mono (p = 0.9614424005464938)',\n",
       " 'No significant difference for medial bip vs lateral mono (p = 0.521490051877636)',\n",
       " 'No significant difference for medial mono vs lateral mono (p = 0.9995672178708351)',\n",
       " 'lateral pmono20 is more effective than medial pmono20 (p = 0.0022245252130329877)',\n",
       " 'lateral pmono80 is more effective than medial pmono20 (p = 0.0003750023954115879)',\n",
       " 'lateral bip is more effective than medial pmono20 (p = 7.329222350957377e-05)',\n",
       " 'lateral mono is more effective than medial pmono20 (p = 0.00948850446498715)',\n",
       " 'No significant difference for medial pmono20 vs medial pmono20 (p = 0.5)',\n",
       " 'No significant difference for medial pmono80 vs medial pmono20 (p = 0.3021544926987001)',\n",
       " 'medial bip is more effective than medial pmono20 (p = 0.036629402864860425)',\n",
       " 'No significant difference for medial mono vs medial pmono20 (p = 0.7802846800749904)',\n",
       " 'lateral pmono20 is more effective than medial pmono80 (p = 0.01154758516160385)',\n",
       " 'lateral pmono80 is more effective than medial pmono80 (p = 0.0024509126118252883)',\n",
       " 'lateral bip is more effective than medial pmono80 (p = 0.0006013360084208539)',\n",
       " 'lateral mono is more effective than medial pmono80 (p = 0.038557599453506196)',\n",
       " 'No significant difference for medial pmono20 vs medial pmono80 (p = 0.6978455073012999)',\n",
       " 'No significant difference for medial pmono80 vs medial pmono80 (p = 0.5)',\n",
       " 'No significant difference for medial bip vs medial pmono80 (p = 0.08924713089863354)',\n",
       " 'No significant difference for medial mono vs medial pmono80 (p = 0.9080146401146364)',\n",
       " 'No significant difference for lateral pmono20 vs medial bip (p = 0.3060960105787358)',\n",
       " 'No significant difference for lateral pmono80 vs medial bip (p = 0.15332318327790576)',\n",
       " 'No significant difference for lateral bip vs medial bip (p = 0.08551873477188827)',\n",
       " 'No significant difference for lateral mono vs medial bip (p = 0.4785099481223641)',\n",
       " 'No significant difference for medial pmono20 vs medial bip (p = 0.9633705971351395)',\n",
       " 'No significant difference for medial pmono80 vs medial bip (p = 0.9107528691013664)',\n",
       " 'No significant difference for medial bip vs medial bip (p = 0.5)',\n",
       " 'No significant difference for medial mono vs medial bip (p = 0.9949502813545283)',\n",
       " 'lateral pmono20 is more effective than medial mono (p = 5.8663971897902073e-05)',\n",
       " 'lateral pmono80 is more effective than medial mono (p = 5.822222468723521e-06)',\n",
       " 'lateral bip is more effective than medial mono (p = 6.201796485705439e-07)',\n",
       " 'lateral mono is more effective than medial mono (p = 0.00043278212916484786)',\n",
       " 'No significant difference for medial pmono20 vs medial mono (p = 0.2197153199250096)',\n",
       " 'No significant difference for medial pmono80 vs medial mono (p = 0.09198535988536362)',\n",
       " 'medial bip is more effective than medial mono (p = 0.005049718645471715)',\n",
       " 'No significant difference for medial mono vs medial mono (p = 0.5)']"
      ]
     },
     "execution_count": 17,
     "metadata": {},
     "output_type": "execute_result"
    }
   ],
   "source": [
    "value"
   ]
  },
  {
   "cell_type": "code",
   "execution_count": 18,
   "metadata": {},
   "outputs": [
    {
     "data": {
      "text/plain": [
       "{'-C6L',\n",
       " '-C7L',\n",
       " '-C8L',\n",
       " 'C6L-',\n",
       " 'C6L-C6M',\n",
       " 'C6L-C7L',\n",
       " 'C6M-C6L',\n",
       " 'C7L-',\n",
       " 'C7L-C6L',\n",
       " 'C7L-C7M',\n",
       " 'C7L-C8L',\n",
       " 'C7M-C7L',\n",
       " 'C8L-',\n",
       " 'C8L-C7L',\n",
       " 'C8L-C8M',\n",
       " 'C8M-C8L'}"
      ]
     },
     "execution_count": 18,
     "metadata": {},
     "output_type": "execute_result"
    }
   ],
   "source": [
    "a = set(u[1] for u in combinations_no_response)\n",
    "a"
   ]
  },
  {
   "cell_type": "code",
   "execution_count": 19,
   "metadata": {},
   "outputs": [],
   "source": [
    "C61 = np.array([bool(re.search(r'50-0-50-0', s[2]) and (\"C6\" in s[1].split(\"-\")[0][0:] or \"C6\" in s[1].split(\"-\")[1][0:])) for s in combinations_no_response])\n",
    "C71 = np.array([bool(re.search(r'50-0-50-0', s[2]) and (\"C7\" in s[1].split(\"-\")[0][0:] or \"C7\" in s[1].split(\"-\")[1][0:])) for s in combinations_no_response])\n",
    "C81 = np.array([bool(re.search(r'50-0-50-0', s[2]) and (\"C8\" in s[1].split(\"-\")[0][0:] or \"C8\" in s[1].split(\"-\")[1][0:])) for s in combinations_no_response])\n",
    "\n",
    "C62 = np.array([bool(re.search(r'20-0-80-25', s[2]) and (\"C6\" in s[1].split(\"-\")[0][0:] or \"C6\" in s[1].split(\"-\")[1][0:])) for s in combinations_no_response])\n",
    "C72 = np.array([bool(re.search(r'20-0-80-25', s[2]) and (\"C7\" in s[1].split(\"-\")[0][0:] or \"C7\" in s[1].split(\"-\")[1][0:])) for s in combinations_no_response])\n",
    "C82 = np.array([bool(re.search(r'20-0-80-25', s[2]) and (\"C8\" in s[1].split(\"-\")[0][0:] or \"C8\" in s[1].split(\"-\")[1][0:])) for s in combinations_no_response])\n",
    "\n",
    "C63 = np.array([bool(re.search(r'80-0-20-400', s[2]) and (\"C6\" in s[1].split(\"-\")[0][0:] or \"C6\" in s[1].split(\"-\")[1][0:])) for s in combinations_no_response])\n",
    "C73 = np.array([bool(re.search(r'80-0-20-400', s[2]) and (\"C7\" in s[1].split(\"-\")[0][0:] or \"C7\" in s[1].split(\"-\")[1][0:])) for s in combinations_no_response])\n",
    "C83 = np.array([bool(re.search(r'80-0-20-400', s[2]) and (\"C8\" in s[1].split(\"-\")[0][0:] or \"C8\" in s[1].split(\"-\")[1][0:])) for s in combinations_no_response])\n",
    "\n",
    "C64 = np.array([bool(re.search(r'50-0-50-100', s[2]) and (\"C6\" in s[1].split(\"-\")[0][0:] or \"C6\" in s[1].split(\"-\")[1][0:])) for s in combinations_no_response])\n",
    "C74 = np.array([bool(re.search(r'50-0-50-100', s[2]) and (\"C7\" in s[1].split(\"-\")[0][0:] or \"C7\" in s[1].split(\"-\")[1][0:])) for s in combinations_no_response])\n",
    "C84 = np.array([bool(re.search(r'50-0-50-100', s[2]) and (\"C8\" in s[1].split(\"-\")[0][0:] or \"C8\" in s[1].split(\"-\")[1][0:])) for s in combinations_no_response])"
   ]
  },
  {
   "cell_type": "code",
   "execution_count": 20,
   "metadata": {},
   "outputs": [
    {
     "data": {
      "text/plain": [
       "2.9022671961365798e-12"
      ]
     },
     "execution_count": 20,
     "metadata": {},
     "output_type": "execute_result"
    }
   ],
   "source": [
    "C = arr[:,C71,:].mean(axis = 0).reshape(-1,)\n",
    "D = arr[:,C81,:].mean(axis = 0).reshape(-1,)\n",
    "\n",
    "tbvs, pbvs = stats.ttest_ind(C,D, alternative=\"less\")\n",
    "\n",
    "pbvs"
   ]
  },
  {
   "cell_type": "code",
   "execution_count": null,
   "metadata": {},
   "outputs": [],
   "source": []
  },
  {
   "cell_type": "code",
   "execution_count": 21,
   "metadata": {},
   "outputs": [
    {
     "data": {
      "text/plain": [
       "48"
      ]
     },
     "execution_count": 21,
     "metadata": {},
     "output_type": "execute_result"
    }
   ],
   "source": [
    "C74.sum()"
   ]
  },
  {
   "cell_type": "code",
   "execution_count": 22,
   "metadata": {},
   "outputs": [
    {
     "ename": "NameError",
     "evalue": "name 'mask' is not defined",
     "output_type": "error",
     "traceback": [
      "\u001b[0;31m---------------------------------------------------------------------------\u001b[0m",
      "\u001b[0;31mNameError\u001b[0m                                 Traceback (most recent call last)",
      "Cell \u001b[0;32mIn[22], line 1\u001b[0m\n\u001b[0;32m----> 1\u001b[0m arr[:,\u001b[43mmask\u001b[49m,:]\u001b[38;5;241m.\u001b[39mshape\n",
      "\u001b[0;31mNameError\u001b[0m: name 'mask' is not defined"
     ]
    }
   ],
   "source": [
    "arr[:,mask,:].shape"
   ]
  },
  {
   "cell_type": "code",
   "execution_count": null,
   "metadata": {},
   "outputs": [],
   "source": [
    "L, M = threshold_array(\"20-0-80-25\")"
   ]
  },
  {
   "cell_type": "code",
   "execution_count": null,
   "metadata": {},
   "outputs": [
    {
     "data": {
      "text/plain": [
       "array([0.92528306, 0.38606512, 0.67930961, 0.50053072, 0.51280737,\n",
       "       0.35147554])"
      ]
     },
     "execution_count": 31,
     "metadata": {},
     "output_type": "execute_result"
    }
   ],
   "source": [
    "ttest_values, pscores = stats.ttest_ind(L, M)\n",
    "pscores\n"
   ]
  },
  {
   "cell_type": "markdown",
   "metadata": {},
   "source": [
    "Graphing if we want group comparison"
   ]
  },
  {
   "cell_type": "code",
   "execution_count": null,
   "metadata": {},
   "outputs": [],
   "source": [
    "def graph_arr(charge):\n",
    "    L, M, subject, muscle = threshold_array(charge)\n",
    "    sub_meanS = np.median(L, axis=0)\n",
    "    rowS = np.vsplit(L,len(subject))\n",
    "    rowS = [i.tolist() for i in rowS]\n",
    "    sub_meanL = np.median(M, axis=0)\n",
    "    rowL = np.vsplit(M,len(subject))\n",
    "    rowL = [i.tolist() for i in rowL]\n",
    "    for xval_ind, xval in enumerate(rowS):\n",
    "        # plt.plot(xval[0], muscle, linestyle='dashed', marker=\".\", markersize=20, alpha =0.3, color = \"pink\")\n",
    "        plt.plot(sub_meanS,muscle, color = \"red\", linestyle='dashed', marker=\".\", markersize=20, label=\"Lateral\" if xval_ind == 0 else None)\n",
    "        # plt.legend('Lateral')\n",
    "    for xval_ind,xval in enumerate(rowL):\n",
    "        # plt.plot(xval[0], muscle, linestyle='dashed', marker=\".\", markersize=25, alpha =0.3, color = \"blue\")\n",
    "        plt.plot(sub_meanL,muscle, color = \"black\", linestyle='dashed', marker=\".\", markersize=20, label=\"Medial\" if xval_ind == 1 else None)\n",
    "        # plt.legend('Medial')\n",
    "    plt.yticks(weight ='bold',style = 'italic')\n",
    "    plt.xlabel('Efficacy')\n",
    "    plt.legend()\n",
    "    plt.show()\n",
    "    "
   ]
  },
  {
   "cell_type": "code",
   "execution_count": null,
   "metadata": {},
   "outputs": [],
   "source": [
    "graph_arr(\"20-0-80-25\")"
   ]
  },
  {
   "cell_type": "markdown",
   "metadata": {},
   "source": [
    "## Rostral Caudal"
   ]
  },
  {
   "cell_type": "code",
   "execution_count": null,
   "metadata": {},
   "outputs": [
    {
     "data": {
      "text/plain": [
       "{'-C6L',\n",
       " '-C7L',\n",
       " '-C8L',\n",
       " 'C6L-',\n",
       " 'C6L-C6M',\n",
       " 'C6L-C7L',\n",
       " 'C6M-C6L',\n",
       " 'C7L-',\n",
       " 'C7L-C6L',\n",
       " 'C7L-C7M',\n",
       " 'C7L-C8L',\n",
       " 'C7M-C7L',\n",
       " 'C8L-',\n",
       " 'C8L-C7L',\n",
       " 'C8L-C8M',\n",
       " 'C8M-C8L'}"
      ]
     },
     "execution_count": 9,
     "metadata": {},
     "output_type": "execute_result"
    }
   ],
   "source": [
    "a"
   ]
  },
  {
   "cell_type": "code",
   "execution_count": 18,
   "metadata": {},
   "outputs": [],
   "source": [
    "C67b = np.array([bool(re.search(r'50-0-50-0', s[2]) and (\"C6\" in s[1].split(\"-\")[0][0:] and \"C7\" in s[1].split(\"-\")[1][0:])) for s in combinations_no_response])\n",
    "C76b = np.array([bool(re.search(r'50-0-50-0', s[2]) and (\"C7\" in s[1].split(\"-\")[0][0:] and \"C6\" in s[1].split(\"-\")[1][0:])) for s in combinations_no_response])\n",
    "\n",
    "C78b = np.array([bool(re.search(r'50-0-50-0', s[2]) and (\"C7\" in s[1].split(\"-\")[0][0:] and \"C8\" in s[1].split(\"-\")[1][0:])) for s in combinations_no_response])\n",
    "C87b = np.array([bool(re.search(r'50-0-50-0', s[2]) and (\"C8\" in s[1].split(\"-\")[0][0:] and \"C7\" in s[1].split(\"-\")[1][0:])) for s in combinations_no_response])\n",
    "\n",
    "C67m = np.array([bool(re.search(r'50-0-50-100', s[2]) and (\"C6\" in s[1].split(\"-\")[0][0:] and \"C7\" in s[1].split(\"-\")[1][0:])) for s in combinations_no_response])\n",
    "C76m = np.array([bool(re.search(r'50-0-50-100', s[2]) and (\"C7\" in s[1].split(\"-\")[0][0:] and \"C6\" in s[1].split(\"-\")[1][0:])) for s in combinations_no_response])\n",
    "\n",
    "C78m = np.array([bool(re.search(r'50-0-50-100', s[2]) and (\"C7\" in s[1].split(\"-\")[0][0:] and \"C8\" in s[1].split(\"-\")[1][0:])) for s in combinations_no_response])\n",
    "C87m = np.array([bool(re.search(r'50-0-50-100', s[2]) and (\"C8\" in s[1].split(\"-\")[0][0:] and \"C7\" in s[1].split(\"-\")[1][0:])) for s in combinations_no_response])\n",
    "\n",
    "C67p80 = np.array([bool(re.search(r'80-0-20-400', s[2]) and (\"C6\" in s[1].split(\"-\")[0][0:] and \"C7\" in s[1].split(\"-\")[1][0:])) for s in combinations_no_response])\n",
    "C76p80 = np.array([bool(re.search(r'80-0-20-400', s[2]) and (\"C7\" in s[1].split(\"-\")[0][0:] and \"C6\" in s[1].split(\"-\")[1][0:])) for s in combinations_no_response])\n",
    "\n",
    "C78p80 = np.array([bool(re.search(r'80-0-20-400', s[2]) and (\"C7\" in s[1].split(\"-\")[0][0:] and \"C8\" in s[1].split(\"-\")[1][0:])) for s in combinations_no_response])\n",
    "C87p80 = np.array([bool(re.search(r'80-0-20-400', s[2]) and (\"C8\" in s[1].split(\"-\")[0][0:] and \"C7\" in s[1].split(\"-\")[1][0:])) for s in combinations_no_response])\n",
    "\n",
    "C67p20 = np.array([bool(re.search(r'20-0-80-25', s[2]) and (\"C6\" in s[1].split(\"-\")[0][0:] and \"C7\" in s[1].split(\"-\")[1][0:])) for s in combinations_no_response])\n",
    "C76p20 = np.array([bool(re.search(r'20-0-80-25', s[2]) and (\"C7\" in s[1].split(\"-\")[0][0:] and \"C6\" in s[1].split(\"-\")[1][0:])) for s in combinations_no_response])\n",
    "\n",
    "C78p20 = np.array([bool(re.search(r'20-0-80-25', s[2]) and (\"C7\" in s[1].split(\"-\")[0][0:] and \"C8\" in s[1].split(\"-\")[1][0:])) for s in combinations_no_response])\n",
    "C87p20 = np.array([bool(re.search(r'20-0-80-25', s[2]) and (\"C8\" in s[1].split(\"-\")[0][0:] and \"C7\" in s[1].split(\"-\")[1][0:])) for s in combinations_no_response])\n"
   ]
  },
  {
   "cell_type": "code",
   "execution_count": 20,
   "metadata": {},
   "outputs": [
    {
     "data": {
      "text/plain": [
       "TtestResult(statistic=0.949306396515953, pvalue=0.8248452781115181, df=29)"
      ]
     },
     "execution_count": 20,
     "metadata": {},
     "output_type": "execute_result"
    }
   ],
   "source": [
    "rost = arr[:,C67m,:].mean(axis = 0).reshape(-1,)\n",
    "caud = arr[:,C76m,:].mean(axis = 0).reshape(-1,)\n",
    "\n",
    "stats.ttest_rel(rost,caud, alternative=\"less\")"
   ]
  },
  {
   "cell_type": "code",
   "execution_count": null,
   "metadata": {},
   "outputs": [
    {
     "data": {
      "text/plain": [
       "{'C6L-C7L', 'C7L-C6L', 'C7L-C8L', 'C8L-C7L'}"
      ]
     },
     "execution_count": 40,
     "metadata": {},
     "output_type": "execute_result"
    }
   ],
   "source": [
    "part = [s[1] for s in combinations_no_response if len(parts := s[1].split(\"-\")) == 2 and parts[0] and parts[1] and parts[0][:2] != parts[1][:2]]\n",
    "set(part)\n"
   ]
  },
  {
   "cell_type": "markdown",
   "metadata": {},
   "source": [
    "## Ground "
   ]
  },
  {
   "cell_type": "code",
   "execution_count": null,
   "metadata": {},
   "outputs": [],
   "source": [
    "mybool = {}\n",
    "mybool[('ground - position mono')] = np.array([bool(s[1].split(\"-\")[0][2:] == \"\" and re.search(r'50-0-50-0', s[2])) for s in combinations_no_response])\n",
    "mybool[('position - ground mono')] = np.array([bool(s[1].split(\"-\")[1][2:] == \"\" and re.search(r'50-0-50-0', s[2])) for s in combinations_no_response])\n",
    "\n",
    "mybool[('ground - position p20')] = np.array([bool(s[1].split(\"-\")[0][2:] == \"\" and re.search(r'20-0-80-25', s[2])) for s in combinations_no_response])\n",
    "mybool[('position - ground p20')] = np.array([bool(s[1].split(\"-\")[1][2:] == \"\" and re.search(r'20-0-80-25', s[2])) for s in combinations_no_response])\n",
    "\n",
    "mybool[('ground - position p80')] = np.array([bool(s[1].split(\"-\")[0][2:] == \"\" and re.search(r'80-0-20-400', s[2])) for s in combinations_no_response])\n",
    "mybool[('position - ground p80')] = np.array([bool(s[1].split(\"-\")[1][2:] == \"\" and re.search(r'80-0-20-400', s[2])) for s in combinations_no_response])\n",
    "\n",
    "mybool[('ground - position bip')] = np.array([bool(s[1].split(\"-\")[0][2:] == \"\" and re.search(r'50-0-50-100', s[2])) for s in combinations_no_response])\n",
    "mybool[('position - ground bip')] = np.array([bool(s[1].split(\"-\")[1][2:] == \"\" and re.search(r'50-0-50-100', s[2])) for s in combinations_no_response])"
   ]
  },
  {
   "cell_type": "code",
   "execution_count": null,
   "metadata": {},
   "outputs": [],
   "source": [
    "gvalue = []\n",
    "for b,v in mybool.items():\n",
    "    for b1, v1 in mybool.items():\n",
    "        A = arr[:,v,:].mean(axis = 0).reshape(-1,)\n",
    "        B = arr[:,v1,:].mean(axis = 0).reshape(-1,)\n",
    "        tbvs, pbvs = stats.ttest_ind(B,A, alternative=\"less\")\n",
    "        if pbvs < 0.05:\n",
    "            gvalue.append(f\"{b1} is more effective than {b} (p = {pbvs})\")\n",
    "        else: gvalue.append(f\"No significant difference for {b1} vs {b} (p = {pbvs})\")"
   ]
  },
  {
   "cell_type": "code",
   "execution_count": null,
   "metadata": {},
   "outputs": [
    {
     "data": {
      "text/plain": [
       "['No significant difference for ground - position mono vs ground - position mono (p = 0.5)',\n",
       " 'No significant difference for position - ground mono vs ground - position mono (p = 0.9999999999999388)',\n",
       " 'No significant difference for ground - position p20 vs ground - position mono (p = 0.5524870400308437)',\n",
       " 'No significant difference for position - ground p20 vs ground - position mono (p = 0.9999999999972042)',\n",
       " 'No significant difference for ground - position p80 vs ground - position mono (p = 0.9999996434502291)',\n",
       " 'No significant difference for position - ground p80 vs ground - position mono (p = 0.42577787404621154)',\n",
       " 'No significant difference for ground - position bip vs ground - position mono (p = 0.8182051477061763)',\n",
       " 'No significant difference for position - ground bip vs ground - position mono (p = 0.5771767024003044)',\n",
       " 'ground - position mono is more effective than position - ground mono (p = 6.115689694642182e-14)',\n",
       " 'No significant difference for position - ground mono vs position - ground mono (p = 0.5)',\n",
       " 'ground - position p20 is more effective than position - ground mono (p = 3.095417482025152e-13)',\n",
       " 'No significant difference for position - ground p20 vs position - ground mono (p = 0.6099876965815767)',\n",
       " 'ground - position p80 is more effective than position - ground mono (p = 0.009757952904319887)',\n",
       " 'position - ground p80 is more effective than position - ground mono (p = 2.6176810917415756e-14)',\n",
       " 'ground - position bip is more effective than position - ground mono (p = 6.845375487027912e-11)',\n",
       " 'position - ground bip is more effective than position - ground mono (p = 7.755936393583439e-13)',\n",
       " 'No significant difference for ground - position mono vs ground - position p20 (p = 0.44751295996915635)',\n",
       " 'No significant difference for position - ground mono vs ground - position p20 (p = 0.9999999999996905)',\n",
       " 'No significant difference for ground - position p20 vs ground - position p20 (p = 0.5)',\n",
       " 'No significant difference for position - ground p20 vs ground - position p20 (p = 0.9999999999903451)',\n",
       " 'No significant difference for ground - position p80 vs ground - position p20 (p = 0.9999990920937952)',\n",
       " 'No significant difference for position - ground p80 vs ground - position p20 (p = 0.3765815429766503)',\n",
       " 'No significant difference for ground - position bip vs ground - position p20 (p = 0.7781540781720677)',\n",
       " 'No significant difference for position - ground bip vs ground - position p20 (p = 0.5252423718734721)',\n",
       " 'ground - position mono is more effective than position - ground p20 (p = 2.7957656680980614e-12)',\n",
       " 'No significant difference for position - ground mono vs position - ground p20 (p = 0.3900123034184233)',\n",
       " 'ground - position p20 is more effective than position - ground p20 (p = 9.65496579243683e-12)',\n",
       " 'No significant difference for position - ground p20 vs position - ground p20 (p = 0.5)',\n",
       " 'ground - position p80 is more effective than position - ground p20 (p = 0.008771744285391084)',\n",
       " 'position - ground p80 is more effective than position - ground p20 (p = 1.3165386408153354e-12)',\n",
       " 'ground - position bip is more effective than position - ground p20 (p = 8.173502925564796e-10)',\n",
       " 'position - ground bip is more effective than position - ground p20 (p = 1.9398634219809378e-11)',\n",
       " 'ground - position mono is more effective than ground - position p80 (p = 3.5654977089956435e-07)',\n",
       " 'No significant difference for position - ground mono vs ground - position p80 (p = 0.9902420470956801)',\n",
       " 'ground - position p20 is more effective than ground - position p80 (p = 9.079062047396681e-07)',\n",
       " 'No significant difference for position - ground p20 vs ground - position p80 (p = 0.9912282557146089)',\n",
       " 'No significant difference for ground - position p80 vs ground - position p80 (p = 0.5)',\n",
       " 'position - ground p80 is more effective than ground - position p80 (p = 1.7955154026118543e-07)',\n",
       " 'ground - position bip is more effective than ground - position p80 (p = 2.9657045268880394e-05)',\n",
       " 'position - ground bip is more effective than ground - position p80 (p = 1.5072298340827917e-06)',\n",
       " 'No significant difference for ground - position mono vs position - ground p80 (p = 0.5742221259537884)',\n",
       " 'No significant difference for position - ground mono vs position - ground p80 (p = 0.9999999999999738)',\n",
       " 'No significant difference for ground - position p20 vs position - ground p80 (p = 0.6234184570233496)',\n",
       " 'No significant difference for position - ground p20 vs position - ground p80 (p = 0.9999999999986835)',\n",
       " 'No significant difference for ground - position p80 vs position - ground p80 (p = 0.9999998204484597)',\n",
       " 'No significant difference for position - ground p80 vs position - ground p80 (p = 0.5)',\n",
       " 'No significant difference for ground - position bip vs position - ground p80 (p = 0.8602465809226945)',\n",
       " 'No significant difference for position - ground bip vs position - ground p80 (p = 0.6459241212855253)',\n",
       " 'No significant difference for ground - position mono vs ground - position bip (p = 0.1817948522938238)',\n",
       " 'No significant difference for position - ground mono vs ground - position bip (p = 0.9999999999315463)',\n",
       " 'No significant difference for ground - position p20 vs ground - position bip (p = 0.22184592182793228)',\n",
       " 'No significant difference for position - ground p20 vs ground - position bip (p = 0.9999999991826497)',\n",
       " 'No significant difference for ground - position p80 vs ground - position bip (p = 0.9999703429547311)',\n",
       " 'No significant difference for position - ground p80 vs ground - position bip (p = 0.13975341907730557)',\n",
       " 'No significant difference for ground - position bip vs ground - position bip (p = 0.5)',\n",
       " 'No significant difference for position - ground bip vs ground - position bip (p = 0.24358996593503746)',\n",
       " 'No significant difference for ground - position mono vs position - ground bip (p = 0.4228232975996956)',\n",
       " 'No significant difference for position - ground mono vs position - ground bip (p = 0.9999999999992244)',\n",
       " 'No significant difference for ground - position p20 vs position - ground bip (p = 0.4747576281265279)',\n",
       " 'No significant difference for position - ground p20 vs position - ground bip (p = 0.9999999999806014)',\n",
       " 'No significant difference for ground - position p80 vs position - ground bip (p = 0.999998492770166)',\n",
       " 'No significant difference for position - ground p80 vs position - ground bip (p = 0.35407587871447477)',\n",
       " 'No significant difference for ground - position bip vs position - ground bip (p = 0.7564100340649625)',\n",
       " 'No significant difference for position - ground bip vs position - ground bip (p = 0.5)']"
      ]
     },
     "execution_count": 31,
     "metadata": {},
     "output_type": "execute_result"
    }
   ],
   "source": [
    "gvalue"
   ]
  }
 ],
 "metadata": {
  "kernelspec": {
   "display_name": ".venv",
   "language": "python",
   "name": "python3"
  },
  "language_info": {
   "codemirror_mode": {
    "name": "ipython",
    "version": 3
   },
   "file_extension": ".py",
   "mimetype": "text/x-python",
   "name": "python",
   "nbconvert_exporter": "python",
   "pygments_lexer": "ipython3",
   "version": "3.11.9"
  }
 },
 "nbformat": 4,
 "nbformat_minor": 2
}
