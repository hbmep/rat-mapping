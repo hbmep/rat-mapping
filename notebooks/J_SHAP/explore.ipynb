{
 "cells": [
  {
   "cell_type": "code",
   "execution_count": 1,
   "metadata": {},
   "outputs": [],
   "source": [
    "import os\n",
    "import numpy as np\n",
    "import pandas as pd\n",
    "import pickle\n",
    "from scipy import stats \n",
    "import matplotlib.pyplot as plt\n",
    "import seaborn as sns\n",
    "import re\n"
   ]
  },
  {
   "cell_type": "code",
   "execution_count": 2,
   "metadata": {},
   "outputs": [],
   "source": [
    "src = \"/home/andres/data/hbmep-processed/J_SHAP/data.csv\"\n",
    "df = pd.read_csv(src)"
   ]
  },
  {
   "cell_type": "code",
   "execution_count": 3,
   "metadata": {},
   "outputs": [
    {
     "data": {
      "text/plain": [
       "(16440, 44)"
      ]
     },
     "execution_count": 3,
     "metadata": {},
     "output_type": "execute_result"
    }
   ],
   "source": [
    "df.shape"
   ]
  },
  {
   "cell_type": "code",
   "execution_count": 4,
   "metadata": {},
   "outputs": [],
   "source": [
    "columns = [\"part\"]"
   ]
  },
  {
   "cell_type": "code",
   "execution_count": 5,
   "metadata": {},
   "outputs": [
    {
     "data": {
      "text/plain": [
       "Index(['pulse_amplitude', 'pulse_train_frequency', 'pulse_period',\n",
       "       'pulse_duration', 'pulse_count', 'train_delay', 'channel1_1',\n",
       "       'channel1_2', 'channel1_3', 'channel1_4', 'channel2_1', 'channel2_2',\n",
       "       'channel2_3', 'channel2_4', 'charge_params_1', 'charge_params_2',\n",
       "       'charge_params_3', 'charge_params_4', 'bank_check', 'run', 'enabled',\n",
       "       'channel_failA', 'channel_failB', 'channel_fail_comb', 'time_pulse',\n",
       "       'time', 'ix_onsets', 'auc_2', 'auc_6', 'auc_5', 'auc_7', 'auc_1',\n",
       "       'auc_4', 'auc_3', 'auc_8', 'channel1_laterality', 'channel1_segment',\n",
       "       'channel2_laterality', 'channel2_segment', 'compound_position',\n",
       "       'compound_charge_params', 'participant', 'subdir_pattern',\n",
       "       'charge_param_error'],\n",
       "      dtype='object')"
      ]
     },
     "execution_count": 5,
     "metadata": {},
     "output_type": "execute_result"
    }
   ],
   "source": [
    "df.columns"
   ]
  },
  {
   "cell_type": "code",
   "execution_count": 6,
   "metadata": {},
   "outputs": [],
   "source": [
    "file = open(\"/home/andres/repos/rat-mapping-paper/reports/J_SHAP/combine.pkl\",\"rb\")\n",
    "combo = pickle.load(file)"
   ]
  },
  {
   "cell_type": "code",
   "execution_count": 7,
   "metadata": {},
   "outputs": [],
   "source": [
    "def threshold_array(shape):\n",
    "    my_dict = {\n",
    "    (key[0], key[1], key[3]): value[\"a\"].mean() for  key,value in combo.items() if key[2] == shape\n",
    "    }\n",
    "    keys, values = zip(*my_dict.items())\n",
    "    axis0 = np.unique([key[0] for key in keys])\n",
    "    axis1 = [\"Deltoid\", \"Biceps\", \"Triceps\", \"ECR\", \"FCR\", \"ADM\"][::-1]\n",
    "    pos_L = np.zeros((len(axis0), len(axis1)))\n",
    "    pos_M = np.zeros((len(axis0), len(axis1)))\n",
    "    for key, value in zip(keys, values):\n",
    "        if key[1].split(\"-\")[0][2:] == \"L\":\n",
    "            pos_L[np.where(axis0 == key[0])[0], np.where(np.array(axis1) == key[2][1:])[0]] = 1/value \n",
    "        elif key[1].split(\"-\")[0][2:] == \"M\":\n",
    "            pos_M[np.where(axis0 == key[0])[0], np.where(np.array(axis1) == key[2][1:])[0]] = 1/value \n",
    "    return(pos_L, pos_M, axis0, axis1)"
   ]
  },
  {
   "cell_type": "code",
   "execution_count": 8,
   "metadata": {},
   "outputs": [],
   "source": [
    "arr = None\n",
    "responses = list(set([u[3] for u in combo.keys()]))\n",
    "combinations_no_response = [(c[0], c[1], c[2]) for c in combo]\n",
    "combinations_no_response = set(combinations_no_response)\n",
    "combinations_no_response = list(combinations_no_response)\n",
    "for muscle in responses:\n",
    "    arr_muscle = None\n",
    "\n",
    "    for c in combinations_no_response:\n",
    "        a = combo[(*c, muscle)][\"a\"]\n",
    "        a = a[:, 0, 0, 0, 0]\n",
    "\n",
    "        if arr_muscle is None:\n",
    "            arr_muscle = a[:, None]\n",
    "        else:\n",
    "            # concatenate now\n",
    "            arr_muscle = np.concatenate([arr_muscle, a[:, None]], axis=-1)\n",
    "\n",
    "    if arr is None:\n",
    "        arr = arr_muscle[:,:, None]\n",
    "\n",
    "    else:\n",
    "        arr = np.concatenate([arr, arr_muscle[:,:, None]], axis = -1) "
   ]
  },
  {
   "cell_type": "code",
   "execution_count": 9,
   "metadata": {},
   "outputs": [
    {
     "data": {
      "text/plain": [
       "(4000, 320, 6)"
      ]
     },
     "execution_count": 9,
     "metadata": {},
     "output_type": "execute_result"
    }
   ],
   "source": [
    "arr.shape"
   ]
  },
  {
   "cell_type": "code",
   "execution_count": null,
   "metadata": {},
   "outputs": [],
   "source": [
    "combinations_no_response"
   ]
  },
  {
   "cell_type": "code",
   "execution_count": 11,
   "metadata": {},
   "outputs": [
    {
     "data": {
      "text/plain": [
       "320"
      ]
     },
     "execution_count": 11,
     "metadata": {},
     "output_type": "execute_result"
    }
   ],
   "source": [
    "df[['participant','compound_position', 'compound_charge_params']].apply(tuple, axis = 1).nunique()"
   ]
  },
  {
   "cell_type": "code",
   "execution_count": 12,
   "metadata": {},
   "outputs": [],
   "source": [
    "pmono20 = np.array([bool(re.search(r'20-0-80-25', s[2])) for s in combinations_no_response])\n",
    "pmono80 = np.array([bool(re.search(r'80-0-20-400', s[2])) for s in combinations_no_response])\n",
    "mono = np.array([bool(re.search(r'50-0-50-100', s[2])) for s in combinations_no_response])\n",
    "bip = np.array([bool(re.search(r'50-0-50-0', s[2])) for s in combinations_no_response])\n",
    "\n",
    "lat = np.array([bool(s[1].split(\"-\")[1][2:] == \"L\") for s in combinations_no_response])\n",
    "med = np.array([bool(s[1].split(\"-\")[1][2:] == \"M\") for s in combinations_no_response])\n",
    "\n"
   ]
  },
  {
   "cell_type": "code",
   "execution_count": 13,
   "metadata": {},
   "outputs": [],
   "source": [
    "dictBool = {}\n",
    "\n",
    "dictBool[('lateral pmono20')] = np.array([bool(re.search(r'20-0-80-25', s[2]) and re.search(r'.+-.+', s[1]) and s[1].split(\"-\")[0][2:] == \"L\") for s in combinations_no_response])\n",
    "dictBool[('lateral pmono80')] = np.array([bool(re.search(r'80-0-20-400', s[2])and re.search(r'.+-.+', s[1]) and s[1].split(\"-\")[0][2:] == \"L\") for s in combinations_no_response])\n",
    "dictBool[('lateral bip')] = np.array([bool(re.search(r'50-0-50-100', s[2])and re.search(r'.+-.+', s[1]) and s[1].split(\"-\")[0][2:] == \"L\") for s in combinations_no_response])\n",
    "dictBool[('lateral mono')] = np.array([bool(re.search(r'50-0-50-0', s[2])and re.search(r'.+-.+', s[1]) and s[1].split(\"-\")[0][2:] == \"L\") for s in combinations_no_response])\n",
    "\n",
    "dictBool[('medial pmono20')] = np.array([bool(re.search(r'20-0-80-25', s[2])and re.search(r'.+-.+', s[1]) and s[1].split(\"-\")[0][2:] == \"M\") for s in combinations_no_response])\n",
    "dictBool[('medial pmono80')] = np.array([bool(re.search(r'80-0-20-400', s[2])and re.search(r'.+-.+', s[1]) and s[1].split(\"-\")[0][2:] == \"M\") for s in combinations_no_response])\n",
    "dictBool[('medial bip')] = np.array([bool(re.search(r'50-0-50-100', s[2])and re.search(r'.+-.+', s[1]) and s[1].split(\"-\")[0][2:] == \"M\") for s in combinations_no_response])\n",
    "dictBool[('medial mono')] = np.array([bool(re.search(r'50-0-50-0', s[2])and re.search(r'.+-.+', s[1]) and s[1].split(\"-\")[0][2:] == \"M\") for s in combinations_no_response])\n"
   ]
  },
  {
   "cell_type": "code",
   "execution_count": 66,
   "metadata": {},
   "outputs": [],
   "source": [
    "A = arr[:,dictBool[('lateral pmono20')],:].mean(axis=0)"
   ]
  },
  {
   "cell_type": "code",
   "execution_count": 62,
   "metadata": {},
   "outputs": [
    {
     "data": {
      "text/plain": [
       "(192,)"
      ]
     },
     "execution_count": 62,
     "metadata": {},
     "output_type": "execute_result"
    }
   ],
   "source": [
    "# A.reshape(-1,).shape"
   ]
  },
  {
   "cell_type": "code",
   "execution_count": null,
   "metadata": {},
   "outputs": [],
   "source": []
  },
  {
   "cell_type": "code",
   "execution_count": 41,
   "metadata": {},
   "outputs": [],
   "source": [
    "diplot = {}\n",
    "\n",
    "diplot[('L-M pmono20')] = np.array([bool(re.search(r'20-0-80-25', s[2]) and s[1].split(\"-\")[0][2:] == \"L\" and s[1].split(\"-\")[1][2:] == \"M\") for s in combinations_no_response])\n",
    "diplot[('L-M pmono80')] = np.array([bool(re.search(r'80-0-20-400', s[2])and s[1].split(\"-\")[0][2:] == \"L\" and s[1].split(\"-\")[1][2:] == \"M\") for s in combinations_no_response])\n",
    "diplot[('L-M bip')] = np.array([bool(re.search(r'50-0-50-100', s[2])and s[1].split(\"-\")[0][2:] == \"L\" and s[1].split(\"-\")[1][2:] == \"M\") for s in combinations_no_response])\n",
    "diplot[('L-M mono')] = np.array([bool(re.search(r'50-0-50-0', s[2])and s[1].split(\"-\")[0][2:] == \"L\" and s[1].split(\"-\")[1][2:] == \"M\") for s in combinations_no_response])\n",
    "\n",
    "diplot[('M-L pmono20')] = np.array([bool(re.search(r'20-0-80-25', s[2]) and s[1].split(\"-\")[1][2:] == \"L\" and s[1].split(\"-\")[0][2:] == \"M\") for s in combinations_no_response])\n",
    "diplot[('M-L pmono80')] = np.array([bool(re.search(r'80-0-20-400', s[2])and s[1].split(\"-\")[1][2:] == \"L\" and s[1].split(\"-\")[0][2:] == \"M\") for s in combinations_no_response])\n",
    "diplot[('M-L bip')] = np.array([bool(re.search(r'50-0-50-100', s[2])and s[1].split(\"-\")[1][2:] == \"L\" and s[1].split(\"-\")[0][2:] == \"M\") for s in combinations_no_response])\n",
    "diplot[('M-L mono')] = np.array([bool(re.search(r'50-0-50-0', s[2])and s[1].split(\"-\")[1][2:] == \"L\" and s[1].split(\"-\")[0][2:] == \"M\") for s in combinations_no_response])\n",
    "\n",
    "diplot[('ground - position mono')] = np.array([bool(s[1].split(\"-\")[0][2:] == \"\" and re.search(r'50-0-50-0', s[2])) for s in combinations_no_response])\n",
    "diplot[('position - ground mono')] = np.array([bool(s[1].split(\"-\")[1][2:] == \"\" and re.search(r'50-0-50-0', s[2])) for s in combinations_no_response])\n",
    "\n",
    "diplot[('ground - position p20')] = np.array([bool(s[1].split(\"-\")[0][2:] == \"\" and re.search(r'20-0-80-25', s[2])) for s in combinations_no_response])\n",
    "diplot[('position - ground p20')] = np.array([bool(s[1].split(\"-\")[1][2:] == \"\" and re.search(r'20-0-80-25', s[2])) for s in combinations_no_response])\n",
    "\n",
    "diplot[('ground - position p80')] = np.array([bool(s[1].split(\"-\")[0][2:] == \"\" and re.search(r'80-0-20-400', s[2])) for s in combinations_no_response])\n",
    "diplot[('position - ground p80')] = np.array([bool(s[1].split(\"-\")[1][2:] == \"\" and re.search(r'80-0-20-400', s[2])) for s in combinations_no_response])\n",
    "\n",
    "diplot[('ground - position bip')] = np.array([bool(s[1].split(\"-\")[0][2:] == \"\" and re.search(r'50-0-50-100', s[2])) for s in combinations_no_response])\n",
    "diplot[('position - ground bip')] = np.array([bool(s[1].split(\"-\")[1][2:] == \"\" and re.search(r'50-0-50-100', s[2])) for s in combinations_no_response])"
   ]
  },
  {
   "cell_type": "code",
   "execution_count": 67,
   "metadata": {},
   "outputs": [
    {
     "data": {
      "text/plain": [
       "159.82804525509846"
      ]
     },
     "execution_count": 67,
     "metadata": {},
     "output_type": "execute_result"
    }
   ],
   "source": [
    "A.mean()"
   ]
  },
  {
   "cell_type": "code",
   "execution_count": 68,
   "metadata": {},
   "outputs": [
    {
     "data": {
      "text/plain": [
       "9.19492007716287"
      ]
     },
     "execution_count": 68,
     "metadata": {},
     "output_type": "execute_result"
    }
   ],
   "source": [
    "stats.sem(A.reshape(-1,))"
   ]
  },
  {
   "cell_type": "code",
   "execution_count": 14,
   "metadata": {},
   "outputs": [],
   "source": [
    "value = []\n",
    "for b,v in dictBool.items():\n",
    "    for b1, v1 in dictBool.items():\n",
    "        A = arr[:,v,:].mean(axis = 0).reshape(-1,)\n",
    "        B = arr[:,v1,:].mean(axis = 0).reshape(-1,)\n",
    "        tbvs, pbvs = stats.ttest_ind(B,A, alternative=\"less\")\n",
    "        if pbvs < 0.05:\n",
    "            value.append(f\"{b1} is more effective than {b} (p = {pbvs})\")\n",
    "        else: value.append(f\"No significant difference for {b1} vs {b} (p = {pbvs})\")"
   ]
  },
  {
   "cell_type": "code",
   "execution_count": 15,
   "metadata": {},
   "outputs": [
    {
     "data": {
      "text/plain": [
       "0.9999996519248618"
      ]
     },
     "execution_count": 15,
     "metadata": {},
     "output_type": "execute_result"
    }
   ],
   "source": [
    "A = arr[:,mono,:].mean(axis = 0).reshape(-1,)\n",
    "B = arr[:,bip,:].mean(axis = 0).reshape(-1,)\n",
    "\n",
    "tbvs, pbvs = stats.ttest_ind(B,A, alternative=\"less\")\n",
    "\n",
    "pbvs"
   ]
  },
  {
   "cell_type": "code",
   "execution_count": 16,
   "metadata": {},
   "outputs": [
    {
     "data": {
      "text/plain": [
       "['No significant difference for lateral pmono20 vs lateral pmono20 (p = 0.5)',\n",
       " 'No significant difference for lateral pmono80 vs lateral pmono20 (p = 0.2488507375822367)',\n",
       " 'No significant difference for lateral bip vs lateral pmono20 (p = 0.13371095690032442)',\n",
       " 'No significant difference for lateral mono vs lateral pmono20 (p = 0.7217150520969153)',\n",
       " 'No significant difference for medial pmono20 vs lateral pmono20 (p = 0.9977754747869669)',\n",
       " 'No significant difference for medial pmono80 vs lateral pmono20 (p = 0.9884524148383961)',\n",
       " 'No significant difference for medial bip vs lateral pmono20 (p = 0.6939039894212642)',\n",
       " 'No significant difference for medial mono vs lateral pmono20 (p = 0.9999413360281021)',\n",
       " 'No significant difference for lateral pmono20 vs lateral pmono80 (p = 0.7511492624177634)',\n",
       " 'No significant difference for lateral pmono80 vs lateral pmono80 (p = 0.5)',\n",
       " 'No significant difference for lateral bip vs lateral pmono80 (p = 0.3396069029131209)',\n",
       " 'No significant difference for lateral mono vs lateral pmono80 (p = 0.8955544000431139)',\n",
       " 'No significant difference for medial pmono20 vs lateral pmono80 (p = 0.9996249976045884)',\n",
       " 'No significant difference for medial pmono80 vs lateral pmono80 (p = 0.9975490873881747)',\n",
       " 'No significant difference for medial bip vs lateral pmono80 (p = 0.8466768167220947)',\n",
       " 'No significant difference for medial mono vs lateral pmono80 (p = 0.9999941777775313)',\n",
       " 'No significant difference for lateral pmono20 vs lateral bip (p = 0.8662890430996756)',\n",
       " 'No significant difference for lateral pmono80 vs lateral bip (p = 0.660393097086879)',\n",
       " 'No significant difference for lateral bip vs lateral bip (p = 0.5)',\n",
       " 'No significant difference for lateral mono vs lateral bip (p = 0.9549669568177649)',\n",
       " 'No significant difference for medial pmono20 vs lateral bip (p = 0.9999267077764904)',\n",
       " 'No significant difference for medial pmono80 vs lateral bip (p = 0.9993986639915792)',\n",
       " 'No significant difference for medial bip vs lateral bip (p = 0.9144812652281119)',\n",
       " 'No significant difference for medial mono vs lateral bip (p = 0.9999993798203514)',\n",
       " 'No significant difference for lateral pmono20 vs lateral mono (p = 0.27828494790308456)',\n",
       " 'No significant difference for lateral pmono80 vs lateral mono (p = 0.10444559995688608)',\n",
       " 'lateral bip is more effective than lateral mono (p = 0.045033043182235104)',\n",
       " 'No significant difference for lateral mono vs lateral mono (p = 0.5)',\n",
       " 'No significant difference for medial pmono20 vs lateral mono (p = 0.9905114955350128)',\n",
       " 'No significant difference for medial pmono80 vs lateral mono (p = 0.9614424005464937)',\n",
       " 'No significant difference for medial bip vs lateral mono (p = 0.521490051877636)',\n",
       " 'No significant difference for medial mono vs lateral mono (p = 0.9995672178708351)',\n",
       " 'lateral pmono20 is more effective than medial pmono20 (p = 0.0022245252130330003)',\n",
       " 'lateral pmono80 is more effective than medial pmono20 (p = 0.0003750023954115879)',\n",
       " 'lateral bip is more effective than medial pmono20 (p = 7.329222350957377e-05)',\n",
       " 'lateral mono is more effective than medial pmono20 (p = 0.009488504464987188)',\n",
       " 'No significant difference for medial pmono20 vs medial pmono20 (p = 0.5)',\n",
       " 'No significant difference for medial pmono80 vs medial pmono20 (p = 0.3021544926987001)',\n",
       " 'medial bip is more effective than medial pmono20 (p = 0.03662940286486052)',\n",
       " 'No significant difference for medial mono vs medial pmono20 (p = 0.7802846800749904)',\n",
       " 'lateral pmono20 is more effective than medial pmono80 (p = 0.011547585161603905)',\n",
       " 'lateral pmono80 is more effective than medial pmono80 (p = 0.0024509126118252883)',\n",
       " 'lateral bip is more effective than medial pmono80 (p = 0.0006013360084208539)',\n",
       " 'lateral mono is more effective than medial pmono80 (p = 0.03855759945350636)',\n",
       " 'No significant difference for medial pmono20 vs medial pmono80 (p = 0.6978455073012999)',\n",
       " 'No significant difference for medial pmono80 vs medial pmono80 (p = 0.5)',\n",
       " 'No significant difference for medial bip vs medial pmono80 (p = 0.08924713089863374)',\n",
       " 'No significant difference for medial mono vs medial pmono80 (p = 0.9080146401146364)',\n",
       " 'No significant difference for lateral pmono20 vs medial bip (p = 0.3060960105787358)',\n",
       " 'No significant difference for lateral pmono80 vs medial bip (p = 0.15332318327790528)',\n",
       " 'No significant difference for lateral bip vs medial bip (p = 0.08551873477188802)',\n",
       " 'No significant difference for lateral mono vs medial bip (p = 0.4785099481223641)',\n",
       " 'No significant difference for medial pmono20 vs medial bip (p = 0.9633705971351395)',\n",
       " 'No significant difference for medial pmono80 vs medial bip (p = 0.9107528691013663)',\n",
       " 'No significant difference for medial bip vs medial bip (p = 0.5)',\n",
       " 'No significant difference for medial mono vs medial bip (p = 0.9949502813545282)',\n",
       " 'lateral pmono20 is more effective than medial mono (p = 5.8663971897902555e-05)',\n",
       " 'lateral pmono80 is more effective than medial mono (p = 5.8222224687234895e-06)',\n",
       " 'lateral bip is more effective than medial mono (p = 6.201796485705439e-07)',\n",
       " 'lateral mono is more effective than medial mono (p = 0.00043278212916484976)',\n",
       " 'No significant difference for medial pmono20 vs medial mono (p = 0.2197153199250096)',\n",
       " 'No significant difference for medial pmono80 vs medial mono (p = 0.09198535988536362)',\n",
       " 'medial bip is more effective than medial mono (p = 0.005049718645471734)',\n",
       " 'No significant difference for medial mono vs medial mono (p = 0.5)']"
      ]
     },
     "execution_count": 16,
     "metadata": {},
     "output_type": "execute_result"
    }
   ],
   "source": [
    "value"
   ]
  },
  {
   "cell_type": "code",
   "execution_count": 17,
   "metadata": {},
   "outputs": [
    {
     "data": {
      "text/plain": [
       "{'-C6L',\n",
       " '-C7L',\n",
       " '-C8L',\n",
       " 'C6L-',\n",
       " 'C6L-C6M',\n",
       " 'C6L-C7L',\n",
       " 'C6M-C6L',\n",
       " 'C7L-',\n",
       " 'C7L-C6L',\n",
       " 'C7L-C7M',\n",
       " 'C7L-C8L',\n",
       " 'C7M-C7L',\n",
       " 'C8L-',\n",
       " 'C8L-C7L',\n",
       " 'C8L-C8M',\n",
       " 'C8M-C8L'}"
      ]
     },
     "execution_count": 17,
     "metadata": {},
     "output_type": "execute_result"
    }
   ],
   "source": [
    "a = set(u[1] for u in combinations_no_response)\n",
    "a"
   ]
  },
  {
   "cell_type": "code",
   "execution_count": 18,
   "metadata": {},
   "outputs": [],
   "source": [
    "C61 = np.array([bool(re.search(r'50-0-50-0', s[2]) and (\"C6\" in s[1].split(\"-\")[0][0:] or \"C6\" in s[1].split(\"-\")[1][0:])) for s in combinations_no_response])\n",
    "C71 = np.array([bool(re.search(r'50-0-50-0', s[2]) and (\"C7\" in s[1].split(\"-\")[0][0:] or \"C7\" in s[1].split(\"-\")[1][0:])) for s in combinations_no_response])\n",
    "C81 = np.array([bool(re.search(r'50-0-50-0', s[2]) and (\"C8\" in s[1].split(\"-\")[0][0:] or \"C8\" in s[1].split(\"-\")[1][0:])) for s in combinations_no_response])\n",
    "\n",
    "C62 = np.array([bool(re.search(r'20-0-80-25', s[2]) and (\"C6\" in s[1].split(\"-\")[0][0:] or \"C6\" in s[1].split(\"-\")[1][0:])) for s in combinations_no_response])\n",
    "C72 = np.array([bool(re.search(r'20-0-80-25', s[2]) and (\"C7\" in s[1].split(\"-\")[0][0:] or \"C7\" in s[1].split(\"-\")[1][0:])) for s in combinations_no_response])\n",
    "C82 = np.array([bool(re.search(r'20-0-80-25', s[2]) and (\"C8\" in s[1].split(\"-\")[0][0:] or \"C8\" in s[1].split(\"-\")[1][0:])) for s in combinations_no_response])\n",
    "\n",
    "C63 = np.array([bool(re.search(r'80-0-20-400', s[2]) and (\"C6\" in s[1].split(\"-\")[0][0:] or \"C6\" in s[1].split(\"-\")[1][0:])) for s in combinations_no_response])\n",
    "C73 = np.array([bool(re.search(r'80-0-20-400', s[2]) and (\"C7\" in s[1].split(\"-\")[0][0:] or \"C7\" in s[1].split(\"-\")[1][0:])) for s in combinations_no_response])\n",
    "C83 = np.array([bool(re.search(r'80-0-20-400', s[2]) and (\"C8\" in s[1].split(\"-\")[0][0:] or \"C8\" in s[1].split(\"-\")[1][0:])) for s in combinations_no_response])\n",
    "\n",
    "C64 = np.array([bool(re.search(r'50-0-50-100', s[2]) and (\"C6\" in s[1].split(\"-\")[0][0:] or \"C6\" in s[1].split(\"-\")[1][0:])) for s in combinations_no_response])\n",
    "C74 = np.array([bool(re.search(r'50-0-50-100', s[2]) and (\"C7\" in s[1].split(\"-\")[0][0:] or \"C7\" in s[1].split(\"-\")[1][0:])) for s in combinations_no_response])\n",
    "C84 = np.array([bool(re.search(r'50-0-50-100', s[2]) and (\"C8\" in s[1].split(\"-\")[0][0:] or \"C8\" in s[1].split(\"-\")[1][0:])) for s in combinations_no_response])"
   ]
  },
  {
   "cell_type": "code",
   "execution_count": 19,
   "metadata": {},
   "outputs": [
    {
     "data": {
      "text/plain": [
       "2.9022671961365798e-12"
      ]
     },
     "execution_count": 19,
     "metadata": {},
     "output_type": "execute_result"
    }
   ],
   "source": [
    "C = arr[:,C71,:].mean(axis = 0).reshape(-1,)\n",
    "D = arr[:,C81,:].mean(axis = 0).reshape(-1,)\n",
    "\n",
    "tbvs, pbvs = stats.ttest_ind(C,D, alternative=\"less\")\n",
    "\n",
    "pbvs"
   ]
  },
  {
   "cell_type": "code",
   "execution_count": null,
   "metadata": {},
   "outputs": [],
   "source": []
  },
  {
   "cell_type": "code",
   "execution_count": 20,
   "metadata": {},
   "outputs": [
    {
     "data": {
      "text/plain": [
       "48"
      ]
     },
     "execution_count": 20,
     "metadata": {},
     "output_type": "execute_result"
    }
   ],
   "source": [
    "C74.sum()"
   ]
  },
  {
   "cell_type": "code",
   "execution_count": 21,
   "metadata": {},
   "outputs": [
    {
     "ename": "NameError",
     "evalue": "name 'mask' is not defined",
     "output_type": "error",
     "traceback": [
      "\u001b[0;31m---------------------------------------------------------------------------\u001b[0m",
      "\u001b[0;31mNameError\u001b[0m                                 Traceback (most recent call last)",
      "Cell \u001b[0;32mIn[21], line 1\u001b[0m\n\u001b[0;32m----> 1\u001b[0m arr[:,\u001b[43mmask\u001b[49m,:]\u001b[38;5;241m.\u001b[39mshape\n",
      "\u001b[0;31mNameError\u001b[0m: name 'mask' is not defined"
     ]
    }
   ],
   "source": [
    "arr[:,mask,:].shape"
   ]
  },
  {
   "cell_type": "code",
   "execution_count": null,
   "metadata": {},
   "outputs": [],
   "source": [
    "L, M = threshold_array(\"20-0-80-25\")"
   ]
  },
  {
   "cell_type": "code",
   "execution_count": null,
   "metadata": {},
   "outputs": [
    {
     "data": {
      "text/plain": [
       "array([0.92528306, 0.38606512, 0.67930961, 0.50053072, 0.51280737,\n",
       "       0.35147554])"
      ]
     },
     "execution_count": 31,
     "metadata": {},
     "output_type": "execute_result"
    }
   ],
   "source": [
    "ttest_values, pscores = stats.ttest_ind(L, M)\n",
    "pscores\n"
   ]
  },
  {
   "cell_type": "markdown",
   "metadata": {},
   "source": [
    "Graphing if we want group comparison"
   ]
  },
  {
   "cell_type": "code",
   "execution_count": null,
   "metadata": {},
   "outputs": [],
   "source": [
    "def graph_arr(charge):\n",
    "    L, M, subject, muscle = threshold_array(charge)\n",
    "    sub_meanS = np.median(L, axis=0)\n",
    "    rowS = np.vsplit(L,len(subject))\n",
    "    rowS = [i.tolist() for i in rowS]\n",
    "    sub_meanL = np.median(M, axis=0)\n",
    "    rowL = np.vsplit(M,len(subject))\n",
    "    rowL = [i.tolist() for i in rowL]\n",
    "    for xval_ind, xval in enumerate(rowS):\n",
    "        # plt.plot(xval[0], muscle, linestyle='dashed', marker=\".\", markersize=20, alpha =0.3, color = \"pink\")\n",
    "        plt.plot(sub_meanS,muscle, color = \"red\", linestyle='dashed', marker=\".\", markersize=20, label=\"Lateral\" if xval_ind == 0 else None)\n",
    "        # plt.legend('Lateral')\n",
    "    for xval_ind,xval in enumerate(rowL):\n",
    "        # plt.plot(xval[0], muscle, linestyle='dashed', marker=\".\", markersize=25, alpha =0.3, color = \"blue\")\n",
    "        plt.plot(sub_meanL,muscle, color = \"black\", linestyle='dashed', marker=\".\", markersize=20, label=\"Medial\" if xval_ind == 1 else None)\n",
    "        # plt.legend('Medial')\n",
    "    plt.yticks(weight ='bold',style = 'italic')\n",
    "    plt.xlabel('Efficacy')\n",
    "    plt.legend()\n",
    "    plt.show()\n",
    "    "
   ]
  },
  {
   "cell_type": "code",
   "execution_count": null,
   "metadata": {},
   "outputs": [],
   "source": [
    "graph_arr(\"20-0-80-25\")"
   ]
  },
  {
   "cell_type": "markdown",
   "metadata": {},
   "source": [
    "## Rostral Caudal"
   ]
  },
  {
   "cell_type": "code",
   "execution_count": null,
   "metadata": {},
   "outputs": [
    {
     "data": {
      "text/plain": [
       "{'-C6L',\n",
       " '-C7L',\n",
       " '-C8L',\n",
       " 'C6L-',\n",
       " 'C6L-C6M',\n",
       " 'C6L-C7L',\n",
       " 'C6M-C6L',\n",
       " 'C7L-',\n",
       " 'C7L-C6L',\n",
       " 'C7L-C7M',\n",
       " 'C7L-C8L',\n",
       " 'C7M-C7L',\n",
       " 'C8L-',\n",
       " 'C8L-C7L',\n",
       " 'C8L-C8M',\n",
       " 'C8M-C8L'}"
      ]
     },
     "execution_count": 9,
     "metadata": {},
     "output_type": "execute_result"
    }
   ],
   "source": [
    "a"
   ]
  },
  {
   "cell_type": "code",
   "execution_count": null,
   "metadata": {},
   "outputs": [],
   "source": [
    "C67b = np.array([bool(re.search(r'50-0-50-0', s[2]) and (\"C6\" in s[1].split(\"-\")[0][0:] and \"C7\" in s[1].split(\"-\")[1][0:])) for s in combinations_no_response])\n",
    "C76b = np.array([bool(re.search(r'50-0-50-0', s[2]) and (\"C7\" in s[1].split(\"-\")[0][0:] and \"C6\" in s[1].split(\"-\")[1][0:])) for s in combinations_no_response])\n",
    "\n",
    "C78b = np.array([bool(re.search(r'50-0-50-0', s[2]) and (\"C7\" in s[1].split(\"-\")[0][0:] and \"C8\" in s[1].split(\"-\")[1][0:])) for s in combinations_no_response])\n",
    "C87b = np.array([bool(re.search(r'50-0-50-0', s[2]) and (\"C8\" in s[1].split(\"-\")[0][0:] and \"C7\" in s[1].split(\"-\")[1][0:])) for s in combinations_no_response])\n",
    "\n",
    "C67m = np.array([bool(re.search(r'50-0-50-100', s[2]) and (\"C6\" in s[1].split(\"-\")[0][0:] and \"C7\" in s[1].split(\"-\")[1][0:])) for s in combinations_no_response])\n",
    "C76m = np.array([bool(re.search(r'50-0-50-100', s[2]) and (\"C7\" in s[1].split(\"-\")[0][0:] and \"C6\" in s[1].split(\"-\")[1][0:])) for s in combinations_no_response])\n",
    "\n",
    "C78m = np.array([bool(re.search(r'50-0-50-100', s[2]) and (\"C7\" in s[1].split(\"-\")[0][0:] and \"C8\" in s[1].split(\"-\")[1][0:])) for s in combinations_no_response])\n",
    "C87m = np.array([bool(re.search(r'50-0-50-100', s[2]) and (\"C8\" in s[1].split(\"-\")[0][0:] and \"C7\" in s[1].split(\"-\")[1][0:])) for s in combinations_no_response])\n",
    "\n",
    "C67p80 = np.array([bool(re.search(r'80-0-20-400', s[2]) and (\"C6\" in s[1].split(\"-\")[0][0:] and \"C7\" in s[1].split(\"-\")[1][0:])) for s in combinations_no_response])\n",
    "C76p80 = np.array([bool(re.search(r'80-0-20-400', s[2]) and (\"C7\" in s[1].split(\"-\")[0][0:] and \"C6\" in s[1].split(\"-\")[1][0:])) for s in combinations_no_response])\n",
    "\n",
    "C78p80 = np.array([bool(re.search(r'80-0-20-400', s[2]) and (\"C7\" in s[1].split(\"-\")[0][0:] and \"C8\" in s[1].split(\"-\")[1][0:])) for s in combinations_no_response])\n",
    "C87p80 = np.array([bool(re.search(r'80-0-20-400', s[2]) and (\"C8\" in s[1].split(\"-\")[0][0:] and \"C7\" in s[1].split(\"-\")[1][0:])) for s in combinations_no_response])\n",
    "\n",
    "C67p20 = np.array([bool(re.search(r'20-0-80-25', s[2]) and (\"C6\" in s[1].split(\"-\")[0][0:] and \"C7\" in s[1].split(\"-\")[1][0:])) for s in combinations_no_response])\n",
    "C76p20 = np.array([bool(re.search(r'20-0-80-25', s[2]) and (\"C7\" in s[1].split(\"-\")[0][0:] and \"C6\" in s[1].split(\"-\")[1][0:])) for s in combinations_no_response])\n",
    "\n",
    "C78p20 = np.array([bool(re.search(r'20-0-80-25', s[2]) and (\"C7\" in s[1].split(\"-\")[0][0:] and \"C8\" in s[1].split(\"-\")[1][0:])) for s in combinations_no_response])\n",
    "C87p20 = np.array([bool(re.search(r'20-0-80-25', s[2]) and (\"C8\" in s[1].split(\"-\")[0][0:] and \"C7\" in s[1].split(\"-\")[1][0:])) for s in combinations_no_response])\n"
   ]
  },
  {
   "cell_type": "code",
   "execution_count": null,
   "metadata": {},
   "outputs": [
    {
     "data": {
      "text/plain": [
       "(5, 6)"
      ]
     },
     "execution_count": 29,
     "metadata": {},
     "output_type": "execute_result"
    }
   ],
   "source": [
    "rost = arr[:,C67m,:].mean(axis = 0)\n",
    "\n",
    "rost.shape"
   ]
  },
  {
   "cell_type": "code",
   "execution_count": null,
   "metadata": {},
   "outputs": [
    {
     "data": {
      "text/plain": [
       "array([[0, 0, 0],\n",
       "       [1, 1, 1],\n",
       "       [2, 2, 2],\n",
       "       [3, 3, 3],\n",
       "       [4, 4, 4]])"
      ]
     },
     "execution_count": 45,
     "metadata": {},
     "output_type": "execute_result"
    }
   ],
   "source": [
    "np.sort(np.array(combinations_no_response)[C67m], axis=0)"
   ]
  },
  {
   "cell_type": "code",
   "execution_count": null,
   "metadata": {},
   "outputs": [
    {
     "data": {
      "text/plain": [
       "array([['amap08', 'C7L-C6L', '50-0-50-100'],\n",
       "       ['amap06', 'C7L-C6L', '50-0-50-100'],\n",
       "       ['amap04', 'C7L-C6L', '50-0-50-100'],\n",
       "       ['amap05', 'C7L-C6L', '50-0-50-100'],\n",
       "       ['amap07', 'C7L-C6L', '50-0-50-100']], dtype='<U11')"
      ]
     },
     "execution_count": 68,
     "metadata": {},
     "output_type": "execute_result"
    }
   ],
   "source": [
    "t = np.array(combinations_no_response)[C76m]\n",
    "\n",
    "t"
   ]
  },
  {
   "cell_type": "code",
   "execution_count": null,
   "metadata": {},
   "outputs": [
    {
     "data": {
      "text/plain": [
       "array([[2, 0, 0],\n",
       "       [3, 1, 1],\n",
       "       [1, 2, 2],\n",
       "       [4, 3, 3],\n",
       "       [0, 4, 4]])"
      ]
     },
     "execution_count": 71,
     "metadata": {},
     "output_type": "execute_result"
    }
   ],
   "source": [
    "np.matrix.argsort(t, axis=0)"
   ]
  },
  {
   "cell_type": "code",
   "execution_count": null,
   "metadata": {},
   "outputs": [],
   "source": [
    "ind = np.argsort(t, axis=0)"
   ]
  },
  {
   "cell_type": "code",
   "execution_count": null,
   "metadata": {},
   "outputs": [
    {
     "data": {
      "text/plain": [
       "array([['amap04', 'C7L-C6L', '50-0-50-100'],\n",
       "       ['amap05', 'C7L-C6L', '50-0-50-100'],\n",
       "       ['amap06', 'C7L-C6L', '50-0-50-100'],\n",
       "       ['amap07', 'C7L-C6L', '50-0-50-100'],\n",
       "       ['amap08', 'C7L-C6L', '50-0-50-100']], dtype='<U11')"
      ]
     },
     "execution_count": 76,
     "metadata": {},
     "output_type": "execute_result"
    }
   ],
   "source": [
    "np.take_along_axis(t, ind, axis=0)"
   ]
  },
  {
   "cell_type": "code",
   "execution_count": null,
   "metadata": {},
   "outputs": [
    {
     "data": {
      "text/plain": [
       "array(['A', 'B', 'C', 'D'], dtype='<U1')"
      ]
     },
     "execution_count": 67,
     "metadata": {},
     "output_type": "execute_result"
    }
   ],
   "source": [
    "t[np.matrix.argsort(t, axis=0)]"
   ]
  },
  {
   "cell_type": "code",
   "execution_count": null,
   "metadata": {},
   "outputs": [
    {
     "data": {
      "text/plain": [
       "array([1, 2, 0, 3])"
      ]
     },
     "execution_count": 61,
     "metadata": {},
     "output_type": "execute_result"
    }
   ],
   "source": [
    "t = np.array([\"C\", \"A\", \"B\", \"D\"])\n",
    "\n",
    "np.argsort(t)"
   ]
  },
  {
   "cell_type": "code",
   "execution_count": null,
   "metadata": {},
   "outputs": [
    {
     "data": {
      "text/plain": [
       "array(['A', 'B', 'C', 'D'], dtype='<U1')"
      ]
     },
     "execution_count": 62,
     "metadata": {},
     "output_type": "execute_result"
    }
   ],
   "source": [
    "np.sort(t)"
   ]
  },
  {
   "cell_type": "code",
   "execution_count": null,
   "metadata": {},
   "outputs": [
    {
     "data": {
      "text/plain": [
       "array(['A', 'B', 'C', 'D'], dtype='<U1')"
      ]
     },
     "execution_count": 63,
     "metadata": {},
     "output_type": "execute_result"
    }
   ],
   "source": [
    "t[np.argsort(t)]"
   ]
  },
  {
   "cell_type": "code",
   "execution_count": null,
   "metadata": {},
   "outputs": [
    {
     "data": {
      "text/plain": [
       "array([['amap04', 'C7L-C6L', '50-0-50-100'],\n",
       "       ['amap05', 'C7L-C6L', '50-0-50-100'],\n",
       "       ['amap06', 'C7L-C6L', '50-0-50-100'],\n",
       "       ['amap07', 'C7L-C6L', '50-0-50-100'],\n",
       "       ['amap08', 'C7L-C6L', '50-0-50-100']], dtype='<U11')"
      ]
     },
     "execution_count": 47,
     "metadata": {},
     "output_type": "execute_result"
    }
   ],
   "source": [
    "np.sort(np.array(combinations_no_response)[C76m], axis=0)\n"
   ]
  },
  {
   "cell_type": "code",
   "execution_count": null,
   "metadata": {},
   "outputs": [
    {
     "data": {
      "text/plain": [
       "(5, 6)"
      ]
     },
     "execution_count": 22,
     "metadata": {},
     "output_type": "execute_result"
    }
   ],
   "source": [
    "caud = arr[:,C76m,:].mean(axis = 0)\n",
    "caud.shape"
   ]
  },
  {
   "cell_type": "code",
   "execution_count": null,
   "metadata": {},
   "outputs": [
    {
     "data": {
      "text/plain": [
       "array([['50-0-50-100', 'C7L-C6L', 'amap08'],\n",
       "       ['50-0-50-100', 'C7L-C6L', 'amap06'],\n",
       "       ['50-0-50-100', 'C7L-C6L', 'amap04'],\n",
       "       ['50-0-50-100', 'C7L-C6L', 'amap05'],\n",
       "       ['50-0-50-100', 'C7L-C6L', 'amap07']], dtype='<U11')"
      ]
     },
     "execution_count": 32,
     "metadata": {},
     "output_type": "execute_result"
    }
   ],
   "source": [
    "np.sort(np.array(combinations_no_response)[C76m])\n"
   ]
  },
  {
   "cell_type": "code",
   "execution_count": null,
   "metadata": {},
   "outputs": [
    {
     "data": {
      "text/plain": [
       "(30,)"
      ]
     },
     "execution_count": 28,
     "metadata": {},
     "output_type": "execute_result"
    }
   ],
   "source": [
    "rost.shape"
   ]
  },
  {
   "cell_type": "code",
   "execution_count": null,
   "metadata": {},
   "outputs": [
    {
     "data": {
      "text/plain": [
       "array([['amap04', 'C6L-C7L', '50-0-50-100'],\n",
       "       ['amap05', 'C6L-C7L', '50-0-50-100'],\n",
       "       ['amap06', 'C6L-C7L', '50-0-50-100'],\n",
       "       ['amap07', 'C6L-C7L', '50-0-50-100'],\n",
       "       ['amap08', 'C6L-C7L', '50-0-50-100']], dtype='<U11')"
      ]
     },
     "execution_count": 89,
     "metadata": {},
     "output_type": "execute_result"
    }
   ],
   "source": [
    "rost_combinations[rost_ind[..., 0], :]"
   ]
  },
  {
   "cell_type": "code",
   "execution_count": null,
   "metadata": {},
   "outputs": [],
   "source": [
    "db = {}\n",
    "\n",
    "db['C67b'] = np.array([bool(re.search(r'50-0-50-0', s[2]) and (\"C6\" in s[1].split(\"-\")[0][0:] and \"C7\" in s[1].split(\"-\")[1][0:])) for s in combinations_no_response])\n",
    "db['C76b'] = np.array([bool(re.search(r'50-0-50-0', s[2]) and (\"C7\" in s[1].split(\"-\")[0][0:] and \"C6\" in s[1].split(\"-\")[1][0:])) for s in combinations_no_response])\n",
    "\n",
    "db['C78b'] = np.array([bool(re.search(r'50-0-50-0', s[2]) and (\"C7\" in s[1].split(\"-\")[0][0:] and \"C8\" in s[1].split(\"-\")[1][0:])) for s in combinations_no_response])\n",
    "db['C87b'] = np.array([bool(re.search(r'50-0-50-0', s[2]) and (\"C8\" in s[1].split(\"-\")[0][0:] and \"C7\" in s[1].split(\"-\")[1][0:])) for s in combinations_no_response])\n",
    "\n",
    "db['C67m'] = np.array([bool(re.search(r'50-0-50-100', s[2]) and (\"C6\" in s[1].split(\"-\")[0][0:] and \"C7\" in s[1].split(\"-\")[1][0:])) for s in combinations_no_response])\n",
    "db['C76m'] = np.array([bool(re.search(r'50-0-50-100', s[2]) and (\"C7\" in s[1].split(\"-\")[0][0:] and \"C6\" in s[1].split(\"-\")[1][0:])) for s in combinations_no_response])\n",
    "\n",
    "db['C78m'] = np.array([bool(re.search(r'50-0-50-100', s[2]) and (\"C7\" in s[1].split(\"-\")[0][0:] and \"C8\" in s[1].split(\"-\")[1][0:])) for s in combinations_no_response])\n",
    "db['C87m'] = np.array([bool(re.search(r'50-0-50-100', s[2]) and (\"C8\" in s[1].split(\"-\")[0][0:] and \"C7\" in s[1].split(\"-\")[1][0:])) for s in combinations_no_response])\n",
    "\n",
    "db['C67p80'] = np.array([bool(re.search(r'80-0-20-400', s[2]) and (\"C6\" in s[1].split(\"-\")[0][0:] and \"C7\" in s[1].split(\"-\")[1][0:])) for s in combinations_no_response])\n",
    "db['C76p80'] = np.array([bool(re.search(r'80-0-20-400', s[2]) and (\"C7\" in s[1].split(\"-\")[0][0:] and \"C6\" in s[1].split(\"-\")[1][0:])) for s in combinations_no_response])\n",
    "\n",
    "db['C78p80'] = np.array([bool(re.search(r'80-0-20-400', s[2]) and (\"C7\" in s[1].split(\"-\")[0][0:] and \"C8\" in s[1].split(\"-\")[1][0:])) for s in combinations_no_response])\n",
    "db['C87p80'] = np.array([bool(re.search(r'80-0-20-400', s[2]) and (\"C8\" in s[1].split(\"-\")[0][0:] and \"C7\" in s[1].split(\"-\")[1][0:])) for s in combinations_no_response])\n",
    "\n",
    "db['C67p20'] = np.array([bool(re.search(r'20-0-80-25', s[2]) and (\"C6\" in s[1].split(\"-\")[0][0:] and \"C7\" in s[1].split(\"-\")[1][0:])) for s in combinations_no_response])\n",
    "db['C76p20'] = np.array([bool(re.search(r'20-0-80-25', s[2]) and (\"C7\" in s[1].split(\"-\")[0][0:] and \"C6\" in s[1].split(\"-\")[1][0:])) for s in combinations_no_response])\n",
    "\n",
    "db['C78p20'] = np.array([bool(re.search(r'20-0-80-25', s[2]) and (\"C7\" in s[1].split(\"-\")[0][0:] and \"C8\" in s[1].split(\"-\")[1][0:])) for s in combinations_no_response])\n",
    "db['C87p20'] = np.array([bool(re.search(r'20-0-80-25', s[2]) and (\"C8\" in s[1].split(\"-\")[0][0:] and \"C7\" in s[1].split(\"-\")[1][0:])) for s in combinations_no_response])"
   ]
  },
  {
   "cell_type": "code",
   "execution_count": null,
   "metadata": {},
   "outputs": [],
   "source": [
    "#L vs M\n",
    "db['C67b'] = np.array([bool(re.search(r'50-0-50-0', s[2]) and (s[1].split(\"-\")[0][0:] < s[1].split(\"-\")[1][0:])) for s in combinations_no_response])\n"
   ]
  },
  {
   "cell_type": "code",
   "execution_count": 40,
   "metadata": {},
   "outputs": [
    {
     "data": {
      "text/plain": [
       "True"
      ]
     },
     "execution_count": 40,
     "metadata": {},
     "output_type": "execute_result"
    }
   ],
   "source": [
    "\"C5M\" < \"C6L\" "
   ]
  },
  {
   "cell_type": "code",
   "execution_count": null,
   "metadata": {},
   "outputs": [
    {
     "data": {
      "text/plain": [
       "(5, 6)"
      ]
     },
     "execution_count": 40,
     "metadata": {},
     "output_type": "execute_result"
    }
   ],
   "source": [
    "rost = arr[:,db['C76m'],:].mean(axis = 0)\n",
    "rost.shape"
   ]
  },
  {
   "cell_type": "code",
   "execution_count": null,
   "metadata": {},
   "outputs": [],
   "source": [
    "tlist = []\n",
    "\n",
    "for k, v in db.items(): \n",
    "    for k1, v1 in db.items():\n",
    "        rost = arr[:,v,:].mean(axis = 0)\n",
    "        caud = arr[:,v1,:].mean(axis = 0)\n",
    "        # print(k, rost.shape, caud.shape, k[3:] == k1[3:])\n",
    "        if (rost.shape == caud.shape) and (k[3:] == k1[3:] and k!= k1):\n",
    "            # print(k, k1)\n",
    "            temp1_combinations = np.array(combinations_no_response)[v]\n",
    "            temp1_ind = np.argsort(temp1_combinations, axis=0)\n",
    "            rost = rost[temp1_ind[:, 0], :]\n",
    "\n",
    "            temp_combinations = np.array(combinations_no_response)[v1]\n",
    "            temp_ind = np.argsort(temp_combinations, axis=0)\n",
    "            caud = caud[temp_ind[:, 0], :]\n",
    "\n",
    "            rost = rost.reshape(-1,)\n",
    "            caud = caud.reshape(-1,)\n",
    "            a = stats.ttest_rel(rost,caud, alternative=\"less\")\n",
    "            tlist.append(f\"The p value for {k} vs {k1} is {a.pvalue}\")\n",
    "        else: continue\n"
   ]
  },
  {
   "cell_type": "code",
   "execution_count": null,
   "metadata": {},
   "outputs": [
    {
     "data": {
      "text/plain": [
       "['The p value for C67b vs C76b is 0.4203729359673106',\n",
       " 'The p value for C76b vs C67b is 0.5796270640326894',\n",
       " 'The p value for C78b vs C87b is 0.964256564673948',\n",
       " 'The p value for C87b vs C78b is 0.03574343532605192',\n",
       " 'The p value for C67m vs C76m is 0.9418045017055068',\n",
       " 'The p value for C76m vs C67m is 0.058195498294493206',\n",
       " 'The p value for C78m vs C87m is 0.00033960400336569447',\n",
       " 'The p value for C87m vs C78m is 0.9996603959966344',\n",
       " 'The p value for C67p80 vs C76p80 is 0.9644580424533974',\n",
       " 'The p value for C76p80 vs C67p80 is 0.03554195754660254',\n",
       " 'The p value for C78p80 vs C87p80 is 0.0018929713203402383',\n",
       " 'The p value for C87p80 vs C78p80 is 0.9981070286796597',\n",
       " 'The p value for C67p20 vs C76p20 is 0.13975131480136166',\n",
       " 'The p value for C76p20 vs C67p20 is 0.8602486851986384',\n",
       " 'The p value for C78p20 vs C87p20 is 0.9499706323692025',\n",
       " 'The p value for C87p20 vs C78p20 is 0.050029367630797475']"
      ]
     },
     "execution_count": 70,
     "metadata": {},
     "output_type": "execute_result"
    }
   ],
   "source": [
    "tlist"
   ]
  },
  {
   "cell_type": "code",
   "execution_count": null,
   "metadata": {},
   "outputs": [
    {
     "ename": "NameError",
     "evalue": "name 'rost' is not defined",
     "output_type": "error",
     "traceback": [
      "\u001b[0;31m---------------------------------------------------------------------------\u001b[0m",
      "\u001b[0;31mNameError\u001b[0m                                 Traceback (most recent call last)",
      "Cell \u001b[0;32mIn[24], line 1\u001b[0m\n\u001b[0;32m----> 1\u001b[0m a \u001b[38;5;241m=\u001b[39m stats\u001b[38;5;241m.\u001b[39mttest_rel(\u001b[43mrost\u001b[49m,caud, alternative\u001b[38;5;241m=\u001b[39m\u001b[38;5;124m\"\u001b[39m\u001b[38;5;124mless\u001b[39m\u001b[38;5;124m\"\u001b[39m)\n\u001b[1;32m      2\u001b[0m a\u001b[38;5;241m.\u001b[39mpvalue\n",
      "\u001b[0;31mNameError\u001b[0m: name 'rost' is not defined"
     ]
    }
   ],
   "source": [
    "a = stats.ttest_rel(rost,caud, alternative=\"less\")\n",
    "a.pvalue\n"
   ]
  },
  {
   "cell_type": "markdown",
   "metadata": {},
   "source": [
    "## Ground "
   ]
  },
  {
   "cell_type": "code",
   "execution_count": null,
   "metadata": {},
   "outputs": [],
   "source": [
    "mybool = {}\n",
    "mybool[('ground - position mono')] = np.array([bool(s[1].split(\"-\")[0][2:] == \"\" and re.search(r'50-0-50-0', s[2])) for s in combinations_no_response])\n",
    "mybool[('position - ground mono')] = np.array([bool(s[1].split(\"-\")[1][2:] == \"\" and re.search(r'50-0-50-0', s[2])) for s in combinations_no_response])\n",
    "\n",
    "mybool[('ground - position p20')] = np.array([bool(s[1].split(\"-\")[0][2:] == \"\" and re.search(r'20-0-80-25', s[2])) for s in combinations_no_response])\n",
    "mybool[('position - ground p20')] = np.array([bool(s[1].split(\"-\")[1][2:] == \"\" and re.search(r'20-0-80-25', s[2])) for s in combinations_no_response])\n",
    "\n",
    "mybool[('ground - position p80')] = np.array([bool(s[1].split(\"-\")[0][2:] == \"\" and re.search(r'80-0-20-400', s[2])) for s in combinations_no_response])\n",
    "mybool[('position - ground p80')] = np.array([bool(s[1].split(\"-\")[1][2:] == \"\" and re.search(r'80-0-20-400', s[2])) for s in combinations_no_response])\n",
    "\n",
    "mybool[('ground - position bip')] = np.array([bool(s[1].split(\"-\")[0][2:] == \"\" and re.search(r'50-0-50-100', s[2])) for s in combinations_no_response])\n",
    "mybool[('position - ground bip')] = np.array([bool(s[1].split(\"-\")[1][2:] == \"\" and re.search(r'50-0-50-100', s[2])) for s in combinations_no_response])"
   ]
  },
  {
   "cell_type": "code",
   "execution_count": 37,
   "metadata": {},
   "outputs": [
    {
     "data": {
      "text/plain": [
       "{'-C6L',\n",
       " '-C7L',\n",
       " '-C8L',\n",
       " 'C6L-',\n",
       " 'C6L-C6M',\n",
       " 'C6L-C7L',\n",
       " 'C6M-C6L',\n",
       " 'C7L-',\n",
       " 'C7L-C6L',\n",
       " 'C7L-C7M',\n",
       " 'C7L-C8L',\n",
       " 'C7M-C7L',\n",
       " 'C8L-',\n",
       " 'C8L-C7L',\n",
       " 'C8L-C8M',\n",
       " 'C8M-C8L'}"
      ]
     },
     "execution_count": 37,
     "metadata": {},
     "output_type": "execute_result"
    }
   ],
   "source": [
    "l = set(k[1] for k in combo.keys())\n",
    "l"
   ]
  },
  {
   "cell_type": "code",
   "execution_count": null,
   "metadata": {},
   "outputs": [],
   "source": [
    "gvalue = []\n",
    "for b,v in mybool.items():\n",
    "    for b1, v1 in mybool.items():\n",
    "        A = arr[:,v,:].mean(axis = 0).reshape(-1,)\n",
    "        B = arr[:,v1,:].mean(axis = 0).reshape(-1,)\n",
    "        tbvs, pbvs = stats.ttest_ind(B,A, alternative=\"less\")\n",
    "        if pbvs < 0.05:\n",
    "            gvalue.append(f\"{b1} is more effective than {b} (p = {pbvs})\")\n",
    "        else: gvalue.append(f\"No significant difference for {b1} vs {b} (p = {pbvs})\")"
   ]
  },
  {
   "cell_type": "code",
   "execution_count": null,
   "metadata": {},
   "outputs": [
    {
     "data": {
      "text/plain": [
       "['No significant difference for ground - position mono vs ground - position mono (p = 0.5)',\n",
       " 'No significant difference for position - ground mono vs ground - position mono (p = 0.9999999999999388)',\n",
       " 'No significant difference for ground - position p20 vs ground - position mono (p = 0.5524870400308437)',\n",
       " 'No significant difference for position - ground p20 vs ground - position mono (p = 0.9999999999972042)',\n",
       " 'No significant difference for ground - position p80 vs ground - position mono (p = 0.9999996434502291)',\n",
       " 'No significant difference for position - ground p80 vs ground - position mono (p = 0.42577787404621154)',\n",
       " 'No significant difference for ground - position bip vs ground - position mono (p = 0.8182051477061763)',\n",
       " 'No significant difference for position - ground bip vs ground - position mono (p = 0.5771767024003044)',\n",
       " 'ground - position mono is more effective than position - ground mono (p = 6.115689694642182e-14)',\n",
       " 'No significant difference for position - ground mono vs position - ground mono (p = 0.5)',\n",
       " 'ground - position p20 is more effective than position - ground mono (p = 3.095417482025152e-13)',\n",
       " 'No significant difference for position - ground p20 vs position - ground mono (p = 0.6099876965815767)',\n",
       " 'ground - position p80 is more effective than position - ground mono (p = 0.009757952904319887)',\n",
       " 'position - ground p80 is more effective than position - ground mono (p = 2.6176810917415756e-14)',\n",
       " 'ground - position bip is more effective than position - ground mono (p = 6.845375487027912e-11)',\n",
       " 'position - ground bip is more effective than position - ground mono (p = 7.755936393583439e-13)',\n",
       " 'No significant difference for ground - position mono vs ground - position p20 (p = 0.44751295996915635)',\n",
       " 'No significant difference for position - ground mono vs ground - position p20 (p = 0.9999999999996905)',\n",
       " 'No significant difference for ground - position p20 vs ground - position p20 (p = 0.5)',\n",
       " 'No significant difference for position - ground p20 vs ground - position p20 (p = 0.9999999999903451)',\n",
       " 'No significant difference for ground - position p80 vs ground - position p20 (p = 0.9999990920937952)',\n",
       " 'No significant difference for position - ground p80 vs ground - position p20 (p = 0.3765815429766503)',\n",
       " 'No significant difference for ground - position bip vs ground - position p20 (p = 0.7781540781720677)',\n",
       " 'No significant difference for position - ground bip vs ground - position p20 (p = 0.5252423718734721)',\n",
       " 'ground - position mono is more effective than position - ground p20 (p = 2.7957656680980614e-12)',\n",
       " 'No significant difference for position - ground mono vs position - ground p20 (p = 0.3900123034184233)',\n",
       " 'ground - position p20 is more effective than position - ground p20 (p = 9.65496579243683e-12)',\n",
       " 'No significant difference for position - ground p20 vs position - ground p20 (p = 0.5)',\n",
       " 'ground - position p80 is more effective than position - ground p20 (p = 0.008771744285391084)',\n",
       " 'position - ground p80 is more effective than position - ground p20 (p = 1.3165386408153354e-12)',\n",
       " 'ground - position bip is more effective than position - ground p20 (p = 8.173502925564796e-10)',\n",
       " 'position - ground bip is more effective than position - ground p20 (p = 1.9398634219809378e-11)',\n",
       " 'ground - position mono is more effective than ground - position p80 (p = 3.5654977089956435e-07)',\n",
       " 'No significant difference for position - ground mono vs ground - position p80 (p = 0.9902420470956801)',\n",
       " 'ground - position p20 is more effective than ground - position p80 (p = 9.079062047396681e-07)',\n",
       " 'No significant difference for position - ground p20 vs ground - position p80 (p = 0.9912282557146089)',\n",
       " 'No significant difference for ground - position p80 vs ground - position p80 (p = 0.5)',\n",
       " 'position - ground p80 is more effective than ground - position p80 (p = 1.7955154026118543e-07)',\n",
       " 'ground - position bip is more effective than ground - position p80 (p = 2.9657045268880394e-05)',\n",
       " 'position - ground bip is more effective than ground - position p80 (p = 1.5072298340827917e-06)',\n",
       " 'No significant difference for ground - position mono vs position - ground p80 (p = 0.5742221259537884)',\n",
       " 'No significant difference for position - ground mono vs position - ground p80 (p = 0.9999999999999738)',\n",
       " 'No significant difference for ground - position p20 vs position - ground p80 (p = 0.6234184570233496)',\n",
       " 'No significant difference for position - ground p20 vs position - ground p80 (p = 0.9999999999986835)',\n",
       " 'No significant difference for ground - position p80 vs position - ground p80 (p = 0.9999998204484597)',\n",
       " 'No significant difference for position - ground p80 vs position - ground p80 (p = 0.5)',\n",
       " 'No significant difference for ground - position bip vs position - ground p80 (p = 0.8602465809226945)',\n",
       " 'No significant difference for position - ground bip vs position - ground p80 (p = 0.6459241212855253)',\n",
       " 'No significant difference for ground - position mono vs ground - position bip (p = 0.1817948522938238)',\n",
       " 'No significant difference for position - ground mono vs ground - position bip (p = 0.9999999999315463)',\n",
       " 'No significant difference for ground - position p20 vs ground - position bip (p = 0.22184592182793228)',\n",
       " 'No significant difference for position - ground p20 vs ground - position bip (p = 0.9999999991826497)',\n",
       " 'No significant difference for ground - position p80 vs ground - position bip (p = 0.9999703429547311)',\n",
       " 'No significant difference for position - ground p80 vs ground - position bip (p = 0.13975341907730557)',\n",
       " 'No significant difference for ground - position bip vs ground - position bip (p = 0.5)',\n",
       " 'No significant difference for position - ground bip vs ground - position bip (p = 0.24358996593503746)',\n",
       " 'No significant difference for ground - position mono vs position - ground bip (p = 0.4228232975996956)',\n",
       " 'No significant difference for position - ground mono vs position - ground bip (p = 0.9999999999992244)',\n",
       " 'No significant difference for ground - position p20 vs position - ground bip (p = 0.4747576281265279)',\n",
       " 'No significant difference for position - ground p20 vs position - ground bip (p = 0.9999999999806014)',\n",
       " 'No significant difference for ground - position p80 vs position - ground bip (p = 0.999998492770166)',\n",
       " 'No significant difference for position - ground p80 vs position - ground bip (p = 0.35407587871447477)',\n",
       " 'No significant difference for ground - position bip vs position - ground bip (p = 0.7564100340649625)',\n",
       " 'No significant difference for position - ground bip vs position - ground bip (p = 0.5)']"
      ]
     },
     "execution_count": 31,
     "metadata": {},
     "output_type": "execute_result"
    }
   ],
   "source": [
    "gvalue"
   ]
  },
  {
   "cell_type": "markdown",
   "metadata": {},
   "source": [
    "## Plotting Data"
   ]
  },
  {
   "cell_type": "code",
   "execution_count": 44,
   "metadata": {},
   "outputs": [],
   "source": [
    "diplot = {}\n",
    "\n",
    "diplot[('L-M pmono20')] = np.array([bool(re.search(r'20-0-80-25', s[2]) and s[1].split(\"-\")[0][2:] == \"L\" and s[1].split(\"-\")[1][2:] == \"M\") for s in combinations_no_response])\n",
    "diplot[('L-M pmono80')] = np.array([bool(re.search(r'80-0-20-400', s[2])and s[1].split(\"-\")[0][2:] == \"L\" and s[1].split(\"-\")[1][2:] == \"M\") for s in combinations_no_response])\n",
    "diplot[('L-M bip')] = np.array([bool(re.search(r'50-0-50-100', s[2])and s[1].split(\"-\")[0][2:] == \"L\" and s[1].split(\"-\")[1][2:] == \"M\") for s in combinations_no_response])\n",
    "diplot[('L-M mono')] = np.array([bool(re.search(r'50-0-50-0', s[2])and s[1].split(\"-\")[0][2:] == \"L\" and s[1].split(\"-\")[1][2:] == \"M\") for s in combinations_no_response])\n",
    "\n",
    "diplot[('M-L pmono20')] = np.array([bool(re.search(r'20-0-80-25', s[2]) and s[1].split(\"-\")[1][2:] == \"L\" and s[1].split(\"-\")[0][2:] == \"M\") for s in combinations_no_response])\n",
    "diplot[('M-L pmono80')] = np.array([bool(re.search(r'80-0-20-400', s[2])and s[1].split(\"-\")[1][2:] == \"L\" and s[1].split(\"-\")[0][2:] == \"M\") for s in combinations_no_response])\n",
    "diplot[('M-L bip')] = np.array([bool(re.search(r'50-0-50-100', s[2])and s[1].split(\"-\")[1][2:] == \"L\" and s[1].split(\"-\")[0][2:] == \"M\") for s in combinations_no_response])\n",
    "diplot[('M-L mono')] = np.array([bool(re.search(r'50-0-50-0', s[2])and s[1].split(\"-\")[1][2:] == \"L\" and s[1].split(\"-\")[0][2:] == \"M\") for s in combinations_no_response])\n",
    "\n",
    "diplot[('ground - position mono')] = np.array([bool(s[1].split(\"-\")[0][2:] == \"\" and re.search(r'50-0-50-0', s[2])) for s in combinations_no_response])\n",
    "diplot[('position - ground mono')] = np.array([bool(s[1].split(\"-\")[1][2:] == \"\" and re.search(r'50-0-50-0', s[2])) for s in combinations_no_response])\n",
    "\n",
    "diplot[('ground - position p20')] = np.array([bool(s[1].split(\"-\")[0][2:] == \"\" and re.search(r'20-0-80-25', s[2])) for s in combinations_no_response])\n",
    "diplot[('position - ground p20')] = np.array([bool(s[1].split(\"-\")[1][2:] == \"\" and re.search(r'20-0-80-25', s[2])) for s in combinations_no_response])\n",
    "\n",
    "diplot[('ground - position p80')] = np.array([bool(s[1].split(\"-\")[0][2:] == \"\" and re.search(r'80-0-20-400', s[2])) for s in combinations_no_response])\n",
    "diplot[('position - ground p80')] = np.array([bool(s[1].split(\"-\")[1][2:] == \"\" and re.search(r'80-0-20-400', s[2])) for s in combinations_no_response])\n",
    "\n",
    "diplot[('ground - position bip')] = np.array([bool(s[1].split(\"-\")[0][2:] == \"\" and re.search(r'50-0-50-100', s[2])) for s in combinations_no_response])\n",
    "diplot[('position - ground bip')] = np.array([bool(s[1].split(\"-\")[1][2:] == \"\" and re.search(r'50-0-50-100', s[2])) for s in combinations_no_response])\n",
    "\n",
    "diplot['R-C mono'] = np.array([bool(re.search(r'50-0-50-0', s[2]) and (s[1].split(\"-\")[0][0:] < s[1].split(\"-\")[1][0:])) for s in combinations_no_response])\n",
    "diplot['R-C bip'] = np.array([bool(re.search(r'50-0-50-100', s[2]) and (s[1].split(\"-\")[0][0:] < s[1].split(\"-\")[1][0:])) for s in combinations_no_response])\n",
    "diplot['R-C pmono20'] = np.array([bool(re.search(r'20-0-80-25', s[2]) and (s[1].split(\"-\")[0][0:] < s[1].split(\"-\")[1][0:])) for s in combinations_no_response])\n",
    "diplot['R-C pmono80'] = np.array([bool(re.search(r'80-0-20-400', s[2]) and (s[1].split(\"-\")[0][0:] < s[1].split(\"-\")[1][0:])) for s in combinations_no_response])\n",
    "\n",
    "diplot['C-R mono'] = np.array([bool(re.search(r'50-0-50-0', s[2]) and (s[1].split(\"-\")[0][0:] > s[1].split(\"-\")[1][0:])) for s in combinations_no_response])\n",
    "diplot['C-R bip'] = np.array([bool(re.search(r'50-0-50-100', s[2]) and (s[1].split(\"-\")[0][0:] > s[1].split(\"-\")[1][0:])) for s in combinations_no_response])\n",
    "diplot['C-R pmono20'] = np.array([bool(re.search(r'20-0-80-25', s[2]) and (s[1].split(\"-\")[0][0:] > s[1].split(\"-\")[1][0:])) for s in combinations_no_response])\n",
    "diplot['C-R pmono80'] = np.array([bool(re.search(r'80-0-20-400', s[2]) and (s[1].split(\"-\")[0][0:] > s[1].split(\"-\")[1][0:])) for s in combinations_no_response])\n"
   ]
  },
  {
   "cell_type": "code",
   "execution_count": 74,
   "metadata": {},
   "outputs": [],
   "source": [
    "my_plotdict = {}\n",
    "for k, v in diplot.items():\n",
    "    my_plotdict[k] = arr[:,v,:].mean(axis=0).reshape(-1)"
   ]
  },
  {
   "cell_type": "code",
   "execution_count": 85,
   "metadata": {},
   "outputs": [
    {
     "data": {
      "text/plain": [
       "dict_keys(['L-M pmono20', 'L-M pmono80', 'L-M bip', 'L-M mono', 'M-L pmono20', 'M-L pmono80', 'M-L bip', 'M-L mono', 'ground - position mono', 'position - ground mono', 'ground - position p20', 'position - ground p20', 'ground - position p80', 'position - ground p80', 'ground - position bip', 'position - ground bip', 'R-C mono', 'R-C bip', 'R-C pmono20', 'R-C pmono80', 'C-R mono', 'C-R bip', 'C-R pmono20', 'C-R pmono80'])"
      ]
     },
     "execution_count": 85,
     "metadata": {},
     "output_type": "execute_result"
    }
   ],
   "source": [
    "my_plotdict.keys()"
   ]
  },
  {
   "cell_type": "code",
   "execution_count": 119,
   "metadata": {},
   "outputs": [],
   "source": [
    "x = ['Rostral vs Caudal', 'Ground Position', 'Lateral vs Medial']\n",
    "\n",
    "yrc = []\n",
    "ygp = []\n",
    "ylm = []\n",
    "y=[yrc, ygp, ylm]\n",
    "\n",
    "for k, v in my_plotdict.items():\n",
    "    if \"L\" in k:\n",
    "        v = v.mean()\n",
    "        ylm.append(v)\n",
    "    elif \"R\" in k:\n",
    "        v = v.mean()\n",
    "        yrc.append(v)\n",
    "    elif \"ground\" in k:\n",
    "        v = v.mean()\n",
    "        ygp.append(v)\n",
    "    else: continue\n",
    "\n",
    "df = pd.DataFrame(list(zip(x, y)),\n",
    "               columns =['Name', 'val'])"
   ]
  },
  {
   "cell_type": "code",
   "execution_count": 120,
   "metadata": {},
   "outputs": [
    {
     "data": {
      "text/html": [
       "<div>\n",
       "<style scoped>\n",
       "    .dataframe tbody tr th:only-of-type {\n",
       "        vertical-align: middle;\n",
       "    }\n",
       "\n",
       "    .dataframe tbody tr th {\n",
       "        vertical-align: top;\n",
       "    }\n",
       "\n",
       "    .dataframe thead th {\n",
       "        text-align: right;\n",
       "    }\n",
       "</style>\n",
       "<table border=\"1\" class=\"dataframe\">\n",
       "  <thead>\n",
       "    <tr style=\"text-align: right;\">\n",
       "      <th></th>\n",
       "      <th>Name</th>\n",
       "      <th>val</th>\n",
       "    </tr>\n",
       "  </thead>\n",
       "  <tbody>\n",
       "    <tr>\n",
       "      <th>0</th>\n",
       "      <td>Rostral vs Caudal</td>\n",
       "      <td>[163.81516150041188, 154.80783514944113, 159.6...</td>\n",
       "    </tr>\n",
       "    <tr>\n",
       "      <th>1</th>\n",
       "      <td>Ground Position</td>\n",
       "      <td>[142.725186865306, 264.9952665955407, 144.6358...</td>\n",
       "    </tr>\n",
       "    <tr>\n",
       "      <th>2</th>\n",
       "      <td>Lateral vs Medial</td>\n",
       "      <td>[187.2012449903469, 179.60953944164476, 171.43...</td>\n",
       "    </tr>\n",
       "  </tbody>\n",
       "</table>\n",
       "</div>"
      ],
      "text/plain": [
       "                Name                                                val\n",
       "0  Rostral vs Caudal  [163.81516150041188, 154.80783514944113, 159.6...\n",
       "1    Ground Position  [142.725186865306, 264.9952665955407, 144.6358...\n",
       "2  Lateral vs Medial  [187.2012449903469, 179.60953944164476, 171.43..."
      ]
     },
     "execution_count": 120,
     "metadata": {},
     "output_type": "execute_result"
    }
   ],
   "source": []
  },
  {
   "cell_type": "code",
   "execution_count": 121,
   "metadata": {},
   "outputs": [],
   "source": [
    "type = [\"Rostral vs Caudal\" for _ in  range(len(yrc))] + [\"Ground Position\" for _ in  range(len(ygp))] + [\"Lateral vs Medial\" for _ in  range(len(ylm))]\n",
    "vals = yrc + ygp + ylm\n",
    "\n",
    "df = pd.DataFrame(list(zip(type, vals)),\n",
    "               columns =['Name', 'val'])"
   ]
  },
  {
   "cell_type": "code",
   "execution_count": 122,
   "metadata": {},
   "outputs": [
    {
     "data": {
      "text/html": [
       "<div>\n",
       "<style scoped>\n",
       "    .dataframe tbody tr th:only-of-type {\n",
       "        vertical-align: middle;\n",
       "    }\n",
       "\n",
       "    .dataframe tbody tr th {\n",
       "        vertical-align: top;\n",
       "    }\n",
       "\n",
       "    .dataframe thead th {\n",
       "        text-align: right;\n",
       "    }\n",
       "</style>\n",
       "<table border=\"1\" class=\"dataframe\">\n",
       "  <thead>\n",
       "    <tr style=\"text-align: right;\">\n",
       "      <th></th>\n",
       "      <th>Name</th>\n",
       "      <th>val</th>\n",
       "    </tr>\n",
       "  </thead>\n",
       "  <tbody>\n",
       "    <tr>\n",
       "      <th>0</th>\n",
       "      <td>Rostral vs Caudal</td>\n",
       "      <td>163.815162</td>\n",
       "    </tr>\n",
       "    <tr>\n",
       "      <th>1</th>\n",
       "      <td>Rostral vs Caudal</td>\n",
       "      <td>154.807835</td>\n",
       "    </tr>\n",
       "    <tr>\n",
       "      <th>2</th>\n",
       "      <td>Rostral vs Caudal</td>\n",
       "      <td>159.641125</td>\n",
       "    </tr>\n",
       "    <tr>\n",
       "      <th>3</th>\n",
       "      <td>Rostral vs Caudal</td>\n",
       "      <td>185.517177</td>\n",
       "    </tr>\n",
       "    <tr>\n",
       "      <th>4</th>\n",
       "      <td>Rostral vs Caudal</td>\n",
       "      <td>223.162297</td>\n",
       "    </tr>\n",
       "    <tr>\n",
       "      <th>5</th>\n",
       "      <td>Rostral vs Caudal</td>\n",
       "      <td>150.067799</td>\n",
       "    </tr>\n",
       "    <tr>\n",
       "      <th>6</th>\n",
       "      <td>Rostral vs Caudal</td>\n",
       "      <td>217.403293</td>\n",
       "    </tr>\n",
       "    <tr>\n",
       "      <th>7</th>\n",
       "      <td>Rostral vs Caudal</td>\n",
       "      <td>160.252974</td>\n",
       "    </tr>\n",
       "    <tr>\n",
       "      <th>8</th>\n",
       "      <td>Ground Position</td>\n",
       "      <td>142.725187</td>\n",
       "    </tr>\n",
       "    <tr>\n",
       "      <th>9</th>\n",
       "      <td>Ground Position</td>\n",
       "      <td>264.995267</td>\n",
       "    </tr>\n",
       "    <tr>\n",
       "      <th>10</th>\n",
       "      <td>Ground Position</td>\n",
       "      <td>144.635891</td>\n",
       "    </tr>\n",
       "    <tr>\n",
       "      <th>11</th>\n",
       "      <td>Ground Position</td>\n",
       "      <td>270.102957</td>\n",
       "    </tr>\n",
       "    <tr>\n",
       "      <th>12</th>\n",
       "      <td>Ground Position</td>\n",
       "      <td>224.881310</td>\n",
       "    </tr>\n",
       "    <tr>\n",
       "      <th>13</th>\n",
       "      <td>Ground Position</td>\n",
       "      <td>140.059611</td>\n",
       "    </tr>\n",
       "    <tr>\n",
       "      <th>14</th>\n",
       "      <td>Ground Position</td>\n",
       "      <td>156.309042</td>\n",
       "    </tr>\n",
       "    <tr>\n",
       "      <th>15</th>\n",
       "      <td>Ground Position</td>\n",
       "      <td>145.584722</td>\n",
       "    </tr>\n",
       "    <tr>\n",
       "      <th>16</th>\n",
       "      <td>Lateral vs Medial</td>\n",
       "      <td>187.201245</td>\n",
       "    </tr>\n",
       "    <tr>\n",
       "      <th>17</th>\n",
       "      <td>Lateral vs Medial</td>\n",
       "      <td>179.609539</td>\n",
       "    </tr>\n",
       "    <tr>\n",
       "      <th>18</th>\n",
       "      <td>Lateral vs Medial</td>\n",
       "      <td>171.430766</td>\n",
       "    </tr>\n",
       "    <tr>\n",
       "      <th>19</th>\n",
       "      <td>Lateral vs Medial</td>\n",
       "      <td>192.538568</td>\n",
       "    </tr>\n",
       "    <tr>\n",
       "      <th>20</th>\n",
       "      <td>Lateral vs Medial</td>\n",
       "      <td>208.216108</td>\n",
       "    </tr>\n",
       "    <tr>\n",
       "      <th>21</th>\n",
       "      <td>Lateral vs Medial</td>\n",
       "      <td>197.395032</td>\n",
       "    </tr>\n",
       "    <tr>\n",
       "      <th>22</th>\n",
       "      <td>Lateral vs Medial</td>\n",
       "      <td>168.553101</td>\n",
       "    </tr>\n",
       "    <tr>\n",
       "      <th>23</th>\n",
       "      <td>Lateral vs Medial</td>\n",
       "      <td>224.507180</td>\n",
       "    </tr>\n",
       "  </tbody>\n",
       "</table>\n",
       "</div>"
      ],
      "text/plain": [
       "                 Name         val\n",
       "0   Rostral vs Caudal  163.815162\n",
       "1   Rostral vs Caudal  154.807835\n",
       "2   Rostral vs Caudal  159.641125\n",
       "3   Rostral vs Caudal  185.517177\n",
       "4   Rostral vs Caudal  223.162297\n",
       "5   Rostral vs Caudal  150.067799\n",
       "6   Rostral vs Caudal  217.403293\n",
       "7   Rostral vs Caudal  160.252974\n",
       "8     Ground Position  142.725187\n",
       "9     Ground Position  264.995267\n",
       "10    Ground Position  144.635891\n",
       "11    Ground Position  270.102957\n",
       "12    Ground Position  224.881310\n",
       "13    Ground Position  140.059611\n",
       "14    Ground Position  156.309042\n",
       "15    Ground Position  145.584722\n",
       "16  Lateral vs Medial  187.201245\n",
       "17  Lateral vs Medial  179.609539\n",
       "18  Lateral vs Medial  171.430766\n",
       "19  Lateral vs Medial  192.538568\n",
       "20  Lateral vs Medial  208.216108\n",
       "21  Lateral vs Medial  197.395032\n",
       "22  Lateral vs Medial  168.553101\n",
       "23  Lateral vs Medial  224.507180"
      ]
     },
     "execution_count": 122,
     "metadata": {},
     "output_type": "execute_result"
    }
   ],
   "source": [
    "df"
   ]
  },
  {
   "cell_type": "code",
   "execution_count": 123,
   "metadata": {},
   "outputs": [
    {
     "data": {
      "text/plain": [
       "<seaborn.axisgrid.FacetGrid at 0x7f0ffede6f10>"
      ]
     },
     "execution_count": 123,
     "metadata": {},
     "output_type": "execute_result"
    },
    {
     "data": {
      "image/png": "[encoded data removed]",
      "text/plain": [
       "<Figure size 500x500 with 1 Axes>"
      ]
     },
     "metadata": {},
     "output_type": "display_data"
    }
   ],
   "source": [
    "sns.catplot(data=df, x=\"Name\", y=\"val\")"
   ]
  },
  {
   "cell_type": "code",
   "execution_count": 100,
   "metadata": {},
   "outputs": [
    {
     "data": {
      "text/plain": [
       "False"
      ]
     },
     "execution_count": 100,
     "metadata": {},
     "output_type": "execute_result"
    }
   ],
   "source": [
    "\"L-M\" in \"R-C bip\""
   ]
  },
  {
   "cell_type": "code",
   "execution_count": 104,
   "metadata": {},
   "outputs": [
    {
     "data": {
      "text/plain": [
       "False"
      ]
     },
     "execution_count": 104,
     "metadata": {},
     "output_type": "execute_result"
    }
   ],
   "source": [
    "\"M-L\" in \"R-C bip\""
   ]
  },
  {
   "cell_type": "code",
   "execution_count": 108,
   "metadata": {},
   "outputs": [
    {
     "data": {
      "text/plain": [
       "[163.81516150041188,\n",
       " 154.80783514944113,\n",
       " 159.6411249153712,\n",
       " 185.51717720701902,\n",
       " 223.16229738622488,\n",
       " 150.0677990258932,\n",
       " 217.40329341421892,\n",
       " 160.25297402950508]"
      ]
     },
     "execution_count": 108,
     "metadata": {},
     "output_type": "execute_result"
    }
   ],
   "source": [
    "yrc"
   ]
  }
 ],
 "metadata": {
  "kernelspec": {
   "display_name": ".venv",
   "language": "python",
   "name": "python3"
  },
  "language_info": {
   "codemirror_mode": {
    "name": "ipython",
    "version": 3
   },
   "file_extension": ".py",
   "mimetype": "text/x-python",
   "name": "python",
   "nbconvert_exporter": "python",
   "pygments_lexer": "ipython3",
   "version": "3.11.9"
  }
 },
 "nbformat": 4,
 "nbformat_minor": 2
}
