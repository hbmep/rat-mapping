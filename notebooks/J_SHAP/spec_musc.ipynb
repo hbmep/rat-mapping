{
 "cells": [
  {
   "cell_type": "code",
   "execution_count": 2,
   "metadata": {},
   "outputs": [],
   "source": [
    "\n",
    "import os\n",
    "import numpy as np\n",
    "import pandas as pd\n",
    "import pickle\n",
    "from scipy import stats\n",
    "import matplotlib.pyplot as plt\n",
    "import seaborn as sns\n",
    "import re\n",
    "\n",
    "from hbmep.config import Config\n",
    "from hbmep.model.utils import Site as site\n",
    "\n",
    "from models import NonHierarchicalBayesianModel\n",
    "from constants import (\n",
    "    DATA_PATH,\n",
    "    TOML_PATH\n",
    ")\n",
    "from matplotlib.lines import Line2D"
   ]
  },
  {
   "cell_type": "code",
   "execution_count": 3,
   "metadata": {},
   "outputs": [],
   "source": [
    "src = \"/home/andres/data/hbmep-processed/J_SHAP/data.csv\"\n",
    "df = pd.read_csv(src)"
   ]
  },
  {
   "cell_type": "code",
   "execution_count": 4,
   "metadata": {},
   "outputs": [],
   "source": [
    "file = open(\"/home/andres/repos/rat-mapping-paper/reports/J_SHAP/combine.pkl\",\"rb\")\n",
    "combo = pickle.load(file)"
   ]
  },
  {
   "cell_type": "code",
   "execution_count": 5,
   "metadata": {},
   "outputs": [
    {
     "name": "stdout",
     "output_type": "stream",
     "text": [
      "amap01 C7M-C7L 20-0-80-25 LECR\n",
      "amap01 C8M-C8L 20-0-80-25 LBiceps\n",
      "amap01 C7L-C7M 20-0-80-25 LECR\n",
      "amap01 C8L-C8M 20-0-80-25 LBiceps\n",
      "amap01 C7M-C7L 50-0-50-0 LECR\n",
      "amap01 C8M-C8L 50-0-50-0 LBiceps\n",
      "amap01 C7L-C7M 50-0-50-0 LECR\n",
      "amap01 C8L-C8M 50-0-50-0 LBiceps\n",
      "amap01 C7M-C7L 50-0-50-100 LECR\n",
      "amap01 C8M-C8L 50-0-50-100 LBiceps\n",
      "amap01 C7L-C7M 50-0-50-100 LECR\n",
      "amap01 C8L-C8M 50-0-50-100 LBiceps\n",
      "amap02 C7M-C7L 20-0-80-25 LECR\n",
      "amap02 C8M-C8L 20-0-80-25 LBiceps\n",
      "amap02 C7L-C7M 20-0-80-25 LECR\n",
      "amap02 C8L-C8M 20-0-80-25 LBiceps\n",
      "amap02 C7M-C7L 50-0-50-0 LECR\n",
      "amap02 C8M-C8L 50-0-50-0 LBiceps\n",
      "amap02 C7L-C7M 50-0-50-0 LECR\n",
      "amap02 C8L-C8M 50-0-50-0 LBiceps\n",
      "amap02 C7M-C7L 50-0-50-100 LECR\n",
      "amap02 C8M-C8L 50-0-50-100 LBiceps\n",
      "amap02 C7L-C7M 50-0-50-100 LECR\n",
      "amap02 C8L-C8M 50-0-50-100 LBiceps\n",
      "amap03 C7M-C7L 20-0-80-25 LECR\n",
      "amap03 C8M-C8L 20-0-80-25 LBiceps\n",
      "amap03 C7L-C7M 20-0-80-25 LECR\n",
      "amap03 C8L-C8M 20-0-80-25 LBiceps\n",
      "amap03 C7M-C7L 50-0-50-0 LECR\n",
      "amap03 C8M-C8L 50-0-50-0 LBiceps\n",
      "amap03 C7L-C7M 50-0-50-0 LECR\n",
      "amap03 C8L-C8M 50-0-50-0 LBiceps\n",
      "amap03 C7M-C7L 50-0-50-100 LECR\n",
      "amap03 C8M-C8L 50-0-50-100 LBiceps\n",
      "amap03 C7L-C7M 50-0-50-100 LECR\n",
      "amap03 C8L-C8M 50-0-50-100 LBiceps\n",
      "amap04 C6M-C6L 20-0-80-25 LBiceps\n",
      "amap04 C7M-C7L 20-0-80-25 LECR\n",
      "amap04 C6L-C6M 20-0-80-25 LBiceps\n",
      "amap04 C7L-C7M 20-0-80-25 LECR\n",
      "amap04 C6M-C6L 50-0-50-0 LBiceps\n",
      "amap04 C7M-C7L 50-0-50-0 LECR\n",
      "amap04 C6L-C6M 50-0-50-0 LBiceps\n",
      "amap04 C7L-C7M 50-0-50-0 LECR\n",
      "amap04 C6M-C6L 50-0-50-100 LBiceps\n",
      "amap04 C7M-C7L 50-0-50-100 LECR\n",
      "amap04 C6L-C6M 50-0-50-100 LBiceps\n",
      "amap04 C7L-C7M 50-0-50-100 LECR\n",
      "amap05 C6M-C6L 20-0-80-25 LBiceps\n",
      "amap05 C7M-C7L 20-0-80-25 LECR\n",
      "amap05 C6L-C6M 20-0-80-25 LBiceps\n",
      "amap05 C7L-C7M 20-0-80-25 LECR\n",
      "amap05 C6M-C6L 50-0-50-0 LBiceps\n",
      "amap05 C7M-C7L 50-0-50-0 LECR\n",
      "amap05 C6L-C6M 50-0-50-0 LBiceps\n",
      "amap05 C7L-C7M 50-0-50-0 LECR\n",
      "amap05 C6M-C6L 50-0-50-100 LBiceps\n",
      "amap05 C7M-C7L 50-0-50-100 LECR\n",
      "amap05 C6L-C6M 50-0-50-100 LBiceps\n",
      "amap05 C7L-C7M 50-0-50-100 LECR\n",
      "amap06 C6M-C6L 20-0-80-25 LBiceps\n",
      "amap06 C7M-C7L 20-0-80-25 LECR\n",
      "amap06 C6L-C6M 20-0-80-25 LBiceps\n",
      "amap06 C7L-C7M 20-0-80-25 LECR\n",
      "amap06 C6M-C6L 50-0-50-0 LBiceps\n",
      "amap06 C7M-C7L 50-0-50-0 LECR\n",
      "amap06 C6L-C6M 50-0-50-0 LBiceps\n",
      "amap06 C7L-C7M 50-0-50-0 LECR\n",
      "amap06 C6M-C6L 50-0-50-100 LBiceps\n",
      "amap06 C7M-C7L 50-0-50-100 LECR\n",
      "amap06 C6L-C6M 50-0-50-100 LBiceps\n",
      "amap06 C7L-C7M 50-0-50-100 LECR\n",
      "amap07 C6M-C6L 20-0-80-25 LBiceps\n",
      "amap07 C7M-C7L 20-0-80-25 LECR\n",
      "amap07 C6L-C6M 20-0-80-25 LBiceps\n",
      "amap07 C7L-C7M 20-0-80-25 LECR\n",
      "amap07 C6M-C6L 50-0-50-0 LBiceps\n",
      "amap07 C7M-C7L 50-0-50-0 LECR\n",
      "amap07 C6L-C6M 50-0-50-0 LBiceps\n",
      "amap07 C7L-C7M 50-0-50-0 LECR\n",
      "amap07 C6M-C6L 50-0-50-100 LBiceps\n",
      "amap07 C7M-C7L 50-0-50-100 LECR\n",
      "amap07 C6L-C6M 50-0-50-100 LBiceps\n",
      "amap07 C7L-C7M 50-0-50-100 LECR\n",
      "amap08 C6M-C6L 20-0-80-25 LBiceps\n",
      "amap08 C7M-C7L 20-0-80-25 LECR\n",
      "amap08 C6L-C6M 20-0-80-25 LBiceps\n",
      "amap08 C7L-C7M 20-0-80-25 LECR\n",
      "amap08 C6M-C6L 50-0-50-0 LBiceps\n",
      "amap08 C7M-C7L 50-0-50-0 LECR\n",
      "amap08 C6L-C6M 50-0-50-0 LBiceps\n",
      "amap08 C7L-C7M 50-0-50-0 LECR\n",
      "amap08 C6M-C6L 50-0-50-100 LBiceps\n",
      "amap08 C7M-C7L 50-0-50-100 LECR\n",
      "amap08 C6L-C6M 50-0-50-100 LBiceps\n",
      "amap08 C7L-C7M 50-0-50-100 LECR\n"
     ]
    },
    {
     "data": {
      "text/plain": [
       "(4000, 8, 3, 2, 2)"
      ]
     },
     "execution_count": 5,
     "metadata": {},
     "output_type": "execute_result"
    }
   ],
   "source": [
    "#Create a numpy array that takes the posterior samples of specific muscles at specific positions\n",
    "posmusc = [(\"C6M-C6L\", \"LBiceps\"), (\"C7M-C7L\", \"LECR\"), (\"C8M-C8L\", \"LBiceps\"),(\"C6L-C6M\", \"LBiceps\"), (\"C7L-C7M\", \"LECR\"), (\"C8L-C8M\", \"LBiceps\")]\n",
    "charges = [\"20-0-80-25\", \"50-0-50-0\", \"50-0-50-100\"]\n",
    "subjects = list(set([k[0] for k in combo.keys()]))\n",
    "subjects.sort()\n",
    "\n",
    "a = None\n",
    "for s in subjects:\n",
    "    for c in charges:\n",
    "        for p in posmusc:\n",
    "            pos = p[0]\n",
    "            musc = p[1]\n",
    "            if (s, pos, c, musc) in combo.keys():\n",
    "                print(s, pos, c, musc)\n",
    "                samples = combo[(s, pos, c, musc)][site.a]\n",
    "                samples = samples.reshape(-1, 1)\n",
    "\n",
    "                if a is None: a = samples\n",
    "                else: a = np.concatenate((a, samples), axis=1)\n",
    "            else:continue\n",
    "\n",
    "a = a.reshape(-1, len(subjects), len(charges), 2, 2)\n",
    "a.shape"
   ]
  },
  {
   "cell_type": "code",
   "execution_count": 6,
   "metadata": {},
   "outputs": [
    {
     "data": {
      "text/plain": [
       "3"
      ]
     },
     "execution_count": 6,
     "metadata": {},
     "output_type": "execute_result"
    }
   ],
   "source": [
    "len(charges)"
   ]
  },
  {
   "cell_type": "code",
   "execution_count": 7,
   "metadata": {},
   "outputs": [
    {
     "data": {
      "text/plain": [
       "{'amap01 -C7L',\n",
       " 'amap01 -C8L',\n",
       " 'amap01 C7L-',\n",
       " 'amap01 C7L-C7M',\n",
       " 'amap01 C7L-C8L',\n",
       " 'amap01 C7M-C7L',\n",
       " 'amap01 C8L-',\n",
       " 'amap01 C8L-C7L',\n",
       " 'amap01 C8L-C8M',\n",
       " 'amap01 C8M-C8L',\n",
       " 'amap02 -C7L',\n",
       " 'amap02 -C8L',\n",
       " 'amap02 C7L-',\n",
       " 'amap02 C7L-C7M',\n",
       " 'amap02 C7L-C8L',\n",
       " 'amap02 C7M-C7L',\n",
       " 'amap02 C8L-',\n",
       " 'amap02 C8L-C7L',\n",
       " 'amap02 C8L-C8M',\n",
       " 'amap02 C8M-C8L',\n",
       " 'amap03 -C7L',\n",
       " 'amap03 -C8L',\n",
       " 'amap03 C7L-',\n",
       " 'amap03 C7L-C7M',\n",
       " 'amap03 C7L-C8L',\n",
       " 'amap03 C7M-C7L',\n",
       " 'amap03 C8L-',\n",
       " 'amap03 C8L-C7L',\n",
       " 'amap03 C8L-C8M',\n",
       " 'amap03 C8M-C8L',\n",
       " 'amap04 -C6L',\n",
       " 'amap04 -C7L',\n",
       " 'amap04 C6L-',\n",
       " 'amap04 C6L-C6M',\n",
       " 'amap04 C6L-C7L',\n",
       " 'amap04 C6M-C6L',\n",
       " 'amap04 C7L-',\n",
       " 'amap04 C7L-C6L',\n",
       " 'amap04 C7L-C7M',\n",
       " 'amap04 C7M-C7L',\n",
       " 'amap05 -C6L',\n",
       " 'amap05 -C7L',\n",
       " 'amap05 C6L-',\n",
       " 'amap05 C6L-C6M',\n",
       " 'amap05 C6L-C7L',\n",
       " 'amap05 C6M-C6L',\n",
       " 'amap05 C7L-',\n",
       " 'amap05 C7L-C6L',\n",
       " 'amap05 C7L-C7M',\n",
       " 'amap05 C7M-C7L',\n",
       " 'amap06 -C6L',\n",
       " 'amap06 -C7L',\n",
       " 'amap06 C6L-',\n",
       " 'amap06 C6L-C6M',\n",
       " 'amap06 C6L-C7L',\n",
       " 'amap06 C6M-C6L',\n",
       " 'amap06 C7L-',\n",
       " 'amap06 C7L-C6L',\n",
       " 'amap06 C7L-C7M',\n",
       " 'amap06 C7M-C7L',\n",
       " 'amap07 -C6L',\n",
       " 'amap07 -C7L',\n",
       " 'amap07 C6L-',\n",
       " 'amap07 C6L-C6M',\n",
       " 'amap07 C6L-C7L',\n",
       " 'amap07 C6M-C6L',\n",
       " 'amap07 C7L-',\n",
       " 'amap07 C7L-C6L',\n",
       " 'amap07 C7L-C7M',\n",
       " 'amap07 C7M-C7L',\n",
       " 'amap08 -C6L',\n",
       " 'amap08 -C7L',\n",
       " 'amap08 C6L-',\n",
       " 'amap08 C6L-C6M',\n",
       " 'amap08 C6L-C7L',\n",
       " 'amap08 C6M-C6L',\n",
       " 'amap08 C7L-',\n",
       " 'amap08 C7L-C6L',\n",
       " 'amap08 C7L-C7M',\n",
       " 'amap08 C7M-C7L'}"
      ]
     },
     "execution_count": 7,
     "metadata": {},
     "output_type": "execute_result"
    }
   ],
   "source": [
    "set([k[0]+\" \"+k[1] for k in combo.keys()])"
   ]
  },
  {
   "cell_type": "code",
   "execution_count": 8,
   "metadata": {},
   "outputs": [
    {
     "name": "stdout",
     "output_type": "stream",
     "text": [
      "20-0-80-25\t<\t50-0-50-0:\t\t0.33232330599077853\n",
      "20-0-80-25\t<\t50-0-50-100:\t\t0.5107935920698122\n",
      "50-0-50-0\t<\t20-0-80-25:\t\t0.6676766940092216\n",
      "50-0-50-0\t<\t50-0-50-100:\t\t0.6973602579922171\n",
      "50-0-50-100\t<\t20-0-80-25:\t\t0.4892064079301877\n",
      "50-0-50-100\t<\t50-0-50-0:\t\t0.30263974200778276\n"
     ]
    }
   ],
   "source": [
    "ind = 1\n",
    "for i, l in enumerate(charges):\n",
    "    for j, r in enumerate(charges):\n",
    "        if l == r: continue\n",
    "        l_samples = a[:, :, :, ind, ...][:, :, i, ...]\n",
    "        r_samples = a[:, :, :, ind, ...][:, :, j, ...]\n",
    "        l_samples = l_samples.mean(axis=0)\n",
    "        r_samples = r_samples.mean(axis=0)\n",
    "\n",
    "        pvalue = stats.ttest_1samp(\n",
    "            l_samples - r_samples, alternative=\"less\", popmean=0, axis=(0,1)\n",
    "        ).pvalue\n",
    "        print(\n",
    "            f\"{l}\\t<\\t{r}:\\t\\t{pvalue}\"\n",
    "        )\n",
    "    "
   ]
  },
  {
   "cell_type": "code",
   "execution_count": 9,
   "metadata": {},
   "outputs": [
    {
     "name": "stdout",
     "output_type": "stream",
     "text": [
      "L-M 20-0-80-25\t<\t M-L 20-0-80-25: \t\t0.9240831818866858 \t\t L-M > M-L \t\t0.07591681811331422\n",
      "L-M 20-0-80-25\t<\t M-L 50-0-50-0: \t\t0.7689738577626084 \t\t L-M > M-L \t\t0.23102614223739154\n",
      "L-M 20-0-80-25\t<\t M-L 50-0-50-100: \t\t0.9646128433628709 \t\t L-M > M-L \t\t0.03538715663712904\n",
      "L-M 50-0-50-0\t<\t M-L 20-0-80-25: \t\t0.9449948244007671 \t\t L-M > M-L \t\t0.055005175599232924\n",
      "L-M 50-0-50-0\t<\t M-L 50-0-50-0: \t\t0.8213948781246 \t\t L-M > M-L \t\t0.1786051218754\n",
      "L-M 50-0-50-0\t<\t M-L 50-0-50-100: \t\t0.960455042752813 \t\t L-M > M-L \t\t0.039544957247186964\n",
      "L-M 50-0-50-100\t<\t M-L 20-0-80-25: \t\t0.2846046853915059 \t\t L-M > M-L \t\t0.7153953146084941\n",
      "L-M 50-0-50-100\t<\t M-L 50-0-50-0: \t\t0.21368846837830557 \t\t L-M > M-L \t\t0.7863115316216944\n",
      "L-M 50-0-50-100\t<\t M-L 50-0-50-100: \t\t0.31456653369108956 \t\t L-M > M-L \t\t0.6854334663089103\n"
     ]
    }
   ],
   "source": [
    "#Compare 7L-M to 7M-L\n",
    "for i, l in enumerate(charges):\n",
    "    for j, r in enumerate(charges):\n",
    "        l_samples = a[:, :, :, 0, ...][:, :, i, ...]\n",
    "        r_samples = a[:, :, :, 1, ...][:, :, j, ...]\n",
    "\n",
    "        l_samples = l_samples.mean(axis=0)\n",
    "        r_samples = r_samples.mean(axis=0)\n",
    "\n",
    "        # r_samples -> (8, 2)\n",
    "\n",
    "        pvalue = stats.ttest_1samp(\n",
    "            l_samples - r_samples, alternative=\"less\", popmean=0, axis=(0,1)\n",
    "        ).pvalue\n",
    "        r_pvalue = stats.ttest_1samp(\n",
    "            l_samples - r_samples, alternative=\"greater\", popmean=0, axis=(0,1)\n",
    "        ).pvalue\n",
    "        print(\n",
    "            f\"L-M {l}\\t<\\t M-L {r}: \\t\\t{pvalue} \\t\\t L-M > M-L \\t\\t{r_pvalue}\"\n",
    "        )\n",
    "        \n",
    "        \n"
   ]
  },
  {
   "cell_type": "code",
   "execution_count": 10,
   "metadata": {},
   "outputs": [],
   "source": [
    "LM = a[:, :,:,0, ...]\n",
    "ML = a[:, :,:,1, ...]\n",
    "\n",
    "\n",
    "thresh_list = []\n",
    "for i, l in enumerate(charges):\n",
    "    l_samples = LM[:, :, i, ...].mean(axis=0)\n",
    "    sem = stats.sem(l_samples, axis=(0, 1))\n",
    "    thresh_list.append([\"L-M\", l, l_samples.mean(), sem])\n",
    "\n",
    "for i, r in enumerate(charges):\n",
    "    m_samples = ML[:, :, i, ...].mean(axis=0)\n",
    "    sem = stats.sem(m_samples, axis=(0, 1))\n",
    "    thresh_list.append([\"M-L\",r, m_samples.mean(), sem])"
   ]
  },
  {
   "cell_type": "code",
   "execution_count": 11,
   "metadata": {},
   "outputs": [
    {
     "data": {
      "text/plain": [
       "[['L-M', '20-0-80-25', 212.00924374762747, 35.309000437645786],\n",
       " ['L-M', '50-0-50-0', 221.75580714961887, 33.00150355783654],\n",
       " ['L-M', '50-0-50-100', 170.2224581522745, 38.593430549231456],\n",
       " ['M-L', '20-0-80-25', 182.8780455826466, 34.38256525118727],\n",
       " ['M-L', '50-0-50-0', 195.26238297796812, 35.566760952744],\n",
       " ['M-L', '50-0-50-100', 182.45745538304539, 31.907289344342832]]"
      ]
     },
     "execution_count": 11,
     "metadata": {},
     "output_type": "execute_result"
    }
   ],
   "source": [
    "thresh_list"
   ]
  },
  {
   "cell_type": "code",
   "execution_count": 12,
   "metadata": {},
   "outputs": [
    {
     "data": {
      "text/plain": [
       "<matplotlib.legend.Legend at 0x7f0eb992a4d0>"
      ]
     },
     "execution_count": 12,
     "metadata": {},
     "output_type": "execute_result"
    },
    {
     "data": {
      "image/png": "[encoded data removed]",
      "text/plain": [
       "<Figure size 640x480 with 1 Axes>"
      ]
     },
     "metadata": {},
     "output_type": "display_data"
    }
   ],
   "source": [
    "xpoint = [x[0] for x in thresh_list]\n",
    "ypoint = [x[2] for x in thresh_list]\n",
    "sem = [x[3] for x in thresh_list]\n",
    "cols = [x[1] for x in thresh_list]\n",
    "xpoint_new = [-.1, 0,.1, 1.1, 1.2, 1.3]\n",
    "# sns.scatterplot(x=[x[0] for x in thresh_list], y=[x[2] for x in thresh_list], hue=[x[1] for x in thresh_list])\n",
    "plt.xlim((-.5,1.7))\n",
    "sns.despine()\n",
    "plt.xticks([0, 1.2], [\"L-M\", \"M-L\"])\n",
    "plt.ylabel(\"Threshold Value\")\n",
    "plt.title(\"Threshold Value by Charge and Orientation (All levels, data driven muscles)\")\n",
    "\n",
    "# labels = ['M-L', 'M-LL', 'M-LM1', 'M-LM2', 'M-L', 'M-LL', 'M-LM']\n",
    "\n",
    "color_dict = {'20-0-80-25': 'blue', '50-0-50-0': 'red', '50-0-50-100': 'green'}\n",
    "colors = [color_dict[col] for col in cols]\n",
    "unique_labels = list(color_dict.keys())\n",
    "\n",
    "for y, x, e, c in zip(xpoint_new, ypoint, sem, colors):\n",
    "    plt.errorbar(y, x, yerr=e, fmt='o', color=c, elinewidth=1, capsize=4, ecolor=c)\n",
    "\n",
    "legend_handles = [Line2D([0], [0], marker='o', color='w', markerfacecolor=color_dict[label], markersize=10, label=label)\n",
    "                  for label in unique_labels]\n",
    "plt.legend(handles=legend_handles, title='Data Points')\n"
   ]
  },
  {
   "cell_type": "markdown",
   "metadata": {},
   "source": [
    "Analysis based on Biological Muscle Innervation"
   ]
  },
  {
   "cell_type": "code",
   "execution_count": 13,
   "metadata": {},
   "outputs": [
    {
     "data": {
      "text/plain": [
       "(4000, 8, 3, 2, 2)"
      ]
     },
     "execution_count": 13,
     "metadata": {},
     "output_type": "execute_result"
    }
   ],
   "source": [
    "#Create a numpy array that takes the posterior samples of specific muscles at specific positions\n",
    "posmusc = [(\"C6M-C6L\", \"LBiceps\"), (\"C7M-C7L\", \"LTriceps\"), (\"C8M-C8L\", \"LADM\"),(\"C6L-C6M\", \"LBiceps\"), (\"C7L-C7M\", \"LTriceps\"), (\"C8L-C8M\", \"LADM\")]\n",
    "charges = [\"20-0-80-25\", \"50-0-50-0\", \"50-0-50-100\"]\n",
    "subjects = list(set([k[0] for k in combo.keys()]))\n",
    "subjects.sort()\n",
    "\n",
    "b = None\n",
    "for s in subjects:\n",
    "    for c in charges:\n",
    "        for p in posmusc:\n",
    "            pos = p[0]\n",
    "            musc = p[1]\n",
    "            if (s, pos, c, musc) in combo.keys():\n",
    "                samples = combo[(s, pos, c, musc)][site.a]\n",
    "                samples = samples.reshape(-1, 1)\n",
    "\n",
    "                if b is None: b = samples\n",
    "                else: b = np.concatenate((b, samples), axis=1)\n",
    "            else:continue\n",
    "\n",
    "b = b.reshape(-1, len(subjects), len(charges), 2, 2)\n",
    "b.shape"
   ]
  },
  {
   "cell_type": "code",
   "execution_count": 14,
   "metadata": {},
   "outputs": [
    {
     "name": "stdout",
     "output_type": "stream",
     "text": [
      "20-0-80-25\t<\t50-0-50-0:\t\t0.36205547438013613\n",
      "20-0-80-25\t<\t50-0-50-100:\t\t0.5490962841661448\n",
      "50-0-50-0\t<\t20-0-80-25:\t\t0.6379445256198639\n",
      "50-0-50-0\t<\t50-0-50-100:\t\t0.664245346205951\n",
      "50-0-50-100\t<\t20-0-80-25:\t\t0.45090371583385525\n",
      "50-0-50-100\t<\t50-0-50-0:\t\t0.3357546537940491\n"
     ]
    }
   ],
   "source": [
    "ind = 1\n",
    "for i, l in enumerate(charges):\n",
    "    for j, r in enumerate(charges):\n",
    "        if l == r: continue\n",
    "        l_samples = b[:, :, :, ind, ...][:, :, i, ...]\n",
    "        r_samples = b[:, :, :, ind, ...][:, :, j, ...]\n",
    "        l_samples = l_samples.mean(axis=0)\n",
    "        r_samples = r_samples.mean(axis=0)\n",
    "\n",
    "        pvalue = stats.ttest_1samp(\n",
    "            l_samples - r_samples, alternative=\"less\", popmean=0, axis=(0,1)\n",
    "        ).pvalue\n",
    "        print(\n",
    "            f\"{l}\\t<\\t{r}:\\t\\t{pvalue}\"\n",
    "        )\n",
    "    "
   ]
  },
  {
   "cell_type": "code",
   "execution_count": 15,
   "metadata": {},
   "outputs": [
    {
     "name": "stdout",
     "output_type": "stream",
     "text": [
      "L-M 20-0-80-25\t<\t M-L 20-0-80-25: \t\t0.6236877750756683 \t\t L-M > M-L \t\t0.3763122249243317\n",
      "L-M 20-0-80-25\t<\t M-L 50-0-50-0: \t\t0.44736372542238506 \t\t L-M > M-L \t\t0.552636274577615\n",
      "L-M 20-0-80-25\t<\t M-L 50-0-50-100: \t\t0.6909890384592223 \t\t L-M > M-L \t\t0.3090109615407777\n",
      "L-M 50-0-50-0\t<\t M-L 20-0-80-25: \t\t0.8223651147487117 \t\t L-M > M-L \t\t0.17763488525128834\n",
      "L-M 50-0-50-0\t<\t M-L 50-0-50-0: \t\t0.7598877424138042 \t\t L-M > M-L \t\t0.24011225758619575\n",
      "L-M 50-0-50-0\t<\t M-L 50-0-50-100: \t\t0.8822281511257809 \t\t L-M > M-L \t\t0.11777184887421913\n",
      "L-M 50-0-50-100\t<\t M-L 20-0-80-25: \t\t0.06758129100512451 \t\t L-M > M-L \t\t0.9324187089948756\n",
      "L-M 50-0-50-100\t<\t M-L 50-0-50-0: \t\t0.09156693015450937 \t\t L-M > M-L \t\t0.9084330698454907\n",
      "L-M 50-0-50-100\t<\t M-L 50-0-50-100: \t\t0.05737581238868247 \t\t L-M > M-L \t\t0.9426241876113175\n"
     ]
    }
   ],
   "source": [
    "#Compare 7L-M to 7M-L\n",
    "for i, l in enumerate(charges):\n",
    "    for j, r in enumerate(charges):\n",
    "        l_samples = b[:, :, :, 0, ...][:, :, i, ...]\n",
    "        r_samples = b[:, :, :, 1, ...][:, :, j, ...]\n",
    "        l_samples = l_samples.mean(axis=0)\n",
    "        r_samples = r_samples.mean(axis=0)\n",
    "\n",
    "        pvalue = stats.ttest_1samp(\n",
    "            l_samples - r_samples, alternative=\"less\", popmean=0, axis=(0,1)\n",
    "        ).pvalue\n",
    "        r_pvalue = stats.ttest_1samp(\n",
    "            l_samples - r_samples, alternative=\"greater\", popmean=0, axis=(0,1)\n",
    "        ).pvalue\n",
    "        print(\n",
    "            f\"L-M {l}\\t<\\t M-L {r}: \\t\\t{pvalue} \\t\\t L-M > M-L \\t\\t{r_pvalue}\"\n",
    "        )"
   ]
  },
  {
   "cell_type": "code",
   "execution_count": 16,
   "metadata": {},
   "outputs": [],
   "source": [
    "LM = b[:, :,:,0, ...]\n",
    "ML = b[:, :,:,1, ...]\n",
    "\n",
    "\n",
    "thresh_list = []\n",
    "for i, l in enumerate(charges):\n",
    "    l_samples = LM[:, :, i, ...].mean(axis=0)\n",
    "    sem = stats.sem(l_samples, axis=(0, 1))\n",
    "    thresh_list.append([\"L-M\", l, l_samples.mean(), sem])\n",
    "\n",
    "for i, r in enumerate(charges):\n",
    "    m_samples = ML[:, :, i, ...].mean(axis=0)\n",
    "    sem = stats.sem(m_samples, axis=(0, 1))\n",
    "    thresh_list.append([\"M-L\",r, m_samples.mean(), sem])"
   ]
  },
  {
   "cell_type": "code",
   "execution_count": 17,
   "metadata": {},
   "outputs": [
    {
     "data": {
      "text/plain": [
       "<matplotlib.legend.Legend at 0x7f0ec08a8310>"
      ]
     },
     "execution_count": 17,
     "metadata": {},
     "output_type": "execute_result"
    },
    {
     "data": {
      "image/png": "[encoded data removed]",
      "text/plain": [
       "<Figure size 640x480 with 1 Axes>"
      ]
     },
     "metadata": {},
     "output_type": "display_data"
    }
   ],
   "source": [
    "xpoint = [x[0] for x in thresh_list]\n",
    "ypoint = [x[2] for x in thresh_list]\n",
    "sem = [x[3] for x in thresh_list]\n",
    "cols = [x[1] for x in thresh_list]\n",
    "xpoint_new = [-.1, 0,.1, 1.1, 1.2, 1.3]\n",
    "# sns.scatterplot(x=[x[0] for x in thresh_list], y=[x[2] for x in thresh_list], hue=[x[1] for x in thresh_list])\n",
    "plt.xlim((-.5,1.7))\n",
    "sns.despine()\n",
    "plt.xticks([0, 1.2], [\"L-M\", \"M-L\"])\n",
    "plt.ylabel(\"Slope\")\n",
    "plt.title(\"Slope by Charge and Orientation (All levels, biologically driven muscles)\")\n",
    "\n",
    "# labels = ['M-L', 'M-LL', 'M-LM1', 'M-LM2', 'M-L', 'M-LL', 'M-LM']\n",
    "\n",
    "color_dict = {'20-0-80-25': 'blue', '50-0-50-0': 'red', '50-0-50-100': 'green'}\n",
    "colors = [color_dict[col] for col in cols]\n",
    "unique_labels = list(color_dict.keys())\n",
    "\n",
    "for y, x, e, c in zip(xpoint_new, ypoint, sem, colors):\n",
    "    plt.errorbar(y, x, yerr=e, fmt='o', color=c, elinewidth=1, capsize=4, ecolor=c)\n",
    "\n",
    "legend_handles = [Line2D([0], [0], marker='o', color='w', markerfacecolor=color_dict[label], markersize=10, label=label)\n",
    "                  for label in unique_labels]\n",
    "plt.legend(handles=legend_handles, title='Data Points')\n"
   ]
  },
  {
   "cell_type": "code",
   "execution_count": 18,
   "metadata": {},
   "outputs": [
    {
     "data": {
      "text/plain": [
       "{'-C6L',\n",
       " '-C7L',\n",
       " '-C8L',\n",
       " 'C6L-',\n",
       " 'C6L-C6M',\n",
       " 'C6L-C7L',\n",
       " 'C6M-C6L',\n",
       " 'C7L-',\n",
       " 'C7L-C6L',\n",
       " 'C7L-C7M',\n",
       " 'C7L-C8L',\n",
       " 'C7M-C7L',\n",
       " 'C8L-',\n",
       " 'C8L-C7L',\n",
       " 'C8L-C8M',\n",
       " 'C8M-C8L'}"
      ]
     },
     "execution_count": 18,
     "metadata": {},
     "output_type": "execute_result"
    }
   ],
   "source": [
    "set([k[1] for k in combo.keys()])"
   ]
  }
 ],
 "metadata": {
  "kernelspec": {
   "display_name": ".venv",
   "language": "python",
   "name": "python3"
  },
  "language_info": {
   "codemirror_mode": {
    "name": "ipython",
    "version": 3
   },
   "file_extension": ".py",
   "mimetype": "text/x-python",
   "name": "python",
   "nbconvert_exporter": "python",
   "pygments_lexer": "ipython3",
   "version": "3.11.9"
  }
 },
 "nbformat": 4,
 "nbformat_minor": 2
}
