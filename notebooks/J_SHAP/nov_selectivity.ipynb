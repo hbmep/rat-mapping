{
 "cells": [
  {
   "cell_type": "code",
   "execution_count": 78,
   "metadata": {},
   "outputs": [],
   "source": [
    "import os\n",
    "import pickle\n",
    "import models\n",
    "\n",
    "import numpy as np\n",
    "import numpy.ma as ma\n",
    "import matplotlib.pyplot as plt\n",
    "import seaborn as sns\n",
    "from numpyro.diagnostics import hpdi\n",
    "\n",
    "from hbmep.nn import functional as F\n",
    "from hbmep.model.utils import Site as site\n",
    "\n",
    "from hbmep.config import Config\n",
    "from hbmep.model.utils import Site as site\n",
    "from scipy import stats\n",
    "\n",
    "from models import NonHierarchicalBayesianModel\n",
    "\n",
    "USER = os.environ[\"USER\"]\n",
    " \n",
    "MAX_THRESHOLD_CONST = 3.98 #CONSTANT WILL BE mean of rats for stim max / threshold for EVERY possible combination... ma.mean(ma.median((stim_max/ma.mean(a, axis=0)),axis = (1,2,3)),axis =0)\n",
    "NUM_THRESHOLD_POINTS = 500"
   ]
  },
  {
   "cell_type": "code",
   "execution_count": 2,
   "metadata": {},
   "outputs": [
    {
     "name": "stderr",
     "output_type": "stream",
     "text": [
      "An NVIDIA GPU may be present on this machine, but a CUDA-enabled jaxlib is not installed. Falling back to cpu.\n"
     ]
    }
   ],
   "source": [
    "src = f\"/home/andres/repos/rat-mapping-paper/reports/J_SHAP/non_hierarchical_bayesian_model/inference.pkl\"\n",
    "with open(src, \"rb\") as f:\n",
    "    (\n",
    "        df,\n",
    "        encoder_dict,\n",
    "        model,\n",
    "        posterior_samples,\n",
    "    ) = pickle.load(f)"
   ]
  },
  {
   "cell_type": "code",
   "execution_count": 3,
   "metadata": {},
   "outputs": [
    {
     "name": "stdout",
     "output_type": "stream",
     "text": [
      "a (400, 8, 16, 4, 6)\n",
      "b (400, 8, 16, 4, 6)\n",
      "L (400, 8, 16, 4, 6)\n",
      "ℓ (400, 8, 16, 4, 6)\n",
      "H (400, 8, 16, 4, 6)\n"
     ]
    }
   ],
   "source": [
    "a = posterior_samples[site.a]\n",
    "b = posterior_samples[site.b]\n",
    "L = posterior_samples[site.L]\n",
    "ell = posterior_samples[site.ell]\n",
    "H = posterior_samples[site.H]\n",
    "\n",
    "x = np.linspace(0, 500, 1000)\n",
    "\n",
    "named_params = [site.a, site.b, site.L, site.ell, site.H]\n",
    "params = [posterior_samples[param][ :400,...] for param in named_params]\n",
    "\n",
    "for named_param, param in zip(named_params, params):\n",
    "    \n",
    "    print(named_param, param.shape)"
   ]
  },
  {
   "cell_type": "code",
   "execution_count": 4,
   "metadata": {},
   "outputs": [],
   "source": [
    "subjects = sorted(df['participant'].unique())\n",
    "# subjects = encoder_dict['participant'].inverse_transform(subjects)\n",
    "positions = sorted(df['compound_position'].unique())\n",
    "# positions = encoder_dict['compound_position'].inverse_transform(positions)\n",
    "charges = sorted(df['compound_charge_params'].unique())\n",
    "# charges = encoder_dict['compound_charge_params'].inverse_transform(charges)\n",
    "muscles = model.response"
   ]
  },
  {
   "cell_type": "code",
   "execution_count": 62,
   "metadata": {},
   "outputs": [],
   "source": [
    "charges = charges[:3]"
   ]
  },
  {
   "cell_type": "code",
   "execution_count": 64,
   "metadata": {},
   "outputs": [
    {
     "data": {
      "text/plain": [
       "[0, 1, 2]"
      ]
     },
     "execution_count": 64,
     "metadata": {},
     "output_type": "execute_result"
    }
   ],
   "source": [
    "charges"
   ]
  },
  {
   "cell_type": "code",
   "execution_count": 65,
   "metadata": {},
   "outputs": [],
   "source": [
    "compound_position = encoder_dict[model.features[1]].inverse_transform(sorted(df['compound_position'].unique()))\n",
    "mono = [c for c in compound_position if c.split(\"-\")[0] == \"\" or c.split(\"-\")[1] == \"\"]\n",
    "mono = np.array(mono)\n",
    "mono = mono[:3]\n",
    "mono_inds = encoder_dict[model.features[1]].transform(mono)"
   ]
  },
  {
   "cell_type": "code",
   "execution_count": 66,
   "metadata": {},
   "outputs": [
    {
     "data": {
      "text/plain": [
       "array(['-C6L', '-C7L', '-C8L', 'C6L-', 'C6L-C6M', 'C6L-C7L', 'C6M-C6L',\n",
       "       'C7L-', 'C7L-C6L', 'C7L-C7M', 'C7L-C8L', 'C7M-C7L', 'C8L-',\n",
       "       'C8L-C7L', 'C8L-C8M', 'C8M-C8L'], dtype=object)"
      ]
     },
     "execution_count": 66,
     "metadata": {},
     "output_type": "execute_result"
    }
   ],
   "source": [
    "compound_position"
   ]
  },
  {
   "cell_type": "code",
   "execution_count": 67,
   "metadata": {},
   "outputs": [
    {
     "data": {
      "text/plain": [
       "array([0, 1, 2])"
      ]
     },
     "execution_count": 67,
     "metadata": {},
     "output_type": "execute_result"
    }
   ],
   "source": [
    "mono_inds"
   ]
  },
  {
   "cell_type": "markdown",
   "metadata": {},
   "source": [
    "# Get Constant"
   ]
  },
  {
   "cell_type": "code",
   "execution_count": 68,
   "metadata": {},
   "outputs": [],
   "source": [
    "stim_max = []\n",
    "\n",
    "for s in subjects:\n",
    "    for p in mono_inds:\n",
    "        for c in charges:\n",
    "            for m in muscles: \n",
    "                temp = df[(df['participant'] == s) \n",
    "                        & (df['compound_position'] == p) \n",
    "                        & (df['compound_charge_params'] == c)\n",
    "                        ]\n",
    "                temp = temp.loc[:,[m, 'pulse_amplitude']]\n",
    "                temp = temp.pulse_amplitude.max()\n",
    "                stim_max.append(temp)\n",
    "stim_max = ma.array(stim_max)\n",
    "stim_max = stim_max.reshape(len(subjects), len(mono_inds), len(charges), len(muscles))"
   ]
  },
  {
   "cell_type": "code",
   "execution_count": 69,
   "metadata": {},
   "outputs": [
    {
     "data": {
      "text/plain": [
       "(8, 3, 3, 6)"
      ]
     },
     "execution_count": 69,
     "metadata": {},
     "output_type": "execute_result"
    }
   ],
   "source": [
    "stim_max.shape"
   ]
  },
  {
   "cell_type": "code",
   "execution_count": 70,
   "metadata": {},
   "outputs": [],
   "source": [
    "a = posterior_samples[site.a]"
   ]
  },
  {
   "cell_type": "code",
   "execution_count": 71,
   "metadata": {},
   "outputs": [
    {
     "data": {
      "text/plain": [
       "(4000, 8, 16, 4, 6)"
      ]
     },
     "execution_count": 71,
     "metadata": {},
     "output_type": "execute_result"
    }
   ],
   "source": [
    "a.shape"
   ]
  },
  {
   "cell_type": "code",
   "execution_count": 74,
   "metadata": {},
   "outputs": [],
   "source": [
    "a = a[:,:,mono_inds,:3,:]"
   ]
  },
  {
   "cell_type": "code",
   "execution_count": 75,
   "metadata": {},
   "outputs": [
    {
     "data": {
      "text/plain": [
       "(4000, 8, 3, 3, 6)"
      ]
     },
     "execution_count": 75,
     "metadata": {},
     "output_type": "execute_result"
    }
   ],
   "source": [
    "a.shape"
   ]
  },
  {
   "cell_type": "code",
   "execution_count": 76,
   "metadata": {},
   "outputs": [
    {
     "data": {
      "text/plain": [
       "(8, 3, 3, 6)"
      ]
     },
     "execution_count": 76,
     "metadata": {},
     "output_type": "execute_result"
    }
   ],
   "source": [
    "(stim_max/ma.mean(a, axis=0)).shape"
   ]
  },
  {
   "cell_type": "code",
   "execution_count": 77,
   "metadata": {},
   "outputs": [
    {
     "data": {
      "text/plain": [
       "3.9882024369635976"
      ]
     },
     "execution_count": 77,
     "metadata": {},
     "output_type": "execute_result"
    }
   ],
   "source": [
    "ma.mean(ma.median((stim_max/ma.mean(a, axis=0)),axis = (1,2,3)),axis = 0)"
   ]
  },
  {
   "cell_type": "markdown",
   "metadata": {},
   "source": [
    "# Selectivity Calc"
   ]
  },
  {
   "cell_type": "code",
   "execution_count": 79,
   "metadata": {},
   "outputs": [
    {
     "name": "stderr",
     "output_type": "stream",
     "text": [
      "/tmp/ipykernel_4014251/599926144.py:12: RuntimeWarning: Mean of empty slice\n",
      "  temp = np.nanmean(curr_params[0], axis=0)\n"
     ]
    }
   ],
   "source": [
    "norm_y = []\n",
    "norm_x = []\n",
    "\n",
    "for subject_ind, subject in enumerate(subjects):\n",
    "    for c in charges:\n",
    "        # Fix the subject index and size index\n",
    "        curr_params = [\n",
    "            params[:, subject_ind, mono_inds, c,:, None] for params in params\n",
    "        ]\n",
    "\n",
    "        # Take nanmean across posterior samples\n",
    "        temp = np.nanmean(curr_params[0], axis=0)\n",
    "        \n",
    "        # Take nanmedian across compound positions and muscles\n",
    "        median_threshold = np.nanmedian(temp)\n",
    "\n",
    "        x_temp = np.linspace(0.,  median_threshold * MAX_THRESHOLD_CONST, NUM_THRESHOLD_POINTS)\n",
    "        x_temp = x_temp[ None, None, None,:]\n",
    "\n",
    "        temp_thresh = F.rectified_logistic(\n",
    "            x_temp, #x_temp\n",
    "            *curr_params\n",
    "        )\n",
    "        # Remove offset\n",
    "        temp_thresh = temp_thresh - curr_params[2]\n",
    "        norm_y.append(temp_thresh)\n",
    "        norm_x.append(x_temp)\n",
    "norm_x = np.array(norm_x)\n",
    "norm_x = norm_x.reshape(len(subjects), len(charges), *norm_x.shape[1:])\n",
    "norm_y = np.array(norm_y)\n",
    "norm_y = ma.masked_invalid(norm_y)\n",
    "norm_y = norm_y.reshape(len(subjects), len(charges), *norm_y.shape[1:])"
   ]
  },
  {
   "cell_type": "code",
   "execution_count": 81,
   "metadata": {},
   "outputs": [
    {
     "data": {
      "text/plain": [
       "(8, 3, 400, 3, 6, 500)"
      ]
     },
     "execution_count": 81,
     "metadata": {},
     "output_type": "execute_result"
    }
   ],
   "source": [
    "norm_y.shape"
   ]
  },
  {
   "cell_type": "code",
   "execution_count": 82,
   "metadata": {},
   "outputs": [],
   "source": [
    "y = norm_y"
   ]
  },
  {
   "cell_type": "code",
   "execution_count": 83,
   "metadata": {},
   "outputs": [],
   "source": [
    "y_max = ma.max(y, axis=(1,4, -1), keepdims=True)\n",
    "y = ma.where(y_max, y / y_max, 0.)\n"
   ]
  },
  {
   "cell_type": "code",
   "execution_count": 84,
   "metadata": {},
   "outputs": [],
   "source": [
    "p = ma.sum(y, axis=-2, keepdims=True)"
   ]
  },
  {
   "cell_type": "code",
   "execution_count": 85,
   "metadata": {},
   "outputs": [],
   "source": [
    "p = ma.where(p, y / p, 1 / y.shape[-2])"
   ]
  },
  {
   "cell_type": "code",
   "execution_count": 86,
   "metadata": {},
   "outputs": [],
   "source": [
    "plogp = ma.where(p, p * ma.log(p), 0.)"
   ]
  },
  {
   "cell_type": "code",
   "execution_count": 87,
   "metadata": {},
   "outputs": [],
   "source": [
    "entropy = 1 + (plogp.sum(axis=-2) / ma.log(y.shape[-2]))"
   ]
  },
  {
   "cell_type": "code",
   "execution_count": 88,
   "metadata": {},
   "outputs": [
    {
     "data": {
      "text/plain": [
       "(8, 3, 400, 3)"
      ]
     },
     "execution_count": 88,
     "metadata": {},
     "output_type": "execute_result"
    }
   ],
   "source": [
    "auc = np.trapz(y=entropy[...], x=np.linspace(0, MAX_THRESHOLD_CONST, NUM_THRESHOLD_POINTS), axis=-1)\n",
    "auc.shape"
   ]
  },
  {
   "cell_type": "code",
   "execution_count": 89,
   "metadata": {},
   "outputs": [
    {
     "data": {
      "text/plain": [
       "(8, 3, 3)"
      ]
     },
     "execution_count": 89,
     "metadata": {},
     "output_type": "execute_result"
    }
   ],
   "source": [
    "auc = auc.mean(axis=(2))\n",
    "auc.shape"
   ]
  },
  {
   "cell_type": "code",
   "execution_count": null,
   "metadata": {},
   "outputs": [],
   "source": []
  },
  {
   "cell_type": "code",
   "execution_count": 97,
   "metadata": {},
   "outputs": [],
   "source": [
    "src = f\"/home/andres/repos/rat-mapping-paper/notebooks/J_SHAP/shape_selectivity_means.pkl\"\n",
    "\n",
    "with open(src, \"wb\") as f:\n",
    "    pickle.dump(auc, f)"
   ]
  },
  {
   "cell_type": "code",
   "execution_count": 91,
   "metadata": {},
   "outputs": [],
   "source": [
    "mat = auc[:, :, None,:] - auc[:,None, :, :]"
   ]
  },
  {
   "cell_type": "code",
   "execution_count": 92,
   "metadata": {},
   "outputs": [
    {
     "data": {
      "text/plain": [
       "(8, 3, 3, 3)"
      ]
     },
     "execution_count": 92,
     "metadata": {},
     "output_type": "execute_result"
    }
   ],
   "source": [
    "mat.shape"
   ]
  },
  {
   "cell_type": "code",
   "execution_count": 93,
   "metadata": {},
   "outputs": [],
   "source": [
    "mat = mat.mean(axis=3)"
   ]
  },
  {
   "cell_type": "code",
   "execution_count": 94,
   "metadata": {},
   "outputs": [
    {
     "data": {
      "text/plain": [
       "defaultdict(sklearn.preprocessing._label.LabelEncoder,\n",
       "            {'participant': LabelEncoder(),\n",
       "             'compound_position': LabelEncoder(),\n",
       "             'compound_charge_params': LabelEncoder()})"
      ]
     },
     "execution_count": 94,
     "metadata": {},
     "output_type": "execute_result"
    }
   ],
   "source": [
    "encoder_dict"
   ]
  },
  {
   "cell_type": "code",
   "execution_count": 95,
   "metadata": {},
   "outputs": [
    {
     "data": {
      "text/plain": [
       "<Axes: >"
      ]
     },
     "execution_count": 95,
     "metadata": {},
     "output_type": "execute_result"
    },
    {
     "data": {
      "image/png": "[encoded data removed]",
      "text/plain": [
       "<Figure size 640x480 with 2 Axes>"
      ]
     },
     "metadata": {},
     "output_type": "display_data"
    }
   ],
   "source": [
    "labels = encoder_dict['compound_charge_params'].inverse_transform(charges)\n",
    "pvalues = []\n",
    "for i in range(len(labels)):\n",
    "    for i2 in range(len(labels)):\n",
    "        if i==i2:\n",
    "            pvalues.append(1)\n",
    "            continue\n",
    "        temp_p = stats.wilcoxon(mat[:, i,i2], axis=0).pvalue\n",
    "        pvalues.append(temp_p)\n",
    "\n",
    "pvalues = np.array(pvalues)\n",
    "pvalues = pvalues.reshape(len(labels), len(labels))\n",
    "\n",
    "mask = np.tril(np.ones_like(pvalues), k=0).astype(bool)\n",
    "sns.heatmap(pvalues, xticklabels=labels, yticklabels=labels, mask = mask, annot=False)\n",
    "sns.heatmap(pvalues, xticklabels=labels, yticklabels=labels, mask = mask,annot=np.round(mat.mean(axis=0).data, 3), annot_kws={'va':'top'}, fmt=\"\", cbar=False)\n",
    "sns.heatmap(pvalues, xticklabels=labels, yticklabels=labels, mask = mask,annot=np.round(pvalues, 3), annot_kws={'va':'bottom'}, fmt=\"\", cbar=False)"
   ]
  },
  {
   "cell_type": "code",
   "execution_count": 96,
   "metadata": {},
   "outputs": [
    {
     "data": {
      "text/plain": [
       "3"
      ]
     },
     "execution_count": 96,
     "metadata": {},
     "output_type": "execute_result"
    }
   ],
   "source": [
    "len(labels)"
   ]
  }
 ],
 "metadata": {
  "kernelspec": {
   "display_name": ".venv",
   "language": "python",
   "name": "python3"
  },
  "language_info": {
   "codemirror_mode": {
    "name": "ipython",
    "version": 3
   },
   "file_extension": ".py",
   "mimetype": "text/x-python",
   "name": "python",
   "nbconvert_exporter": "python",
   "pygments_lexer": "ipython3",
   "version": "3.11.9"
  }
 },
 "nbformat": 4,
 "nbformat_minor": 2
}
