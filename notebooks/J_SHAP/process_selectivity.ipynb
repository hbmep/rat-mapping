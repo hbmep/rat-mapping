{
 "cells": [
  {
   "cell_type": "code",
   "execution_count": 44,
   "metadata": {},
   "outputs": [],
   "source": [
    "import os\n",
    "import pickle\n",
    "import models\n",
    "\n",
    "import numpy as np\n",
    "import numpy.ma as ma\n",
    "import matplotlib.pyplot as plt\n",
    "import seaborn as sns\n",
    "from numpyro.diagnostics import hpdi\n",
    "\n",
    "from hbmep.nn import functional as F\n",
    "from hbmep.model.utils import Site as site\n",
    "\n",
    "\n",
    "from hbmep.config import Config\n",
    "from hbmep.model.utils import Site as site\n",
    "from scipy import stats\n",
    "\n",
    "from models import NonHierarchicalBayesianModel\n",
    "\n",
    "USER = os.environ[\"USER\"]\n",
    "\n",
    "MAX_THRESHOLD_CONST = 2.34 #CONSTANT WILL BE mean of rats for stim max / threshold for EVERY possible combination... ma.mean(ma.median((stim_max/ma.mean(a, axis=0)),axis = (1,2,3)),axis =0)\n",
    "NUM_THRESHOLD_POINTS = 500"
   ]
  },
  {
   "cell_type": "code",
   "execution_count": 2,
   "metadata": {},
   "outputs": [
    {
     "name": "stderr",
     "output_type": "stream",
     "text": [
      "An NVIDIA GPU may be present on this machine, but a CUDA-enabled jaxlib is not installed. Falling back to cpu.\n"
     ]
    }
   ],
   "source": [
    "src = f\"/home/andres/repos/rat-mapping-paper/reports/J_SHAP/non_hierarchical_bayesian_model/inference.pkl\"\n",
    "with open(src, \"rb\") as f:\n",
    "    (\n",
    "        df,\n",
    "        encoder_dict,\n",
    "        model,\n",
    "        posterior_samples,\n",
    "    ) = pickle.load(f)"
   ]
  },
  {
   "cell_type": "code",
   "execution_count": 3,
   "metadata": {},
   "outputs": [
    {
     "name": "stdout",
     "output_type": "stream",
     "text": [
      "a (4000, 8, 16, 4, 6)\n",
      "b (4000, 8, 16, 4, 6)\n",
      "L (4000, 8, 16, 4, 6)\n",
      "ℓ (4000, 8, 16, 4, 6)\n",
      "H (4000, 8, 16, 4, 6)\n"
     ]
    }
   ],
   "source": [
    "a = posterior_samples[site.a]\n",
    "b = posterior_samples[site.b]\n",
    "L = posterior_samples[site.L]\n",
    "ell = posterior_samples[site.ell]\n",
    "H = posterior_samples[site.H]\n",
    "\n",
    "x = np.linspace(0, 500, 1000)\n",
    "\n",
    "named_params = [site.a, site.b, site.L, site.ell, site.H]\n",
    "params = [posterior_samples[param][ ...] for param in named_params]\n",
    "\n",
    "for named_param, param in zip(named_params, params):\n",
    "    \n",
    "    print(named_param, param.shape)"
   ]
  },
  {
   "cell_type": "code",
   "execution_count": 4,
   "metadata": {},
   "outputs": [],
   "source": [
    "subjects = sorted(df['participant'].unique())\n",
    "# subjects = encoder_dict['participant'].inverse_transform(subjects)\n",
    "positions = sorted(df['compound_position'].unique())\n",
    "# positions = encoder_dict['compound_position'].inverse_transform(positions)\n",
    "charges = sorted(df['compound_charge_params'].unique())\n",
    "# charges = encoder_dict['compound_charge_params'].inverse_transform(charges)\n",
    "muscles = model.response\n"
   ]
  },
  {
   "cell_type": "code",
   "execution_count": 7,
   "metadata": {},
   "outputs": [],
   "source": [
    "compound_position = encoder_dict[model.features[1]].inverse_transform(sorted(df['compound_position'].unique()))\n",
    "mono = [c for c in compound_position if c.split(\"-\")[0] == \"\" or c.split(\"-\")[1] == \"\"]\n",
    "mono = np.array(mono)\n",
    "mono = mono\n",
    "mono_inds = encoder_dict[model.features[1]].transform(mono)"
   ]
  },
  {
   "cell_type": "code",
   "execution_count": 76,
   "metadata": {},
   "outputs": [
    {
     "data": {
      "text/plain": [
       "array(['-C6L', '-C7L', '-C8L', 'C6L-', 'C6L-C6M', 'C6L-C7L', 'C6M-C6L',\n",
       "       'C7L-', 'C7L-C6L', 'C7L-C7M', 'C7L-C8L', 'C7M-C7L', 'C8L-',\n",
       "       'C8L-C7L', 'C8L-C8M', 'C8M-C8L'], dtype=object)"
      ]
     },
     "execution_count": 76,
     "metadata": {},
     "output_type": "execute_result"
    }
   ],
   "source": [
    "compound_position"
   ]
  },
  {
   "cell_type": "code",
   "execution_count": 8,
   "metadata": {},
   "outputs": [
    {
     "data": {
      "text/plain": [
       "array([ 0,  1,  2,  3,  7, 12])"
      ]
     },
     "execution_count": 8,
     "metadata": {},
     "output_type": "execute_result"
    }
   ],
   "source": [
    "mono_inds"
   ]
  },
  {
   "cell_type": "code",
   "execution_count": 11,
   "metadata": {},
   "outputs": [],
   "source": [
    "cathode = [0,1,2] \n",
    "anode = [3,7,12]\n",
    "mono_inds = [(0,1,2), (3,7,12)]"
   ]
  },
  {
   "cell_type": "code",
   "execution_count": 16,
   "metadata": {},
   "outputs": [],
   "source": [
    "electrodes = ['cathode', 'anode']"
   ]
  },
  {
   "cell_type": "code",
   "execution_count": 41,
   "metadata": {},
   "outputs": [],
   "source": [
    "stim_max = []\n",
    "\n",
    "for s in subjects:\n",
    "    for e_ind, e in enumerate(electrodes):\n",
    "        for p in mono_inds[e_ind]:\n",
    "            for m in muscles: \n",
    "                temp = df[(df['participant'] == s) \n",
    "                        & (df['compound_position'] == p) \n",
    "                        & (df['compound_charge_params'] == 1)\n",
    "                        ]\n",
    "                temp = temp.loc[:,[m, 'pulse_amplitude']]\n",
    "                temp = temp.pulse_amplitude.max()\n",
    "                stim_max.append(temp)\n",
    "stim_max = ma.array(stim_max)\n",
    "stim_max = stim_max.reshape(len(subjects), len(electrodes), len(mono_inds[0]), len(muscles))"
   ]
  },
  {
   "cell_type": "code",
   "execution_count": 42,
   "metadata": {},
   "outputs": [
    {
     "data": {
      "text/plain": [
       "(8, 2, 3, 6)"
      ]
     },
     "execution_count": 42,
     "metadata": {},
     "output_type": "execute_result"
    }
   ],
   "source": [
    "stim_max.shape"
   ]
  },
  {
   "cell_type": "code",
   "execution_count": 21,
   "metadata": {},
   "outputs": [
    {
     "data": {
      "text/plain": [
       "(4000, 8, 16, 4, 6)"
      ]
     },
     "execution_count": 21,
     "metadata": {},
     "output_type": "execute_result"
    }
   ],
   "source": [
    "a.shape"
   ]
  },
  {
   "cell_type": "code",
   "execution_count": 36,
   "metadata": {},
   "outputs": [
    {
     "data": {
      "text/plain": [
       "array(['20-0-80-25', '50-0-50-0', '50-0-50-100', '80-0-20-400'],\n",
       "      dtype=object)"
      ]
     },
     "execution_count": 36,
     "metadata": {},
     "output_type": "execute_result"
    }
   ],
   "source": [
    "encoder_dict['compound_charge_params'].inverse_transform([0,1,2,3])"
   ]
  },
  {
   "cell_type": "code",
   "execution_count": 39,
   "metadata": {},
   "outputs": [],
   "source": [
    "arr = []\n",
    "for s in subjects:\n",
    "    for e_ind, e in enumerate(electrodes):\n",
    "        for p in mono_inds[e_ind]:\n",
    "            a_temp = a[:, s, p, 1,:]\n",
    "            arr.append(a_temp)\n",
    "arr = np.array(arr)\n",
    "arr = arr.reshape(len(subjects),len(electrodes), len(mono_inds[0]), *arr.shape[1:])"
   ]
  },
  {
   "cell_type": "code",
   "execution_count": 40,
   "metadata": {},
   "outputs": [
    {
     "data": {
      "text/plain": [
       "(8, 2, 3, 4000, 6)"
      ]
     },
     "execution_count": 40,
     "metadata": {},
     "output_type": "execute_result"
    }
   ],
   "source": [
    "arr.shape"
   ]
  },
  {
   "cell_type": "code",
   "execution_count": 43,
   "metadata": {},
   "outputs": [
    {
     "data": {
      "text/plain": [
       "2.3445656142722955"
      ]
     },
     "execution_count": 43,
     "metadata": {},
     "output_type": "execute_result"
    }
   ],
   "source": [
    "ma.mean(ma.median((stim_max/ma.mean(arr, axis=3)),axis = (1,2,3)),axis = 0)"
   ]
  },
  {
   "cell_type": "code",
   "execution_count": 29,
   "metadata": {},
   "outputs": [
    {
     "data": {
      "text/plain": [
       "(8, 2, 3, 4000, 4, 6)"
      ]
     },
     "execution_count": 29,
     "metadata": {},
     "output_type": "execute_result"
    }
   ],
   "source": [
    "arr.shape"
   ]
  },
  {
   "cell_type": "code",
   "execution_count": 38,
   "metadata": {},
   "outputs": [],
   "source": [
    "mono_inds = [(0,1,2),(3,7,12)]"
   ]
  },
  {
   "cell_type": "code",
   "execution_count": 49,
   "metadata": {},
   "outputs": [
    {
     "data": {
      "text/plain": [
       "[(0, 1, 2), (3, 7, 12)]"
      ]
     },
     "execution_count": 49,
     "metadata": {},
     "output_type": "execute_result"
    }
   ],
   "source": [
    "mono_inds"
   ]
  },
  {
   "cell_type": "code",
   "execution_count": 46,
   "metadata": {},
   "outputs": [
    {
     "name": "stderr",
     "output_type": "stream",
     "text": [
      "/tmp/ipykernel_3692217/3273236.py:11: RuntimeWarning: Mean of empty slice\n",
      "  temp = np.nanmean(curr_params[0], axis=0)\n"
     ]
    }
   ],
   "source": [
    "norm_y = []\n",
    "norm_x = []\n",
    "\n",
    "for subject_ind, subject in enumerate(subjects):\n",
    "        # Fix the subject index and size index\n",
    "    curr_params = [\n",
    "        params[:, subject_ind, mono_inds, 1,:, None] for params in params\n",
    "    ]\n",
    "\n",
    "    # Take nanmean across posterior samples\n",
    "    temp = np.nanmean(curr_params[0], axis=0)\n",
    "    \n",
    "    # Take nanmedian across compound positions and muscles\n",
    "    median_threshold = np.nanmedian(temp)\n",
    "\n",
    "    x_temp = np.linspace(0.,  median_threshold * MAX_THRESHOLD_CONST, NUM_THRESHOLD_POINTS)\n",
    "    x_temp = x_temp[ None, None, None,:]\n",
    "\n",
    "    temp_thresh = F.rectified_logistic(\n",
    "        x_temp, #x_temp\n",
    "        *curr_params\n",
    "    )\n",
    "    # Remove offset\n",
    "    temp_thresh = temp_thresh - curr_params[2]\n",
    "    norm_y.append(temp_thresh)\n",
    "    norm_x.append(x_temp)\n",
    "norm_x = np.array(norm_x)\n",
    "norm_x = norm_x.reshape(len(subjects),  *norm_x.shape[0:])\n",
    "norm_y = np.array(norm_y)\n",
    "norm_y = ma.masked_invalid(norm_y)\n",
    "norm_y = norm_y.reshape(len(subjects),  *norm_y.shape[0:])"
   ]
  },
  {
   "cell_type": "code",
   "execution_count": 50,
   "metadata": {},
   "outputs": [
    {
     "data": {
      "text/plain": [
       "(8, 4000, 2, 3, 6, 500)"
      ]
     },
     "execution_count": 50,
     "metadata": {},
     "output_type": "execute_result"
    }
   ],
   "source": [
    "norm_y.shape"
   ]
  },
  {
   "cell_type": "markdown",
   "metadata": {},
   "source": []
  },
  {
   "cell_type": "code",
   "execution_count": 52,
   "metadata": {},
   "outputs": [],
   "source": [
    "cath_y = norm_y[:,:,0,...]\n",
    "anode_y = norm_y[:,:,1,...]"
   ]
  },
  {
   "cell_type": "code",
   "execution_count": 54,
   "metadata": {},
   "outputs": [
    {
     "data": {
      "text/plain": [
       "(8, 4000, 3, 6, 500)"
      ]
     },
     "execution_count": 54,
     "metadata": {},
     "output_type": "execute_result"
    }
   ],
   "source": [
    "cath_y.shape"
   ]
  },
  {
   "cell_type": "code",
   "execution_count": 58,
   "metadata": {},
   "outputs": [],
   "source": [
    "cath_y_max = ma.max(cath_y, axis = (2,3,4), keepdims=True)\n",
    "anode_y_max = ma.max(anode_y, axis = (2,3,4), keepdims=True)"
   ]
  },
  {
   "cell_type": "code",
   "execution_count": 59,
   "metadata": {},
   "outputs": [],
   "source": [
    "cath_y = ma.where(cath_y_max, cath_y / cath_y_max, 0.)\n",
    "anode_y = ma.where(anode_y_max, anode_y / anode_y_max, 0.)"
   ]
  },
  {
   "cell_type": "code",
   "execution_count": 60,
   "metadata": {},
   "outputs": [
    {
     "data": {
      "text/plain": [
       "(8, 4000, 3, 6, 500)"
      ]
     },
     "execution_count": 60,
     "metadata": {},
     "output_type": "execute_result"
    }
   ],
   "source": [
    "cath_y.shape"
   ]
  },
  {
   "cell_type": "code",
   "execution_count": 62,
   "metadata": {},
   "outputs": [],
   "source": [
    "cath_p = ma.sum(cath_y, axis=-2, keepdims=True)\n",
    "anode_p = ma.sum(anode_y, axis=-2, keepdims=True)\n",
    "cath_p = ma.where(cath_p, cath_y / cath_p, cath_y.shape[-2])\n",
    "anode_p = ma.where(anode_p, anode_y / anode_p, anode_y.shape[-2])"
   ]
  },
  {
   "cell_type": "code",
   "execution_count": 63,
   "metadata": {},
   "outputs": [],
   "source": [
    "plogp_cath = ma.where(cath_p, cath_p * ma.log(cath_p), 0.)\n",
    "plogp_anode = ma.where(anode_p, anode_p * ma.log(anode_p), 0.)"
   ]
  },
  {
   "cell_type": "code",
   "execution_count": 64,
   "metadata": {},
   "outputs": [],
   "source": [
    "cath_entropy = 1 + (plogp_cath.sum(axis=-2) / ma.log(cath_y.shape[-2]))\n",
    "anode_entropy = 1 + (plogp_anode.sum(axis=-2) / ma.log(anode_y.shape[-2]))"
   ]
  },
  {
   "cell_type": "code",
   "execution_count": 65,
   "metadata": {},
   "outputs": [],
   "source": [
    "auc_cath = np.trapz(y=cath_entropy[...], x=np.linspace(0, MAX_THRESHOLD_CONST, NUM_THRESHOLD_POINTS), axis=-1)\n",
    "auc_anode = np.trapz(y=anode_entropy[...], x=np.linspace(0, MAX_THRESHOLD_CONST, NUM_THRESHOLD_POINTS), axis=-1)"
   ]
  },
  {
   "cell_type": "code",
   "execution_count": 67,
   "metadata": {},
   "outputs": [],
   "source": [
    "auc_cath = ma.mean(auc_cath, axis=1)\n",
    "auc_anode = ma.mean(auc_anode, axis=1)"
   ]
  },
  {
   "cell_type": "code",
   "execution_count": 74,
   "metadata": {},
   "outputs": [
    {
     "data": {
      "text/plain": [
       "14.97841301829909"
      ]
     },
     "execution_count": 74,
     "metadata": {},
     "output_type": "execute_result"
    }
   ],
   "source": [
    "ma.mean(auc_cath, axis=(0,1))\n"
   ]
  },
  {
   "cell_type": "code",
   "execution_count": 75,
   "metadata": {},
   "outputs": [
    {
     "data": {
      "text/plain": [
       "31.23043700542463"
      ]
     },
     "execution_count": 75,
     "metadata": {},
     "output_type": "execute_result"
    }
   ],
   "source": [
    "ma.mean(auc_anode, axis=(0,1))\n"
   ]
  },
  {
   "cell_type": "code",
   "execution_count": 68,
   "metadata": {},
   "outputs": [],
   "source": [
    "mat = auc_anode - auc_cath"
   ]
  },
  {
   "cell_type": "code",
   "execution_count": 70,
   "metadata": {},
   "outputs": [],
   "source": [
    "mat = ma.mean(mat, axis=1)"
   ]
  },
  {
   "cell_type": "code",
   "execution_count": 71,
   "metadata": {},
   "outputs": [
    {
     "data": {
      "text/plain": [
       "WilcoxonResult(statistic=5.0, pvalue=0.078125)"
      ]
     },
     "execution_count": 71,
     "metadata": {},
     "output_type": "execute_result"
    }
   ],
   "source": [
    "stats.wilcoxon(mat)"
   ]
  },
  {
   "cell_type": "code",
   "execution_count": 40,
   "metadata": {},
   "outputs": [],
   "source": [
    "compound_position = encoder_dict[model.features[1]].inverse_transform(sorted(df['compound_position'].unique()))\n",
    "mono = [c for c in compound_position if c.split(\"-\")[0] == \"\" or c.split(\"-\")[1] == \"\"]\n",
    "mono = np.array(mono)"
   ]
  },
  {
   "cell_type": "code",
   "execution_count": 8,
   "metadata": {},
   "outputs": [
    {
     "data": {
      "text/plain": [
       "'compound_position'"
      ]
     },
     "execution_count": 8,
     "metadata": {},
     "output_type": "execute_result"
    }
   ],
   "source": [
    "model.features[1]"
   ]
  },
  {
   "cell_type": "code",
   "execution_count": 42,
   "metadata": {},
   "outputs": [
    {
     "data": {
      "text/plain": [
       "array(['-C6L', '-C7L', '-C8L', 'C6L-', 'C7L-', 'C8L-'], dtype='<U4')"
      ]
     },
     "execution_count": 42,
     "metadata": {},
     "output_type": "execute_result"
    }
   ],
   "source": [
    "mono"
   ]
  },
  {
   "cell_type": "code",
   "execution_count": 43,
   "metadata": {},
   "outputs": [],
   "source": [
    "mono = encoder_dict[model.features[1]].transform(mono)\n"
   ]
  },
  {
   "cell_type": "code",
   "execution_count": null,
   "metadata": {},
   "outputs": [
    {
     "name": "stdout",
     "output_type": "stream",
     "text": [
      "['20-0-80-25' '50-0-50-0' '50-0-50-100' '80-0-20-400']\n"
     ]
    }
   ],
   "source": [
    "compound_charge = encoder_dict[model.features[2]].inverse_transform(sorted(df['compound_charge_params'].unique()))\n",
    "print(compound_charge)"
   ]
  },
  {
   "cell_type": "code",
   "execution_count": 21,
   "metadata": {},
   "outputs": [],
   "source": [
    "ind = [0,1,2]"
   ]
  },
  {
   "cell_type": "code",
   "execution_count": 32,
   "metadata": {},
   "outputs": [
    {
     "data": {
      "text/plain": [
       "array([0, 1, 2])"
      ]
     },
     "execution_count": 32,
     "metadata": {},
     "output_type": "execute_result"
    }
   ],
   "source": [
    "mono[:3]"
   ]
  },
  {
   "cell_type": "code",
   "execution_count": 24,
   "metadata": {},
   "outputs": [],
   "source": [
    "arr = arr.swapaxes(0, 1)\n"
   ]
  },
  {
   "cell_type": "code",
   "execution_count": 26,
   "metadata": {},
   "outputs": [],
   "source": [
    "arr = arr[:, :, ind, ...]"
   ]
  },
  {
   "cell_type": "code",
   "execution_count": 57,
   "metadata": {},
   "outputs": [
    {
     "data": {
      "text/plain": [
       "(8, 4000, 16, 4, 6, 500)"
      ]
     },
     "execution_count": 57,
     "metadata": {},
     "output_type": "execute_result"
    }
   ],
   "source": [
    "arr = norm_y\n",
    "arr = ma.masked_invalid(arr)\n",
    "arr.shape"
   ]
  },
  {
   "cell_type": "code",
   "execution_count": 47,
   "metadata": {},
   "outputs": [
    {
     "data": {
      "text/plain": [
       "(8, 4000, 6, 6, 500)"
      ]
     },
     "execution_count": 47,
     "metadata": {},
     "output_type": "execute_result"
    }
   ],
   "source": [
    "test = norm_y[...,mono,1,:,:]\n",
    "test.shape"
   ]
  },
  {
   "cell_type": "code",
   "execution_count": 58,
   "metadata": {},
   "outputs": [],
   "source": [
    "def get_entropy(elec_ind):\n",
    "    if elec_ind == 0:\n",
    "        elec_ind = mono[:3]\n",
    "    else:\n",
    "        elec_ind = mono[3:]\n",
    "    y = arr[...,elec_ind,1,:,:]\n",
    "    x = norm_x\n",
    "\n",
    "    y_max = ma.max(y, axis=(2,3, -1), keepdims=True) \n",
    "\n",
    "    y = ma.where(y, y / y_max, 0.)\n",
    "\n",
    "    p = ma.sum(y, axis=-2, keepdims=True)\n",
    "    p = ma.where(y, y / p, 0.)\n",
    "\n",
    "    plogp = ma.where(p, p * ma.log(p), 0.)\n",
    "\n",
    "    entropy = ma.where(\n",
    "        ma.any(p, axis=-2, keepdims=True),\n",
    "        (\n",
    "            1\n",
    "            + (ma.sum(plogp, axis=-2, keepdims=True) / np.log(plogp.shape[-2]))\n",
    "        ),\n",
    "        0.\n",
    "    )\n",
    "    entropy = entropy[..., 0, :]\n",
    "    entropy.shape\n",
    "\n",
    "    return entropy, x"
   ]
  },
  {
   "cell_type": "code",
   "execution_count": 59,
   "metadata": {},
   "outputs": [],
   "source": [
    "cathodic_entropy, cathodic_x = get_entropy(0)\n",
    "anodic_entropy, anodic_x = get_entropy(1)"
   ]
  },
  {
   "cell_type": "code",
   "execution_count": 35,
   "metadata": {},
   "outputs": [],
   "source": [
    "pseudo25_entropy, pseudo25_x = get_entropy(0)\n",
    "mono_entropy, mono_x = get_entropy(1)\n",
    "bi_entropy, bi_x = get_entropy(2)\n",
    "pseudo80_entropy, pseudo80_x = get_entropy(3)\n"
   ]
  },
  {
   "cell_type": "code",
   "execution_count": 52,
   "metadata": {},
   "outputs": [],
   "source": [
    "def AUC(entropy, x):\n",
    "    area_list = []\n",
    "    for subject_ind, subject in enumerate(subjects):\n",
    "        x_temp = x[subject_ind, 0,0, ...]\n",
    "        sample_integrals = entropy[:, subject_ind, ...]\n",
    "        area = np.trapz(sample_integrals, x_temp)\n",
    "        area_list.append(area)\n",
    "\n",
    "    area_list = np.array(area_list)\n",
    "    area_list = area_list.reshape(len(subjects), *area_list.shape[1:])\n",
    "    area_list = ma.masked_values(area_list, 0)\n",
    "    area_list_mean = ma.mean(area_list, axis=(-1, -2))\n",
    "    \n",
    "    return area_list_mean\n",
    "    "
   ]
  },
  {
   "cell_type": "code",
   "execution_count": 60,
   "metadata": {},
   "outputs": [],
   "source": [
    "cathodic = AUC(cathodic_entropy, cathodic_x)\n",
    "anodic = AUC(anodic_entropy, anodic_x)"
   ]
  },
  {
   "cell_type": "code",
   "execution_count": 48,
   "metadata": {},
   "outputs": [],
   "source": [
    "pseudo25 = AUC(pseudo25_entropy, pseudo25_x)\n",
    "mono = AUC(mono_entropy, mono_x)\n",
    "bi = AUC(bi_entropy, bi_x)\n",
    "pseudo80 = AUC(pseudo80_entropy, pseudo80_x)"
   ]
  },
  {
   "cell_type": "code",
   "execution_count": 54,
   "metadata": {},
   "outputs": [],
   "source": [
    "auc_list = [cathodic , anodic]"
   ]
  },
  {
   "cell_type": "code",
   "execution_count": 61,
   "metadata": {},
   "outputs": [
    {
     "data": {
      "text/plain": [
       "masked_array(data=[401.8133227804154, 498.29304357476747,\n",
       "                   526.457555664568, 216.19598743128378,\n",
       "                   105.27595208439043, 199.48292263557556,\n",
       "                   114.48068324463604, 58.940062908339925],\n",
       "             mask=[False, False, False, False, False, False, False, False],\n",
       "       fill_value=1e+20)"
      ]
     },
     "execution_count": 61,
     "metadata": {},
     "output_type": "execute_result"
    }
   ],
   "source": [
    "anodic"
   ]
  },
  {
   "cell_type": "code",
   "execution_count": 62,
   "metadata": {},
   "outputs": [],
   "source": [
    "src = f\"/home/andres/repos/rat-mapping-paper/notebooks/J_SHAP/cath_anode_selectivity_means.pkl\"\n",
    "\n",
    "with open(src, \"wb\") as f:\n",
    "    pickle.dump([cathodic , anodic], f)"
   ]
  },
  {
   "cell_type": "code",
   "execution_count": 68,
   "metadata": {},
   "outputs": [
    {
     "name": "stdout",
     "output_type": "stream",
     "text": [
      "20-0-80-25 50-0-50-0 0.13942974345812995\n",
      "20-0-80-25 50-0-50-100 0.04215669430193781\n",
      "20-0-80-25 80-0-20-400 0.02894819264413264\n",
      "50-0-50-0 20-0-80-25 0.86057025654187\n",
      "50-0-50-0 50-0-50-100 0.20342394860276447\n",
      "50-0-50-0 80-0-20-400 0.03345596220632771\n",
      "50-0-50-100 20-0-80-25 0.9578433056980622\n",
      "50-0-50-100 50-0-50-0 0.7965760513972355\n",
      "50-0-50-100 80-0-20-400 0.041965577763092204\n",
      "80-0-20-400 20-0-80-25 0.9710518073558674\n",
      "80-0-20-400 50-0-50-0 0.9665440377936723\n",
      "80-0-20-400 50-0-50-100 0.9580344222369078\n"
     ]
    }
   ],
   "source": [
    "for a1_ind, auc1 in enumerate(auc_list):\n",
    "    for a2_ind, auc2 in enumerate(auc_list):\n",
    "        if a1_ind == a2_ind:\n",
    "            continue\n",
    "        t = auc1 - auc2\n",
    "        ttest = stats.ttest_1samp(t, popmean=0, axis=0, alternative='less')\n",
    "        pvalue = ttest.pvalue\n",
    "        print(compound_charge[a1_ind], compound_charge[a2_ind], pvalue)"
   ]
  }
 ],
 "metadata": {
  "kernelspec": {
   "display_name": ".venv",
   "language": "python",
   "name": "python3"
  },
  "language_info": {
   "codemirror_mode": {
    "name": "ipython",
    "version": 3
   },
   "file_extension": ".py",
   "mimetype": "text/x-python",
   "name": "python",
   "nbconvert_exporter": "python",
   "pygments_lexer": "ipython3",
   "version": "3.11.9"
  }
 },
 "nbformat": 4,
 "nbformat_minor": 2
}
