{
 "cells": [
  {
   "cell_type": "code",
   "execution_count": 1,
   "metadata": {},
   "outputs": [],
   "source": [
    "import os\n",
    "import pickle\n",
    "import models\n",
    "\n",
    "import numpy as np\n",
    "import numpy.ma as ma\n",
    "import matplotlib.pyplot as plt\n",
    "import seaborn as sns\n",
    "from numpyro.diagnostics import hpdi\n",
    "\n",
    "from hbmep.nn import functional as F\n",
    "from hbmep.model.utils import Site as site\n",
    "\n",
    "from hbmep.config import Config\n",
    "from hbmep.model.utils import Site as site\n",
    "from scipy import stats\n",
    "\n",
    "from models import NonHierarchicalBayesianModel\n",
    "\n",
    "USER = os.environ[\"USER\"]"
   ]
  },
  {
   "cell_type": "code",
   "execution_count": 2,
   "metadata": {},
   "outputs": [
    {
     "name": "stderr",
     "output_type": "stream",
     "text": [
      "An NVIDIA GPU may be present on this machine, but a CUDA-enabled jaxlib is not installed. Falling back to cpu.\n"
     ]
    }
   ],
   "source": [
    "src = f\"/home/andres/repos/rat-mapping-paper/reports/J_SHAP/non_hierarchical_bayesian_model/inference.pkl\"\n",
    "with open(src, \"rb\") as f:\n",
    "    (\n",
    "        df,\n",
    "        encoder_dict,\n",
    "        model,\n",
    "        posterior_samples,\n",
    "    ) = pickle.load(f)"
   ]
  },
  {
   "cell_type": "code",
   "execution_count": 3,
   "metadata": {},
   "outputs": [
    {
     "name": "stdout",
     "output_type": "stream",
     "text": [
      "a (4000, 8, 16, 4, 6)\n",
      "b (4000, 8, 16, 4, 6)\n",
      "L (4000, 8, 16, 4, 6)\n",
      "ℓ (4000, 8, 16, 4, 6)\n",
      "H (4000, 8, 16, 4, 6)\n"
     ]
    }
   ],
   "source": [
    "a = posterior_samples[site.a]\n",
    "b = posterior_samples[site.b]\n",
    "L = posterior_samples[site.L]\n",
    "ell = posterior_samples[site.ell]\n",
    "H = posterior_samples[site.H]\n",
    "\n",
    "x = np.linspace(0, 500, 1000)\n",
    "\n",
    "named_params = [site.a, site.b, site.L, site.ell, site.H]\n",
    "params = [posterior_samples[param][ ...] for param in named_params]\n",
    "\n",
    "for named_param, param in zip(named_params, params):\n",
    "    \n",
    "    print(named_param, param.shape)"
   ]
  },
  {
   "cell_type": "code",
   "execution_count": 4,
   "metadata": {},
   "outputs": [],
   "source": [
    "subjects = df['participant'].unique()\n",
    "subjects = sorted(encoder_dict['participant'].inverse_transform(subjects))\n"
   ]
  },
  {
   "cell_type": "code",
   "execution_count": 5,
   "metadata": {},
   "outputs": [
    {
     "name": "stderr",
     "output_type": "stream",
     "text": [
      "/tmp/ipykernel_324476/2844543049.py:8: RuntimeWarning: Mean of empty slice\n",
      "  constant = np.nanmedian(np.nanmean(curr_params[0], axis=0))\n",
      "/tmp/ipykernel_324476/2844543049.py:8: RuntimeWarning: Mean of empty slice\n",
      "  constant = np.nanmedian(np.nanmean(curr_params[0], axis=0))\n"
     ]
    }
   ],
   "source": [
    "norm_y = []\n",
    "norm_x = []\n",
    "\n",
    "for subject_ind, subject in enumerate(subjects):\n",
    "    curr_params = [\n",
    "        param[:, subject_ind, ...][..., None] for param in params\n",
    "    ]\n",
    "    constant = np.nanmedian(np.nanmean(curr_params[0], axis=0))\n",
    "\n",
    "    x_temp = np.linspace(0., 5 * constant, 500)\n",
    "    x_temp = x_temp[None, None, None, None, :]\n",
    "\n",
    "    temp_thresh = F.rectified_logistic(\n",
    "        x_temp,\n",
    "        *curr_params\n",
    "    )\n",
    "    temp_thresh = temp_thresh - curr_params[2]\n",
    "    norm_y.append(temp_thresh)\n",
    "    norm_x.append(x_temp)\n",
    "\n",
    "norm_y = np.array(norm_y)\n",
    "norm_x = np.array(norm_x)\n",
    "\n",
    "# print(norm_y.shape)\n",
    "# print(norm_x.shape)"
   ]
  },
  {
   "cell_type": "code",
   "execution_count": 39,
   "metadata": {},
   "outputs": [
    {
     "data": {
      "text/plain": [
       "(8, 4000, 16, 4, 6, 500)"
      ]
     },
     "execution_count": 39,
     "metadata": {},
     "output_type": "execute_result"
    }
   ],
   "source": [
    "norm_y.shape"
   ]
  },
  {
   "cell_type": "code",
   "execution_count": 40,
   "metadata": {},
   "outputs": [],
   "source": [
    "compound_position = encoder_dict[model.features[1]].inverse_transform(sorted(df['compound_position'].unique()))\n",
    "mono = [c for c in compound_position if c.split(\"-\")[0] == \"\" or c.split(\"-\")[1] == \"\"]\n",
    "mono = np.array(mono)"
   ]
  },
  {
   "cell_type": "code",
   "execution_count": 8,
   "metadata": {},
   "outputs": [
    {
     "data": {
      "text/plain": [
       "'compound_position'"
      ]
     },
     "execution_count": 8,
     "metadata": {},
     "output_type": "execute_result"
    }
   ],
   "source": [
    "model.features[1]"
   ]
  },
  {
   "cell_type": "code",
   "execution_count": 42,
   "metadata": {},
   "outputs": [
    {
     "data": {
      "text/plain": [
       "array(['-C6L', '-C7L', '-C8L', 'C6L-', 'C7L-', 'C8L-'], dtype='<U4')"
      ]
     },
     "execution_count": 42,
     "metadata": {},
     "output_type": "execute_result"
    }
   ],
   "source": [
    "mono"
   ]
  },
  {
   "cell_type": "code",
   "execution_count": 43,
   "metadata": {},
   "outputs": [],
   "source": [
    "mono = encoder_dict[model.features[1]].transform(mono)\n"
   ]
  },
  {
   "cell_type": "code",
   "execution_count": null,
   "metadata": {},
   "outputs": [
    {
     "name": "stdout",
     "output_type": "stream",
     "text": [
      "['20-0-80-25' '50-0-50-0' '50-0-50-100' '80-0-20-400']\n"
     ]
    }
   ],
   "source": [
    "compound_charge = encoder_dict[model.features[2]].inverse_transform(sorted(df['compound_charge_params'].unique()))\n",
    "print(compound_charge)"
   ]
  },
  {
   "cell_type": "code",
   "execution_count": 21,
   "metadata": {},
   "outputs": [],
   "source": [
    "ind = [0,1,2]"
   ]
  },
  {
   "cell_type": "code",
   "execution_count": 32,
   "metadata": {},
   "outputs": [
    {
     "data": {
      "text/plain": [
       "array([0, 1, 2])"
      ]
     },
     "execution_count": 32,
     "metadata": {},
     "output_type": "execute_result"
    }
   ],
   "source": [
    "mono[:3]"
   ]
  },
  {
   "cell_type": "code",
   "execution_count": 24,
   "metadata": {},
   "outputs": [],
   "source": [
    "arr = arr.swapaxes(0, 1)\n"
   ]
  },
  {
   "cell_type": "code",
   "execution_count": 26,
   "metadata": {},
   "outputs": [],
   "source": [
    "arr = arr[:, :, ind, ...]"
   ]
  },
  {
   "cell_type": "code",
   "execution_count": 57,
   "metadata": {},
   "outputs": [
    {
     "data": {
      "text/plain": [
       "(8, 4000, 16, 4, 6, 500)"
      ]
     },
     "execution_count": 57,
     "metadata": {},
     "output_type": "execute_result"
    }
   ],
   "source": [
    "arr = norm_y\n",
    "arr = ma.masked_invalid(arr)\n",
    "arr.shape"
   ]
  },
  {
   "cell_type": "code",
   "execution_count": 47,
   "metadata": {},
   "outputs": [
    {
     "data": {
      "text/plain": [
       "(8, 4000, 6, 6, 500)"
      ]
     },
     "execution_count": 47,
     "metadata": {},
     "output_type": "execute_result"
    }
   ],
   "source": [
    "test = norm_y[...,mono,1,:,:]\n",
    "test.shape"
   ]
  },
  {
   "cell_type": "code",
   "execution_count": 58,
   "metadata": {},
   "outputs": [],
   "source": [
    "def get_entropy(elec_ind):\n",
    "    if elec_ind == 0:\n",
    "        elec_ind = mono[:3]\n",
    "    else:\n",
    "        elec_ind = mono[3:]\n",
    "    y = arr[...,elec_ind,1,:,:]\n",
    "    x = norm_x\n",
    "\n",
    "    y_max = ma.max(y, axis=(2,3, -1), keepdims=True) \n",
    "\n",
    "    y = ma.where(y, y / y_max, 0.)\n",
    "\n",
    "    p = ma.sum(y, axis=-2, keepdims=True)\n",
    "    p = ma.where(y, y / p, 0.)\n",
    "\n",
    "    plogp = ma.where(p, p * ma.log(p), 0.)\n",
    "\n",
    "    entropy = ma.where(\n",
    "        ma.any(p, axis=-2, keepdims=True),\n",
    "        (\n",
    "            1\n",
    "            + (ma.sum(plogp, axis=-2, keepdims=True) / np.log(plogp.shape[-2]))\n",
    "        ),\n",
    "        0.\n",
    "    )\n",
    "    entropy = entropy[..., 0, :]\n",
    "    entropy.shape\n",
    "\n",
    "    return entropy, x"
   ]
  },
  {
   "cell_type": "code",
   "execution_count": 59,
   "metadata": {},
   "outputs": [],
   "source": [
    "cathodic_entropy, cathodic_x = get_entropy(0)\n",
    "anodic_entropy, anodic_x = get_entropy(1)"
   ]
  },
  {
   "cell_type": "code",
   "execution_count": 35,
   "metadata": {},
   "outputs": [],
   "source": [
    "pseudo25_entropy, pseudo25_x = get_entropy(0)\n",
    "mono_entropy, mono_x = get_entropy(1)\n",
    "bi_entropy, bi_x = get_entropy(2)\n",
    "pseudo80_entropy, pseudo80_x = get_entropy(3)\n"
   ]
  },
  {
   "cell_type": "code",
   "execution_count": 52,
   "metadata": {},
   "outputs": [],
   "source": [
    "def AUC(entropy, x):\n",
    "    area_list = []\n",
    "    for subject_ind, subject in enumerate(subjects):\n",
    "        x_temp = x[subject_ind, 0,0, ...]\n",
    "        sample_integrals = entropy[:, subject_ind, ...]\n",
    "        area = np.trapz(sample_integrals, x_temp)\n",
    "        area_list.append(area)\n",
    "\n",
    "    area_list = np.array(area_list)\n",
    "    area_list = area_list.reshape(len(subjects), *area_list.shape[1:])\n",
    "    area_list = ma.masked_values(area_list, 0)\n",
    "    area_list_mean = ma.mean(area_list, axis=(-1, -2))\n",
    "    \n",
    "    return area_list_mean\n",
    "    "
   ]
  },
  {
   "cell_type": "code",
   "execution_count": 60,
   "metadata": {},
   "outputs": [],
   "source": [
    "cathodic = AUC(cathodic_entropy, cathodic_x)\n",
    "anodic = AUC(anodic_entropy, anodic_x)"
   ]
  },
  {
   "cell_type": "code",
   "execution_count": 48,
   "metadata": {},
   "outputs": [],
   "source": [
    "pseudo25 = AUC(pseudo25_entropy, pseudo25_x)\n",
    "mono = AUC(mono_entropy, mono_x)\n",
    "bi = AUC(bi_entropy, bi_x)\n",
    "pseudo80 = AUC(pseudo80_entropy, pseudo80_x)"
   ]
  },
  {
   "cell_type": "code",
   "execution_count": 54,
   "metadata": {},
   "outputs": [],
   "source": [
    "auc_list = [cathodic , anodic]"
   ]
  },
  {
   "cell_type": "code",
   "execution_count": 61,
   "metadata": {},
   "outputs": [
    {
     "data": {
      "text/plain": [
       "masked_array(data=[401.8133227804154, 498.29304357476747,\n",
       "                   526.457555664568, 216.19598743128378,\n",
       "                   105.27595208439043, 199.48292263557556,\n",
       "                   114.48068324463604, 58.940062908339925],\n",
       "             mask=[False, False, False, False, False, False, False, False],\n",
       "       fill_value=1e+20)"
      ]
     },
     "execution_count": 61,
     "metadata": {},
     "output_type": "execute_result"
    }
   ],
   "source": [
    "anodic"
   ]
  },
  {
   "cell_type": "code",
   "execution_count": 62,
   "metadata": {},
   "outputs": [],
   "source": [
    "src = f\"/home/andres/repos/rat-mapping-paper/notebooks/J_SHAP/cath_anode_selectivity_means.pkl\"\n",
    "\n",
    "with open(src, \"wb\") as f:\n",
    "    pickle.dump([cathodic , anodic], f)"
   ]
  },
  {
   "cell_type": "code",
   "execution_count": 68,
   "metadata": {},
   "outputs": [
    {
     "name": "stdout",
     "output_type": "stream",
     "text": [
      "20-0-80-25 50-0-50-0 0.13942974345812995\n",
      "20-0-80-25 50-0-50-100 0.04215669430193781\n",
      "20-0-80-25 80-0-20-400 0.02894819264413264\n",
      "50-0-50-0 20-0-80-25 0.86057025654187\n",
      "50-0-50-0 50-0-50-100 0.20342394860276447\n",
      "50-0-50-0 80-0-20-400 0.03345596220632771\n",
      "50-0-50-100 20-0-80-25 0.9578433056980622\n",
      "50-0-50-100 50-0-50-0 0.7965760513972355\n",
      "50-0-50-100 80-0-20-400 0.041965577763092204\n",
      "80-0-20-400 20-0-80-25 0.9710518073558674\n",
      "80-0-20-400 50-0-50-0 0.9665440377936723\n",
      "80-0-20-400 50-0-50-100 0.9580344222369078\n"
     ]
    }
   ],
   "source": [
    "for a1_ind, auc1 in enumerate(auc_list):\n",
    "    for a2_ind, auc2 in enumerate(auc_list):\n",
    "        if a1_ind == a2_ind:\n",
    "            continue\n",
    "        t = auc1 - auc2\n",
    "        ttest = stats.ttest_1samp(t, popmean=0, axis=0, alternative='less')\n",
    "        pvalue = ttest.pvalue\n",
    "        print(compound_charge[a1_ind], compound_charge[a2_ind], pvalue)"
   ]
  }
 ],
 "metadata": {
  "kernelspec": {
   "display_name": ".venv",
   "language": "python",
   "name": "python3"
  },
  "language_info": {
   "codemirror_mode": {
    "name": "ipython",
    "version": 3
   },
   "file_extension": ".py",
   "mimetype": "text/x-python",
   "name": "python",
   "nbconvert_exporter": "python",
   "pygments_lexer": "ipython3",
   "version": "3.11.9"
  }
 },
 "nbformat": 4,
 "nbformat_minor": 2
}
