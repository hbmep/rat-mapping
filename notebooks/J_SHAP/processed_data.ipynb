{
 "cells": [
  {
   "cell_type": "code",
   "execution_count": 1,
   "metadata": {},
   "outputs": [],
   "source": [
    "import os\n",
    "import pickle\n",
    "import models\n",
    "\n",
    "import numpy as np\n",
    "import numpy.ma as ma\n",
    "import matplotlib.pyplot as plt\n",
    "import seaborn as sns\n",
    "from numpyro.diagnostics import hpdi\n",
    "\n",
    "from hbmep.nn import functional as F\n",
    "from hbmep.model.utils import Site as site\n",
    "\n",
    "from hbmep.config import Config\n",
    "from hbmep.model.utils import Site as site\n",
    "from scipy import stats\n",
    "\n",
    "from models import NonHierarchicalBayesianModel\n",
    "\n",
    "USER = os.environ[\"USER\"]\n"
   ]
  },
  {
   "cell_type": "code",
   "execution_count": 2,
   "metadata": {},
   "outputs": [
    {
     "name": "stderr",
     "output_type": "stream",
     "text": [
      "An NVIDIA GPU may be present on this machine, but a CUDA-enabled jaxlib is not installed. Falling back to cpu.\n"
     ]
    }
   ],
   "source": [
    "src = f\"/home/{USER}/repos/rat-mapping-paper/reports/J_SHAP/non_hierarchical_bayesian_model/processed_inference.pkl\"\n",
    "\n",
    "with open(src, \"rb\") as f:\n",
    "    (\n",
    "        df,\n",
    "        encoder_dict,\n",
    "        model,\n",
    "        posterior_samples,\n",
    "        y,\n",
    "        subjects_inv,\n",
    "        compound_positions_inv,\n",
    "        compound_charge_params_inv,\n",
    "    ) = pickle.load(f)\n"
   ]
  },
  {
   "cell_type": "code",
   "execution_count": 3,
   "metadata": {},
   "outputs": [
    {
     "data": {
      "text/plain": [
       "(4000, 8, 16, 4, 6)"
      ]
     },
     "execution_count": 3,
     "metadata": {},
     "output_type": "execute_result"
    }
   ],
   "source": [
    "a = posterior_samples['a']\n",
    "a.shape"
   ]
  },
  {
   "cell_type": "code",
   "execution_count": 4,
   "metadata": {},
   "outputs": [
    {
     "ename": "NameError",
     "evalue": "name 'musc_ind' is not defined",
     "output_type": "error",
     "traceback": [
      "\u001b[0;31m---------------------------------------------------------------------------\u001b[0m",
      "\u001b[0;31mNameError\u001b[0m                                 Traceback (most recent call last)",
      "Cell \u001b[0;32mIn[4], line 4\u001b[0m\n\u001b[1;32m      1\u001b[0m ind \u001b[38;5;241m=\u001b[39m [\u001b[38;5;241m0\u001b[39m,\u001b[38;5;241m1\u001b[39m,\u001b[38;5;241m2\u001b[39m,\u001b[38;5;241m3\u001b[39m,\u001b[38;5;241m7\u001b[39m,\u001b[38;5;241m12\u001b[39m]\n\u001b[1;32m      2\u001b[0m labs \u001b[38;5;241m=\u001b[39m [compound_positions_inv[i] \u001b[38;5;28;01mfor\u001b[39;00m i \u001b[38;5;129;01min\u001b[39;00m ind]\n\u001b[0;32m----> 4\u001b[0m \u001b[38;5;28;01mif\u001b[39;00m \u001b[43mmusc_ind\u001b[49m \u001b[38;5;241m==\u001b[39m \u001b[38;5;241m6\u001b[39m:\n\u001b[1;32m      5\u001b[0m     musc \u001b[38;5;241m=\u001b[39m \u001b[38;5;124m\"\u001b[39m\u001b[38;5;124mAll Muscles\u001b[39m\u001b[38;5;124m\"\u001b[39m\n\u001b[1;32m      6\u001b[0m \u001b[38;5;28;01melse\u001b[39;00m:\n",
      "\u001b[0;31mNameError\u001b[0m: name 'musc_ind' is not defined"
     ]
    }
   ],
   "source": [
    "ind = [0,1,2,3,7,12]\n",
    "labs = [compound_positions_inv[i] for i in ind]\n",
    "\n",
    "if musc_ind == 6:\n",
    "    musc = \"All Muscles\"\n",
    "else:\n",
    "    musc = model.response[musc_ind]\n",
    "\n",
    "### ACTUAL CALCULATION\n",
    "a_test = a[:,:,ind,...]\n",
    "a_test = a_test / ma.median(a_test, axis = (0,2,3,-1), keepdims=True)\n",
    "\n",
    "a_mean = ma.mean(a_test, axis=(0, 3, -1))\n",
    "a_mean.shape\n",
    "\n",
    "t = (a_mean[:, :, None] - a_mean[:, None, :])\n",
    "test = stats.ttest_1samp(t, popmean=0, alternative=\"two-sided\", axis=(0))\n",
    "\n",
    "### GET MEAN TO PLOT\n",
    "p_mean = t.mean(axis=0)\n",
    "### GET P VALUES\n",
    "p = test.pvalue\n",
    "\n",
    "data = []\n",
    "for ind_i, i in enumerate(p):\n",
    "    for ind_j, j in enumerate(i):\n",
    "        data.append(f\"{p_mean[ind_i, ind_j]:.3f} \\n {j:.3f}  \")\n",
    "        \n",
    "data = np.array(data).reshape(len(ind),len(ind))\n",
    "\n",
    "#MASK LOWER TRIANGLE\n",
    "mask2= np.array(p)\n",
    "mask2 = np.tril(np.ones_like(mask2)).astype(bool)\n",
    "\n",
    "#CORRECT LABELS\n",
    "labels = np.array(labs)\n",
    "labels = labels.astype('U20')\n",
    "\n",
    "#PLOT\n",
    "ax=sns.heatmap(p_mean, xticklabels=labels, yticklabels=labels,annot=data,fmt = '',center = 0, cmap = \"coolwarm\",cbar = False, mask = mask2)\n",
    "\n",
    "\n",
    "##ADD HATCH FOR SIGNIFICANCE\n",
    "handles = []\n",
    "hatch_mask = p > 0.1\n",
    "\n",
    "for i in range (p.shape[0]):\n",
    "    for j in range(p.shape[1]):\n",
    "        if hatch_mask[i, j]:\n",
    "            ax.add_patch(plt.Rectangle((j, i), 1, 1, fill=False, hatch='////', edgecolor='white'))\n",
    "handles.append(plt.Rectangle((0, 0), 0, 0, color='white', ec='black',\n",
    "                    hatch='', label=\"Significant\"))\n",
    "handles.append(plt.Rectangle((0, 0), 0, 0, color='white', ec='black',\n",
    "                    hatch='////', label=\"Not Significant\"))\n",
    "handles.append(plt.Rectangle((0, 0), 0, 0, color='blue', ec='black',\n",
    "                    hatch='', label=\"Row Element Lower Threshold\"))\n",
    "handles.append(plt.Rectangle((0, 0), 0, 0, color='Red', ec='black',\n",
    "                    hatch='', label=\"Row Element Higher Threshold\"))\n",
    "ax.legend(handles=handles, loc='lower left', bbox_to_anchor=(0, .1),\n",
    "        handlelength=2, handleheight=2, frameon=False)\n",
    "ax.tick_params(left= False,labelleft = False, bottom= False,labelbottom= False,right=True, top=True, labelright=True, labeltop=True, labelrotation=0)\n",
    "\n",
    "ax.yaxis.tick_right()\n",
    "ax.title.set_text(f\"{musc}\")\n"
   ]
  },
  {
   "cell_type": "code",
   "execution_count": 24,
   "metadata": {},
   "outputs": [
    {
     "data": {
      "text/plain": [
       "['-C6L',\n",
       " '-C7L',\n",
       " '-C8L',\n",
       " 'C6L-',\n",
       " 'C6L-C6M',\n",
       " 'C6L-C7L',\n",
       " 'C6M-C6L',\n",
       " 'C7L-',\n",
       " 'C7L-C6L',\n",
       " 'C7L-C7M',\n",
       " 'C7L-C8L',\n",
       " 'C7M-C7L',\n",
       " 'C8L-',\n",
       " 'C8L-C7L',\n",
       " 'C8L-C8M',\n",
       " 'C8M-C8L']"
      ]
     },
     "execution_count": 24,
     "metadata": {},
     "output_type": "execute_result"
    }
   ],
   "source": [
    "compound_positions_inv"
   ]
  },
  {
   "cell_type": "code",
   "execution_count": 25,
   "metadata": {},
   "outputs": [],
   "source": [
    "def threshold_plot(musc_ind):\n",
    "    ind = [0,1,2,3,7,12]\n",
    "    labs = [compound_positions_inv[i] for i in ind]\n",
    "\n",
    "\n",
    "\n",
    "    if musc_ind == 6:\n",
    "        musc = \"All Muscles\"  \n",
    "    ### ACTUAL CALCULATION\n",
    "        a_test = a[:,:,ind,...]\n",
    "        a_test = a_test / ma.median(a_test, axis = (0,2,3,-1), keepdims=True)\n",
    "\n",
    "        a_mean = ma.mean(a_test, axis=(0, 3, -1))\n",
    "        a_mean.shape\n",
    "\n",
    "        t = (a_mean[:, :, None] - a_mean[:, None, :])\n",
    "        test = stats.ttest_1samp(t, popmean=0, alternative=\"two-sided\", axis=(0))\n",
    "\n",
    "    ### GET MEAN TO PLOT\n",
    "        p_mean = t.mean(axis=0)\n",
    "    ### GET P VALUES\n",
    "        p = test.pvalue\n",
    "\n",
    "    else:\n",
    "        musc = model.response[musc_ind]\n",
    "        \n",
    "        a_test = a[:,:,ind,...]\n",
    "        a_test = a_test[...,0]\n",
    "        a_test.shape\n",
    "\n",
    "        a_test = a_test / ma.median(a_test, keepdims=True)\n",
    "\n",
    "        a_mean = ma.mean(a_test, axis=(0,-1))\n",
    "        a_mean.shape\n",
    "\n",
    "        t = (a_mean[:, :, None] - a_mean[:, None, :])\n",
    "        test = stats.ttest_1samp(t, popmean=0, alternative=\"two-sided\", axis=(0))\n",
    "\n",
    "        #     ### GET MEAN TO PLOT\n",
    "        p_mean = t.mean(axis=0)\n",
    "        p = test.pvalue\n",
    "\n",
    "\n",
    "    data = []\n",
    "    for ind_i, i in enumerate(p):\n",
    "        for ind_j, j in enumerate(i):\n",
    "            data.append(f\"{p_mean[ind_i, ind_j]:.3f} \\n {j:.3f}  \")\n",
    "            \n",
    "    data = np.array(data).reshape(len(ind),len(ind))\n",
    "\n",
    "    #MASK LOWER TRIANGLE\n",
    "    mask2= np.array(p)\n",
    "    mask2 = np.tril(np.ones_like(mask2)).astype(bool)\n",
    "\n",
    "    #CORRECT LABELS\n",
    "    labels = np.array(labs)\n",
    "    labels = labels.astype('U20')\n",
    "\n",
    "    #PLOT\n",
    "    ax=sns.heatmap(p_mean, xticklabels=labels, yticklabels=labels,annot=data,fmt = '',center = 0, cmap = \"coolwarm\",cbar = False, mask = mask2)\n",
    "\n",
    "\n",
    "    ##ADD HATCH FOR SIGNIFICANCE\n",
    "    handles = []\n",
    "    hatch_mask = p > 0.1\n",
    "\n",
    "    for i in range (p.shape[0]):\n",
    "        for j in range(p.shape[1]):\n",
    "            if hatch_mask[i, j]:\n",
    "                ax.add_patch(plt.Rectangle((j, i), 1, 1, fill=False, hatch='////', edgecolor='white'))\n",
    "    handles.append(plt.Rectangle((0, 0), 0, 0, color='white', ec='black',\n",
    "                        hatch='', label=\"Significant\"))\n",
    "    handles.append(plt.Rectangle((0, 0), 0, 0, color='white', ec='black',\n",
    "                        hatch='////', label=\"Not Significant\"))\n",
    "    handles.append(plt.Rectangle((0, 0), 0, 0, color='blue', ec='black',\n",
    "                        hatch='', label=\"Row Element Lower Threshold\"))\n",
    "    handles.append(plt.Rectangle((0, 0), 0, 0, color='Red', ec='black',\n",
    "                        hatch='', label=\"Row Element Higher Threshold\"))\n",
    "    ax.legend(handles=handles, loc='lower left', bbox_to_anchor=(0, .1),\n",
    "            handlelength=2, handleheight=2, frameon=False)\n",
    "    ax.tick_params(left= False,labelleft = False, bottom= False,labelbottom= False,right=True, top=True, labelright=True, labeltop=True, labelrotation=0)\n",
    "\n",
    "    ax.yaxis.tick_right()\n",
    "    ax.title.set_text(f\"{musc}\")"
   ]
  },
  {
   "cell_type": "code",
   "execution_count": 26,
   "metadata": {},
   "outputs": [
    {
     "name": "stderr",
     "output_type": "stream",
     "text": [
      "/tmp/ipykernel_2398903/1516618876.py:47: FutureWarning: Format strings passed to MaskedConstant are ignored, but in future may error or produce different behavior\n",
      "  data.append(f\"{p_mean[ind_i, ind_j]:.3f} \\n {j:.3f}  \")\n"
     ]
    },
    {
     "data": {
      "image/png": "[encoded data removed]",
      "text/plain": [
       "<Figure size 640x480 with 1 Axes>"
      ]
     },
     "metadata": {},
     "output_type": "display_data"
    }
   ],
   "source": [
    "threshold_plot(5)"
   ]
  },
  {
   "cell_type": "code",
   "execution_count": 10,
   "metadata": {},
   "outputs": [
    {
     "data": {
      "text/plain": [
       "(4000, 8, 6, 4, 6)"
      ]
     },
     "execution_count": 10,
     "metadata": {},
     "output_type": "execute_result"
    }
   ],
   "source": [
    "ind = [0,1,2,3,7,12]\n",
    "a[:,:,ind,...].shape"
   ]
  },
  {
   "cell_type": "code",
   "execution_count": 21,
   "metadata": {},
   "outputs": [
    {
     "data": {
      "text/plain": [
       "['-C6L',\n",
       " '-C7L',\n",
       " '-C8L',\n",
       " 'C6L-',\n",
       " 'C6L-C6M',\n",
       " 'C6L-C7L',\n",
       " 'C6M-C6L',\n",
       " 'C7L-',\n",
       " 'C7L-C6L',\n",
       " 'C7L-C7M',\n",
       " 'C7L-C8L',\n",
       " 'C7M-C7L',\n",
       " 'C8L-',\n",
       " 'C8L-C7L',\n",
       " 'C8L-C8M',\n",
       " 'C8M-C8L']"
      ]
     },
     "execution_count": 21,
     "metadata": {},
     "output_type": "execute_result"
    }
   ],
   "source": [
    "compound_positions_inv"
   ]
  },
  {
   "cell_type": "code",
   "execution_count": 29,
   "metadata": {},
   "outputs": [],
   "source": [
    "def pulse_shape(musc_ind):\n",
    "    ind = [0,1,2]\n",
    "    labs = compound_charge_params_inv\n",
    "\n",
    "\n",
    "    if musc_ind == 6:\n",
    "        musc = \"All Muscles\"  \n",
    "    ### ACTUAL CALCULATION\n",
    "        a_test = a[:,:,ind,...]\n",
    "        a_test = a_test / ma.median(a_test, axis = (0,2,3,-1), keepdims=True)\n",
    "\n",
    "        a_mean = ma.mean(a_test, axis=(0, 2, -1))\n",
    "        a_mean.shape\n",
    "\n",
    "        t = (a_mean[:, :, None] - a_mean[:, None, :])\n",
    "        test = stats.ttest_1samp(t, popmean=0, alternative=\"two-sided\", axis=(0))\n",
    "\n",
    "    ### GET MEAN TO PLOT\n",
    "        p_mean = t.mean(axis=0)\n",
    "    ### GET P VALUES\n",
    "        p = test.pvalue\n",
    "\n",
    "    else:\n",
    "        musc = model.response[musc_ind]\n",
    "        \n",
    "        a_test = a[:,:,ind,...]\n",
    "        a_test = a_test[...,0]\n",
    "        a_test.shape\n",
    "\n",
    "        a_test = a_test / ma.median(a_test, keepdims=True)\n",
    "\n",
    "        a_mean = ma.mean(a_test, axis=(0,-1))\n",
    "        a_mean.shape\n",
    "\n",
    "        t = (a_mean[:, :, None] - a_mean[:, None, :])\n",
    "        test = stats.ttest_1samp(t, popmean=0, alternative=\"two-sided\", axis=(0))\n",
    "\n",
    "        #     ### GET MEAN TO PLOT\n",
    "        p_mean = t.mean(axis=0)\n",
    "        p = test.pvalue\n",
    "\n",
    "\n",
    "    data = []\n",
    "    for ind_i, i in enumerate(p):\n",
    "        for ind_j, j in enumerate(i):\n",
    "            data.append(f\"{p_mean[ind_i, ind_j]:.3f} \\n {j:.3f}  \")\n",
    "            \n",
    "    data = np.array(data).reshape(len(labs),len(labs))\n",
    "\n",
    "    #MASK LOWER TRIANGLE\n",
    "    mask2= np.array(p)\n",
    "    mask2 = np.tril(np.ones_like(mask2)).astype(bool)\n",
    "\n",
    "    #CORRECT LABELS\n",
    "    labels = np.array(labs)\n",
    "    labels = labels.astype('U20')\n",
    "\n",
    "    #PLOT\n",
    "    ax=sns.heatmap(p_mean, xticklabels=labels, yticklabels=labels,annot=data,fmt = '',center = 0, cmap = \"coolwarm\",cbar = False, mask = mask2)\n",
    "\n",
    "\n",
    "    ##ADD HATCH FOR SIGNIFICANCE\n",
    "    handles = []\n",
    "    hatch_mask = p > 0.1\n",
    "\n",
    "    for i in range (p.shape[0]):\n",
    "        for j in range(p.shape[1]):\n",
    "            if hatch_mask[i, j]:\n",
    "                ax.add_patch(plt.Rectangle((j, i), 1, 1, fill=False, hatch='////', edgecolor='white'))\n",
    "    handles.append(plt.Rectangle((0, 0), 0, 0, color='white', ec='black',\n",
    "                        hatch='', label=\"Significant\"))\n",
    "    handles.append(plt.Rectangle((0, 0), 0, 0, color='white', ec='black',\n",
    "                        hatch='////', label=\"Not Significant\"))\n",
    "    handles.append(plt.Rectangle((0, 0), 0, 0, color='blue', ec='black',\n",
    "                        hatch='', label=\"Row Element Lower Threshold\"))\n",
    "    handles.append(plt.Rectangle((0, 0), 0, 0, color='Red', ec='black',\n",
    "                        hatch='', label=\"Row Element Higher Threshold\"))\n",
    "    ax.legend(handles=handles, loc='lower left', bbox_to_anchor=(0, .1),\n",
    "            handlelength=2, handleheight=2, frameon=False)\n",
    "    ax.tick_params(left= False,labelleft = False, bottom= False,labelbottom= False,right=True, top=True, labelright=True, labeltop=True, labelrotation=0)\n",
    "\n",
    "    ax.yaxis.tick_right()\n",
    "    ax.title.set_text(f\"Threshold comparison between pulse shapes\")"
   ]
  },
  {
   "cell_type": "code",
   "execution_count": 32,
   "metadata": {},
   "outputs": [
    {
     "data": {
      "image/png": "[encoded data removed]",
      "text/plain": [
       "<Figure size 640x480 with 1 Axes>"
      ]
     },
     "metadata": {},
     "output_type": "display_data"
    }
   ],
   "source": [
    "pulse_shape(6)"
   ]
  },
  {
   "cell_type": "code",
   "execution_count": 36,
   "metadata": {},
   "outputs": [],
   "source": [
    "a_test = a[:,:,ind,...]\n",
    "a_test = a_test / ma.median(a_test, axis = (0,2,3,-1), keepdims=True)\n",
    "\n",
    "a_mean = ma.mean(a_test, axis=(0, 2, -1))\n",
    "a_mean.shape\n",
    "\n",
    "t = (a_mean[:, :, None] - a_mean[:, None, :])\n",
    "test = stats.ttest_1samp(t, popmean=0, alternative=\"two-sided\", axis=(0))"
   ]
  },
  {
   "cell_type": "code",
   "execution_count": 7,
   "metadata": {},
   "outputs": [],
   "source": [
    "a_test = a[:,:,ind,...]\n",
    "a_test = a_test[...,0]\n",
    "a_test.shape\n",
    "\n",
    "a_test = a_test / ma.median(a_test, keepdims=True)\n",
    "\n",
    "a_mean = ma.mean(a_test, axis=(0,-1))\n",
    "a_mean.shape\n",
    "\n",
    "t = (a_mean[:, :, None] - a_mean[:, None, :])\n",
    "test = stats.ttest_1samp(t, popmean=0, alternative=\"two-sided\", axis=(0))\n",
    "\n",
    "#     ### GET MEAN TO PLOT\n",
    "p_mean = t.mean(axis=0)"
   ]
  }
 ],
 "metadata": {
  "kernelspec": {
   "display_name": ".venv",
   "language": "python",
   "name": "python3"
  },
  "language_info": {
   "codemirror_mode": {
    "name": "ipython",
    "version": 3
   },
   "file_extension": ".py",
   "mimetype": "text/x-python",
   "name": "python",
   "nbconvert_exporter": "python",
   "pygments_lexer": "ipython3",
   "version": "3.11.9"
  }
 },
 "nbformat": 4,
 "nbformat_minor": 2
}
