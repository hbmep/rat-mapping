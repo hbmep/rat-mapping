{
 "cells": [
  {
   "cell_type": "code",
   "execution_count": 1,
   "metadata": {},
   "outputs": [],
   "source": [
    "import os\n",
    "import pickle\n",
    "\n",
    "import pandas as pd\n",
    "import numpy as np\n",
    "import matplotlib.pyplot as plt\n",
    "import seaborn as sns\n",
    "from scipy import stats\n",
    "\n",
    "from hbmep.config import Config\n",
    "from hbmep.model.utils import Site as site\n",
    "\n",
    "from models import NonHierarchicalBayesianModel\n",
    "from constants import (\n",
    "    TOML_PATH,\n",
    "    DATA_PATH,\n",
    "    BUILD_DIR,\n",
    ")\n",
    "\n",
    "\n",
    "COLUMNS = [\"participant\", \"compound_position\", \"compound_charge_params\"]\n"
   ]
  },
  {
   "cell_type": "code",
   "execution_count": 2,
   "metadata": {},
   "outputs": [
    {
     "name": "stdout",
     "output_type": "stream",
     "text": [
      "(16440, 44)\n"
     ]
    },
    {
     "name": "stderr",
     "output_type": "stream",
     "text": [
      "2024-07-13 21:29:14.870707: W external/xla/xla/service/gpu/nvptx_compiler.cc:765] The NVIDIA driver's CUDA version is 12.0 which is older than the ptxas CUDA version (12.5.40). Because the driver is older than the ptxas version, XLA is disabling parallel compilation, which may slow down compilation. You should update your NVIDIA driver or use the NVIDIA-provided CUDA forward compatibility packages.\n"
     ]
    }
   ],
   "source": [
    "src = os.path.join(BUILD_DIR, \"inference.pkl\")\n",
    "with open(src, \"rb\") as f:\n",
    "    COMBINED_COMBINATIONS, COMBINED_POSTERIOR_SAMPLES = pickle.load(f)\n",
    "\n",
    "DATA = pd.read_csv(DATA_PATH)\n",
    "print(DATA.shape)\n",
    "\n",
    "config = Config(TOML_PATH)\n",
    "model = NonHierarchicalBayesianModel(config)\n"
   ]
  },
  {
   "cell_type": "markdown",
   "metadata": {},
   "source": [
    "### L - M"
   ]
  },
  {
   "cell_type": "code",
   "execution_count": 3,
   "metadata": {},
   "outputs": [],
   "source": [
    "combinations = [\n",
    "    c for c in COMBINED_COMBINATIONS if (\n",
    "        # Remove 80-0-20-400 charge\n",
    "        c[2] != \"80-0-20-400\" and\n",
    "        # Remove ground contacts\n",
    "        \"\" not in c[1].split(\"-\") and\n",
    "        # At the same segment\n",
    "        c[1].split(\"-\")[0][:-1] == c[1].split(\"-\")[1][:-1]\n",
    "    )\n",
    "]\n",
    "\n",
    "combinations;\n",
    "\n",
    "ind = [c in combinations for c in COMBINED_COMBINATIONS]\n",
    "posterior_samples = {\n",
    "    u: v[:, ind, ...] for u, v in COMBINED_POSTERIOR_SAMPLES.items()\n",
    "}\n"
   ]
  },
  {
   "cell_type": "code",
   "execution_count": 4,
   "metadata": {},
   "outputs": [],
   "source": [
    "# map_to_subjects = {}\n",
    "# for subject, position, charge in combinations:\n",
    "#     orientation = [u[-1] for u in position.split(\"-\")]\n",
    "#     orientation = \"-\".join(orientation)\n",
    "#     # print(orientation)\n",
    "\n",
    "#     segment = position.split(\"-\")[0][:-1]\n",
    "#     assert segment == position.split(\"-\")[1][:-1]\n",
    "#     # print(segment)\n",
    "\n",
    "#     if orientation not in map_to_subjects:\n",
    "#         map_to_subjects[orientation] = {\n",
    "#             segment: {\n",
    "#                 charge: [subject]\n",
    "#             }\n",
    "#         }\n",
    "#     else:\n",
    "#         if segment not in map_to_subjects[orientation]:\n",
    "#             map_to_subjects[orientation][segment] = {\n",
    "#                 charge: [subject]\n",
    "#             }\n",
    "#         else:\n",
    "#             if charge not in map_to_subjects[orientation][segment]:\n",
    "#                 map_to_subjects[orientation][segment][charge] = [subject]\n",
    "#             else:\n",
    "#                 map_to_subjects[orientation][segment][charge].append(subject)\n",
    "\n",
    "#     # if position not in map_to_subjects:\n",
    "#     #     map_to_subjects[position] = {charge: [subject]}\n",
    "#     # else:\n",
    "#     #     if charge not in map_to_subjects[position]:\n",
    "#     #         map_to_subjects[position][charge] = [subject]\n",
    "#     #     else:\n",
    "#     #         map_to_subjects[position][charge].append(subject)\n",
    "\n",
    "#     # map_to_subjects[position][charge] = sorted(map_to_subjects[position][charge])\n",
    "\n",
    "# map_to_subjects;\n"
   ]
  },
  {
   "cell_type": "code",
   "execution_count": 13,
   "metadata": {},
   "outputs": [],
   "source": [
    "directions = [\"L-M\", \"M-L\"]\n",
    "segments = [\"C6\", \"C7\", \"C8\"]\n",
    "charges = ['20-0-80-25', '50-0-50-0', '50-0-50-100']\n",
    "subjects = sorted(DATA[\"participant\"].unique().tolist())\n",
    "\n",
    "a = None\n",
    "a_mask = None\n",
    "\n",
    "for subject in subjects:\n",
    "    for direction in directions:\n",
    "        for segment in segments:\n",
    "            for charge in charges:\n",
    "                compound_position = f\"{segment}{direction[:-1]}{segment}{direction[-1]}\"\n",
    "                curr_combination = (subject, compound_position, charge)\n",
    "                if curr_combination in combinations:\n",
    "                    ind = [c == curr_combination for c in combinations]\n",
    "                    assert sum(ind) == 1\n",
    "                    if a is None:\n",
    "                        a = posterior_samples[site.a][:, ind, ...]\n",
    "                    else: a = np.concatenate([a, posterior_samples[site.a][:, ind, ...]], axis=1)\n",
    "                else:\n",
    "                    if a is None:\n",
    "                        a = np.zeros()\n",
    "\n"
   ]
  },
  {
   "cell_type": "code",
   "execution_count": 21,
   "metadata": {},
   "outputs": [
    {
     "data": {
      "text/plain": [
       "(4000, 1, 6)"
      ]
     },
     "execution_count": 21,
     "metadata": {},
     "output_type": "execute_result"
    }
   ],
   "source": [
    "posterior_samples[site.a][:, ind, ...].shape"
   ]
  },
  {
   "cell_type": "code",
   "execution_count": 19,
   "metadata": {},
   "outputs": [
    {
     "data": {
      "text/plain": [
       "144"
      ]
     },
     "execution_count": 19,
     "metadata": {},
     "output_type": "execute_result"
    }
   ],
   "source": [
    "8 * 2 * 3 * 3"
   ]
  },
  {
   "cell_type": "code",
   "execution_count": 18,
   "metadata": {},
   "outputs": [
    {
     "ename": "ValueError",
     "evalue": "cannot reshape array of size 2304000 into shape (8,2,3,3,6)",
     "output_type": "error",
     "traceback": [
      "\u001b[0;31m---------------------------------------------------------------------------\u001b[0m",
      "\u001b[0;31mValueError\u001b[0m                                Traceback (most recent call last)",
      "Cell \u001b[0;32mIn[18], line 1\u001b[0m\n\u001b[0;32m----> 1\u001b[0m \u001b[43ma\u001b[49m\u001b[38;5;241;43m.\u001b[39;49m\u001b[43mreshape\u001b[49m\u001b[43m(\u001b[49m\u001b[38;5;241;43m-\u001b[39;49m\u001b[38;5;241;43m1\u001b[39;49m\u001b[43m,\u001b[49m\u001b[43m \u001b[49m\u001b[38;5;28;43mlen\u001b[39;49m\u001b[43m(\u001b[49m\u001b[43msubjects\u001b[49m\u001b[43m)\u001b[49m\u001b[43m,\u001b[49m\u001b[43m \u001b[49m\u001b[38;5;28;43mlen\u001b[39;49m\u001b[43m(\u001b[49m\u001b[43mdirections\u001b[49m\u001b[43m)\u001b[49m\u001b[43m,\u001b[49m\u001b[43m \u001b[49m\u001b[38;5;28;43mlen\u001b[39;49m\u001b[43m(\u001b[49m\u001b[43msegments\u001b[49m\u001b[43m)\u001b[49m\u001b[43m,\u001b[49m\u001b[43m \u001b[49m\u001b[38;5;28;43mlen\u001b[39;49m\u001b[43m(\u001b[49m\u001b[43mcharges\u001b[49m\u001b[43m)\u001b[49m\u001b[43m,\u001b[49m\u001b[43m \u001b[49m\u001b[38;5;241;43m*\u001b[39;49m\u001b[43ma\u001b[49m\u001b[38;5;241;43m.\u001b[39;49m\u001b[43mshape\u001b[49m\u001b[43m[\u001b[49m\u001b[38;5;241;43m2\u001b[39;49m\u001b[43m:\u001b[49m\u001b[43m]\u001b[49m\u001b[43m)\u001b[49m\n",
      "\u001b[0;31mValueError\u001b[0m: cannot reshape array of size 2304000 into shape (8,2,3,3,6)"
     ]
    }
   ],
   "source": [
    "a.reshape(-1, len(subjects), len(directions), len(segments), len(charges), *a.shape[2:])\n"
   ]
  },
  {
   "cell_type": "code",
   "execution_count": 14,
   "metadata": {},
   "outputs": [
    {
     "data": {
      "text/plain": [
       "(4000, 96, 6)"
      ]
     },
     "execution_count": 14,
     "metadata": {},
     "output_type": "execute_result"
    }
   ],
   "source": [
    "a.shape"
   ]
  },
  {
   "cell_type": "code",
   "execution_count": 5,
   "metadata": {},
   "outputs": [
    {
     "data": {
      "text/plain": [
       "[('amap01', 'C7L-C7M', '20-0-80-25'),\n",
       " ('amap01', 'C7L-C7M', '50-0-50-0'),\n",
       " ('amap01', 'C7L-C7M', '50-0-50-100'),\n",
       " ('amap01', 'C7M-C7L', '20-0-80-25'),\n",
       " ('amap01', 'C7M-C7L', '50-0-50-0'),\n",
       " ('amap01', 'C7M-C7L', '50-0-50-100'),\n",
       " ('amap01', 'C8L-C8M', '20-0-80-25'),\n",
       " ('amap01', 'C8L-C8M', '50-0-50-0'),\n",
       " ('amap01', 'C8L-C8M', '50-0-50-100'),\n",
       " ('amap01', 'C8M-C8L', '20-0-80-25'),\n",
       " ('amap01', 'C8M-C8L', '50-0-50-0'),\n",
       " ('amap01', 'C8M-C8L', '50-0-50-100'),\n",
       " ('amap02', 'C7L-C7M', '20-0-80-25'),\n",
       " ('amap02', 'C7L-C7M', '50-0-50-0'),\n",
       " ('amap02', 'C7L-C7M', '50-0-50-100'),\n",
       " ('amap02', 'C7M-C7L', '20-0-80-25'),\n",
       " ('amap02', 'C7M-C7L', '50-0-50-0'),\n",
       " ('amap02', 'C7M-C7L', '50-0-50-100'),\n",
       " ('amap02', 'C8L-C8M', '20-0-80-25'),\n",
       " ('amap02', 'C8L-C8M', '50-0-50-0'),\n",
       " ('amap02', 'C8L-C8M', '50-0-50-100'),\n",
       " ('amap02', 'C8M-C8L', '20-0-80-25'),\n",
       " ('amap02', 'C8M-C8L', '50-0-50-0'),\n",
       " ('amap02', 'C8M-C8L', '50-0-50-100'),\n",
       " ('amap03', 'C7L-C7M', '20-0-80-25'),\n",
       " ('amap03', 'C7L-C7M', '50-0-50-0'),\n",
       " ('amap03', 'C7L-C7M', '50-0-50-100'),\n",
       " ('amap03', 'C7M-C7L', '20-0-80-25'),\n",
       " ('amap03', 'C7M-C7L', '50-0-50-0'),\n",
       " ('amap03', 'C7M-C7L', '50-0-50-100'),\n",
       " ('amap03', 'C8L-C8M', '20-0-80-25'),\n",
       " ('amap03', 'C8L-C8M', '50-0-50-0'),\n",
       " ('amap03', 'C8L-C8M', '50-0-50-100'),\n",
       " ('amap03', 'C8M-C8L', '20-0-80-25'),\n",
       " ('amap03', 'C8M-C8L', '50-0-50-0'),\n",
       " ('amap03', 'C8M-C8L', '50-0-50-100'),\n",
       " ('amap04', 'C6L-C6M', '20-0-80-25'),\n",
       " ('amap04', 'C6L-C6M', '50-0-50-0'),\n",
       " ('amap04', 'C6L-C6M', '50-0-50-100'),\n",
       " ('amap04', 'C6M-C6L', '20-0-80-25'),\n",
       " ('amap04', 'C6M-C6L', '50-0-50-0'),\n",
       " ('amap04', 'C6M-C6L', '50-0-50-100'),\n",
       " ('amap04', 'C7L-C7M', '20-0-80-25'),\n",
       " ('amap04', 'C7L-C7M', '50-0-50-0'),\n",
       " ('amap04', 'C7L-C7M', '50-0-50-100'),\n",
       " ('amap04', 'C7M-C7L', '20-0-80-25'),\n",
       " ('amap04', 'C7M-C7L', '50-0-50-0'),\n",
       " ('amap04', 'C7M-C7L', '50-0-50-100'),\n",
       " ('amap05', 'C6L-C6M', '20-0-80-25'),\n",
       " ('amap05', 'C6L-C6M', '50-0-50-0'),\n",
       " ('amap05', 'C6L-C6M', '50-0-50-100'),\n",
       " ('amap05', 'C6M-C6L', '20-0-80-25'),\n",
       " ('amap05', 'C6M-C6L', '50-0-50-0'),\n",
       " ('amap05', 'C6M-C6L', '50-0-50-100'),\n",
       " ('amap05', 'C7L-C7M', '20-0-80-25'),\n",
       " ('amap05', 'C7L-C7M', '50-0-50-0'),\n",
       " ('amap05', 'C7L-C7M', '50-0-50-100'),\n",
       " ('amap05', 'C7M-C7L', '20-0-80-25'),\n",
       " ('amap05', 'C7M-C7L', '50-0-50-0'),\n",
       " ('amap05', 'C7M-C7L', '50-0-50-100'),\n",
       " ('amap06', 'C6L-C6M', '20-0-80-25'),\n",
       " ('amap06', 'C6L-C6M', '50-0-50-0'),\n",
       " ('amap06', 'C6L-C6M', '50-0-50-100'),\n",
       " ('amap06', 'C6M-C6L', '20-0-80-25'),\n",
       " ('amap06', 'C6M-C6L', '50-0-50-0'),\n",
       " ('amap06', 'C6M-C6L', '50-0-50-100'),\n",
       " ('amap06', 'C7L-C7M', '20-0-80-25'),\n",
       " ('amap06', 'C7L-C7M', '50-0-50-0'),\n",
       " ('amap06', 'C7L-C7M', '50-0-50-100'),\n",
       " ('amap06', 'C7M-C7L', '20-0-80-25'),\n",
       " ('amap06', 'C7M-C7L', '50-0-50-0'),\n",
       " ('amap06', 'C7M-C7L', '50-0-50-100'),\n",
       " ('amap07', 'C6L-C6M', '20-0-80-25'),\n",
       " ('amap07', 'C6L-C6M', '50-0-50-0'),\n",
       " ('amap07', 'C6L-C6M', '50-0-50-100'),\n",
       " ('amap07', 'C6M-C6L', '20-0-80-25'),\n",
       " ('amap07', 'C6M-C6L', '50-0-50-0'),\n",
       " ('amap07', 'C6M-C6L', '50-0-50-100'),\n",
       " ('amap07', 'C7L-C7M', '20-0-80-25'),\n",
       " ('amap07', 'C7L-C7M', '50-0-50-0'),\n",
       " ('amap07', 'C7L-C7M', '50-0-50-100'),\n",
       " ('amap07', 'C7M-C7L', '20-0-80-25'),\n",
       " ('amap07', 'C7M-C7L', '50-0-50-0'),\n",
       " ('amap07', 'C7M-C7L', '50-0-50-100'),\n",
       " ('amap08', 'C6L-C6M', '20-0-80-25'),\n",
       " ('amap08', 'C6L-C6M', '50-0-50-0'),\n",
       " ('amap08', 'C6L-C6M', '50-0-50-100'),\n",
       " ('amap08', 'C6M-C6L', '20-0-80-25'),\n",
       " ('amap08', 'C6M-C6L', '50-0-50-0'),\n",
       " ('amap08', 'C6M-C6L', '50-0-50-100'),\n",
       " ('amap08', 'C7L-C7M', '20-0-80-25'),\n",
       " ('amap08', 'C7L-C7M', '50-0-50-0'),\n",
       " ('amap08', 'C7L-C7M', '50-0-50-100'),\n",
       " ('amap08', 'C7M-C7L', '20-0-80-25'),\n",
       " ('amap08', 'C7M-C7L', '50-0-50-0'),\n",
       " ('amap08', 'C7M-C7L', '50-0-50-100')]"
      ]
     },
     "execution_count": 5,
     "metadata": {},
     "output_type": "execute_result"
    }
   ],
   "source": [
    "combinations"
   ]
  },
  {
   "cell_type": "code",
   "execution_count": 14,
   "metadata": {},
   "outputs": [
    {
     "data": {
      "text/plain": [
       "[('amap01', '-C7L', '20-0-80-25'),\n",
       " ('amap01', '-C7L', '50-0-50-0'),\n",
       " ('amap01', '-C7L', '50-0-50-100'),\n",
       " ('amap01', '-C7L', '80-0-20-400'),\n",
       " ('amap01', '-C8L', '20-0-80-25'),\n",
       " ('amap01', '-C8L', '50-0-50-0'),\n",
       " ('amap01', '-C8L', '50-0-50-100'),\n",
       " ('amap01', '-C8L', '80-0-20-400'),\n",
       " ('amap01', 'C7L-', '20-0-80-25'),\n",
       " ('amap01', 'C7L-', '50-0-50-0'),\n",
       " ('amap01', 'C7L-', '50-0-50-100'),\n",
       " ('amap01', 'C7L-', '80-0-20-400'),\n",
       " ('amap01', 'C7L-C7M', '20-0-80-25'),\n",
       " ('amap01', 'C7L-C7M', '50-0-50-0'),\n",
       " ('amap01', 'C7L-C7M', '50-0-50-100'),\n",
       " ('amap01', 'C7L-C7M', '80-0-20-400'),\n",
       " ('amap01', 'C7L-C8L', '20-0-80-25'),\n",
       " ('amap01', 'C7L-C8L', '50-0-50-0'),\n",
       " ('amap01', 'C7L-C8L', '50-0-50-100'),\n",
       " ('amap01', 'C7L-C8L', '80-0-20-400'),\n",
       " ('amap01', 'C7M-C7L', '20-0-80-25'),\n",
       " ('amap01', 'C7M-C7L', '50-0-50-0'),\n",
       " ('amap01', 'C7M-C7L', '50-0-50-100'),\n",
       " ('amap01', 'C7M-C7L', '80-0-20-400'),\n",
       " ('amap01', 'C8L-', '20-0-80-25'),\n",
       " ('amap01', 'C8L-', '50-0-50-0'),\n",
       " ('amap01', 'C8L-', '50-0-50-100'),\n",
       " ('amap01', 'C8L-', '80-0-20-400'),\n",
       " ('amap01', 'C8L-C7L', '20-0-80-25'),\n",
       " ('amap01', 'C8L-C7L', '50-0-50-0'),\n",
       " ('amap01', 'C8L-C7L', '50-0-50-100'),\n",
       " ('amap01', 'C8L-C7L', '80-0-20-400'),\n",
       " ('amap01', 'C8L-C8M', '20-0-80-25'),\n",
       " ('amap01', 'C8L-C8M', '50-0-50-0'),\n",
       " ('amap01', 'C8L-C8M', '50-0-50-100'),\n",
       " ('amap01', 'C8L-C8M', '80-0-20-400'),\n",
       " ('amap01', 'C8M-C8L', '20-0-80-25'),\n",
       " ('amap01', 'C8M-C8L', '50-0-50-0'),\n",
       " ('amap01', 'C8M-C8L', '50-0-50-100'),\n",
       " ('amap01', 'C8M-C8L', '80-0-20-400'),\n",
       " ('amap02', '-C7L', '20-0-80-25'),\n",
       " ('amap02', '-C7L', '50-0-50-0'),\n",
       " ('amap02', '-C7L', '50-0-50-100'),\n",
       " ('amap02', '-C7L', '80-0-20-400'),\n",
       " ('amap02', '-C8L', '20-0-80-25'),\n",
       " ('amap02', '-C8L', '50-0-50-0'),\n",
       " ('amap02', '-C8L', '50-0-50-100'),\n",
       " ('amap02', '-C8L', '80-0-20-400'),\n",
       " ('amap02', 'C7L-', '20-0-80-25'),\n",
       " ('amap02', 'C7L-', '50-0-50-0'),\n",
       " ('amap02', 'C7L-', '50-0-50-100'),\n",
       " ('amap02', 'C7L-', '80-0-20-400'),\n",
       " ('amap02', 'C7L-C7M', '20-0-80-25'),\n",
       " ('amap02', 'C7L-C7M', '50-0-50-0'),\n",
       " ('amap02', 'C7L-C7M', '50-0-50-100'),\n",
       " ('amap02', 'C7L-C7M', '80-0-20-400'),\n",
       " ('amap02', 'C7L-C8L', '20-0-80-25'),\n",
       " ('amap02', 'C7L-C8L', '50-0-50-0'),\n",
       " ('amap02', 'C7L-C8L', '50-0-50-100'),\n",
       " ('amap02', 'C7L-C8L', '80-0-20-400'),\n",
       " ('amap02', 'C7M-C7L', '20-0-80-25'),\n",
       " ('amap02', 'C7M-C7L', '50-0-50-0'),\n",
       " ('amap02', 'C7M-C7L', '50-0-50-100'),\n",
       " ('amap02', 'C7M-C7L', '80-0-20-400'),\n",
       " ('amap02', 'C8L-', '20-0-80-25'),\n",
       " ('amap02', 'C8L-', '50-0-50-0'),\n",
       " ('amap02', 'C8L-', '50-0-50-100'),\n",
       " ('amap02', 'C8L-', '80-0-20-400'),\n",
       " ('amap02', 'C8L-C7L', '20-0-80-25'),\n",
       " ('amap02', 'C8L-C7L', '50-0-50-0'),\n",
       " ('amap02', 'C8L-C7L', '50-0-50-100'),\n",
       " ('amap02', 'C8L-C7L', '80-0-20-400'),\n",
       " ('amap02', 'C8L-C8M', '20-0-80-25'),\n",
       " ('amap02', 'C8L-C8M', '50-0-50-0'),\n",
       " ('amap02', 'C8L-C8M', '50-0-50-100'),\n",
       " ('amap02', 'C8L-C8M', '80-0-20-400'),\n",
       " ('amap02', 'C8M-C8L', '20-0-80-25'),\n",
       " ('amap02', 'C8M-C8L', '50-0-50-0'),\n",
       " ('amap02', 'C8M-C8L', '50-0-50-100'),\n",
       " ('amap02', 'C8M-C8L', '80-0-20-400'),\n",
       " ('amap03', '-C7L', '20-0-80-25'),\n",
       " ('amap03', '-C7L', '50-0-50-0'),\n",
       " ('amap03', '-C7L', '50-0-50-100'),\n",
       " ('amap03', '-C7L', '80-0-20-400'),\n",
       " ('amap03', '-C8L', '20-0-80-25'),\n",
       " ('amap03', '-C8L', '50-0-50-0'),\n",
       " ('amap03', '-C8L', '50-0-50-100'),\n",
       " ('amap03', '-C8L', '80-0-20-400'),\n",
       " ('amap03', 'C7L-', '20-0-80-25'),\n",
       " ('amap03', 'C7L-', '50-0-50-0'),\n",
       " ('amap03', 'C7L-', '50-0-50-100'),\n",
       " ('amap03', 'C7L-', '80-0-20-400'),\n",
       " ('amap03', 'C7L-C7M', '20-0-80-25'),\n",
       " ('amap03', 'C7L-C7M', '50-0-50-0'),\n",
       " ('amap03', 'C7L-C7M', '50-0-50-100'),\n",
       " ('amap03', 'C7L-C7M', '80-0-20-400'),\n",
       " ('amap03', 'C7L-C8L', '20-0-80-25'),\n",
       " ('amap03', 'C7L-C8L', '50-0-50-0'),\n",
       " ('amap03', 'C7L-C8L', '50-0-50-100'),\n",
       " ('amap03', 'C7L-C8L', '80-0-20-400'),\n",
       " ('amap03', 'C7M-C7L', '20-0-80-25'),\n",
       " ('amap03', 'C7M-C7L', '50-0-50-0'),\n",
       " ('amap03', 'C7M-C7L', '50-0-50-100'),\n",
       " ('amap03', 'C7M-C7L', '80-0-20-400'),\n",
       " ('amap03', 'C8L-', '20-0-80-25'),\n",
       " ('amap03', 'C8L-', '50-0-50-0'),\n",
       " ('amap03', 'C8L-', '50-0-50-100'),\n",
       " ('amap03', 'C8L-', '80-0-20-400'),\n",
       " ('amap03', 'C8L-C7L', '20-0-80-25'),\n",
       " ('amap03', 'C8L-C7L', '50-0-50-0'),\n",
       " ('amap03', 'C8L-C7L', '50-0-50-100'),\n",
       " ('amap03', 'C8L-C7L', '80-0-20-400'),\n",
       " ('amap03', 'C8L-C8M', '20-0-80-25'),\n",
       " ('amap03', 'C8L-C8M', '50-0-50-0'),\n",
       " ('amap03', 'C8L-C8M', '50-0-50-100'),\n",
       " ('amap03', 'C8L-C8M', '80-0-20-400'),\n",
       " ('amap03', 'C8M-C8L', '20-0-80-25'),\n",
       " ('amap03', 'C8M-C8L', '50-0-50-0'),\n",
       " ('amap03', 'C8M-C8L', '50-0-50-100'),\n",
       " ('amap03', 'C8M-C8L', '80-0-20-400'),\n",
       " ('amap04', '-C6L', '20-0-80-25'),\n",
       " ('amap04', '-C6L', '50-0-50-0'),\n",
       " ('amap04', '-C6L', '50-0-50-100'),\n",
       " ('amap04', '-C6L', '80-0-20-400'),\n",
       " ('amap04', '-C7L', '20-0-80-25'),\n",
       " ('amap04', '-C7L', '50-0-50-0'),\n",
       " ('amap04', '-C7L', '50-0-50-100'),\n",
       " ('amap04', '-C7L', '80-0-20-400'),\n",
       " ('amap04', 'C6L-', '20-0-80-25'),\n",
       " ('amap04', 'C6L-', '50-0-50-0'),\n",
       " ('amap04', 'C6L-', '50-0-50-100'),\n",
       " ('amap04', 'C6L-', '80-0-20-400'),\n",
       " ('amap04', 'C6L-C6M', '20-0-80-25'),\n",
       " ('amap04', 'C6L-C6M', '50-0-50-0'),\n",
       " ('amap04', 'C6L-C6M', '50-0-50-100'),\n",
       " ('amap04', 'C6L-C6M', '80-0-20-400'),\n",
       " ('amap04', 'C6L-C7L', '20-0-80-25'),\n",
       " ('amap04', 'C6L-C7L', '50-0-50-0'),\n",
       " ('amap04', 'C6L-C7L', '50-0-50-100'),\n",
       " ('amap04', 'C6L-C7L', '80-0-20-400'),\n",
       " ('amap04', 'C6M-C6L', '20-0-80-25'),\n",
       " ('amap04', 'C6M-C6L', '50-0-50-0'),\n",
       " ('amap04', 'C6M-C6L', '50-0-50-100'),\n",
       " ('amap04', 'C6M-C6L', '80-0-20-400'),\n",
       " ('amap04', 'C7L-', '20-0-80-25'),\n",
       " ('amap04', 'C7L-', '50-0-50-0'),\n",
       " ('amap04', 'C7L-', '50-0-50-100'),\n",
       " ('amap04', 'C7L-', '80-0-20-400'),\n",
       " ('amap04', 'C7L-C6L', '20-0-80-25'),\n",
       " ('amap04', 'C7L-C6L', '50-0-50-0'),\n",
       " ('amap04', 'C7L-C6L', '50-0-50-100'),\n",
       " ('amap04', 'C7L-C6L', '80-0-20-400'),\n",
       " ('amap04', 'C7L-C7M', '20-0-80-25'),\n",
       " ('amap04', 'C7L-C7M', '50-0-50-0'),\n",
       " ('amap04', 'C7L-C7M', '50-0-50-100'),\n",
       " ('amap04', 'C7L-C7M', '80-0-20-400'),\n",
       " ('amap04', 'C7M-C7L', '20-0-80-25'),\n",
       " ('amap04', 'C7M-C7L', '50-0-50-0'),\n",
       " ('amap04', 'C7M-C7L', '50-0-50-100'),\n",
       " ('amap04', 'C7M-C7L', '80-0-20-400'),\n",
       " ('amap05', '-C6L', '20-0-80-25'),\n",
       " ('amap05', '-C6L', '50-0-50-0'),\n",
       " ('amap05', '-C6L', '50-0-50-100'),\n",
       " ('amap05', '-C6L', '80-0-20-400'),\n",
       " ('amap05', '-C7L', '20-0-80-25'),\n",
       " ('amap05', '-C7L', '50-0-50-0'),\n",
       " ('amap05', '-C7L', '50-0-50-100'),\n",
       " ('amap05', '-C7L', '80-0-20-400'),\n",
       " ('amap05', 'C6L-', '20-0-80-25'),\n",
       " ('amap05', 'C6L-', '50-0-50-0'),\n",
       " ('amap05', 'C6L-', '50-0-50-100'),\n",
       " ('amap05', 'C6L-', '80-0-20-400'),\n",
       " ('amap05', 'C6L-C6M', '20-0-80-25'),\n",
       " ('amap05', 'C6L-C6M', '50-0-50-0'),\n",
       " ('amap05', 'C6L-C6M', '50-0-50-100'),\n",
       " ('amap05', 'C6L-C6M', '80-0-20-400'),\n",
       " ('amap05', 'C6L-C7L', '20-0-80-25'),\n",
       " ('amap05', 'C6L-C7L', '50-0-50-0'),\n",
       " ('amap05', 'C6L-C7L', '50-0-50-100'),\n",
       " ('amap05', 'C6L-C7L', '80-0-20-400'),\n",
       " ('amap05', 'C6M-C6L', '20-0-80-25'),\n",
       " ('amap05', 'C6M-C6L', '50-0-50-0'),\n",
       " ('amap05', 'C6M-C6L', '50-0-50-100'),\n",
       " ('amap05', 'C6M-C6L', '80-0-20-400'),\n",
       " ('amap05', 'C7L-', '20-0-80-25'),\n",
       " ('amap05', 'C7L-', '50-0-50-0'),\n",
       " ('amap05', 'C7L-', '50-0-50-100'),\n",
       " ('amap05', 'C7L-', '80-0-20-400'),\n",
       " ('amap05', 'C7L-C6L', '20-0-80-25'),\n",
       " ('amap05', 'C7L-C6L', '50-0-50-0'),\n",
       " ('amap05', 'C7L-C6L', '50-0-50-100'),\n",
       " ('amap05', 'C7L-C6L', '80-0-20-400'),\n",
       " ('amap05', 'C7L-C7M', '20-0-80-25'),\n",
       " ('amap05', 'C7L-C7M', '50-0-50-0'),\n",
       " ('amap05', 'C7L-C7M', '50-0-50-100'),\n",
       " ('amap05', 'C7L-C7M', '80-0-20-400'),\n",
       " ('amap05', 'C7M-C7L', '20-0-80-25'),\n",
       " ('amap05', 'C7M-C7L', '50-0-50-0'),\n",
       " ('amap05', 'C7M-C7L', '50-0-50-100'),\n",
       " ('amap05', 'C7M-C7L', '80-0-20-400'),\n",
       " ('amap06', '-C6L', '20-0-80-25'),\n",
       " ('amap06', '-C6L', '50-0-50-0'),\n",
       " ('amap06', '-C6L', '50-0-50-100'),\n",
       " ('amap06', '-C6L', '80-0-20-400'),\n",
       " ('amap06', '-C7L', '20-0-80-25'),\n",
       " ('amap06', '-C7L', '50-0-50-0'),\n",
       " ('amap06', '-C7L', '50-0-50-100'),\n",
       " ('amap06', '-C7L', '80-0-20-400'),\n",
       " ('amap06', 'C6L-', '20-0-80-25'),\n",
       " ('amap06', 'C6L-', '50-0-50-0'),\n",
       " ('amap06', 'C6L-', '50-0-50-100'),\n",
       " ('amap06', 'C6L-', '80-0-20-400'),\n",
       " ('amap06', 'C6L-C6M', '20-0-80-25'),\n",
       " ('amap06', 'C6L-C6M', '50-0-50-0'),\n",
       " ('amap06', 'C6L-C6M', '50-0-50-100'),\n",
       " ('amap06', 'C6L-C6M', '80-0-20-400'),\n",
       " ('amap06', 'C6L-C7L', '20-0-80-25'),\n",
       " ('amap06', 'C6L-C7L', '50-0-50-0'),\n",
       " ('amap06', 'C6L-C7L', '50-0-50-100'),\n",
       " ('amap06', 'C6L-C7L', '80-0-20-400'),\n",
       " ('amap06', 'C6M-C6L', '20-0-80-25'),\n",
       " ('amap06', 'C6M-C6L', '50-0-50-0'),\n",
       " ('amap06', 'C6M-C6L', '50-0-50-100'),\n",
       " ('amap06', 'C6M-C6L', '80-0-20-400'),\n",
       " ('amap06', 'C7L-', '20-0-80-25'),\n",
       " ('amap06', 'C7L-', '50-0-50-0'),\n",
       " ('amap06', 'C7L-', '50-0-50-100'),\n",
       " ('amap06', 'C7L-', '80-0-20-400'),\n",
       " ('amap06', 'C7L-C6L', '20-0-80-25'),\n",
       " ('amap06', 'C7L-C6L', '50-0-50-0'),\n",
       " ('amap06', 'C7L-C6L', '50-0-50-100'),\n",
       " ('amap06', 'C7L-C6L', '80-0-20-400'),\n",
       " ('amap06', 'C7L-C7M', '20-0-80-25'),\n",
       " ('amap06', 'C7L-C7M', '50-0-50-0'),\n",
       " ('amap06', 'C7L-C7M', '50-0-50-100'),\n",
       " ('amap06', 'C7L-C7M', '80-0-20-400'),\n",
       " ('amap06', 'C7M-C7L', '20-0-80-25'),\n",
       " ('amap06', 'C7M-C7L', '50-0-50-0'),\n",
       " ('amap06', 'C7M-C7L', '50-0-50-100'),\n",
       " ('amap06', 'C7M-C7L', '80-0-20-400'),\n",
       " ('amap07', '-C6L', '20-0-80-25'),\n",
       " ('amap07', '-C6L', '50-0-50-0'),\n",
       " ('amap07', '-C6L', '50-0-50-100'),\n",
       " ('amap07', '-C6L', '80-0-20-400'),\n",
       " ('amap07', '-C7L', '20-0-80-25'),\n",
       " ('amap07', '-C7L', '50-0-50-0'),\n",
       " ('amap07', '-C7L', '50-0-50-100'),\n",
       " ('amap07', '-C7L', '80-0-20-400'),\n",
       " ('amap07', 'C6L-', '20-0-80-25'),\n",
       " ('amap07', 'C6L-', '50-0-50-0'),\n",
       " ('amap07', 'C6L-', '50-0-50-100'),\n",
       " ('amap07', 'C6L-', '80-0-20-400'),\n",
       " ('amap07', 'C6L-C6M', '20-0-80-25'),\n",
       " ('amap07', 'C6L-C6M', '50-0-50-0'),\n",
       " ('amap07', 'C6L-C6M', '50-0-50-100'),\n",
       " ('amap07', 'C6L-C6M', '80-0-20-400'),\n",
       " ('amap07', 'C6L-C7L', '20-0-80-25'),\n",
       " ('amap07', 'C6L-C7L', '50-0-50-0'),\n",
       " ('amap07', 'C6L-C7L', '50-0-50-100'),\n",
       " ('amap07', 'C6L-C7L', '80-0-20-400'),\n",
       " ('amap07', 'C6M-C6L', '20-0-80-25'),\n",
       " ('amap07', 'C6M-C6L', '50-0-50-0'),\n",
       " ('amap07', 'C6M-C6L', '50-0-50-100'),\n",
       " ('amap07', 'C6M-C6L', '80-0-20-400'),\n",
       " ('amap07', 'C7L-', '20-0-80-25'),\n",
       " ('amap07', 'C7L-', '50-0-50-0'),\n",
       " ('amap07', 'C7L-', '50-0-50-100'),\n",
       " ('amap07', 'C7L-', '80-0-20-400'),\n",
       " ('amap07', 'C7L-C6L', '20-0-80-25'),\n",
       " ('amap07', 'C7L-C6L', '50-0-50-0'),\n",
       " ('amap07', 'C7L-C6L', '50-0-50-100'),\n",
       " ('amap07', 'C7L-C6L', '80-0-20-400'),\n",
       " ('amap07', 'C7L-C7M', '20-0-80-25'),\n",
       " ('amap07', 'C7L-C7M', '50-0-50-0'),\n",
       " ('amap07', 'C7L-C7M', '50-0-50-100'),\n",
       " ('amap07', 'C7L-C7M', '80-0-20-400'),\n",
       " ('amap07', 'C7M-C7L', '20-0-80-25'),\n",
       " ('amap07', 'C7M-C7L', '50-0-50-0'),\n",
       " ('amap07', 'C7M-C7L', '50-0-50-100'),\n",
       " ('amap07', 'C7M-C7L', '80-0-20-400'),\n",
       " ('amap08', '-C6L', '20-0-80-25'),\n",
       " ('amap08', '-C6L', '50-0-50-0'),\n",
       " ('amap08', '-C6L', '50-0-50-100'),\n",
       " ('amap08', '-C6L', '80-0-20-400'),\n",
       " ('amap08', '-C7L', '20-0-80-25'),\n",
       " ('amap08', '-C7L', '50-0-50-0'),\n",
       " ('amap08', '-C7L', '50-0-50-100'),\n",
       " ('amap08', '-C7L', '80-0-20-400'),\n",
       " ('amap08', 'C6L-', '20-0-80-25'),\n",
       " ('amap08', 'C6L-', '50-0-50-0'),\n",
       " ('amap08', 'C6L-', '50-0-50-100'),\n",
       " ('amap08', 'C6L-', '80-0-20-400'),\n",
       " ('amap08', 'C6L-C6M', '20-0-80-25'),\n",
       " ('amap08', 'C6L-C6M', '50-0-50-0'),\n",
       " ('amap08', 'C6L-C6M', '50-0-50-100'),\n",
       " ('amap08', 'C6L-C6M', '80-0-20-400'),\n",
       " ('amap08', 'C6L-C7L', '20-0-80-25'),\n",
       " ('amap08', 'C6L-C7L', '50-0-50-0'),\n",
       " ('amap08', 'C6L-C7L', '50-0-50-100'),\n",
       " ('amap08', 'C6L-C7L', '80-0-20-400'),\n",
       " ('amap08', 'C6M-C6L', '20-0-80-25'),\n",
       " ('amap08', 'C6M-C6L', '50-0-50-0'),\n",
       " ('amap08', 'C6M-C6L', '50-0-50-100'),\n",
       " ('amap08', 'C6M-C6L', '80-0-20-400'),\n",
       " ('amap08', 'C7L-', '20-0-80-25'),\n",
       " ('amap08', 'C7L-', '50-0-50-0'),\n",
       " ('amap08', 'C7L-', '50-0-50-100'),\n",
       " ('amap08', 'C7L-', '80-0-20-400'),\n",
       " ('amap08', 'C7L-C6L', '20-0-80-25'),\n",
       " ('amap08', 'C7L-C6L', '50-0-50-0'),\n",
       " ('amap08', 'C7L-C6L', '50-0-50-100'),\n",
       " ('amap08', 'C7L-C6L', '80-0-20-400'),\n",
       " ('amap08', 'C7L-C7M', '20-0-80-25'),\n",
       " ('amap08', 'C7L-C7M', '50-0-50-0'),\n",
       " ('amap08', 'C7L-C7M', '50-0-50-100'),\n",
       " ('amap08', 'C7L-C7M', '80-0-20-400'),\n",
       " ('amap08', 'C7M-C7L', '20-0-80-25'),\n",
       " ('amap08', 'C7M-C7L', '50-0-50-0'),\n",
       " ('amap08', 'C7M-C7L', '50-0-50-100'),\n",
       " ('amap08', 'C7M-C7L', '80-0-20-400')]"
      ]
     },
     "execution_count": 14,
     "metadata": {},
     "output_type": "execute_result"
    }
   ],
   "source": [
    "COMBINED_COMBINATIONS"
   ]
  },
  {
   "cell_type": "code",
   "execution_count": 5,
   "metadata": {},
   "outputs": [
    {
     "data": {
      "text/plain": [
       "{'20-0-80-25': ['amap01', 'amap02', 'amap03'],\n",
       " '50-0-50-0': ['amap01', 'amap02', 'amap03'],\n",
       " '50-0-50-100': ['amap01', 'amap02', 'amap03']}"
      ]
     },
     "execution_count": 5,
     "metadata": {},
     "output_type": "execute_result"
    }
   ],
   "source": [
    "map_to_subjects[\"L-M\"][\"C8\"]"
   ]
  },
  {
   "cell_type": "code",
   "execution_count": 6,
   "metadata": {},
   "outputs": [
    {
     "data": {
      "text/plain": [
       "dict_keys(['L-M', 'M-L'])"
      ]
     },
     "execution_count": 6,
     "metadata": {},
     "output_type": "execute_result"
    }
   ],
   "source": [
    "map_to_subjects.keys()"
   ]
  },
  {
   "cell_type": "code",
   "execution_count": null,
   "metadata": {},
   "outputs": [
    {
     "data": {
      "text/plain": [
       "(16440, 44)"
      ]
     },
     "execution_count": 13,
     "metadata": {},
     "output_type": "execute_result"
    }
   ],
   "source": [
    "df = DATA.copy()\n",
    "df.shape"
   ]
  },
  {
   "cell_type": "code",
   "execution_count": null,
   "metadata": {},
   "outputs": [
    {
     "data": {
      "text/plain": [
       "0        C7M-C7L\n",
       "1        C7M-C7L\n",
       "2        C7M-C7L\n",
       "3        C7M-C7L\n",
       "4        C7M-C7L\n",
       "          ...   \n",
       "16435    C7L-C7M\n",
       "16436    C7M-C7L\n",
       "16437       C7L-\n",
       "16438    C6M-C6L\n",
       "16439       -C7L\n",
       "Name: compound_position, Length: 16440, dtype: object"
      ]
     },
     "execution_count": 19,
     "metadata": {},
     "output_type": "execute_result"
    }
   ],
   "source": [
    "df.compound_position\n"
   ]
  },
  {
   "cell_type": "code",
   "execution_count": 10,
   "metadata": {},
   "outputs": [],
   "source": [
    "# Remove 80-0-20-400 charge\n",
    "df = DATA.copy()\n",
    "\n",
    "ind = df.compound_charge_params != \"80-0-20-400\"\n",
    "df = df[ind].reset_index(drop=True).copy()\n",
    "\n",
    "ind = (\n",
    "    df.compound_position\n",
    "    .apply(lambda x: x.split(\"-\"))\n",
    "    .apply(lambda x: (\n",
    "        # Remove ground contacts\n",
    "        (\"\" not in x) and\n",
    "        # Horizontal\n",
    "        (x[0][:-1] == x[1][:-1])\n",
    "    ))\n",
    ")\n",
    "df = df[ind].reset_index(drop=True).copy()\n",
    "df.shape\n",
    "\n",
    "df[\"segment\"] = df.compound_position.apply(lambda x: x.split(\"-\")[0][:-1])\n",
    "df[\"direction\"] = df.compound_position.apply(lambda x: \"-\".join([u[-1] for u in x.split(\"-\")]))\n",
    "df[\"direction__charge\"] = df.direction + \"__\" + df.compound_charge_params\n"
   ]
  },
  {
   "cell_type": "code",
   "execution_count": 14,
   "metadata": {},
   "outputs": [
    {
     "data": {
      "text/plain": [
       "['L-M__20-0-80-25',\n",
       " 'L-M__50-0-50-0',\n",
       " 'L-M__50-0-50-100',\n",
       " 'M-L__20-0-80-25',\n",
       " 'M-L__50-0-50-0',\n",
       " 'M-L__50-0-50-100']"
      ]
     },
     "execution_count": 14,
     "metadata": {},
     "output_type": "execute_result"
    }
   ],
   "source": [
    "sorted(df.direction__charge.unique())"
   ]
  },
  {
   "cell_type": "code",
   "execution_count": 17,
   "metadata": {},
   "outputs": [
    {
     "data": {
      "text/plain": [
       "0       02__M-L__50-0-50-100\n",
       "1       02__M-L__50-0-50-100\n",
       "2       02__M-L__50-0-50-100\n",
       "3       02__M-L__50-0-50-100\n",
       "4       02__M-L__50-0-50-100\n",
       "                ...         \n",
       "5151    01__L-M__50-0-50-100\n",
       "5152     04__M-L__20-0-80-25\n",
       "5153      05__L-M__50-0-50-0\n",
       "5154      06__M-L__50-0-50-0\n",
       "5155      05__L-M__50-0-50-0\n",
       "Name: direction__charge, Length: 5156, dtype: object"
      ]
     },
     "execution_count": 17,
     "metadata": {},
     "output_type": "execute_result"
    }
   ],
   "source": [
    "df.direction__charge.replace({\n",
    "    'L-M__50-0-50-100': '01__L-M__50-0-50-100',\n",
    "    'M-L__50-0-50-100': '02__M-L__50-0-50-100',\n",
    "    'L-M__20-0-80-25': '03__L-M__20-0-80-25',\n",
    "    'M-L__20-0-80-25': '04__M-L__20-0-80-25',\n",
    "    'L-M__50-0-50-0': '05__L-M__50-0-50-0',\n",
    "    'M-L__50-0-50-0': '06__M-L__50-0-50-0'\n",
    "})"
   ]
  },
  {
   "cell_type": "code",
   "execution_count": 11,
   "metadata": {},
   "outputs": [
    {
     "data": {
      "text/plain": [
       "participant  segment\n",
       "amap01       C7         6\n",
       "             C8         6\n",
       "amap02       C7         6\n",
       "             C8         6\n",
       "amap03       C7         6\n",
       "             C8         6\n",
       "amap04       C6         6\n",
       "             C7         6\n",
       "amap05       C6         6\n",
       "             C7         6\n",
       "amap06       C6         6\n",
       "             C7         6\n",
       "amap07       C6         6\n",
       "             C7         6\n",
       "amap08       C6         6\n",
       "             C7         6\n",
       "Name: direction__charge, dtype: int64"
      ]
     },
     "execution_count": 11,
     "metadata": {},
     "output_type": "execute_result"
    }
   ],
   "source": [
    "df.groupby(by=[\"participant\", \"segment\"]).direction__charge.nunique()\n"
   ]
  },
  {
   "cell_type": "code",
   "execution_count": 44,
   "metadata": {},
   "outputs": [
    {
     "data": {
      "text/html": [
       "<div>\n",
       "<style scoped>\n",
       "    .dataframe tbody tr th:only-of-type {\n",
       "        vertical-align: middle;\n",
       "    }\n",
       "\n",
       "    .dataframe tbody tr th {\n",
       "        vertical-align: top;\n",
       "    }\n",
       "\n",
       "    .dataframe thead th {\n",
       "        text-align: right;\n",
       "    }\n",
       "</style>\n",
       "<table border=\"1\" class=\"dataframe\">\n",
       "  <thead>\n",
       "    <tr style=\"text-align: right;\">\n",
       "      <th></th>\n",
       "      <th>participant</th>\n",
       "      <th>segment</th>\n",
       "    </tr>\n",
       "  </thead>\n",
       "  <tbody>\n",
       "    <tr>\n",
       "      <th>0</th>\n",
       "      <td>amap01</td>\n",
       "      <td>C7</td>\n",
       "    </tr>\n",
       "    <tr>\n",
       "      <th>1</th>\n",
       "      <td>amap01</td>\n",
       "      <td>C7</td>\n",
       "    </tr>\n",
       "    <tr>\n",
       "      <th>2</th>\n",
       "      <td>amap01</td>\n",
       "      <td>C7</td>\n",
       "    </tr>\n",
       "    <tr>\n",
       "      <th>3</th>\n",
       "      <td>amap01</td>\n",
       "      <td>C7</td>\n",
       "    </tr>\n",
       "    <tr>\n",
       "      <th>4</th>\n",
       "      <td>amap01</td>\n",
       "      <td>C7</td>\n",
       "    </tr>\n",
       "    <tr>\n",
       "      <th>...</th>\n",
       "      <td>...</td>\n",
       "      <td>...</td>\n",
       "    </tr>\n",
       "    <tr>\n",
       "      <th>5151</th>\n",
       "      <td>amap08</td>\n",
       "      <td>C6</td>\n",
       "    </tr>\n",
       "    <tr>\n",
       "      <th>5152</th>\n",
       "      <td>amap08</td>\n",
       "      <td>C7</td>\n",
       "    </tr>\n",
       "    <tr>\n",
       "      <th>5153</th>\n",
       "      <td>amap08</td>\n",
       "      <td>C7</td>\n",
       "    </tr>\n",
       "    <tr>\n",
       "      <th>5154</th>\n",
       "      <td>amap08</td>\n",
       "      <td>C7</td>\n",
       "    </tr>\n",
       "    <tr>\n",
       "      <th>5155</th>\n",
       "      <td>amap08</td>\n",
       "      <td>C6</td>\n",
       "    </tr>\n",
       "  </tbody>\n",
       "</table>\n",
       "<p>5156 rows × 2 columns</p>\n",
       "</div>"
      ],
      "text/plain": [
       "     participant segment\n",
       "0         amap01      C7\n",
       "1         amap01      C7\n",
       "2         amap01      C7\n",
       "3         amap01      C7\n",
       "4         amap01      C7\n",
       "...          ...     ...\n",
       "5151      amap08      C6\n",
       "5152      amap08      C7\n",
       "5153      amap08      C7\n",
       "5154      amap08      C7\n",
       "5155      amap08      C6\n",
       "\n",
       "[5156 rows x 2 columns]"
      ]
     },
     "execution_count": 44,
     "metadata": {},
     "output_type": "execute_result"
    }
   ],
   "source": [
    "df[[\"participant\", \"segment\"]]"
   ]
  },
  {
   "cell_type": "code",
   "execution_count": null,
   "metadata": {},
   "outputs": [],
   "source": [
    "df[[\"participant\", \"compound_position\"]]"
   ]
  },
  {
   "cell_type": "code",
   "execution_count": 35,
   "metadata": {},
   "outputs": [
    {
     "data": {
      "text/plain": [
       "array(['C7M-C7L', 'C8L-C8M', 'C7L-C7M', 'C8M-C8L', 'C6M-C6L', 'C6L-C6M'],\n",
       "      dtype=object)"
      ]
     },
     "execution_count": 35,
     "metadata": {},
     "output_type": "execute_result"
    }
   ],
   "source": [
    "df.compound_position.unique()"
   ]
  },
  {
   "cell_type": "code",
   "execution_count": 4,
   "metadata": {},
   "outputs": [],
   "source": [
    "def filter_data(keep_combinations):\n",
    "    df = DATA.copy()\n",
    "    ind = (\n",
    "        df[COLUMNS[1:]]\n",
    "        .apply(tuple, axis=1)\n",
    "        .isin(keep_combinations)\n",
    "    )\n",
    "    df = df[ind].reset_index(drop=True).copy()\n",
    "\n",
    "    combinations = [\n",
    "        (position, charge) in keep_combinations\n",
    "        for subject, position, charge in COMBINED_COMBINATIONS\n",
    "    ]\n",
    "    posterior_samples = {\n",
    "        u: v[:, combinations, ...]\n",
    "        for u, v in COMBINED_POSTERIOR_SAMPLES.items()\n",
    "    }\n",
    "    combinations = [u for u, v in zip(COMBINED_COMBINATIONS, combinations) if v]\n",
    "    return df, combinations, posterior_samples\n"
   ]
  },
  {
   "cell_type": "code",
   "execution_count": 5,
   "metadata": {},
   "outputs": [
    {
     "name": "stdout",
     "output_type": "stream",
     "text": [
      "[('C7L-C7M', '20-0-80-25'), ('C7L-C7M', '50-0-50-0'), ('C7L-C7M', '50-0-50-100'), ('C7M-C7L', '20-0-80-25'), ('C7M-C7L', '50-0-50-0'), ('C7M-C7L', '50-0-50-100')]\n",
      "(2538, 44)\n"
     ]
    }
   ],
   "source": [
    "complete_cases = [\n",
    "    ('C7L-C7M', '20-0-80-25'),\n",
    "    ('C7L-C7M', '50-0-50-0'),\n",
    "    ('C7L-C7M', '50-0-50-100'),\n",
    "    ('C7M-C7L', '20-0-80-25'),\n",
    "    ('C7M-C7L', '50-0-50-0'),\n",
    "    ('C7M-C7L', '50-0-50-100')\n",
    "]\n",
    "\n",
    "keep_combinations = complete_cases\n",
    "print(keep_combinations)\n",
    "\n",
    "df, combinations, posterior_samples = filter_data(keep_combinations)\n",
    "print(df.shape)\n"
   ]
  },
  {
   "cell_type": "code",
   "execution_count": 6,
   "metadata": {},
   "outputs": [],
   "source": [
    "subjects = sorted(df[COLUMNS[0]].unique())\n",
    "positions = sorted(df[COLUMNS[1]].unique())\n",
    "charges = sorted(df[COLUMNS[2]].unique())\n"
   ]
  },
  {
   "cell_type": "code",
   "execution_count": 7,
   "metadata": {},
   "outputs": [
    {
     "data": {
      "text/plain": [
       "['C7L-C7M', 'C7M-C7L']"
      ]
     },
     "execution_count": 7,
     "metadata": {},
     "output_type": "execute_result"
    }
   ],
   "source": [
    "positions"
   ]
  },
  {
   "cell_type": "code",
   "execution_count": 8,
   "metadata": {},
   "outputs": [
    {
     "data": {
      "text/plain": [
       "['20-0-80-25', '50-0-50-0', '50-0-50-100']"
      ]
     },
     "execution_count": 8,
     "metadata": {},
     "output_type": "execute_result"
    }
   ],
   "source": [
    "charges"
   ]
  },
  {
   "cell_type": "code",
   "execution_count": 9,
   "metadata": {},
   "outputs": [
    {
     "data": {
      "text/plain": [
       "(4000, 8, 2, 3, 6)"
      ]
     },
     "execution_count": 9,
     "metadata": {},
     "output_type": "execute_result"
    }
   ],
   "source": [
    "a = None\n",
    "\n",
    "for subject in subjects:\n",
    "    for position in positions:\n",
    "        for charge in charges:\n",
    "            ind = [(subject, position, charge) == u for u in combinations]\n",
    "            assert sum(ind) == 1\n",
    "            if a is None:\n",
    "                a = posterior_samples[site.a][:, ind, ...]\n",
    "            else:\n",
    "                a = np.concatenate([a, posterior_samples[site.a][:, ind, ...]], axis=1)\n",
    "\n",
    "a = a.reshape(-1, len(subjects), len(positions), len(charges), *a.shape[2:])\n",
    "a.shape\n"
   ]
  },
  {
   "cell_type": "markdown",
   "metadata": {},
   "source": [
    "### C7L-C7M"
   ]
  },
  {
   "cell_type": "code",
   "execution_count": 10,
   "metadata": {},
   "outputs": [
    {
     "name": "stdout",
     "output_type": "stream",
     "text": [
      "C7L-C7M\n"
     ]
    },
    {
     "data": {
      "image/png": "[encoded data removed]",
      "text/plain": [
       "<Figure size 1800x300 with 6 Axes>"
      ]
     },
     "metadata": {},
     "output_type": "display_data"
    }
   ],
   "source": [
    "ind = 0\n",
    "print(positions[ind])\n",
    "\n",
    "nrows, ncols = 1, 6\n",
    "fig, axes = plt.subplots(\n",
    "    nrows, ncols, figsize=(ncols * 3, nrows * 3),\n",
    "    constrained_layout=True, squeeze=False\n",
    ")\n",
    "\n",
    "for i, muscle in enumerate(model.response):\n",
    "    ax = axes[0, i]\n",
    "    samples = a[:, :, ind, ...].mean(axis=1)\n",
    "    for j, charge in enumerate(charges):\n",
    "        sns.kdeplot(samples[:, j, i], ax=ax, label=charge)\n",
    "    ax.set_title(muscle)\n",
    "\n",
    "axes[0, 0].legend();\n"
   ]
  },
  {
   "cell_type": "code",
   "execution_count": 18,
   "metadata": {},
   "outputs": [
    {
     "name": "stdout",
     "output_type": "stream",
     "text": [
      "C7L-C7M\n",
      "20-0-80-25\t<\t50-0-50-0:\t0.01655868339747997\n",
      "20-0-80-25\t<\t50-0-50-100:\t0.9972770669479791\n",
      "50-0-50-0\t<\t20-0-80-25:\t0.9834413166025201\n",
      "50-0-50-0\t<\t50-0-50-100:\t0.9998204541013415\n",
      "50-0-50-100\t<\t20-0-80-25:\t0.002722933052020838\n",
      "50-0-50-100\t<\t50-0-50-0:\t0.00017954589865860462\n"
     ]
    }
   ],
   "source": [
    "ind = 0\n",
    "print(f\"{positions[ind]}\")\n",
    "\n",
    "for i, l in enumerate(charges):\n",
    "    for j, r in enumerate(charges):\n",
    "        if l == r: continue\n",
    "        l_samples = a[:, :, ind, ...].mean(axis=0)[:, i, :]\n",
    "        r_samples = a[:, :, ind, ...].mean(axis=0)[:, j, :]\n",
    "        pvalue = stats.ttest_1samp(l_samples - r_samples, popmean=0, alternative=\"less\", axis=(0, 1)).pvalue\n",
    "        print(\n",
    "            f\"{l}\\t<\\t{r}:\\t{pvalue}\"\n",
    "        )\n"
   ]
  },
  {
   "cell_type": "markdown",
   "metadata": {},
   "source": [
    "### C7M-C7L\n"
   ]
  },
  {
   "cell_type": "code",
   "execution_count": 20,
   "metadata": {},
   "outputs": [
    {
     "name": "stdout",
     "output_type": "stream",
     "text": [
      "C7M-C7L\n"
     ]
    },
    {
     "data": {
      "image/png": "[encoded data removed]",
      "text/plain": [
       "<Figure size 1800x300 with 6 Axes>"
      ]
     },
     "metadata": {},
     "output_type": "display_data"
    }
   ],
   "source": [
    "ind = 1\n",
    "print(positions[ind])\n",
    "\n",
    "nrows, ncols = 1, 6\n",
    "fig, axes = plt.subplots(\n",
    "    nrows, ncols, figsize=(ncols * 3, nrows * 3),\n",
    "    constrained_layout=True, squeeze=False\n",
    ")\n",
    "\n",
    "for i, muscle in enumerate(model.response):\n",
    "    ax = axes[0, i]\n",
    "    samples = a[:, :, ind, ...].mean(axis=1)\n",
    "    for j, charge in enumerate(charges):\n",
    "        sns.kdeplot(samples[:, j, i], ax=ax, label=charge)\n",
    "    ax.set_title(muscle)\n",
    "\n",
    "axes[0, 0].legend();\n"
   ]
  },
  {
   "cell_type": "code",
   "execution_count": 21,
   "metadata": {},
   "outputs": [
    {
     "name": "stdout",
     "output_type": "stream",
     "text": [
      "C7M-C7L\n",
      "20-0-80-25\t<\t50-0-50-0:\t0.00019613924377859693\n",
      "20-0-80-25\t<\t50-0-50-100:\t0.9647021304501868\n",
      "50-0-50-0\t<\t20-0-80-25:\t0.9998038607562214\n",
      "50-0-50-0\t<\t50-0-50-100:\t0.999959643225194\n",
      "50-0-50-100\t<\t20-0-80-25:\t0.035297869549813156\n",
      "50-0-50-100\t<\t50-0-50-0:\t4.0356774805902716e-05\n"
     ]
    }
   ],
   "source": [
    "ind = 1\n",
    "print(f\"{positions[ind]}\")\n",
    "\n",
    "for i, l in enumerate(charges):\n",
    "    for j, r in enumerate(charges):\n",
    "        if l == r: continue\n",
    "        l_samples = a[:, :, ind, ...].mean(axis=0)[:, i, :]\n",
    "        r_samples = a[:, :, ind, ...].mean(axis=0)[:, j, :]\n",
    "        pvalue = stats.ttest_1samp(l_samples - r_samples, popmean=0, alternative=\"less\", axis=(0, 1)).pvalue\n",
    "        print(\n",
    "            f\"{l}\\t<\\t{r}:\\t{pvalue}\"\n",
    "        )\n"
   ]
  },
  {
   "cell_type": "code",
   "execution_count": 22,
   "metadata": {},
   "outputs": [
    {
     "data": {
      "text/plain": [
       "(4000, 8, 2, 3, 6)"
      ]
     },
     "execution_count": 22,
     "metadata": {},
     "output_type": "execute_result"
    }
   ],
   "source": [
    "a.shape\n"
   ]
  },
  {
   "cell_type": "code",
   "execution_count": 28,
   "metadata": {},
   "outputs": [
    {
     "name": "stdout",
     "output_type": "stream",
     "text": [
      "\n",
      "20-0-80-25\n",
      "C7L-C7M\t\t<\tC7M-C7L:\t0.03433866720964922\n",
      "C7M-C7L\t\t<\tC7L-C7M:\t0.9656613327903507\n",
      "\n",
      "50-0-50-0\n",
      "C7L-C7M\t\t<\tC7M-C7L:\t0.024988469217498404\n",
      "C7M-C7L\t\t<\tC7L-C7M:\t0.9750115307825016\n",
      "\n",
      "50-0-50-100\n",
      "C7L-C7M\t\t<\tC7M-C7L:\t0.00016024548851842194\n",
      "C7M-C7L\t\t<\tC7L-C7M:\t0.9998397545114815\n"
     ]
    }
   ],
   "source": [
    "for i, charge in enumerate(charges):\n",
    "    print(f\"\\n{charge}\")\n",
    "    l_samples = a.mean(axis=0)[:, 0, i, :]\n",
    "    r_samples = a.mean(axis=0)[:, 1, i, :]\n",
    "    pvalue = stats.ttest_1samp(l_samples - r_samples, popmean=0, alternative=\"less\", axis=(0, 1)).pvalue\n",
    "    print(\n",
    "        f\"{positions[0]}\\t\\t<\\t{positions[1]}:\\t{pvalue}\"\n",
    "    )\n",
    "    pvalue = stats.ttest_1samp(-(l_samples - r_samples), popmean=0, alternative=\"less\", axis=(0, 1 )).pvalue\n",
    "    print(\n",
    "        f\"{positions[1]}\\t\\t<\\t{positions[0]}:\\t{pvalue}\"\n",
    "    )\n"
   ]
  },
  {
   "cell_type": "code",
   "execution_count": 33,
   "metadata": {},
   "outputs": [
    {
     "data": {
      "text/plain": [
       "(48,)"
      ]
     },
     "execution_count": 33,
     "metadata": {},
     "output_type": "execute_result"
    }
   ],
   "source": [
    "samples = (l_samples - r_samples).reshape(-1,)\n",
    "samples.shape"
   ]
  },
  {
   "cell_type": "code",
   "execution_count": 29,
   "metadata": {},
   "outputs": [
    {
     "data": {
      "text/plain": [
       "(4000, 8, 2, 3, 6)"
      ]
     },
     "execution_count": 29,
     "metadata": {},
     "output_type": "execute_result"
    }
   ],
   "source": [
    "a.shape"
   ]
  },
  {
   "cell_type": "code",
   "execution_count": null,
   "metadata": {},
   "outputs": [],
   "source": [
    "a[:, ]"
   ]
  },
  {
   "cell_type": "code",
   "execution_count": null,
   "metadata": {},
   "outputs": [],
   "source": []
  }
 ],
 "metadata": {
  "kernelspec": {
   "display_name": "Python 3 (ipykernel)",
   "language": "python",
   "name": "python3"
  },
  "language_info": {
   "codemirror_mode": {
    "name": "ipython",
    "version": 3
   },
   "file_extension": ".py",
   "mimetype": "text/x-python",
   "name": "python",
   "nbconvert_exporter": "python",
   "pygments_lexer": "ipython3",
   "version": "3.11.9"
  }
 },
 "nbformat": 4,
 "nbformat_minor": 2
}
