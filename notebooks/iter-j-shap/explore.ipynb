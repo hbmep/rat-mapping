{
 "cells": [
  {
   "cell_type": "code",
   "execution_count": 1,
   "metadata": {},
   "outputs": [],
   "source": [
    "import os\n",
    "import pickle\n",
    "\n",
    "import pandas as pd\n",
    "import numpy as np\n",
    "\n",
    "from hbmep.config import Config\n",
    "from hbmep.model.utils import Site as site\n",
    "\n",
    "from models import NonHierarchicalBayesianModel\n",
    "from constants import (\n",
    "    TOML_PATH,\n",
    "    DATA_PATH,\n",
    "    BUILD_DIR,\n",
    ")\n"
   ]
  },
  {
   "cell_type": "code",
   "execution_count": 2,
   "metadata": {},
   "outputs": [
    {
     "name": "stdout",
     "output_type": "stream",
     "text": [
      "(16440, 44)\n"
     ]
    }
   ],
   "source": [
    "src = os.path.join(BUILD_DIR, \"inference.pkl\")\n",
    "\n",
    "with open(src, \"rb\") as f:\n",
    "    combinations, posterior_samples = pickle.load(f)\n",
    "\n",
    "df = pd.read_csv(DATA_PATH)\n",
    "print(df.shape)\n"
   ]
  },
  {
   "cell_type": "code",
   "execution_count": 3,
   "metadata": {},
   "outputs": [],
   "source": [
    "def remove_combinations(\n",
    "    remove,\n",
    "    combinations,\n",
    "    posterior_samples\n",
    "):\n",
    "    ind = [c not in remove for c in combinations]\n",
    "    combinations = [c for c in combinations if c not in remove]\n",
    "\n",
    "    for u in posterior_samples.keys():\n",
    "        posterior_samples[u] = posterior_samples[u][:, ind, ...]\n",
    "\n",
    "    return combinations, posterior_samples\n"
   ]
  },
  {
   "cell_type": "code",
   "execution_count": 4,
   "metadata": {},
   "outputs": [
    {
     "data": {
      "text/plain": [
       "Index(['pulse_amplitude', 'pulse_train_frequency', 'pulse_period',\n",
       "       'pulse_duration', 'pulse_count', 'train_delay', 'channel1_1',\n",
       "       'channel1_2', 'channel1_3', 'channel1_4', 'channel2_1', 'channel2_2',\n",
       "       'channel2_3', 'channel2_4', 'charge_params_1', 'charge_params_2',\n",
       "       'charge_params_3', 'charge_params_4', 'bank_check', 'run', 'enabled',\n",
       "       'channel_failA', 'channel_failB', 'channel_fail_comb', 'time_pulse',\n",
       "       'time', 'ix_onsets', 'LBiceps', 'LFCR', 'LECR', 'LTriceps', 'LADM',\n",
       "       'LDeltoid', 'LBicepsFemoris', 'RBiceps', 'channel1_laterality',\n",
       "       'channel1_segment', 'channel2_laterality', 'channel2_segment',\n",
       "       'compound_position', 'compound_charge_params', 'participant',\n",
       "       'subdir_pattern', 'charge_param_error'],\n",
       "      dtype='object')"
      ]
     },
     "execution_count": 4,
     "metadata": {},
     "output_type": "execute_result"
    }
   ],
   "source": [
    "df.columns\n"
   ]
  },
  {
   "cell_type": "code",
   "execution_count": 5,
   "metadata": {},
   "outputs": [
    {
     "name": "stdout",
     "output_type": "stream",
     "text": [
      "240\n",
      "(4000, 240, 6)\n"
     ]
    }
   ],
   "source": [
    "# Filter out P Mono 80-0-20-400\n",
    "remove = [c for c in combinations if c[2] == \"80-0-20-400\"]\n",
    "combinations, posterior_samples = remove_combinations(remove, combinations, posterior_samples)\n",
    "\n",
    "print(len(combinations))\n",
    "print(posterior_samples[site.a].shape)\n"
   ]
  },
  {
   "cell_type": "code",
   "execution_count": 6,
   "metadata": {},
   "outputs": [
    {
     "name": "stdout",
     "output_type": "stream",
     "text": [
      "144\n",
      "(4000, 144, 6)\n"
     ]
    }
   ],
   "source": [
    "# Filter out ground contacts\n",
    "remove = [c for c in combinations if \"\" in c[1].split(\"-\")]\n",
    "combinations, posterior_samples = remove_combinations(remove, combinations, posterior_samples)\n",
    "\n",
    "print(len(combinations))\n",
    "print(posterior_samples[site.a].shape)\n"
   ]
  },
  {
   "cell_type": "code",
   "execution_count": 7,
   "metadata": {},
   "outputs": [],
   "source": [
    "dict_position_charge_to_subject = {}\n",
    "for subject, position, charge in combinations:\n",
    "    if (position, charge) not in dict_position_charge_to_subject:\n",
    "        dict_position_charge_to_subject[(position, charge)] = [subject]\n",
    "    else:\n",
    "        dict_position_charge_to_subject[(position, charge)].append(subject)\n"
   ]
  },
  {
   "cell_type": "code",
   "execution_count": 8,
   "metadata": {},
   "outputs": [
    {
     "data": {
      "text/plain": [
       "30"
      ]
     },
     "execution_count": 8,
     "metadata": {},
     "output_type": "execute_result"
    }
   ],
   "source": [
    "len(dict_position_charge_to_subject.keys())"
   ]
  },
  {
   "cell_type": "code",
   "execution_count": 9,
   "metadata": {},
   "outputs": [
    {
     "data": {
      "text/plain": [
       "[('C7L-C7M', '20-0-80-25'),\n",
       " ('C7L-C7M', '50-0-50-0'),\n",
       " ('C7L-C7M', '50-0-50-100'),\n",
       " ('C7M-C7L', '20-0-80-25'),\n",
       " ('C7M-C7L', '50-0-50-0'),\n",
       " ('C7M-C7L', '50-0-50-100')]"
      ]
     },
     "execution_count": 9,
     "metadata": {},
     "output_type": "execute_result"
    }
   ],
   "source": [
    "complete_cases = [(u, len(dict_position_charge_to_subject[u])) for u in dict_position_charge_to_subject.keys()]\n",
    "complete_cases = [u[0] for u in complete_cases if u[1] == df.participant.nunique()]\n",
    "\n",
    "complete_cases\n"
   ]
  },
  {
   "cell_type": "code",
   "execution_count": 19,
   "metadata": {},
   "outputs": [
    {
     "data": {
      "text/plain": [
       "48"
      ]
     },
     "execution_count": 19,
     "metadata": {},
     "output_type": "execute_result"
    }
   ],
   "source": [
    "conditions = [c for c in combinations if (c[1], c[2]) in complete_cases]\n",
    "len(conditions)\n"
   ]
  }
 ],
 "metadata": {
  "kernelspec": {
   "display_name": "Python 3 (ipykernel)",
   "language": "python",
   "name": "python3"
  },
  "language_info": {
   "codemirror_mode": {
    "name": "ipython",
    "version": 3
   },
   "file_extension": ".py",
   "mimetype": "text/x-python",
   "name": "python",
   "nbconvert_exporter": "python",
   "pygments_lexer": "ipython3",
   "version": "3.11.9"
  }
 },
 "nbformat": 4,
 "nbformat_minor": 2
}
