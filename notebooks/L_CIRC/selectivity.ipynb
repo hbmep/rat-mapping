{
 "cells": [
  {
   "cell_type": "code",
   "execution_count": 1,
   "metadata": {},
   "outputs": [],
   "source": [
    "import os\n",
    "import pandas as pd\n",
    "import numpy as np\n",
    "import pickle\n",
    "import matplotlib.pyplot as plt\n",
    "import seaborn as sns\n",
    "from scipy import stats\n",
    "import re\n",
    "import numpy.ma as ma\n",
    "\n",
    "from hbmep.config import Config\n",
    "from hbmep.model.utils import Site as site\n",
    "\n",
    "from models import NonHierarchicalBayesianModel\n",
    "from constants import (\n",
    "    DATA_PATH,\n",
    "    TOML_PATH\n",
    ")"
   ]
  },
  {
   "cell_type": "code",
   "execution_count": 2,
   "metadata": {},
   "outputs": [
    {
     "name": "stderr",
     "output_type": "stream",
     "text": [
      "An NVIDIA GPU may be present on this machine, but a CUDA-enabled jaxlib is not installed. Falling back to cpu.\n"
     ]
    }
   ],
   "source": [
    "df = pd.read_csv(\"/home/andres/data/hbmep-processed/L_CIRC/data.csv\")\n",
    "config = Config(toml_path=TOML_PATH)\n",
    "model = NonHierarchicalBayesianModel(config=config)"
   ]
  },
  {
   "cell_type": "code",
   "execution_count": 3,
   "metadata": {},
   "outputs": [],
   "source": [
    "src = \"/home/andres/repos/rat-mapping-paper/reports/L_CIRC/combine_response.pkl\"\n",
    "with open(src, \"rb\") as f:\n",
    "    combinations = pickle.load(f)"
   ]
  },
  {
   "cell_type": "code",
   "execution_count": 4,
   "metadata": {},
   "outputs": [
    {
     "data": {
      "text/plain": [
       "{'-C6LC',\n",
       " '-C6LE',\n",
       " '-C6LN',\n",
       " '-C6LNE',\n",
       " '-C6LNW',\n",
       " '-C6LS',\n",
       " '-C6LSE',\n",
       " '-C6LSW',\n",
       " '-C6LW',\n",
       " 'C6LE-C6LC',\n",
       " 'C6LE-C6LW',\n",
       " 'C6LN-C6LC',\n",
       " 'C6LNE-C6LC',\n",
       " 'C6LNE-C6LSW',\n",
       " 'C6LNW-C6LC',\n",
       " 'C6LS-C6LC',\n",
       " 'C6LS-C6LN',\n",
       " 'C6LSE-C6LC',\n",
       " 'C6LSE-C6LNW',\n",
       " 'C6LSW-C6LC',\n",
       " 'C6LW-C6LC'}"
      ]
     },
     "execution_count": 4,
     "metadata": {},
     "output_type": "execute_result"
    }
   ],
   "source": [
    "set(k[1] for k in combinations.keys())\n"
   ]
  },
  {
   "cell_type": "code",
   "execution_count": 5,
   "metadata": {},
   "outputs": [],
   "source": [
    "subjects = sorted(df['participant'].unique())\n",
    "combos = ['Vertex', 'Radius', 'Diameter']\n",
    "electrodes = ['C6LC', 'C6LE', 'C6LN', 'C6LNE', 'C6LNW', 'C6LS', 'C6LSE', 'C6LSW', 'C6LW']\n",
    "muscles = model.response\n"
   ]
  },
  {
   "cell_type": "code",
   "execution_count": null,
   "metadata": {},
   "outputs": [],
   "source": [
    "temp = ['C6LE-C6LW','C6LNE-C6LSW','C6LS-C6LN','C6LSE-C6LNW']\n",
    "ord = []\n",
    "arr = []\n",
    "mask = []\n",
    "for sub in subjects:\n",
    "    for combo in combos:\n",
    "        for elec in electrodes:\n",
    "            for m in muscles:\n",
    "                if combo == 'Vertex':\n",
    "                    position = '-'+elec\n",
    "                if combo == 'Radius':\n",
    "                    position = elec + '-' + 'C6LC'\n",
    "                if combo == 'Diameter':\n",
    "                    for e in electrodes:\n",
    "                        if elec != e:\n",
    "                            temppos = elec + '-' + e\n",
    "                            if temppos in temp:\n",
    "                                position = temppos\n",
    "                key = (sub, position, m)\n",
    "                \n",
    "                if key in combination.keys():\n",
    "                    tcomb = combination[key]['a']\n",
    "                    tcomb = tcomb.reshape(-1, 1)\n",
    "                    arr.append(tcomb)\n",
    "                    mask.append(np.full((4000,1), False))\n",
    "                else:\n",
    "                    arr.append(np.zeros(4000).reshape(-1, 1))\n",
    "                    mask.append(np.full((4000, 1), True))\n",
    "                    \n",
    "arr = np.array(arr)\n",
    "arr = arr.reshape(len(subjects), len(combos),len(electrodes), len(muscles), *arr.shape[1:])\n",
    "mask = np.array(mask)\n",
    "mask = mask.reshape(len(subjects), len(combos),len(electrodes),len(muscles), *mask.shape[1:])\n",
    "\n",
    "arr = ma.masked_array(arr, mask=mask)\n",
    "arr = arr[..., 0]\n",
    "                "
   ]
  },
  {
   "cell_type": "code",
   "execution_count": 7,
   "metadata": {},
   "outputs": [
    {
     "data": {
      "text/plain": [
       "168"
      ]
     },
     "execution_count": 7,
     "metadata": {},
     "output_type": "execute_result"
    }
   ],
   "source": [
    "combinations_ordered  = df[model.features].apply(tuple, axis=1).unique().tolist()\n",
    "len(combinations_ordered)"
   ]
  },
  {
   "cell_type": "code",
   "execution_count": 8,
   "metadata": {},
   "outputs": [
    {
     "data": {
      "text/plain": [
       "(168, 6, 1000)"
      ]
     },
     "execution_count": 8,
     "metadata": {},
     "output_type": "execute_result"
    }
   ],
   "source": [
    "y = []\n",
    "\n",
    "for c in combinations_ordered:\n",
    "    for response in model.response:\n",
    "        combination = (*c, response)\n",
    "        y_curr = combinations[combination]['response']\n",
    "        y.append(y_curr)\n",
    "\n",
    "y = np.array(y)\n",
    "y = y.reshape(len(combinations_ordered), len(model.response), -1)\n",
    "y.shape\n",
    "    "
   ]
  },
  {
   "cell_type": "code",
   "execution_count": 12,
   "metadata": {},
   "outputs": [
    {
     "data": {
      "text/plain": [
       "(168, 6, 1)"
      ]
     },
     "execution_count": 12,
     "metadata": {},
     "output_type": "execute_result"
    }
   ],
   "source": [
    "y_max = []\n",
    "\n",
    "for c in combinations_ordered:\n",
    "    subject = c[0]\n",
    "    ind = [i for i, combination in enumerate(combinations_ordered) if combination[0] == subject] #21\n",
    "    curr_y = y[ind, ...]\n",
    "    curr_y_max = np.max(curr_y, axis=(0, -1), keepdims=True) #6\n",
    "    y_max.append(curr_y_max) \n",
    "\n",
    "y_max = np.array(y_max)\n",
    "y_max = y_max[:, 0, ...]\n",
    "y_max.shape\n",
    "# y_max.reshape(len(combinations_ordered), -1)\n",
    "\n",
    "# y_max = y_max[..., None]\n",
    "# y_max.shape\n"
   ]
  },
  {
   "cell_type": "code",
   "execution_count": 11,
   "metadata": {},
   "outputs": [
    {
     "data": {
      "text/plain": [
       "(168, 1, 6, 1)"
      ]
     },
     "execution_count": 11,
     "metadata": {},
     "output_type": "execute_result"
    }
   ],
   "source": [
    "y_max.shape"
   ]
  },
  {
   "cell_type": "code",
   "execution_count": 27,
   "metadata": {},
   "outputs": [
    {
     "data": {
      "text/plain": [
       "1.0"
      ]
     },
     "execution_count": 27,
     "metadata": {},
     "output_type": "execute_result"
    }
   ],
   "source": [
    "y = y / y_max\n",
    "y.max()\n"
   ]
  },
  {
   "cell_type": "code",
   "execution_count": null,
   "metadata": {},
   "outputs": [],
   "source": []
  },
  {
   "cell_type": "code",
   "execution_count": 17,
   "metadata": {},
   "outputs": [
    {
     "data": {
      "text/plain": [
       "dict_keys([('amap01', 'C6LSW-C6LC', 'LADM'), ('amap01', 'C6LSW-C6LC', 'LBiceps'), ('amap01', 'C6LSW-C6LC', 'LDeltoid'), ('amap01', 'C6LSW-C6LC', 'LECR'), ('amap01', 'C6LSW-C6LC', 'LFCR'), ('amap01', 'C6LSW-C6LC', 'LTriceps'), ('amap01', '-C6LSE', 'LADM'), ('amap01', '-C6LSE', 'LBiceps'), ('amap01', '-C6LSE', 'LDeltoid'), ('amap01', '-C6LSE', 'LECR'), ('amap01', '-C6LSE', 'LFCR'), ('amap01', '-C6LSE', 'LTriceps'), ('amap01', 'C6LS-C6LC', 'LADM'), ('amap01', 'C6LS-C6LC', 'LBiceps'), ('amap01', 'C6LS-C6LC', 'LDeltoid'), ('amap01', 'C6LS-C6LC', 'LECR'), ('amap01', 'C6LS-C6LC', 'LFCR'), ('amap01', 'C6LS-C6LC', 'LTriceps'), ('amap01', 'C6LSE-C6LC', 'LADM'), ('amap01', 'C6LSE-C6LC', 'LBiceps'), ('amap01', 'C6LSE-C6LC', 'LDeltoid'), ('amap01', 'C6LSE-C6LC', 'LECR'), ('amap01', 'C6LSE-C6LC', 'LFCR'), ('amap01', 'C6LSE-C6LC', 'LTriceps'), ('amap01', 'C6LSE-C6LNW', 'LADM'), ('amap01', 'C6LSE-C6LNW', 'LBiceps'), ('amap01', 'C6LSE-C6LNW', 'LDeltoid'), ('amap01', 'C6LSE-C6LNW', 'LECR'), ('amap01', 'C6LSE-C6LNW', 'LFCR'), ('amap01', 'C6LSE-C6LNW', 'LTriceps'), ('amap01', 'C6LNE-C6LSW', 'LADM'), ('amap01', 'C6LNE-C6LSW', 'LBiceps'), ('amap01', 'C6LNE-C6LSW', 'LDeltoid'), ('amap01', 'C6LNE-C6LSW', 'LECR'), ('amap01', 'C6LNE-C6LSW', 'LFCR'), ('amap01', 'C6LNE-C6LSW', 'LTriceps'), ('amap01', 'C6LNW-C6LC', 'LADM'), ('amap01', 'C6LNW-C6LC', 'LBiceps'), ('amap01', 'C6LNW-C6LC', 'LDeltoid'), ('amap01', 'C6LNW-C6LC', 'LECR'), ('amap01', 'C6LNW-C6LC', 'LFCR'), ('amap01', 'C6LNW-C6LC', 'LTriceps'), ('amap01', '-C6LN', 'LADM'), ('amap01', '-C6LN', 'LBiceps'), ('amap01', '-C6LN', 'LDeltoid'), ('amap01', '-C6LN', 'LECR'), ('amap01', '-C6LN', 'LFCR'), ('amap01', '-C6LN', 'LTriceps'), ('amap01', 'C6LS-C6LN', 'LADM'), ('amap01', 'C6LS-C6LN', 'LBiceps'), ('amap01', 'C6LS-C6LN', 'LDeltoid'), ('amap01', 'C6LS-C6LN', 'LECR'), ('amap01', 'C6LS-C6LN', 'LFCR'), ('amap01', 'C6LS-C6LN', 'LTriceps'), ('amap01', '-C6LW', 'LADM'), ('amap01', '-C6LW', 'LBiceps'), ('amap01', '-C6LW', 'LDeltoid'), ('amap01', '-C6LW', 'LECR'), ('amap01', '-C6LW', 'LFCR'), ('amap01', '-C6LW', 'LTriceps'), ('amap01', '-C6LNE', 'LADM'), ('amap01', '-C6LNE', 'LBiceps'), ('amap01', '-C6LNE', 'LDeltoid'), ('amap01', '-C6LNE', 'LECR'), ('amap01', '-C6LNE', 'LFCR'), ('amap01', '-C6LNE', 'LTriceps'), ('amap01', '-C6LNW', 'LADM'), ('amap01', '-C6LNW', 'LBiceps'), ('amap01', '-C6LNW', 'LDeltoid'), ('amap01', '-C6LNW', 'LECR'), ('amap01', '-C6LNW', 'LFCR'), ('amap01', '-C6LNW', 'LTriceps'), ('amap01', 'C6LN-C6LC', 'LADM'), ('amap01', 'C6LN-C6LC', 'LBiceps'), ('amap01', 'C6LN-C6LC', 'LDeltoid'), ('amap01', 'C6LN-C6LC', 'LECR'), ('amap01', 'C6LN-C6LC', 'LFCR'), ('amap01', 'C6LN-C6LC', 'LTriceps'), ('amap01', '-C6LS', 'LADM'), ('amap01', '-C6LS', 'LBiceps'), ('amap01', '-C6LS', 'LDeltoid'), ('amap01', '-C6LS', 'LECR'), ('amap01', '-C6LS', 'LFCR'), ('amap01', '-C6LS', 'LTriceps'), ('amap01', '-C6LE', 'LADM'), ('amap01', '-C6LE', 'LBiceps'), ('amap01', '-C6LE', 'LDeltoid'), ('amap01', '-C6LE', 'LECR'), ('amap01', '-C6LE', 'LFCR'), ('amap01', '-C6LE', 'LTriceps'), ('amap01', 'C6LNE-C6LC', 'LADM'), ('amap01', 'C6LNE-C6LC', 'LBiceps'), ('amap01', 'C6LNE-C6LC', 'LDeltoid'), ('amap01', 'C6LNE-C6LC', 'LECR'), ('amap01', 'C6LNE-C6LC', 'LFCR'), ('amap01', 'C6LNE-C6LC', 'LTriceps'), ('amap01', 'C6LE-C6LW', 'LADM'), ('amap01', 'C6LE-C6LW', 'LBiceps'), ('amap01', 'C6LE-C6LW', 'LDeltoid'), ('amap01', 'C6LE-C6LW', 'LECR'), ('amap01', 'C6LE-C6LW', 'LFCR'), ('amap01', 'C6LE-C6LW', 'LTriceps'), ('amap01', 'C6LE-C6LC', 'LADM'), ('amap01', 'C6LE-C6LC', 'LBiceps'), ('amap01', 'C6LE-C6LC', 'LDeltoid'), ('amap01', 'C6LE-C6LC', 'LECR'), ('amap01', 'C6LE-C6LC', 'LFCR'), ('amap01', 'C6LE-C6LC', 'LTriceps'), ('amap01', '-C6LSW', 'LADM'), ('amap01', '-C6LSW', 'LBiceps'), ('amap01', '-C6LSW', 'LDeltoid'), ('amap01', '-C6LSW', 'LECR'), ('amap01', '-C6LSW', 'LFCR'), ('amap01', '-C6LSW', 'LTriceps'), ('amap01', 'C6LW-C6LC', 'LADM'), ('amap01', 'C6LW-C6LC', 'LBiceps'), ('amap01', 'C6LW-C6LC', 'LDeltoid'), ('amap01', 'C6LW-C6LC', 'LECR'), ('amap01', 'C6LW-C6LC', 'LFCR'), ('amap01', 'C6LW-C6LC', 'LTriceps'), ('amap01', '-C6LC', 'LADM'), ('amap01', '-C6LC', 'LBiceps'), ('amap01', '-C6LC', 'LDeltoid'), ('amap01', '-C6LC', 'LECR'), ('amap01', '-C6LC', 'LFCR'), ('amap01', '-C6LC', 'LTriceps'), ('amap02', 'C6LSW-C6LC', 'LADM'), ('amap02', 'C6LSW-C6LC', 'LBiceps'), ('amap02', 'C6LSW-C6LC', 'LDeltoid'), ('amap02', 'C6LSW-C6LC', 'LECR'), ('amap02', 'C6LSW-C6LC', 'LFCR'), ('amap02', 'C6LSW-C6LC', 'LTriceps'), ('amap02', 'C6LW-C6LC', 'LADM'), ('amap02', 'C6LW-C6LC', 'LBiceps'), ('amap02', 'C6LW-C6LC', 'LDeltoid'), ('amap02', 'C6LW-C6LC', 'LECR'), ('amap02', 'C6LW-C6LC', 'LFCR'), ('amap02', 'C6LW-C6LC', 'LTriceps'), ('amap02', 'C6LN-C6LC', 'LADM'), ('amap02', 'C6LN-C6LC', 'LBiceps'), ('amap02', 'C6LN-C6LC', 'LDeltoid'), ('amap02', 'C6LN-C6LC', 'LECR'), ('amap02', 'C6LN-C6LC', 'LFCR'), ('amap02', 'C6LN-C6LC', 'LTriceps'), ('amap02', 'C6LS-C6LC', 'LADM'), ('amap02', 'C6LS-C6LC', 'LBiceps'), ('amap02', 'C6LS-C6LC', 'LDeltoid'), ('amap02', 'C6LS-C6LC', 'LECR'), ('amap02', 'C6LS-C6LC', 'LFCR'), ('amap02', 'C6LS-C6LC', 'LTriceps'), ('amap02', 'C6LNE-C6LC', 'LADM'), ('amap02', 'C6LNE-C6LC', 'LBiceps'), ('amap02', 'C6LNE-C6LC', 'LDeltoid'), ('amap02', 'C6LNE-C6LC', 'LECR'), ('amap02', 'C6LNE-C6LC', 'LFCR'), ('amap02', 'C6LNE-C6LC', 'LTriceps'), ('amap02', '-C6LSE', 'LADM'), ('amap02', '-C6LSE', 'LBiceps'), ('amap02', '-C6LSE', 'LDeltoid'), ('amap02', '-C6LSE', 'LECR'), ('amap02', '-C6LSE', 'LFCR'), ('amap02', '-C6LSE', 'LTriceps'), ('amap02', 'C6LS-C6LN', 'LADM'), ('amap02', 'C6LS-C6LN', 'LBiceps'), ('amap02', 'C6LS-C6LN', 'LDeltoid'), ('amap02', 'C6LS-C6LN', 'LECR'), ('amap02', 'C6LS-C6LN', 'LFCR'), ('amap02', 'C6LS-C6LN', 'LTriceps'), ('amap02', 'C6LNE-C6LSW', 'LADM'), ('amap02', 'C6LNE-C6LSW', 'LBiceps'), ('amap02', 'C6LNE-C6LSW', 'LDeltoid'), ('amap02', 'C6LNE-C6LSW', 'LECR'), ('amap02', 'C6LNE-C6LSW', 'LFCR'), ('amap02', 'C6LNE-C6LSW', 'LTriceps'), ('amap02', 'C6LSE-C6LC', 'LADM'), ('amap02', 'C6LSE-C6LC', 'LBiceps'), ('amap02', 'C6LSE-C6LC', 'LDeltoid'), ('amap02', 'C6LSE-C6LC', 'LECR'), ('amap02', 'C6LSE-C6LC', 'LFCR'), ('amap02', 'C6LSE-C6LC', 'LTriceps'), ('amap02', 'C6LE-C6LW', 'LADM'), ('amap02', 'C6LE-C6LW', 'LBiceps'), ('amap02', 'C6LE-C6LW', 'LDeltoid'), ('amap02', 'C6LE-C6LW', 'LECR'), ('amap02', 'C6LE-C6LW', 'LFCR'), ('amap02', 'C6LE-C6LW', 'LTriceps'), ('amap02', '-C6LN', 'LADM'), ('amap02', '-C6LN', 'LBiceps'), ('amap02', '-C6LN', 'LDeltoid'), ('amap02', '-C6LN', 'LECR'), ('amap02', '-C6LN', 'LFCR'), ('amap02', '-C6LN', 'LTriceps'), ('amap02', 'C6LNW-C6LC', 'LADM'), ('amap02', 'C6LNW-C6LC', 'LBiceps'), ('amap02', 'C6LNW-C6LC', 'LDeltoid'), ('amap02', 'C6LNW-C6LC', 'LECR'), ('amap02', 'C6LNW-C6LC', 'LFCR'), ('amap02', 'C6LNW-C6LC', 'LTriceps'), ('amap02', 'C6LSE-C6LNW', 'LADM'), ('amap02', 'C6LSE-C6LNW', 'LBiceps'), ('amap02', 'C6LSE-C6LNW', 'LDeltoid'), ('amap02', 'C6LSE-C6LNW', 'LECR'), ('amap02', 'C6LSE-C6LNW', 'LFCR'), ('amap02', 'C6LSE-C6LNW', 'LTriceps'), ('amap02', '-C6LW', 'LADM'), ('amap02', '-C6LW', 'LBiceps'), ('amap02', '-C6LW', 'LDeltoid'), ('amap02', '-C6LW', 'LECR'), ('amap02', '-C6LW', 'LFCR'), ('amap02', '-C6LW', 'LTriceps'), ('amap02', '-C6LNW', 'LADM'), ('amap02', '-C6LNW', 'LBiceps'), ('amap02', '-C6LNW', 'LDeltoid'), ('amap02', '-C6LNW', 'LECR'), ('amap02', '-C6LNW', 'LFCR'), ('amap02', '-C6LNW', 'LTriceps'), ('amap02', '-C6LE', 'LADM'), ('amap02', '-C6LE', 'LBiceps'), ('amap02', '-C6LE', 'LDeltoid'), ('amap02', '-C6LE', 'LECR'), ('amap02', '-C6LE', 'LFCR'), ('amap02', '-C6LE', 'LTriceps'), ('amap02', 'C6LE-C6LC', 'LADM'), ('amap02', 'C6LE-C6LC', 'LBiceps'), ('amap02', 'C6LE-C6LC', 'LDeltoid'), ('amap02', 'C6LE-C6LC', 'LECR'), ('amap02', 'C6LE-C6LC', 'LFCR'), ('amap02', 'C6LE-C6LC', 'LTriceps'), ('amap02', '-C6LSW', 'LADM'), ('amap02', '-C6LSW', 'LBiceps'), ('amap02', '-C6LSW', 'LDeltoid'), ('amap02', '-C6LSW', 'LECR'), ('amap02', '-C6LSW', 'LFCR'), ('amap02', '-C6LSW', 'LTriceps'), ('amap02', '-C6LS', 'LADM'), ('amap02', '-C6LS', 'LBiceps'), ('amap02', '-C6LS', 'LDeltoid'), ('amap02', '-C6LS', 'LECR'), ('amap02', '-C6LS', 'LFCR'), ('amap02', '-C6LS', 'LTriceps'), ('amap02', '-C6LNE', 'LADM'), ('amap02', '-C6LNE', 'LBiceps'), ('amap02', '-C6LNE', 'LDeltoid'), ('amap02', '-C6LNE', 'LECR'), ('amap02', '-C6LNE', 'LFCR'), ('amap02', '-C6LNE', 'LTriceps'), ('amap02', '-C6LC', 'LADM'), ('amap02', '-C6LC', 'LBiceps'), ('amap02', '-C6LC', 'LDeltoid'), ('amap02', '-C6LC', 'LECR'), ('amap02', '-C6LC', 'LFCR'), ('amap02', '-C6LC', 'LTriceps'), ('amap03', 'C6LSW-C6LC', 'LADM'), ('amap03', 'C6LSW-C6LC', 'LBiceps'), ('amap03', 'C6LSW-C6LC', 'LDeltoid'), ('amap03', 'C6LSW-C6LC', 'LECR'), ('amap03', 'C6LSW-C6LC', 'LFCR'), ('amap03', 'C6LSW-C6LC', 'LTriceps'), ('amap03', '-C6LN', 'LADM'), ('amap03', '-C6LN', 'LBiceps'), ('amap03', '-C6LN', 'LDeltoid'), ('amap03', '-C6LN', 'LECR'), ('amap03', '-C6LN', 'LFCR'), ('amap03', '-C6LN', 'LTriceps'), ('amap03', 'C6LN-C6LC', 'LADM'), ('amap03', 'C6LN-C6LC', 'LBiceps'), ('amap03', 'C6LN-C6LC', 'LDeltoid'), ('amap03', 'C6LN-C6LC', 'LECR'), ('amap03', 'C6LN-C6LC', 'LFCR'), ('amap03', 'C6LN-C6LC', 'LTriceps'), ('amap03', 'C6LS-C6LC', 'LADM'), ('amap03', 'C6LS-C6LC', 'LBiceps'), ('amap03', 'C6LS-C6LC', 'LDeltoid'), ('amap03', 'C6LS-C6LC', 'LECR'), ('amap03', 'C6LS-C6LC', 'LFCR'), ('amap03', 'C6LS-C6LC', 'LTriceps'), ('amap03', '-C6LS', 'LADM'), ('amap03', '-C6LS', 'LBiceps'), ('amap03', '-C6LS', 'LDeltoid'), ('amap03', '-C6LS', 'LECR'), ('amap03', '-C6LS', 'LFCR'), ('amap03', '-C6LS', 'LTriceps'), ('amap03', 'C6LSE-C6LC', 'LADM'), ('amap03', 'C6LSE-C6LC', 'LBiceps'), ('amap03', 'C6LSE-C6LC', 'LDeltoid'), ('amap03', 'C6LSE-C6LC', 'LECR'), ('amap03', 'C6LSE-C6LC', 'LFCR'), ('amap03', 'C6LSE-C6LC', 'LTriceps'), ('amap03', '-C6LSE', 'LADM'), ('amap03', '-C6LSE', 'LBiceps'), ('amap03', '-C6LSE', 'LDeltoid'), ('amap03', '-C6LSE', 'LECR'), ('amap03', '-C6LSE', 'LFCR'), ('amap03', '-C6LSE', 'LTriceps'), ('amap03', '-C6LNW', 'LADM'), ('amap03', '-C6LNW', 'LBiceps'), ('amap03', '-C6LNW', 'LDeltoid'), ('amap03', '-C6LNW', 'LECR'), ('amap03', '-C6LNW', 'LFCR'), ('amap03', '-C6LNW', 'LTriceps'), ('amap03', 'C6LNE-C6LSW', 'LADM'), ('amap03', 'C6LNE-C6LSW', 'LBiceps'), ('amap03', 'C6LNE-C6LSW', 'LDeltoid'), ('amap03', 'C6LNE-C6LSW', 'LECR'), ('amap03', 'C6LNE-C6LSW', 'LFCR'), ('amap03', 'C6LNE-C6LSW', 'LTriceps'), ('amap03', '-C6LC', 'LADM'), ('amap03', '-C6LC', 'LBiceps'), ('amap03', '-C6LC', 'LDeltoid'), ('amap03', '-C6LC', 'LECR'), ('amap03', '-C6LC', 'LFCR'), ('amap03', '-C6LC', 'LTriceps'), ('amap03', 'C6LNW-C6LC', 'LADM'), ('amap03', 'C6LNW-C6LC', 'LBiceps'), ('amap03', 'C6LNW-C6LC', 'LDeltoid'), ('amap03', 'C6LNW-C6LC', 'LECR'), ('amap03', 'C6LNW-C6LC', 'LFCR'), ('amap03', 'C6LNW-C6LC', 'LTriceps'), ('amap03', 'C6LNE-C6LC', 'LADM'), ('amap03', 'C6LNE-C6LC', 'LBiceps'), ('amap03', 'C6LNE-C6LC', 'LDeltoid'), ('amap03', 'C6LNE-C6LC', 'LECR'), ('amap03', 'C6LNE-C6LC', 'LFCR'), ('amap03', 'C6LNE-C6LC', 'LTriceps'), ('amap03', '-C6LE', 'LADM'), ('amap03', '-C6LE', 'LBiceps'), ('amap03', '-C6LE', 'LDeltoid'), ('amap03', '-C6LE', 'LECR'), ('amap03', '-C6LE', 'LFCR'), ('amap03', '-C6LE', 'LTriceps'), ('amap03', '-C6LNE', 'LADM'), ('amap03', '-C6LNE', 'LBiceps'), ('amap03', '-C6LNE', 'LDeltoid'), ('amap03', '-C6LNE', 'LECR'), ('amap03', '-C6LNE', 'LFCR'), ('amap03', '-C6LNE', 'LTriceps'), ('amap03', 'C6LS-C6LN', 'LADM'), ('amap03', 'C6LS-C6LN', 'LBiceps'), ('amap03', 'C6LS-C6LN', 'LDeltoid'), ('amap03', 'C6LS-C6LN', 'LECR'), ('amap03', 'C6LS-C6LN', 'LFCR'), ('amap03', 'C6LS-C6LN', 'LTriceps'), ('amap03', 'C6LW-C6LC', 'LADM'), ('amap03', 'C6LW-C6LC', 'LBiceps'), ('amap03', 'C6LW-C6LC', 'LDeltoid'), ('amap03', 'C6LW-C6LC', 'LECR'), ('amap03', 'C6LW-C6LC', 'LFCR'), ('amap03', 'C6LW-C6LC', 'LTriceps'), ('amap03', 'C6LE-C6LC', 'LADM'), ('amap03', 'C6LE-C6LC', 'LBiceps'), ('amap03', 'C6LE-C6LC', 'LDeltoid'), ('amap03', 'C6LE-C6LC', 'LECR'), ('amap03', 'C6LE-C6LC', 'LFCR'), ('amap03', 'C6LE-C6LC', 'LTriceps'), ('amap03', '-C6LW', 'LADM'), ('amap03', '-C6LW', 'LBiceps'), ('amap03', '-C6LW', 'LDeltoid'), ('amap03', '-C6LW', 'LECR'), ('amap03', '-C6LW', 'LFCR'), ('amap03', '-C6LW', 'LTriceps'), ('amap03', '-C6LSW', 'LADM'), ('amap03', '-C6LSW', 'LBiceps'), ('amap03', '-C6LSW', 'LDeltoid'), ('amap03', '-C6LSW', 'LECR'), ('amap03', '-C6LSW', 'LFCR'), ('amap03', '-C6LSW', 'LTriceps'), ('amap03', 'C6LE-C6LW', 'LADM'), ('amap03', 'C6LE-C6LW', 'LBiceps'), ('amap03', 'C6LE-C6LW', 'LDeltoid'), ('amap03', 'C6LE-C6LW', 'LECR'), ('amap03', 'C6LE-C6LW', 'LFCR'), ('amap03', 'C6LE-C6LW', 'LTriceps'), ('amap03', 'C6LSE-C6LNW', 'LADM'), ('amap03', 'C6LSE-C6LNW', 'LBiceps'), ('amap03', 'C6LSE-C6LNW', 'LDeltoid'), ('amap03', 'C6LSE-C6LNW', 'LECR'), ('amap03', 'C6LSE-C6LNW', 'LFCR'), ('amap03', 'C6LSE-C6LNW', 'LTriceps'), ('amap04', 'C6LSW-C6LC', 'LADM'), ('amap04', 'C6LSW-C6LC', 'LBiceps'), ('amap04', 'C6LSW-C6LC', 'LDeltoid'), ('amap04', 'C6LSW-C6LC', 'LECR'), ('amap04', 'C6LSW-C6LC', 'LFCR'), ('amap04', 'C6LSW-C6LC', 'LTriceps'), ('amap04', 'C6LE-C6LC', 'LADM'), ('amap04', 'C6LE-C6LC', 'LBiceps'), ('amap04', 'C6LE-C6LC', 'LDeltoid'), ('amap04', 'C6LE-C6LC', 'LECR'), ('amap04', 'C6LE-C6LC', 'LFCR'), ('amap04', 'C6LE-C6LC', 'LTriceps'), ('amap04', '-C6LW', 'LADM'), ('amap04', '-C6LW', 'LBiceps'), ('amap04', '-C6LW', 'LDeltoid'), ('amap04', '-C6LW', 'LECR'), ('amap04', '-C6LW', 'LFCR'), ('amap04', '-C6LW', 'LTriceps'), ('amap04', '-C6LNW', 'LADM'), ('amap04', '-C6LNW', 'LBiceps'), ('amap04', '-C6LNW', 'LDeltoid'), ('amap04', '-C6LNW', 'LECR'), ('amap04', '-C6LNW', 'LFCR'), ('amap04', '-C6LNW', 'LTriceps'), ('amap04', 'C6LS-C6LC', 'LADM'), ('amap04', 'C6LS-C6LC', 'LBiceps'), ('amap04', 'C6LS-C6LC', 'LDeltoid'), ('amap04', 'C6LS-C6LC', 'LECR'), ('amap04', 'C6LS-C6LC', 'LFCR'), ('amap04', 'C6LS-C6LC', 'LTriceps'), ('amap04', 'C6LNE-C6LC', 'LADM'), ('amap04', 'C6LNE-C6LC', 'LBiceps'), ('amap04', 'C6LNE-C6LC', 'LDeltoid'), ('amap04', 'C6LNE-C6LC', 'LECR'), ('amap04', 'C6LNE-C6LC', 'LFCR'), ('amap04', 'C6LNE-C6LC', 'LTriceps'), ('amap04', '-C6LC', 'LADM'), ('amap04', '-C6LC', 'LBiceps'), ('amap04', '-C6LC', 'LDeltoid'), ('amap04', '-C6LC', 'LECR'), ('amap04', '-C6LC', 'LFCR'), ('amap04', '-C6LC', 'LTriceps'), ('amap04', '-C6LSE', 'LADM'), ('amap04', '-C6LSE', 'LBiceps'), ('amap04', '-C6LSE', 'LDeltoid'), ('amap04', '-C6LSE', 'LECR'), ('amap04', '-C6LSE', 'LFCR'), ('amap04', '-C6LSE', 'LTriceps'), ('amap04', 'C6LE-C6LW', 'LADM'), ('amap04', 'C6LE-C6LW', 'LBiceps'), ('amap04', 'C6LE-C6LW', 'LDeltoid'), ('amap04', 'C6LE-C6LW', 'LECR'), ('amap04', 'C6LE-C6LW', 'LFCR'), ('amap04', 'C6LE-C6LW', 'LTriceps'), ('amap04', '-C6LSW', 'LADM'), ('amap04', '-C6LSW', 'LBiceps'), ('amap04', '-C6LSW', 'LDeltoid'), ('amap04', '-C6LSW', 'LECR'), ('amap04', '-C6LSW', 'LFCR'), ('amap04', '-C6LSW', 'LTriceps'), ('amap04', '-C6LNE', 'LADM'), ('amap04', '-C6LNE', 'LBiceps'), ('amap04', '-C6LNE', 'LDeltoid'), ('amap04', '-C6LNE', 'LECR'), ('amap04', '-C6LNE', 'LFCR'), ('amap04', '-C6LNE', 'LTriceps'), ('amap04', 'C6LSE-C6LNW', 'LADM'), ('amap04', 'C6LSE-C6LNW', 'LBiceps'), ('amap04', 'C6LSE-C6LNW', 'LDeltoid'), ('amap04', 'C6LSE-C6LNW', 'LECR'), ('amap04', 'C6LSE-C6LNW', 'LFCR'), ('amap04', 'C6LSE-C6LNW', 'LTriceps'), ('amap04', '-C6LN', 'LADM'), ('amap04', '-C6LN', 'LBiceps'), ('amap04', '-C6LN', 'LDeltoid'), ('amap04', '-C6LN', 'LECR'), ('amap04', '-C6LN', 'LFCR'), ('amap04', '-C6LN', 'LTriceps'), ('amap04', 'C6LSE-C6LC', 'LADM'), ('amap04', 'C6LSE-C6LC', 'LBiceps'), ('amap04', 'C6LSE-C6LC', 'LDeltoid'), ('amap04', 'C6LSE-C6LC', 'LECR'), ('amap04', 'C6LSE-C6LC', 'LFCR'), ('amap04', 'C6LSE-C6LC', 'LTriceps'), ('amap04', '-C6LE', 'LADM'), ('amap04', '-C6LE', 'LBiceps'), ('amap04', '-C6LE', 'LDeltoid'), ('amap04', '-C6LE', 'LECR'), ('amap04', '-C6LE', 'LFCR'), ('amap04', '-C6LE', 'LTriceps'), ('amap04', '-C6LS', 'LADM'), ('amap04', '-C6LS', 'LBiceps'), ('amap04', '-C6LS', 'LDeltoid'), ('amap04', '-C6LS', 'LECR'), ('amap04', '-C6LS', 'LFCR'), ('amap04', '-C6LS', 'LTriceps'), ('amap04', 'C6LNE-C6LSW', 'LADM'), ('amap04', 'C6LNE-C6LSW', 'LBiceps'), ('amap04', 'C6LNE-C6LSW', 'LDeltoid'), ('amap04', 'C6LNE-C6LSW', 'LECR'), ('amap04', 'C6LNE-C6LSW', 'LFCR'), ('amap04', 'C6LNE-C6LSW', 'LTriceps'), ('amap04', 'C6LNW-C6LC', 'LADM'), ('amap04', 'C6LNW-C6LC', 'LBiceps'), ('amap04', 'C6LNW-C6LC', 'LDeltoid'), ('amap04', 'C6LNW-C6LC', 'LECR'), ('amap04', 'C6LNW-C6LC', 'LFCR'), ('amap04', 'C6LNW-C6LC', 'LTriceps'), ('amap04', 'C6LN-C6LC', 'LADM'), ('amap04', 'C6LN-C6LC', 'LBiceps'), ('amap04', 'C6LN-C6LC', 'LDeltoid'), ('amap04', 'C6LN-C6LC', 'LECR'), ('amap04', 'C6LN-C6LC', 'LFCR'), ('amap04', 'C6LN-C6LC', 'LTriceps'), ('amap04', 'C6LS-C6LN', 'LADM'), ('amap04', 'C6LS-C6LN', 'LBiceps'), ('amap04', 'C6LS-C6LN', 'LDeltoid'), ('amap04', 'C6LS-C6LN', 'LECR'), ('amap04', 'C6LS-C6LN', 'LFCR'), ('amap04', 'C6LS-C6LN', 'LTriceps'), ('amap04', 'C6LW-C6LC', 'LADM'), ('amap04', 'C6LW-C6LC', 'LBiceps'), ('amap04', 'C6LW-C6LC', 'LDeltoid'), ('amap04', 'C6LW-C6LC', 'LECR'), ('amap04', 'C6LW-C6LC', 'LFCR'), ('amap04', 'C6LW-C6LC', 'LTriceps'), ('amap05', 'C6LSW-C6LC', 'LADM'), ('amap05', 'C6LSW-C6LC', 'LBiceps'), ('amap05', 'C6LSW-C6LC', 'LDeltoid'), ('amap05', 'C6LSW-C6LC', 'LECR'), ('amap05', 'C6LSW-C6LC', 'LFCR'), ('amap05', 'C6LSW-C6LC', 'LTriceps'), ('amap05', '-C6LNE', 'LADM'), ('amap05', '-C6LNE', 'LBiceps'), ('amap05', '-C6LNE', 'LDeltoid'), ('amap05', '-C6LNE', 'LECR'), ('amap05', '-C6LNE', 'LFCR'), ('amap05', '-C6LNE', 'LTriceps'), ('amap05', '-C6LNW', 'LADM'), ('amap05', '-C6LNW', 'LBiceps'), ('amap05', '-C6LNW', 'LDeltoid'), ('amap05', '-C6LNW', 'LECR'), ('amap05', '-C6LNW', 'LFCR'), ('amap05', '-C6LNW', 'LTriceps'), ('amap05', 'C6LSE-C6LNW', 'LADM'), ('amap05', 'C6LSE-C6LNW', 'LBiceps'), ('amap05', 'C6LSE-C6LNW', 'LDeltoid'), ('amap05', 'C6LSE-C6LNW', 'LECR'), ('amap05', 'C6LSE-C6LNW', 'LFCR'), ('amap05', 'C6LSE-C6LNW', 'LTriceps'), ('amap05', 'C6LE-C6LC', 'LADM'), ('amap05', 'C6LE-C6LC', 'LBiceps'), ('amap05', 'C6LE-C6LC', 'LDeltoid'), ('amap05', 'C6LE-C6LC', 'LECR'), ('amap05', 'C6LE-C6LC', 'LFCR'), ('amap05', 'C6LE-C6LC', 'LTriceps'), ('amap05', 'C6LSE-C6LC', 'LADM'), ('amap05', 'C6LSE-C6LC', 'LBiceps'), ('amap05', 'C6LSE-C6LC', 'LDeltoid'), ('amap05', 'C6LSE-C6LC', 'LECR'), ('amap05', 'C6LSE-C6LC', 'LFCR'), ('amap05', 'C6LSE-C6LC', 'LTriceps'), ('amap05', 'C6LE-C6LW', 'LADM'), ('amap05', 'C6LE-C6LW', 'LBiceps'), ('amap05', 'C6LE-C6LW', 'LDeltoid'), ('amap05', 'C6LE-C6LW', 'LECR'), ('amap05', 'C6LE-C6LW', 'LFCR'), ('amap05', 'C6LE-C6LW', 'LTriceps'), ('amap05', 'C6LS-C6LN', 'LADM'), ('amap05', 'C6LS-C6LN', 'LBiceps'), ('amap05', 'C6LS-C6LN', 'LDeltoid'), ('amap05', 'C6LS-C6LN', 'LECR'), ('amap05', 'C6LS-C6LN', 'LFCR'), ('amap05', 'C6LS-C6LN', 'LTriceps'), ('amap05', 'C6LN-C6LC', 'LADM'), ('amap05', 'C6LN-C6LC', 'LBiceps'), ('amap05', 'C6LN-C6LC', 'LDeltoid'), ('amap05', 'C6LN-C6LC', 'LECR'), ('amap05', 'C6LN-C6LC', 'LFCR'), ('amap05', 'C6LN-C6LC', 'LTriceps'), ('amap05', '-C6LC', 'LADM'), ('amap05', '-C6LC', 'LBiceps'), ('amap05', '-C6LC', 'LDeltoid'), ('amap05', '-C6LC', 'LECR'), ('amap05', '-C6LC', 'LFCR'), ('amap05', '-C6LC', 'LTriceps'), ('amap05', 'C6LW-C6LC', 'LADM'), ('amap05', 'C6LW-C6LC', 'LBiceps'), ('amap05', 'C6LW-C6LC', 'LDeltoid'), ('amap05', 'C6LW-C6LC', 'LECR'), ('amap05', 'C6LW-C6LC', 'LFCR'), ('amap05', 'C6LW-C6LC', 'LTriceps'), ('amap05', 'C6LNW-C6LC', 'LADM'), ('amap05', 'C6LNW-C6LC', 'LBiceps'), ('amap05', 'C6LNW-C6LC', 'LDeltoid'), ('amap05', 'C6LNW-C6LC', 'LECR'), ('amap05', 'C6LNW-C6LC', 'LFCR'), ('amap05', 'C6LNW-C6LC', 'LTriceps'), ('amap05', 'C6LNE-C6LC', 'LADM'), ('amap05', 'C6LNE-C6LC', 'LBiceps'), ('amap05', 'C6LNE-C6LC', 'LDeltoid'), ('amap05', 'C6LNE-C6LC', 'LECR'), ('amap05', 'C6LNE-C6LC', 'LFCR'), ('amap05', 'C6LNE-C6LC', 'LTriceps'), ('amap05', '-C6LE', 'LADM'), ('amap05', '-C6LE', 'LBiceps'), ('amap05', '-C6LE', 'LDeltoid'), ('amap05', '-C6LE', 'LECR'), ('amap05', '-C6LE', 'LFCR'), ('amap05', '-C6LE', 'LTriceps'), ('amap05', '-C6LN', 'LADM'), ('amap05', '-C6LN', 'LBiceps'), ('amap05', '-C6LN', 'LDeltoid'), ('amap05', '-C6LN', 'LECR'), ('amap05', '-C6LN', 'LFCR'), ('amap05', '-C6LN', 'LTriceps'), ('amap05', '-C6LSE', 'LADM'), ('amap05', '-C6LSE', 'LBiceps'), ('amap05', '-C6LSE', 'LDeltoid'), ('amap05', '-C6LSE', 'LECR'), ('amap05', '-C6LSE', 'LFCR'), ('amap05', '-C6LSE', 'LTriceps'), ('amap05', '-C6LSW', 'LADM'), ('amap05', '-C6LSW', 'LBiceps'), ('amap05', '-C6LSW', 'LDeltoid'), ('amap05', '-C6LSW', 'LECR'), ('amap05', '-C6LSW', 'LFCR'), ('amap05', '-C6LSW', 'LTriceps'), ('amap05', '-C6LW', 'LADM'), ('amap05', '-C6LW', 'LBiceps'), ('amap05', '-C6LW', 'LDeltoid'), ('amap05', '-C6LW', 'LECR'), ('amap05', '-C6LW', 'LFCR'), ('amap05', '-C6LW', 'LTriceps'), ('amap05', 'C6LNE-C6LSW', 'LADM'), ('amap05', 'C6LNE-C6LSW', 'LBiceps'), ('amap05', 'C6LNE-C6LSW', 'LDeltoid'), ('amap05', 'C6LNE-C6LSW', 'LECR'), ('amap05', 'C6LNE-C6LSW', 'LFCR'), ('amap05', 'C6LNE-C6LSW', 'LTriceps'), ('amap05', 'C6LS-C6LC', 'LADM'), ('amap05', 'C6LS-C6LC', 'LBiceps'), ('amap05', 'C6LS-C6LC', 'LDeltoid'), ('amap05', 'C6LS-C6LC', 'LECR'), ('amap05', 'C6LS-C6LC', 'LFCR'), ('amap05', 'C6LS-C6LC', 'LTriceps'), ('amap05', '-C6LS', 'LADM'), ('amap05', '-C6LS', 'LBiceps'), ('amap05', '-C6LS', 'LDeltoid'), ('amap05', '-C6LS', 'LECR'), ('amap05', '-C6LS', 'LFCR'), ('amap05', '-C6LS', 'LTriceps'), ('amap06', 'C6LSW-C6LC', 'LADM'), ('amap06', 'C6LSW-C6LC', 'LBiceps'), ('amap06', 'C6LSW-C6LC', 'LDeltoid'), ('amap06', 'C6LSW-C6LC', 'LECR'), ('amap06', 'C6LSW-C6LC', 'LFCR'), ('amap06', 'C6LSW-C6LC', 'LTriceps'), ('amap06', 'C6LSE-C6LC', 'LADM'), ('amap06', 'C6LSE-C6LC', 'LBiceps'), ('amap06', 'C6LSE-C6LC', 'LDeltoid'), ('amap06', 'C6LSE-C6LC', 'LECR'), ('amap06', 'C6LSE-C6LC', 'LFCR'), ('amap06', 'C6LSE-C6LC', 'LTriceps'), ('amap06', 'C6LE-C6LW', 'LADM'), ('amap06', 'C6LE-C6LW', 'LBiceps'), ('amap06', 'C6LE-C6LW', 'LDeltoid'), ('amap06', 'C6LE-C6LW', 'LECR'), ('amap06', 'C6LE-C6LW', 'LFCR'), ('amap06', 'C6LE-C6LW', 'LTriceps'), ('amap06', '-C6LSE', 'LADM'), ('amap06', '-C6LSE', 'LBiceps'), ('amap06', '-C6LSE', 'LDeltoid'), ('amap06', '-C6LSE', 'LECR'), ('amap06', '-C6LSE', 'LFCR'), ('amap06', '-C6LSE', 'LTriceps'), ('amap06', '-C6LSW', 'LADM'), ('amap06', '-C6LSW', 'LBiceps'), ('amap06', '-C6LSW', 'LDeltoid'), ('amap06', '-C6LSW', 'LECR'), ('amap06', '-C6LSW', 'LFCR'), ('amap06', '-C6LSW', 'LTriceps'), ('amap06', '-C6LE', 'LADM'), ('amap06', '-C6LE', 'LBiceps'), ('amap06', '-C6LE', 'LDeltoid'), ('amap06', '-C6LE', 'LECR'), ('amap06', '-C6LE', 'LFCR'), ('amap06', '-C6LE', 'LTriceps'), ('amap06', '-C6LS', 'LADM'), ('amap06', '-C6LS', 'LBiceps'), ('amap06', '-C6LS', 'LDeltoid'), ('amap06', '-C6LS', 'LECR'), ('amap06', '-C6LS', 'LFCR'), ('amap06', '-C6LS', 'LTriceps'), ('amap06', 'C6LNE-C6LSW', 'LADM'), ('amap06', 'C6LNE-C6LSW', 'LBiceps'), ('amap06', 'C6LNE-C6LSW', 'LDeltoid'), ('amap06', 'C6LNE-C6LSW', 'LECR'), ('amap06', 'C6LNE-C6LSW', 'LFCR'), ('amap06', 'C6LNE-C6LSW', 'LTriceps'), ('amap06', 'C6LE-C6LC', 'LADM'), ('amap06', 'C6LE-C6LC', 'LBiceps'), ('amap06', 'C6LE-C6LC', 'LDeltoid'), ('amap06', 'C6LE-C6LC', 'LECR'), ('amap06', 'C6LE-C6LC', 'LFCR'), ('amap06', 'C6LE-C6LC', 'LTriceps'), ('amap06', '-C6LNW', 'LADM'), ('amap06', '-C6LNW', 'LBiceps'), ('amap06', '-C6LNW', 'LDeltoid'), ('amap06', '-C6LNW', 'LECR'), ('amap06', '-C6LNW', 'LFCR'), ('amap06', '-C6LNW', 'LTriceps'), ('amap06', '-C6LW', 'LADM'), ('amap06', '-C6LW', 'LBiceps'), ('amap06', '-C6LW', 'LDeltoid'), ('amap06', '-C6LW', 'LECR'), ('amap06', '-C6LW', 'LFCR'), ('amap06', '-C6LW', 'LTriceps'), ('amap06', 'C6LNE-C6LC', 'LADM'), ('amap06', 'C6LNE-C6LC', 'LBiceps'), ('amap06', 'C6LNE-C6LC', 'LDeltoid'), ('amap06', 'C6LNE-C6LC', 'LECR'), ('amap06', 'C6LNE-C6LC', 'LFCR'), ('amap06', 'C6LNE-C6LC', 'LTriceps'), ('amap06', 'C6LSE-C6LNW', 'LADM'), ('amap06', 'C6LSE-C6LNW', 'LBiceps'), ('amap06', 'C6LSE-C6LNW', 'LDeltoid'), ('amap06', 'C6LSE-C6LNW', 'LECR'), ('amap06', 'C6LSE-C6LNW', 'LFCR'), ('amap06', 'C6LSE-C6LNW', 'LTriceps'), ('amap06', '-C6LN', 'LADM'), ('amap06', '-C6LN', 'LBiceps'), ('amap06', '-C6LN', 'LDeltoid'), ('amap06', '-C6LN', 'LECR'), ('amap06', '-C6LN', 'LFCR'), ('amap06', '-C6LN', 'LTriceps'), ('amap06', 'C6LW-C6LC', 'LADM'), ('amap06', 'C6LW-C6LC', 'LBiceps'), ('amap06', 'C6LW-C6LC', 'LDeltoid'), ('amap06', 'C6LW-C6LC', 'LECR'), ('amap06', 'C6LW-C6LC', 'LFCR'), ('amap06', 'C6LW-C6LC', 'LTriceps'), ('amap06', 'C6LN-C6LC', 'LADM'), ('amap06', 'C6LN-C6LC', 'LBiceps'), ('amap06', 'C6LN-C6LC', 'LDeltoid'), ('amap06', 'C6LN-C6LC', 'LECR'), ('amap06', 'C6LN-C6LC', 'LFCR'), ('amap06', 'C6LN-C6LC', 'LTriceps'), ('amap06', '-C6LC', 'LADM'), ('amap06', '-C6LC', 'LBiceps'), ('amap06', '-C6LC', 'LDeltoid'), ('amap06', '-C6LC', 'LECR'), ('amap06', '-C6LC', 'LFCR'), ('amap06', '-C6LC', 'LTriceps'), ('amap06', 'C6LNW-C6LC', 'LADM'), ('amap06', 'C6LNW-C6LC', 'LBiceps'), ('amap06', 'C6LNW-C6LC', 'LDeltoid'), ('amap06', 'C6LNW-C6LC', 'LECR'), ('amap06', 'C6LNW-C6LC', 'LFCR'), ('amap06', 'C6LNW-C6LC', 'LTriceps'), ('amap06', '-C6LNE', 'LADM'), ('amap06', '-C6LNE', 'LBiceps'), ('amap06', '-C6LNE', 'LDeltoid'), ('amap06', '-C6LNE', 'LECR'), ('amap06', '-C6LNE', 'LFCR'), ('amap06', '-C6LNE', 'LTriceps'), ('amap06', 'C6LS-C6LC', 'LADM'), ('amap06', 'C6LS-C6LC', 'LBiceps'), ('amap06', 'C6LS-C6LC', 'LDeltoid'), ('amap06', 'C6LS-C6LC', 'LECR'), ('amap06', 'C6LS-C6LC', 'LFCR'), ('amap06', 'C6LS-C6LC', 'LTriceps'), ('amap06', 'C6LS-C6LN', 'LADM'), ('amap06', 'C6LS-C6LN', 'LBiceps'), ('amap06', 'C6LS-C6LN', 'LDeltoid'), ('amap06', 'C6LS-C6LN', 'LECR'), ('amap06', 'C6LS-C6LN', 'LFCR'), ('amap06', 'C6LS-C6LN', 'LTriceps'), ('amap07', 'C6LSW-C6LC', 'LADM'), ('amap07', 'C6LSW-C6LC', 'LBiceps'), ('amap07', 'C6LSW-C6LC', 'LDeltoid'), ('amap07', 'C6LSW-C6LC', 'LECR'), ('amap07', 'C6LSW-C6LC', 'LFCR'), ('amap07', 'C6LSW-C6LC', 'LTriceps'), ('amap07', 'C6LE-C6LC', 'LADM'), ('amap07', 'C6LE-C6LC', 'LBiceps'), ('amap07', 'C6LE-C6LC', 'LDeltoid'), ('amap07', 'C6LE-C6LC', 'LECR'), ('amap07', 'C6LE-C6LC', 'LFCR'), ('amap07', 'C6LE-C6LC', 'LTriceps'), ('amap07', 'C6LSE-C6LNW', 'LADM'), ('amap07', 'C6LSE-C6LNW', 'LBiceps'), ('amap07', 'C6LSE-C6LNW', 'LDeltoid'), ('amap07', 'C6LSE-C6LNW', 'LECR'), ('amap07', 'C6LSE-C6LNW', 'LFCR'), ('amap07', 'C6LSE-C6LNW', 'LTriceps'), ('amap07', 'C6LNW-C6LC', 'LADM'), ('amap07', 'C6LNW-C6LC', 'LBiceps'), ('amap07', 'C6LNW-C6LC', 'LDeltoid'), ('amap07', 'C6LNW-C6LC', 'LECR'), ('amap07', 'C6LNW-C6LC', 'LFCR'), ('amap07', 'C6LNW-C6LC', 'LTriceps'), ('amap07', '-C6LS', 'LADM'), ('amap07', '-C6LS', 'LBiceps'), ('amap07', '-C6LS', 'LDeltoid'), ('amap07', '-C6LS', 'LECR'), ('amap07', '-C6LS', 'LFCR'), ('amap07', '-C6LS', 'LTriceps'), ('amap07', '-C6LE', 'LADM'), ('amap07', '-C6LE', 'LBiceps'), ('amap07', '-C6LE', 'LDeltoid'), ('amap07', '-C6LE', 'LECR'), ('amap07', '-C6LE', 'LFCR'), ('amap07', '-C6LE', 'LTriceps'), ('amap07', '-C6LNW', 'LADM'), ('amap07', '-C6LNW', 'LBiceps'), ('amap07', '-C6LNW', 'LDeltoid'), ('amap07', '-C6LNW', 'LECR'), ('amap07', '-C6LNW', 'LFCR'), ('amap07', '-C6LNW', 'LTriceps'), ('amap07', '-C6LSW', 'LADM'), ('amap07', '-C6LSW', 'LBiceps'), ('amap07', '-C6LSW', 'LDeltoid'), ('amap07', '-C6LSW', 'LECR'), ('amap07', '-C6LSW', 'LFCR'), ('amap07', '-C6LSW', 'LTriceps'), ('amap07', '-C6LC', 'LADM'), ('amap07', '-C6LC', 'LBiceps'), ('amap07', '-C6LC', 'LDeltoid'), ('amap07', '-C6LC', 'LECR'), ('amap07', '-C6LC', 'LFCR'), ('amap07', '-C6LC', 'LTriceps'), ('amap07', 'C6LE-C6LW', 'LADM'), ('amap07', 'C6LE-C6LW', 'LBiceps'), ('amap07', 'C6LE-C6LW', 'LDeltoid'), ('amap07', 'C6LE-C6LW', 'LECR'), ('amap07', 'C6LE-C6LW', 'LFCR'), ('amap07', 'C6LE-C6LW', 'LTriceps'), ('amap07', '-C6LW', 'LADM'), ('amap07', '-C6LW', 'LBiceps'), ('amap07', '-C6LW', 'LDeltoid'), ('amap07', '-C6LW', 'LECR'), ('amap07', '-C6LW', 'LFCR'), ('amap07', '-C6LW', 'LTriceps'), ('amap07', 'C6LS-C6LN', 'LADM'), ('amap07', 'C6LS-C6LN', 'LBiceps'), ('amap07', 'C6LS-C6LN', 'LDeltoid'), ('amap07', 'C6LS-C6LN', 'LECR'), ('amap07', 'C6LS-C6LN', 'LFCR'), ('amap07', 'C6LS-C6LN', 'LTriceps'), ('amap07', 'C6LSE-C6LC', 'LADM'), ('amap07', 'C6LSE-C6LC', 'LBiceps'), ('amap07', 'C6LSE-C6LC', 'LDeltoid'), ('amap07', 'C6LSE-C6LC', 'LECR'), ('amap07', 'C6LSE-C6LC', 'LFCR'), ('amap07', 'C6LSE-C6LC', 'LTriceps'), ('amap07', 'C6LN-C6LC', 'LADM'), ('amap07', 'C6LN-C6LC', 'LBiceps'), ('amap07', 'C6LN-C6LC', 'LDeltoid'), ('amap07', 'C6LN-C6LC', 'LECR'), ('amap07', 'C6LN-C6LC', 'LFCR'), ('amap07', 'C6LN-C6LC', 'LTriceps'), ('amap07', '-C6LSE', 'LADM'), ('amap07', '-C6LSE', 'LBiceps'), ('amap07', '-C6LSE', 'LDeltoid'), ('amap07', '-C6LSE', 'LECR'), ('amap07', '-C6LSE', 'LFCR'), ('amap07', '-C6LSE', 'LTriceps'), ('amap07', 'C6LNE-C6LSW', 'LADM'), ('amap07', 'C6LNE-C6LSW', 'LBiceps'), ('amap07', 'C6LNE-C6LSW', 'LDeltoid'), ('amap07', 'C6LNE-C6LSW', 'LECR'), ('amap07', 'C6LNE-C6LSW', 'LFCR'), ('amap07', 'C6LNE-C6LSW', 'LTriceps'), ('amap07', 'C6LS-C6LC', 'LADM'), ('amap07', 'C6LS-C6LC', 'LBiceps'), ('amap07', 'C6LS-C6LC', 'LDeltoid'), ('amap07', 'C6LS-C6LC', 'LECR'), ('amap07', 'C6LS-C6LC', 'LFCR'), ('amap07', 'C6LS-C6LC', 'LTriceps'), ('amap07', '-C6LNE', 'LADM'), ('amap07', '-C6LNE', 'LBiceps'), ('amap07', '-C6LNE', 'LDeltoid'), ('amap07', '-C6LNE', 'LECR'), ('amap07', '-C6LNE', 'LFCR'), ('amap07', '-C6LNE', 'LTriceps'), ('amap07', '-C6LN', 'LADM'), ('amap07', '-C6LN', 'LBiceps'), ('amap07', '-C6LN', 'LDeltoid'), ('amap07', '-C6LN', 'LECR'), ('amap07', '-C6LN', 'LFCR'), ('amap07', '-C6LN', 'LTriceps'), ('amap07', 'C6LNE-C6LC', 'LADM'), ('amap07', 'C6LNE-C6LC', 'LBiceps'), ('amap07', 'C6LNE-C6LC', 'LDeltoid'), ('amap07', 'C6LNE-C6LC', 'LECR'), ('amap07', 'C6LNE-C6LC', 'LFCR'), ('amap07', 'C6LNE-C6LC', 'LTriceps'), ('amap07', 'C6LW-C6LC', 'LADM'), ('amap07', 'C6LW-C6LC', 'LBiceps'), ('amap07', 'C6LW-C6LC', 'LDeltoid'), ('amap07', 'C6LW-C6LC', 'LECR'), ('amap07', 'C6LW-C6LC', 'LFCR'), ('amap07', 'C6LW-C6LC', 'LTriceps'), ('amap08', 'C6LSW-C6LC', 'LADM'), ('amap08', 'C6LSW-C6LC', 'LBiceps'), ('amap08', 'C6LSW-C6LC', 'LDeltoid'), ('amap08', 'C6LSW-C6LC', 'LECR'), ('amap08', 'C6LSW-C6LC', 'LFCR'), ('amap08', 'C6LSW-C6LC', 'LTriceps'), ('amap08', 'C6LSE-C6LNW', 'LADM'), ('amap08', 'C6LSE-C6LNW', 'LBiceps'), ('amap08', 'C6LSE-C6LNW', 'LDeltoid'), ('amap08', 'C6LSE-C6LNW', 'LECR'), ('amap08', 'C6LSE-C6LNW', 'LFCR'), ('amap08', 'C6LSE-C6LNW', 'LTriceps'), ('amap08', '-C6LC', 'LADM'), ('amap08', '-C6LC', 'LBiceps'), ('amap08', '-C6LC', 'LDeltoid'), ('amap08', '-C6LC', 'LECR'), ('amap08', '-C6LC', 'LFCR'), ('amap08', '-C6LC', 'LTriceps'), ('amap08', 'C6LNE-C6LC', 'LADM'), ('amap08', 'C6LNE-C6LC', 'LBiceps'), ('amap08', 'C6LNE-C6LC', 'LDeltoid'), ('amap08', 'C6LNE-C6LC', 'LECR'), ('amap08', 'C6LNE-C6LC', 'LFCR'), ('amap08', 'C6LNE-C6LC', 'LTriceps'), ('amap08', 'C6LNW-C6LC', 'LADM'), ('amap08', 'C6LNW-C6LC', 'LBiceps'), ('amap08', 'C6LNW-C6LC', 'LDeltoid'), ('amap08', 'C6LNW-C6LC', 'LECR'), ('amap08', 'C6LNW-C6LC', 'LFCR'), ('amap08', 'C6LNW-C6LC', 'LTriceps'), ('amap08', 'C6LE-C6LC', 'LADM'), ('amap08', 'C6LE-C6LC', 'LBiceps'), ('amap08', 'C6LE-C6LC', 'LDeltoid'), ('amap08', 'C6LE-C6LC', 'LECR'), ('amap08', 'C6LE-C6LC', 'LFCR'), ('amap08', 'C6LE-C6LC', 'LTriceps'), ('amap08', '-C6LE', 'LADM'), ('amap08', '-C6LE', 'LBiceps'), ('amap08', '-C6LE', 'LDeltoid'), ('amap08', '-C6LE', 'LECR'), ('amap08', '-C6LE', 'LFCR'), ('amap08', '-C6LE', 'LTriceps'), ('amap08', '-C6LN', 'LADM'), ('amap08', '-C6LN', 'LBiceps'), ('amap08', '-C6LN', 'LDeltoid'), ('amap08', '-C6LN', 'LECR'), ('amap08', '-C6LN', 'LFCR'), ('amap08', '-C6LN', 'LTriceps'), ('amap08', 'C6LN-C6LC', 'LADM'), ('amap08', 'C6LN-C6LC', 'LBiceps'), ('amap08', 'C6LN-C6LC', 'LDeltoid'), ('amap08', 'C6LN-C6LC', 'LECR'), ('amap08', 'C6LN-C6LC', 'LFCR'), ('amap08', 'C6LN-C6LC', 'LTriceps'), ('amap08', 'C6LNE-C6LSW', 'LADM'), ('amap08', 'C6LNE-C6LSW', 'LBiceps'), ('amap08', 'C6LNE-C6LSW', 'LDeltoid'), ('amap08', 'C6LNE-C6LSW', 'LECR'), ('amap08', 'C6LNE-C6LSW', 'LFCR'), ('amap08', 'C6LNE-C6LSW', 'LTriceps'), ('amap08', 'C6LS-C6LN', 'LADM'), ('amap08', 'C6LS-C6LN', 'LBiceps'), ('amap08', 'C6LS-C6LN', 'LDeltoid'), ('amap08', 'C6LS-C6LN', 'LECR'), ('amap08', 'C6LS-C6LN', 'LFCR'), ('amap08', 'C6LS-C6LN', 'LTriceps'), ('amap08', '-C6LSW', 'LADM'), ('amap08', '-C6LSW', 'LBiceps'), ('amap08', '-C6LSW', 'LDeltoid'), ('amap08', '-C6LSW', 'LECR'), ('amap08', '-C6LSW', 'LFCR'), ('amap08', '-C6LSW', 'LTriceps'), ('amap08', 'C6LSE-C6LC', 'LADM'), ('amap08', 'C6LSE-C6LC', 'LBiceps'), ('amap08', 'C6LSE-C6LC', 'LDeltoid'), ('amap08', 'C6LSE-C6LC', 'LECR'), ('amap08', 'C6LSE-C6LC', 'LFCR'), ('amap08', 'C6LSE-C6LC', 'LTriceps'), ('amap08', '-C6LNE', 'LADM'), ('amap08', '-C6LNE', 'LBiceps'), ('amap08', '-C6LNE', 'LDeltoid'), ('amap08', '-C6LNE', 'LECR'), ('amap08', '-C6LNE', 'LFCR'), ('amap08', '-C6LNE', 'LTriceps'), ('amap08', '-C6LS', 'LADM'), ('amap08', '-C6LS', 'LBiceps'), ('amap08', '-C6LS', 'LDeltoid'), ('amap08', '-C6LS', 'LECR'), ('amap08', '-C6LS', 'LFCR'), ('amap08', '-C6LS', 'LTriceps'), ('amap08', '-C6LW', 'LADM'), ('amap08', '-C6LW', 'LBiceps'), ('amap08', '-C6LW', 'LDeltoid'), ('amap08', '-C6LW', 'LECR'), ('amap08', '-C6LW', 'LFCR'), ('amap08', '-C6LW', 'LTriceps'), ('amap08', '-C6LSE', 'LADM'), ('amap08', '-C6LSE', 'LBiceps'), ('amap08', '-C6LSE', 'LDeltoid'), ('amap08', '-C6LSE', 'LECR'), ('amap08', '-C6LSE', 'LFCR'), ('amap08', '-C6LSE', 'LTriceps'), ('amap08', 'C6LS-C6LC', 'LADM'), ('amap08', 'C6LS-C6LC', 'LBiceps'), ('amap08', 'C6LS-C6LC', 'LDeltoid'), ('amap08', 'C6LS-C6LC', 'LECR'), ('amap08', 'C6LS-C6LC', 'LFCR'), ('amap08', 'C6LS-C6LC', 'LTriceps'), ('amap08', '-C6LNW', 'LADM'), ('amap08', '-C6LNW', 'LBiceps'), ('amap08', '-C6LNW', 'LDeltoid'), ('amap08', '-C6LNW', 'LECR'), ('amap08', '-C6LNW', 'LFCR'), ('amap08', '-C6LNW', 'LTriceps'), ('amap08', 'C6LW-C6LC', 'LADM'), ('amap08', 'C6LW-C6LC', 'LBiceps'), ('amap08', 'C6LW-C6LC', 'LDeltoid'), ('amap08', 'C6LW-C6LC', 'LECR'), ('amap08', 'C6LW-C6LC', 'LFCR'), ('amap08', 'C6LW-C6LC', 'LTriceps'), ('amap08', 'C6LE-C6LW', 'LADM'), ('amap08', 'C6LE-C6LW', 'LBiceps'), ('amap08', 'C6LE-C6LW', 'LDeltoid'), ('amap08', 'C6LE-C6LW', 'LECR'), ('amap08', 'C6LE-C6LW', 'LFCR'), ('amap08', 'C6LE-C6LW', 'LTriceps')])"
      ]
     },
     "execution_count": 17,
     "metadata": {},
     "output_type": "execute_result"
    }
   ],
   "source": [
    "combinations.keys()"
   ]
  },
  {
   "cell_type": "code",
   "execution_count": 6,
   "metadata": {},
   "outputs": [],
   "source": [
    "combination = pickle.load(open(\"/home/andres/repos/rat-mapping-paper/reports/L_SHIE/combine.pkl\", \"rb\"))"
   ]
  },
  {
   "cell_type": "code",
   "execution_count": 8,
   "metadata": {},
   "outputs": [
    {
     "data": {
      "text/plain": [
       "array(['C6LX-C6LC', 'C6LC-', 'C6LC-C6LX', '-C6LC'], dtype=object)"
      ]
     },
     "execution_count": 8,
     "metadata": {},
     "output_type": "execute_result"
    }
   ],
   "source": [
    "df['compound_position'].unique()"
   ]
  },
  {
   "cell_type": "code",
   "execution_count": null,
   "metadata": {},
   "outputs": [],
   "source": []
  }
 ],
 "metadata": {
  "kernelspec": {
   "display_name": "Python 3 (ipykernel)",
   "language": "python",
   "name": "python3"
  }
 },
 "nbformat": 4,
 "nbformat_minor": 2
}
