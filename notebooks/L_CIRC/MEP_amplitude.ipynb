{
 "cells": [
  {
   "cell_type": "code",
   "execution_count": 2,
   "metadata": {},
   "outputs": [],
   "source": [
    "import os\n",
    "import pickle\n",
    "import models\n",
    "\n",
    "import numpy as np\n",
    "import numpy.ma as ma\n",
    "import matplotlib.pyplot as plt\n",
    "import seaborn as sns\n",
    "from numpyro.diagnostics import hpdi\n",
    "\n",
    "from hbmep.nn import functional as F\n",
    "from hbmep.model.utils import Site as site\n",
    "\n",
    "from hbmep.config import Config\n",
    "from hbmep.model.utils import Site as site\n",
    "from scipy import stats\n",
    "\n",
    "from models import NonHierarchicalBayesianModel\n",
    "\n",
    "USER = os.environ[\"USER\"]\n",
    "\n",
    "# NORMALIZATION WILL BE ACROSS ELECTRODE"
   ]
  },
  {
   "cell_type": "code",
   "execution_count": 3,
   "metadata": {},
   "outputs": [
    {
     "name": "stderr",
     "output_type": "stream",
     "text": [
      "An NVIDIA GPU may be present on this machine, but a CUDA-enabled jaxlib is not installed. Falling back to cpu.\n"
     ]
    }
   ],
   "source": [
    "src = \"/home/andres/repos/rat-mapping-paper/reports/L_CIRC/inference.pkl\"\n",
    "\n",
    "with open(src, \"rb\") as f:\n",
    "    df, encoder_dict, model, posterior_samples, = pickle.load(f);"
   ]
  },
  {
   "cell_type": "code",
   "execution_count": 4,
   "metadata": {},
   "outputs": [
    {
     "name": "stdout",
     "output_type": "stream",
     "text": [
      "a (4000, 8, 21, 6)\n",
      "b (4000, 8, 21, 6)\n",
      "L (4000, 8, 21, 6)\n",
      "ℓ (4000, 8, 21, 6)\n",
      "H (4000, 8, 21, 6)\n"
     ]
    }
   ],
   "source": [
    "named_params = [site.a, site.b, site.L, site.ell, site.H]\n",
    "params = [posterior_samples[param][...] for param in named_params]\n",
    "\n",
    "for named_param, param in zip(named_params, params):\n",
    "    print(named_param, param.shape)"
   ]
  },
  {
   "cell_type": "code",
   "execution_count": 5,
   "metadata": {},
   "outputs": [],
   "source": [
    "compound_positions = encoder_dict[\"compound_position\"].inverse_transform(sorted(set(df[\"compound_position\"]))).tolist() #sorted(set(df[\"compound_position\"])\n",
    "\n",
    "vertices = [(i, cpos) for i, cpos in enumerate(compound_positions) if cpos.split(\"-\")[0] == \"\"]\n",
    "radii = [(i, cpos) for i, cpos in enumerate(compound_positions) if cpos.split(\"-\")[0] and cpos.split(\"-\")[1] == \"C6LC\"]\n",
    "diameters = [(i, cpos) for i, cpos in enumerate(compound_positions) if (i, cpos) not in vertices and (i, cpos) not in radii]\n",
    "\n",
    "vertices = [i for (i, cpos) in vertices]\n",
    "radii = [i for (i, cpos) in radii]\n",
    "diameters = [i for (i, cpos) in diameters]"
   ]
  },
  {
   "cell_type": "code",
   "execution_count": 6,
   "metadata": {},
   "outputs": [],
   "source": [
    "subjects = sorted(set(df[\"participant\"]))\n",
    "positions = sorted(set(df[\"compound_position\"]))\n",
    "muscles = model.response"
   ]
  },
  {
   "cell_type": "code",
   "execution_count": 7,
   "metadata": {},
   "outputs": [],
   "source": [
    "a = posterior_samples[site.a][...]"
   ]
  },
  {
   "cell_type": "code",
   "execution_count": 8,
   "metadata": {},
   "outputs": [
    {
     "data": {
      "text/plain": [
       "(4000, 8, 21, 6)"
      ]
     },
     "execution_count": 8,
     "metadata": {},
     "output_type": "execute_result"
    }
   ],
   "source": [
    "a.shape"
   ]
  },
  {
   "cell_type": "code",
   "execution_count": 9,
   "metadata": {},
   "outputs": [
    {
     "data": {
      "text/plain": [
       "array(['-C6LC', '-C6LE', '-C6LN', '-C6LNE', '-C6LNW', '-C6LS', '-C6LSE',\n",
       "       '-C6LSW', '-C6LW'], dtype=object)"
      ]
     },
     "execution_count": 9,
     "metadata": {},
     "output_type": "execute_result"
    }
   ],
   "source": [
    "encoder_dict[\"compound_position\"].inverse_transform(vertices)"
   ]
  },
  {
   "cell_type": "code",
   "execution_count": 10,
   "metadata": {},
   "outputs": [
    {
     "data": {
      "text/plain": [
       "array(['C6LE-C6LC', 'C6LN-C6LC', 'C6LNE-C6LC', 'C6LNW-C6LC', 'C6LS-C6LC',\n",
       "       'C6LSE-C6LC', 'C6LSW-C6LC', 'C6LW-C6LC'], dtype=object)"
      ]
     },
     "execution_count": 10,
     "metadata": {},
     "output_type": "execute_result"
    }
   ],
   "source": [
    "encoder_dict[\"compound_position\"].inverse_transform(radii)"
   ]
  },
  {
   "cell_type": "code",
   "execution_count": 11,
   "metadata": {},
   "outputs": [
    {
     "data": {
      "text/plain": [
       "array(['C6LE-C6LW', 'C6LNE-C6LSW', 'C6LS-C6LN', 'C6LSE-C6LNW'],\n",
       "      dtype=object)"
      ]
     },
     "execution_count": 11,
     "metadata": {},
     "output_type": "execute_result"
    }
   ],
   "source": [
    "encoder_dict[\"compound_position\"].inverse_transform(diameters)"
   ]
  },
  {
   "cell_type": "code",
   "execution_count": null,
   "metadata": {},
   "outputs": [],
   "source": [
    "norm_y = []\n",
    "norm_x = []\n",
    "subset = verties\n",
    "target_position = 0\n",
    "\n",
    "for subject_ind, subject in enumerate(subjects):\n",
    "    for m_ind, m in enumerate(muscles):\n",
    "        # Fix the subject index and size index\n",
    "        a_temp = a[:, subject_ind, subset, m_ind]\n",
    "        mean_thres = np.nanmean(a_temp[:,target_position,...],axis=(0))\n",
    "        curr_params = [\n",
    "            params[:, subject_ind, subset, m_ind, None] for params in params\n",
    "        ]\n",
    "\n",
    "        x_temp = np.array([1.2*mean_thres])[None, None, None, :]\n",
    "\n",
    "        temp_thresh = F.rectified_logistic(\n",
    "            x_temp, #x_temp\n",
    "            *curr_params\n",
    "        )\n",
    "        \n",
    "        # Remove offset\n",
    "        temp_thresh = temp_thresh - curr_params[2]\n",
    "        norm_y.append(temp_thresh)\n",
    "        norm_x.append(x_temp)\n",
    "\n",
    "norm_x = np.array(norm_x)\n",
    "norm_x = norm_x.reshape(len(subjects), len(muscles),*norm_x.shape[2:])\n",
    "norm_y = np.array(norm_y)\n",
    "norm_y = norm_y.reshape(len(subjects), len(muscles),*norm_y.shape[2:])\n",
    "norm_y = ma.masked_invalid(norm_y)"
   ]
  },
  {
   "cell_type": "code",
   "execution_count": 43,
   "metadata": {},
   "outputs": [
    {
     "data": {
      "text/plain": [
       "(8, 6, 4000, 8, 1)"
      ]
     },
     "execution_count": 43,
     "metadata": {},
     "output_type": "execute_result"
    }
   ],
   "source": [
    "norm_y.shape"
   ]
  },
  {
   "cell_type": "code",
   "execution_count": 44,
   "metadata": {},
   "outputs": [],
   "source": [
    "y_means = ma.mean(norm_y, axis=(2,4))"
   ]
  },
  {
   "cell_type": "code",
   "execution_count": 45,
   "metadata": {},
   "outputs": [
    {
     "data": {
      "text/plain": [
       "(8, 6, 8)"
      ]
     },
     "execution_count": 45,
     "metadata": {},
     "output_type": "execute_result"
    }
   ],
   "source": [
    "y_means.shape"
   ]
  },
  {
   "cell_type": "code",
   "execution_count": 46,
   "metadata": {},
   "outputs": [],
   "source": [
    "y_diffs = y_means[:,:,:, None] - y_means[:,:,None,:]"
   ]
  },
  {
   "cell_type": "code",
   "execution_count": 47,
   "metadata": {},
   "outputs": [
    {
     "data": {
      "text/plain": [
       "(8, 6, 8, 8)"
      ]
     },
     "execution_count": 47,
     "metadata": {},
     "output_type": "execute_result"
    }
   ],
   "source": [
    "y_diffs.shape"
   ]
  },
  {
   "cell_type": "code",
   "execution_count": 48,
   "metadata": {},
   "outputs": [],
   "source": [
    "y_diffs = ma.mean(y_diffs, axis=1)"
   ]
  },
  {
   "cell_type": "code",
   "execution_count": 50,
   "metadata": {},
   "outputs": [],
   "source": [
    "pvalues = []\n",
    "for i in range(len(radii)):\n",
    "    for i2 in range(len(radii)):\n",
    "        if i==i2:\n",
    "            pvalues.append(1)\n",
    "            continue\n",
    "        temp_p = stats.wilcoxon(y_diffs[:, i,i2], axis=0).pvalue\n",
    "        pvalues.append(temp_p)\n",
    "\n",
    "pvalues = np.array(pvalues)\n",
    "pvalues = pvalues.reshape(len(radii), len(radii))"
   ]
  },
  {
   "cell_type": "code",
   "execution_count": null,
   "metadata": {},
   "outputs": [
    {
     "data": {
      "text/plain": [
       "(9, 9)"
      ]
     },
     "execution_count": 36,
     "metadata": {},
     "output_type": "execute_result"
    }
   ],
   "source": [
    "pvalues.shape"
   ]
  },
  {
   "cell_type": "code",
   "execution_count": 51,
   "metadata": {},
   "outputs": [
    {
     "data": {
      "text/plain": [
       "<Axes: >"
      ]
     },
     "execution_count": 51,
     "metadata": {},
     "output_type": "execute_result"
    },
    {
     "data": {
      "image/png": "[encoded data removed]",
      "text/plain": [
       "<Figure size 640x480 with 2 Axes>"
      ]
     },
     "metadata": {},
     "output_type": "display_data"
    }
   ],
   "source": [
    "labels = encoder_dict['compound_position'].inverse_transform(radii)\n",
    "\n",
    "mask = np.tril(np.ones_like(pvalues), k=0).astype(bool)\n",
    "sns.heatmap(pvalues, xticklabels=labels, yticklabels=labels, mask = mask, annot=False)\n",
    "sns.heatmap(pvalues, xticklabels=labels, yticklabels=labels, mask = mask,annot=np.round(y_diffs.mean(axis=0).data, 3), annot_kws={'va':'top'}, fmt=\"\", cbar=False)\n",
    "sns.heatmap(pvalues, xticklabels=labels, yticklabels=labels, mask = mask,annot=np.round(pvalues, 3), annot_kws={'va':'bottom'}, fmt=\"\", cbar=False)"
   ]
  },
  {
   "cell_type": "code",
   "execution_count": null,
   "metadata": {},
   "outputs": [],
   "source": [
    "def mep_graph(sub,target):\n",
    "    norm_y = []\n",
    "    norm_x = []\n",
    "    subset = sub\n",
    "    target_position = target\n",
    "\n",
    "    for subject_ind, subject in enumerate(subjects):\n",
    "        for m_ind, m in enumerate(muscles):\n",
    "            # Fix the subject index and size index\n",
    "            a_temp = a[:, subject_ind, subset, m_ind]\n",
    "            mean_thres = np.nanmean(a_temp[:,target_position,...],axis=(0))\n",
    "            curr_params = [\n",
    "                params[:, subject_ind, subset, m_ind, None] for params in params\n",
    "            ]\n",
    "\n",
    "            x_temp = np.array([1.2*mean_thres])[None, None, None, :]\n",
    "\n",
    "            temp_thresh = F.rectified_logistic(\n",
    "                x_temp, #x_temp\n",
    "                *curr_params\n",
    "            )\n",
    "            \n",
    "            # Remove offset\n",
    "            temp_thresh = temp_thresh - curr_params[2]\n",
    "            norm_y.append(temp_thresh)\n",
    "            norm_x.append(x_temp)\n",
    "\n",
    "    norm_x = np.array(norm_x)\n",
    "    norm_x = norm_x.reshape(len(subjects), len(muscles),*norm_x.shape[1:])\n",
    "    norm_y = np.array(norm_y)\n",
    "    norm_y = norm_y.reshape(len(subjects), len(muscles),*norm_y.shape[1:])\n",
    "    norm_y = ma.masked_invalid(norm_y)\n",
    "\n",
    "    y_means = ma.mean(norm_y, axis=(2,4))\n",
    "\n",
    "    y_diffs = y_means[:,:, :,None] - y_means[:,:,None,:]\n",
    "    y_diffs = ma.mean(y_diffs, axis=1)\n",
    "\n",
    "    pvalues = []\n",
    "    for i in range(len(subset)):\n",
    "        for i2 in range(len(subset)):\n",
    "            if i==i2:\n",
    "                pvalues.append(1)\n",
    "                continue\n",
    "            temp_p = stats.wilcoxon(y_diffs[:, i,i2], axis=0).pvalue\n",
    "            pvalues.append(temp_p)\n",
    "\n",
    "    pvalues = np.array(pvalues)\n",
    "    pvalues = pvalues.reshape(len(subset), len(subset))\n",
    "\n",
    "    labels = encoder_dict['compound_position'].inverse_transform(subset)\n",
    "\n",
    "    mask = np.tril(np.ones_like(pvalues), k=0).astype(bool)\n",
    "    sns.heatmap(pvalues, xticklabels=labels, yticklabels=labels, mask = mask, annot=False)\n",
    "    sns.heatmap(pvalues, xticklabels=labels, yticklabels=labels, mask = mask,annot=np.round(y_diffs.mean(axis=0).data, 3), annot_kws={'va':'top'}, fmt=\"\", cbar=False)\n",
    "    sns.heatmap(pvalues, xticklabels=labels, yticklabels=labels, mask = mask,annot=np.round(pvalues, 3), annot_kws={'va':'bottom'}, fmt=\"\", cbar=False)"
   ]
  },
  {
   "cell_type": "code",
   "execution_count": null,
   "metadata": {},
   "outputs": [
    {
     "data": {
      "text/plain": [
       "array(['-C6LC', '-C6LE', '-C6LN', '-C6LNE', '-C6LNW', '-C6LS', '-C6LSE',\n",
       "       '-C6LSW', '-C6LW'], dtype=object)"
      ]
     },
     "execution_count": 22,
     "metadata": {},
     "output_type": "execute_result"
    }
   ],
   "source": [
    "encoder_dict[\"compound_position\"].inverse_transform(vertices)"
   ]
  },
  {
   "cell_type": "code",
   "execution_count": 18,
   "metadata": {},
   "outputs": [
    {
     "data": {
      "text/plain": [
       "(4000, 8, 21, 6)"
      ]
     },
     "execution_count": 18,
     "metadata": {},
     "output_type": "execute_result"
    }
   ],
   "source": [
    "a.shape"
   ]
  },
  {
   "cell_type": "code",
   "execution_count": 83,
   "metadata": {},
   "outputs": [],
   "source": [
    "arr = a[:,:,:,:]\n"
   ]
  },
  {
   "cell_type": "code",
   "execution_count": 98,
   "metadata": {},
   "outputs": [],
   "source": [
    "a_norm = arr / ma.median(arr, axis=(2,3), keepdims=True)"
   ]
  },
  {
   "cell_type": "code",
   "execution_count": 81,
   "metadata": {},
   "outputs": [
    {
     "data": {
      "text/plain": [
       "[0, 1, 2, 3, 4, 5, 6, 7, 8]"
      ]
     },
     "execution_count": 81,
     "metadata": {},
     "output_type": "execute_result"
    }
   ],
   "source": [
    "vertices"
   ]
  },
  {
   "cell_type": "code",
   "execution_count": 99,
   "metadata": {},
   "outputs": [],
   "source": [
    "a_norm = a_norm[:,:,radii,:]"
   ]
  },
  {
   "cell_type": "code",
   "execution_count": 100,
   "metadata": {},
   "outputs": [],
   "source": [
    "a_mean = ma.mean(a_norm, axis=0)"
   ]
  },
  {
   "cell_type": "code",
   "execution_count": 103,
   "metadata": {},
   "outputs": [
    {
     "data": {
      "text/plain": [
       "(8, 8, 6)"
      ]
     },
     "execution_count": 103,
     "metadata": {},
     "output_type": "execute_result"
    }
   ],
   "source": [
    "a_mean.shape"
   ]
  },
  {
   "cell_type": "code",
   "execution_count": 106,
   "metadata": {},
   "outputs": [],
   "source": [
    "src = \"/home/andres/repos/rat-mapping-paper/notebooks/L_CIRC/rad_selectivity_means.pkl\"\n",
    "\n",
    "with open(src, \"rb\") as f:\n",
    "    sel_rad= pickle.load(f);"
   ]
  },
  {
   "cell_type": "code",
   "execution_count": 104,
   "metadata": {},
   "outputs": [],
   "source": [
    "a_mean = ma.mean(a_mean, axis = -1)"
   ]
  },
  {
   "cell_type": "code",
   "execution_count": 105,
   "metadata": {},
   "outputs": [
    {
     "data": {
      "text/plain": [
       "(8, 8)"
      ]
     },
     "execution_count": 105,
     "metadata": {},
     "output_type": "execute_result"
    }
   ],
   "source": [
    "a_mean.shape"
   ]
  },
  {
   "cell_type": "code",
   "execution_count": 107,
   "metadata": {},
   "outputs": [],
   "source": [
    "avg_eff = ma.mean(a_mean, axis=0)\n",
    "avg_sel = ma.mean(sel_rad, axis=0)"
   ]
  },
  {
   "cell_type": "code",
   "execution_count": 108,
   "metadata": {},
   "outputs": [],
   "source": [
    "sem_eff = stats.sem(1/a_mean, axis=0)\n",
    "sem_sel = stats.sem(sel_rad, axis=0)"
   ]
  },
  {
   "cell_type": "code",
   "execution_count": 112,
   "metadata": {},
   "outputs": [
    {
     "data": {
      "text/plain": [
       "array(['C6LE-C6LC', 'C6LN-C6LC', 'C6LNE-C6LC', 'C6LNW-C6LC', 'C6LS-C6LC',\n",
       "       'C6LSE-C6LC', 'C6LSW-C6LC', 'C6LW-C6LC'], dtype=object)"
      ]
     },
     "execution_count": 112,
     "metadata": {},
     "output_type": "execute_result"
    }
   ],
   "source": [
    "encoder_dict[\"compound_position\"].inverse_transform(radii)"
   ]
  },
  {
   "cell_type": "code",
   "execution_count": 113,
   "metadata": {},
   "outputs": [
    {
     "data": {
      "text/plain": [
       "masked_array(data=[0.8061688248935165, 1.0065275367159092,\n",
       "                   0.8901760513695369, 0.9514001659012761,\n",
       "                   1.2743492511237438, 0.8862052557359789,\n",
       "                   1.0904635801907816, 0.8243640492193536],\n",
       "             mask=[False, False, False, False, False, False, False, False],\n",
       "       fill_value=1e+20)"
      ]
     },
     "execution_count": 113,
     "metadata": {},
     "output_type": "execute_result"
    }
   ],
   "source": [
    "1/avg_eff"
   ]
  },
  {
   "cell_type": "code",
   "execution_count": 117,
   "metadata": {},
   "outputs": [
    {
     "data": {
      "text/plain": [
       "masked_array(data=[0.8493184170823165, 0.801122898564941,\n",
       "                   0.8398088152839318, 0.6414490794320726,\n",
       "                   0.7248068806537595, 0.6581157646367124,\n",
       "                   0.7855034286478446, 0.6508629596262655],\n",
       "             mask=[False, False, False, False, False, False, False, False],\n",
       "       fill_value=1e+20)"
      ]
     },
     "execution_count": 117,
     "metadata": {},
     "output_type": "execute_result"
    }
   ],
   "source": [
    "avg_sel"
   ]
  },
  {
   "cell_type": "code",
   "execution_count": 109,
   "metadata": {},
   "outputs": [
    {
     "data": {
      "image/png": "[encoded data removed]",
      "text/plain": [
       "<Figure size 640x480 with 1 Axes>"
      ]
     },
     "metadata": {},
     "output_type": "display_data"
    }
   ],
   "source": [
    "plt.errorbar(x=1/avg_eff, y=avg_sel, yerr=sem_sel, xerr=sem_eff, fmt='^', capsize=5,ms = 10, ecolor='gray', label='Avg with SEM')\n",
    "plt.xlabel(\"Normalized Efficacy\")\n",
    "plt.ylabel(\"Normalized Selectivity\")\n",
    "sns.despine()"
   ]
  },
  {
   "cell_type": "code",
   "execution_count": 116,
   "metadata": {},
   "outputs": [
    {
     "data": {
      "image/png": "[encoded data removed]",
      "text/plain": [
       "<Figure size 640x480 with 1 Axes>"
      ]
     },
     "metadata": {},
     "output_type": "display_data"
    }
   ],
   "source": [
    "colors = ['#1f77b4', '#ff7f0e', '#2ca02c', '#d62728', '#8c564b', '#e377c2', '#7f7f7f', '#bcbd22', '#17becf']\n",
    "for x, y, xerr, yerr, colors in zip(1/avg_eff, avg_sel, sem_eff, sem_sel, colors):\n",
    "    plt.errorbar(x=x, y=y, xerr=xerr, yerr=yerr, fmt='^', ms = 10,ecolor='black', elinewidth=1, capsize=5, color = colors)"
   ]
  },
  {
   "cell_type": "code",
   "execution_count": 71,
   "metadata": {},
   "outputs": [],
   "source": [
    "a_diff = a_mean[:,:, None,:] - a_mean[:,None,:,:]"
   ]
  },
  {
   "cell_type": "code",
   "execution_count": 72,
   "metadata": {},
   "outputs": [
    {
     "data": {
      "text/plain": [
       "(8, 4, 4, 6)"
      ]
     },
     "execution_count": 72,
     "metadata": {},
     "output_type": "execute_result"
    }
   ],
   "source": [
    "a_diff.shape"
   ]
  },
  {
   "cell_type": "code",
   "execution_count": 73,
   "metadata": {},
   "outputs": [],
   "source": [
    "a_diff_mean = ma.mean(a_diff, axis=3)"
   ]
  },
  {
   "cell_type": "code",
   "execution_count": 74,
   "metadata": {},
   "outputs": [
    {
     "data": {
      "text/plain": [
       "WilcoxonResult(statistic=0.0, pvalue=0.0078125)"
      ]
     },
     "execution_count": 74,
     "metadata": {},
     "output_type": "execute_result"
    }
   ],
   "source": [
    "stats.wilcoxon(a_diff_mean[:, 0,1], axis=0)"
   ]
  },
  {
   "cell_type": "code",
   "execution_count": 75,
   "metadata": {},
   "outputs": [
    {
     "data": {
      "text/plain": [
       "(8, 4, 4)"
      ]
     },
     "execution_count": 75,
     "metadata": {},
     "output_type": "execute_result"
    }
   ],
   "source": [
    "a_diff_mean.shape"
   ]
  },
  {
   "cell_type": "code",
   "execution_count": 76,
   "metadata": {},
   "outputs": [],
   "source": [
    "pvalues = []\n",
    "for i in range(4):\n",
    "    for i2 in range(4):\n",
    "        if i==i2:\n",
    "            pvalues.append(1)\n",
    "        else:\n",
    "            pvalues.append(stats.wilcoxon(a_diff_mean[:, i,i2], axis=0).pvalue)"
   ]
  },
  {
   "cell_type": "code",
   "execution_count": 77,
   "metadata": {},
   "outputs": [],
   "source": [
    "labels = encoder_dict[\"compound_position\"].inverse_transform(diameters)"
   ]
  },
  {
   "cell_type": "code",
   "execution_count": 78,
   "metadata": {},
   "outputs": [
    {
     "data": {
      "text/plain": [
       "(4, 4)"
      ]
     },
     "execution_count": 78,
     "metadata": {},
     "output_type": "execute_result"
    }
   ],
   "source": [
    "a_diff_mean.mean(axis=0).data.shape"
   ]
  },
  {
   "cell_type": "code",
   "execution_count": 79,
   "metadata": {},
   "outputs": [],
   "source": [
    "pvalues = np.array(pvalues)\n",
    "pvalues = pvalues.reshape(len(diameters), len(diameters))"
   ]
  },
  {
   "cell_type": "code",
   "execution_count": 80,
   "metadata": {},
   "outputs": [
    {
     "data": {
      "text/plain": [
       "<Axes: >"
      ]
     },
     "execution_count": 80,
     "metadata": {},
     "output_type": "execute_result"
    },
    {
     "data": {
      "image/png": "[encoded data removed]",
      "text/plain": [
       "<Figure size 640x480 with 2 Axes>"
      ]
     },
     "metadata": {},
     "output_type": "display_data"
    }
   ],
   "source": [
    "mask = np.tril(np.ones_like(pvalues), k=0).astype(bool)\n",
    "sns.heatmap(pvalues, xticklabels=labels, yticklabels=labels, mask = mask, annot=False)\n",
    "sns.heatmap(pvalues, xticklabels=labels, yticklabels=labels, mask = mask,annot=np.round(a_diff_mean.mean(axis=0).data, 3), annot_kws={'va':'top'}, fmt=\"\", cbar=False)\n",
    "sns.heatmap(pvalues, xticklabels=labels, yticklabels=labels, mask = mask,annot=np.round(pvalues, 3), annot_kws={'va':'bottom'}, fmt=\"\", cbar=False)"
   ]
  }
 ],
 "metadata": {
  "kernelspec": {
   "display_name": ".venv",
   "language": "python",
   "name": "python3"
  },
  "language_info": {
   "codemirror_mode": {
    "name": "ipython",
    "version": 3
   },
   "file_extension": ".py",
   "mimetype": "text/x-python",
   "name": "python",
   "nbconvert_exporter": "python",
   "pygments_lexer": "ipython3",
   "version": "3.11.9"
  }
 },
 "nbformat": 4,
 "nbformat_minor": 2
}
