{
 "cells": [
  {
   "cell_type": "code",
   "execution_count": 50,
   "metadata": {},
   "outputs": [],
   "source": [
    "import os\n",
    "import pickle\n",
    "import models\n",
    "\n",
    "import numpy as np\n",
    "import numpy.ma as ma\n",
    "import matplotlib.pyplot as plt\n",
    "import seaborn as sns\n",
    "from numpyro.diagnostics import hpdi\n",
    "\n",
    "from hbmep.nn import functional as F\n",
    "from hbmep.model.utils import Site as site\n",
    "\n",
    "from hbmep.config import Config\n",
    "from hbmep.model.utils import Site as site\n",
    "from scipy import stats\n",
    "\n",
    "from models import NonHierarchicalBayesianModel\n",
    "\n",
    "USER = os.environ[\"USER\"]\n",
    "\n",
    "MAX_THRESHOLD_CONST = 3.50 #CONSTANT WILL BE mean of rats for stim max / threshold for EVERY possible combination... ma.mean(ma.median((stim_max/ma.mean(a, axis=0)),axis = (1,2,3)),axis =0)\n",
    "NUM_THRESHOLD_POINTS = 500\n"
   ]
  },
  {
   "cell_type": "code",
   "execution_count": 51,
   "metadata": {},
   "outputs": [],
   "source": [
    "src = \"/home/andres/repos/rat-mapping-paper/reports/L_CIRC/inference.pkl\"\n",
    "\n",
    "with open(src, \"rb\") as f:\n",
    "    df, encoder_dict, model, posterior_samples, = pickle.load(f);"
   ]
  },
  {
   "cell_type": "code",
   "execution_count": 52,
   "metadata": {},
   "outputs": [
    {
     "name": "stdout",
     "output_type": "stream",
     "text": [
      "a (4000, 8, 21, 6)\n",
      "b (4000, 8, 21, 6)\n",
      "L (4000, 8, 21, 6)\n",
      "ℓ (4000, 8, 21, 6)\n",
      "H (4000, 8, 21, 6)\n"
     ]
    }
   ],
   "source": [
    "named_params = [site.a, site.b, site.L, site.ell, site.H]\n",
    "params = [posterior_samples[param][...] for param in named_params]\n",
    "\n",
    "for named_param, param in zip(named_params, params):\n",
    "    print(named_param, param.shape)"
   ]
  },
  {
   "cell_type": "code",
   "execution_count": 53,
   "metadata": {},
   "outputs": [],
   "source": [
    "min_threshold = ma.min(posterior_samples[site.a], axis=0)"
   ]
  },
  {
   "cell_type": "code",
   "execution_count": 54,
   "metadata": {},
   "outputs": [],
   "source": [
    "compound_positions = encoder_dict[\"compound_position\"].inverse_transform(sorted(set(df[\"compound_position\"]))).tolist() #sorted(set(df[\"compound_position\"])"
   ]
  },
  {
   "cell_type": "code",
   "execution_count": 55,
   "metadata": {},
   "outputs": [],
   "source": [
    "vertices = [(i, cpos) for i, cpos in enumerate(compound_positions) if cpos.split(\"-\")[0] == \"\"]\n",
    "radii = [(i, cpos) for i, cpos in enumerate(compound_positions) if cpos.split(\"-\")[0] and cpos.split(\"-\")[1] == \"C6LC\"]\n",
    "diameters = [(i, cpos) for i, cpos in enumerate(compound_positions) if (i, cpos) not in vertices and (i, cpos) not in radii]\n",
    "\n",
    "vertices = [i for (i, cpos) in vertices]\n",
    "radii = [i for (i, cpos) in radii]\n",
    "diameters = [i for (i, cpos) in diameters]"
   ]
  },
  {
   "cell_type": "code",
   "execution_count": 56,
   "metadata": {},
   "outputs": [
    {
     "data": {
      "text/plain": [
       "(4000, 8, 21, 6)"
      ]
     },
     "execution_count": 56,
     "metadata": {},
     "output_type": "execute_result"
    }
   ],
   "source": [
    "a = posterior_samples[site.a]\n",
    "a.shape"
   ]
  },
  {
   "cell_type": "code",
   "execution_count": 57,
   "metadata": {},
   "outputs": [],
   "source": [
    "dia = a[:,:,radii,:]"
   ]
  },
  {
   "cell_type": "code",
   "execution_count": 58,
   "metadata": {},
   "outputs": [
    {
     "data": {
      "text/plain": [
       "(4000, 8, 8, 6)"
      ]
     },
     "execution_count": 58,
     "metadata": {},
     "output_type": "execute_result"
    }
   ],
   "source": [
    "dia.shape"
   ]
  },
  {
   "cell_type": "code",
   "execution_count": 59,
   "metadata": {},
   "outputs": [],
   "source": [
    "dia = dia.mean(axis = (0))"
   ]
  },
  {
   "cell_type": "code",
   "execution_count": 60,
   "metadata": {},
   "outputs": [
    {
     "data": {
      "text/plain": [
       "(8, 8, 6)"
      ]
     },
     "execution_count": 60,
     "metadata": {},
     "output_type": "execute_result"
    }
   ],
   "source": [
    "dia.shape"
   ]
  },
  {
   "cell_type": "code",
   "execution_count": 61,
   "metadata": {},
   "outputs": [
    {
     "data": {
      "text/plain": [
       "(8,)"
      ]
     },
     "execution_count": 61,
     "metadata": {},
     "output_type": "execute_result"
    }
   ],
   "source": [
    "(dia[5,:,0]).shape"
   ]
  },
  {
   "cell_type": "code",
   "execution_count": 62,
   "metadata": {},
   "outputs": [],
   "source": [
    "subjects = sorted(set(df[\"participant\"]))\n",
    "positions = sorted(set(df[\"compound_position\"]))\n",
    "muscles = model.response"
   ]
  },
  {
   "cell_type": "code",
   "execution_count": 63,
   "metadata": {},
   "outputs": [
    {
     "data": {
      "text/plain": [
       "[10, 13, 16, 18]"
      ]
     },
     "execution_count": 63,
     "metadata": {},
     "output_type": "execute_result"
    }
   ],
   "source": [
    "diameters"
   ]
  },
  {
   "cell_type": "code",
   "execution_count": 64,
   "metadata": {},
   "outputs": [
    {
     "data": {
      "text/plain": [
       "ModeResult(mode=0, count=20)"
      ]
     },
     "execution_count": 64,
     "metadata": {},
     "output_type": "execute_result"
    }
   ],
   "source": [
    "target_list = []\n",
    "for s in subjects:\n",
    "    for m, ind in enumerate(muscles): \n",
    "        temp_max = np.max(dia[s,:,m], axis = 0)\n",
    "        for d in range(len(dia[0,:,0])):\n",
    "            if dia[s,d,m] == temp_max:\n",
    "                target = d\n",
    "        target_list.append(target)\n",
    "\n",
    "stats.mode(target_list)"
   ]
  },
  {
   "cell_type": "code",
   "execution_count": null,
   "metadata": {},
   "outputs": [],
   "source": []
  },
  {
   "cell_type": "code",
   "execution_count": 65,
   "metadata": {},
   "outputs": [
    {
     "data": {
      "text/plain": [
       "array(['C6LE-C6LC', 'C6LN-C6LC', 'C6LNE-C6LC', 'C6LNW-C6LC', 'C6LS-C6LC',\n",
       "       'C6LSE-C6LC', 'C6LSW-C6LC', 'C6LW-C6LC'], dtype=object)"
      ]
     },
     "execution_count": 65,
     "metadata": {},
     "output_type": "execute_result"
    }
   ],
   "source": [
    "encoder_dict[\"compound_position\"].inverse_transform(radii)"
   ]
  },
  {
   "cell_type": "code",
   "execution_count": 66,
   "metadata": {},
   "outputs": [],
   "source": [
    "subjects = sorted(set(df[\"participant\"]))\n",
    "positions = sorted(set(df[\"compound_position\"]))\n",
    "muscles = model.response"
   ]
  },
  {
   "cell_type": "code",
   "execution_count": 67,
   "metadata": {},
   "outputs": [
    {
     "data": {
      "text/plain": [
       "[0, 1, 2, 3, 4, 5, 6, 7, 8, 9, 10, 11, 12, 13, 14, 15, 16, 17, 18, 19, 20]"
      ]
     },
     "execution_count": 67,
     "metadata": {},
     "output_type": "execute_result"
    }
   ],
   "source": [
    "positions"
   ]
  },
  {
   "cell_type": "code",
   "execution_count": 68,
   "metadata": {},
   "outputs": [],
   "source": [
    "stim_max = []\n",
    "\n",
    "for s in subjects:\n",
    "    for p in positions:\n",
    "        for m in muscles: \n",
    "            temp = df[(df['participant'] == s) \n",
    "                    & (df['compound_position'] == p) \n",
    "                    ]\n",
    "            temp = temp.loc[:,[m, 'pulse_amplitude']]\n",
    "            temp = temp.pulse_amplitude.max()\n",
    "            stim_max.append(temp)\n",
    "\n",
    "stim_max = ma.array(stim_max)\n",
    "stim_max = stim_max.reshape(len(subjects), len(positions), len(muscles))\n",
    "            "
   ]
  },
  {
   "cell_type": "code",
   "execution_count": 69,
   "metadata": {},
   "outputs": [
    {
     "data": {
      "text/plain": [
       "(4000, 8, 21, 6)"
      ]
     },
     "execution_count": 69,
     "metadata": {},
     "output_type": "execute_result"
    }
   ],
   "source": [
    "a = posterior_samples[site.a]\n",
    "a.shape"
   ]
  },
  {
   "cell_type": "code",
   "execution_count": 70,
   "metadata": {},
   "outputs": [
    {
     "data": {
      "text/plain": [
       "(8, 21, 6)"
      ]
     },
     "execution_count": 70,
     "metadata": {},
     "output_type": "execute_result"
    }
   ],
   "source": [
    "(stim_max/ma.mean(a, axis=0)).shape"
   ]
  },
  {
   "cell_type": "code",
   "execution_count": 71,
   "metadata": {},
   "outputs": [
    {
     "data": {
      "text/plain": [
       "3.5009097655044012"
      ]
     },
     "execution_count": 71,
     "metadata": {},
     "output_type": "execute_result"
    }
   ],
   "source": [
    "ma.mean(ma.median((stim_max/ma.mean(a, axis=0)),axis = (1,2)),axis =0)"
   ]
  },
  {
   "cell_type": "code",
   "execution_count": 72,
   "metadata": {},
   "outputs": [
    {
     "data": {
      "text/plain": [
       "(4000, 8, 21, 6)"
      ]
     },
     "execution_count": 72,
     "metadata": {},
     "output_type": "execute_result"
    }
   ],
   "source": [
    "param.shape"
   ]
  },
  {
   "cell_type": "code",
   "execution_count": 73,
   "metadata": {},
   "outputs": [],
   "source": [
    "def get_normalized_input_output(subset):\n",
    "    norm_y = []\n",
    "    norm_x = []\n",
    "\n",
    "    for subject_ind, subject in enumerate(subjects):\n",
    "        curr_params = [\n",
    "            param[:, subject_ind, subset, :][:, :, :, None] for param in params\n",
    "        ]\n",
    "        # Take nanmean across posterior samples \n",
    "        temp = np.nanmean(curr_params[0], axis=0)\n",
    "        # Take nanmedian across compound positions and muscles\n",
    "        median_threshold = np.nanmedian(temp)\n",
    "        \n",
    "        x_temp = np.linspace(0.,  median_threshold * MAX_THRESHOLD_CONST, NUM_THRESHOLD_POINTS)\n",
    "        x_temp = x_temp[None, None, None, :]\n",
    "\n",
    "        temp_thresh = F.rectified_logistic(\n",
    "            x_temp,\n",
    "            *curr_params\n",
    "        )\n",
    "        # Remove offset\n",
    "        temp_thresh = temp_thresh - curr_params[2]\n",
    "        \n",
    "        norm_y.append(temp_thresh)\n",
    "        norm_x.append(x_temp)\n",
    "\n",
    "    norm_x = np.array(norm_x)\n",
    "    norm_y = np.array(norm_y)\n",
    "    norm_y = ma.masked_invalid(norm_y)\n",
    "    \n",
    "    return norm_x, norm_y\n",
    "\n"
   ]
  },
  {
   "cell_type": "code",
   "execution_count": 85,
   "metadata": {},
   "outputs": [],
   "source": [
    "x, y = get_normalized_input_output(radii)\n"
   ]
  },
  {
   "cell_type": "code",
   "execution_count": 86,
   "metadata": {},
   "outputs": [
    {
     "data": {
      "text/plain": [
       "(8, 4000, 8, 6, 500)"
      ]
     },
     "execution_count": 86,
     "metadata": {},
     "output_type": "execute_result"
    }
   ],
   "source": [
    "y.shape"
   ]
  },
  {
   "cell_type": "code",
   "execution_count": 87,
   "metadata": {},
   "outputs": [],
   "source": [
    "y_max = ma.max(y, axis=(2, -1), keepdims=True)\n"
   ]
  },
  {
   "cell_type": "code",
   "execution_count": 88,
   "metadata": {},
   "outputs": [],
   "source": [
    "y = ma.where(y_max, y / y_max, 0.)"
   ]
  },
  {
   "cell_type": "code",
   "execution_count": 89,
   "metadata": {},
   "outputs": [],
   "source": [
    "p = ma.sum(y, axis=-2, keepdims=True)\n"
   ]
  },
  {
   "cell_type": "code",
   "execution_count": 90,
   "metadata": {},
   "outputs": [],
   "source": [
    "p = ma.where(p, y / p, 1 / y.shape[-2])"
   ]
  },
  {
   "cell_type": "code",
   "execution_count": 91,
   "metadata": {},
   "outputs": [],
   "source": [
    "plogp = ma.where(p, p * ma.log(p), 0.)"
   ]
  },
  {
   "cell_type": "code",
   "execution_count": 92,
   "metadata": {},
   "outputs": [],
   "source": [
    "entropy = 1 + (plogp.sum(axis=-2) / ma.log(y.shape[-2]))"
   ]
  },
  {
   "cell_type": "code",
   "execution_count": 93,
   "metadata": {},
   "outputs": [
    {
     "data": {
      "text/plain": [
       "(8, 4000, 8)"
      ]
     },
     "execution_count": 93,
     "metadata": {},
     "output_type": "execute_result"
    }
   ],
   "source": [
    "auc = np.trapz(y=entropy[...], x=np.linspace(0, MAX_THRESHOLD_CONST, NUM_THRESHOLD_POINTS), axis=-1)\n",
    "auc.shape"
   ]
  },
  {
   "cell_type": "code",
   "execution_count": 94,
   "metadata": {},
   "outputs": [
    {
     "data": {
      "text/plain": [
       "(8, 8)"
      ]
     },
     "execution_count": 94,
     "metadata": {},
     "output_type": "execute_result"
    }
   ],
   "source": [
    "auc = auc.mean(axis=(1))\n",
    "auc.shape"
   ]
  },
  {
   "cell_type": "code",
   "execution_count": 95,
   "metadata": {},
   "outputs": [],
   "source": [
    "src = f\"/home/andres/repos/rat-mapping-paper/notebooks/L_CIRC/rad_selectivity_means.pkl\"\n",
    "\n",
    "with open(src, \"wb\") as f:\n",
    "    pickle.dump(auc, f)"
   ]
  },
  {
   "cell_type": "code",
   "execution_count": 46,
   "metadata": {},
   "outputs": [],
   "source": [
    "mat = auc[:, :, None] - auc[:, None, :]"
   ]
  },
  {
   "cell_type": "code",
   "execution_count": 47,
   "metadata": {},
   "outputs": [
    {
     "data": {
      "text/plain": [
       "(8, 4, 4)"
      ]
     },
     "execution_count": 47,
     "metadata": {},
     "output_type": "execute_result"
    }
   ],
   "source": [
    "mat.shape"
   ]
  },
  {
   "cell_type": "code",
   "execution_count": 48,
   "metadata": {},
   "outputs": [
    {
     "data": {
      "text/plain": [
       "[0, 1, 2, 3, 4, 5, 6, 7, 8]"
      ]
     },
     "execution_count": 48,
     "metadata": {},
     "output_type": "execute_result"
    }
   ],
   "source": [
    "vertices"
   ]
  },
  {
   "cell_type": "code",
   "execution_count": 49,
   "metadata": {},
   "outputs": [
    {
     "data": {
      "text/plain": [
       "<Axes: >"
      ]
     },
     "execution_count": 49,
     "metadata": {},
     "output_type": "execute_result"
    },
    {
     "data": {
      "image/png": "[encoded data removed]",
      "text/plain": [
       "<Figure size 640x480 with 2 Axes>"
      ]
     },
     "metadata": {},
     "output_type": "display_data"
    }
   ],
   "source": [
    "pvalues = []\n",
    "for i in range(len(diameters)):\n",
    "    for i2 in range(len(diameters)):\n",
    "        if i==i2:\n",
    "            pvalues.append(1)\n",
    "            continue\n",
    "        temp_p = stats.wilcoxon(mat[:,i,i2], axis=0).pvalue\n",
    "        pvalues.append(temp_p)\n",
    "\n",
    "pvalues = np.array(pvalues)\n",
    "pvalues = pvalues.reshape(len(diameters), len(diameters))\n",
    "\n",
    "labels = encoder_dict[\"compound_position\"].inverse_transform(diameters)\n",
    "mask = np.tril(np.ones_like(pvalues), k=0).astype(bool)\n",
    "sns.heatmap(pvalues, xticklabels=labels, yticklabels=labels, mask = mask, annot=False)\n",
    "sns.heatmap(pvalues, xticklabels=labels, yticklabels=labels, mask = mask,annot=np.round(mat.mean(axis=0).data, 3), annot_kws={'va':'top'}, fmt=\"\", cbar=False)\n",
    "sns.heatmap(pvalues, xticklabels=labels, yticklabels=labels, mask = mask,annot=np.round(pvalues, 3), annot_kws={'va':'bottom'}, fmt=\"\", cbar=False)"
   ]
  }
 ],
 "metadata": {
  "kernelspec": {
   "display_name": ".venv",
   "language": "python",
   "name": "python3"
  },
  "language_info": {
   "codemirror_mode": {
    "name": "ipython",
    "version": 3
   },
   "file_extension": ".py",
   "mimetype": "text/x-python",
   "name": "python",
   "nbconvert_exporter": "python",
   "pygments_lexer": "ipython3",
   "version": "3.11.9"
  }
 },
 "nbformat": 4,
 "nbformat_minor": 2
}
