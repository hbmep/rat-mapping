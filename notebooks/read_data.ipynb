{
 "cells": [
  {
   "cell_type": "code",
   "execution_count": 1,
   "metadata": {},
   "outputs": [
    {
     "name": "stderr",
     "output_type": "stream",
     "text": [
      "2025-01-24 11:29:43,878 - paper.utils.utils - INFO - Logging to /home/vishu/data/hbmep-processed/rat/read_data.log\n"
     ]
    }
   ],
   "source": [
    "import os\n",
    "import logging\n",
    "\n",
    "import numpy as np\n",
    "import pandas as pd\n",
    "from pandas.testing import assert_frame_equal\n",
    "\n",
    "from hbmep.config import Config\n",
    "from hbmep.model import BaseModel\n",
    "\n",
    "from paper.utils import load_rat_data, setup_logging\n",
    "\n",
    "logger = logging.getLogger(__name__)\n",
    "\n",
    "DIR = \"/mnt/hdd1/acute_mapping/proc/physio\"\n",
    "SUBJECTS = range(1, 9)\n",
    "\n",
    "DATA_DIR = \"/home/vishu/data/hbmep-processed/rat\"\n",
    "CONFIG_DIR = \"/home/vishu/repos/rat-mapping-paper/configs\"\n",
    "\n",
    "setup_logging(dir=DATA_DIR, fname=\"read_data.log\")\n"
   ]
  },
  {
   "cell_type": "code",
   "execution_count": 2,
   "metadata": {},
   "outputs": [],
   "source": [
    "def get_dirs(subdir_pattern=None):\n",
    "    d = {}\n",
    "    for subject_ind in SUBJECTS:\n",
    "        subject = f\"amap{subject_ind:002}\"\n",
    "        curr_dirs = os.listdir(\n",
    "            os.path.join(DIR, subject)\n",
    "        )\n",
    "        if subdir_pattern is not None:\n",
    "            curr_dirs = [d for d in curr_dirs if subdir_pattern in d]\n",
    "        d[subject] = sorted(curr_dirs)\n",
    "    return d\n"
   ]
  },
  {
   "cell_type": "markdown",
   "metadata": {},
   "source": [
    "# J_RCML_000"
   ]
  },
  {
   "cell_type": "code",
   "execution_count": 3,
   "metadata": {},
   "outputs": [
    {
     "data": {
      "text/plain": [
       "{'amap01': ['2023-03-13_J_RCML_000'],\n",
       " 'amap02': ['2023-03-17_J_RCML_000'],\n",
       " 'amap03': ['2023-03-21_J_RCML_000'],\n",
       " 'amap04': ['2023-03-24_J_RCML_000'],\n",
       " 'amap05': ['2023-03-27_J_RCML_000'],\n",
       " 'amap06': ['2023-03-29_J_RCML_000'],\n",
       " 'amap07': ['2023-04-03_J_RCML_000'],\n",
       " 'amap08': ['2023-04-04_J_RCML_000']}"
      ]
     },
     "execution_count": 3,
     "metadata": {},
     "output_type": "execute_result"
    }
   ],
   "source": [
    "subdir_pattern = \"J_RCML_000\"\n",
    "dirs = get_dirs(subdir_pattern=subdir_pattern)\n",
    "dirs\n"
   ]
  },
  {
   "cell_type": "code",
   "execution_count": 4,
   "metadata": {},
   "outputs": [
    {
     "name": "stderr",
     "output_type": "stream",
     "text": [
      "100%|█████████████████████████████████████████████████████████████████| 8/8 [00:02<00:00,  3.05it/s]\n",
      "2025-01-13 13:13:35,099 - hbmep.utils.utils - INFO - func:load_rat_data took: 2.63 sec\n"
     ]
    }
   ],
   "source": [
    "subdir_pattern = [\"*J_RCML_000*\"]\n",
    "df, mat, time, auc_window, muscles_map = load_rat_data(\n",
    "    dir=DIR, subdir_pattern=subdir_pattern, subjects=SUBJECTS\n",
    ")\n"
   ]
  },
  {
   "cell_type": "code",
   "execution_count": null,
   "metadata": {},
   "outputs": [],
   "source": [
    "# # Verify\n",
    "# _dir = os.path.join(DATA_DIR, \"J_RCML\")\n",
    "# src = os.path.join(_dir, \"data.csv\")\n",
    "# _df = pd.read_csv(src)\n",
    "# src = os.path.join(_dir, \"mat.npy\")\n",
    "# _mat = np.load(src)\n",
    "# assert_frame_equal(df, _df)\n",
    "# assert (mat == _mat).all()\n"
   ]
  },
  {
   "cell_type": "code",
   "execution_count": 5,
   "metadata": {},
   "outputs": [
    {
     "name": "stderr",
     "output_type": "stream",
     "text": [
      "2025-01-13 13:13:35,125 - hbmep.model.baseline - INFO - Initialized base_model\n",
      "2025-01-13 13:13:35,125 - hbmep.dataset.core - INFO - Artefacts will be stored here - /home/vishu/data/hbmep-processed/rat/J_RCML\n",
      "2025-01-13 13:13:35,127 - hbmep.dataset.core - INFO - Processing data ...\n",
      "2025-01-13 13:13:35,128 - hbmep.utils.utils - INFO - func:load took: 0.00 sec\n",
      "2025-01-13 13:13:35,129 - hbmep.plotter.core - INFO - Rendering dataset ...\n",
      "2025-01-13 13:13:35,987 - hbmep.plotter.core - INFO - Page 1 of 15 done.\n",
      "2025-01-13 13:13:39,163 - hbmep.plotter.core - INFO - Page 2 of 15 done.\n",
      "2025-01-13 13:13:42,357 - hbmep.plotter.core - INFO - Page 3 of 15 done.\n",
      "2025-01-13 13:13:45,766 - hbmep.plotter.core - INFO - Page 4 of 15 done.\n",
      "2025-01-13 13:13:49,390 - hbmep.plotter.core - INFO - Page 5 of 15 done.\n",
      "2025-01-13 13:13:52,968 - hbmep.plotter.core - INFO - Page 6 of 15 done.\n",
      "2025-01-13 13:13:56,473 - hbmep.plotter.core - INFO - Page 7 of 15 done.\n",
      "2025-01-13 13:13:59,536 - hbmep.plotter.core - INFO - Page 8 of 15 done.\n",
      "2025-01-13 13:14:02,777 - hbmep.plotter.core - INFO - Page 9 of 15 done.\n",
      "2025-01-13 13:14:05,824 - hbmep.plotter.core - INFO - Page 10 of 15 done.\n",
      "2025-01-13 13:14:09,783 - hbmep.plotter.core - INFO - Page 11 of 15 done.\n",
      "2025-01-13 13:14:13,238 - hbmep.plotter.core - INFO - Page 12 of 15 done.\n",
      "2025-01-13 13:14:16,424 - hbmep.plotter.core - INFO - Page 13 of 15 done.\n",
      "2025-01-13 13:14:20,198 - hbmep.plotter.core - INFO - Page 14 of 15 done.\n",
      "2025-01-13 13:14:23,154 - hbmep.plotter.core - INFO - Page 15 of 15 done.\n",
      "2025-01-13 13:14:25,427 - hbmep.plotter.core - INFO - Saved to /home/vishu/data/hbmep-processed/rat/J_RCML/dataset.pdf\n",
      "2025-01-13 13:14:25,427 - hbmep.utils.utils - INFO - func:plot took: 50.30 sec\n"
     ]
    }
   ],
   "source": [
    "# Plot dataset\n",
    "toml_path = os.path.join(CONFIG_DIR, \"J_RCML_000.toml\")\n",
    "config = Config(toml_path=toml_path)\n",
    "config.BUILD_DIR = os.path.join(DATA_DIR, \"J_RCML\")\n",
    "model = BaseModel(config=config)\n",
    "\n",
    "df, encoder_dict = model.load(df=df)\n",
    "model.plot(df=df, encoder_dict=encoder_dict)\n"
   ]
  },
  {
   "cell_type": "markdown",
   "metadata": {},
   "source": [
    "# L_CIRC"
   ]
  },
  {
   "cell_type": "code",
   "execution_count": 4,
   "metadata": {},
   "outputs": [
    {
     "data": {
      "text/plain": [
       "{'amap01': ['2023-03-13_L_CIRC_000'],\n",
       " 'amap02': ['2023-03-17_L_CIRC_000'],\n",
       " 'amap03': ['2023-03-21_L_CIRC_000'],\n",
       " 'amap04': ['2023-03-24_L_CIRC_000'],\n",
       " 'amap05': ['2023-03-27_L_CIRC_000'],\n",
       " 'amap06': ['2023-03-29_L_CIRC_000', '2023-03-29_L_CIRC_001'],\n",
       " 'amap07': ['2023-04-03_L_CIRC_000'],\n",
       " 'amap08': ['2023-04-04_L_CIRC_000']}"
      ]
     },
     "execution_count": 4,
     "metadata": {},
     "output_type": "execute_result"
    }
   ],
   "source": [
    "subdir_pattern = \"L_CIRC\"\n",
    "dirs = get_dirs(subdir_pattern=subdir_pattern)\n",
    "dirs\n"
   ]
  },
  {
   "cell_type": "code",
   "execution_count": 5,
   "metadata": {},
   "outputs": [
    {
     "name": "stderr",
     "output_type": "stream",
     "text": [
      "100%|███████████████████████████████████████████████████████████████████████████████████████████████████████████████████████████████████████████████████████████████████████████████████████████████████████████████████████| 8/8 [00:03<00:00,  2.51it/s]\n",
      "2025-01-23 09:45:40,251 - hbmep.utils.utils - INFO - func:load_rat_data took: 3.19 sec\n"
     ]
    }
   ],
   "source": [
    "subdir_pattern = [\"*L_CIRC*\"]\n",
    "df, mat, time, auc_window, muscles_map = load_rat_data(\n",
    "    dir=DIR, subdir_pattern=subdir_pattern, subjects=SUBJECTS\n",
    ")\n"
   ]
  },
  {
   "cell_type": "code",
   "execution_count": null,
   "metadata": {},
   "outputs": [],
   "source": [
    "# # Save\n",
    "# build_dir = os.path.join(DATA_DIR, \"L_CIRC\")\n",
    "# os.makedirs(build_dir, exist_ok=True)\n",
    "# dest = os.path.join(build_dir, \"data.csv\")\n",
    "# df.to_csv(dest, index=False)\n",
    "# dest = os.path.join(build_dir, \"mat.npy\")\n",
    "# np.save(dest, mat)\n",
    "\n",
    "# # Verify\n",
    "# _dir = os.path.join(DATA_DIR, \"L_CIRC\")\n",
    "# src = os.path.join(_dir, \"data.csv\")\n",
    "# _df = pd.read_csv(src)\n",
    "# src = os.path.join(_dir, \"mat.npy\")\n",
    "# _mat = np.load(src)\n",
    "# assert_frame_equal(df, _df)\n",
    "# assert (mat == _mat).all()\n"
   ]
  },
  {
   "cell_type": "code",
   "execution_count": 10,
   "metadata": {},
   "outputs": [
    {
     "name": "stderr",
     "output_type": "stream",
     "text": [
      "2025-01-23 09:48:25,329 - hbmep.model.baseline - INFO - Initialized base_model\n",
      "2025-01-23 09:48:25,330 - hbmep.dataset.core - INFO - Artefacts will be stored here - /home/vishu/data/hbmep-processed/rat/L_CIRC\n",
      "2025-01-23 09:48:25,331 - hbmep.dataset.core - INFO - Processing data ...\n",
      "2025-01-23 09:48:25,333 - hbmep.utils.utils - INFO - func:load took: 0.00 sec\n",
      "2025-01-23 09:48:25,333 - hbmep.plotter.core - INFO - Rendering dataset ...\n",
      "2025-01-23 09:48:27,064 - hbmep.plotter.core - INFO - Page 1 of 17 done.\n",
      "2025-01-23 09:48:34,120 - hbmep.plotter.core - INFO - Page 2 of 17 done.\n",
      "2025-01-23 09:48:41,524 - hbmep.plotter.core - INFO - Page 3 of 17 done.\n",
      "2025-01-23 09:48:48,902 - hbmep.plotter.core - INFO - Page 4 of 17 done.\n",
      "2025-01-23 09:48:56,380 - hbmep.plotter.core - INFO - Page 5 of 17 done.\n",
      "2025-01-23 09:49:04,094 - hbmep.plotter.core - INFO - Page 6 of 17 done.\n",
      "2025-01-23 09:49:11,199 - hbmep.plotter.core - INFO - Page 7 of 17 done.\n",
      "2025-01-23 09:49:20,375 - hbmep.plotter.core - INFO - Page 8 of 17 done.\n",
      "2025-01-23 09:49:30,482 - hbmep.plotter.core - INFO - Page 9 of 17 done.\n",
      "2025-01-23 09:49:38,986 - hbmep.plotter.core - INFO - Page 10 of 17 done.\n",
      "2025-01-23 09:49:48,406 - hbmep.plotter.core - INFO - Page 11 of 17 done.\n",
      "2025-01-23 09:49:57,779 - hbmep.plotter.core - INFO - Page 12 of 17 done.\n",
      "2025-01-23 09:50:09,757 - hbmep.plotter.core - INFO - Page 13 of 17 done.\n",
      "2025-01-23 09:50:19,582 - hbmep.plotter.core - INFO - Page 14 of 17 done.\n",
      "2025-01-23 09:50:30,327 - hbmep.plotter.core - INFO - Page 15 of 17 done.\n",
      "2025-01-23 09:50:38,714 - hbmep.plotter.core - INFO - Page 16 of 17 done.\n",
      "2025-01-23 09:50:45,902 - hbmep.plotter.core - INFO - Page 17 of 17 done.\n",
      "2025-01-23 09:50:50,724 - hbmep.plotter.core - INFO - Saved to /home/vishu/data/hbmep-processed/rat/L_CIRC/dataset.pdf\n",
      "2025-01-23 09:50:50,724 - hbmep.utils.utils - INFO - func:plot took: 2 min and 25.39 sec\n"
     ]
    }
   ],
   "source": [
    "# Plot dataset\n",
    "toml_path = os.path.join(CONFIG_DIR, \"L_CIRC.toml\")\n",
    "config = Config(toml_path=toml_path)\n",
    "config.BUILD_DIR = os.path.join(DATA_DIR, \"L_CIRC\")\n",
    "model = BaseModel(config=config)\n",
    "\n",
    "df, encoder_dict = model.load(df=df)\n",
    "model.plot(df=df, encoder_dict=encoder_dict, mep_matrix=mat)\n"
   ]
  },
  {
   "cell_type": "markdown",
   "metadata": {},
   "source": [
    "# L_SHIE"
   ]
  },
  {
   "cell_type": "code",
   "execution_count": 3,
   "metadata": {},
   "outputs": [
    {
     "data": {
      "text/plain": [
       "{'amap01': ['2023-03-13_L_SHIE_000'],\n",
       " 'amap02': ['2023-03-17_L_SHIE_000', '2023-03-17_L_SHIE_001'],\n",
       " 'amap03': ['2023-03-21_L_SHIE_000'],\n",
       " 'amap04': ['2023-03-24_L_SHIE_000'],\n",
       " 'amap05': ['2023-03-27_L_SHIE_000'],\n",
       " 'amap06': ['2023-03-29_L_SHIE_000'],\n",
       " 'amap07': ['2023-04-03_L_SHIE_000'],\n",
       " 'amap08': ['2023-04-04_L_SHIE_000']}"
      ]
     },
     "execution_count": 3,
     "metadata": {},
     "output_type": "execute_result"
    }
   ],
   "source": [
    "subdir_pattern = \"L_SHIE\"\n",
    "dirs = get_dirs(subdir_pattern=subdir_pattern)\n",
    "dirs\n"
   ]
  },
  {
   "cell_type": "code",
   "execution_count": 4,
   "metadata": {},
   "outputs": [
    {
     "name": "stderr",
     "output_type": "stream",
     "text": [
      "100%|███████████████████████████████████████████████████████████████████████████████████████████████████████████████████████████████████████████████████████████████████████████████████████████████████████████████████████| 8/8 [00:01<00:00,  5.15it/s]\n",
      "2025-01-24 11:30:04,674 - hbmep.utils.utils - INFO - func:load_rat_data took: 1.56 sec\n"
     ]
    }
   ],
   "source": [
    "subdir_pattern = [\"*L_SHIE*\"]\n",
    "df, mat, time, auc_window, muscles_map = load_rat_data(\n",
    "    dir=DIR, subdir_pattern=subdir_pattern, subjects=SUBJECTS\n",
    ")\n"
   ]
  },
  {
   "cell_type": "code",
   "execution_count": null,
   "metadata": {},
   "outputs": [],
   "source": [
    "# # Verify\n",
    "# _dir = os.path.join(DATA_DIR, \"L_SHIE\")\n",
    "# src = os.path.join(_dir, \"data.csv\")\n",
    "# _df = pd.read_csv(src)\n",
    "# src = os.path.join(_dir, \"mat.npy\")\n",
    "# _mat = np.load(src)\n",
    "# assert_frame_equal(df, _df)\n",
    "# assert (mat == _mat).all()\n"
   ]
  },
  {
   "cell_type": "code",
   "execution_count": 5,
   "metadata": {},
   "outputs": [
    {
     "name": "stderr",
     "output_type": "stream",
     "text": [
      "2025-01-24 11:30:07,919 - hbmep.model.baseline - INFO - Initialized base_model\n",
      "2025-01-24 11:30:07,920 - hbmep.dataset.core - INFO - Artefacts will be stored here - /home/vishu/data/hbmep-processed/rat/L_SHIE\n",
      "2025-01-24 11:30:07,924 - hbmep.dataset.core - INFO - Processing data ...\n",
      "2025-01-24 11:30:07,927 - hbmep.utils.utils - INFO - func:load took: 0.01 sec\n",
      "2025-01-24 11:30:07,928 - hbmep.plotter.core - INFO - Rendering dataset ...\n",
      "2025-01-24 11:30:11,526 - hbmep.plotter.core - INFO - Page 1 of 7 done.\n",
      "2025-01-24 11:30:21,079 - hbmep.plotter.core - INFO - Page 2 of 7 done.\n",
      "2025-01-24 11:30:33,616 - hbmep.plotter.core - INFO - Page 3 of 7 done.\n",
      "2025-01-24 11:30:45,705 - hbmep.plotter.core - INFO - Page 4 of 7 done.\n",
      "2025-01-24 11:30:58,822 - hbmep.plotter.core - INFO - Page 5 of 7 done.\n",
      "2025-01-24 11:31:22,143 - hbmep.plotter.core - INFO - Page 6 of 7 done.\n",
      "2025-01-24 11:31:34,694 - hbmep.plotter.core - INFO - Page 7 of 7 done.\n",
      "2025-01-24 11:31:37,113 - hbmep.plotter.core - INFO - Saved to /home/vishu/data/hbmep-processed/rat/L_SHIE/dataset.pdf\n",
      "2025-01-24 11:31:37,114 - hbmep.utils.utils - INFO - func:plot took: 1 min and 29.19 sec\n"
     ]
    }
   ],
   "source": [
    "# Plot dataset\n",
    "toml_path = os.path.join(CONFIG_DIR, \"L_SHIE.toml\")\n",
    "config = Config(toml_path=toml_path)\n",
    "config.BUILD_DIR = os.path.join(DATA_DIR, \"L_SHIE\")\n",
    "model = BaseModel(config=config)\n",
    "\n",
    "df, encoder_dict = model.load(df=df)\n",
    "model.plot(df=df, encoder_dict=encoder_dict, mep_matrix=mat)\n"
   ]
  },
  {
   "cell_type": "markdown",
   "metadata": {},
   "source": [
    "# J_SHAP"
   ]
  },
  {
   "cell_type": "code",
   "execution_count": 10,
   "metadata": {},
   "outputs": [
    {
     "data": {
      "text/plain": [
       "{'amap01': ['2023-03-13_J_SHAP_000', '2023-03-13_J_SHAP_001'],\n",
       " 'amap02': ['2023-03-17_J_SHAP_000', '2023-03-17_J_SHAP_001'],\n",
       " 'amap03': ['2023-03-21_J_SHAP_000', '2023-03-21_J_SHAP_001'],\n",
       " 'amap04': ['2023-03-24_J_SHAP_000', '2023-03-24_J_SHAP_001'],\n",
       " 'amap05': ['2023-03-27_J_SHAP_000', '2023-03-27_J_SHAP_001'],\n",
       " 'amap06': ['2023-03-29_J_SHAP_000', '2023-03-29_J_SHAP_001'],\n",
       " 'amap07': ['2023-04-03_J_SHAP_000', '2023-04-03_J_SHAP_001'],\n",
       " 'amap08': ['2023-04-04_J_SHAP_000', '2023-04-04_J_SHAP_001']}"
      ]
     },
     "execution_count": 10,
     "metadata": {},
     "output_type": "execute_result"
    }
   ],
   "source": [
    "subdir_pattern = \"J_SHAP\"\n",
    "dirs = get_dirs(subdir_pattern=subdir_pattern)\n",
    "dirs\n"
   ]
  },
  {
   "cell_type": "code",
   "execution_count": 11,
   "metadata": {},
   "outputs": [
    {
     "name": "stderr",
     "output_type": "stream",
     "text": [
      "100%|█████████████████████████████████████████████████████████████████| 8/8 [00:07<00:00,  1.12it/s]\n"
     ]
    }
   ],
   "source": [
    "subdir_pattern = [\"*J_SHAP*\"]\n",
    "df, mat, time, auc_window, muscles_map = load_rat_data(\n",
    "    dir=DIR, subdir_pattern=subdir_pattern, subjects=SUBJECTS\n",
    ")\n",
    "\n",
    "df.pulse_amplitude = (\n",
    "    df\n",
    "    .apply(\n",
    "        lambda x: (x.pulse_amplitude * 4) if x.compound_charge_params == \"80-0-20-400\" else x.pulse_amplitude,\n",
    "        axis=1\n",
    "    )\n",
    ")\n"
   ]
  },
  {
   "cell_type": "code",
   "execution_count": null,
   "metadata": {},
   "outputs": [],
   "source": [
    "# # checksum\n",
    "# src = \"/home/vishu/data/hbmep-processed/rat-archived/J_SHAP/data.csv\"\n",
    "# _df = pd.read_csv(src)\n",
    "# src = \"/home/vishu/data/hbmep-processed/rat-archived/J_SHAP/mat.npy\"\n",
    "# _mat = np.load(src)\n",
    "# assert_frame_equal(df, _df)\n",
    "# assert (mat == _mat).all()\n",
    "\n",
    "# # Save\n",
    "# BUILD_DIR = J_SHAP_DIR\n",
    "# os.makedirs(BUILD_DIR, exist_ok=True)\n",
    "# dest = os.path.join(BUILD_DIR, \"data.csv\")\n",
    "# df.to_csv(dest, index=False)\n",
    "# dest = os.path.join(BUILD_DIR, \"mat.npy\")\n",
    "# np.save(dest, mat)\n"
   ]
  },
  {
   "cell_type": "code",
   "execution_count": 13,
   "metadata": {},
   "outputs": [
    {
     "ename": "AssertionError",
     "evalue": "Attributes of DataFrame.iloc[:, 39] (column name=\"compound_position\") are different\n\nAttribute \"dtype\" are different\n[left]:  int64\n[right]: object",
     "output_type": "error",
     "traceback": [
      "\u001b[0;31m---------------------------------------------------------------------------\u001b[0m",
      "\u001b[0;31mAssertionError\u001b[0m                            Traceback (most recent call last)",
      "Cell \u001b[0;32mIn[13], line 7\u001b[0m\n\u001b[1;32m      5\u001b[0m src \u001b[38;5;241m=\u001b[39m os\u001b[38;5;241m.\u001b[39mpath\u001b[38;5;241m.\u001b[39mjoin(_dir, \u001b[38;5;124m\"\u001b[39m\u001b[38;5;124mmat.npy\u001b[39m\u001b[38;5;124m\"\u001b[39m)\n\u001b[1;32m      6\u001b[0m _mat \u001b[38;5;241m=\u001b[39m np\u001b[38;5;241m.\u001b[39mload(src)\n\u001b[0;32m----> 7\u001b[0m \u001b[43massert_frame_equal\u001b[49m\u001b[43m(\u001b[49m\u001b[43mdf\u001b[49m\u001b[43m,\u001b[49m\u001b[43m \u001b[49m\u001b[43m_df\u001b[49m\u001b[43m)\u001b[49m\n\u001b[1;32m      8\u001b[0m \u001b[38;5;28;01massert\u001b[39;00m (mat \u001b[38;5;241m==\u001b[39m _mat)\u001b[38;5;241m.\u001b[39mall()\n",
      "    \u001b[0;31m[... skipping hidden 3 frame]\u001b[0m\n",
      "File \u001b[0;32m~/repos/rat-mapping-paper/.venv/lib/python3.11/site-packages/pandas/_testing/asserters.py:599\u001b[0m, in \u001b[0;36mraise_assert_detail\u001b[0;34m(obj, message, left, right, diff, first_diff, index_values)\u001b[0m\n\u001b[1;32m    596\u001b[0m \u001b[38;5;28;01mif\u001b[39;00m first_diff \u001b[38;5;129;01mis\u001b[39;00m \u001b[38;5;129;01mnot\u001b[39;00m \u001b[38;5;28;01mNone\u001b[39;00m:\n\u001b[1;32m    597\u001b[0m     msg \u001b[38;5;241m+\u001b[39m\u001b[38;5;241m=\u001b[39m \u001b[38;5;124mf\u001b[39m\u001b[38;5;124m\"\u001b[39m\u001b[38;5;130;01m\\n\u001b[39;00m\u001b[38;5;132;01m{\u001b[39;00mfirst_diff\u001b[38;5;132;01m}\u001b[39;00m\u001b[38;5;124m\"\u001b[39m\n\u001b[0;32m--> 599\u001b[0m \u001b[38;5;28;01mraise\u001b[39;00m \u001b[38;5;167;01mAssertionError\u001b[39;00m(msg)\n",
      "\u001b[0;31mAssertionError\u001b[0m: Attributes of DataFrame.iloc[:, 39] (column name=\"compound_position\") are different\n\nAttribute \"dtype\" are different\n[left]:  int64\n[right]: object"
     ]
    }
   ],
   "source": [
    "# Verify\n",
    "_dir = os.path.join(DATA_DIR, \"J_SHAP\")\n",
    "src = os.path.join(_dir, \"data.csv\")\n",
    "_df = pd.read_csv(src)\n",
    "src = os.path.join(_dir, \"mat.npy\")\n",
    "_mat = np.load(src)\n",
    "assert_frame_equal(df, _df)\n",
    "assert (mat == _mat).all()\n"
   ]
  },
  {
   "cell_type": "code",
   "execution_count": 12,
   "metadata": {},
   "outputs": [],
   "source": [
    "# Plot dataset\n",
    "toml_path = os.path.join(CONFIG_DIR, \"J_SHAP.toml\")\n",
    "config = Config(toml_path=toml_path)\n",
    "config.BUILD_DIR = os.path.join(DATA_DIR, \"J_SHAP\")\n",
    "model = BaseModel(config=config)\n",
    "\n",
    "df, encoder_dict = model.load(df=df)\n",
    "model.plot(df=df, encoder_dict=encoder_dict)\n"
   ]
  },
  {
   "cell_type": "code",
   "execution_count": null,
   "metadata": {},
   "outputs": [],
   "source": []
  }
 ],
 "metadata": {
  "kernelspec": {
   "display_name": "Python 3 (ipykernel)",
   "language": "python",
   "name": "python3"
  },
  "language_info": {
   "codemirror_mode": {
    "name": "ipython",
    "version": 3
   },
   "file_extension": ".py",
   "mimetype": "text/x-python",
   "name": "python",
   "nbconvert_exporter": "python",
   "pygments_lexer": "ipython3",
   "version": "3.11.9"
  }
 },
 "nbformat": 4,
 "nbformat_minor": 2
}
