{
 "cells": [
  {
   "cell_type": "code",
   "execution_count": 1,
   "metadata": {},
   "outputs": [],
   "source": [
    "import os\n",
    "\n",
    "from paper.utils import setup_logging\n",
    "\n",
    "from paper.utils import load_rat_data\n",
    "\n",
    "\n",
    "DIR = \"/mount/hdd1/acute_mapping/proc/physio\"\n",
    "SUBJECTS = range(1, 9)\n"
   ]
  },
  {
   "cell_type": "code",
   "execution_count": 2,
   "metadata": {},
   "outputs": [
    {
     "data": {
      "text/plain": [
       "75"
      ]
     },
     "execution_count": 2,
     "metadata": {},
     "output_type": "execute_result"
    }
   ],
   "source": [
    "unique_subdirs = []\n",
    "\n",
    "for subject in SUBJECTS:\n",
    "    curr_dir = os.path.join(DIR, f\"amap{subject:002}\")\n",
    "    unique_subdirs += os.listdir(curr_dir)\n",
    "\n",
    "unique_subdirs = list(set(unique_subdirs))\n",
    "len(unique_subdirs)\n"
   ]
  },
  {
   "cell_type": "markdown",
   "metadata": {},
   "source": [
    "## J device\n",
    "\n",
    "    1. J_RCML_000   -- J_RCML\n",
    "\n",
    "    2. J_SHAP_000   -- J_SHAP\n",
    "    3. J_SHAP_001   -- J_SHAP\n",
    "\n"
   ]
  },
  {
   "cell_type": "code",
   "execution_count": 3,
   "metadata": {},
   "outputs": [
    {
     "data": {
      "text/plain": [
       "32"
      ]
     },
     "execution_count": 3,
     "metadata": {},
     "output_type": "execute_result"
    }
   ],
   "source": [
    "j_dirs = [d for d in unique_subdirs if \"J\" in d]\n",
    "len(j_dirs)\n"
   ]
  },
  {
   "cell_type": "code",
   "execution_count": 4,
   "metadata": {},
   "outputs": [
    {
     "name": "stdout",
     "output_type": "stream",
     "text": [
      "16\n"
     ]
    },
    {
     "data": {
      "text/plain": [
       "['2023-04-04_J_RCML_002_J1_lateral',\n",
       " '2023-04-04_J_RCML_005_J7_lateral',\n",
       " '2023-03-29_J_RCML_000',\n",
       " '2023-03-27_J_RCML_000',\n",
       " '2023-04-03_J_RCML_002_mid',\n",
       " '2023-03-17_J_RCML_000',\n",
       " '2023-03-13_J_RCML_000',\n",
       " '2023-04-03_J_RCML_003_norm',\n",
       " '2023-04-04_J_RCML_000',\n",
       " '2023-03-21_J_RCML_000',\n",
       " '2023-04-03_J_RCML_000',\n",
       " '2023-04-04_J_RCML_004_J7_midline',\n",
       " '2023-04-04_J_RCML_001_J1_midline',\n",
       " '2023-03-24_J_RCML_000',\n",
       " '2023-04-04_J_RCML_003_J7_reduced',\n",
       " '2023-04-03_J_RCML_001_lat']"
      ]
     },
     "execution_count": 4,
     "metadata": {},
     "output_type": "execute_result"
    }
   ],
   "source": [
    "j_rcml_dirs = [d for d in j_dirs if \"RCML\" in d]\n",
    "print(len(j_rcml_dirs))\n",
    "\n",
    "j_rcml_dirs\n"
   ]
  },
  {
   "cell_type": "code",
   "execution_count": 5,
   "metadata": {},
   "outputs": [
    {
     "name": "stdout",
     "output_type": "stream",
     "text": [
      "16\n"
     ]
    },
    {
     "data": {
      "text/plain": [
       "['2023-03-29_J_SHAP_000',\n",
       " '2023-04-04_J_SHAP_001',\n",
       " '2023-03-21_J_SHAP_000',\n",
       " '2023-03-24_J_SHAP_000',\n",
       " '2023-03-17_J_SHAP_000',\n",
       " '2023-03-27_J_SHAP_001',\n",
       " '2023-03-13_J_SHAP_001',\n",
       " '2023-03-17_J_SHAP_001',\n",
       " '2023-04-04_J_SHAP_000',\n",
       " '2023-03-13_J_SHAP_000',\n",
       " '2023-04-03_J_SHAP_000',\n",
       " '2023-03-24_J_SHAP_001',\n",
       " '2023-03-21_J_SHAP_001',\n",
       " '2023-03-29_J_SHAP_001',\n",
       " '2023-04-03_J_SHAP_001',\n",
       " '2023-03-27_J_SHAP_000']"
      ]
     },
     "execution_count": 5,
     "metadata": {},
     "output_type": "execute_result"
    }
   ],
   "source": [
    "j_shap_dirs = [d for d in j_dirs if \"SHAP\" in d]\n",
    "print(len(j_shap_dirs))\n",
    "\n",
    "j_shap_dirs\n"
   ]
  },
  {
   "cell_type": "markdown",
   "metadata": {},
   "source": [
    "### J_RCML data"
   ]
  },
  {
   "cell_type": "code",
   "execution_count": 6,
   "metadata": {},
   "outputs": [
    {
     "name": "stderr",
     "output_type": "stream",
     "text": [
      "100%|█████████████████████████████████████████████████████████████████████████████████████| 8/8 [00:02<00:00,  2.74it/s]\n"
     ]
    }
   ],
   "source": [
    "subdir_pattern = [\"*J_RCML_000*\"]\n",
    "subjects = range(1, 9)\n",
    "\n",
    "df, mat, time, auc_window, muscles_map = load_rat_data(\n",
    "    dir=DIR, subdir_pattern=subdir_pattern, subjects=SUBJECTS\n",
    ")\n"
   ]
  },
  {
   "cell_type": "markdown",
   "metadata": {},
   "source": [
    "### J_SHAP data"
   ]
  },
  {
   "cell_type": "code",
   "execution_count": 7,
   "metadata": {},
   "outputs": [
    {
     "name": "stderr",
     "output_type": "stream",
     "text": [
      "100%|█████████████████████████████████████████████████████████████████████████████████████| 8/8 [00:06<00:00,  1.24it/s]\n"
     ]
    }
   ],
   "source": [
    "subdir_pattern = [\"*J_SHAP*\"]\n",
    "\n",
    "df, mat, time, auc_window, muscles_map = load_rat_data(\n",
    "    dir=DIR, subdir_pattern=subdir_pattern, subjects=SUBJECTS\n",
    ")\n",
    "\n",
    "df.pulse_amplitude = df.apply(\n",
    "        lambda x: (x.pulse_amplitude * 4)\n",
    "        if x.compound_charge_params == \"80-0-20-400\"\n",
    "        else x.pulse_amplitude,\n",
    "        axis=1\n",
    "    )\n"
   ]
  },
  {
   "cell_type": "code",
   "execution_count": 12,
   "metadata": {},
   "outputs": [],
   "source": [
    "import numpy as np\n",
    "import pandas as pd\n",
    "from pandas.testing import assert_frame_equal\n",
    "\n",
    "\n",
    "src = \"/home/vishu/data/hbmep-processed/rat/J_SHAP/data.csv\"\n",
    "comp_df = pd.read_csv(src)\n",
    "comp_df = comp_df.rename(columns=muscles_map).copy()\n",
    "\n",
    "src = \"/home/vishu/data/hbmep-processed/rat/J_SHAP/mat.npy\"\n",
    "comp_mat = np.load(src)\n"
   ]
  },
  {
   "cell_type": "code",
   "execution_count": 13,
   "metadata": {},
   "outputs": [],
   "source": [
    "assert_frame_equal(df, comp_df)\n"
   ]
  },
  {
   "cell_type": "code",
   "execution_count": 14,
   "metadata": {},
   "outputs": [
    {
     "data": {
      "text/plain": [
       "True"
      ]
     },
     "execution_count": 14,
     "metadata": {},
     "output_type": "execute_result"
    }
   ],
   "source": [
    "(mat == comp_mat).all()\n"
   ]
  },
  {
   "cell_type": "code",
   "execution_count": null,
   "metadata": {},
   "outputs": [],
   "source": []
  }
 ],
 "metadata": {
  "kernelspec": {
   "display_name": "Python 3 (ipykernel)",
   "language": "python",
   "name": "python3"
  },
  "language_info": {
   "codemirror_mode": {
    "name": "ipython",
    "version": 3
   },
   "file_extension": ".py",
   "mimetype": "text/x-python",
   "name": "python",
   "nbconvert_exporter": "python",
   "pygments_lexer": "ipython3",
   "version": "3.11.9"
  }
 },
 "nbformat": 4,
 "nbformat_minor": 2
}
